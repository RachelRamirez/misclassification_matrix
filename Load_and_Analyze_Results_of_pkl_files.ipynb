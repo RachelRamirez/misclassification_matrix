{
  "nbformat": 4,
  "nbformat_minor": 0,
  "metadata": {
    "colab": {
      "provenance": [],
      "authorship_tag": "ABX9TyO8n1tFuJfHFheL6Sv1ZfCS",
      "include_colab_link": true
    },
    "kernelspec": {
      "name": "python3",
      "display_name": "Python 3"
    },
    "language_info": {
      "name": "python"
    }
  },
  "cells": [
    {
      "cell_type": "markdown",
      "metadata": {
        "id": "view-in-github",
        "colab_type": "text"
      },
      "source": [
        "<a href=\"https://colab.research.google.com/github/RachelRamirez/misclassification_matrix/blob/main/Load_and_Analyze_Results_of_pkl_files.ipynb\" target=\"_parent\"><img src=\"https://colab.research.google.com/assets/colab-badge.svg\" alt=\"Open In Colab\"/></a>"
      ]
    },
    {
      "cell_type": "markdown",
      "source": [
        "Load Results\n",
        "\n",
        "I have a lot of pickle files.  Let's see if I can load them all up and put in a csv format."
      ],
      "metadata": {
        "id": "PaeHBLgDLEbM"
      }
    },
    {
      "cell_type": "code",
      "source": [
        "from google.colab import drive\n",
        "drive.mount('/content/drive')"
      ],
      "metadata": {
        "id": "Qwl3UxhpLECp",
        "colab": {
          "base_uri": "https://localhost:8080/"
        },
        "outputId": "e2eaedde-ddf2-447a-af18-63cf31c8127a"
      },
      "execution_count": null,
      "outputs": [
        {
          "output_type": "stream",
          "name": "stdout",
          "text": [
            "Drive already mounted at /content/drive; to attempt to forcibly remount, call drive.mount(\"/content/drive\", force_remount=True).\n"
          ]
        }
      ]
    },
    {
      "cell_type": "code",
      "source": [
        "import numpy as np"
      ],
      "metadata": {
        "id": "tuUF7Fl1VDgI"
      },
      "execution_count": null,
      "outputs": []
    },
    {
      "cell_type": "code",
      "source": [
        "# After executing the cell above, Drive\n",
        "# files will be present in \"/content/drive/My Drive\".\n",
        "# !ls \"/content/drive/My Drive/Con3\"\n",
        "\n",
        "path = \"/content/drive/MyDrive/Con3/\"\n",
        "\n",
        "# file_name = \"delete_later.pkl\"\n",
        "\n",
        "import pickle \n",
        "\n",
        "import os\n",
        "\n",
        "dir = path\n",
        "\n",
        "dict_of_run_files = {}\n",
        "\n",
        "count = 0\n",
        "for file in os.listdir(path):\n",
        "  if file.endswith(\".pkl\") and file.startswith(\"run\"):\n",
        "    # myfunction(file)\n",
        "    with open(path + file, 'rb') as handle:\n",
        "    # Call load method to deserialze\n",
        "      dict_of_run_files[file] = pickle.load(handle)\n",
        "      # list_of_files.extend(value for name, value in sorted(os.listdir(path)).items(), key=lambda item: item[0]) if name.startswith('run')\n",
        "      count+=1 \n",
        "      # print(unpickled_object == variable_to_be_deleted)\n",
        "      # print(count, \". \", file, \" was saved to dict_of_run_files. \")\n",
        "\n",
        "      "
      ],
      "metadata": {
        "id": "EgWoXskENjTV"
      },
      "execution_count": null,
      "outputs": []
    },
    {
      "cell_type": "markdown",
      "source": [
        "How to get into the \"dict_of_run_files\" variable and dig out each of the contents we need in each pickle file.\n",
        "\n",
        "We need at least the following information in a dataframe:"
      ],
      "metadata": {
        "id": "TMObembs7Ayj"
      }
    },
    {
      "cell_type": "markdown",
      "source": [
        "UniqueID | Date_Time |  Run | Rep | Lambda = (i,j,k) | Num of Epochs = (E1, E2, E3) | EarlyStop Patience = (P1, P2, P3) | Train/Val Accuracy | # of Misclassifications of [9t, 4p] | # Reverse Misclassifications | Final CM | Seed1 | Seed2 \n",
        "-- | -- | --| --| --| --| --| --| -- | --| --| --| --\n",
        "int | string | int | int | tuple | tuple | tuple | float | int | int | (1,100) (1,100), (1,100) | int | int\n",
        "\n",
        "\n",
        "\n"
      ],
      "metadata": {
        "id": "VoLDrqp_6wjk"
      }
    },
    {
      "cell_type": "markdown",
      "source": [
        "Unique ID can come later from just the order of the index or the key-name-of the file since each one has a unique last file_name.\n",
        "\n",
        "Date_Time can come from the last part of the file name string, although in hind sight would have been nice to save to the admin key\n",
        "\n",
        "Run really can't be a trusted Run Number anymore since I had some trouble with it, but can be cleaned up based off the lambda-epochs-patience values.\n",
        "\n",
        "Rep is Rep specified in the Dictionary.\n",
        "\n"
      ],
      "metadata": {
        "id": "lC5sDUf27XqE"
      }
    },
    {
      "cell_type": "code",
      "source": [
        "# dict_of_run_files.keys()\n",
        "# An example of a key is 'run1_rep_1_w[9,4]_L_1_1_1_E_5_5_25_P_0_0_25__2023_03_09_1329_.pkl'\n",
        "\n",
        "import pandas as pd\n",
        "data = pd.DataFrame()\n",
        "\n",
        "# I later had the great idea of adding an admin file so some files have it some don't.\n",
        "\n",
        "count = 0\n",
        "for file in os.listdir(path):\n",
        "  if file.endswith(\".pkl\") and file.startswith(\"run\"):\n",
        "    # for key in dict_of_run_files.keys():\n",
        "      try:\n",
        "        dict_of_run_files[file][list(dict_of_run_files[file].keys())[0]]['admin']\n",
        "      except:\n",
        "        print(count, \"No Admin Key\")\n",
        "        data[count] = [file, dict_of_run_files[file][list(dict_of_run_files[file].keys())[0]]]\n",
        "      else:\n",
        "      # for variable in list((\"lambda1\", \"lambda2\", \"lambda3\")):\n",
        "      #   # print(variable)\n",
        "        data[count] = [file, dict_of_run_files[file][list(dict_of_run_files[file].keys())[0]]]\n",
        "      count+=1\n",
        "# print(data.head)\n",
        "\n",
        "data_transpose = data.transpose()\n",
        "del(data)\n",
        "\n",
        "# data_transpose.columns\n",
        "\n",
        "# The try block lets you test a block of code for errors.\n",
        "# The except block lets you handle the error.\n",
        "# The else block lets you execute code when there is no error.\n",
        "# The finally block lets you execute code, regardless of the result of the try- and except blocks.\n",
        "\n",
        "# #This file does:\n",
        "# print(\"Run:\" , dict_of_run_files['run23_rep_1_w[9,4]_L_100_1_100_E_5_5_25_P_0_0_0__2023_03_09_1434_.pkl'][(23,1)]['admin']['run'])\n",
        "# print(\"Rep:\" , dict_of_run_files['run23_rep_1_w[9,4]_L_100_1_100_E_5_5_25_P_0_0_0__2023_03_09_1434_.pkl'][(23,1)]['admin']['rep'])\n",
        "\n",
        "#so when filling in my dataframe with information I may need to use a for loop with an try-exception line.\n",
        "\n"
      ],
      "metadata": {
        "id": "2HeQTBi8aWPP"
      },
      "execution_count": null,
      "outputs": []
    },
    {
      "cell_type": "code",
      "source": [
        "# # data_transpose[0] #the \"0\" is the first column which is now the filename\n",
        "# data_transpose[1][0] #index 0 of column 1 is all the information saved from the pickle file, minus the \"key\". it still appears to be in dictionary format\n",
        "# data_transpose[1][0][\"First\"]  # this is the \"first\" training phase history\n",
        "data = pd.DataFrame()\n",
        "data['categorical_accuracy'] = np.ones((2,2)).tolist()\n",
        "data['val_categorical_accuracy'] =np.ones((2,2)).tolist()\n",
        "data['loss'] = np.ones((2,2)).tolist()\n",
        "data['val_loss'] = np.ones((2,2)).tolist()\n",
        "data['4T_9P'] = np.ones((2,2)).tolist()\n",
        "data['9T_4P'] =np.ones((2,2)).tolist()\n",
        "data['3ConfusionMatrices'] =np.ones((2,2)).tolist()\n",
        "\n",
        "\n",
        "\n",
        "# Create a list of columns for the data-frame Data where you can no longer subset into smaller keys\n",
        "# list_of_columns_for_data = []\n",
        "#gather all the unique keys in the many nested dictionary files to define a new dataframe with those columns\n",
        "for row in range(0,len(data_transpose)):\n",
        "  data.at[row, 'filename'] = data_transpose[0][row]\n",
        "  for column in list(data_transpose[1][row].keys()):\n",
        "    try:\n",
        "      len(list(data_transpose[1][row][column].keys()))\n",
        "    except AttributeError:\n",
        "      # print(f'data_transpose[1][{row}][{column}] has no keys')\n",
        "      # list_of_columns_for_data.append(column)\n",
        "      if(column=='3ConfusionMatrices'):\n",
        "        data.at[row, column] = pd.DataFrame([data_transpose[1][row][column].tolist()])\n",
        "      else:\n",
        "        data.at[row, column] = data_transpose[1][row][column]\n",
        "\n",
        "\n",
        "    else:\n",
        "      # print(f'data_transpose[1][{row}][{column}] has keys')\n",
        "\n",
        "      for subcolumn in list(data_transpose[1][row][column].keys()):\n",
        "        # list_of_columns_for_data.append(subcolumn)\n",
        "        # print(f'key: subcolumn {subcolumn}')\n",
        "        try:\n",
        "          data.at[row, subcolumn] = data_transpose[1][row][column][subcolumn]\n",
        "        except KeyError:\n",
        "          # print(\"KeyError\")\n",
        "          data.at[row, subcolumn] = pd.DataFrame([data_transpose[1][row][column][subcolumn].tolist()])\n",
        "        except TypeError:\n",
        "          # print(\"TypeError\")\n",
        "          data.at[row, subcolumn] = pd.DataFrame([data_transpose[1][row][column][subcolumn].tolist()])\n",
        "        except ValueError:  #categorical accuracy causes a value error because you can't set the dataframe value to an array\n",
        "          # print(\"ValueError\")\n",
        "          data.at[row, subcolumn] = data_transpose[1][row][column][subcolumn]\n",
        "        # data.at[row, subcolumn] = data_transpose[1][row][column][subcolumn]\n",
        "\n",
        "        #I also want the last value listed in '4T_9P', '9P_4P', 'val_loss',  'val_categorical_accuracy',  'loss',  'val_loss',\n",
        "        if(subcolumn == '4T_9P' ):\n",
        "          # print(str(subcolumn),\" last_value is \" , data_transpose[1][row][column][subcolumn][-1])\n",
        "          new_column_name = str(subcolumn) + \"_last_value\"\n",
        "          data.at[row, new_column_name] = data_transpose[1][row][column][subcolumn][-1]\n",
        "          new_column_name2 = str(subcolumn) + \"_length\"\n",
        "          data.at[row, new_column_name2] = len(data_transpose[1][row][column][subcolumn])\n",
        "          \n",
        "        elif(subcolumn == '9T_4P' ):\n",
        "          # print(str(subcolumn),\" last_value is \" , data_transpose[1][row][column][subcolumn][-1])\n",
        "          new_column_name = str(subcolumn) + \"_last_value\"\n",
        "          data.at[row, new_column_name] = data_transpose[1][row][column][subcolumn][-1]\n",
        "          new_column_name2 = str(subcolumn) + \"_length\"\n",
        "          data.at[row, new_column_name2] = len(data_transpose[1][row][column][subcolumn])\n",
        "\n",
        "        elif(subcolumn == 'val_loss' ):\n",
        "          # print(str(subcolumn),\" last_value is \" , data_transpose[1][row][column][subcolumn][-1])\n",
        "          new_column_name = str(subcolumn) + \"_last_value\"\n",
        "          data.at[row, new_column_name] = data_transpose[1][row][column][subcolumn][-1]\n",
        "          new_column_name2 = str(subcolumn) + \"_length\"\n",
        "          data.at[row, new_column_name2] = len(data_transpose[1][row][column][subcolumn])\n",
        "        elif(subcolumn == 'val_categorical_accuracy' ):\n",
        "          # print(str(subcolumn),\" last_value is \" , data_transpose[1][row][column][subcolumn][-1])\n",
        "          new_column_name = str(subcolumn) + \"_last_value\"\n",
        "          data.at[row, new_column_name] = data_transpose[1][row][column][subcolumn][-1]\n",
        "          new_column_name2 = str(subcolumn) + \"_length\"\n",
        "          data.at[row, new_column_name2] = len(data_transpose[1][row][column][subcolumn])\n",
        "        elif(subcolumn == 'loss' ):\n",
        "          # print(str(subcolumn),\" last_value is \" , data_transpose[1][row][column][subcolumn][-1])\n",
        "          new_column_name = str(subcolumn) + \"_last_value\"\n",
        "          data.at[row, new_column_name] = data_transpose[1][row][column][subcolumn][-1]\n",
        "          new_column_name2 = str(subcolumn) + \"_length\"\n",
        "          data.at[row, new_column_name2] = len(data_transpose[1][row][column][subcolumn])\n",
        "        elif(subcolumn == 'val_loss' ):\n",
        "          # print(str(subcolumn),\" last_value is \" , data_transpose[1][row][column][subcolumn][-1])\n",
        "          new_column_name = str(subcolumn) + \"_last_value\"\n",
        "          data.at[row, new_column_name] = data_transpose[1][row][column][subcolumn][-1]\n",
        "          new_column_name2 = str(subcolumn) + \"_length\"\n",
        "          data.at[row, new_column_name2] = len(data_transpose[1][row][column][subcolumn])\n",
        "\n",
        "        # print(subcolumn)\n",
        "\n",
        "# # data\n",
        "\n",
        "\n",
        "\n",
        "# #Create a column with just the last confusion matrix, the last values of 9t_4p, and 4t_9p\n",
        "# len(data['categorical_accuracy'][0])  #Column 'Categorical Accuracy', Row0, shows 35 values\n",
        "# data['categorical_accuracy'][0][-1]\n",
        "# data['val_categorical_accuracy'][0][-1]\n",
        "# len(data['9T_4P'][0])  #The array of values for '9T_4P' is length 35, and the last value is 12 \n",
        "# data['9T_4P'][0][-1]  # to get the last value for row 0\n",
        " \n",
        "    \n",
        "# data_csv = data.to_csv(\"data.csv\")\n",
        "  \n",
        "# from google.colab import files\n",
        "# files.download('data.csv')\n",
        "\n",
        "# data.drop_duplicates(subset=['3ConfusionMatrices'][0]) #fails TypeError 'unhashable type: numpy.ndarray'\n",
        "# https://stackoverflow.com/questions/43855462/pandas-drop-duplicates-method-not-working-on-dataframe-containing-lists\n",
        "\n",
        "data = data.drop(columns=['filename', '3ConfusionMatrices', 'First', 'Second', 'Third'])\n",
        " \n",
        "data.loc[data.astype(str).drop_duplicates().index]\n",
        "\n",
        " "
      ],
      "metadata": {
        "id": "sh4P_lYIyEMD",
        "colab": {
          "base_uri": "https://localhost:8080/",
          "height": 407
        },
        "outputId": "da6c158c-2bd3-4dac-aea9-2ea1def726a0"
      },
      "execution_count": 144,
      "outputs": [
        {
          "output_type": "error",
          "ename": "TypeError",
          "evalue": "ignored",
          "traceback": [
            "\u001b[0;31m---------------------------------------------------------------------------\u001b[0m",
            "\u001b[0;31mTypeError\u001b[0m                                 Traceback (most recent call last)",
            "\u001b[0;32m<ipython-input-144-813fc7846b6f>\u001b[0m in \u001b[0;36m<module>\u001b[0;34m\u001b[0m\n\u001b[0;32m----> 1\u001b[0;31m \u001b[0mdata\u001b[0m\u001b[0;34m.\u001b[0m\u001b[0mvalue_counts\u001b[0m\u001b[0;34m(\u001b[0m\u001b[0;34m)\u001b[0m\u001b[0;34m\u001b[0m\u001b[0;34m\u001b[0m\u001b[0m\n\u001b[0m",
            "\u001b[0;32m/usr/local/lib/python3.9/dist-packages/pandas/core/frame.py\u001b[0m in \u001b[0;36mvalue_counts\u001b[0;34m(self, subset, normalize, sort, ascending, dropna)\u001b[0m\n\u001b[1;32m   6577\u001b[0m             \u001b[0msubset\u001b[0m \u001b[0;34m=\u001b[0m \u001b[0mself\u001b[0m\u001b[0;34m.\u001b[0m\u001b[0mcolumns\u001b[0m\u001b[0;34m.\u001b[0m\u001b[0mtolist\u001b[0m\u001b[0;34m(\u001b[0m\u001b[0;34m)\u001b[0m\u001b[0;34m\u001b[0m\u001b[0;34m\u001b[0m\u001b[0m\n\u001b[1;32m   6578\u001b[0m \u001b[0;34m\u001b[0m\u001b[0m\n\u001b[0;32m-> 6579\u001b[0;31m         \u001b[0mcounts\u001b[0m \u001b[0;34m=\u001b[0m \u001b[0mself\u001b[0m\u001b[0;34m.\u001b[0m\u001b[0mgroupby\u001b[0m\u001b[0;34m(\u001b[0m\u001b[0msubset\u001b[0m\u001b[0;34m,\u001b[0m \u001b[0mdropna\u001b[0m\u001b[0;34m=\u001b[0m\u001b[0mdropna\u001b[0m\u001b[0;34m)\u001b[0m\u001b[0;34m.\u001b[0m\u001b[0mgrouper\u001b[0m\u001b[0;34m.\u001b[0m\u001b[0msize\u001b[0m\u001b[0;34m(\u001b[0m\u001b[0;34m)\u001b[0m\u001b[0;34m\u001b[0m\u001b[0;34m\u001b[0m\u001b[0m\n\u001b[0m\u001b[1;32m   6580\u001b[0m \u001b[0;34m\u001b[0m\u001b[0m\n\u001b[1;32m   6581\u001b[0m         \u001b[0;32mif\u001b[0m \u001b[0msort\u001b[0m\u001b[0;34m:\u001b[0m\u001b[0;34m\u001b[0m\u001b[0;34m\u001b[0m\u001b[0m\n",
            "\u001b[0;32m/usr/local/lib/python3.9/dist-packages/pandas/core/groupby/ops.py\u001b[0m in \u001b[0;36msize\u001b[0;34m(self)\u001b[0m\n\u001b[1;32m    806\u001b[0m         \u001b[0mCompute\u001b[0m \u001b[0mgroup\u001b[0m \u001b[0msizes\u001b[0m\u001b[0;34m.\u001b[0m\u001b[0;34m\u001b[0m\u001b[0;34m\u001b[0m\u001b[0m\n\u001b[1;32m    807\u001b[0m         \"\"\"\n\u001b[0;32m--> 808\u001b[0;31m         \u001b[0mids\u001b[0m\u001b[0;34m,\u001b[0m \u001b[0m_\u001b[0m\u001b[0;34m,\u001b[0m \u001b[0mngroups\u001b[0m \u001b[0;34m=\u001b[0m \u001b[0mself\u001b[0m\u001b[0;34m.\u001b[0m\u001b[0mgroup_info\u001b[0m\u001b[0;34m\u001b[0m\u001b[0;34m\u001b[0m\u001b[0m\n\u001b[0m\u001b[1;32m    809\u001b[0m         \u001b[0mout\u001b[0m\u001b[0;34m:\u001b[0m \u001b[0mnp\u001b[0m\u001b[0;34m.\u001b[0m\u001b[0mndarray\u001b[0m \u001b[0;34m|\u001b[0m \u001b[0mlist\u001b[0m\u001b[0;34m\u001b[0m\u001b[0;34m\u001b[0m\u001b[0m\n\u001b[1;32m    810\u001b[0m         \u001b[0;32mif\u001b[0m \u001b[0mngroups\u001b[0m\u001b[0;34m:\u001b[0m\u001b[0;34m\u001b[0m\u001b[0;34m\u001b[0m\u001b[0m\n",
            "\u001b[0;32m/usr/local/lib/python3.9/dist-packages/pandas/_libs/properties.pyx\u001b[0m in \u001b[0;36mpandas._libs.properties.CachedProperty.__get__\u001b[0;34m()\u001b[0m\n",
            "\u001b[0;32m/usr/local/lib/python3.9/dist-packages/pandas/core/groupby/ops.py\u001b[0m in \u001b[0;36mgroup_info\u001b[0;34m(self)\u001b[0m\n\u001b[1;32m    832\u001b[0m     \u001b[0;34m@\u001b[0m\u001b[0mcache_readonly\u001b[0m\u001b[0;34m\u001b[0m\u001b[0;34m\u001b[0m\u001b[0m\n\u001b[1;32m    833\u001b[0m     \u001b[0;32mdef\u001b[0m \u001b[0mgroup_info\u001b[0m\u001b[0;34m(\u001b[0m\u001b[0mself\u001b[0m\u001b[0;34m)\u001b[0m \u001b[0;34m->\u001b[0m \u001b[0mtuple\u001b[0m\u001b[0;34m[\u001b[0m\u001b[0mnpt\u001b[0m\u001b[0;34m.\u001b[0m\u001b[0mNDArray\u001b[0m\u001b[0;34m[\u001b[0m\u001b[0mnp\u001b[0m\u001b[0;34m.\u001b[0m\u001b[0mintp\u001b[0m\u001b[0;34m]\u001b[0m\u001b[0;34m,\u001b[0m \u001b[0mnpt\u001b[0m\u001b[0;34m.\u001b[0m\u001b[0mNDArray\u001b[0m\u001b[0;34m[\u001b[0m\u001b[0mnp\u001b[0m\u001b[0;34m.\u001b[0m\u001b[0mintp\u001b[0m\u001b[0;34m]\u001b[0m\u001b[0;34m,\u001b[0m \u001b[0mint\u001b[0m\u001b[0;34m]\u001b[0m\u001b[0;34m:\u001b[0m\u001b[0;34m\u001b[0m\u001b[0;34m\u001b[0m\u001b[0m\n\u001b[0;32m--> 834\u001b[0;31m         \u001b[0mcomp_ids\u001b[0m\u001b[0;34m,\u001b[0m \u001b[0mobs_group_ids\u001b[0m \u001b[0;34m=\u001b[0m \u001b[0mself\u001b[0m\u001b[0;34m.\u001b[0m\u001b[0m_get_compressed_codes\u001b[0m\u001b[0;34m(\u001b[0m\u001b[0;34m)\u001b[0m\u001b[0;34m\u001b[0m\u001b[0;34m\u001b[0m\u001b[0m\n\u001b[0m\u001b[1;32m    835\u001b[0m \u001b[0;34m\u001b[0m\u001b[0m\n\u001b[1;32m    836\u001b[0m         \u001b[0mngroups\u001b[0m \u001b[0;34m=\u001b[0m \u001b[0mlen\u001b[0m\u001b[0;34m(\u001b[0m\u001b[0mobs_group_ids\u001b[0m\u001b[0;34m)\u001b[0m\u001b[0;34m\u001b[0m\u001b[0;34m\u001b[0m\u001b[0m\n",
            "\u001b[0;32m/usr/local/lib/python3.9/dist-packages/pandas/core/groupby/ops.py\u001b[0m in \u001b[0;36m_get_compressed_codes\u001b[0;34m(self)\u001b[0m\n\u001b[1;32m    856\u001b[0m         \u001b[0;31m# The first returned ndarray may have any signed integer dtype\u001b[0m\u001b[0;34m\u001b[0m\u001b[0;34m\u001b[0m\u001b[0m\n\u001b[1;32m    857\u001b[0m         \u001b[0;32mif\u001b[0m \u001b[0mlen\u001b[0m\u001b[0;34m(\u001b[0m\u001b[0mself\u001b[0m\u001b[0;34m.\u001b[0m\u001b[0mgroupings\u001b[0m\u001b[0;34m)\u001b[0m \u001b[0;34m>\u001b[0m \u001b[0;36m1\u001b[0m\u001b[0;34m:\u001b[0m\u001b[0;34m\u001b[0m\u001b[0;34m\u001b[0m\u001b[0m\n\u001b[0;32m--> 858\u001b[0;31m             \u001b[0mgroup_index\u001b[0m \u001b[0;34m=\u001b[0m \u001b[0mget_group_index\u001b[0m\u001b[0;34m(\u001b[0m\u001b[0mself\u001b[0m\u001b[0;34m.\u001b[0m\u001b[0mcodes\u001b[0m\u001b[0;34m,\u001b[0m \u001b[0mself\u001b[0m\u001b[0;34m.\u001b[0m\u001b[0mshape\u001b[0m\u001b[0;34m,\u001b[0m \u001b[0msort\u001b[0m\u001b[0;34m=\u001b[0m\u001b[0;32mTrue\u001b[0m\u001b[0;34m,\u001b[0m \u001b[0mxnull\u001b[0m\u001b[0;34m=\u001b[0m\u001b[0;32mTrue\u001b[0m\u001b[0;34m)\u001b[0m\u001b[0;34m\u001b[0m\u001b[0;34m\u001b[0m\u001b[0m\n\u001b[0m\u001b[1;32m    859\u001b[0m             \u001b[0;32mreturn\u001b[0m \u001b[0mcompress_group_index\u001b[0m\u001b[0;34m(\u001b[0m\u001b[0mgroup_index\u001b[0m\u001b[0;34m,\u001b[0m \u001b[0msort\u001b[0m\u001b[0;34m=\u001b[0m\u001b[0mself\u001b[0m\u001b[0;34m.\u001b[0m\u001b[0m_sort\u001b[0m\u001b[0;34m)\u001b[0m\u001b[0;34m\u001b[0m\u001b[0;34m\u001b[0m\u001b[0m\n\u001b[1;32m    860\u001b[0m \u001b[0;34m\u001b[0m\u001b[0m\n",
            "\u001b[0;32m/usr/local/lib/python3.9/dist-packages/pandas/core/groupby/ops.py\u001b[0m in \u001b[0;36mcodes\u001b[0;34m(self)\u001b[0m\n\u001b[1;32m    791\u001b[0m     \u001b[0;34m@\u001b[0m\u001b[0mproperty\u001b[0m\u001b[0;34m\u001b[0m\u001b[0;34m\u001b[0m\u001b[0m\n\u001b[1;32m    792\u001b[0m     \u001b[0;32mdef\u001b[0m \u001b[0mcodes\u001b[0m\u001b[0;34m(\u001b[0m\u001b[0mself\u001b[0m\u001b[0;34m)\u001b[0m \u001b[0;34m->\u001b[0m \u001b[0mlist\u001b[0m\u001b[0;34m[\u001b[0m\u001b[0mnp\u001b[0m\u001b[0;34m.\u001b[0m\u001b[0mndarray\u001b[0m\u001b[0;34m]\u001b[0m\u001b[0;34m:\u001b[0m\u001b[0;34m\u001b[0m\u001b[0;34m\u001b[0m\u001b[0m\n\u001b[0;32m--> 793\u001b[0;31m         \u001b[0;32mreturn\u001b[0m \u001b[0;34m[\u001b[0m\u001b[0mping\u001b[0m\u001b[0;34m.\u001b[0m\u001b[0mcodes\u001b[0m \u001b[0;32mfor\u001b[0m \u001b[0mping\u001b[0m \u001b[0;32min\u001b[0m \u001b[0mself\u001b[0m\u001b[0;34m.\u001b[0m\u001b[0mgroupings\u001b[0m\u001b[0;34m]\u001b[0m\u001b[0;34m\u001b[0m\u001b[0;34m\u001b[0m\u001b[0m\n\u001b[0m\u001b[1;32m    794\u001b[0m \u001b[0;34m\u001b[0m\u001b[0m\n\u001b[1;32m    795\u001b[0m     \u001b[0;34m@\u001b[0m\u001b[0mproperty\u001b[0m\u001b[0;34m\u001b[0m\u001b[0;34m\u001b[0m\u001b[0m\n",
            "\u001b[0;32m/usr/local/lib/python3.9/dist-packages/pandas/core/groupby/ops.py\u001b[0m in \u001b[0;36m<listcomp>\u001b[0;34m(.0)\u001b[0m\n\u001b[1;32m    791\u001b[0m     \u001b[0;34m@\u001b[0m\u001b[0mproperty\u001b[0m\u001b[0;34m\u001b[0m\u001b[0;34m\u001b[0m\u001b[0m\n\u001b[1;32m    792\u001b[0m     \u001b[0;32mdef\u001b[0m \u001b[0mcodes\u001b[0m\u001b[0;34m(\u001b[0m\u001b[0mself\u001b[0m\u001b[0;34m)\u001b[0m \u001b[0;34m->\u001b[0m \u001b[0mlist\u001b[0m\u001b[0;34m[\u001b[0m\u001b[0mnp\u001b[0m\u001b[0;34m.\u001b[0m\u001b[0mndarray\u001b[0m\u001b[0;34m]\u001b[0m\u001b[0;34m:\u001b[0m\u001b[0;34m\u001b[0m\u001b[0;34m\u001b[0m\u001b[0m\n\u001b[0;32m--> 793\u001b[0;31m         \u001b[0;32mreturn\u001b[0m \u001b[0;34m[\u001b[0m\u001b[0mping\u001b[0m\u001b[0;34m.\u001b[0m\u001b[0mcodes\u001b[0m \u001b[0;32mfor\u001b[0m \u001b[0mping\u001b[0m \u001b[0;32min\u001b[0m \u001b[0mself\u001b[0m\u001b[0;34m.\u001b[0m\u001b[0mgroupings\u001b[0m\u001b[0;34m]\u001b[0m\u001b[0;34m\u001b[0m\u001b[0;34m\u001b[0m\u001b[0m\n\u001b[0m\u001b[1;32m    794\u001b[0m \u001b[0;34m\u001b[0m\u001b[0m\n\u001b[1;32m    795\u001b[0m     \u001b[0;34m@\u001b[0m\u001b[0mproperty\u001b[0m\u001b[0;34m\u001b[0m\u001b[0;34m\u001b[0m\u001b[0m\n",
            "\u001b[0;32m/usr/local/lib/python3.9/dist-packages/pandas/core/groupby/grouper.py\u001b[0m in \u001b[0;36mcodes\u001b[0;34m(self)\u001b[0m\n\u001b[1;32m    620\u001b[0m             \u001b[0;32mreturn\u001b[0m \u001b[0mself\u001b[0m\u001b[0;34m.\u001b[0m\u001b[0m_codes\u001b[0m\u001b[0;34m\u001b[0m\u001b[0;34m\u001b[0m\u001b[0m\n\u001b[1;32m    621\u001b[0m \u001b[0;34m\u001b[0m\u001b[0m\n\u001b[0;32m--> 622\u001b[0;31m         \u001b[0;32mreturn\u001b[0m \u001b[0mself\u001b[0m\u001b[0;34m.\u001b[0m\u001b[0m_codes_and_uniques\u001b[0m\u001b[0;34m[\u001b[0m\u001b[0;36m0\u001b[0m\u001b[0;34m]\u001b[0m\u001b[0;34m\u001b[0m\u001b[0;34m\u001b[0m\u001b[0m\n\u001b[0m\u001b[1;32m    623\u001b[0m \u001b[0;34m\u001b[0m\u001b[0m\n\u001b[1;32m    624\u001b[0m     \u001b[0;34m@\u001b[0m\u001b[0mcache_readonly\u001b[0m\u001b[0;34m\u001b[0m\u001b[0;34m\u001b[0m\u001b[0m\n",
            "\u001b[0;32m/usr/local/lib/python3.9/dist-packages/pandas/_libs/properties.pyx\u001b[0m in \u001b[0;36mpandas._libs.properties.CachedProperty.__get__\u001b[0;34m()\u001b[0m\n",
            "\u001b[0;32m/usr/local/lib/python3.9/dist-packages/pandas/core/groupby/grouper.py\u001b[0m in \u001b[0;36m_codes_and_uniques\u001b[0;34m(self)\u001b[0m\n\u001b[1;32m    688\u001b[0m             \u001b[0;32melse\u001b[0m\u001b[0;34m:\u001b[0m\u001b[0;34m\u001b[0m\u001b[0;34m\u001b[0m\u001b[0m\n\u001b[1;32m    689\u001b[0m                 \u001b[0mna_sentinel\u001b[0m \u001b[0;34m=\u001b[0m \u001b[0;34m-\u001b[0m\u001b[0;36m1\u001b[0m\u001b[0;34m\u001b[0m\u001b[0;34m\u001b[0m\u001b[0m\n\u001b[0;32m--> 690\u001b[0;31m             codes, uniques = algorithms.factorize(\n\u001b[0m\u001b[1;32m    691\u001b[0m                 \u001b[0mself\u001b[0m\u001b[0;34m.\u001b[0m\u001b[0mgrouping_vector\u001b[0m\u001b[0;34m,\u001b[0m \u001b[0msort\u001b[0m\u001b[0;34m=\u001b[0m\u001b[0mself\u001b[0m\u001b[0;34m.\u001b[0m\u001b[0m_sort\u001b[0m\u001b[0;34m,\u001b[0m \u001b[0mna_sentinel\u001b[0m\u001b[0;34m=\u001b[0m\u001b[0mna_sentinel\u001b[0m\u001b[0;34m\u001b[0m\u001b[0;34m\u001b[0m\u001b[0m\n\u001b[1;32m    692\u001b[0m             )\n",
            "\u001b[0;32m/usr/local/lib/python3.9/dist-packages/pandas/core/algorithms.py\u001b[0m in \u001b[0;36mfactorize\u001b[0;34m(values, sort, na_sentinel, size_hint)\u001b[0m\n\u001b[1;32m    761\u001b[0m             \u001b[0mna_value\u001b[0m \u001b[0;34m=\u001b[0m \u001b[0;32mNone\u001b[0m\u001b[0;34m\u001b[0m\u001b[0;34m\u001b[0m\u001b[0m\n\u001b[1;32m    762\u001b[0m \u001b[0;34m\u001b[0m\u001b[0m\n\u001b[0;32m--> 763\u001b[0;31m         codes, uniques = factorize_array(\n\u001b[0m\u001b[1;32m    764\u001b[0m             \u001b[0mvalues\u001b[0m\u001b[0;34m,\u001b[0m \u001b[0mna_sentinel\u001b[0m\u001b[0;34m=\u001b[0m\u001b[0mna_sentinel\u001b[0m\u001b[0;34m,\u001b[0m \u001b[0msize_hint\u001b[0m\u001b[0;34m=\u001b[0m\u001b[0msize_hint\u001b[0m\u001b[0;34m,\u001b[0m \u001b[0mna_value\u001b[0m\u001b[0;34m=\u001b[0m\u001b[0mna_value\u001b[0m\u001b[0;34m\u001b[0m\u001b[0;34m\u001b[0m\u001b[0m\n\u001b[1;32m    765\u001b[0m         )\n",
            "\u001b[0;32m/usr/local/lib/python3.9/dist-packages/pandas/core/algorithms.py\u001b[0m in \u001b[0;36mfactorize_array\u001b[0;34m(values, na_sentinel, size_hint, na_value, mask)\u001b[0m\n\u001b[1;32m    558\u001b[0m \u001b[0;34m\u001b[0m\u001b[0m\n\u001b[1;32m    559\u001b[0m     \u001b[0mtable\u001b[0m \u001b[0;34m=\u001b[0m \u001b[0mhash_klass\u001b[0m\u001b[0;34m(\u001b[0m\u001b[0msize_hint\u001b[0m \u001b[0;32mor\u001b[0m \u001b[0mlen\u001b[0m\u001b[0;34m(\u001b[0m\u001b[0mvalues\u001b[0m\u001b[0;34m)\u001b[0m\u001b[0;34m)\u001b[0m\u001b[0;34m\u001b[0m\u001b[0;34m\u001b[0m\u001b[0m\n\u001b[0;32m--> 560\u001b[0;31m     uniques, codes = table.factorize(\n\u001b[0m\u001b[1;32m    561\u001b[0m         \u001b[0mvalues\u001b[0m\u001b[0;34m,\u001b[0m \u001b[0mna_sentinel\u001b[0m\u001b[0;34m=\u001b[0m\u001b[0mna_sentinel\u001b[0m\u001b[0;34m,\u001b[0m \u001b[0mna_value\u001b[0m\u001b[0;34m=\u001b[0m\u001b[0mna_value\u001b[0m\u001b[0;34m,\u001b[0m \u001b[0mmask\u001b[0m\u001b[0;34m=\u001b[0m\u001b[0mmask\u001b[0m\u001b[0;34m\u001b[0m\u001b[0;34m\u001b[0m\u001b[0m\n\u001b[1;32m    562\u001b[0m     )\n",
            "\u001b[0;32mpandas/_libs/hashtable_class_helper.pxi\u001b[0m in \u001b[0;36mpandas._libs.hashtable.PyObjectHashTable.factorize\u001b[0;34m()\u001b[0m\n",
            "\u001b[0;32mpandas/_libs/hashtable_class_helper.pxi\u001b[0m in \u001b[0;36mpandas._libs.hashtable.PyObjectHashTable._unique\u001b[0;34m()\u001b[0m\n",
            "\u001b[0;31mTypeError\u001b[0m: unhashable type: 'numpy.ndarray'"
          ]
        }
      ]
    },
    {
      "cell_type": "code",
      "source": [
        "# len(data_transpose)\n",
        "# data['3ConfusionMatrices'][0]"
      ],
      "metadata": {
        "colab": {
          "base_uri": "https://localhost:8080/",
          "height": 539
        },
        "id": "mvLvT0a0Krql",
        "outputId": "724e8a39-e20e-4ef1-e011-ea2e66e6651f"
      },
      "execution_count": 147,
      "outputs": [
        {
          "output_type": "error",
          "ename": "KeyError",
          "evalue": "ignored",
          "traceback": [
            "\u001b[0;31m---------------------------------------------------------------------------\u001b[0m",
            "\u001b[0;31mKeyError\u001b[0m                                  Traceback (most recent call last)",
            "\u001b[0;32m/usr/local/lib/python3.9/dist-packages/pandas/core/indexes/base.py\u001b[0m in \u001b[0;36mget_loc\u001b[0;34m(self, key, method, tolerance)\u001b[0m\n\u001b[1;32m   3628\u001b[0m             \u001b[0;32mtry\u001b[0m\u001b[0;34m:\u001b[0m\u001b[0;34m\u001b[0m\u001b[0;34m\u001b[0m\u001b[0m\n\u001b[0;32m-> 3629\u001b[0;31m                 \u001b[0;32mreturn\u001b[0m \u001b[0mself\u001b[0m\u001b[0;34m.\u001b[0m\u001b[0m_engine\u001b[0m\u001b[0;34m.\u001b[0m\u001b[0mget_loc\u001b[0m\u001b[0;34m(\u001b[0m\u001b[0mcasted_key\u001b[0m\u001b[0;34m)\u001b[0m\u001b[0;34m\u001b[0m\u001b[0;34m\u001b[0m\u001b[0m\n\u001b[0m\u001b[1;32m   3630\u001b[0m             \u001b[0;32mexcept\u001b[0m \u001b[0mKeyError\u001b[0m \u001b[0;32mas\u001b[0m \u001b[0merr\u001b[0m\u001b[0;34m:\u001b[0m\u001b[0;34m\u001b[0m\u001b[0;34m\u001b[0m\u001b[0m\n",
            "\u001b[0;32m/usr/local/lib/python3.9/dist-packages/pandas/_libs/index.pyx\u001b[0m in \u001b[0;36mpandas._libs.index.IndexEngine.get_loc\u001b[0;34m()\u001b[0m\n",
            "\u001b[0;32m/usr/local/lib/python3.9/dist-packages/pandas/_libs/index.pyx\u001b[0m in \u001b[0;36mpandas._libs.index.IndexEngine.get_loc\u001b[0;34m()\u001b[0m\n",
            "\u001b[0;32mpandas/_libs/hashtable_class_helper.pxi\u001b[0m in \u001b[0;36mpandas._libs.hashtable.PyObjectHashTable.get_item\u001b[0;34m()\u001b[0m\n",
            "\u001b[0;32mpandas/_libs/hashtable_class_helper.pxi\u001b[0m in \u001b[0;36mpandas._libs.hashtable.PyObjectHashTable.get_item\u001b[0;34m()\u001b[0m\n",
            "\u001b[0;31mKeyError\u001b[0m: '3ConfusionMatrices'",
            "\nThe above exception was the direct cause of the following exception:\n",
            "\u001b[0;31mKeyError\u001b[0m                                  Traceback (most recent call last)",
            "\u001b[0;32m<ipython-input-147-2a3996c3559e>\u001b[0m in \u001b[0;36m<module>\u001b[0;34m\u001b[0m\n\u001b[1;32m      1\u001b[0m \u001b[0;31m# len(data_transpose)\u001b[0m\u001b[0;34m\u001b[0m\u001b[0;34m\u001b[0m\u001b[0m\n\u001b[0;32m----> 2\u001b[0;31m \u001b[0mdata\u001b[0m\u001b[0;34m[\u001b[0m\u001b[0;34m'3ConfusionMatrices'\u001b[0m\u001b[0;34m]\u001b[0m\u001b[0;34m[\u001b[0m\u001b[0;36m0\u001b[0m\u001b[0;34m]\u001b[0m\u001b[0;34m\u001b[0m\u001b[0;34m\u001b[0m\u001b[0m\n\u001b[0m",
            "\u001b[0;32m/usr/local/lib/python3.9/dist-packages/pandas/core/frame.py\u001b[0m in \u001b[0;36m__getitem__\u001b[0;34m(self, key)\u001b[0m\n\u001b[1;32m   3503\u001b[0m             \u001b[0;32mif\u001b[0m \u001b[0mself\u001b[0m\u001b[0;34m.\u001b[0m\u001b[0mcolumns\u001b[0m\u001b[0;34m.\u001b[0m\u001b[0mnlevels\u001b[0m \u001b[0;34m>\u001b[0m \u001b[0;36m1\u001b[0m\u001b[0;34m:\u001b[0m\u001b[0;34m\u001b[0m\u001b[0;34m\u001b[0m\u001b[0m\n\u001b[1;32m   3504\u001b[0m                 \u001b[0;32mreturn\u001b[0m \u001b[0mself\u001b[0m\u001b[0;34m.\u001b[0m\u001b[0m_getitem_multilevel\u001b[0m\u001b[0;34m(\u001b[0m\u001b[0mkey\u001b[0m\u001b[0;34m)\u001b[0m\u001b[0;34m\u001b[0m\u001b[0;34m\u001b[0m\u001b[0m\n\u001b[0;32m-> 3505\u001b[0;31m             \u001b[0mindexer\u001b[0m \u001b[0;34m=\u001b[0m \u001b[0mself\u001b[0m\u001b[0;34m.\u001b[0m\u001b[0mcolumns\u001b[0m\u001b[0;34m.\u001b[0m\u001b[0mget_loc\u001b[0m\u001b[0;34m(\u001b[0m\u001b[0mkey\u001b[0m\u001b[0;34m)\u001b[0m\u001b[0;34m\u001b[0m\u001b[0;34m\u001b[0m\u001b[0m\n\u001b[0m\u001b[1;32m   3506\u001b[0m             \u001b[0;32mif\u001b[0m \u001b[0mis_integer\u001b[0m\u001b[0;34m(\u001b[0m\u001b[0mindexer\u001b[0m\u001b[0;34m)\u001b[0m\u001b[0;34m:\u001b[0m\u001b[0;34m\u001b[0m\u001b[0;34m\u001b[0m\u001b[0m\n\u001b[1;32m   3507\u001b[0m                 \u001b[0mindexer\u001b[0m \u001b[0;34m=\u001b[0m \u001b[0;34m[\u001b[0m\u001b[0mindexer\u001b[0m\u001b[0;34m]\u001b[0m\u001b[0;34m\u001b[0m\u001b[0;34m\u001b[0m\u001b[0m\n",
            "\u001b[0;32m/usr/local/lib/python3.9/dist-packages/pandas/core/indexes/base.py\u001b[0m in \u001b[0;36mget_loc\u001b[0;34m(self, key, method, tolerance)\u001b[0m\n\u001b[1;32m   3629\u001b[0m                 \u001b[0;32mreturn\u001b[0m \u001b[0mself\u001b[0m\u001b[0;34m.\u001b[0m\u001b[0m_engine\u001b[0m\u001b[0;34m.\u001b[0m\u001b[0mget_loc\u001b[0m\u001b[0;34m(\u001b[0m\u001b[0mcasted_key\u001b[0m\u001b[0;34m)\u001b[0m\u001b[0;34m\u001b[0m\u001b[0;34m\u001b[0m\u001b[0m\n\u001b[1;32m   3630\u001b[0m             \u001b[0;32mexcept\u001b[0m \u001b[0mKeyError\u001b[0m \u001b[0;32mas\u001b[0m \u001b[0merr\u001b[0m\u001b[0;34m:\u001b[0m\u001b[0;34m\u001b[0m\u001b[0;34m\u001b[0m\u001b[0m\n\u001b[0;32m-> 3631\u001b[0;31m                 \u001b[0;32mraise\u001b[0m \u001b[0mKeyError\u001b[0m\u001b[0;34m(\u001b[0m\u001b[0mkey\u001b[0m\u001b[0;34m)\u001b[0m \u001b[0;32mfrom\u001b[0m \u001b[0merr\u001b[0m\u001b[0;34m\u001b[0m\u001b[0;34m\u001b[0m\u001b[0m\n\u001b[0m\u001b[1;32m   3632\u001b[0m             \u001b[0;32mexcept\u001b[0m \u001b[0mTypeError\u001b[0m\u001b[0;34m:\u001b[0m\u001b[0;34m\u001b[0m\u001b[0;34m\u001b[0m\u001b[0m\n\u001b[1;32m   3633\u001b[0m                 \u001b[0;31m# If we have a listlike key, _check_indexing_error will raise\u001b[0m\u001b[0;34m\u001b[0m\u001b[0;34m\u001b[0m\u001b[0m\n",
            "\u001b[0;31mKeyError\u001b[0m: '3ConfusionMatrices'"
          ]
        }
      ]
    },
    {
      "cell_type": "code",
      "source": [
        "data_to_save = pd.DataFrame()\n",
        "data_to_save = data[['lambda1',\t'lambda2',\t'lambda3',\t'epochs1',\t'epochs2',\t'epochs3',\t'es1',\t'es2',\t'es3', '9T_4P_last_value',\t'4T_9P_last_value', 'val_categorical_accuracy_last_value']].copy()\n",
        "\n",
        "for row in range(len(data_to_save)):\n",
        "  # print(row)\n",
        "  try:\n",
        "    data_to_save.loc[row, 'lambdacombo'] = str(int(data_to_save.loc[row, 'lambda1'])) +\"-\"+ str(int(data_to_save.loc[row, 'lambda2'])) +\"-\"+ str(int(data_to_save.loc[row, 'lambda3']))\n",
        "  except ValueError:\n",
        "    data_to_save.loc[row, 'lambdacombo'] = str((data_to_save.loc[row, 'lambda1'])) +\"-\"+ str((data_to_save.loc[row, 'lambda2'])) +\"-\"+ str((data_to_save.loc[row, 'lambda3']))                               \n",
        "\n",
        "data_to_save['lambdacombo'].value_counts()\n",
        "data_csv = data_to_save.to_csv(\"data.csv\")\n",
        "\n",
        "from google.colab import files\n",
        "files.download('data.csv')"
      ],
      "metadata": {
        "colab": {
          "base_uri": "https://localhost:8080/"
        },
        "id": "YRqszN9qXjVt",
        "outputId": "7d8ab57f-205a-4d20-e1a5-40391fcfd92b"
      },
      "execution_count": 148,
      "outputs": [
        {
          "output_type": "execute_result",
          "data": {
            "text/plain": [
              "1-1-1             32\n",
              "1-100-1000        30\n",
              "1-1000-1          30\n",
              "100-1-1           30\n",
              "100-1-100         30\n",
              "1-1-100           30\n",
              "1-1-1000          30\n",
              "1-100-1           30\n",
              "1-100-100         30\n",
              "1-1000-100        30\n",
              "1-1000-1000       29\n",
              "100-1-1000        29\n",
              "100-100-1         27\n",
              "100-1000-1000     26\n",
              "1000-100-1        26\n",
              "1000-1-1000       26\n",
              "1000-1-100        26\n",
              "1000-1-1          26\n",
              "100-100-100       26\n",
              "100-1000-100      26\n",
              "100-1000-1        26\n",
              "100-100-1000      26\n",
              "1000-1000-1       24\n",
              "1000-1000-100     24\n",
              "1000-1000-1000    24\n",
              "1000-100-1000     24\n",
              "1000-100-100      24\n",
              "nan-nan-nan        1\n",
              "Name: lambdacombo, dtype: int64"
            ]
          },
          "metadata": {},
          "execution_count": 148
        }
      ]
    },
    {
      "cell_type": "code",
      "source": [
        "data_to_save.head()\n",
        "\n",
        "data_to_save.lambdacombo.value_counts().index"
      ],
      "metadata": {
        "colab": {
          "base_uri": "https://localhost:8080/"
        },
        "id": "qjT2hqJNJG4E",
        "outputId": "4b928e21-5ea7-44dc-b3f8-02a3e9443d5f"
      },
      "execution_count": null,
      "outputs": [
        {
          "output_type": "execute_result",
          "data": {
            "text/plain": [
              "Index(['1-1-1', '1-1000-1', '1-100-100', '1-100-1000', '1-1000-100',\n",
              "       '1-1-1000', '1-1-100', '100-1-1', '100-1-100', '1-100-1', '1-1000-1000',\n",
              "       '100-1-1000', '100-100-1', '100-1000-100', '100-1000-1', '100-100-100',\n",
              "       '100-100-1000', '100-1000-1000', '1000-1-1', '1000-1-100',\n",
              "       '1000-1-1000', '1000-100-1', '1000-1000-100', '1000-100-100',\n",
              "       '1000-100-1000', '1000-1000-1', '1000-1000-1000', 'nan-nan-nan'],\n",
              "      dtype='object')"
            ]
          },
          "metadata": {},
          "execution_count": 18
        }
      ]
    },
    {
      "cell_type": "code",
      "source": [
        "# importing the required module\n",
        "import matplotlib.pyplot as plt\n",
        "\n",
        "data_to_save.sort_values('9T_4P_last_value', inplace=True)\n",
        "\n",
        "# # x axis values\n",
        "x = data_to_save['lambdacombo']\n",
        "# corresponding y axis values\n",
        "y = data_to_save['9T_4P_last_value']\n",
        "\n",
        "plt.figure(figsize=(35,5))\n",
        "# plotting the points \n",
        "plt.scatter(x, y)\n",
        "  \n",
        "# naming the x axis\n",
        "plt.xlabel('Type of Training')\n",
        "# naming the y axis\n",
        "plt.ylabel('Misclassifications')\n",
        "  \n",
        "# giving a title to my graph\n",
        "plt.title('Number of Misclassifications versus the Type of Training')\n",
        "  \n",
        "# function to show the plot\n",
        "plt.show() "
      ],
      "metadata": {
        "colab": {
          "base_uri": "https://localhost:8080/",
          "height": 350
        },
        "id": "EyjS_rPkAlKo",
        "outputId": "3e53a02d-5922-4495-af63-32a6c38e5461"
      },
      "execution_count": 149,
      "outputs": [
        {
          "output_type": "display_data",
          "data": {
            "text/plain": [
              "<Figure size 2520x360 with 1 Axes>"
            ],
            "image/png": "[encoded data removed]"
          },
          "metadata": {
            "needs_background": "light"
          }
        }
      ]
    },
    {
      "cell_type": "code",
      "source": [
        "# data_to_save.groupby('lambdacombo')['9T_4P_last_value','val_categorical_accuracy_last_value'].describe()\n",
        "data_combo_summary = data_to_save.groupby('lambdacombo')['9T_4P_last_value','val_categorical_accuracy_last_value', '4T_9P_last_value'].mean()\n",
        "data_combo_summary.sort_values('9T_4P_last_value', inplace=True)\n",
        "\n",
        "# # x axis values\n",
        "x = data_combo_summary.index\n",
        "\n",
        "# corresponding y axis values\n",
        "y1 = data_combo_summary['9T_4P_last_value']\n",
        "y2 = data_combo_summary['4T_9P_last_value']\n",
        "y3 = data_combo_summary['val_categorical_accuracy_last_value']\n",
        "\n",
        "fig, (ax1, ax2, ax3) = plt.subplots(3, figsize=(30,15), sharex=True)\n",
        "fig.suptitle('Overview of three-variables means and lambda-combos')\n",
        "plt.xticks(rotation=90)\n",
        "  \n",
        "# ax1.scatter(x, y1, c = \"b\", marker='^')\n",
        "ax1.scatter(data_to_save['lambdacombo'], data_to_save['9T_4P_last_value'], marker='.')\n",
        "ax1.set_title('Num of 9 Misclassified as 4s (concern)')\n",
        "\n",
        "# ax2.scatter(x, y2, c=\"orange\")\n",
        "ax2.set_title('Num of 4s Misclassified as 9s (reverse concern)')\n",
        "ax2.scatter(data_to_save['lambdacombo'], data_to_save['4T_9P_last_value'], marker='.')\n",
        " \n",
        "# ax3.scatter(x, y3, c='green')\n",
        "ax3.scatter(data_to_save['lambdacombo'], data_to_save['val_categorical_accuracy_last_value'], marker='.')\n",
        "ax3.set_title('Val Categorical Accuracy')\n",
        "\n",
        "ax1.tick_params(axis='x', labelrotation=90)\n",
        "ax2.tick_params(axis='x', labelrotation=90)\n",
        "ax3.tick_params(axis='x', labelrotation=90)\n",
        "  "
      ],
      "metadata": {
        "colab": {
          "base_uri": "https://localhost:8080/",
          "height": 1000
        },
        "id": "awtwxAD0TcN7",
        "outputId": "be1d0c9b-f0b0-4473-8f99-fe69c26df246"
      },
      "execution_count": 150,
      "outputs": [
        {
          "output_type": "display_data",
          "data": {
            "text/plain": [
              "<Figure size 2160x1080 with 3 Axes>"
            ],
            "image/png": "[encoded data removed]"
          },
          "metadata": {
            "needs_background": "light"
          }
        }
      ]
    },
    {
      "cell_type": "code",
      "source": [],
      "metadata": {
        "id": "qHSU3OVQIyFx"
      },
      "execution_count": null,
      "outputs": []
    },
    {
      "cell_type": "markdown",
      "source": [
        "It doesn't seem to matter what you do in the middle or later phases according to this experiment.   So more to follow is to see if there is a difference with middle and late phase training.  Sequential testing in JMP does show that lambda1 is most significant.  Now what?"
      ],
      "metadata": {
        "id": "hKoBIeBYxuYo"
      }
    },
    {
      "cell_type": "code",
      "source": [
        "# thoughts\n"
      ],
      "metadata": {
        "id": "Crz9686EaRxU",
        "colab": {
          "base_uri": "https://localhost:8080/"
        },
        "outputId": "4f8ffab8-b25b-457a-a7c1-80f406d8e6eb"
      },
      "execution_count": 89,
      "outputs": [
        {
          "output_type": "execute_result",
          "data": {
            "text/plain": [
              "0"
            ]
          },
          "metadata": {},
          "execution_count": 89
        }
      ]
    },
    {
      "cell_type": "code",
      "source": [
        "#Save a file to myDrive/con3"
      ],
      "metadata": {
        "id": "8My0DZuBOBG1"
      },
      "execution_count": null,
      "outputs": []
    },
    {
      "cell_type": "markdown",
      "source": [
        "# Analyze \n",
        "\n",
        "\\\\\n"
      ],
      "metadata": {
        "id": "NP_kxNkhn6Fd"
      }
    },
    {
      "cell_type": "code",
      "source": [
        "# import numpy as np\n",
        "# import pandas as pd\n",
        "# empty_cm = np.zeros((10,10))  \n",
        "# empty_cm=pd.DataFrame(empty_cm)\n",
        "\n",
        "# empty_cm.columns = ['0p', '1p', '2p', '3p', '4p', '5p', '6p', '7p', '8p', '9p']\n",
        "# empty_cm.index = ['0t', '1t', '2t', '3t', '4t', '5t', '6t', '7t', '8t', '9t']\n",
        "\n",
        "# # print(myvar_cm_average)\n",
        "\n",
        "# empty_cm_array = np.asarray(empty_cm)\n",
        "# empty_cm_array_1_100 = np.reshape(empty_cm_array,(1,100))\n",
        "# # print(cm_average_array)\n",
        "\n",
        "# df = empty_cm\n",
        "# df_new = pd.DataFrame(empty_cm_array_1_100,  columns=pd.MultiIndex.from_product([ df.index,df.columns]))\n",
        "# df_new.columns.to_flat_index()\n",
        "# df_new.columns   = ['_'.join(col) for col in df_new.columns.values]\n",
        "\n",
        "# # Now convert combined_cms of size 30x100 to a panda dataframe\n",
        "# cms_df = pd.DataFrame(combined_cms, columns=[df_new.columns], index=[\"First\", \"Second\", \"Third\"])\n",
        "\n",
        "# cms_df\n",
        "\n",
        "# for run in runs:\n",
        "#   for rep in reps:\n",
        "#     for phase in phases:\n",
        "#       pd.DataFrame(combined_history_dictionary[run,rep][\"3ConfusionMatrices\"], columns=[df_new.columns], index=[\"First\", \"Second\", \"Third\"])"
      ],
      "metadata": {
        "id": "kLrNJE0s53pb"
      },
      "execution_count": null,
      "outputs": []
    },
    {
      "cell_type": "code",
      "source": [
        "# combined_cms[0,]"
      ],
      "metadata": {
        "id": "eo_ahxwTVI0T"
      },
      "execution_count": null,
      "outputs": []
    },
    {
      "cell_type": "code",
      "source": [
        "# combined_cms_df[\"9t_4p\"]"
      ],
      "metadata": {
        "id": "HgPClcrAUdxu"
      },
      "execution_count": null,
      "outputs": []
    },
    {
      "cell_type": "code",
      "source": [
        "# np.average(combined_cms_df[\"9t_4p\"])"
      ],
      "metadata": {
        "id": "TY59hUTadVyp"
      },
      "execution_count": null,
      "outputs": []
    },
    {
      "cell_type": "code",
      "source": [
        "# csv_filename = file_name[:-4] + \".csv\"\n",
        "\n",
        "# combined_cms_df.to_csv(csv_filename)\n",
        "# # \n",
        "\n",
        "# from google.colab import files\n",
        "# files.download(csv_filename )\n",
        "\n",
        "# print(\"Downloading \", csv_filename , \" of shape \", combined_cms_df.shape)"
      ],
      "metadata": {
        "id": "ceUFAr_z9xsk"
      },
      "execution_count": null,
      "outputs": []
    },
    {
      "cell_type": "code",
      "source": [
        "# df = pd.DataFrame(sum(var)/len(var), columns=[\"Values\"]) \n",
        "# # print(df)\n",
        "\n",
        "# df.style.format({\n",
        "#   'Values': lambda val: f'{val:,.2f}',\n",
        "# })\n",
        "\n",
        "# (df.sort_values(by=\"Values\", ascending=False)[0:20])\n",
        "\n",
        "\n",
        "# df_sorted = df.sort_values(by=\"Values\", ascending=False)[10:]  #the top 10 are usually diagonal\n",
        "\n",
        "\n",
        "# df_sorted.style.format({\n",
        "#   'Values': lambda val: f'{val:,.2f}',\n",
        "# })\n",
        "\n",
        "# import math\n",
        "\n",
        "# print(\"On average...\")\n",
        "# print(\"Num 1 misclassifications are misclassifying a \", math.floor((df_sorted[\"Values\"].index[0])/10), \" as a \", df_sorted[\"Values\"].index[0]%10, \"  (\", (df_sorted[\"Values\"].values[0]), \" times)\" )\n",
        "# print(\"Num 2 misclassifications are misclassifying a \", math.floor((df_sorted[\"Values\"].index[1])/10), \" as a \", df_sorted[\"Values\"].index[1]%10, \"  (\", (df_sorted[\"Values\"].values[1]), \" times)\" )\n",
        "# print(\"Num 3 misclassifications are misclassifying a \", math.floor((df_sorted[\"Values\"].index[2])/10), \" as a \", df_sorted[\"Values\"].index[2]%10, \"  (\", (df_sorted[\"Values\"].values[2]), \" times)\" )\n",
        "\n",
        "\n"
      ],
      "metadata": {
        "id": "-pGNLuE8gNrB"
      },
      "execution_count": null,
      "outputs": []
    },
    {
      "cell_type": "code",
      "source": [
        "# df_percents = pd.DataFrame( ((sum(var)*100/len(var)).reshape((10,10))/truth_num_per_category).reshape((100)), columns = [\"Values\"])\n",
        "\n",
        "\n",
        "# df_sorted_percents = df_percents.sort_values(by=\"Values\", ascending=False)[10:]  #the top 10 are usually diagonal\n",
        "\n",
        "# df_sorted_percents.style.format({\n",
        "#   'Values': lambda val: f'{val:,.2f}',\n",
        "# })\n",
        "\n",
        "# print(\"On average .. \")\n",
        "# print(\"Num 1 percent misclassifications\", math.floor((df_sorted_percents[\"Values\"].index[0])/10), \" as \", df_sorted_percents[\"Values\"].index[0]%10, (df_sorted_percents[\"Values\"].values[0]), \" percent\" )\n",
        "# print(\"Num 2 percent misclassifications\", math.floor((df_sorted_percents[\"Values\"].index[1])/10), \" as \", df_sorted_percents[\"Values\"].index[1]%10,  (df_sorted_percents[\"Values\"].values[1]), \" percent\" )\n",
        "# print(\"Num 3 percent misclassifications\", math.floor((df_sorted_percents[\"Values\"].index[2])/10), \" as \", df_sorted_percents[\"Values\"].index[2]%10, (df_sorted_percents[\"Values\"].values[2]), \" percent\" )\n",
        "\n",
        "\n",
        "\n",
        "\n"
      ],
      "metadata": {
        "id": "AKYclir2p8wk"
      },
      "execution_count": null,
      "outputs": []
    },
    {
      "cell_type": "markdown",
      "source": [
        "\n",
        "First column name  | Second column name \n",
        "-------------------|------------------\n",
        "Row 1, Col 1       | Row 1, Col 2 \n",
        "Row 2, Col 1       | Row 2, Col 2 "
      ],
      "metadata": {
        "id": "ltYFvZnJuW5v"
      }
    },
    {
      "cell_type": "code",
      "source": [],
      "metadata": {
        "id": "VZbhS1xhBwUB"
      },
      "execution_count": null,
      "outputs": []
    }
  ]
}