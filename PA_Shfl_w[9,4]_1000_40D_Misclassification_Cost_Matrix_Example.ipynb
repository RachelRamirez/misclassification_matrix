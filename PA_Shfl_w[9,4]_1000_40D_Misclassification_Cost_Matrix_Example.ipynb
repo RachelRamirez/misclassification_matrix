{
  "nbformat": 4,
  "nbformat_minor": 0,
  "metadata": {
    "colab": {
      "provenance": [],
      "authorship_tag": "ABX9TyNTT7TRlkN6tJ4NsBahP/Mc",
      "include_colab_link": true
    },
    "kernelspec": {
      "name": "python3",
      "display_name": "Python 3"
    },
    "language_info": {
      "name": "python"
    },
    "gpuClass": "standard",
    "accelerator": "GPU"
  },
  "cells": [
    {
      "cell_type": "markdown",
      "metadata": {
        "id": "view-in-github",
        "colab_type": "text"
      },
      "source": [
        "<a href=\"https://colab.research.google.com/github/RachelRamirez/misclassification_matrix/blob/main/PA_Shfl_w%5B9%2C4%5D_1000_40D_Misclassification_Cost_Matrix_Example.ipynb\" target=\"_parent\"><img src=\"https://colab.research.google.com/assets/colab-badge.svg\" alt=\"Open In Colab\"/></a>"
      ]
    },
    {
      "cell_type": "markdown",
      "source": [
        "## What happens when I use PA method with Weighted_Matrix with w_array[9, 4] = 10 and Model Shuffle=True and I reduce the capacity of the neural network from 512 to 40 connections\n",
        "\n",
        "  Filename \"PA_Shfl_w[9,4]_2.0_40D_Misclassification_Cost_Matrix_Example\""
      ],
      "metadata": {
        "id": "NqL4ADhFLsqG"
      }
    },
    {
      "cell_type": "markdown",
      "source": [
        "Its hard to see if the misclassification weight is making a difference so I am now making the neural network not as great by reducing the number of dense connections in each layer from 512 to X/40.  Realized after I saved that everything was taking 15 epochs so I need to increase training time - turns out it only needed 16"
      ],
      "metadata": {
        "id": "kq-OgF8xLiia"
      }
    },
    {
      "cell_type": "markdown",
      "source": [
        "I'm changing Model Shuffle=True to see if that helps with the validation loss jumping around"
      ],
      "metadata": {
        "id": "kOGlieEKlMrH"
      }
    },
    {
      "cell_type": "markdown",
      "source": [
        "The results of running the  ISantaro appeared counterintuitive, because when I increased the cost of a misclassification, more misclassifications were made. It was hard to see at first because it wasn't consistently happening, it happened 7 out of 30 times, but when it happened it was a very large number of misclassifications.   So now I'm looking to compare another code implementation,  by Phil Alton here:  https://stackoverflow.com/a/61963004 "
      ],
      "metadata": {
        "id": "xW_9TgRZB0s6"
      }
    },
    {
      "cell_type": "markdown",
      "source": [
        "Remember to change the [Admin File stuff]  below and the Weight Matrix before Running"
      ],
      "metadata": {
        "id": "HhaPibIBBS80"
      }
    },
    {
      "cell_type": "markdown",
      "source": [
        "#### Check timezone if incorrect restart"
      ],
      "metadata": {
        "id": "l4sBTo67FC9-"
      }
    },
    {
      "cell_type": "code",
      "source": [
        "# How to change the local time in Google Colab\n",
        "!rm /etc/localtime\n",
        "!ln -s /usr/share/zoneinfo/US/Eastern /etc/localtime\n",
        "!date\n",
        "\n",
        "#If this doesn't show the local time correctly, then you need to restart.\n",
        "import time\n",
        "time.localtime(time.time())"
      ],
      "metadata": {
        "colab": {
          "base_uri": "https://localhost:8080/"
        },
        "id": "g4I5Wm-6EPYR",
        "outputId": "5fbde555-398c-418a-a94d-5c3cc2f2e318"
      },
      "execution_count": 2,
      "outputs": [
        {
          "output_type": "stream",
          "name": "stdout",
          "text": [
            "Tue 28 Feb 2023 10:43:55 AM EST\n"
          ]
        },
        {
          "output_type": "execute_result",
          "data": {
            "text/plain": [
              "time.struct_time(tm_year=2023, tm_mon=2, tm_mday=28, tm_hour=15, tm_min=43, tm_sec=55, tm_wday=1, tm_yday=59, tm_isdst=0)"
            ]
          },
          "metadata": {},
          "execution_count": 2
        }
      ]
    },
    {
      "cell_type": "markdown",
      "source": [
        "### Reproducible Seeds"
      ],
      "metadata": {
        "id": "Wn15dbArlsIs"
      }
    },
    {
      "cell_type": "code",
      "source": [
        "#For Reproducibility\n",
        "import numpy as np\n",
        "# np.random.seed(1337)  # for reproducibility\n",
        "\n",
        "import tensorflow as tf\n",
        "# tf.random.set_seed(33)\n",
        "\n",
        "import random as python_random\n",
        "# python_random.seed(4)\n",
        "\n",
        "# https://www.tensorflow.org/api_docs/python/tf/keras/utils/set_random_seed\n",
        "tf.keras.utils.set_random_seed(342) #Possibly use next iteration if the above doesn't work\n",
        "\n",
        "\n",
        "# Running more than once causes variation.  try adding this:\n",
        "# Set seed value\n",
        "seed_value = 56\n",
        "import os\n",
        "os.environ['PYTHONHASHSEED']=str(seed_value)\n",
        "\n",
        "print(\"TF version: \" , tf.__version__ )\n",
        "print(\"Keras version: \" , tf.keras.__version__ )"
      ],
      "metadata": {
        "colab": {
          "base_uri": "https://localhost:8080/"
        },
        "id": "zcjDfFIIbmbo",
        "outputId": "0b34bd9e-58be-4f32-b7bf-ba4c2e83726d"
      },
      "execution_count": 3,
      "outputs": [
        {
          "output_type": "stream",
          "name": "stdout",
          "text": [
            "TF version:  2.11.0\n",
            "Keras version:  2.11.0\n"
          ]
        }
      ]
    },
    {
      "cell_type": "markdown",
      "source": [
        "### Import rest of Library"
      ],
      "metadata": {
        "id": "mTW-hEgnlp44"
      }
    },
    {
      "cell_type": "code",
      "source": [
        "\n",
        "# from https://github.com/keras-team/keras/issues/2115#issuecomment-204060456\n",
        "# witha correction on the weighted function in the middle \n",
        "\n",
        "'''Train a simple deep NN on the MNIST dataset.\n",
        "Get to 98.40% test accuracy after 20 epochs\n",
        "(there is *a lot* of margin for parameter tuning).\n",
        "2 seconds per epoch on a K520 GPU.\n",
        "'''\n",
        "\n",
        "from __future__ import print_function  #do i still need this?\n",
        "from keras.datasets import mnist\n",
        "from keras.models import Sequential\n",
        "from keras.layers.core import Dense, Dropout, Activation\n",
        "from keras.optimizers import SGD, Adam, RMSprop\n",
        "from keras.utils import np_utils\n",
        "import keras.backend as K\n",
        "from itertools import product\n",
        "import functools\n",
        "from functools import partial\n",
        "from time import ctime\n",
        "from time import sleep\n",
        "import matplotlib.pyplot as plt\n",
        "import seaborn as sns\n",
        "import pandas as pd \n",
        "from sklearn.metrics import confusion_matrix\n",
        "\n",
        "## MORE REPEATABILITY STUFF NEEDED - If theres a way to update this to V2 of Tensorflow great, otherwise I had to use TF 1.0 code\n",
        "# 5. Configure a new global `tensorflow` session (https://stackoverflow.com/questions/50659482/why-cant-i-get-reproducible-results-in-keras-even-though-i-set-the-random-seeds)\n",
        "# from keras import backend as K\n",
        "\n",
        "\n",
        "#I believe thecode below is to help things be repeatable each time different sections in my google colab notebook execute\n",
        "session_conf = tf.compat.v1.ConfigProto(intra_op_parallelism_threads=1, inter_op_parallelism_threads=1)\n",
        "sess = tf.compat.v1.Session(graph=tf.compat.v1.get_default_graph(), config=session_conf)\n",
        "K.set_session(sess)"
      ],
      "metadata": {
        "id": "idfYNyyAgMsO"
      },
      "execution_count": 4,
      "outputs": []
    },
    {
      "cell_type": "markdown",
      "source": [
        "### Define batch, epochs, and format data"
      ],
      "metadata": {
        "id": "otcbfKF7mY9y"
      }
    },
    {
      "cell_type": "code",
      "source": [
        "batch_size = 256 # I originally had it very  high batch size to reduce the variation in the data each batch and hope it makes the model training more nearly identical which it did, then i bring it back down to something reasonable to get better results training the NN\n",
        "nb_classes = 10\n",
        "nb_epoch = 45\n",
        "\n",
        "# the data, shuffled and split between train and test sets\n",
        "(X_train, y_train), (X_test, y_test) = mnist.load_data()\n",
        "\n",
        "\n",
        "X_train = X_train.reshape(60000, 784)\n",
        "X_test = X_test.reshape(10000, 784)\n",
        "X_train = X_train.astype('float32')\n",
        "X_test = X_test.astype('float32')\n",
        "X_train /= 255\n",
        "X_test /= 255\n",
        "print(X_train.shape[0], 'train samples')\n",
        "print(X_test.shape[0], 'test samples')\n",
        "\n",
        "# convert class vectors to binary class matrices\n",
        "Y_train = np_utils.to_categorical(y_train, nb_classes)\n",
        "Y_test = np_utils.to_categorical(y_test, nb_classes)\n"
      ],
      "metadata": {
        "colab": {
          "base_uri": "https://localhost:8080/"
        },
        "id": "B59UXDb8i8W5",
        "outputId": "2e9a03da-e715-4e4f-f682-803049b0a4c4"
      },
      "execution_count": 5,
      "outputs": [
        {
          "output_type": "stream",
          "name": "stdout",
          "text": [
            "Downloading data from https://storage.googleapis.com/tensorflow/tf-keras-datasets/mnist.npz\n",
            "11490434/11490434 [==============================] - 0s 0us/step\n",
            "60000 train samples\n",
            "10000 test samples\n"
          ]
        }
      ]
    },
    {
      "cell_type": "markdown",
      "source": [
        "### Define Same Model but use normal Categorical CrossEntropy with no extra cost-matrix of Weights"
      ],
      "metadata": {
        "id": "HtojTVZBvLEW"
      }
    },
    {
      "cell_type": "code",
      "source": [
        "# def normal_method():\n",
        "\n",
        "#   model = Sequential()\n",
        "#   model.add(Dense(512, input_shape=(784,) ,kernel_initializer=tf.keras.initializers.glorot_uniform(seed=42)))\n",
        "#   model.add(Activation('relu'))\n",
        "#   model.add(Dropout(0.2))\n",
        "#   model.add(Dense(512, kernel_initializer=tf.keras.initializers.glorot_uniform(seed=42)))\n",
        "#   model.add(Activation('relu'))\n",
        "#   model.add(Dropout(0.2))\n",
        "#   model.add(Dense(10, kernel_initializer=tf.keras.initializers.glorot_uniform(seed=42)))\n",
        "#   model.add(Activation('softmax'))\n",
        "\n",
        "#   rms = RMSprop()\n",
        "#   # model.compile(loss=ncce, optimizer=rms)\n",
        "#   model.compile(loss=tf.keras.losses.CategoricalCrossentropy(), optimizer=rms, metrics='categorical_accuracy', )\n",
        "\n",
        "#   #add early_stop to prevent overfittings\n",
        "#   # callback = tf.keras.callbacks.EarlyStopping(monitor='val_loss', patience=3)\n",
        "\n",
        "#   model_history = model.fit(X_train, Y_train,\n",
        "#             batch_size=batch_size, epochs=nb_epoch, verbose=2,\n",
        "#             validation_data=(X_test, Y_test),shuffle=False, use_multiprocessing=True\n",
        "#             , callbacks = [callback])\n",
        "\n",
        "  \n",
        "#   # model.evaluate(X_test, Y_test, verbose=1)  # I know this isn't the typical use of train/val/test sets, please dont' comment on that\n",
        "  \n",
        "#   #Predict\n",
        "#   y_prediction = model.predict(X_test)\n",
        "#   y_prediction  = np.argmax(y_prediction, axis=1)\n",
        "#   # Y_prediction = np_utils.to_categorical(y_prediction, nb_classes) #If I want to do SparseCategoricalAccuracy\n",
        "\n",
        "#   #Create confusion matrix and normalizes it over predicted (columns)\n",
        "#   # result = confusion_matrix(y_test, y_prediction , normalize='pred')  #if I want percentages instead of raw counts\n",
        "\n",
        "  \n",
        "#   cm = confusion_matrix(y_test, y_prediction)\n",
        "#   cm = pd.DataFrame(cm, range(10),range(10))\n",
        "\n",
        "#   #This shows a pretty confusion matrix which I don't neeed to show right now\n",
        "#   # plt.figure(figsize = (10,10))\n",
        "#   # sns.heatmap(cm, annot=True, annot_kws={\"size\": 12}) # font size\n",
        "#   # plt.show()\n",
        "#   # cm_normal = cm\n",
        "\n",
        "#   return cm\n"
      ],
      "metadata": {
        "id": "InYvpv3kaCxb"
      },
      "execution_count": 6,
      "outputs": []
    },
    {
      "cell_type": "code",
      "source": [],
      "metadata": {
        "id": "cw2zBqpvvzi0"
      },
      "execution_count": 6,
      "outputs": []
    },
    {
      "cell_type": "markdown",
      "source": [
        "### Weighted Categorical Cross Entropy Class"
      ],
      "metadata": {
        "id": "3fHQHrz8MwXJ"
      }
    },
    {
      "cell_type": "code",
      "source": [
        "class WeightedCategoricalCrossentropy(tf.keras.losses.CategoricalCrossentropy):\n",
        "\n",
        "  def __init__(self, cost_mat, name='weighted_categorical_crossentropy', **kwargs):\n",
        "\n",
        "    cost_mat = np.array(cost_mat)   \n",
        "    ## when loading from config, self.cost_mat returns as a list, rather than an numpy array. \n",
        "    ## Adding the above line fixes this issue, enabling .ndim to call sucessfully. \n",
        "    ## However, this is probably not the best implementation\n",
        "    assert(cost_mat.ndim == 2)\n",
        "    assert(cost_mat.shape[0] == cost_mat.shape[1])\n",
        "    super().__init__(name=name, **kwargs)\n",
        "    self.cost_mat = K.cast_to_floatx(cost_mat)\n",
        "\n",
        "  def __call__(self, y_true, y_pred, sample_weight=None):\n",
        "    assert sample_weight is None, \"should only be derived from the cost matrix\"  \n",
        "    return super().__call__(\n",
        "        y_true=y_true, \n",
        "        y_pred=y_pred, \n",
        "        sample_weight=get_sample_weights(y_true, y_pred, self.cost_mat),\n",
        "    )\n",
        "\n",
        "\n",
        "  def get_config(self):\n",
        "    config = super().get_config().copy()\n",
        "    # Calling .update on the line above, during assignment, causes an error with config becoming None-type.\n",
        "    config.update({'cost_mat': (self.cost_mat)})\n",
        "    return config\n",
        "\n",
        "  @classmethod\n",
        "  def from_config(cls, config):\n",
        "    # something goes wrong here and changes self.cost_mat to a list variable.\n",
        "    # See above for temporary fix\n",
        "    return cls(**config)\n",
        "\n",
        "def get_sample_weights(y_true, y_pred, cost_m):\n",
        "    num_classes = len(cost_m)\n",
        "\n",
        "    y_pred.shape.assert_has_rank(2)\n",
        "    assert(y_pred.shape[1] == num_classes)\n",
        "    y_pred.shape.assert_is_compatible_with(y_true.shape)\n",
        "\n",
        "    y_pred = K.one_hot(K.argmax(y_pred), num_classes)\n",
        "\n",
        "    y_true_nk1 = K.expand_dims(y_true, 2)\n",
        "    y_pred_n1k = K.expand_dims(y_pred, 1)\n",
        "    cost_m_1kk = K.expand_dims(cost_m, 0)\n",
        "\n",
        "    sample_weights_nkk = cost_m_1kk * y_true_nk1 * y_pred_n1k\n",
        "    sample_weights_n = K.sum(sample_weights_nkk, axis=[1, 2])\n",
        "\n",
        "    return sample_weights_n\n",
        "\n",
        "\n",
        "# Register the loss in the Keras namespace to enable loading of the custom object.\n",
        "tf.keras.losses.WeightedCategoricalCrossentropy = WeightedCategoricalCrossentropy\n",
        " "
      ],
      "metadata": {
        "id": "pUR1sLQ7MvVa"
      },
      "execution_count": 7,
      "outputs": []
    },
    {
      "cell_type": "markdown",
      "source": [
        "### WeightedCategoricalCross Entropy Function "
      ],
      "metadata": {
        "id": "-uJmU0t4ANuv"
      }
    },
    {
      "cell_type": "code",
      "source": [
        "def PA_method(cost_matrix):\n",
        "\n",
        "  model3 = Sequential()\n",
        "  model3.add(Dense(40, input_shape=(784,), kernel_initializer=tf.keras.initializers.glorot_uniform(seed=42)))\n",
        "  model3.add(Activation('relu'))\n",
        "  model3.add(Dropout(0.2))\n",
        "  model3.add(Dense(40, kernel_initializer=tf.keras.initializers.glorot_uniform(seed=42)))\n",
        "  model3.add(Activation('relu'))\n",
        "  model3.add(Dropout(0.2))\n",
        "  model3.add(Dense(10,kernel_initializer=tf.keras.initializers.glorot_uniform(seed=42)))\n",
        "  model3.add(Activation('softmax'))\n",
        "\n",
        "  rms = RMSprop()  #https://keras.io/api/optimizers/rmsprop/\n",
        "\n",
        "  model3.compile(loss=WeightedCategoricalCrossentropy(cost_matrix), optimizer=rms,  metrics='categorical_accuracy',)\n",
        "  callback = tf.keras.callbacks.EarlyStopping(monitor='val_loss', patience=10, verbose=1, restore_best_weights = True)\n",
        "\n",
        "  model3_history = model3.fit(X_train, Y_train,\n",
        "            batch_size=batch_size, epochs=nb_epoch, verbose=2,\n",
        "            validation_data=(X_test, Y_test), shuffle=True, use_multiprocessing=True\n",
        "            ,callbacks = [callback]\n",
        "            )\n",
        "\n",
        " \n",
        "\n",
        "  #Predict\n",
        "  y_prediction = model3.predict(X_test)\n",
        "  y_prediction  = np.argmax(y_prediction, axis=1)\n",
        "  # Y_prediction = np_utils.to_categorical(y_prediction, nb_classes)\n",
        "\n",
        "  #Create confusion matrix and normalizes it over predicted (columns)\n",
        "  # result = confusion_matrix(y_test, y_prediction , normalize='pred')\n",
        "\n",
        "  \n",
        "\n",
        "  cm3 = confusion_matrix(y_test, y_prediction)\n",
        "  cm3 = pd.DataFrame(cm3, range(10),range(10))\n",
        "  # plt.figure(figsize = (10,10))\n",
        "  # cm3\n",
        "  # sns.heatmap(cm2, annot=True, annot_kws={\"size\": 12}) # font size\n",
        "  # plt.show()\n",
        "\n",
        "  # cm_using_weighted_new = cm3\n",
        "\n",
        "  print(model3_history.history)\n",
        " \n",
        "  plt.plot(model3_history.history['categorical_accuracy'])\n",
        "  plt.plot(model3_history.history['val_categorical_accuracy'])\n",
        "  plt.title('model accuracy')\n",
        "  plt.ylabel('accuracy')\n",
        "  plt.xlabel('epoch')\n",
        "  plt.legend(['train', 'val'], loc='upper left')\n",
        "  plt.show()\n",
        "  \n",
        "\n",
        "  plt.plot(model3_history.history['loss'])\n",
        "  plt.plot(model3_history.history['val_loss'])\n",
        "  plt.title('model loss')\n",
        "  plt.ylabel('loss')\n",
        "  plt.xlabel('epoch')\n",
        "  plt.legend(['train', 'val'], loc='upper left')\n",
        "  plt.show()\n",
        "\n",
        "\n",
        "\n",
        "\n",
        "  return cm3, model3_history"
      ],
      "metadata": {
        "id": "3UWVdmRHNBhP"
      },
      "execution_count": 8,
      "outputs": []
    },
    {
      "cell_type": "markdown",
      "source": [
        "### *Keep Track of Experimental Admin Stuff - #Runs and #CostMatrix\n",
        "\n",
        "> Change the cost matrix and number of runs and check the file extension name \n"
      ],
      "metadata": {
        "id": "skXIN6S4npiV"
      }
    },
    {
      "cell_type": "markdown",
      "source": [
        "#### *Define Cost Matrix and Method"
      ],
      "metadata": {
        "id": "q9YhLRi4NU2E"
      }
    },
    {
      "cell_type": "code",
      "source": [
        "# Experimental Admin Stuff\n",
        "cost_matrix = np.ones((10,10))\n",
        "\n",
        "### Weight of Misclassification\n",
        "## ~~~~~~~~~~~~~~~~~~~~~~~~~~~~~~~~~~~~~\n",
        "cost_matrix[9, 4] = 1000\n",
        "cost_str = str(cost_matrix[9, 4])\n",
        "## ~~~~~~~~~~~~~~~~~~~~~~~~~~~~~~~~~~~~~\n",
        "\n",
        "\n",
        "\n",
        "### File Extension to reference in JMP : weights_method_cost\n",
        "## ~~~~~~~~~~~~~~~~~~~~~~~~~~~~~~~~~~~~~\n",
        "file_extension = \"w[9,4]_PA_\" + cost_str + \"_Shfl_40D_\"\n",
        "## ~~~~~~~~~~~~~~~~~~~~~~~~~~~~~~~~~~~~~\n",
        "\n",
        "\n",
        "np.set_printoptions(suppress=True)\n",
        "np.set_printoptions(precision=2)\n",
        "\n",
        "print(\"Last run using \", cost_str)"
      ],
      "metadata": {
        "id": "3bMXTRRBnn3E",
        "colab": {
          "base_uri": "https://localhost:8080/"
        },
        "outputId": "19017f8f-020a-4d10-833b-89fed2a6010e"
      },
      "execution_count": 9,
      "outputs": [
        {
          "output_type": "stream",
          "name": "stdout",
          "text": [
            "Last run using  1000.0\n"
          ]
        }
      ]
    },
    {
      "cell_type": "markdown",
      "source": [
        "#### Run Experiments"
      ],
      "metadata": {
        "id": "x_EdEdJwOpvO"
      }
    },
    {
      "cell_type": "code",
      "source": [
        "#@title\n",
        "cm = np.zeros([10,10])\n",
        "combined_cms = np.empty((1,100))\n",
        "\n",
        "combined_history_dictionary = {}  #because there will be a unknown number of epochs a dictionary is probly a better fit\n",
        "combined_history_list       = []\n",
        "\n",
        "\n",
        "## Define the total number of runs\n",
        "### ~~~~~~~~~\n",
        "runs = 1\n",
        "### ~~~~~~~~~~\n",
        "\n",
        "for i in range(1,runs+1):\n",
        "  print(i)\n",
        "  cm2 , history =  PA_method(cost_matrix)    #Individual CM, and Training/Validation History\n",
        "  print(\"CM: \\n\", cm2)\n",
        "  \n",
        "\n",
        "  combined_history_dictionary[i] = history\n",
        "  combined_history_list.append(history)\n",
        "  # cm += cm2                   #Aggregating for an Average\n",
        "  cm2_array = np.asarray(cm2)  #Indiv CM as array for storing\n",
        "  combined_cms = np.vstack((combined_cms,cm2_array.reshape((1,100))))\n",
        "\n",
        "\n",
        "\n",
        "# cm_new = cm/30"
      ],
      "metadata": {
        "id": "OSq7jMYUOF4t",
        "colab": {
          "base_uri": "https://localhost:8080/",
          "height": 1000
        },
        "outputId": "43c5cf09-1220-46e4-8319-171cc6902809"
      },
      "execution_count": 10,
      "outputs": [
        {
          "output_type": "stream",
          "name": "stdout",
          "text": [
            "1\n",
            "Epoch 1/45\n",
            "235/235 - 13s - loss: 2.3161 - categorical_accuracy: 0.6047 - val_loss: 0.5747 - val_categorical_accuracy: 0.7979 - 13s/epoch - 54ms/step\n",
            "Epoch 2/45\n",
            "235/235 - 2s - loss: 1.2011 - categorical_accuracy: 0.7688 - val_loss: 0.4085 - val_categorical_accuracy: 0.8355 - 2s/epoch - 7ms/step\n",
            "Epoch 3/45\n",
            "235/235 - 2s - loss: 1.0507 - categorical_accuracy: 0.8167 - val_loss: 0.3387 - val_categorical_accuracy: 0.8647 - 2s/epoch - 7ms/step\n",
            "Epoch 4/45\n",
            "235/235 - 2s - loss: 0.9595 - categorical_accuracy: 0.8412 - val_loss: 0.3308 - val_categorical_accuracy: 0.8652 - 2s/epoch - 7ms/step\n",
            "Epoch 5/45\n",
            "235/235 - 2s - loss: 0.7898 - categorical_accuracy: 0.8557 - val_loss: 0.2878 - val_categorical_accuracy: 0.8857 - 2s/epoch - 6ms/step\n",
            "Epoch 6/45\n",
            "235/235 - 2s - loss: 0.8157 - categorical_accuracy: 0.8659 - val_loss: 0.2695 - val_categorical_accuracy: 0.8918 - 2s/epoch - 7ms/step\n",
            "Epoch 7/45\n",
            "235/235 - 1s - loss: 0.8251 - categorical_accuracy: 0.8633 - val_loss: 0.2791 - val_categorical_accuracy: 0.8754 - 1s/epoch - 6ms/step\n",
            "Epoch 8/45\n",
            "235/235 - 1s - loss: 0.7030 - categorical_accuracy: 0.8734 - val_loss: 0.2663 - val_categorical_accuracy: 0.8803 - 845ms/epoch - 4ms/step\n",
            "Epoch 9/45\n",
            "235/235 - 1s - loss: 0.6959 - categorical_accuracy: 0.8760 - val_loss: 0.2581 - val_categorical_accuracy: 0.8827 - 819ms/epoch - 3ms/step\n",
            "Epoch 10/45\n",
            "235/235 - 1s - loss: 0.7186 - categorical_accuracy: 0.8845 - val_loss: 0.3066 - val_categorical_accuracy: 0.9127 - 797ms/epoch - 3ms/step\n",
            "Epoch 11/45\n",
            "235/235 - 1s - loss: 0.6773 - categorical_accuracy: 0.8880 - val_loss: 0.3053 - val_categorical_accuracy: 0.9264 - 823ms/epoch - 4ms/step\n",
            "Epoch 12/45\n",
            "235/235 - 1s - loss: 0.5937 - categorical_accuracy: 0.8937 - val_loss: 0.2273 - val_categorical_accuracy: 0.9034 - 1s/epoch - 5ms/step\n",
            "Epoch 13/45\n",
            "235/235 - 1s - loss: 0.5408 - categorical_accuracy: 0.9004 - val_loss: 0.5134 - val_categorical_accuracy: 0.9216 - 1s/epoch - 5ms/step\n",
            "Epoch 14/45\n",
            "235/235 - 1s - loss: 0.5298 - categorical_accuracy: 0.8963 - val_loss: 0.9499 - val_categorical_accuracy: 0.9432 - 815ms/epoch - 3ms/step\n",
            "Epoch 15/45\n",
            "235/235 - 1s - loss: 0.5851 - categorical_accuracy: 0.8982 - val_loss: 0.2884 - val_categorical_accuracy: 0.9162 - 844ms/epoch - 4ms/step\n",
            "Epoch 16/45\n",
            "235/235 - 1s - loss: 0.5271 - categorical_accuracy: 0.8982 - val_loss: 0.6452 - val_categorical_accuracy: 0.9286 - 877ms/epoch - 4ms/step\n",
            "Epoch 17/45\n",
            "235/235 - 1s - loss: 0.5744 - categorical_accuracy: 0.8984 - val_loss: 0.4188 - val_categorical_accuracy: 0.9330 - 895ms/epoch - 4ms/step\n",
            "Epoch 18/45\n",
            "235/235 - 1s - loss: 0.5371 - categorical_accuracy: 0.9077 - val_loss: 0.2663 - val_categorical_accuracy: 0.9299 - 856ms/epoch - 4ms/step\n",
            "Epoch 19/45\n",
            "235/235 - 1s - loss: 0.6490 - categorical_accuracy: 0.9031 - val_loss: 0.2014 - val_categorical_accuracy: 0.9132 - 887ms/epoch - 4ms/step\n",
            "Epoch 20/45\n",
            "235/235 - 1s - loss: 0.5666 - categorical_accuracy: 0.9023 - val_loss: 0.2137 - val_categorical_accuracy: 0.9052 - 826ms/epoch - 4ms/step\n",
            "Epoch 21/45\n",
            "235/235 - 1s - loss: 0.5888 - categorical_accuracy: 0.9013 - val_loss: 0.6230 - val_categorical_accuracy: 0.9246 - 830ms/epoch - 4ms/step\n",
            "Epoch 22/45\n",
            "235/235 - 1s - loss: 0.5345 - categorical_accuracy: 0.9057 - val_loss: 0.7575 - val_categorical_accuracy: 0.9345 - 819ms/epoch - 3ms/step\n",
            "Epoch 23/45\n",
            "235/235 - 1s - loss: 0.6249 - categorical_accuracy: 0.9048 - val_loss: 0.2701 - val_categorical_accuracy: 0.9216 - 1s/epoch - 5ms/step\n",
            "Epoch 24/45\n",
            "235/235 - 1s - loss: 0.5595 - categorical_accuracy: 0.9081 - val_loss: 0.4026 - val_categorical_accuracy: 0.9345 - 1s/epoch - 5ms/step\n",
            "Epoch 25/45\n",
            "235/235 - 1s - loss: 0.5293 - categorical_accuracy: 0.9031 - val_loss: 0.4220 - val_categorical_accuracy: 0.9369 - 828ms/epoch - 4ms/step\n",
            "Epoch 26/45\n",
            "235/235 - 1s - loss: 0.5722 - categorical_accuracy: 0.9019 - val_loss: 0.4214 - val_categorical_accuracy: 0.9235 - 823ms/epoch - 4ms/step\n",
            "Epoch 27/45\n",
            "235/235 - 1s - loss: 0.5575 - categorical_accuracy: 0.9048 - val_loss: 0.2067 - val_categorical_accuracy: 0.9161 - 851ms/epoch - 4ms/step\n",
            "Epoch 28/45\n",
            "235/235 - 1s - loss: 0.5259 - categorical_accuracy: 0.9007 - val_loss: 0.2775 - val_categorical_accuracy: 0.9311 - 1s/epoch - 5ms/step\n",
            "Epoch 29/45\n",
            "Restoring model weights from the end of the best epoch: 19.\n",
            "235/235 - 3s - loss: 0.4888 - categorical_accuracy: 0.9073 - val_loss: 0.2786 - val_categorical_accuracy: 0.9303 - 3s/epoch - 11ms/step\n",
            "Epoch 29: early stopping\n",
            "313/313 [==============================] - 1s 4ms/step\n",
            "{'loss': [2.316051483154297, 1.2011150121688843, 1.0507487058639526, 0.9595487117767334, 0.7897951006889343, 0.815744161605835, 0.8251309394836426, 0.7029910087585449, 0.6959202885627747, 0.7185563445091248, 0.677300214767456, 0.5937243700027466, 0.5407525897026062, 0.5297717452049255, 0.5851015448570251, 0.5271209478378296, 0.5744484663009644, 0.5371066927909851, 0.6490291953086853, 0.566615879535675, 0.5887562036514282, 0.5344929099082947, 0.6248704195022583, 0.5594791769981384, 0.5292925238609314, 0.5722488760948181, 0.5574825406074524, 0.525929868221283, 0.4887821078300476], 'categorical_accuracy': [0.6046833395957947, 0.7687833309173584, 0.8166833519935608, 0.8411833047866821, 0.8557166457176208, 0.865933358669281, 0.8633000254631042, 0.8734166622161865, 0.8760499954223633, 0.8845499753952026, 0.8879666924476624, 0.8936833143234253, 0.9004166722297668, 0.8962833285331726, 0.8981500267982483, 0.8982166647911072, 0.8984333276748657, 0.9077333211898804, 0.9031166434288025, 0.9023333191871643, 0.9012666940689087, 0.9056666493415833, 0.9047666788101196, 0.9081000089645386, 0.903083324432373, 0.9018833041191101, 0.9047999978065491, 0.9007166624069214, 0.9072999954223633], 'val_loss': [0.574720025062561, 0.40852120518684387, 0.33867859840393066, 0.3307630717754364, 0.2878079414367676, 0.26949647068977356, 0.2790538966655731, 0.26631516218185425, 0.25811243057250977, 0.3066343367099762, 0.30533698201179504, 0.22728405892848969, 0.5133860111236572, 0.949883222579956, 0.2883692681789398, 0.6451543569564819, 0.41877320408821106, 0.26633593440055847, 0.20138895511627197, 0.21366874873638153, 0.6229978799819946, 0.7575303912162781, 0.2700941264629364, 0.4026096761226654, 0.42204388976097107, 0.42135652899742126, 0.2066846489906311, 0.27754005789756775, 0.2785853147506714], 'val_categorical_accuracy': [0.7979000210762024, 0.8355000019073486, 0.8647000193595886, 0.8651999831199646, 0.885699987411499, 0.8917999863624573, 0.8754000067710876, 0.880299985408783, 0.8827000260353088, 0.9126999974250793, 0.9264000058174133, 0.9034000039100647, 0.9215999841690063, 0.9431999921798706, 0.9161999821662903, 0.928600013256073, 0.9330000281333923, 0.9298999905586243, 0.9132000207901001, 0.9052000045776367, 0.9246000051498413, 0.934499979019165, 0.9215999841690063, 0.934499979019165, 0.9369000196456909, 0.9235000014305115, 0.916100025177002, 0.9311000108718872, 0.9302999973297119]}\n"
          ]
        },
        {
          "output_type": "display_data",
          "data": {
            "text/plain": [
              "<Figure size 432x288 with 1 Axes>"
            ],
            "image/png": "[encoded data removed]"
          },
          "metadata": {
            "needs_background": "light"
          }
        },
        {
          "output_type": "display_data",
          "data": {
            "text/plain": [
              "<Figure size 432x288 with 1 Axes>"
            ],
            "image/png": "[encoded data removed]"
          },
          "metadata": {
            "needs_background": "light"
          }
        },
        {
          "output_type": "stream",
          "name": "stdout",
          "text": [
            "CM: \n",
            "      0     1    2    3    4    5    6    7    8    9\n",
            "0  959     1    2    1    0    3    9    2    3    0\n",
            "1    0  1118    4    3    0    1    3    1    5    0\n",
            "2    7     3  986    4    2    1    5   11   12    1\n",
            "3    0     2   15  963    0   12    0   11    5    2\n",
            "4    0     1    5    0  454    0    9    1    3  509\n",
            "5    4     1    0    9    1  847   11    4    8    7\n",
            "6    7     4    1    1    3    6  933    0    2    1\n",
            "7    3    14   16    5    0    0    0  979    1   10\n",
            "8    7     4    5    9    2    8    5    4  923    7\n",
            "9    2     8    0   12    0    8    1    6    2  970\n"
          ]
        }
      ]
    },
    {
      "cell_type": "code",
      "source": [
        "# dir(history)"
      ],
      "metadata": {
        "id": "s6HsboVWsimi",
        "outputId": "26d129c3-76be-4a0d-8091-ac10138d5781",
        "colab": {
          "base_uri": "https://localhost:8080/"
        }
      },
      "execution_count": 11,
      "outputs": [
        {
          "output_type": "execute_result",
          "data": {
            "text/plain": [
              "['__class__',\n",
              " '__delattr__',\n",
              " '__dict__',\n",
              " '__dir__',\n",
              " '__doc__',\n",
              " '__eq__',\n",
              " '__format__',\n",
              " '__ge__',\n",
              " '__getattribute__',\n",
              " '__gt__',\n",
              " '__hash__',\n",
              " '__init__',\n",
              " '__init_subclass__',\n",
              " '__le__',\n",
              " '__lt__',\n",
              " '__module__',\n",
              " '__ne__',\n",
              " '__new__',\n",
              " '__reduce__',\n",
              " '__reduce_ex__',\n",
              " '__repr__',\n",
              " '__setattr__',\n",
              " '__sizeof__',\n",
              " '__str__',\n",
              " '__subclasshook__',\n",
              " '__weakref__',\n",
              " '_chief_worker_only',\n",
              " '_implements_predict_batch_hooks',\n",
              " '_implements_test_batch_hooks',\n",
              " '_implements_train_batch_hooks',\n",
              " '_keras_api_names',\n",
              " '_keras_api_names_v1',\n",
              " '_supports_tf_logs',\n",
              " 'epoch',\n",
              " 'history',\n",
              " 'model',\n",
              " 'on_batch_begin',\n",
              " 'on_batch_end',\n",
              " 'on_epoch_begin',\n",
              " 'on_epoch_end',\n",
              " 'on_predict_batch_begin',\n",
              " 'on_predict_batch_end',\n",
              " 'on_predict_begin',\n",
              " 'on_predict_end',\n",
              " 'on_test_batch_begin',\n",
              " 'on_test_batch_end',\n",
              " 'on_test_begin',\n",
              " 'on_test_end',\n",
              " 'on_train_batch_begin',\n",
              " 'on_train_batch_end',\n",
              " 'on_train_begin',\n",
              " 'on_train_end',\n",
              " 'params',\n",
              " 'set_model',\n",
              " 'set_params',\n",
              " 'validation_data']"
            ]
          },
          "metadata": {},
          "execution_count": 11
        }
      ]
    },
    {
      "cell_type": "code",
      "source": [
        "print(history.__dict__)"
      ],
      "metadata": {
        "id": "D9hrWKNnsrCc",
        "outputId": "c6a417fa-246d-433e-f906-67984c725385",
        "colab": {
          "base_uri": "https://localhost:8080/"
        }
      },
      "execution_count": 12,
      "outputs": [
        {
          "output_type": "stream",
          "name": "stdout",
          "text": [
            "{'validation_data': None, 'model': <keras.engine.sequential.Sequential object at 0x7ffa0fba09d0>, '_chief_worker_only': None, '_supports_tf_logs': False, 'history': {'loss': [2.316051483154297, 1.2011150121688843, 1.0507487058639526, 0.9595487117767334, 0.7897951006889343, 0.815744161605835, 0.8251309394836426, 0.7029910087585449, 0.6959202885627747, 0.7185563445091248, 0.677300214767456, 0.5937243700027466, 0.5407525897026062, 0.5297717452049255, 0.5851015448570251, 0.5271209478378296, 0.5744484663009644, 0.5371066927909851, 0.6490291953086853, 0.566615879535675, 0.5887562036514282, 0.5344929099082947, 0.6248704195022583, 0.5594791769981384, 0.5292925238609314, 0.5722488760948181, 0.5574825406074524, 0.525929868221283, 0.4887821078300476], 'categorical_accuracy': [0.6046833395957947, 0.7687833309173584, 0.8166833519935608, 0.8411833047866821, 0.8557166457176208, 0.865933358669281, 0.8633000254631042, 0.8734166622161865, 0.8760499954223633, 0.8845499753952026, 0.8879666924476624, 0.8936833143234253, 0.9004166722297668, 0.8962833285331726, 0.8981500267982483, 0.8982166647911072, 0.8984333276748657, 0.9077333211898804, 0.9031166434288025, 0.9023333191871643, 0.9012666940689087, 0.9056666493415833, 0.9047666788101196, 0.9081000089645386, 0.903083324432373, 0.9018833041191101, 0.9047999978065491, 0.9007166624069214, 0.9072999954223633], 'val_loss': [0.574720025062561, 0.40852120518684387, 0.33867859840393066, 0.3307630717754364, 0.2878079414367676, 0.26949647068977356, 0.2790538966655731, 0.26631516218185425, 0.25811243057250977, 0.3066343367099762, 0.30533698201179504, 0.22728405892848969, 0.5133860111236572, 0.949883222579956, 0.2883692681789398, 0.6451543569564819, 0.41877320408821106, 0.26633593440055847, 0.20138895511627197, 0.21366874873638153, 0.6229978799819946, 0.7575303912162781, 0.2700941264629364, 0.4026096761226654, 0.42204388976097107, 0.42135652899742126, 0.2066846489906311, 0.27754005789756775, 0.2785853147506714], 'val_categorical_accuracy': [0.7979000210762024, 0.8355000019073486, 0.8647000193595886, 0.8651999831199646, 0.885699987411499, 0.8917999863624573, 0.8754000067710876, 0.880299985408783, 0.8827000260353088, 0.9126999974250793, 0.9264000058174133, 0.9034000039100647, 0.9215999841690063, 0.9431999921798706, 0.9161999821662903, 0.928600013256073, 0.9330000281333923, 0.9298999905586243, 0.9132000207901001, 0.9052000045776367, 0.9246000051498413, 0.934499979019165, 0.9215999841690063, 0.934499979019165, 0.9369000196456909, 0.9235000014305115, 0.916100025177002, 0.9311000108718872, 0.9302999973297119]}, 'params': {'verbose': 2, 'epochs': 45, 'steps': 235}, 'epoch': [0, 1, 2, 3, 4, 5, 6, 7, 8, 9, 10, 11, 12, 13, 14, 15, 16, 17, 18, 19, 20, 21, 22, 23, 24, 25, 26, 27, 28]}\n"
          ]
        }
      ]
    },
    {
      "cell_type": "code",
      "source": [
        "(max(history.epoch)+1)-10 #the eopchs are stored with 0 base indexing.\n",
        "# we know the best weights are restored 10 epochs back from the patience=10 window\n",
        "# Therefore Epoch 19 is when training stopped.   When we look it up in the training hisotry it'll be 18 though.\n",
        " "
      ],
      "metadata": {
        "id": "-EIhmYJHtRKv",
        "outputId": "72b4251c-3d6c-4414-8375-8d0d84692674",
        "colab": {
          "base_uri": "https://localhost:8080/"
        }
      },
      "execution_count": 19,
      "outputs": [
        {
          "output_type": "execute_result",
          "data": {
            "text/plain": [
              "19"
            ]
          },
          "metadata": {},
          "execution_count": 19
        }
      ]
    },
    {
      "cell_type": "code",
      "source": [
        "combined_history_dictionary[1].history['loss']\n",
        "combined_history_dictionary[1].history['val_loss']\n",
        "combined_history_dictionary[1].history['categorical_accuracy']\n",
        "combined_history_dictionary[1].history['val_categorical_accuracy']\n"
      ],
      "metadata": {
        "colab": {
          "base_uri": "https://localhost:8080/",
          "height": 206
        },
        "id": "JMQNfNee3vWl",
        "outputId": "2e341478-a1fa-4731-c576-22acc347acb1"
      },
      "execution_count": 104,
      "outputs": [
        {
          "output_type": "error",
          "ename": "AttributeError",
          "evalue": "ignored",
          "traceback": [
            "\u001b[0;31m---------------------------------------------------------------------------\u001b[0m",
            "\u001b[0;31mAttributeError\u001b[0m                            Traceback (most recent call last)",
            "\u001b[0;32m<ipython-input-104-bc72321aedb6>\u001b[0m in \u001b[0;36m<module>\u001b[0;34m\u001b[0m\n\u001b[1;32m      3\u001b[0m \u001b[0mcombined_history_dictionary\u001b[0m\u001b[0;34m[\u001b[0m\u001b[0;36m1\u001b[0m\u001b[0;34m]\u001b[0m\u001b[0;34m.\u001b[0m\u001b[0mhistory\u001b[0m\u001b[0;34m[\u001b[0m\u001b[0;34m'categorical_accuracy'\u001b[0m\u001b[0;34m]\u001b[0m\u001b[0;34m\u001b[0m\u001b[0;34m\u001b[0m\u001b[0m\n\u001b[1;32m      4\u001b[0m \u001b[0mcombined_history_dictionary\u001b[0m\u001b[0;34m[\u001b[0m\u001b[0;36m1\u001b[0m\u001b[0;34m]\u001b[0m\u001b[0;34m.\u001b[0m\u001b[0mhistory\u001b[0m\u001b[0;34m[\u001b[0m\u001b[0;34m'val_categorical_accuracy'\u001b[0m\u001b[0;34m]\u001b[0m\u001b[0;34m\u001b[0m\u001b[0;34m\u001b[0m\u001b[0m\n\u001b[0;32m----> 5\u001b[0;31m \u001b[0mcombined_history_dictionary\u001b[0m\u001b[0;34m[\u001b[0m\u001b[0;36m1\u001b[0m\u001b[0;34m]\u001b[0m\u001b[0;34m.\u001b[0m\u001b[0mcallback\u001b[0m\u001b[0;34m\u001b[0m\u001b[0;34m\u001b[0m\u001b[0m\n\u001b[0m",
            "\u001b[0;31mAttributeError\u001b[0m: 'History' object has no attribute 'callback'"
          ]
        }
      ]
    },
    {
      "cell_type": "code",
      "source": [
        "# I need to remove the first placeholder row of zeros\n",
        "combined_cms = combined_cms[1:(runs+1)]"
      ],
      "metadata": {
        "id": "Z7qMXMuN4kS1"
      },
      "execution_count": 65,
      "outputs": []
    },
    {
      "cell_type": "markdown",
      "source": [
        "#### Save the 30/X confusion matrices"
      ],
      "metadata": {
        "id": "u-MSCXKC48ss"
      }
    },
    {
      "cell_type": "code",
      "source": [
        "#Save 30 confusion matrices\n",
        "\n",
        "import pickle\n",
        "\n",
        "str_runs = str(runs)\n",
        "\n",
        "\n",
        "from datetime import date\n",
        "today = date.today()\n",
        "file_date = today.strftime(\"%Y_%m_%d\")\n",
        "now = datetime.now() # current date and time\n",
        "file_time = now.strftime(\"%H%M\")\n",
        "print(\"time:\", file_time)\n",
        "\n",
        "\n",
        "\n",
        "\n",
        "file_name = str_runs + \"CM_\" + file_extension + \"_\" + file_date + \"_\" + file_time +  \"_.pkl\"\n",
        "print(file_name, \" will be saved with \", combined_cms.shape)\n",
        "\n",
        "with open(file_name, 'wb') as file_write:\n",
        "      \n",
        "    # A new file will be created\n",
        "    pickle.dump(combined_cms, file_write)\n",
        "\n",
        "\n",
        "\n",
        " \n",
        "# Open the file in binary mode\n",
        "with open(file_name, 'rb') as file:\n",
        "      \n",
        "    # Call load method to deserialze\n",
        "    var = pickle.load(file)\n",
        "  \n",
        "    print(var)\n",
        "    \n",
        "print(file_name, \" was opened with \", var.shape)\n",
        "\n",
        "from google.colab import files\n",
        "files.download( file_name )  \n",
        "\n",
        "print(file_name, \".pkl was saved to Downloads \")\n"
      ],
      "metadata": {
        "colab": {
          "base_uri": "https://localhost:8080/",
          "height": 252
        },
        "id": "9purX_onqXGo",
        "outputId": "c60eb69b-3433-4fb5-f85f-3139be7e8045"
      },
      "execution_count": 66,
      "outputs": [
        {
          "output_type": "stream",
          "name": "stdout",
          "text": [
            "time: 1408\n",
            "1CM_w[9,4]_PA_1000.0_Shfl_40D__2023_02_27_1408_.pkl  will be saved with  (1, 100)\n",
            "[[ 963.    0.    0.    1.    2.    3.    7.    1.    3.    0.    0. 1119.\n",
            "     4.    3.    1.    0.    3.    2.    3.    0.    7.    6.  964.    9.\n",
            "     3.    1.    5.   14.   20.    3.    0.    3.   16.  953.    1.   11.\n",
            "     0.   11.   10.    5.    1.    4.    5.    0.  405.    0.   12.    1.\n",
            "     5.  549.    7.    2.    2.   31.    3.  805.   12.    2.   16.   12.\n",
            "    14.    5.    2.    0.    6.    9.  919.    0.    3.    0.    3.   12.\n",
            "    16.    2.    2.    0.    0.  973.    0.   20.    8.   11.    9.   10.\n",
            "     5.   13.    6.    8.  892.   12.    9.    5.    0.   13.    0.    4.\n",
            "     0.    9.    3.  966.]]\n",
            "1CM_w[9,4]_PA_1000.0_Shfl_40D__2023_02_27_1408_.pkl  was opened with  (1, 100)\n"
          ]
        },
        {
          "output_type": "display_data",
          "data": {
            "text/plain": [
              "<IPython.core.display.Javascript object>"
            ],
            "application/javascript": [
              "\n",
              "    async function download(id, filename, size) {\n",
              "      if (!google.colab.kernel.accessAllowed) {\n",
              "        return;\n",
              "      }\n",
              "      const div = document.createElement('div');\n",
              "      const label = document.createElement('label');\n",
              "      label.textContent = `Downloading \"${filename}\": `;\n",
              "      div.appendChild(label);\n",
              "      const progress = document.createElement('progress');\n",
              "      progress.max = size;\n",
              "      div.appendChild(progress);\n",
              "      document.body.appendChild(div);\n",
              "\n",
              "      const buffers = [];\n",
              "      let downloaded = 0;\n",
              "\n",
              "      const channel = await google.colab.kernel.comms.open(id);\n",
              "      // Send a message to notify the kernel that we're ready.\n",
              "      channel.send({})\n",
              "\n",
              "      for await (const message of channel.messages) {\n",
              "        // Send a message to notify the kernel that we're ready.\n",
              "        channel.send({})\n",
              "        if (message.buffers) {\n",
              "          for (const buffer of message.buffers) {\n",
              "            buffers.push(buffer);\n",
              "            downloaded += buffer.byteLength;\n",
              "            progress.value = downloaded;\n",
              "          }\n",
              "        }\n",
              "      }\n",
              "      const blob = new Blob(buffers, {type: 'application/binary'});\n",
              "      const a = document.createElement('a');\n",
              "      a.href = window.URL.createObjectURL(blob);\n",
              "      a.download = filename;\n",
              "      div.appendChild(a);\n",
              "      a.click();\n",
              "      div.remove();\n",
              "    }\n",
              "  "
            ]
          },
          "metadata": {}
        },
        {
          "output_type": "display_data",
          "data": {
            "text/plain": [
              "<IPython.core.display.Javascript object>"
            ],
            "application/javascript": [
              "download(\"download_c7c317e1-75c2-433b-adf8-c25ad7520384\", \"1CM_w[9,4]_PA_1000.0_Shfl_40D__2023_02_27_1408_.pkl\", 952)"
            ]
          },
          "metadata": {}
        },
        {
          "output_type": "stream",
          "name": "stdout",
          "text": [
            "1CM_w[9,4]_PA_1000.0_Shfl_40D__2023_02_27_1408_.pkl .pkl was saved to Downloads \n"
          ]
        }
      ]
    },
    {
      "cell_type": "code",
      "source": [
        "# How many categories are there in the test set?\n",
        "\n",
        "truth_num_per_category = Y_test.sum(axis=0)\n",
        "print(truth_num_per_category)"
      ],
      "metadata": {
        "id": "id_ythTutuo3",
        "colab": {
          "base_uri": "https://localhost:8080/"
        },
        "outputId": "7c6b5565-9b1c-4677-a30c-617d3449c2a1"
      },
      "execution_count": 67,
      "outputs": [
        {
          "output_type": "stream",
          "name": "stdout",
          "text": [
            "[ 980. 1135. 1032. 1010.  982.  892.  958. 1028.  974. 1009.]\n"
          ]
        }
      ]
    },
    {
      "cell_type": "markdown",
      "source": [
        "# Analyze \n",
        "\n",
        "I am now going to load the Average CM and try to get it in a format where I can make it a 1x100 and load all 30 CMs so that we can visualize their distributions in a a big histogram_matrix. At this point the Google Colab variables are gone and I have to reoad them "
      ],
      "metadata": {
        "id": "NP_kxNkhn6Fd"
      }
    },
    {
      "cell_type": "code",
      "source": [
        "import numpy as np\n",
        "import pandas as pd\n",
        "empty_cm = np.zeros((10,10))  \n",
        "empty_cm=pd.DataFrame(empty_cm)\n",
        "\n",
        "empty_cm.columns = ['0p', '1p', '2p', '3p', '4p', '5p', '6p', '7p', '8p', '9p']\n",
        "empty_cm.index = ['0t', '1t', '2t', '3t', '4t', '5t', '6t', '7t', '8t', '9t']\n",
        "\n",
        "# print(myvar_cm_average)\n",
        "\n",
        "empty_cm_array = np.asarray(empty_cm)\n",
        "empty_cm_array_1_100 = np.reshape(empty_cm_array,(1,100))\n",
        "# print(cm_average_array)\n",
        "\n",
        "df = empty_cm\n",
        "df_new = pd.DataFrame(empty_cm_array_1_100,  columns=pd.MultiIndex.from_product([ df.index,df.columns]))\n",
        "df_new.columns.to_flat_index()\n",
        "df_new.columns   = ['_'.join(col) for col in df_new.columns.values]\n",
        "\n",
        "# Now convert combined_cms of size 30x100 to a panda dataframe\n",
        "combined_cms_df = pd.DataFrame(combined_cms, columns=[df_new.columns])\n",
        "\n",
        "combined_cms_df"
      ],
      "metadata": {
        "colab": {
          "base_uri": "https://localhost:8080/",
          "height": 174
        },
        "id": "kLrNJE0s53pb",
        "outputId": "18b470d8-e8f8-45d3-de29-11d1afa895b8"
      },
      "execution_count": 68,
      "outputs": [
        {
          "output_type": "execute_result",
          "data": {
            "text/plain": [
              "   0t_0p 0t_1p 0t_2p 0t_3p 0t_4p 0t_5p 0t_6p 0t_7p 0t_8p 0t_9p  ... 9t_0p  \\\n",
              "0  963.0   0.0   0.0   1.0   2.0   3.0   7.0   1.0   3.0   0.0  ...   9.0   \n",
              "\n",
              "  9t_1p 9t_2p 9t_3p 9t_4p 9t_5p 9t_6p 9t_7p 9t_8p  9t_9p  \n",
              "0   5.0   0.0  13.0   0.0   4.0   0.0   9.0   3.0  966.0  \n",
              "\n",
              "[1 rows x 100 columns]"
            ],
            "text/html": [
              "\n",
              "  <div id=\"df-99726a6d-b9c0-4c82-8c55-84bdff589b7c\">\n",
              "    <div class=\"colab-df-container\">\n",
              "      <div>\n",
              "<style scoped>\n",
              "    .dataframe tbody tr th:only-of-type {\n",
              "        vertical-align: middle;\n",
              "    }\n",
              "\n",
              "    .dataframe tbody tr th {\n",
              "        vertical-align: top;\n",
              "    }\n",
              "\n",
              "    .dataframe thead tr th {\n",
              "        text-align: left;\n",
              "    }\n",
              "</style>\n",
              "<table border=\"1\" class=\"dataframe\">\n",
              "  <thead>\n",
              "    <tr>\n",
              "      <th></th>\n",
              "      <th>0t_0p</th>\n",
              "      <th>0t_1p</th>\n",
              "      <th>0t_2p</th>\n",
              "      <th>0t_3p</th>\n",
              "      <th>0t_4p</th>\n",
              "      <th>0t_5p</th>\n",
              "      <th>0t_6p</th>\n",
              "      <th>0t_7p</th>\n",
              "      <th>0t_8p</th>\n",
              "      <th>0t_9p</th>\n",
              "      <th>...</th>\n",
              "      <th>9t_0p</th>\n",
              "      <th>9t_1p</th>\n",
              "      <th>9t_2p</th>\n",
              "      <th>9t_3p</th>\n",
              "      <th>9t_4p</th>\n",
              "      <th>9t_5p</th>\n",
              "      <th>9t_6p</th>\n",
              "      <th>9t_7p</th>\n",
              "      <th>9t_8p</th>\n",
              "      <th>9t_9p</th>\n",
              "    </tr>\n",
              "  </thead>\n",
              "  <tbody>\n",
              "    <tr>\n",
              "      <th>0</th>\n",
              "      <td>963.0</td>\n",
              "      <td>0.0</td>\n",
              "      <td>0.0</td>\n",
              "      <td>1.0</td>\n",
              "      <td>2.0</td>\n",
              "      <td>3.0</td>\n",
              "      <td>7.0</td>\n",
              "      <td>1.0</td>\n",
              "      <td>3.0</td>\n",
              "      <td>0.0</td>\n",
              "      <td>...</td>\n",
              "      <td>9.0</td>\n",
              "      <td>5.0</td>\n",
              "      <td>0.0</td>\n",
              "      <td>13.0</td>\n",
              "      <td>0.0</td>\n",
              "      <td>4.0</td>\n",
              "      <td>0.0</td>\n",
              "      <td>9.0</td>\n",
              "      <td>3.0</td>\n",
              "      <td>966.0</td>\n",
              "    </tr>\n",
              "  </tbody>\n",
              "</table>\n",
              "<p>1 rows × 100 columns</p>\n",
              "</div>\n",
              "      <button class=\"colab-df-convert\" onclick=\"convertToInteractive('df-99726a6d-b9c0-4c82-8c55-84bdff589b7c')\"\n",
              "              title=\"Convert this dataframe to an interactive table.\"\n",
              "              style=\"display:none;\">\n",
              "        \n",
              "  <svg xmlns=\"http://www.w3.org/2000/svg\" height=\"24px\"viewBox=\"0 0 24 24\"\n",
              "       width=\"24px\">\n",
              "    <path d=\"M0 0h24v24H0V0z\" fill=\"none\"/>\n",
              "    <path d=\"M18.56 5.44l.94 2.06.94-2.06 2.06-.94-2.06-.94-.94-2.06-.94 2.06-2.06.94zm-11 1L8.5 8.5l.94-2.06 2.06-.94-2.06-.94L8.5 2.5l-.94 2.06-2.06.94zm10 10l.94 2.06.94-2.06 2.06-.94-2.06-.94-.94-2.06-.94 2.06-2.06.94z\"/><path d=\"M17.41 7.96l-1.37-1.37c-.4-.4-.92-.59-1.43-.59-.52 0-1.04.2-1.43.59L10.3 9.45l-7.72 7.72c-.78.78-.78 2.05 0 2.83L4 21.41c.39.39.9.59 1.41.59.51 0 1.02-.2 1.41-.59l7.78-7.78 2.81-2.81c.8-.78.8-2.07 0-2.86zM5.41 20L4 18.59l7.72-7.72 1.47 1.35L5.41 20z\"/>\n",
              "  </svg>\n",
              "      </button>\n",
              "      \n",
              "  <style>\n",
              "    .colab-df-container {\n",
              "      display:flex;\n",
              "      flex-wrap:wrap;\n",
              "      gap: 12px;\n",
              "    }\n",
              "\n",
              "    .colab-df-convert {\n",
              "      background-color: #E8F0FE;\n",
              "      border: none;\n",
              "      border-radius: 50%;\n",
              "      cursor: pointer;\n",
              "      display: none;\n",
              "      fill: #1967D2;\n",
              "      height: 32px;\n",
              "      padding: 0 0 0 0;\n",
              "      width: 32px;\n",
              "    }\n",
              "\n",
              "    .colab-df-convert:hover {\n",
              "      background-color: #E2EBFA;\n",
              "      box-shadow: 0px 1px 2px rgba(60, 64, 67, 0.3), 0px 1px 3px 1px rgba(60, 64, 67, 0.15);\n",
              "      fill: #174EA6;\n",
              "    }\n",
              "\n",
              "    [theme=dark] .colab-df-convert {\n",
              "      background-color: #3B4455;\n",
              "      fill: #D2E3FC;\n",
              "    }\n",
              "\n",
              "    [theme=dark] .colab-df-convert:hover {\n",
              "      background-color: #434B5C;\n",
              "      box-shadow: 0px 1px 3px 1px rgba(0, 0, 0, 0.15);\n",
              "      filter: drop-shadow(0px 1px 2px rgba(0, 0, 0, 0.3));\n",
              "      fill: #FFFFFF;\n",
              "    }\n",
              "  </style>\n",
              "\n",
              "      <script>\n",
              "        const buttonEl =\n",
              "          document.querySelector('#df-99726a6d-b9c0-4c82-8c55-84bdff589b7c button.colab-df-convert');\n",
              "        buttonEl.style.display =\n",
              "          google.colab.kernel.accessAllowed ? 'block' : 'none';\n",
              "\n",
              "        async function convertToInteractive(key) {\n",
              "          const element = document.querySelector('#df-99726a6d-b9c0-4c82-8c55-84bdff589b7c');\n",
              "          const dataTable =\n",
              "            await google.colab.kernel.invokeFunction('convertToInteractive',\n",
              "                                                     [key], {});\n",
              "          if (!dataTable) return;\n",
              "\n",
              "          const docLinkHtml = 'Like what you see? Visit the ' +\n",
              "            '<a target=\"_blank\" href=https://colab.research.google.com/notebooks/data_table.ipynb>data table notebook</a>'\n",
              "            + ' to learn more about interactive tables.';\n",
              "          element.innerHTML = '';\n",
              "          dataTable['output_type'] = 'display_data';\n",
              "          await google.colab.output.renderOutput(dataTable, element);\n",
              "          const docLink = document.createElement('div');\n",
              "          docLink.innerHTML = docLinkHtml;\n",
              "          element.appendChild(docLink);\n",
              "        }\n",
              "      </script>\n",
              "    </div>\n",
              "  </div>\n",
              "  "
            ]
          },
          "metadata": {},
          "execution_count": 68
        }
      ]
    },
    {
      "cell_type": "code",
      "source": [
        "combined_cms_df[\"9t_4p\"]"
      ],
      "metadata": {
        "colab": {
          "base_uri": "https://localhost:8080/",
          "height": 80
        },
        "id": "HgPClcrAUdxu",
        "outputId": "4e98a4a7-1371-44bd-a8a9-a2eeed56a2fe"
      },
      "execution_count": 69,
      "outputs": [
        {
          "output_type": "execute_result",
          "data": {
            "text/plain": [
              "  9t_4p\n",
              "0   0.0"
            ],
            "text/html": [
              "\n",
              "  <div id=\"df-c1b2371e-c37d-40cc-a9bc-16ec5798383f\">\n",
              "    <div class=\"colab-df-container\">\n",
              "      <div>\n",
              "<style scoped>\n",
              "    .dataframe tbody tr th:only-of-type {\n",
              "        vertical-align: middle;\n",
              "    }\n",
              "\n",
              "    .dataframe tbody tr th {\n",
              "        vertical-align: top;\n",
              "    }\n",
              "\n",
              "    .dataframe thead tr th {\n",
              "        text-align: left;\n",
              "    }\n",
              "</style>\n",
              "<table border=\"1\" class=\"dataframe\">\n",
              "  <thead>\n",
              "    <tr>\n",
              "      <th></th>\n",
              "      <th>9t_4p</th>\n",
              "    </tr>\n",
              "  </thead>\n",
              "  <tbody>\n",
              "    <tr>\n",
              "      <th>0</th>\n",
              "      <td>0.0</td>\n",
              "    </tr>\n",
              "  </tbody>\n",
              "</table>\n",
              "</div>\n",
              "      <button class=\"colab-df-convert\" onclick=\"convertToInteractive('df-c1b2371e-c37d-40cc-a9bc-16ec5798383f')\"\n",
              "              title=\"Convert this dataframe to an interactive table.\"\n",
              "              style=\"display:none;\">\n",
              "        \n",
              "  <svg xmlns=\"http://www.w3.org/2000/svg\" height=\"24px\"viewBox=\"0 0 24 24\"\n",
              "       width=\"24px\">\n",
              "    <path d=\"M0 0h24v24H0V0z\" fill=\"none\"/>\n",
              "    <path d=\"M18.56 5.44l.94 2.06.94-2.06 2.06-.94-2.06-.94-.94-2.06-.94 2.06-2.06.94zm-11 1L8.5 8.5l.94-2.06 2.06-.94-2.06-.94L8.5 2.5l-.94 2.06-2.06.94zm10 10l.94 2.06.94-2.06 2.06-.94-2.06-.94-.94-2.06-.94 2.06-2.06.94z\"/><path d=\"M17.41 7.96l-1.37-1.37c-.4-.4-.92-.59-1.43-.59-.52 0-1.04.2-1.43.59L10.3 9.45l-7.72 7.72c-.78.78-.78 2.05 0 2.83L4 21.41c.39.39.9.59 1.41.59.51 0 1.02-.2 1.41-.59l7.78-7.78 2.81-2.81c.8-.78.8-2.07 0-2.86zM5.41 20L4 18.59l7.72-7.72 1.47 1.35L5.41 20z\"/>\n",
              "  </svg>\n",
              "      </button>\n",
              "      \n",
              "  <style>\n",
              "    .colab-df-container {\n",
              "      display:flex;\n",
              "      flex-wrap:wrap;\n",
              "      gap: 12px;\n",
              "    }\n",
              "\n",
              "    .colab-df-convert {\n",
              "      background-color: #E8F0FE;\n",
              "      border: none;\n",
              "      border-radius: 50%;\n",
              "      cursor: pointer;\n",
              "      display: none;\n",
              "      fill: #1967D2;\n",
              "      height: 32px;\n",
              "      padding: 0 0 0 0;\n",
              "      width: 32px;\n",
              "    }\n",
              "\n",
              "    .colab-df-convert:hover {\n",
              "      background-color: #E2EBFA;\n",
              "      box-shadow: 0px 1px 2px rgba(60, 64, 67, 0.3), 0px 1px 3px 1px rgba(60, 64, 67, 0.15);\n",
              "      fill: #174EA6;\n",
              "    }\n",
              "\n",
              "    [theme=dark] .colab-df-convert {\n",
              "      background-color: #3B4455;\n",
              "      fill: #D2E3FC;\n",
              "    }\n",
              "\n",
              "    [theme=dark] .colab-df-convert:hover {\n",
              "      background-color: #434B5C;\n",
              "      box-shadow: 0px 1px 3px 1px rgba(0, 0, 0, 0.15);\n",
              "      filter: drop-shadow(0px 1px 2px rgba(0, 0, 0, 0.3));\n",
              "      fill: #FFFFFF;\n",
              "    }\n",
              "  </style>\n",
              "\n",
              "      <script>\n",
              "        const buttonEl =\n",
              "          document.querySelector('#df-c1b2371e-c37d-40cc-a9bc-16ec5798383f button.colab-df-convert');\n",
              "        buttonEl.style.display =\n",
              "          google.colab.kernel.accessAllowed ? 'block' : 'none';\n",
              "\n",
              "        async function convertToInteractive(key) {\n",
              "          const element = document.querySelector('#df-c1b2371e-c37d-40cc-a9bc-16ec5798383f');\n",
              "          const dataTable =\n",
              "            await google.colab.kernel.invokeFunction('convertToInteractive',\n",
              "                                                     [key], {});\n",
              "          if (!dataTable) return;\n",
              "\n",
              "          const docLinkHtml = 'Like what you see? Visit the ' +\n",
              "            '<a target=\"_blank\" href=https://colab.research.google.com/notebooks/data_table.ipynb>data table notebook</a>'\n",
              "            + ' to learn more about interactive tables.';\n",
              "          element.innerHTML = '';\n",
              "          dataTable['output_type'] = 'display_data';\n",
              "          await google.colab.output.renderOutput(dataTable, element);\n",
              "          const docLink = document.createElement('div');\n",
              "          docLink.innerHTML = docLinkHtml;\n",
              "          element.appendChild(docLink);\n",
              "        }\n",
              "      </script>\n",
              "    </div>\n",
              "  </div>\n",
              "  "
            ]
          },
          "metadata": {},
          "execution_count": 69
        }
      ]
    },
    {
      "cell_type": "code",
      "source": [
        "np.average(combined_cms_df[\"9t_4p\"])"
      ],
      "metadata": {
        "colab": {
          "base_uri": "https://localhost:8080/"
        },
        "id": "TY59hUTadVyp",
        "outputId": "f343c11d-ef51-4f8e-f23b-e71c7241334c"
      },
      "execution_count": 70,
      "outputs": [
        {
          "output_type": "execute_result",
          "data": {
            "text/plain": [
              "0.0"
            ]
          },
          "metadata": {},
          "execution_count": 70
        }
      ]
    },
    {
      "cell_type": "code",
      "source": [
        "csv_filename = file_name[:-4] + \".csv\"\n",
        "\n",
        "combined_cms_df.to_csv(csv_filename)\n",
        "\n",
        "\n",
        "from google.colab import files\n",
        "files.download(csv_filename )\n",
        "\n",
        "print(\"Downloading \", csv_filename , \" of shape \", combined_cms_df.shape)"
      ],
      "metadata": {
        "colab": {
          "base_uri": "https://localhost:8080/",
          "height": 35
        },
        "id": "ceUFAr_z9xsk",
        "outputId": "decfedb7-4d88-44c2-a2d8-106ea3a8ea2c"
      },
      "execution_count": 71,
      "outputs": [
        {
          "output_type": "display_data",
          "data": {
            "text/plain": [
              "<IPython.core.display.Javascript object>"
            ],
            "application/javascript": [
              "\n",
              "    async function download(id, filename, size) {\n",
              "      if (!google.colab.kernel.accessAllowed) {\n",
              "        return;\n",
              "      }\n",
              "      const div = document.createElement('div');\n",
              "      const label = document.createElement('label');\n",
              "      label.textContent = `Downloading \"${filename}\": `;\n",
              "      div.appendChild(label);\n",
              "      const progress = document.createElement('progress');\n",
              "      progress.max = size;\n",
              "      div.appendChild(progress);\n",
              "      document.body.appendChild(div);\n",
              "\n",
              "      const buffers = [];\n",
              "      let downloaded = 0;\n",
              "\n",
              "      const channel = await google.colab.kernel.comms.open(id);\n",
              "      // Send a message to notify the kernel that we're ready.\n",
              "      channel.send({})\n",
              "\n",
              "      for await (const message of channel.messages) {\n",
              "        // Send a message to notify the kernel that we're ready.\n",
              "        channel.send({})\n",
              "        if (message.buffers) {\n",
              "          for (const buffer of message.buffers) {\n",
              "            buffers.push(buffer);\n",
              "            downloaded += buffer.byteLength;\n",
              "            progress.value = downloaded;\n",
              "          }\n",
              "        }\n",
              "      }\n",
              "      const blob = new Blob(buffers, {type: 'application/binary'});\n",
              "      const a = document.createElement('a');\n",
              "      a.href = window.URL.createObjectURL(blob);\n",
              "      a.download = filename;\n",
              "      div.appendChild(a);\n",
              "      a.click();\n",
              "      div.remove();\n",
              "    }\n",
              "  "
            ]
          },
          "metadata": {}
        },
        {
          "output_type": "display_data",
          "data": {
            "text/plain": [
              "<IPython.core.display.Javascript object>"
            ],
            "application/javascript": [
              "download(\"download_5c38bf09-6f76-431c-b6f9-6985701765cb\", \"1CM_w[9,4]_PA_1000.0_Shfl_40D__2023_02_27_1408_.csv\", 1046)"
            ]
          },
          "metadata": {}
        },
        {
          "output_type": "stream",
          "name": "stdout",
          "text": [
            "Downloading  1CM_w[9,4]_PA_1000.0_Shfl_40D__2023_02_27_1408_.csv  of shape  (1, 100)\n"
          ]
        }
      ]
    },
    {
      "cell_type": "code",
      "source": [
        "df = pd.DataFrame(sum(var)/len(var), columns=[\"Values\"]) \n",
        "# print(df)\n",
        "\n",
        "df.style.format({\n",
        "  'Values': lambda val: f'{val:,.2f}',\n",
        "})\n",
        "\n",
        "(df.sort_values(by=\"Values\", ascending=False)[0:20])\n",
        "\n",
        "\n",
        "df_sorted = df.sort_values(by=\"Values\", ascending=False)[10:]  #the top 10 are usually diagonal\n",
        "\n",
        "\n",
        "df_sorted.style.format({\n",
        "  'Values': lambda val: f'{val:,.2f}',\n",
        "})\n",
        "\n",
        "import math\n",
        "\n",
        "print(\"On average...\")\n",
        "print(\"Num 1 misclassifications are misclassifying a \", math.floor((df_sorted[\"Values\"].index[0])/10), \" as a \", df_sorted[\"Values\"].index[0]%10, \"  (\", (df_sorted[\"Values\"].values[0]), \" times)\" )\n",
        "print(\"Num 2 misclassifications are misclassifying a \", math.floor((df_sorted[\"Values\"].index[1])/10), \" as a \", df_sorted[\"Values\"].index[1]%10, \"  (\", (df_sorted[\"Values\"].values[1]), \" times)\" )\n",
        "print(\"Num 3 misclassifications are misclassifying a \", math.floor((df_sorted[\"Values\"].index[2])/10), \" as a \", df_sorted[\"Values\"].index[2]%10, \"  (\", (df_sorted[\"Values\"].values[2]), \" times)\" )\n",
        "\n",
        "\n"
      ],
      "metadata": {
        "colab": {
          "base_uri": "https://localhost:8080/"
        },
        "id": "-pGNLuE8gNrB",
        "outputId": "17f91bf8-fa55-4b2d-ff0e-48ccf01201d5"
      },
      "execution_count": 72,
      "outputs": [
        {
          "output_type": "stream",
          "name": "stdout",
          "text": [
            "On average...\n",
            "Num 1 misclassifications are misclassifying a  4  as a  4   ( 405.0  times)\n",
            "Num 2 misclassifications are misclassifying a  5  as a  3   ( 31.0  times)\n",
            "Num 3 misclassifications are misclassifying a  7  as a  9   ( 20.0  times)\n"
          ]
        }
      ]
    },
    {
      "cell_type": "code",
      "source": [
        "df_percents = pd.DataFrame( ((sum(var)*100/len(var)).reshape((10,10))/truth_num_per_category).reshape((100)), columns = [\"Values\"])\n",
        "\n",
        "\n",
        "df_sorted_percents = df_percents.sort_values(by=\"Values\", ascending=False)[10:]  #the top 10 are usually diagonal\n",
        "\n",
        "df_sorted_percents.style.format({\n",
        "  'Values': lambda val: f'{val:,.2f}',\n",
        "})\n",
        "\n",
        "print(\"On average .. \")\n",
        "print(\"Num 1 percent misclassifications\", math.floor((df_sorted_percents[\"Values\"].index[0])/10), \" as \", df_sorted_percents[\"Values\"].index[0]%10, (df_sorted_percents[\"Values\"].values[0]), \" percent\" )\n",
        "print(\"Num 2 percent misclassifications\", math.floor((df_sorted_percents[\"Values\"].index[1])/10), \" as \", df_sorted_percents[\"Values\"].index[1]%10,  (df_sorted_percents[\"Values\"].values[1]), \" percent\" )\n",
        "print(\"Num 3 percent misclassifications\", math.floor((df_sorted_percents[\"Values\"].index[2])/10), \" as \", df_sorted_percents[\"Values\"].index[2]%10, (df_sorted_percents[\"Values\"].values[2]), \" percent\" )\n",
        "\n",
        "\n",
        "\n",
        "\n"
      ],
      "metadata": {
        "colab": {
          "base_uri": "https://localhost:8080/"
        },
        "id": "AKYclir2p8wk",
        "outputId": "1797bef7-cba3-45aa-dcb3-d74b0bc6e002"
      },
      "execution_count": 73,
      "outputs": [
        {
          "output_type": "stream",
          "name": "stdout",
          "text": [
            "On average .. \n",
            "Num 1 percent misclassifications 4  as  4 41.24236252545825  percent\n",
            "Num 2 percent misclassifications 5  as  3 3.0693069306930694  percent\n",
            "Num 3 percent misclassifications 2  as  8 2.0533880903490758  percent\n"
          ]
        }
      ]
    },
    {
      "cell_type": "code",
      "source": [],
      "metadata": {
        "id": "FrT9iz3dp8rZ"
      },
      "execution_count": 73,
      "outputs": []
    },
    {
      "cell_type": "markdown",
      "source": [
        "# Extraneous"
      ],
      "metadata": {
        "id": "GZfPCKu_oqrZ"
      }
    },
    {
      "cell_type": "markdown",
      "source": [
        "To reference later: \n",
        "\n",
        "https://colab.research.google.com/github/tensorflow/docs/blob/master/site/en/tutorials/structured_data/imbalanced_data.ipynb#scrollTo=UJ589fn8ST3x\n",
        "\n",
        "To train a model with class weights:\n",
        "\n",
        "```\n",
        "class_weight = {0: weight_for_0, 1: weight_for_1}\n",
        "\n",
        "weighted_model = make_model()\n",
        "weighted_model.load_weights(initial_weights)\n",
        "\n",
        "weighted_history = weighted_model.fit(\n",
        "    train_features,\n",
        "    train_labels,\n",
        "    batch_size=BATCH_SIZE,\n",
        "    epochs=EPOCHS,\n",
        "    callbacks=[early_stopping],\n",
        "    validation_data=(val_features, val_labels),\n",
        "\n",
        "    # The class weights go here\n",
        "    class_weight=class_weight)\n",
        "```\n",
        "\n"
      ],
      "metadata": {
        "id": "iLEt0OL5ziEq"
      }
    },
    {
      "cell_type": "code",
      "source": [
        "# Extraneous information I am not using at the moment\n",
        "\n",
        "# model.compile(\n",
        "#      optimizer='adam',\n",
        "#      loss=WeightedCategoricalCrossentropy(cost_matrix)\n",
        "#      )\n",
        "\n",
        "## Model Saving\n",
        "\n",
        "# model.save(save_version_dir,save_format='tf')\n",
        "\n",
        "## Model Loading\n",
        "\n",
        "# model = tf.keras.models.load_model(\n",
        "#     save_version_dir,\n",
        "#     compile=True,\n",
        "#     custom_objects={\n",
        "#         'WeightedCategoricalCrossentropy': WeightedCategoricalCrossentropy(cost_matrix)\n",
        "#         }\n",
        "#     )\n",
        " "
      ],
      "metadata": {
        "id": "WRzuOuZeKVpJ"
      },
      "execution_count": 74,
      "outputs": []
    }
  ]
}