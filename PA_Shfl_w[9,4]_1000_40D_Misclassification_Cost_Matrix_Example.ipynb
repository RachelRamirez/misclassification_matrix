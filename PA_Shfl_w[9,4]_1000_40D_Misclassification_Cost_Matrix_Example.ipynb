{
  "nbformat": 4,
  "nbformat_minor": 0,
  "metadata": {
    "colab": {
      "provenance": [],
      "authorship_tag": "ABX9TyPhGIEA+uaTZei9N7MdpgL6",
      "include_colab_link": true
    },
    "kernelspec": {
      "name": "python3",
      "display_name": "Python 3"
    },
    "language_info": {
      "name": "python"
    },
    "gpuClass": "standard",
    "accelerator": "GPU"
  },
  "cells": [
    {
      "cell_type": "markdown",
      "metadata": {
        "id": "view-in-github",
        "colab_type": "text"
      },
      "source": [
        "<a href=\"https://colab.research.google.com/github/RachelRamirez/misclassification_matrix/blob/main/PA_Shfl_w%5B9%2C4%5D_1000_40D_Misclassification_Cost_Matrix_Example.ipynb\" target=\"_parent\"><img src=\"https://colab.research.google.com/assets/colab-badge.svg\" alt=\"Open In Colab\"/></a>"
      ]
    },
    {
      "cell_type": "markdown",
      "source": [
        "## What happens when I use PA method with Weighted_Matrix with w_array[9, 4] = 10 and Model Shuffle=True and I reduce the capacity of the neural network from 512 to 40 connections\n",
        "\n",
        "  Filename \"PA_Shfl_w[9,4]_2.0_40D_Misclassification_Cost_Matrix_Example\""
      ],
      "metadata": {
        "id": "NqL4ADhFLsqG"
      }
    },
    {
      "cell_type": "markdown",
      "source": [
        "Its hard to see if the misclassification weight is making a difference so I am now making the neural network not as great by reducing the number of dense connections in each layer from 512 to X/40.  Realized after I saved that everything was taking 15 epochs so I need to increase training time - turns out it only needed 16"
      ],
      "metadata": {
        "id": "kq-OgF8xLiia"
      }
    },
    {
      "cell_type": "markdown",
      "source": [
        "I'm changing Model Shuffle=True to see if that helps with the validation loss jumping around"
      ],
      "metadata": {
        "id": "kOGlieEKlMrH"
      }
    },
    {
      "cell_type": "markdown",
      "source": [
        "The results of running the  ISantaro appeared counterintuitive, because when I increased the cost of a misclassification, more misclassifications were made. It was hard to see at first because it wasn't consistently happening, it happened 7 out of 30 times, but when it happened it was a very large number of misclassifications.   So now I'm looking to compare another code implementation,  by Phil Alton here:  https://stackoverflow.com/a/61963004 "
      ],
      "metadata": {
        "id": "xW_9TgRZB0s6"
      }
    },
    {
      "cell_type": "markdown",
      "source": [
        "Remember to change the [Admin File stuff]  below and the Weight Matrix before Running"
      ],
      "metadata": {
        "id": "HhaPibIBBS80"
      }
    },
    {
      "cell_type": "markdown",
      "source": [
        "#### Check timezone if incorrect restart"
      ],
      "metadata": {
        "id": "l4sBTo67FC9-"
      }
    },
    {
      "cell_type": "code",
      "source": [
        "# How to change the local time in Google Colab\n",
        "!rm /etc/localtime\n",
        "!ln -s /usr/share/zoneinfo/US/Eastern /etc/localtime\n",
        "!date\n",
        "\n",
        "#If this doesn't show the local time correctly, then you need to restart.\n",
        "import time\n",
        "time.localtime(time.time())"
      ],
      "metadata": {
        "colab": {
          "base_uri": "https://localhost:8080/"
        },
        "id": "g4I5Wm-6EPYR",
        "outputId": "5fbde555-398c-418a-a94d-5c3cc2f2e318"
      },
      "execution_count": 2,
      "outputs": [
        {
          "output_type": "stream",
          "name": "stdout",
          "text": [
            "Tue 28 Feb 2023 10:43:55 AM EST\n"
          ]
        },
        {
          "output_type": "execute_result",
          "data": {
            "text/plain": [
              "time.struct_time(tm_year=2023, tm_mon=2, tm_mday=28, tm_hour=15, tm_min=43, tm_sec=55, tm_wday=1, tm_yday=59, tm_isdst=0)"
            ]
          },
          "metadata": {},
          "execution_count": 2
        }
      ]
    },
    {
      "cell_type": "markdown",
      "source": [
        "### Reproducible Seeds"
      ],
      "metadata": {
        "id": "Wn15dbArlsIs"
      }
    },
    {
      "cell_type": "code",
      "source": [
        "#For Reproducibility\n",
        "import numpy as np\n",
        "# np.random.seed(1337)  # for reproducibility\n",
        "\n",
        "import tensorflow as tf\n",
        "# tf.random.set_seed(33)\n",
        "\n",
        "import random as python_random\n",
        "# python_random.seed(4)\n",
        "\n",
        "# https://www.tensorflow.org/api_docs/python/tf/keras/utils/set_random_seed\n",
        "tf.keras.utils.set_random_seed(342) #Possibly use next iteration if the above doesn't work\n",
        "\n",
        "\n",
        "# Running more than once causes variation.  try adding this:\n",
        "# Set seed value\n",
        "seed_value = 56\n",
        "import os\n",
        "os.environ['PYTHONHASHSEED']=str(seed_value)\n",
        "\n",
        "print(\"TF version: \" , tf.__version__ )\n",
        "print(\"Keras version: \" , tf.keras.__version__ )"
      ],
      "metadata": {
        "colab": {
          "base_uri": "https://localhost:8080/"
        },
        "id": "zcjDfFIIbmbo",
        "outputId": "0b34bd9e-58be-4f32-b7bf-ba4c2e83726d"
      },
      "execution_count": 3,
      "outputs": [
        {
          "output_type": "stream",
          "name": "stdout",
          "text": [
            "TF version:  2.11.0\n",
            "Keras version:  2.11.0\n"
          ]
        }
      ]
    },
    {
      "cell_type": "markdown",
      "source": [
        "### Import rest of Library"
      ],
      "metadata": {
        "id": "mTW-hEgnlp44"
      }
    },
    {
      "cell_type": "code",
      "source": [
        "\n",
        "# from https://github.com/keras-team/keras/issues/2115#issuecomment-204060456\n",
        "# witha correction on the weighted function in the middle \n",
        "\n",
        "'''Train a simple deep NN on the MNIST dataset.\n",
        "Get to 98.40% test accuracy after 20 epochs\n",
        "(there is *a lot* of margin for parameter tuning).\n",
        "2 seconds per epoch on a K520 GPU.\n",
        "'''\n",
        "\n",
        "from __future__ import print_function  #do i still need this?\n",
        "from keras.datasets import mnist\n",
        "from keras.models import Sequential\n",
        "from keras.layers.core import Dense, Dropout, Activation\n",
        "from keras.optimizers import SGD, Adam, RMSprop\n",
        "from keras.utils import np_utils\n",
        "import keras.backend as K\n",
        "from itertools import product\n",
        "import functools\n",
        "from functools import partial\n",
        "from time import ctime\n",
        "from time import sleep\n",
        "import matplotlib.pyplot as plt\n",
        "import seaborn as sns\n",
        "import pandas as pd \n",
        "from sklearn.metrics import confusion_matrix\n",
        "\n",
        "## MORE REPEATABILITY STUFF NEEDED - If theres a way to update this to V2 of Tensorflow great, otherwise I had to use TF 1.0 code\n",
        "# 5. Configure a new global `tensorflow` session (https://stackoverflow.com/questions/50659482/why-cant-i-get-reproducible-results-in-keras-even-though-i-set-the-random-seeds)\n",
        "# from keras import backend as K\n",
        "\n",
        "\n",
        "#I believe thecode below is to help things be repeatable each time different sections in my google colab notebook execute\n",
        "session_conf = tf.compat.v1.ConfigProto(intra_op_parallelism_threads=1, inter_op_parallelism_threads=1)\n",
        "sess = tf.compat.v1.Session(graph=tf.compat.v1.get_default_graph(), config=session_conf)\n",
        "K.set_session(sess)"
      ],
      "metadata": {
        "id": "idfYNyyAgMsO"
      },
      "execution_count": 4,
      "outputs": []
    },
    {
      "cell_type": "markdown",
      "source": [
        "### Define batch, epochs, and format data"
      ],
      "metadata": {
        "id": "otcbfKF7mY9y"
      }
    },
    {
      "cell_type": "code",
      "source": [
        "batch_size = 256 # I originally had it very  high batch size to reduce the variation in the data each batch and hope it makes the model training more nearly identical which it did, then i bring it back down to something reasonable to get better results training the NN\n",
        "nb_classes = 10\n",
        "nb_epoch = 45\n",
        "\n",
        "# the data, shuffled and split between train and test sets\n",
        "(X_train, y_train), (X_test, y_test) = mnist.load_data()\n",
        "\n",
        "\n",
        "X_train = X_train.reshape(60000, 784)\n",
        "X_test = X_test.reshape(10000, 784)\n",
        "X_train = X_train.astype('float32')\n",
        "X_test = X_test.astype('float32')\n",
        "X_train /= 255\n",
        "X_test /= 255\n",
        "print(X_train.shape[0], 'train samples')\n",
        "print(X_test.shape[0], 'test samples')\n",
        "\n",
        "# convert class vectors to binary class matrices\n",
        "Y_train = np_utils.to_categorical(y_train, nb_classes)\n",
        "Y_test = np_utils.to_categorical(y_test, nb_classes)\n"
      ],
      "metadata": {
        "colab": {
          "base_uri": "https://localhost:8080/"
        },
        "id": "B59UXDb8i8W5",
        "outputId": "2e9a03da-e715-4e4f-f682-803049b0a4c4"
      },
      "execution_count": 5,
      "outputs": [
        {
          "output_type": "stream",
          "name": "stdout",
          "text": [
            "Downloading data from https://storage.googleapis.com/tensorflow/tf-keras-datasets/mnist.npz\n",
            "11490434/11490434 [==============================] - 0s 0us/step\n",
            "60000 train samples\n",
            "10000 test samples\n"
          ]
        }
      ]
    },
    {
      "cell_type": "markdown",
      "source": [
        "### Define Same Model but use normal Categorical CrossEntropy with no extra cost-matrix of Weights"
      ],
      "metadata": {
        "id": "HtojTVZBvLEW"
      }
    },
    {
      "cell_type": "code",
      "source": [
        "# def normal_method():\n",
        "\n",
        "#   model = Sequential()\n",
        "#   model.add(Dense(512, input_shape=(784,) ,kernel_initializer=tf.keras.initializers.glorot_uniform(seed=42)))\n",
        "#   model.add(Activation('relu'))\n",
        "#   model.add(Dropout(0.2))\n",
        "#   model.add(Dense(512, kernel_initializer=tf.keras.initializers.glorot_uniform(seed=42)))\n",
        "#   model.add(Activation('relu'))\n",
        "#   model.add(Dropout(0.2))\n",
        "#   model.add(Dense(10, kernel_initializer=tf.keras.initializers.glorot_uniform(seed=42)))\n",
        "#   model.add(Activation('softmax'))\n",
        "\n",
        "#   rms = RMSprop()\n",
        "#   # model.compile(loss=ncce, optimizer=rms)\n",
        "#   model.compile(loss=tf.keras.losses.CategoricalCrossentropy(), optimizer=rms, metrics='categorical_accuracy', )\n",
        "\n",
        "#   #add early_stop to prevent overfittings\n",
        "#   # callback = tf.keras.callbacks.EarlyStopping(monitor='val_loss', patience=3)\n",
        "\n",
        "#   model_history = model.fit(X_train, Y_train,\n",
        "#             batch_size=batch_size, epochs=nb_epoch, verbose=2,\n",
        "#             validation_data=(X_test, Y_test),shuffle=False, use_multiprocessing=True\n",
        "#             , callbacks = [callback])\n",
        "\n",
        "  \n",
        "#   # model.evaluate(X_test, Y_test, verbose=1)  # I know this isn't the typical use of train/val/test sets, please dont' comment on that\n",
        "  \n",
        "#   #Predict\n",
        "#   y_prediction = model.predict(X_test)\n",
        "#   y_prediction  = np.argmax(y_prediction, axis=1)\n",
        "#   # Y_prediction = np_utils.to_categorical(y_prediction, nb_classes) #If I want to do SparseCategoricalAccuracy\n",
        "\n",
        "#   #Create confusion matrix and normalizes it over predicted (columns)\n",
        "#   # result = confusion_matrix(y_test, y_prediction , normalize='pred')  #if I want percentages instead of raw counts\n",
        "\n",
        "  \n",
        "#   cm = confusion_matrix(y_test, y_prediction)\n",
        "#   cm = pd.DataFrame(cm, range(10),range(10))\n",
        "\n",
        "#   #This shows a pretty confusion matrix which I don't neeed to show right now\n",
        "#   # plt.figure(figsize = (10,10))\n",
        "#   # sns.heatmap(cm, annot=True, annot_kws={\"size\": 12}) # font size\n",
        "#   # plt.show()\n",
        "#   # cm_normal = cm\n",
        "\n",
        "#   return cm\n"
      ],
      "metadata": {
        "id": "InYvpv3kaCxb"
      },
      "execution_count": 6,
      "outputs": []
    },
    {
      "cell_type": "code",
      "source": [],
      "metadata": {
        "id": "cw2zBqpvvzi0"
      },
      "execution_count": 6,
      "outputs": []
    },
    {
      "cell_type": "markdown",
      "source": [
        "### Weighted Categorical Cross Entropy Class"
      ],
      "metadata": {
        "id": "3fHQHrz8MwXJ"
      }
    },
    {
      "cell_type": "code",
      "source": [
        "class WeightedCategoricalCrossentropy(tf.keras.losses.CategoricalCrossentropy):\n",
        "\n",
        "  def __init__(self, cost_mat, name='weighted_categorical_crossentropy', **kwargs):\n",
        "\n",
        "    cost_mat = np.array(cost_mat)   \n",
        "    ## when loading from config, self.cost_mat returns as a list, rather than an numpy array. \n",
        "    ## Adding the above line fixes this issue, enabling .ndim to call sucessfully. \n",
        "    ## However, this is probably not the best implementation\n",
        "    assert(cost_mat.ndim == 2)\n",
        "    assert(cost_mat.shape[0] == cost_mat.shape[1])\n",
        "    super().__init__(name=name, **kwargs)\n",
        "    self.cost_mat = K.cast_to_floatx(cost_mat)\n",
        "\n",
        "  def __call__(self, y_true, y_pred, sample_weight=None):\n",
        "    assert sample_weight is None, \"should only be derived from the cost matrix\"  \n",
        "    return super().__call__(\n",
        "        y_true=y_true, \n",
        "        y_pred=y_pred, \n",
        "        sample_weight=get_sample_weights(y_true, y_pred, self.cost_mat),\n",
        "    )\n",
        "\n",
        "\n",
        "  def get_config(self):\n",
        "    config = super().get_config().copy()\n",
        "    # Calling .update on the line above, during assignment, causes an error with config becoming None-type.\n",
        "    config.update({'cost_mat': (self.cost_mat)})\n",
        "    return config\n",
        "\n",
        "  @classmethod\n",
        "  def from_config(cls, config):\n",
        "    # something goes wrong here and changes self.cost_mat to a list variable.\n",
        "    # See above for temporary fix\n",
        "    return cls(**config)\n",
        "\n",
        "def get_sample_weights(y_true, y_pred, cost_m):\n",
        "    num_classes = len(cost_m)\n",
        "\n",
        "    y_pred.shape.assert_has_rank(2)\n",
        "    assert(y_pred.shape[1] == num_classes)\n",
        "    y_pred.shape.assert_is_compatible_with(y_true.shape)\n",
        "\n",
        "    y_pred = K.one_hot(K.argmax(y_pred), num_classes)\n",
        "\n",
        "    y_true_nk1 = K.expand_dims(y_true, 2)\n",
        "    y_pred_n1k = K.expand_dims(y_pred, 1)\n",
        "    cost_m_1kk = K.expand_dims(cost_m, 0)\n",
        "\n",
        "    sample_weights_nkk = cost_m_1kk * y_true_nk1 * y_pred_n1k\n",
        "    sample_weights_n = K.sum(sample_weights_nkk, axis=[1, 2])\n",
        "\n",
        "    return sample_weights_n\n",
        "\n",
        "\n",
        "# Register the loss in the Keras namespace to enable loading of the custom object.\n",
        "tf.keras.losses.WeightedCategoricalCrossentropy = WeightedCategoricalCrossentropy\n",
        " "
      ],
      "metadata": {
        "id": "pUR1sLQ7MvVa"
      },
      "execution_count": 7,
      "outputs": []
    },
    {
      "cell_type": "markdown",
      "source": [
        "### WeightedCategoricalCross Entropy Function "
      ],
      "metadata": {
        "id": "-uJmU0t4ANuv"
      }
    },
    {
      "cell_type": "code",
      "source": [
        "def PA_method(cost_matrix):\n",
        "\n",
        "  model3 = Sequential()\n",
        "  model3.add(Dense(40, input_shape=(784,), kernel_initializer=tf.keras.initializers.glorot_uniform(seed=42)))\n",
        "  model3.add(Activation('relu'))\n",
        "  model3.add(Dropout(0.2))\n",
        "  model3.add(Dense(40, kernel_initializer=tf.keras.initializers.glorot_uniform(seed=42)))\n",
        "  model3.add(Activation('relu'))\n",
        "  model3.add(Dropout(0.2))\n",
        "  model3.add(Dense(10,kernel_initializer=tf.keras.initializers.glorot_uniform(seed=42)))\n",
        "  model3.add(Activation('softmax'))\n",
        "\n",
        "  rms = RMSprop()  #https://keras.io/api/optimizers/rmsprop/\n",
        "\n",
        "  model3.compile(loss=WeightedCategoricalCrossentropy(cost_matrix), optimizer=rms,  metrics='categorical_accuracy',)\n",
        "  callback = tf.keras.callbacks.EarlyStopping(monitor='val_loss', patience=10, verbose=1, restore_best_weights = True)\n",
        "\n",
        "  model3_history = model3.fit(X_train, Y_train,\n",
        "            batch_size=batch_size, epochs=nb_epoch, verbose=2,\n",
        "            validation_data=(X_test, Y_test), shuffle=True, use_multiprocessing=True\n",
        "            ,callbacks = [callback]\n",
        "            )\n",
        "\n",
        " \n",
        "\n",
        "  #Predict\n",
        "  y_prediction = model3.predict(X_test)\n",
        "  y_prediction  = np.argmax(y_prediction, axis=1)\n",
        "  # Y_prediction = np_utils.to_categorical(y_prediction, nb_classes)\n",
        "\n",
        "  #Create confusion matrix and normalizes it over predicted (columns)\n",
        "  # result = confusion_matrix(y_test, y_prediction , normalize='pred')\n",
        "\n",
        "  \n",
        "\n",
        "  cm3 = confusion_matrix(y_test, y_prediction)\n",
        "  cm3 = pd.DataFrame(cm3, range(10),range(10))\n",
        "  # plt.figure(figsize = (10,10))\n",
        "  # cm3\n",
        "  # sns.heatmap(cm2, annot=True, annot_kws={\"size\": 12}) # font size\n",
        "  # plt.show()\n",
        "\n",
        "  # cm_using_weighted_new = cm3\n",
        "\n",
        "  #Label is the epoch weights are restored \n",
        "  label = f\"{max(model3_history.epoch)-10}\"\n",
        "\n",
        "  print(model3_history.history)\n",
        " \n",
        "  plt.plot(model3_history.history['categorical_accuracy'])\n",
        "  plt.plot(model3_history.history['val_categorical_accuracy'])\n",
        "  plt.scatter(x=(max(model3_history.epoch)-10), y=model3_history.history['val_categorical_accuracy'][max(model3_history.epoch)-10])\n",
        "\n",
        "  plt.annotate(text=label,  xy=(max(model3_history.epoch)-10, model3_history.history['val_categorical_accuracy'][max(model3_history.epoch)-10]),\n",
        "                 textcoords=\"offset points\", \n",
        "                 xytext=(0,10), \n",
        "                 ha='center')\n",
        "  plt.title('model accuracy')\n",
        "  plt.ylabel('accuracy')\n",
        "  plt.xlabel('epoch')\n",
        "\n",
        "  \n",
        "  plt.legend(['train', 'val'], loc='upper left')\n",
        "  plt.show()\n",
        "  \n",
        "\n",
        "  plt.plot(model3_history.history['loss'])\n",
        "  plt.plot(model3_history.history['val_loss'])\n",
        "  plt.title('model loss')\n",
        "  plt.ylabel('loss')\n",
        "  plt.xlabel('epoch')\n",
        "  plt.legend(['train', 'val'], loc='upper left')\n",
        "  plt.scatter(x=(max(model3_history.epoch)-10), y=model3_history.history['val_loss'][max(model3_history.epoch)-10])\n",
        "  plt.annotate(text=label,  xy=(max(model3_history.epoch)-10, model3_history.history['val_loss'][max(model3_history.epoch)-10]),\n",
        "                 textcoords=\"offset points\", \n",
        "                 xytext=(0,10), \n",
        "                 ha='center')\n",
        "  plt.show()\n",
        "\n",
        "\n",
        "\n",
        "\n",
        "  return cm3, model3_history, model3"
      ],
      "metadata": {
        "id": "3UWVdmRHNBhP"
      },
      "execution_count": 50,
      "outputs": []
    },
    {
      "cell_type": "markdown",
      "source": [
        "### *Keep Track of Experimental Admin Stuff - #Runs and #CostMatrix\n",
        "\n",
        "> Change the cost matrix and number of runs and check the file extension name \n"
      ],
      "metadata": {
        "id": "skXIN6S4npiV"
      }
    },
    {
      "cell_type": "markdown",
      "source": [
        "#### *Define Cost Matrix and Method"
      ],
      "metadata": {
        "id": "q9YhLRi4NU2E"
      }
    },
    {
      "cell_type": "code",
      "source": [
        "# Experimental Admin Stuff\n",
        "cost_matrix = np.ones((10,10))\n",
        "\n",
        "### Weight of Misclassification\n",
        "## ~~~~~~~~~~~~~~~~~~~~~~~~~~~~~~~~~~~~~\n",
        "cost_matrix[9, 4] = 1000\n",
        "cost_str = str(cost_matrix[9, 4])\n",
        "## ~~~~~~~~~~~~~~~~~~~~~~~~~~~~~~~~~~~~~\n",
        "\n",
        "\n",
        "\n",
        "### File Extension to reference in JMP : weights_method_cost\n",
        "## ~~~~~~~~~~~~~~~~~~~~~~~~~~~~~~~~~~~~~\n",
        "file_extension = \"w[9,4]_PA_\" + cost_str + \"_Shfl_40D_\"\n",
        "## ~~~~~~~~~~~~~~~~~~~~~~~~~~~~~~~~~~~~~\n",
        "\n",
        "\n",
        "np.set_printoptions(suppress=True)\n",
        "np.set_printoptions(precision=2)\n",
        "\n",
        "print(\"Last run using \", cost_str)"
      ],
      "metadata": {
        "id": "3bMXTRRBnn3E",
        "colab": {
          "base_uri": "https://localhost:8080/"
        },
        "outputId": "feed92a2-93a1-4972-fea0-77b5bfcbd798"
      },
      "execution_count": 44,
      "outputs": [
        {
          "output_type": "stream",
          "name": "stdout",
          "text": [
            "Last run using  1000.0\n"
          ]
        }
      ]
    },
    {
      "cell_type": "markdown",
      "source": [
        "#### Run Experiments"
      ],
      "metadata": {
        "id": "x_EdEdJwOpvO"
      }
    },
    {
      "cell_type": "code",
      "source": [
        "#@title\n",
        "cm = np.zeros([10,10])\n",
        "combined_cms = np.empty((1,100))\n",
        "\n",
        "combined_history_dictionary = {}  #because there will be a unknown number of epochs a dictionary is probly a better fit\n",
        "combined_history_list       = []\n",
        "\n",
        "\n",
        "## Define the total number of runs\n",
        "### ~~~~~~~~~\n",
        "runs = 1\n",
        "### ~~~~~~~~~~\n",
        "\n",
        "for i in range(1,runs+1):\n",
        "  print(i)\n",
        "  cm2 , history, model =  PA_method(cost_matrix)    #Individual CM, and Training/Validation History\n",
        "  print(\"CM: \\n\", cm2)\n",
        "  \n",
        "\n",
        "  combined_history_dictionary[i] = history\n",
        "  combined_history_list.append(history)\n",
        "  # cm += cm2                   #Aggregating for an Average\n",
        "  cm2_array = np.asarray(cm2)  #Indiv CM as array for storing\n",
        "  combined_cms = np.vstack((combined_cms,cm2_array.reshape((1,100))))\n",
        "\n",
        "\n",
        "\n",
        "# cm_new = cm/30"
      ],
      "metadata": {
        "id": "OSq7jMYUOF4t",
        "colab": {
          "base_uri": "https://localhost:8080/",
          "height": 1000
        },
        "outputId": "bac4a024-a76a-41c4-b74b-50912ee532fc"
      },
      "execution_count": 49,
      "outputs": [
        {
          "output_type": "stream",
          "name": "stdout",
          "text": [
            "1\n",
            "Epoch 1/45\n",
            "235/235 - 2s - loss: 2.3161 - categorical_accuracy: 0.6047 - val_loss: 0.5747 - val_categorical_accuracy: 0.7979 - 2s/epoch - 9ms/step\n",
            "Epoch 2/45\n",
            "235/235 - 1s - loss: 1.2011 - categorical_accuracy: 0.7688 - val_loss: 0.4085 - val_categorical_accuracy: 0.8356 - 795ms/epoch - 3ms/step\n",
            "Epoch 3/45\n",
            "235/235 - 1s - loss: 1.0340 - categorical_accuracy: 0.8179 - val_loss: 0.4261 - val_categorical_accuracy: 0.8789 - 797ms/epoch - 3ms/step\n",
            "Epoch 4/45\n",
            "235/235 - 1s - loss: 1.0081 - categorical_accuracy: 0.8422 - val_loss: 0.4389 - val_categorical_accuracy: 0.8740 - 851ms/epoch - 4ms/step\n",
            "Epoch 5/45\n",
            "235/235 - 1s - loss: 0.7802 - categorical_accuracy: 0.8573 - val_loss: 0.2889 - val_categorical_accuracy: 0.8833 - 831ms/epoch - 4ms/step\n",
            "Epoch 6/45\n",
            "235/235 - 1s - loss: 0.8050 - categorical_accuracy: 0.8686 - val_loss: 0.2861 - val_categorical_accuracy: 0.8755 - 837ms/epoch - 4ms/step\n",
            "Epoch 7/45\n",
            "235/235 - 1s - loss: 0.7739 - categorical_accuracy: 0.8661 - val_loss: 0.2782 - val_categorical_accuracy: 0.8808 - 783ms/epoch - 3ms/step\n",
            "Epoch 8/45\n",
            "235/235 - 1s - loss: 0.7192 - categorical_accuracy: 0.8735 - val_loss: 0.2552 - val_categorical_accuracy: 0.8892 - 854ms/epoch - 4ms/step\n",
            "Epoch 9/45\n",
            "235/235 - 1s - loss: 0.6741 - categorical_accuracy: 0.8763 - val_loss: 0.2512 - val_categorical_accuracy: 0.8921 - 791ms/epoch - 3ms/step\n",
            "Epoch 10/45\n",
            "235/235 - 1s - loss: 0.6690 - categorical_accuracy: 0.8880 - val_loss: 0.2284 - val_categorical_accuracy: 0.9096 - 804ms/epoch - 3ms/step\n",
            "Epoch 11/45\n",
            "235/235 - 1s - loss: 0.6251 - categorical_accuracy: 0.8874 - val_loss: 0.4734 - val_categorical_accuracy: 0.9269 - 848ms/epoch - 4ms/step\n",
            "Epoch 12/45\n",
            "235/235 - 1s - loss: 0.6217 - categorical_accuracy: 0.8947 - val_loss: 0.2215 - val_categorical_accuracy: 0.9128 - 976ms/epoch - 4ms/step\n",
            "Epoch 13/45\n",
            "235/235 - 1s - loss: 0.6112 - categorical_accuracy: 0.8917 - val_loss: 0.2258 - val_categorical_accuracy: 0.9040 - 1s/epoch - 6ms/step\n",
            "Epoch 14/45\n",
            "235/235 - 1s - loss: 0.5405 - categorical_accuracy: 0.8953 - val_loss: 0.5955 - val_categorical_accuracy: 0.9315 - 784ms/epoch - 3ms/step\n",
            "Epoch 15/45\n",
            "235/235 - 1s - loss: 0.5975 - categorical_accuracy: 0.8996 - val_loss: 0.3911 - val_categorical_accuracy: 0.9237 - 894ms/epoch - 4ms/step\n",
            "Epoch 16/45\n",
            "235/235 - 1s - loss: 0.5719 - categorical_accuracy: 0.8954 - val_loss: 0.3768 - val_categorical_accuracy: 0.9305 - 859ms/epoch - 4ms/step\n",
            "Epoch 17/45\n",
            "235/235 - 1s - loss: 0.5752 - categorical_accuracy: 0.9002 - val_loss: 0.2989 - val_categorical_accuracy: 0.9237 - 797ms/epoch - 3ms/step\n",
            "Epoch 18/45\n",
            "235/235 - 1s - loss: 0.5787 - categorical_accuracy: 0.9012 - val_loss: 0.3519 - val_categorical_accuracy: 0.9263 - 827ms/epoch - 4ms/step\n",
            "Epoch 19/45\n",
            "235/235 - 1s - loss: 0.6249 - categorical_accuracy: 0.9014 - val_loss: 0.2202 - val_categorical_accuracy: 0.8968 - 861ms/epoch - 4ms/step\n",
            "Epoch 20/45\n",
            "235/235 - 1s - loss: 0.5320 - categorical_accuracy: 0.9050 - val_loss: 0.4641 - val_categorical_accuracy: 0.9225 - 786ms/epoch - 3ms/step\n",
            "Epoch 21/45\n",
            "235/235 - 1s - loss: 0.5056 - categorical_accuracy: 0.9088 - val_loss: 0.1944 - val_categorical_accuracy: 0.9225 - 890ms/epoch - 4ms/step\n",
            "Epoch 22/45\n",
            "235/235 - 1s - loss: 0.4884 - categorical_accuracy: 0.9054 - val_loss: 0.4407 - val_categorical_accuracy: 0.9324 - 801ms/epoch - 3ms/step\n",
            "Epoch 23/45\n",
            "235/235 - 1s - loss: 0.5180 - categorical_accuracy: 0.9041 - val_loss: 0.4172 - val_categorical_accuracy: 0.9287 - 938ms/epoch - 4ms/step\n",
            "Epoch 24/45\n",
            "235/235 - 1s - loss: 0.5737 - categorical_accuracy: 0.9051 - val_loss: 0.2578 - val_categorical_accuracy: 0.9350 - 1s/epoch - 5ms/step\n",
            "Epoch 25/45\n",
            "235/235 - 1s - loss: 0.4869 - categorical_accuracy: 0.9082 - val_loss: 0.4192 - val_categorical_accuracy: 0.9317 - 1s/epoch - 4ms/step\n",
            "Epoch 26/45\n",
            "235/235 - 1s - loss: 0.5325 - categorical_accuracy: 0.9082 - val_loss: 0.1932 - val_categorical_accuracy: 0.9208 - 801ms/epoch - 3ms/step\n",
            "Epoch 27/45\n",
            "235/235 - 1s - loss: 0.4846 - categorical_accuracy: 0.9153 - val_loss: 0.4056 - val_categorical_accuracy: 0.9352 - 870ms/epoch - 4ms/step\n",
            "Epoch 28/45\n",
            "235/235 - 1s - loss: 0.4925 - categorical_accuracy: 0.9122 - val_loss: 0.5047 - val_categorical_accuracy: 0.9388 - 870ms/epoch - 4ms/step\n",
            "Epoch 29/45\n",
            "235/235 - 1s - loss: 0.4793 - categorical_accuracy: 0.9114 - val_loss: 0.5137 - val_categorical_accuracy: 0.9404 - 794ms/epoch - 3ms/step\n",
            "Epoch 30/45\n",
            "235/235 - 1s - loss: 0.5496 - categorical_accuracy: 0.9088 - val_loss: 0.3918 - val_categorical_accuracy: 0.9338 - 821ms/epoch - 3ms/step\n",
            "Epoch 31/45\n",
            "235/235 - 1s - loss: 0.5036 - categorical_accuracy: 0.9180 - val_loss: 0.3627 - val_categorical_accuracy: 0.9449 - 863ms/epoch - 4ms/step\n",
            "Epoch 32/45\n",
            "235/235 - 1s - loss: 0.4619 - categorical_accuracy: 0.9140 - val_loss: 0.2782 - val_categorical_accuracy: 0.9390 - 861ms/epoch - 4ms/step\n",
            "Epoch 33/45\n",
            "235/235 - 1s - loss: 0.4725 - categorical_accuracy: 0.9195 - val_loss: 0.2564 - val_categorical_accuracy: 0.9371 - 870ms/epoch - 4ms/step\n",
            "Epoch 34/45\n",
            "235/235 - 1s - loss: 0.4705 - categorical_accuracy: 0.9172 - val_loss: 0.2738 - val_categorical_accuracy: 0.9343 - 871ms/epoch - 4ms/step\n",
            "Epoch 35/45\n",
            "235/235 - 1s - loss: 0.4934 - categorical_accuracy: 0.9178 - val_loss: 0.1783 - val_categorical_accuracy: 0.9384 - 864ms/epoch - 4ms/step\n",
            "Epoch 36/45\n",
            "235/235 - 1s - loss: 0.5032 - categorical_accuracy: 0.9172 - val_loss: 0.2638 - val_categorical_accuracy: 0.9308 - 1s/epoch - 5ms/step\n",
            "Epoch 37/45\n",
            "235/235 - 1s - loss: 0.4331 - categorical_accuracy: 0.9176 - val_loss: 0.5135 - val_categorical_accuracy: 0.9459 - 1s/epoch - 5ms/step\n",
            "Epoch 38/45\n",
            "235/235 - 1s - loss: 0.4732 - categorical_accuracy: 0.9137 - val_loss: 0.2605 - val_categorical_accuracy: 0.9350 - 804ms/epoch - 3ms/step\n",
            "Epoch 39/45\n",
            "235/235 - 1s - loss: 0.4204 - categorical_accuracy: 0.9229 - val_loss: 0.5018 - val_categorical_accuracy: 0.9527 - 831ms/epoch - 4ms/step\n",
            "Epoch 40/45\n",
            "235/235 - 1s - loss: 0.4652 - categorical_accuracy: 0.9231 - val_loss: 0.1925 - val_categorical_accuracy: 0.9302 - 818ms/epoch - 3ms/step\n",
            "Epoch 41/45\n",
            "235/235 - 1s - loss: 0.4718 - categorical_accuracy: 0.9228 - val_loss: 0.1977 - val_categorical_accuracy: 0.9277 - 822ms/epoch - 3ms/step\n",
            "Epoch 42/45\n",
            "235/235 - 1s - loss: 0.4092 - categorical_accuracy: 0.9212 - val_loss: 0.8517 - val_categorical_accuracy: 0.9509 - 790ms/epoch - 3ms/step\n",
            "Epoch 43/45\n",
            "235/235 - 1s - loss: 0.6169 - categorical_accuracy: 0.9162 - val_loss: 0.2056 - val_categorical_accuracy: 0.9177 - 813ms/epoch - 3ms/step\n",
            "Epoch 44/45\n",
            "235/235 - 1s - loss: 0.4874 - categorical_accuracy: 0.9230 - val_loss: 0.2611 - val_categorical_accuracy: 0.9374 - 869ms/epoch - 4ms/step\n",
            "Epoch 45/45\n",
            "Restoring model weights from the end of the best epoch: 35.\n",
            "235/235 - 1s - loss: 0.4370 - categorical_accuracy: 0.9288 - val_loss: 0.4894 - val_categorical_accuracy: 0.9449 - 832ms/epoch - 4ms/step\n",
            "Epoch 45: early stopping\n",
            "313/313 [==============================] - 1s 4ms/step\n",
            "{'loss': [2.316051721572876, 1.201114535331726, 1.0339704751968384, 1.0080726146697998, 0.7801945209503174, 0.8049818873405457, 0.7738811373710632, 0.719194769859314, 0.6740725040435791, 0.6689506769180298, 0.6251054406166077, 0.6216784715652466, 0.6111549735069275, 0.5404909253120422, 0.5975006222724915, 0.5718874335289001, 0.5751856565475464, 0.5787199139595032, 0.6249449849128723, 0.5319538712501526, 0.5056442022323608, 0.4884263873100281, 0.5180397629737854, 0.5737122893333435, 0.48687446117401123, 0.5325415730476379, 0.4845740795135498, 0.4924817383289337, 0.4793330132961273, 0.5495661497116089, 0.5036353468894958, 0.4619433879852295, 0.4725313186645508, 0.470536470413208, 0.49335286021232605, 0.5032476186752319, 0.43305355310440063, 0.47319504618644714, 0.42040130496025085, 0.4651910364627838, 0.4717722237110138, 0.4091542661190033, 0.6169100403785706, 0.48743554949760437, 0.4370180666446686], 'categorical_accuracy': [0.6046833395957947, 0.7687833309173584, 0.8179166913032532, 0.8422499895095825, 0.8572999835014343, 0.8686333298683167, 0.8661166429519653, 0.8734999895095825, 0.8762999773025513, 0.8880333304405212, 0.8873500227928162, 0.8946833610534668, 0.8916833400726318, 0.8953333497047424, 0.8996166586875916, 0.8953666687011719, 0.9002333283424377, 0.9012333154678345, 0.9013833403587341, 0.9050499796867371, 0.9087666869163513, 0.9054499864578247, 0.9040833115577698, 0.9050999879837036, 0.9081666469573975, 0.9081666469573975, 0.915316641330719, 0.9122333526611328, 0.9114000201225281, 0.9087833166122437, 0.9180333614349365, 0.9140499830245972, 0.9195166826248169, 0.9172166585922241, 0.9178000092506409, 0.9171500205993652, 0.9175999760627747, 0.9136833548545837, 0.9228500127792358, 0.9230666756629944, 0.9228333234786987, 0.9211500287055969, 0.9162333607673645, 0.9230499863624573, 0.9287833571434021], 'val_loss': [0.574720025062561, 0.40848395228385925, 0.4261360764503479, 0.43892523646354675, 0.2889217436313629, 0.28614938259124756, 0.27819573879241943, 0.25523990392684937, 0.2511802017688751, 0.2284415066242218, 0.47342821955680847, 0.2214922159910202, 0.2258353978395462, 0.5954850316047668, 0.3911203444004059, 0.3768176734447479, 0.29890623688697815, 0.35190606117248535, 0.22020302712917328, 0.4641362726688385, 0.19442075490951538, 0.44066527485847473, 0.41717588901519775, 0.25780540704727173, 0.41920650005340576, 0.19324201345443726, 0.40558233857154846, 0.5046786069869995, 0.5136910676956177, 0.39182552695274353, 0.3627283573150635, 0.2782401144504547, 0.25635039806365967, 0.27378877997398376, 0.1782611906528473, 0.2637602686882019, 0.5134842991828918, 0.260463684797287, 0.5017976760864258, 0.1924535036087036, 0.19766224920749664, 0.8517116904258728, 0.20555536448955536, 0.26107820868492126, 0.4894483983516693], 'val_categorical_accuracy': [0.7979000210762024, 0.8356000185012817, 0.8788999915122986, 0.8740000128746033, 0.8833000063896179, 0.8755000233650208, 0.8808000087738037, 0.88919997215271, 0.8920999765396118, 0.909600019454956, 0.9269000291824341, 0.9128000140190125, 0.9039999842643738, 0.9315000176429749, 0.9236999750137329, 0.9304999709129333, 0.9236999750137329, 0.9262999892234802, 0.8967999815940857, 0.9225000143051147, 0.9225000143051147, 0.9323999881744385, 0.9286999702453613, 0.9350000023841858, 0.9316999912261963, 0.920799970626831, 0.9351999759674072, 0.9387999773025513, 0.9404000043869019, 0.9337999820709229, 0.9448999762535095, 0.9390000104904175, 0.9370999932289124, 0.9343000054359436, 0.9383999705314636, 0.9308000206947327, 0.945900022983551, 0.9350000023841858, 0.9527000188827515, 0.9301999807357788, 0.9276999831199646, 0.9509000182151794, 0.9176999926567078, 0.9373999834060669, 0.9448999762535095]}\n"
          ]
        },
        {
          "output_type": "display_data",
          "data": {
            "text/plain": [
              "<Figure size 432x288 with 1 Axes>"
            ],
            "image/png": "[encoded data removed]"
          },
          "metadata": {
            "needs_background": "light"
          }
        },
        {
          "output_type": "display_data",
          "data": {
            "text/plain": [
              "<Figure size 432x288 with 1 Axes>"
            ],
            "image/png": "[encoded data removed]"
          },
          "metadata": {
            "needs_background": "light"
          }
        },
        {
          "output_type": "stream",
          "name": "stdout",
          "text": [
            "CM: \n",
            "      0     1    2    3    4    5    6    7    8    9\n",
            "0  965     0    2    2    0    0    7    1    3    0\n",
            "1    0  1112    5    3    0    1    4    1    9    0\n",
            "2    5     3  995    4    2    1    3   10    5    4\n",
            "3    0     1   11  977    0    7    0   10    3    1\n",
            "4    1     0    4    0  675    0    9    1    3  289\n",
            "5    5     0    0   19    1  837   13    2   11    4\n",
            "6    7     4    1    0    3    5  935    0    1    2\n",
            "7    1    11   16    6    2    0    0  985    0    7\n",
            "8    4     5    3    7    2    6    8    4  928    7\n",
            "9    4     3    0   12    0    5    1    7    2  975\n"
          ]
        }
      ]
    },
    {
      "cell_type": "code",
      "source": [
        "# dir(history) and # print(history.__dict__)  are useful for digging into what variables are inside a variable"
      ],
      "metadata": {
        "id": "s6HsboVWsimi"
      },
      "execution_count": null,
      "outputs": []
    },
    {
      "cell_type": "code",
      "source": [
        "combined_history_dictionary[1].history['loss'] #inside each combined_history_dictionary is a list\n",
        "# combined_history_dictionary[1].history['val_loss']\n",
        "# combined_history_dictionary[1].history['categorical_accuracy']\n",
        "# combined_history_dictionary[1].history['val_categorical_accuracy']\n",
        "# combined_history_dictionary[1].epoch\n",
        "\n",
        "# len(combined_history_dictionary)  # the length is 1, but the dictionary starts at 1\n",
        "# len(combined_history_list)      # the length is 1, but the list starts at 0\n",
        "combined_history_list[0].history['loss']\n"
      ],
      "metadata": {
        "colab": {
          "base_uri": "https://localhost:8080/"
        },
        "id": "JMQNfNee3vWl",
        "outputId": "a61d8560-ee15-4d4b-8f07-10e362c4bd4a"
      },
      "execution_count": 92,
      "outputs": [
        {
          "output_type": "execute_result",
          "data": {
            "text/plain": [
              "[2.316051721572876,\n",
              " 1.201114535331726,\n",
              " 1.0339704751968384,\n",
              " 1.0080726146697998,\n",
              " 0.7801945209503174,\n",
              " 0.8049818873405457,\n",
              " 0.7738811373710632,\n",
              " 0.719194769859314,\n",
              " 0.6740725040435791,\n",
              " 0.6689506769180298,\n",
              " 0.6251054406166077,\n",
              " 0.6216784715652466,\n",
              " 0.6111549735069275,\n",
              " 0.5404909253120422,\n",
              " 0.5975006222724915,\n",
              " 0.5718874335289001,\n",
              " 0.5751856565475464,\n",
              " 0.5787199139595032,\n",
              " 0.6249449849128723,\n",
              " 0.5319538712501526,\n",
              " 0.5056442022323608,\n",
              " 0.4884263873100281,\n",
              " 0.5180397629737854,\n",
              " 0.5737122893333435,\n",
              " 0.48687446117401123,\n",
              " 0.5325415730476379,\n",
              " 0.4845740795135498,\n",
              " 0.4924817383289337,\n",
              " 0.4793330132961273,\n",
              " 0.5495661497116089,\n",
              " 0.5036353468894958,\n",
              " 0.4619433879852295,\n",
              " 0.4725313186645508,\n",
              " 0.470536470413208,\n",
              " 0.49335286021232605,\n",
              " 0.5032476186752319,\n",
              " 0.43305355310440063,\n",
              " 0.47319504618644714,\n",
              " 0.42040130496025085,\n",
              " 0.4651910364627838,\n",
              " 0.4717722237110138,\n",
              " 0.4091542661190033,\n",
              " 0.6169100403785706,\n",
              " 0.48743554949760437,\n",
              " 0.4370180666446686]"
            ]
          },
          "metadata": {},
          "execution_count": 92
        }
      ]
    },
    {
      "cell_type": "code",
      "source": [
        "# I need to remove the first placeholder row of zeros\n",
        "combined_cms = combined_cms[1:(runs+1)]"
      ],
      "metadata": {
        "id": "Z7qMXMuN4kS1"
      },
      "execution_count": 51,
      "outputs": []
    },
    {
      "cell_type": "markdown",
      "source": [
        "#### Save the 30/X confusion matrices"
      ],
      "metadata": {
        "id": "u-MSCXKC48ss"
      }
    },
    {
      "cell_type": "code",
      "source": [
        "#Save 30 confusion matrices\n",
        "\n",
        "import pickle\n",
        "\n",
        "str_runs = str(runs)\n",
        "\n",
        "\n",
        "from datetime import date\n",
        "today = date.today()\n",
        "file_date = today.strftime(\"%Y_%m_%d\")\n",
        "now = datetime.now() # current date and time\n",
        "file_time = now.strftime(\"%H%M\")\n",
        "print(\"time:\", file_time)\n",
        "\n",
        "\n",
        "\n",
        "\n",
        "file_name = str_runs + \"CM_\" + file_extension + \"_\" + file_date + \"_\" + file_time +  \"_.pkl\"\n",
        "print(file_name, \" will be saved with \", combined_cms.shape)\n",
        "\n",
        "with open(file_name, 'wb') as file_write:\n",
        "      \n",
        "    # A new file will be created\n",
        "    pickle.dump(combined_cms, file_write)\n",
        "\n",
        "\n",
        "\n",
        " \n",
        "# Open the file in binary mode\n",
        "with open(file_name, 'rb') as file:\n",
        "      \n",
        "    # Call load method to deserialze\n",
        "    var = pickle.load(file)\n",
        "  \n",
        "    print(var)\n",
        "    \n",
        "print(file_name, \" was opened with \", var.shape)\n",
        "\n",
        "from google.colab import files\n",
        "files.download( file_name )  \n",
        "\n",
        "print(file_name, \".pkl was saved to Downloads \")\n"
      ],
      "metadata": {
        "colab": {
          "base_uri": "https://localhost:8080/",
          "height": 252
        },
        "id": "9purX_onqXGo",
        "outputId": "c60eb69b-3433-4fb5-f85f-3139be7e8045"
      },
      "execution_count": 66,
      "outputs": [
        {
          "output_type": "stream",
          "name": "stdout",
          "text": [
            "time: 1408\n",
            "1CM_w[9,4]_PA_1000.0_Shfl_40D__2023_02_27_1408_.pkl  will be saved with  (1, 100)\n",
            "[[ 963.    0.    0.    1.    2.    3.    7.    1.    3.    0.    0. 1119.\n",
            "     4.    3.    1.    0.    3.    2.    3.    0.    7.    6.  964.    9.\n",
            "     3.    1.    5.   14.   20.    3.    0.    3.   16.  953.    1.   11.\n",
            "     0.   11.   10.    5.    1.    4.    5.    0.  405.    0.   12.    1.\n",
            "     5.  549.    7.    2.    2.   31.    3.  805.   12.    2.   16.   12.\n",
            "    14.    5.    2.    0.    6.    9.  919.    0.    3.    0.    3.   12.\n",
            "    16.    2.    2.    0.    0.  973.    0.   20.    8.   11.    9.   10.\n",
            "     5.   13.    6.    8.  892.   12.    9.    5.    0.   13.    0.    4.\n",
            "     0.    9.    3.  966.]]\n",
            "1CM_w[9,4]_PA_1000.0_Shfl_40D__2023_02_27_1408_.pkl  was opened with  (1, 100)\n"
          ]
        },
        {
          "output_type": "display_data",
          "data": {
            "text/plain": [
              "<IPython.core.display.Javascript object>"
            ],
            "application/javascript": [
              "\n",
              "    async function download(id, filename, size) {\n",
              "      if (!google.colab.kernel.accessAllowed) {\n",
              "        return;\n",
              "      }\n",
              "      const div = document.createElement('div');\n",
              "      const label = document.createElement('label');\n",
              "      label.textContent = `Downloading \"${filename}\": `;\n",
              "      div.appendChild(label);\n",
              "      const progress = document.createElement('progress');\n",
              "      progress.max = size;\n",
              "      div.appendChild(progress);\n",
              "      document.body.appendChild(div);\n",
              "\n",
              "      const buffers = [];\n",
              "      let downloaded = 0;\n",
              "\n",
              "      const channel = await google.colab.kernel.comms.open(id);\n",
              "      // Send a message to notify the kernel that we're ready.\n",
              "      channel.send({})\n",
              "\n",
              "      for await (const message of channel.messages) {\n",
              "        // Send a message to notify the kernel that we're ready.\n",
              "        channel.send({})\n",
              "        if (message.buffers) {\n",
              "          for (const buffer of message.buffers) {\n",
              "            buffers.push(buffer);\n",
              "            downloaded += buffer.byteLength;\n",
              "            progress.value = downloaded;\n",
              "          }\n",
              "        }\n",
              "      }\n",
              "      const blob = new Blob(buffers, {type: 'application/binary'});\n",
              "      const a = document.createElement('a');\n",
              "      a.href = window.URL.createObjectURL(blob);\n",
              "      a.download = filename;\n",
              "      div.appendChild(a);\n",
              "      a.click();\n",
              "      div.remove();\n",
              "    }\n",
              "  "
            ]
          },
          "metadata": {}
        },
        {
          "output_type": "display_data",
          "data": {
            "text/plain": [
              "<IPython.core.display.Javascript object>"
            ],
            "application/javascript": [
              "download(\"download_c7c317e1-75c2-433b-adf8-c25ad7520384\", \"1CM_w[9,4]_PA_1000.0_Shfl_40D__2023_02_27_1408_.pkl\", 952)"
            ]
          },
          "metadata": {}
        },
        {
          "output_type": "stream",
          "name": "stdout",
          "text": [
            "1CM_w[9,4]_PA_1000.0_Shfl_40D__2023_02_27_1408_.pkl .pkl was saved to Downloads \n"
          ]
        }
      ]
    },
    {
      "cell_type": "code",
      "source": [
        "# How many categories are there in the test set?\n",
        "\n",
        "truth_num_per_category = Y_test.sum(axis=0)\n",
        "print(truth_num_per_category)"
      ],
      "metadata": {
        "id": "id_ythTutuo3",
        "colab": {
          "base_uri": "https://localhost:8080/"
        },
        "outputId": "7c6b5565-9b1c-4677-a30c-617d3449c2a1"
      },
      "execution_count": 67,
      "outputs": [
        {
          "output_type": "stream",
          "name": "stdout",
          "text": [
            "[ 980. 1135. 1032. 1010.  982.  892.  958. 1028.  974. 1009.]\n"
          ]
        }
      ]
    },
    {
      "cell_type": "markdown",
      "source": [
        "# Analyze \n",
        "\n",
        "I am now going to load the Average CM and try to get it in a format where I can make it a 1x100 and load all 30 CMs so that we can visualize their distributions in a a big histogram_matrix. At this point the Google Colab variables are gone and I have to reoad them "
      ],
      "metadata": {
        "id": "NP_kxNkhn6Fd"
      }
    },
    {
      "cell_type": "code",
      "source": [
        "import numpy as np\n",
        "import pandas as pd\n",
        "empty_cm = np.zeros((10,10))  \n",
        "empty_cm=pd.DataFrame(empty_cm)\n",
        "\n",
        "empty_cm.columns = ['0p', '1p', '2p', '3p', '4p', '5p', '6p', '7p', '8p', '9p']\n",
        "empty_cm.index = ['0t', '1t', '2t', '3t', '4t', '5t', '6t', '7t', '8t', '9t']\n",
        "\n",
        "# print(myvar_cm_average)\n",
        "\n",
        "empty_cm_array = np.asarray(empty_cm)\n",
        "empty_cm_array_1_100 = np.reshape(empty_cm_array,(1,100))\n",
        "# print(cm_average_array)\n",
        "\n",
        "df = empty_cm\n",
        "df_new = pd.DataFrame(empty_cm_array_1_100,  columns=pd.MultiIndex.from_product([ df.index,df.columns]))\n",
        "df_new.columns.to_flat_index()\n",
        "df_new.columns   = ['_'.join(col) for col in df_new.columns.values]\n",
        "\n",
        "# Now convert combined_cms of size 30x100 to a panda dataframe\n",
        "combined_cms_df = pd.DataFrame(combined_cms, columns=[df_new.columns])\n",
        "\n",
        "combined_cms_df"
      ],
      "metadata": {
        "colab": {
          "base_uri": "https://localhost:8080/",
          "height": 174
        },
        "id": "kLrNJE0s53pb",
        "outputId": "18b470d8-e8f8-45d3-de29-11d1afa895b8"
      },
      "execution_count": 68,
      "outputs": [
        {
          "output_type": "execute_result",
          "data": {
            "text/plain": [
              "   0t_0p 0t_1p 0t_2p 0t_3p 0t_4p 0t_5p 0t_6p 0t_7p 0t_8p 0t_9p  ... 9t_0p  \\\n",
              "0  963.0   0.0   0.0   1.0   2.0   3.0   7.0   1.0   3.0   0.0  ...   9.0   \n",
              "\n",
              "  9t_1p 9t_2p 9t_3p 9t_4p 9t_5p 9t_6p 9t_7p 9t_8p  9t_9p  \n",
              "0   5.0   0.0  13.0   0.0   4.0   0.0   9.0   3.0  966.0  \n",
              "\n",
              "[1 rows x 100 columns]"
            ],
            "text/html": [
              "\n",
              "  <div id=\"df-99726a6d-b9c0-4c82-8c55-84bdff589b7c\">\n",
              "    <div class=\"colab-df-container\">\n",
              "      <div>\n",
              "<style scoped>\n",
              "    .dataframe tbody tr th:only-of-type {\n",
              "        vertical-align: middle;\n",
              "    }\n",
              "\n",
              "    .dataframe tbody tr th {\n",
              "        vertical-align: top;\n",
              "    }\n",
              "\n",
              "    .dataframe thead tr th {\n",
              "        text-align: left;\n",
              "    }\n",
              "</style>\n",
              "<table border=\"1\" class=\"dataframe\">\n",
              "  <thead>\n",
              "    <tr>\n",
              "      <th></th>\n",
              "      <th>0t_0p</th>\n",
              "      <th>0t_1p</th>\n",
              "      <th>0t_2p</th>\n",
              "      <th>0t_3p</th>\n",
              "      <th>0t_4p</th>\n",
              "      <th>0t_5p</th>\n",
              "      <th>0t_6p</th>\n",
              "      <th>0t_7p</th>\n",
              "      <th>0t_8p</th>\n",
              "      <th>0t_9p</th>\n",
              "      <th>...</th>\n",
              "      <th>9t_0p</th>\n",
              "      <th>9t_1p</th>\n",
              "      <th>9t_2p</th>\n",
              "      <th>9t_3p</th>\n",
              "      <th>9t_4p</th>\n",
              "      <th>9t_5p</th>\n",
              "      <th>9t_6p</th>\n",
              "      <th>9t_7p</th>\n",
              "      <th>9t_8p</th>\n",
              "      <th>9t_9p</th>\n",
              "    </tr>\n",
              "  </thead>\n",
              "  <tbody>\n",
              "    <tr>\n",
              "      <th>0</th>\n",
              "      <td>963.0</td>\n",
              "      <td>0.0</td>\n",
              "      <td>0.0</td>\n",
              "      <td>1.0</td>\n",
              "      <td>2.0</td>\n",
              "      <td>3.0</td>\n",
              "      <td>7.0</td>\n",
              "      <td>1.0</td>\n",
              "      <td>3.0</td>\n",
              "      <td>0.0</td>\n",
              "      <td>...</td>\n",
              "      <td>9.0</td>\n",
              "      <td>5.0</td>\n",
              "      <td>0.0</td>\n",
              "      <td>13.0</td>\n",
              "      <td>0.0</td>\n",
              "      <td>4.0</td>\n",
              "      <td>0.0</td>\n",
              "      <td>9.0</td>\n",
              "      <td>3.0</td>\n",
              "      <td>966.0</td>\n",
              "    </tr>\n",
              "  </tbody>\n",
              "</table>\n",
              "<p>1 rows × 100 columns</p>\n",
              "</div>\n",
              "      <button class=\"colab-df-convert\" onclick=\"convertToInteractive('df-99726a6d-b9c0-4c82-8c55-84bdff589b7c')\"\n",
              "              title=\"Convert this dataframe to an interactive table.\"\n",
              "              style=\"display:none;\">\n",
              "        \n",
              "  <svg xmlns=\"http://www.w3.org/2000/svg\" height=\"24px\"viewBox=\"0 0 24 24\"\n",
              "       width=\"24px\">\n",
              "    <path d=\"M0 0h24v24H0V0z\" fill=\"none\"/>\n",
              "    <path d=\"M18.56 5.44l.94 2.06.94-2.06 2.06-.94-2.06-.94-.94-2.06-.94 2.06-2.06.94zm-11 1L8.5 8.5l.94-2.06 2.06-.94-2.06-.94L8.5 2.5l-.94 2.06-2.06.94zm10 10l.94 2.06.94-2.06 2.06-.94-2.06-.94-.94-2.06-.94 2.06-2.06.94z\"/><path d=\"M17.41 7.96l-1.37-1.37c-.4-.4-.92-.59-1.43-.59-.52 0-1.04.2-1.43.59L10.3 9.45l-7.72 7.72c-.78.78-.78 2.05 0 2.83L4 21.41c.39.39.9.59 1.41.59.51 0 1.02-.2 1.41-.59l7.78-7.78 2.81-2.81c.8-.78.8-2.07 0-2.86zM5.41 20L4 18.59l7.72-7.72 1.47 1.35L5.41 20z\"/>\n",
              "  </svg>\n",
              "      </button>\n",
              "      \n",
              "  <style>\n",
              "    .colab-df-container {\n",
              "      display:flex;\n",
              "      flex-wrap:wrap;\n",
              "      gap: 12px;\n",
              "    }\n",
              "\n",
              "    .colab-df-convert {\n",
              "      background-color: #E8F0FE;\n",
              "      border: none;\n",
              "      border-radius: 50%;\n",
              "      cursor: pointer;\n",
              "      display: none;\n",
              "      fill: #1967D2;\n",
              "      height: 32px;\n",
              "      padding: 0 0 0 0;\n",
              "      width: 32px;\n",
              "    }\n",
              "\n",
              "    .colab-df-convert:hover {\n",
              "      background-color: #E2EBFA;\n",
              "      box-shadow: 0px 1px 2px rgba(60, 64, 67, 0.3), 0px 1px 3px 1px rgba(60, 64, 67, 0.15);\n",
              "      fill: #174EA6;\n",
              "    }\n",
              "\n",
              "    [theme=dark] .colab-df-convert {\n",
              "      background-color: #3B4455;\n",
              "      fill: #D2E3FC;\n",
              "    }\n",
              "\n",
              "    [theme=dark] .colab-df-convert:hover {\n",
              "      background-color: #434B5C;\n",
              "      box-shadow: 0px 1px 3px 1px rgba(0, 0, 0, 0.15);\n",
              "      filter: drop-shadow(0px 1px 2px rgba(0, 0, 0, 0.3));\n",
              "      fill: #FFFFFF;\n",
              "    }\n",
              "  </style>\n",
              "\n",
              "      <script>\n",
              "        const buttonEl =\n",
              "          document.querySelector('#df-99726a6d-b9c0-4c82-8c55-84bdff589b7c button.colab-df-convert');\n",
              "        buttonEl.style.display =\n",
              "          google.colab.kernel.accessAllowed ? 'block' : 'none';\n",
              "\n",
              "        async function convertToInteractive(key) {\n",
              "          const element = document.querySelector('#df-99726a6d-b9c0-4c82-8c55-84bdff589b7c');\n",
              "          const dataTable =\n",
              "            await google.colab.kernel.invokeFunction('convertToInteractive',\n",
              "                                                     [key], {});\n",
              "          if (!dataTable) return;\n",
              "\n",
              "          const docLinkHtml = 'Like what you see? Visit the ' +\n",
              "            '<a target=\"_blank\" href=https://colab.research.google.com/notebooks/data_table.ipynb>data table notebook</a>'\n",
              "            + ' to learn more about interactive tables.';\n",
              "          element.innerHTML = '';\n",
              "          dataTable['output_type'] = 'display_data';\n",
              "          await google.colab.output.renderOutput(dataTable, element);\n",
              "          const docLink = document.createElement('div');\n",
              "          docLink.innerHTML = docLinkHtml;\n",
              "          element.appendChild(docLink);\n",
              "        }\n",
              "      </script>\n",
              "    </div>\n",
              "  </div>\n",
              "  "
            ]
          },
          "metadata": {},
          "execution_count": 68
        }
      ]
    },
    {
      "cell_type": "code",
      "source": [
        "combined_cms_df[\"9t_4p\"]"
      ],
      "metadata": {
        "colab": {
          "base_uri": "https://localhost:8080/",
          "height": 80
        },
        "id": "HgPClcrAUdxu",
        "outputId": "4e98a4a7-1371-44bd-a8a9-a2eeed56a2fe"
      },
      "execution_count": 69,
      "outputs": [
        {
          "output_type": "execute_result",
          "data": {
            "text/plain": [
              "  9t_4p\n",
              "0   0.0"
            ],
            "text/html": [
              "\n",
              "  <div id=\"df-c1b2371e-c37d-40cc-a9bc-16ec5798383f\">\n",
              "    <div class=\"colab-df-container\">\n",
              "      <div>\n",
              "<style scoped>\n",
              "    .dataframe tbody tr th:only-of-type {\n",
              "        vertical-align: middle;\n",
              "    }\n",
              "\n",
              "    .dataframe tbody tr th {\n",
              "        vertical-align: top;\n",
              "    }\n",
              "\n",
              "    .dataframe thead tr th {\n",
              "        text-align: left;\n",
              "    }\n",
              "</style>\n",
              "<table border=\"1\" class=\"dataframe\">\n",
              "  <thead>\n",
              "    <tr>\n",
              "      <th></th>\n",
              "      <th>9t_4p</th>\n",
              "    </tr>\n",
              "  </thead>\n",
              "  <tbody>\n",
              "    <tr>\n",
              "      <th>0</th>\n",
              "      <td>0.0</td>\n",
              "    </tr>\n",
              "  </tbody>\n",
              "</table>\n",
              "</div>\n",
              "      <button class=\"colab-df-convert\" onclick=\"convertToInteractive('df-c1b2371e-c37d-40cc-a9bc-16ec5798383f')\"\n",
              "              title=\"Convert this dataframe to an interactive table.\"\n",
              "              style=\"display:none;\">\n",
              "        \n",
              "  <svg xmlns=\"http://www.w3.org/2000/svg\" height=\"24px\"viewBox=\"0 0 24 24\"\n",
              "       width=\"24px\">\n",
              "    <path d=\"M0 0h24v24H0V0z\" fill=\"none\"/>\n",
              "    <path d=\"M18.56 5.44l.94 2.06.94-2.06 2.06-.94-2.06-.94-.94-2.06-.94 2.06-2.06.94zm-11 1L8.5 8.5l.94-2.06 2.06-.94-2.06-.94L8.5 2.5l-.94 2.06-2.06.94zm10 10l.94 2.06.94-2.06 2.06-.94-2.06-.94-.94-2.06-.94 2.06-2.06.94z\"/><path d=\"M17.41 7.96l-1.37-1.37c-.4-.4-.92-.59-1.43-.59-.52 0-1.04.2-1.43.59L10.3 9.45l-7.72 7.72c-.78.78-.78 2.05 0 2.83L4 21.41c.39.39.9.59 1.41.59.51 0 1.02-.2 1.41-.59l7.78-7.78 2.81-2.81c.8-.78.8-2.07 0-2.86zM5.41 20L4 18.59l7.72-7.72 1.47 1.35L5.41 20z\"/>\n",
              "  </svg>\n",
              "      </button>\n",
              "      \n",
              "  <style>\n",
              "    .colab-df-container {\n",
              "      display:flex;\n",
              "      flex-wrap:wrap;\n",
              "      gap: 12px;\n",
              "    }\n",
              "\n",
              "    .colab-df-convert {\n",
              "      background-color: #E8F0FE;\n",
              "      border: none;\n",
              "      border-radius: 50%;\n",
              "      cursor: pointer;\n",
              "      display: none;\n",
              "      fill: #1967D2;\n",
              "      height: 32px;\n",
              "      padding: 0 0 0 0;\n",
              "      width: 32px;\n",
              "    }\n",
              "\n",
              "    .colab-df-convert:hover {\n",
              "      background-color: #E2EBFA;\n",
              "      box-shadow: 0px 1px 2px rgba(60, 64, 67, 0.3), 0px 1px 3px 1px rgba(60, 64, 67, 0.15);\n",
              "      fill: #174EA6;\n",
              "    }\n",
              "\n",
              "    [theme=dark] .colab-df-convert {\n",
              "      background-color: #3B4455;\n",
              "      fill: #D2E3FC;\n",
              "    }\n",
              "\n",
              "    [theme=dark] .colab-df-convert:hover {\n",
              "      background-color: #434B5C;\n",
              "      box-shadow: 0px 1px 3px 1px rgba(0, 0, 0, 0.15);\n",
              "      filter: drop-shadow(0px 1px 2px rgba(0, 0, 0, 0.3));\n",
              "      fill: #FFFFFF;\n",
              "    }\n",
              "  </style>\n",
              "\n",
              "      <script>\n",
              "        const buttonEl =\n",
              "          document.querySelector('#df-c1b2371e-c37d-40cc-a9bc-16ec5798383f button.colab-df-convert');\n",
              "        buttonEl.style.display =\n",
              "          google.colab.kernel.accessAllowed ? 'block' : 'none';\n",
              "\n",
              "        async function convertToInteractive(key) {\n",
              "          const element = document.querySelector('#df-c1b2371e-c37d-40cc-a9bc-16ec5798383f');\n",
              "          const dataTable =\n",
              "            await google.colab.kernel.invokeFunction('convertToInteractive',\n",
              "                                                     [key], {});\n",
              "          if (!dataTable) return;\n",
              "\n",
              "          const docLinkHtml = 'Like what you see? Visit the ' +\n",
              "            '<a target=\"_blank\" href=https://colab.research.google.com/notebooks/data_table.ipynb>data table notebook</a>'\n",
              "            + ' to learn more about interactive tables.';\n",
              "          element.innerHTML = '';\n",
              "          dataTable['output_type'] = 'display_data';\n",
              "          await google.colab.output.renderOutput(dataTable, element);\n",
              "          const docLink = document.createElement('div');\n",
              "          docLink.innerHTML = docLinkHtml;\n",
              "          element.appendChild(docLink);\n",
              "        }\n",
              "      </script>\n",
              "    </div>\n",
              "  </div>\n",
              "  "
            ]
          },
          "metadata": {},
          "execution_count": 69
        }
      ]
    },
    {
      "cell_type": "code",
      "source": [
        "np.average(combined_cms_df[\"9t_4p\"])"
      ],
      "metadata": {
        "colab": {
          "base_uri": "https://localhost:8080/"
        },
        "id": "TY59hUTadVyp",
        "outputId": "f343c11d-ef51-4f8e-f23b-e71c7241334c"
      },
      "execution_count": 70,
      "outputs": [
        {
          "output_type": "execute_result",
          "data": {
            "text/plain": [
              "0.0"
            ]
          },
          "metadata": {},
          "execution_count": 70
        }
      ]
    },
    {
      "cell_type": "code",
      "source": [
        "csv_filename = file_name[:-4] + \".csv\"\n",
        "\n",
        "combined_cms_df.to_csv(csv_filename)\n",
        "\n",
        "\n",
        "from google.colab import files\n",
        "files.download(csv_filename )\n",
        "\n",
        "print(\"Downloading \", csv_filename , \" of shape \", combined_cms_df.shape)"
      ],
      "metadata": {
        "colab": {
          "base_uri": "https://localhost:8080/",
          "height": 35
        },
        "id": "ceUFAr_z9xsk",
        "outputId": "decfedb7-4d88-44c2-a2d8-106ea3a8ea2c"
      },
      "execution_count": 71,
      "outputs": [
        {
          "output_type": "display_data",
          "data": {
            "text/plain": [
              "<IPython.core.display.Javascript object>"
            ],
            "application/javascript": [
              "\n",
              "    async function download(id, filename, size) {\n",
              "      if (!google.colab.kernel.accessAllowed) {\n",
              "        return;\n",
              "      }\n",
              "      const div = document.createElement('div');\n",
              "      const label = document.createElement('label');\n",
              "      label.textContent = `Downloading \"${filename}\": `;\n",
              "      div.appendChild(label);\n",
              "      const progress = document.createElement('progress');\n",
              "      progress.max = size;\n",
              "      div.appendChild(progress);\n",
              "      document.body.appendChild(div);\n",
              "\n",
              "      const buffers = [];\n",
              "      let downloaded = 0;\n",
              "\n",
              "      const channel = await google.colab.kernel.comms.open(id);\n",
              "      // Send a message to notify the kernel that we're ready.\n",
              "      channel.send({})\n",
              "\n",
              "      for await (const message of channel.messages) {\n",
              "        // Send a message to notify the kernel that we're ready.\n",
              "        channel.send({})\n",
              "        if (message.buffers) {\n",
              "          for (const buffer of message.buffers) {\n",
              "            buffers.push(buffer);\n",
              "            downloaded += buffer.byteLength;\n",
              "            progress.value = downloaded;\n",
              "          }\n",
              "        }\n",
              "      }\n",
              "      const blob = new Blob(buffers, {type: 'application/binary'});\n",
              "      const a = document.createElement('a');\n",
              "      a.href = window.URL.createObjectURL(blob);\n",
              "      a.download = filename;\n",
              "      div.appendChild(a);\n",
              "      a.click();\n",
              "      div.remove();\n",
              "    }\n",
              "  "
            ]
          },
          "metadata": {}
        },
        {
          "output_type": "display_data",
          "data": {
            "text/plain": [
              "<IPython.core.display.Javascript object>"
            ],
            "application/javascript": [
              "download(\"download_5c38bf09-6f76-431c-b6f9-6985701765cb\", \"1CM_w[9,4]_PA_1000.0_Shfl_40D__2023_02_27_1408_.csv\", 1046)"
            ]
          },
          "metadata": {}
        },
        {
          "output_type": "stream",
          "name": "stdout",
          "text": [
            "Downloading  1CM_w[9,4]_PA_1000.0_Shfl_40D__2023_02_27_1408_.csv  of shape  (1, 100)\n"
          ]
        }
      ]
    },
    {
      "cell_type": "code",
      "source": [
        "df = pd.DataFrame(sum(var)/len(var), columns=[\"Values\"]) \n",
        "# print(df)\n",
        "\n",
        "df.style.format({\n",
        "  'Values': lambda val: f'{val:,.2f}',\n",
        "})\n",
        "\n",
        "(df.sort_values(by=\"Values\", ascending=False)[0:20])\n",
        "\n",
        "\n",
        "df_sorted = df.sort_values(by=\"Values\", ascending=False)[10:]  #the top 10 are usually diagonal\n",
        "\n",
        "\n",
        "df_sorted.style.format({\n",
        "  'Values': lambda val: f'{val:,.2f}',\n",
        "})\n",
        "\n",
        "import math\n",
        "\n",
        "print(\"On average...\")\n",
        "print(\"Num 1 misclassifications are misclassifying a \", math.floor((df_sorted[\"Values\"].index[0])/10), \" as a \", df_sorted[\"Values\"].index[0]%10, \"  (\", (df_sorted[\"Values\"].values[0]), \" times)\" )\n",
        "print(\"Num 2 misclassifications are misclassifying a \", math.floor((df_sorted[\"Values\"].index[1])/10), \" as a \", df_sorted[\"Values\"].index[1]%10, \"  (\", (df_sorted[\"Values\"].values[1]), \" times)\" )\n",
        "print(\"Num 3 misclassifications are misclassifying a \", math.floor((df_sorted[\"Values\"].index[2])/10), \" as a \", df_sorted[\"Values\"].index[2]%10, \"  (\", (df_sorted[\"Values\"].values[2]), \" times)\" )\n",
        "\n",
        "\n"
      ],
      "metadata": {
        "colab": {
          "base_uri": "https://localhost:8080/"
        },
        "id": "-pGNLuE8gNrB",
        "outputId": "17f91bf8-fa55-4b2d-ff0e-48ccf01201d5"
      },
      "execution_count": 72,
      "outputs": [
        {
          "output_type": "stream",
          "name": "stdout",
          "text": [
            "On average...\n",
            "Num 1 misclassifications are misclassifying a  4  as a  4   ( 405.0  times)\n",
            "Num 2 misclassifications are misclassifying a  5  as a  3   ( 31.0  times)\n",
            "Num 3 misclassifications are misclassifying a  7  as a  9   ( 20.0  times)\n"
          ]
        }
      ]
    },
    {
      "cell_type": "code",
      "source": [
        "df_percents = pd.DataFrame( ((sum(var)*100/len(var)).reshape((10,10))/truth_num_per_category).reshape((100)), columns = [\"Values\"])\n",
        "\n",
        "\n",
        "df_sorted_percents = df_percents.sort_values(by=\"Values\", ascending=False)[10:]  #the top 10 are usually diagonal\n",
        "\n",
        "df_sorted_percents.style.format({\n",
        "  'Values': lambda val: f'{val:,.2f}',\n",
        "})\n",
        "\n",
        "print(\"On average .. \")\n",
        "print(\"Num 1 percent misclassifications\", math.floor((df_sorted_percents[\"Values\"].index[0])/10), \" as \", df_sorted_percents[\"Values\"].index[0]%10, (df_sorted_percents[\"Values\"].values[0]), \" percent\" )\n",
        "print(\"Num 2 percent misclassifications\", math.floor((df_sorted_percents[\"Values\"].index[1])/10), \" as \", df_sorted_percents[\"Values\"].index[1]%10,  (df_sorted_percents[\"Values\"].values[1]), \" percent\" )\n",
        "print(\"Num 3 percent misclassifications\", math.floor((df_sorted_percents[\"Values\"].index[2])/10), \" as \", df_sorted_percents[\"Values\"].index[2]%10, (df_sorted_percents[\"Values\"].values[2]), \" percent\" )\n",
        "\n",
        "\n",
        "\n",
        "\n"
      ],
      "metadata": {
        "colab": {
          "base_uri": "https://localhost:8080/"
        },
        "id": "AKYclir2p8wk",
        "outputId": "1797bef7-cba3-45aa-dcb3-d74b0bc6e002"
      },
      "execution_count": 73,
      "outputs": [
        {
          "output_type": "stream",
          "name": "stdout",
          "text": [
            "On average .. \n",
            "Num 1 percent misclassifications 4  as  4 41.24236252545825  percent\n",
            "Num 2 percent misclassifications 5  as  3 3.0693069306930694  percent\n",
            "Num 3 percent misclassifications 2  as  8 2.0533880903490758  percent\n"
          ]
        }
      ]
    },
    {
      "cell_type": "code",
      "source": [],
      "metadata": {
        "id": "FrT9iz3dp8rZ"
      },
      "execution_count": 73,
      "outputs": []
    },
    {
      "cell_type": "markdown",
      "source": [
        "# Extraneous"
      ],
      "metadata": {
        "id": "GZfPCKu_oqrZ"
      }
    },
    {
      "cell_type": "markdown",
      "source": [
        "To reference later: \n",
        "\n",
        "https://colab.research.google.com/github/tensorflow/docs/blob/master/site/en/tutorials/structured_data/imbalanced_data.ipynb#scrollTo=UJ589fn8ST3x\n",
        "\n",
        "To train a model with class weights:\n",
        "\n",
        "```\n",
        "class_weight = {0: weight_for_0, 1: weight_for_1}\n",
        "\n",
        "weighted_model = make_model()\n",
        "weighted_model.load_weights(initial_weights)\n",
        "\n",
        "weighted_history = weighted_model.fit(\n",
        "    train_features,\n",
        "    train_labels,\n",
        "    batch_size=BATCH_SIZE,\n",
        "    epochs=EPOCHS,\n",
        "    callbacks=[early_stopping],\n",
        "    validation_data=(val_features, val_labels),\n",
        "\n",
        "    # The class weights go here\n",
        "    class_weight=class_weight)\n",
        "```\n",
        "\n"
      ],
      "metadata": {
        "id": "iLEt0OL5ziEq"
      }
    },
    {
      "cell_type": "code",
      "source": [
        "# Extraneous information I am not using at the moment\n",
        "\n",
        "# model.compile(\n",
        "#      optimizer='adam',\n",
        "#      loss=WeightedCategoricalCrossentropy(cost_matrix)\n",
        "#      )\n",
        "\n",
        "## Model Saving\n",
        "\n",
        "# model.save(save_version_dir,save_format='tf')\n",
        "\n",
        "## Model Loading\n",
        "\n",
        "# model = tf.keras.models.load_model(\n",
        "#     save_version_dir,\n",
        "#     compile=True,\n",
        "#     custom_objects={\n",
        "#         'WeightedCategoricalCrossentropy': WeightedCategoricalCrossentropy(cost_matrix)\n",
        "#         }\n",
        "#     )\n",
        " "
      ],
      "metadata": {
        "id": "WRzuOuZeKVpJ"
      },
      "execution_count": 74,
      "outputs": []
    }
  ]
}