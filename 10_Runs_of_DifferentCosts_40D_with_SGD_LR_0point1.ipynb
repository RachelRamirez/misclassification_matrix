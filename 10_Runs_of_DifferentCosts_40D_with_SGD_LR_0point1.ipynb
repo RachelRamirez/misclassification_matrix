{
  "nbformat": 4,
  "nbformat_minor": 0,
  "metadata": {
    "colab": {
      "provenance": [],
      "machine_shape": "hm",
      "include_colab_link": true
    },
    "language_info": {
      "name": "python"
    },
    "kernelspec": {
      "name": "python3",
      "display_name": "Python 3"
    },
    "gpuClass": "standard",
    "accelerator": "GPU"
  },
  "cells": [
    {
      "cell_type": "markdown",
      "metadata": {
        "id": "view-in-github",
        "colab_type": "text"
      },
      "source": [
        "<a href=\"https://colab.research.google.com/github/RachelRamirez/misclassification_matrix/blob/main/10_Runs_of_DifferentCosts_40D_with_SGD_LR_0point1.ipynb\" target=\"_parent\"><img src=\"https://colab.research.google.com/assets/colab-badge.svg\" alt=\"Open In Colab\"/></a>"
      ]
    },
    {
      "cell_type": "code",
      "source": [
        "#@title\n",
        "# How to change the local time in Google Colab\n",
        "!rm /etc/localtime\n",
        "!ln -s /usr/share/zoneinfo/US/Eastern /etc/localtime\n",
        "!date\n",
        "\n",
        "#If this doesn't show the local time correctly, then you need to restart.\n",
        "import time\n",
        "time.localtime(time.time())"
      ],
      "metadata": {
        "colab": {
          "base_uri": "https://localhost:8080/"
        },
        "outputId": "d900ed1a-8780-4c9b-dfed-b130062e09be",
        "id": "bmXq1t0jROYK",
        "cellView": "form"
      },
      "execution_count": 1,
      "outputs": [
        {
          "output_type": "stream",
          "name": "stdout",
          "text": [
            "Tue 02 May 2023 02:00:39 AM EDT\n"
          ]
        },
        {
          "output_type": "execute_result",
          "data": {
            "text/plain": [
              "time.struct_time(tm_year=2023, tm_mon=5, tm_mday=2, tm_hour=6, tm_min=0, tm_sec=39, tm_wday=1, tm_yday=122, tm_isdst=0)"
            ]
          },
          "metadata": {},
          "execution_count": 1
        }
      ]
    },
    {
      "metadata": {
        "id": "0-F4eTC8ROYK"
      },
      "source": [
        "We'll start by writing a `.py` file which we'll import."
      ],
      "cell_type": "markdown"
    },
    {
      "cell_type": "code",
      "source": [
        "#@title\n",
        "# import ImportLibraries_DefineFunctions\n",
        "import requests\n",
        "url = 'https://raw.githubusercontent.com/RachelRamirez/misclassification_matrix/main/ImportLibraries_DefineFunctions.py'\n",
        "r = requests.get(url)\n",
        "\n",
        "\n",
        "# make sure your filename is the same as how you want to import \n",
        "with open('ImportLibraries_DefineFunctions.py', 'w') as f:\n",
        "    f.write(r.text)\n",
        "\n",
        "# now we can import\n"
      ],
      "metadata": {
        "id": "GLOmUMNMS133",
        "cellView": "form"
      },
      "execution_count": 2,
      "outputs": []
    },
    {
      "cell_type": "code",
      "source": [
        "# import ImportLibraries_DefineFunctions   #This didn't work for some reason so I do execfile() instead and that works"
      ],
      "metadata": {
        "id": "cGI2P8LhLB_U"
      },
      "execution_count": 3,
      "outputs": []
    },
    {
      "metadata": {
        "colab": {
          "base_uri": "https://localhost:8080/"
        },
        "outputId": "91641afa-0b76-4833-e8a5-d37a06ec1b0a",
        "id": "G9HBGqzDROYL",
        "cellView": "form"
      },
      "source": [
        "#@title\n",
        "# #@title\n",
        "# # Bring the file into the local Python environment.\n",
        "execfile('ImportLibraries_DefineFunctions.py')\n",
        "\n",
        "# Call the function defined in the file.\n",
        "# f()\n",
        "time.localtime(time.time())"
      ],
      "cell_type": "code",
      "execution_count": 4,
      "outputs": [
        {
          "output_type": "stream",
          "name": "stdout",
          "text": [
            "TF version:  2.12.0\n",
            "Keras version:  2.12.0\n",
            "Finished Loading Libraries\n",
            "Downloading data from https://storage.googleapis.com/tensorflow/tf-keras-datasets/mnist.npz\n",
            "11490434/11490434 [==============================] - 1s 0us/step\n",
            "60000 train samples\n",
            "7500 validation samples\n",
            "2500 test samples\n",
            "Train [0.09871667 0.11236667 0.0993     0.10218333 0.09736667 0.09035\n",
            " 0.09863333 0.10441667 0.09751666 0.09915   ]\n",
            "Train # of 9s 5949.0\n",
            "Train # of 4s 5842.0\n",
            "Val [0.09586667 0.1132     0.10453334 0.10066666 0.09986667 0.09013333\n",
            " 0.09413333 0.1016     0.09746667 0.10253333]\n",
            "Val # of 9s 769.0\n",
            "Val # of 4s 749.0\n",
            "Test [0.1044 0.1144 0.0992 0.102  0.0932 0.0864 0.1008 0.1064 0.0972 0.096 ]\n",
            "Test  # of 9s 240.0\n",
            "Test  # of 4s 233.0\n"
          ]
        },
        {
          "output_type": "execute_result",
          "data": {
            "text/plain": [
              "time.struct_time(tm_year=2023, tm_mon=5, tm_mday=2, tm_hour=2, tm_min=0, tm_sec=51, tm_wday=1, tm_yday=122, tm_isdst=1)"
            ]
          },
          "metadata": {},
          "execution_count": 4
        }
      ]
    },
    {
      "cell_type": "code",
      "source": [
        "#@title\n",
        "# #As of 4/18 I am changing this code to save weights initially after five epochs using lambdavalue=1 initially\n",
        "\n",
        "# rms = RMSprop()  #https://keras.io/api/optimizers/rmsprop/ #default learning_rate=0.001\n",
        "sgd = SGD(learning_rate=0.1)\n",
        "\n",
        "patience = 0\n",
        "\n",
        "\n",
        "# SET THE IITIAL LAMBDA VALUE! \n",
        "cost_matrix = np.ones((10,10))\n",
        "lambda_val = 1\n",
        "\n",
        "Truth=9\n",
        "Predicted=4\n",
        "cost_matrix[Truth, Predicted] = lambda_val\n",
        "\n",
        "\n",
        "# # Define the per-epoch callback.\n",
        "cm_callback = tf.keras.callbacks.LambdaCallback(on_epoch_end=log_confusion_matrix, )\n",
        "# cr_callback = tf.keras.callbacks.LambdaCallback(on_epoch_end=log_classification_report, )\n",
        "# es_callback = tf.keras.callbacks.EarlyStopping(monitor='val_loss', patience=patience, verbose=1, restore_best_weights = True)\n",
        "\n",
        "\n",
        "\n",
        "\n",
        "\n",
        "# ## Examples from TDS\n",
        "# from tensorflow.keras.callbacks import LambdaCallback\n",
        "# epoch_callback = LambdaCallback(\n",
        "#     on_epoch_begin=lambda epoch,logs: print('Starting Epoch {}!'.format(epoch+1))\n",
        "# )\n",
        "# batch_loss_callback = LambdaCallback(\n",
        "#     on_batch_end=lambda batch,logs: print('\\n After batch {}, the loss is {:7.2f}.'.format(batch, logs['loss']))\n",
        "# )\n",
        "# train_finish_callback = LambdaCallback(\n",
        "#     on_train_end=lambda logs: print('Training finished!')\n",
        "# )\n",
        "\n",
        "# # Lambda function using if else & else if\n",
        "# min = lambda a, b, c : f\"{a} is smaller\" if(a < b & b < c) \\\n",
        "#      else f\"{b} is smaller\"  if (b < c) else f\"{c} is smaller\" \n",
        "# print(min(40, 30, 10))\n",
        "\n",
        "epoch_callback = tf.keras.callbacks.LambdaCallback(on_epoch_end = lambda epoch,logs: \n",
        "                                                   print(' Epoch {} modulus 10 is {}!'.format(epoch+1, (epoch+1)%10))  if(epoch+1)%10==0 else print(\"\", end=\" \")  )\n",
        "\n",
        "\n",
        "# cr_callback = tf.keras.callbacks.LambdaCallback(on_epoch_end= lambda epoch, logs:\n",
        "# #                                                log_classification_report(epoch, logs) if(epoch+1)%5==0 else print(\" \") )\n",
        "#                                               #  return_cr if(epoch+1)%5==0 else print(\" \") )\n",
        "\n",
        "\n",
        "f1_callback = tf.keras.callbacks.LambdaCallback(on_epoch_end=log_f1_score)\n",
        "\n",
        "\n",
        "model = create_model()\n",
        "\n",
        "# save the model weights\n",
        "model.save_weights('initial_0epochs.h5')\n",
        "\n",
        "\n",
        "\n",
        "model.compile(loss=WeightedCategoricalCrossentropy(cost_matrix), optimizer=sgd,  metrics='categorical_accuracy',)\n",
        "\n",
        "# model_history = model.fit(X_train, Y_train,  batch_size=batch_size, epochs=10, verbose=2,\n",
        "#         validation_data=(X_val, Y_val), shuffle=True, use_multiprocessing=True, callbacks = [ cm_callback, f1_callback])\n",
        "\n",
        "# model.save_weights('initial_10epochs.h5')\n",
        "\n",
        "# model.save_weights('initial_10epochs.h5')\n",
        "# model.save_weights('baseline_for_100epochs.h5')\n",
        "\n",
        "# save the model weights\n",
        "# model.save_weights('initial_150epochs.h5')\n",
        "\n",
        " \n",
        "# cr = return_cr(model)\n",
        "!date\n"
      ],
      "metadata": {
        "id": "-QcJ3LplOkww",
        "colab": {
          "base_uri": "https://localhost:8080/"
        },
        "outputId": "c3ba2937-7949-4292-9dc8-61cb0c2b9aa2"
      },
      "execution_count": 5,
      "outputs": [
        {
          "output_type": "stream",
          "name": "stdout",
          "text": [
            "Tue 02 May 2023 02:00:52 AM EDT\n"
          ]
        }
      ]
    },
    {
      "cell_type": "code",
      "source": [],
      "metadata": {
        "id": "ImMl-yPWPfT0"
      },
      "execution_count": 5,
      "outputs": []
    },
    {
      "cell_type": "markdown",
      "source": [
        "The code below to generate variations of the model training / validation results after training with a cost matrix 30 times did not produce any variability.   Therefore I want to shuffle the training/validation deck randomly between training sessions to see if that helps introduce some randomness.  "
      ],
      "metadata": {
        "id": "RLYZ6gR4WjKi"
      }
    },
    {
      "cell_type": "markdown",
      "source": [
        "#### The Training Runs - Commented out to ensure not run again when the notebook is saved with output"
      ],
      "metadata": {
        "id": "V_lUeeXP2Q5L"
      }
    },
    {
      "cell_type": "markdown",
      "source": [
        "This takes hours to run for about 40 replications so usually after running, I save the out put to GitHub for easy lookup later"
      ],
      "metadata": {
        "id": "owkJgwju2a52"
      }
    },
    {
      "cell_type": "code",
      "source": [
        "#@title\n",
        "from google.colab import files\n",
        "\n",
        "## -----------------------------------------------------------------------------------------------------\n",
        "## Now we need to load the weights of the model, and continue training with a different cost matrix\n",
        "## ------------------------------------------------------------------------------------------------------\n",
        "# load the model weights\n",
        "# model.load_weights('initial_5epochs.h5') \n",
        "\n",
        "df = pd.DataFrame()\n",
        "cost_matrix = np.ones((10,10))\n",
        "\n",
        "model_history_all = []\n",
        "cm_all            = []\n",
        "\n",
        "cost_list = [10, 100, 1000] # Each one takes about 2 minutes 5*4*2=40 minutes for 5 costs/4 reps -- actually all took 40 reps took almost  1.5 hours\n",
        "reps = 10\n",
        "\n",
        "for k in cost_list:\n",
        "  for i in range(reps):\n",
        "    print(\"starting rep \", i, \" for \", k , \"-cost.\")\n",
        "\n",
        "    cost_matrix[9,4] = k\n",
        "    model = create_model()\n",
        "\n",
        "    model.load_weights('initial_0epochs.h5')\n",
        "\n",
        "    #I may need to re-initiate the optimizer to have a smaller learning rate\n",
        "    model.compile(loss=WeightedCategoricalCrossentropy(cost_matrix), optimizer=sgd,  metrics='categorical_accuracy',)\n",
        "    \n",
        "    nb_epoch = 110\n",
        "    # patience = 20\n",
        "\n",
        "    # es_callback = tf.keras.callbacks.EarlyStopping(monitor='val_loss', patience=patience, verbose=1, restore_best_weights = True)\n",
        "\n",
        "    X_train_shuffled = shuffle(X_train, random_state=42+i)\n",
        "    Y_train_shuffled = shuffle(Y_train, random_state=42+i)\n",
        " \n",
        "\n",
        "    history = model.fit(X_train_shuffled, Y_train_shuffled,          batch_size=batch_size, epochs=nb_epoch, verbose=0,\n",
        "            validation_data=(X_val, Y_val), shuffle=True, use_multiprocessing=True, callbacks = [ cm_callback, f1_callback, epoch_callback])\n",
        "\n",
        "    cm3 = return_cm(model)\n",
        "\n",
        "    del(history.model)\n",
        "    model_history_all.append(history)\n",
        "    cm_all.append(cm3)\n",
        "    ## Now I need to plot all of the \"model_history_all\"\n",
        " \n",
        "  \n",
        "    df = pd.concat([df, pd.DataFrame({\"cost\": k, \"rep\": i,\n",
        "                                      \"model_history\": [history],\n",
        "                                      \"cm\": [cm3]\n",
        "                                      })] , \n",
        "                   ignore_index=True )\n",
        "\n",
        "    import pickle\n",
        "\n",
        "    # save the variable to a pickle file\n",
        "    with open('diffcosts_models_lr0point1.pkl', 'wb') as f:\n",
        "        pickle.dump(model_history_all, f)\n",
        "\n",
        "    files.download('diffcosts_models_lr0point1.pkl')\n",
        "\n",
        "    with open('diffcosts_cms_lr0point1.pkl', 'wb') as f:\n",
        "        pickle.dump(cm_all, f)\n",
        "\n",
        "    files.download('diffcosts_cms_lr0point1.pkl')\n",
        "    !date\n",
        "    df_string = \"df_lr0point1_K\" + str(k) + \"_R\" + str(i) + \".pkl\" \n",
        "\n",
        "    #Trying to Work Smarter and Save as Dataframe with Rep Cost History and CM\n",
        "    with open(df_string, 'wb') as f:\n",
        "        pickle.dump(df, f)\n",
        "\n",
        "    files.download(df_string)\n",
        "\n",
        "\n",
        "\n",
        "\n",
        "  # print(model_history_all) #18 items into _ is taking 1 hours and 3 minutes!  perhaps im not usng the right settings - i have no-accelerator on google colab\n",
        "print(df_string, \" is final dataframe file\")"
      ],
      "metadata": {
        "id": "ZFgEx-T-fg28",
        "outputId": "f7f3629a-3cb6-4df6-f555-f047f911874c",
        "colab": {
          "base_uri": "https://localhost:8080/",
          "height": 1000
        },
        "collapsed": true
      },
      "execution_count": null,
      "outputs": [
        {
          "output_type": "stream",
          "name": "stdout",
          "text": [
            "starting rep  0  for  10 -cost.\n",
            "          Epoch 10 modulus 10 is 0!\n",
            "          Epoch 20 modulus 10 is 0!\n",
            "          Epoch 30 modulus 10 is 0!\n",
            "          Epoch 40 modulus 10 is 0!\n",
            "          Epoch 50 modulus 10 is 0!\n",
            "          Epoch 60 modulus 10 is 0!\n",
            "          Epoch 70 modulus 10 is 0!\n",
            "          Epoch 80 modulus 10 is 0!\n",
            "          Epoch 90 modulus 10 is 0!\n",
            "          Epoch 100 modulus 10 is 0!\n",
            "          Epoch 110 modulus 10 is 0!\n"
          ]
        },
        {
          "output_type": "display_data",
          "data": {
            "text/plain": [
              "<IPython.core.display.Javascript object>"
            ],
            "application/javascript": [
              "\n",
              "    async function download(id, filename, size) {\n",
              "      if (!google.colab.kernel.accessAllowed) {\n",
              "        return;\n",
              "      }\n",
              "      const div = document.createElement('div');\n",
              "      const label = document.createElement('label');\n",
              "      label.textContent = `Downloading \"${filename}\": `;\n",
              "      div.appendChild(label);\n",
              "      const progress = document.createElement('progress');\n",
              "      progress.max = size;\n",
              "      div.appendChild(progress);\n",
              "      document.body.appendChild(div);\n",
              "\n",
              "      const buffers = [];\n",
              "      let downloaded = 0;\n",
              "\n",
              "      const channel = await google.colab.kernel.comms.open(id);\n",
              "      // Send a message to notify the kernel that we're ready.\n",
              "      channel.send({})\n",
              "\n",
              "      for await (const message of channel.messages) {\n",
              "        // Send a message to notify the kernel that we're ready.\n",
              "        channel.send({})\n",
              "        if (message.buffers) {\n",
              "          for (const buffer of message.buffers) {\n",
              "            buffers.push(buffer);\n",
              "            downloaded += buffer.byteLength;\n",
              "            progress.value = downloaded;\n",
              "          }\n",
              "        }\n",
              "      }\n",
              "      const blob = new Blob(buffers, {type: 'application/binary'});\n",
              "      const a = document.createElement('a');\n",
              "      a.href = window.URL.createObjectURL(blob);\n",
              "      a.download = filename;\n",
              "      div.appendChild(a);\n",
              "      a.click();\n",
              "      div.remove();\n",
              "    }\n",
              "  "
            ]
          },
          "metadata": {}
        },
        {
          "output_type": "display_data",
          "data": {
            "text/plain": [
              "<IPython.core.display.Javascript object>"
            ],
            "application/javascript": [
              "download(\"download_2d114f16-dca3-4c07-a779-2c7d46f28512\", \"diffcosts_models_lr0point1.pkl\", 146749)"
            ]
          },
          "metadata": {}
        },
        {
          "output_type": "display_data",
          "data": {
            "text/plain": [
              "<IPython.core.display.Javascript object>"
            ],
            "application/javascript": [
              "\n",
              "    async function download(id, filename, size) {\n",
              "      if (!google.colab.kernel.accessAllowed) {\n",
              "        return;\n",
              "      }\n",
              "      const div = document.createElement('div');\n",
              "      const label = document.createElement('label');\n",
              "      label.textContent = `Downloading \"${filename}\": `;\n",
              "      div.appendChild(label);\n",
              "      const progress = document.createElement('progress');\n",
              "      progress.max = size;\n",
              "      div.appendChild(progress);\n",
              "      document.body.appendChild(div);\n",
              "\n",
              "      const buffers = [];\n",
              "      let downloaded = 0;\n",
              "\n",
              "      const channel = await google.colab.kernel.comms.open(id);\n",
              "      // Send a message to notify the kernel that we're ready.\n",
              "      channel.send({})\n",
              "\n",
              "      for await (const message of channel.messages) {\n",
              "        // Send a message to notify the kernel that we're ready.\n",
              "        channel.send({})\n",
              "        if (message.buffers) {\n",
              "          for (const buffer of message.buffers) {\n",
              "            buffers.push(buffer);\n",
              "            downloaded += buffer.byteLength;\n",
              "            progress.value = downloaded;\n",
              "          }\n",
              "        }\n",
              "      }\n",
              "      const blob = new Blob(buffers, {type: 'application/binary'});\n",
              "      const a = document.createElement('a');\n",
              "      a.href = window.URL.createObjectURL(blob);\n",
              "      a.download = filename;\n",
              "      div.appendChild(a);\n",
              "      a.click();\n",
              "      div.remove();\n",
              "    }\n",
              "  "
            ]
          },
          "metadata": {}
        },
        {
          "output_type": "display_data",
          "data": {
            "text/plain": [
              "<IPython.core.display.Javascript object>"
            ],
            "application/javascript": [
              "download(\"download_359ae931-4536-45fc-8abf-6122042138af\", \"diffcosts_cms_lr0point1.pkl\", 1384)"
            ]
          },
          "metadata": {}
        },
        {
          "output_type": "stream",
          "name": "stdout",
          "text": [
            "Tue 02 May 2023 02:03:42 AM EDT\n"
          ]
        },
        {
          "output_type": "display_data",
          "data": {
            "text/plain": [
              "<IPython.core.display.Javascript object>"
            ],
            "application/javascript": [
              "\n",
              "    async function download(id, filename, size) {\n",
              "      if (!google.colab.kernel.accessAllowed) {\n",
              "        return;\n",
              "      }\n",
              "      const div = document.createElement('div');\n",
              "      const label = document.createElement('label');\n",
              "      label.textContent = `Downloading \"${filename}\": `;\n",
              "      div.appendChild(label);\n",
              "      const progress = document.createElement('progress');\n",
              "      progress.max = size;\n",
              "      div.appendChild(progress);\n",
              "      document.body.appendChild(div);\n",
              "\n",
              "      const buffers = [];\n",
              "      let downloaded = 0;\n",
              "\n",
              "      const channel = await google.colab.kernel.comms.open(id);\n",
              "      // Send a message to notify the kernel that we're ready.\n",
              "      channel.send({})\n",
              "\n",
              "      for await (const message of channel.messages) {\n",
              "        // Send a message to notify the kernel that we're ready.\n",
              "        channel.send({})\n",
              "        if (message.buffers) {\n",
              "          for (const buffer of message.buffers) {\n",
              "            buffers.push(buffer);\n",
              "            downloaded += buffer.byteLength;\n",
              "            progress.value = downloaded;\n",
              "          }\n",
              "        }\n",
              "      }\n",
              "      const blob = new Blob(buffers, {type: 'application/binary'});\n",
              "      const a = document.createElement('a');\n",
              "      a.href = window.URL.createObjectURL(blob);\n",
              "      a.download = filename;\n",
              "      div.appendChild(a);\n",
              "      a.click();\n",
              "      div.remove();\n",
              "    }\n",
              "  "
            ]
          },
          "metadata": {}
        },
        {
          "output_type": "display_data",
          "data": {
            "text/plain": [
              "<IPython.core.display.Javascript object>"
            ],
            "application/javascript": [
              "download(\"download_0aacc188-b661-4357-b9f8-442bdb5cbd02\", \"df_lr0point1_K10_R0.pkl\", 146430)"
            ]
          },
          "metadata": {}
        },
        {
          "output_type": "stream",
          "name": "stdout",
          "text": [
            "starting rep  1  for  10 -cost.\n",
            "          Epoch 10 modulus 10 is 0!\n",
            "          Epoch 20 modulus 10 is 0!\n",
            "          Epoch 30 modulus 10 is 0!\n",
            "          Epoch 40 modulus 10 is 0!\n",
            "          Epoch 50 modulus 10 is 0!\n",
            "          Epoch 60 modulus 10 is 0!\n",
            "          Epoch 70 modulus 10 is 0!\n",
            "          Epoch 80 modulus 10 is 0!\n",
            "          Epoch 90 modulus 10 is 0!\n",
            "          Epoch 100 modulus 10 is 0!\n",
            "          Epoch 110 modulus 10 is 0!\n"
          ]
        },
        {
          "output_type": "display_data",
          "data": {
            "text/plain": [
              "<IPython.core.display.Javascript object>"
            ],
            "application/javascript": [
              "\n",
              "    async function download(id, filename, size) {\n",
              "      if (!google.colab.kernel.accessAllowed) {\n",
              "        return;\n",
              "      }\n",
              "      const div = document.createElement('div');\n",
              "      const label = document.createElement('label');\n",
              "      label.textContent = `Downloading \"${filename}\": `;\n",
              "      div.appendChild(label);\n",
              "      const progress = document.createElement('progress');\n",
              "      progress.max = size;\n",
              "      div.appendChild(progress);\n",
              "      document.body.appendChild(div);\n",
              "\n",
              "      const buffers = [];\n",
              "      let downloaded = 0;\n",
              "\n",
              "      const channel = await google.colab.kernel.comms.open(id);\n",
              "      // Send a message to notify the kernel that we're ready.\n",
              "      channel.send({})\n",
              "\n",
              "      for await (const message of channel.messages) {\n",
              "        // Send a message to notify the kernel that we're ready.\n",
              "        channel.send({})\n",
              "        if (message.buffers) {\n",
              "          for (const buffer of message.buffers) {\n",
              "            buffers.push(buffer);\n",
              "            downloaded += buffer.byteLength;\n",
              "            progress.value = downloaded;\n",
              "          }\n",
              "        }\n",
              "      }\n",
              "      const blob = new Blob(buffers, {type: 'application/binary'});\n",
              "      const a = document.createElement('a');\n",
              "      a.href = window.URL.createObjectURL(blob);\n",
              "      a.download = filename;\n",
              "      div.appendChild(a);\n",
              "      a.click();\n",
              "      div.remove();\n",
              "    }\n",
              "  "
            ]
          },
          "metadata": {}
        },
        {
          "output_type": "display_data",
          "data": {
            "text/plain": [
              "<IPython.core.display.Javascript object>"
            ],
            "application/javascript": [
              "download(\"download_831d17dc-285f-441d-8d0a-ddf47faf2de4\", \"diffcosts_models_lr0point1.pkl\", 293120)"
            ]
          },
          "metadata": {}
        },
        {
          "output_type": "display_data",
          "data": {
            "text/plain": [
              "<IPython.core.display.Javascript object>"
            ],
            "application/javascript": [
              "\n",
              "    async function download(id, filename, size) {\n",
              "      if (!google.colab.kernel.accessAllowed) {\n",
              "        return;\n",
              "      }\n",
              "      const div = document.createElement('div');\n",
              "      const label = document.createElement('label');\n",
              "      label.textContent = `Downloading \"${filename}\": `;\n",
              "      div.appendChild(label);\n",
              "      const progress = document.createElement('progress');\n",
              "      progress.max = size;\n",
              "      div.appendChild(progress);\n",
              "      document.body.appendChild(div);\n",
              "\n",
              "      const buffers = [];\n",
              "      let downloaded = 0;\n",
              "\n",
              "      const channel = await google.colab.kernel.comms.open(id);\n",
              "      // Send a message to notify the kernel that we're ready.\n",
              "      channel.send({})\n",
              "\n",
              "      for await (const message of channel.messages) {\n",
              "        // Send a message to notify the kernel that we're ready.\n",
              "        channel.send({})\n",
              "        if (message.buffers) {\n",
              "          for (const buffer of message.buffers) {\n",
              "            buffers.push(buffer);\n",
              "            downloaded += buffer.byteLength;\n",
              "            progress.value = downloaded;\n",
              "          }\n",
              "        }\n",
              "      }\n",
              "      const blob = new Blob(buffers, {type: 'application/binary'});\n",
              "      const a = document.createElement('a');\n",
              "      a.href = window.URL.createObjectURL(blob);\n",
              "      a.download = filename;\n",
              "      div.appendChild(a);\n",
              "      a.click();\n",
              "      div.remove();\n",
              "    }\n",
              "  "
            ]
          },
          "metadata": {}
        },
        {
          "output_type": "display_data",
          "data": {
            "text/plain": [
              "<IPython.core.display.Javascript object>"
            ],
            "application/javascript": [
              "download(\"download_65c53012-c449-47ec-bf9e-f78f9c76a671\", \"diffcosts_cms_lr0point1.pkl\", 2338)"
            ]
          },
          "metadata": {}
        },
        {
          "output_type": "stream",
          "name": "stdout",
          "text": [
            "Tue 02 May 2023 02:06:29 AM EDT\n"
          ]
        },
        {
          "output_type": "display_data",
          "data": {
            "text/plain": [
              "<IPython.core.display.Javascript object>"
            ],
            "application/javascript": [
              "\n",
              "    async function download(id, filename, size) {\n",
              "      if (!google.colab.kernel.accessAllowed) {\n",
              "        return;\n",
              "      }\n",
              "      const div = document.createElement('div');\n",
              "      const label = document.createElement('label');\n",
              "      label.textContent = `Downloading \"${filename}\": `;\n",
              "      div.appendChild(label);\n",
              "      const progress = document.createElement('progress');\n",
              "      progress.max = size;\n",
              "      div.appendChild(progress);\n",
              "      document.body.appendChild(div);\n",
              "\n",
              "      const buffers = [];\n",
              "      let downloaded = 0;\n",
              "\n",
              "      const channel = await google.colab.kernel.comms.open(id);\n",
              "      // Send a message to notify the kernel that we're ready.\n",
              "      channel.send({})\n",
              "\n",
              "      for await (const message of channel.messages) {\n",
              "        // Send a message to notify the kernel that we're ready.\n",
              "        channel.send({})\n",
              "        if (message.buffers) {\n",
              "          for (const buffer of message.buffers) {\n",
              "            buffers.push(buffer);\n",
              "            downloaded += buffer.byteLength;\n",
              "            progress.value = downloaded;\n",
              "          }\n",
              "        }\n",
              "      }\n",
              "      const blob = new Blob(buffers, {type: 'application/binary'});\n",
              "      const a = document.createElement('a');\n",
              "      a.href = window.URL.createObjectURL(blob);\n",
              "      a.download = filename;\n",
              "      div.appendChild(a);\n",
              "      a.click();\n",
              "      div.remove();\n",
              "    }\n",
              "  "
            ]
          },
          "metadata": {}
        },
        {
          "output_type": "display_data",
          "data": {
            "text/plain": [
              "<IPython.core.display.Javascript object>"
            ],
            "application/javascript": [
              "download(\"download_cbd66a44-8f30-478a-aeb9-655155cdde0a\", \"df_lr0point1_K10_R1.pkl\", 291846)"
            ]
          },
          "metadata": {}
        },
        {
          "output_type": "stream",
          "name": "stdout",
          "text": [
            "starting rep  2  for  10 -cost.\n",
            "          Epoch 10 modulus 10 is 0!\n",
            "          Epoch 20 modulus 10 is 0!\n",
            "          Epoch 30 modulus 10 is 0!\n",
            "          Epoch 40 modulus 10 is 0!\n",
            "          Epoch 50 modulus 10 is 0!\n",
            "          Epoch 60 modulus 10 is 0!\n",
            "          Epoch 70 modulus 10 is 0!\n",
            "          Epoch 80 modulus 10 is 0!\n",
            "          Epoch 90 modulus 10 is 0!\n",
            "          Epoch 100 modulus 10 is 0!\n",
            "          Epoch 110 modulus 10 is 0!\n"
          ]
        },
        {
          "output_type": "display_data",
          "data": {
            "text/plain": [
              "<IPython.core.display.Javascript object>"
            ],
            "application/javascript": [
              "\n",
              "    async function download(id, filename, size) {\n",
              "      if (!google.colab.kernel.accessAllowed) {\n",
              "        return;\n",
              "      }\n",
              "      const div = document.createElement('div');\n",
              "      const label = document.createElement('label');\n",
              "      label.textContent = `Downloading \"${filename}\": `;\n",
              "      div.appendChild(label);\n",
              "      const progress = document.createElement('progress');\n",
              "      progress.max = size;\n",
              "      div.appendChild(progress);\n",
              "      document.body.appendChild(div);\n",
              "\n",
              "      const buffers = [];\n",
              "      let downloaded = 0;\n",
              "\n",
              "      const channel = await google.colab.kernel.comms.open(id);\n",
              "      // Send a message to notify the kernel that we're ready.\n",
              "      channel.send({})\n",
              "\n",
              "      for await (const message of channel.messages) {\n",
              "        // Send a message to notify the kernel that we're ready.\n",
              "        channel.send({})\n",
              "        if (message.buffers) {\n",
              "          for (const buffer of message.buffers) {\n",
              "            buffers.push(buffer);\n",
              "            downloaded += buffer.byteLength;\n",
              "            progress.value = downloaded;\n",
              "          }\n",
              "        }\n",
              "      }\n",
              "      const blob = new Blob(buffers, {type: 'application/binary'});\n",
              "      const a = document.createElement('a');\n",
              "      a.href = window.URL.createObjectURL(blob);\n",
              "      a.download = filename;\n",
              "      div.appendChild(a);\n",
              "      a.click();\n",
              "      div.remove();\n",
              "    }\n",
              "  "
            ]
          },
          "metadata": {}
        },
        {
          "output_type": "display_data",
          "data": {
            "text/plain": [
              "<IPython.core.display.Javascript object>"
            ],
            "application/javascript": [
              "download(\"download_b93edc3e-7c43-4ce7-8cf0-046b46e8ba93\", \"diffcosts_models_lr0point1.pkl\", 439490)"
            ]
          },
          "metadata": {}
        },
        {
          "output_type": "display_data",
          "data": {
            "text/plain": [
              "<IPython.core.display.Javascript object>"
            ],
            "application/javascript": [
              "\n",
              "    async function download(id, filename, size) {\n",
              "      if (!google.colab.kernel.accessAllowed) {\n",
              "        return;\n",
              "      }\n",
              "      const div = document.createElement('div');\n",
              "      const label = document.createElement('label');\n",
              "      label.textContent = `Downloading \"${filename}\": `;\n",
              "      div.appendChild(label);\n",
              "      const progress = document.createElement('progress');\n",
              "      progress.max = size;\n",
              "      div.appendChild(progress);\n",
              "      document.body.appendChild(div);\n",
              "\n",
              "      const buffers = [];\n",
              "      let downloaded = 0;\n",
              "\n",
              "      const channel = await google.colab.kernel.comms.open(id);\n",
              "      // Send a message to notify the kernel that we're ready.\n",
              "      channel.send({})\n",
              "\n",
              "      for await (const message of channel.messages) {\n",
              "        // Send a message to notify the kernel that we're ready.\n",
              "        channel.send({})\n",
              "        if (message.buffers) {\n",
              "          for (const buffer of message.buffers) {\n",
              "            buffers.push(buffer);\n",
              "            downloaded += buffer.byteLength;\n",
              "            progress.value = downloaded;\n",
              "          }\n",
              "        }\n",
              "      }\n",
              "      const blob = new Blob(buffers, {type: 'application/binary'});\n",
              "      const a = document.createElement('a');\n",
              "      a.href = window.URL.createObjectURL(blob);\n",
              "      a.download = filename;\n",
              "      div.appendChild(a);\n",
              "      a.click();\n",
              "      div.remove();\n",
              "    }\n",
              "  "
            ]
          },
          "metadata": {}
        },
        {
          "output_type": "display_data",
          "data": {
            "text/plain": [
              "<IPython.core.display.Javascript object>"
            ],
            "application/javascript": [
              "download(\"download_7c10718a-9f57-452d-996c-e656c0cfef46\", \"diffcosts_cms_lr0point1.pkl\", 3291)"
            ]
          },
          "metadata": {}
        },
        {
          "output_type": "stream",
          "name": "stdout",
          "text": [
            "Tue 02 May 2023 02:09:16 AM EDT\n"
          ]
        },
        {
          "output_type": "display_data",
          "data": {
            "text/plain": [
              "<IPython.core.display.Javascript object>"
            ],
            "application/javascript": [
              "\n",
              "    async function download(id, filename, size) {\n",
              "      if (!google.colab.kernel.accessAllowed) {\n",
              "        return;\n",
              "      }\n",
              "      const div = document.createElement('div');\n",
              "      const label = document.createElement('label');\n",
              "      label.textContent = `Downloading \"${filename}\": `;\n",
              "      div.appendChild(label);\n",
              "      const progress = document.createElement('progress');\n",
              "      progress.max = size;\n",
              "      div.appendChild(progress);\n",
              "      document.body.appendChild(div);\n",
              "\n",
              "      const buffers = [];\n",
              "      let downloaded = 0;\n",
              "\n",
              "      const channel = await google.colab.kernel.comms.open(id);\n",
              "      // Send a message to notify the kernel that we're ready.\n",
              "      channel.send({})\n",
              "\n",
              "      for await (const message of channel.messages) {\n",
              "        // Send a message to notify the kernel that we're ready.\n",
              "        channel.send({})\n",
              "        if (message.buffers) {\n",
              "          for (const buffer of message.buffers) {\n",
              "            buffers.push(buffer);\n",
              "            downloaded += buffer.byteLength;\n",
              "            progress.value = downloaded;\n",
              "          }\n",
              "        }\n",
              "      }\n",
              "      const blob = new Blob(buffers, {type: 'application/binary'});\n",
              "      const a = document.createElement('a');\n",
              "      a.href = window.URL.createObjectURL(blob);\n",
              "      a.download = filename;\n",
              "      div.appendChild(a);\n",
              "      a.click();\n",
              "      div.remove();\n",
              "    }\n",
              "  "
            ]
          },
          "metadata": {}
        },
        {
          "output_type": "display_data",
          "data": {
            "text/plain": [
              "<IPython.core.display.Javascript object>"
            ],
            "application/javascript": [
              "download(\"download_050cf285-c6ad-4559-8142-04dff240573c\", \"df_lr0point1_K10_R2.pkl\", 437262)"
            ]
          },
          "metadata": {}
        },
        {
          "output_type": "stream",
          "name": "stdout",
          "text": [
            "starting rep  3  for  10 -cost.\n",
            "          Epoch 10 modulus 10 is 0!\n",
            "          Epoch 20 modulus 10 is 0!\n",
            "          Epoch 30 modulus 10 is 0!\n",
            "          Epoch 40 modulus 10 is 0!\n",
            "          Epoch 50 modulus 10 is 0!\n",
            "          Epoch 60 modulus 10 is 0!\n",
            "          Epoch 70 modulus 10 is 0!\n",
            "          Epoch 80 modulus 10 is 0!\n",
            "          Epoch 90 modulus 10 is 0!\n",
            "          Epoch 100 modulus 10 is 0!\n",
            "          Epoch 110 modulus 10 is 0!\n"
          ]
        },
        {
          "output_type": "display_data",
          "data": {
            "text/plain": [
              "<IPython.core.display.Javascript object>"
            ],
            "application/javascript": [
              "\n",
              "    async function download(id, filename, size) {\n",
              "      if (!google.colab.kernel.accessAllowed) {\n",
              "        return;\n",
              "      }\n",
              "      const div = document.createElement('div');\n",
              "      const label = document.createElement('label');\n",
              "      label.textContent = `Downloading \"${filename}\": `;\n",
              "      div.appendChild(label);\n",
              "      const progress = document.createElement('progress');\n",
              "      progress.max = size;\n",
              "      div.appendChild(progress);\n",
              "      document.body.appendChild(div);\n",
              "\n",
              "      const buffers = [];\n",
              "      let downloaded = 0;\n",
              "\n",
              "      const channel = await google.colab.kernel.comms.open(id);\n",
              "      // Send a message to notify the kernel that we're ready.\n",
              "      channel.send({})\n",
              "\n",
              "      for await (const message of channel.messages) {\n",
              "        // Send a message to notify the kernel that we're ready.\n",
              "        channel.send({})\n",
              "        if (message.buffers) {\n",
              "          for (const buffer of message.buffers) {\n",
              "            buffers.push(buffer);\n",
              "            downloaded += buffer.byteLength;\n",
              "            progress.value = downloaded;\n",
              "          }\n",
              "        }\n",
              "      }\n",
              "      const blob = new Blob(buffers, {type: 'application/binary'});\n",
              "      const a = document.createElement('a');\n",
              "      a.href = window.URL.createObjectURL(blob);\n",
              "      a.download = filename;\n",
              "      div.appendChild(a);\n",
              "      a.click();\n",
              "      div.remove();\n",
              "    }\n",
              "  "
            ]
          },
          "metadata": {}
        },
        {
          "output_type": "display_data",
          "data": {
            "text/plain": [
              "<IPython.core.display.Javascript object>"
            ],
            "application/javascript": [
              "download(\"download_7d2c56e8-7fcc-483d-8800-a359b52a6154\", \"diffcosts_models_lr0point1.pkl\", 585860)"
            ]
          },
          "metadata": {}
        },
        {
          "output_type": "display_data",
          "data": {
            "text/plain": [
              "<IPython.core.display.Javascript object>"
            ],
            "application/javascript": [
              "\n",
              "    async function download(id, filename, size) {\n",
              "      if (!google.colab.kernel.accessAllowed) {\n",
              "        return;\n",
              "      }\n",
              "      const div = document.createElement('div');\n",
              "      const label = document.createElement('label');\n",
              "      label.textContent = `Downloading \"${filename}\": `;\n",
              "      div.appendChild(label);\n",
              "      const progress = document.createElement('progress');\n",
              "      progress.max = size;\n",
              "      div.appendChild(progress);\n",
              "      document.body.appendChild(div);\n",
              "\n",
              "      const buffers = [];\n",
              "      let downloaded = 0;\n",
              "\n",
              "      const channel = await google.colab.kernel.comms.open(id);\n",
              "      // Send a message to notify the kernel that we're ready.\n",
              "      channel.send({})\n",
              "\n",
              "      for await (const message of channel.messages) {\n",
              "        // Send a message to notify the kernel that we're ready.\n",
              "        channel.send({})\n",
              "        if (message.buffers) {\n",
              "          for (const buffer of message.buffers) {\n",
              "            buffers.push(buffer);\n",
              "            downloaded += buffer.byteLength;\n",
              "            progress.value = downloaded;\n",
              "          }\n",
              "        }\n",
              "      }\n",
              "      const blob = new Blob(buffers, {type: 'application/binary'});\n",
              "      const a = document.createElement('a');\n",
              "      a.href = window.URL.createObjectURL(blob);\n",
              "      a.download = filename;\n",
              "      div.appendChild(a);\n",
              "      a.click();\n",
              "      div.remove();\n",
              "    }\n",
              "  "
            ]
          },
          "metadata": {}
        },
        {
          "output_type": "display_data",
          "data": {
            "text/plain": [
              "<IPython.core.display.Javascript object>"
            ],
            "application/javascript": [
              "download(\"download_4676cb43-6d16-418c-9bc3-b10ef6130039\", \"diffcosts_cms_lr0point1.pkl\", 4244)"
            ]
          },
          "metadata": {}
        },
        {
          "output_type": "stream",
          "name": "stdout",
          "text": [
            "Tue 02 May 2023 02:12:01 AM EDT\n"
          ]
        },
        {
          "output_type": "display_data",
          "data": {
            "text/plain": [
              "<IPython.core.display.Javascript object>"
            ],
            "application/javascript": [
              "\n",
              "    async function download(id, filename, size) {\n",
              "      if (!google.colab.kernel.accessAllowed) {\n",
              "        return;\n",
              "      }\n",
              "      const div = document.createElement('div');\n",
              "      const label = document.createElement('label');\n",
              "      label.textContent = `Downloading \"${filename}\": `;\n",
              "      div.appendChild(label);\n",
              "      const progress = document.createElement('progress');\n",
              "      progress.max = size;\n",
              "      div.appendChild(progress);\n",
              "      document.body.appendChild(div);\n",
              "\n",
              "      const buffers = [];\n",
              "      let downloaded = 0;\n",
              "\n",
              "      const channel = await google.colab.kernel.comms.open(id);\n",
              "      // Send a message to notify the kernel that we're ready.\n",
              "      channel.send({})\n",
              "\n",
              "      for await (const message of channel.messages) {\n",
              "        // Send a message to notify the kernel that we're ready.\n",
              "        channel.send({})\n",
              "        if (message.buffers) {\n",
              "          for (const buffer of message.buffers) {\n",
              "            buffers.push(buffer);\n",
              "            downloaded += buffer.byteLength;\n",
              "            progress.value = downloaded;\n",
              "          }\n",
              "        }\n",
              "      }\n",
              "      const blob = new Blob(buffers, {type: 'application/binary'});\n",
              "      const a = document.createElement('a');\n",
              "      a.href = window.URL.createObjectURL(blob);\n",
              "      a.download = filename;\n",
              "      div.appendChild(a);\n",
              "      a.click();\n",
              "      div.remove();\n",
              "    }\n",
              "  "
            ]
          },
          "metadata": {}
        },
        {
          "output_type": "display_data",
          "data": {
            "text/plain": [
              "<IPython.core.display.Javascript object>"
            ],
            "application/javascript": [
              "download(\"download_2db8e6f3-ab0e-4eb5-afe3-3c6db977787b\", \"df_lr0point1_K10_R3.pkl\", 582678)"
            ]
          },
          "metadata": {}
        },
        {
          "output_type": "stream",
          "name": "stdout",
          "text": [
            "starting rep  4  for  10 -cost.\n",
            "          Epoch 10 modulus 10 is 0!\n",
            "          Epoch 20 modulus 10 is 0!\n",
            "          Epoch 30 modulus 10 is 0!\n",
            "          Epoch 40 modulus 10 is 0!\n",
            "          Epoch 50 modulus 10 is 0!\n",
            "          Epoch 60 modulus 10 is 0!\n",
            "          Epoch 70 modulus 10 is 0!\n",
            "      "
          ]
        }
      ]
    },
    {
      "cell_type": "code",
      "source": [
        "    # # save the variable to a pickle file\n",
        "    # with open('baseline_models_lr0point1.pkl', 'wb') as f:\n",
        "    #     pickle.dump(model_history_all, f)\n",
        "\n",
        "    # files.download('baseline_models_lr0point1.pkl')\n",
        "\n",
        "    # with open('baseline_cms_lr0point1.pkl', 'wb') as f:\n",
        "    #     pickle.dump(cm_all, f)\n",
        "\n",
        "    # files.download('baseline_cms_lr0point1.pkl')"
      ],
      "metadata": {
        "id": "APH12P-AQ5bP"
      },
      "execution_count": null,
      "outputs": []
    },
    {
      "cell_type": "markdown",
      "source": [
        "#### Download the multiple runs and reps of Model History from training with different lambda values\n",
        "\n",
        "\n",
        "Also commented out because once everything is ran and saved, I don't want to accidentally save additional files"
      ],
      "metadata": {
        "id": "7z0g0vdr2w05"
      }
    },
    {
      "cell_type": "markdown",
      "source": [
        "#### Load Model History Variables from Pickle Files - must have weighted-categorical-accuracy defined"
      ],
      "metadata": {
        "id": "WPmV3ALQcsjS"
      }
    },
    {
      "cell_type": "code",
      "source": [
        "#Upload and save the history to variable \n",
        "import pickle\n",
        "\n",
        "# # #load the pickle file\n",
        "# with open('baseline_models_lr0point1.pkl', 'rb') as handle:\n",
        "#     model_history_all = pickle.load(handle)\n",
        "\n",
        "# # import keras\n",
        "# # keras.models.load_model('initial_10_secondphase_lambda_history.pkl')\n",
        "# #use the loaded variable\n",
        "# print(model_history_all)\n",
        "\n",
        "# # #load the pickle file\n",
        "# with open('baseline_cms_lr0point1.pkl', 'rb') as handle:\n",
        "#     cm_all = pickle.load(handle)\n",
        "\n",
        "# # use the loaded variable\n",
        "# print(cm_all)\n",
        "\n",
        "df_string\n",
        "\n",
        "# #load the pickle file\n",
        "with open(df_string, 'rb') as handle:\n",
        "    df = pickle.load(handle)\n",
        "\n",
        "# use the loaded variable\n",
        "print(df)\n",
        " "
      ],
      "metadata": {
        "id": "dXFoZGvVZ1oE"
      },
      "execution_count": null,
      "outputs": []
    },
    {
      "cell_type": "code",
      "source": [
        "# #I want to break out the model_history and cm_history into a dataframe to be referenced by Cost and Rep\n",
        "# import pandas as pd\n",
        "# df = pd.DataFrame()\n",
        "# count=1\n",
        "\n",
        "\n",
        "# #It'd be better if i could refer to the \"cost\"/lambda2 as a variable in the model_history, \n",
        "# # but i recreated it here\n",
        "# # \n",
        "# # cost_list = [10, 100, 1000, 1] # Each one takes about 2 minutes 5*4*2=40 minutes for 5 costs/4 reps -- actually all took 40 reps took almost  1.5 hours\n",
        "\n",
        "# cost_list = [ 1]\n",
        "\n",
        "# for k in cost_list:\n",
        "\n",
        "  \n",
        "# #It'd be better if i could refer to the reps a variable in the model_history, \n",
        "# # but i recreated it here as the range(10) that was originally used\n",
        "\n",
        "#   for i in range(30):\n",
        "#     # print(\"k: \", k, \"i: \", i)\n",
        "#     df = pd.concat([df, pd.DataFrame({\"cost\": [k], \"rep\": [i],\n",
        "#                                       \"model_history\": [model_history_all[count-1]],\n",
        "#                                       # \"cm\": [cm_all[count-1]]\n",
        "#                                       })] , \n",
        "#                    ignore_index=True )\n",
        "#     count+=1    \n",
        "\n",
        "\n",
        "# I create a dataframe with CSV but  don't save/download it \n",
        "df.to_csv('dataframe.csv',index=False)\n",
        "\n"
      ],
      "metadata": {
        "id": "JgxsbrcEPiEa"
      },
      "execution_count": null,
      "outputs": []
    },
    {
      "cell_type": "code",
      "source": [
        "import matplotlib.pyplot as plt\n",
        "import numpy as np\n",
        "import seaborn as sns\n",
        "\n",
        "import time\n",
        "nb_epoch = 110\n",
        "patience = 0\n",
        "df.groupby(\"cost\")\n",
        "\n",
        "for x, group in df.groupby(\"cost\"):\n",
        "  # fig = plt.figure(figsize=(20, 10)) \n",
        "  # fig, ax = plt.subplots(1,2)\n",
        "  print(\"Group of Lambda-Value:\",   x)\n",
        "\n",
        "  # group\n",
        "  for item in group.model_history:\n",
        "    plot_model_history_all(item)    \n",
        "  plt.show()\n",
        "  "
      ],
      "metadata": {
        "id": "S8nf629kPiEb"
      },
      "execution_count": null,
      "outputs": []
    },
    {
      "cell_type": "code",
      "source": [
        "df[\"model_history\"][0].history.keys()\n"
      ],
      "metadata": {
        "id": "ocYFlDuP9qbL"
      },
      "execution_count": null,
      "outputs": []
    },
    {
      "cell_type": "markdown",
      "source": [
        "The plots  look very similar.  The loss values, even with shuffling, are nearly identical at least within 0.01 for the first three epochs of runs 1 and 2 (haven't checked all, but the plot makes it look like the runs are nearly identical)"
      ],
      "metadata": {
        "id": "cnKubJqKCXOW"
      }
    },
    {
      "cell_type": "code",
      "source": [
        "df[\"model_history\"][2].history[\"val_loss\"][0] - df[\"model_history\"][1].history[\"val_loss\"][0]\n",
        "df[\"model_history\"][2].history[\"val_loss\"][1] - df[\"model_history\"][1].history[\"val_loss\"][1]\n",
        "df[\"model_history\"][2].history[\"val_loss\"][2] - df[\"model_history\"][1].history[\"val_loss\"][2]"
      ],
      "metadata": {
        "id": "xRS1JJpl_yOq"
      },
      "execution_count": null,
      "outputs": []
    },
    {
      "cell_type": "code",
      "source": [
        "import matplotlib.pyplot as plt\n",
        "import seaborn as sns\n"
      ],
      "metadata": {
        "id": "5orz3_QVDJws"
      },
      "execution_count": null,
      "outputs": []
    },
    {
      "cell_type": "markdown",
      "source": [
        "What is the highest misclassification?\n",
        "\n"
      ],
      "metadata": {
        "id": "HFEuhKt4DST1"
      }
    },
    {
      "cell_type": "code",
      "source": [
        "for i in range(len(df[\"model_history\"])):\n",
        "  print(i)\n",
        "  cm = df[\"model_history\"][i].history[\"cm_per_epoch\"][-1].reshape((10,10))\n",
        "  # cm = cm.reshape((10,10))\n",
        "  \n",
        "\n",
        "  # Create figure and axes\n",
        "  fig, ax = plt.subplots(figsize=(7, 7))\n",
        "\n",
        "\n",
        "  cm3_wodiag = pd.DataFrame(cm*(np.ones((10,10)) - np.eye(10)))\n",
        "  plt.xlabel('Predicted Class')\n",
        "  plt.ylabel('True Class')\n",
        "  plt.title('# of misclassifications of 9 as 4 is '+str(cm[9][4]) + ' reverse misclass is ' + str(cm[4][9])  ) \n",
        "  sns.heatmap(cm3_wodiag, annot=True, annot_kws={\"size\": 7},  fmt='g', cmap=sns.cm.rocket_r, cbar=False) # font size\n",
        "  plt.show()\n",
        "\n",
        "\n",
        "\n",
        "\n",
        "  \n",
        "  "
      ],
      "metadata": {
        "id": "KnjvWQjxDYAC"
      },
      "execution_count": null,
      "outputs": []
    },
    {
      "cell_type": "markdown",
      "source": [
        "Average Misclassification Confusion Plot"
      ],
      "metadata": {
        "id": "fmbcFQcfhdyz"
      }
    },
    {
      "cell_type": "code",
      "source": [
        "# cm_sum = 0\n",
        "\n",
        "# for i in range(len(df[\"model_history\"])):\n",
        "#   # print(i)\n",
        "#   cm_sum += df[\"model_history\"][i].history[\"cm_per_epoch\"][-1].reshape((10,10))\n",
        "#   # print(cm_sum)\n",
        "\n",
        "# cm_average = cm_sum/(len(df[\"model_history\"]))\n",
        "# # print(cm_average)\n",
        "\n",
        "# # Create figure and axes\n",
        "# fig, ax = plt.subplots(figsize=(7, 7))\n",
        "\n",
        "\n",
        "# cm3_wodiag = pd.DataFrame(cm_average*(np.ones((10,10)) - np.eye(10)))\n",
        "# plt.xlabel('Predicted Class')\n",
        "# plt.ylabel('True Class')\n",
        "# plt.title('# of Average misclassifications of 9 as 4 is '+str(cm3_wodiag[4][9]) + ' reverse misclass is ' + str(cm3_wodiag[9][4])  ) \n",
        "# sns.heatmap(cm3_wodiag, annot=True, annot_kws={\"size\": 7},  fmt='.1f', cmap=sns.cm.rocket_r, cbar=False) # font size\n",
        "# plt.show()\n",
        "\n",
        "\n",
        "# plt.xlabel('Predicted Class')\n",
        "# plt.ylabel('True Class')\n",
        "# plt.title('# of Average misclassifications of 9 as 4 is '+str(cm_average[9][4]) + ' reverse misclass is ' + str(cm_average[4][9]) ) \n",
        "# sns.heatmap(cm_average, annot=True, annot_kws={\"size\": 7},  fmt='.1f', cmap=sns.cm.rocket_r, cbar=False) # font size\n",
        "# plt.show()\n",
        "\n",
        "\n",
        "# #The notation for digging into a dataframe versus a numpy array is reversed / its horribly confusing/ but it is  listed above correctly\n",
        "\n",
        "\n"
      ],
      "metadata": {
        "id": "fX4B3dPAhdhn"
      },
      "execution_count": null,
      "outputs": []
    },
    {
      "cell_type": "code",
      "source": [
        "for i in range(len(df[\"model_history\"])):\n",
        "  plot_model_history(df[\"model_history\"][i], 110, df[\"model_history\"][i].history[\"cm_per_epoch\"][-1].reshape((10,10)))\n",
        "\n",
        "  plt.gcf().set_size_inches(10, 5)  # this works \n",
        "  # plt.gcf().suptitle(f\"Lambda Value {lambda_val} for {nb_epoch} Epochs and Patience {patience} \" )\n",
        "\n",
        "  \n",
        "\n",
        "\n",
        "\n"
      ],
      "metadata": {
        "id": "xkH6R_LyMOWN"
      },
      "execution_count": null,
      "outputs": []
    },
    {
      "cell_type": "code",
      "source": [
        "df[\"model_history\"][0].history[\"cm_per_epoch\"][-1].reshape((10,10))\n",
        "\n",
        "# \n",
        "#The 30th rep has 10 misclassified 9s as 4s \n",
        "# df[\"model_history\"][29].history[\"cm_per_epoch\"][-1].reshape((10,10))[9][4]\n"
      ],
      "metadata": {
        "id": "PPlXeHqyVvNT"
      },
      "execution_count": null,
      "outputs": []
    },
    {
      "cell_type": "markdown",
      "source": [
        "Statistics"
      ],
      "metadata": {
        "id": "75g_dXG5go_c"
      }
    },
    {
      "cell_type": "code",
      "source": [
        "# Needs to be re-done for multiple costs!\n",
        "\n",
        "for x, group in df.groupby(\"cost\"):\n",
        "  \n",
        "  print(\" -------------- \")\n",
        "\n",
        "  print(\"Group of Lambda-Value:\",   x)\n",
        "\n",
        "  print(\"The minimum Validation Loss occurred at the following epochs for the reps\")\n",
        "\n",
        "\n",
        "  for index in group.index:  \n",
        "    print(\"index\", index)\n",
        "    sum_9T_4P = 0\n",
        "    sum_4T_9P = 0\n",
        "    for rep in range(1,len(group)+1):\n",
        "      print(\" -------------- \")\n",
        "\n",
        "      # for epoch in range(len(group[\"model_history\"][index].history[\"val_loss\"])):\n",
        "      #   print(\"Epoch:\", epoch)\n",
        "      # print(\"The minimum Validation Loss occurred at the following epochs for the reps\")\n",
        "\n",
        "      # for epoch_num in range(len(group[\"model_history\"][index].history[\"val_loss\"])):  #This tells you how many epochs there are\n",
        "      print(\"Cost: \", k,  \"Rep:\", rep,  end=\"\\t\")\n",
        "      print(\"Epoch: \", np.argmin(group[\"model_history\"][index].history[\"val_loss\"]), end=\"\\t\")\n",
        "      print(\"CM_9T_4P at that epoch: \",  group[\"model_history\"][index].history[\"cm_per_epoch\"][np.argmin(group[\"model_history\"][index].history[\"val_loss\"])].reshape((10,10))[9][4]     , end=\"\\t\")\n",
        "      print(\"CM_4T_9P at that epoch: \",  group[\"model_history\"][index].history[\"cm_per_epoch\"][np.argmin(group[\"model_history\"][index].history[\"val_loss\"])].reshape((10,10))[4][9]     )\n",
        "\n",
        "\n",
        "\n",
        "      sum_9T_4P += group[\"model_history\"][index].history[\"cm_per_epoch\"][np.argmin(group[\"model_history\"][index].history[\"val_loss\"])].reshape((10,10))[9][4]  \n",
        "      sum_4T_9P += group[\"model_history\"][index].history[\"cm_per_epoch\"][np.argmin(group[\"model_history\"][index].history[\"val_loss\"])].reshape((10,10))[4][9]  \n",
        "\n",
        "\n",
        "    print(\"The average misclassifications of 9 as 4 if Early Stopping Took place: \", sum_9T_4P/len(group[\"model_history\"]),   \"\\t \", ((sum_9T_4P/len(group[\"model_history\"]))/np.sum(cm_all, axis=2)[0][9])*100 , \"percent\"   )\n",
        "    print(\"The average reverse misclassifications of 4 as 9 if Early Stopping Took place: \", sum_4T_9P/len(group[\"model_history\"]),   \"\\t \", ((sum_4T_9P/len(group[\"model_history\"]))/np.sum(cm_all, axis=2)[0][4])*100 , \"percent\"   )\n",
        "\n",
        "\n",
        "      # sum_94 = 0\n",
        "      # sum_49 = 0\n",
        "\n",
        "      # # for epoch_num in range(len(group[\"model_history\"][rep].history[\"val_loss\"])):  #This tells you how many epochs there are\n",
        "      # #     # print(cm_all[j][9][4])\n",
        "      # sum_49 += group[\"model_history\"][epoch].history[\"cm_per_epoch\"][-1].reshape((10,10))[4][9]\n",
        "      # sum_94 += group[\"model_history\"][rep].history[\"cm_per_epoch\"][-1].reshape((10,10))[9][4]\n",
        "\n",
        "      #     # print(sum_cm)\n",
        "\n",
        "    print(\" -------------- \")\n",
        "      # print(\"The average misclassifications if taken out to the last training epoch: \", sum_94/len(cm_all), \"\\t \", (sum_94/np.sum(cm_all, axis=2)[0][9])*100 , \"percent\"   )\n",
        "      # print(\"The average reverse misclassifications if taken out to the last training epoch: \", sum_49/len(cm_all), \"\\t \", (sum_49/len(cm_all)/np.sum(cm_all, axis=2)[0][4])*100 , \"percent\"   )\n",
        "\n",
        "      # # Val # of 9s 769.0\n",
        "      # #Get the original total number of 9s in the Val Set\n",
        "      # np.sum(cm_all, axis=2)[0][9]\n",
        "\n",
        "      # # Val # of 4s 749.0\n",
        "      # np.sum(cm_all, axis=2)[0][4]\n"
      ],
      "metadata": {
        "id": "MUOJz-RNWB3P"
      },
      "execution_count": null,
      "outputs": []
    },
    {
      "cell_type": "markdown",
      "source": [
        "Taking the Average Confusion Matrix using the last confusion matrix per epoch, (per cost), divided by reps"
      ],
      "metadata": {
        "id": "YWFb0D2a-2Dw"
      }
    },
    {
      "cell_type": "code",
      "source": [
        "for k, group in df.groupby(\"cost\"):  \n",
        "  print(\" -------------- \")\n",
        "  print(\"Group of Lambda-Value:\",   k)\n",
        "\n",
        "  # print(group.index)\n",
        "  # print(group) \n",
        "  \n",
        "  total_cm_per_rep = np.zeros((10,10))\n",
        "  for index in group.index:\n",
        "    print(\"Index:\",   index) \n",
        "\n",
        "\n",
        "    # for epoch in range(len(group[\"model_history\"][index].history[\"val_loss\"])):\n",
        "    #   # print(\"index: \", index, \"cost: \", k, \"rep: \", rep)\n",
        "    total_cm_per_rep += (group[\"model_history\"][index].history[\"cm_per_epoch\"][-1].reshape((10,10)))\n",
        "    # print(total_cm_per_rep)\n",
        "  print(pd.DataFrame(total_cm_per_rep/len(group.index)))"
      ],
      "metadata": {
        "id": "eynAYI4I0sMK"
      },
      "execution_count": null,
      "outputs": []
    },
    {
      "cell_type": "code",
      "source": [
        "\n",
        "for k, group in df.groupby(\"cost\"):\n",
        "  \n",
        "  print(\" -------------- \")\n",
        "\n",
        "  print(\"Group of Lambda-Value:\",   k)\n",
        "\n",
        "  # print(group.index)\n",
        "  # print(group)\n",
        "  for index in group.index:\n",
        "    print(index)\n",
        "    for rep in range(1,len(group)+1):\n",
        "      print(\"Rep: \", rep)\n",
        "       \n",
        "\n",
        "\n",
        "      for epoch in range(len(group[\"model_history\"][index].history[\"cm_per_epoch\"])):\n",
        "        # print(\"index: \", index, \"cost: \", k, \"rep: \", rep, \"epochs: \", epoch) #\"last cm:\", group[\"model_history\"][index].history[\"cm_per_epoch\"][rep].reshape((10,10)))\n",
        "        print(\"epoch: \", epoch)\n",
        "\n",
        "\n"
      ],
      "metadata": {
        "id": "UxyaZCMSqDvE"
      },
      "execution_count": null,
      "outputs": []
    }
  ]
}