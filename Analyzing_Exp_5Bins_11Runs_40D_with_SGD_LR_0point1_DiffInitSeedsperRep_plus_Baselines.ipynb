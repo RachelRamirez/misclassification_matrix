{
  "nbformat": 4,
  "nbformat_minor": 0,
  "metadata": {
    "colab": {
      "provenance": [],
      "machine_shape": "hm",
      "history_visible": true,
      "gpuType": "T4",
      "include_colab_link": true
    },
    "language_info": {
      "name": "python"
    },
    "kernelspec": {
      "name": "python3",
      "display_name": "Python 3"
    },
    "gpuClass": "standard",
    "accelerator": "GPU"
  },
  "cells": [
    {
      "cell_type": "markdown",
      "metadata": {
        "id": "view-in-github",
        "colab_type": "text"
      },
      "source": [
        "<a href=\"https://colab.research.google.com/github/RachelRamirez/misclassification_matrix/blob/main/Analyzing_Exp_5Bins_11Runs_40D_with_SGD_LR_0point1_DiffInitSeedsperRep_plus_Baselines.ipynb\" target=\"_parent\"><img src=\"https://colab.research.google.com/assets/colab-badge.svg\" alt=\"Open In Colab\"/></a>"
      ]
    },
    {
      "cell_type": "markdown",
      "source": [],
      "metadata": {
        "id": "45kERInVLIQg"
      }
    },
    {
      "cell_type": "code",
      "source": [
        "from google.colab import drive\n",
        "drive.mount('/content/drive')\n",
        "mydrive_path = \"/content/drive/MyDrive/Con3/Exp_5bins_11Runs_40D_SGD_Lr0point1_diffSeedsPerRep\"\n",
        "\n"
      ],
      "metadata": {
        "id": "O2LZXfDynjLX",
        "outputId": "de3fa127-df6c-4013-a5c3-50e6ec182738",
        "colab": {
          "base_uri": "https://localhost:8080/"
        }
      },
      "execution_count": 7,
      "outputs": [
        {
          "output_type": "stream",
          "name": "stdout",
          "text": [
            "Mounted at /content/drive\n"
          ]
        }
      ]
    },
    {
      "cell_type": "code",
      "source": [
        "#@title\n",
        "# How to change the local time in Google Colab\n",
        "!rm /etc/localtime\n",
        "!ln -s /usr/share/zoneinfo/US/Eastern /etc/localtime\n",
        "!date\n",
        "\n",
        "#If this doesn't show the local time correctly, then you need to restart.\n",
        "import time\n",
        "time.localtime(time.time())\n",
        "\n",
        "import datetime\n",
        "\n",
        "# get current date and time\n",
        "now = datetime.datetime.now()"
      ],
      "metadata": {
        "colab": {
          "base_uri": "https://localhost:8080/"
        },
        "outputId": "a11cb677-6756-44ae-9884-810d88c207c8",
        "id": "bmXq1t0jROYK"
      },
      "execution_count": 8,
      "outputs": [
        {
          "output_type": "stream",
          "name": "stdout",
          "text": [
            "Fri 12 May 2023 08:28:10 AM EDT\n"
          ]
        }
      ]
    },
    {
      "metadata": {
        "id": "0-F4eTC8ROYK"
      },
      "source": [
        "We'll start by writing a `.py` file which we'll import."
      ],
      "cell_type": "markdown"
    },
    {
      "cell_type": "code",
      "source": [
        "#@title\n",
        "# import ImportLibraries_DefineFunctions\n",
        "import requests\n",
        "url = 'https://raw.githubusercontent.com/RachelRamirez/misclassification_matrix/main/ImportLibraries_DefineFunctions.py'\n",
        "r = requests.get(url)\n",
        "\n",
        "\n",
        "# make sure your filename is the same as how you want to import \n",
        "with open('ImportLibraries_DefineFunctions.py', 'w') as f:\n",
        "    f.write(r.text)\n",
        "\n",
        "# now we can import\n"
      ],
      "metadata": {
        "id": "GLOmUMNMS133"
      },
      "execution_count": 9,
      "outputs": []
    },
    {
      "metadata": {
        "colab": {
          "base_uri": "https://localhost:8080/"
        },
        "outputId": "e154785c-b354-4e36-838e-6b421b3f4b18",
        "id": "G9HBGqzDROYL"
      },
      "source": [
        "#@title\n",
        "# #@title\n",
        "# # Bring the file into the local Python environment.\n",
        "execfile('ImportLibraries_DefineFunctions.py')\n",
        "\n",
        "# Call the function defined in the file.\n",
        "# f()\n",
        "time.localtime(time.time())"
      ],
      "cell_type": "code",
      "execution_count": 10,
      "outputs": [
        {
          "output_type": "stream",
          "name": "stdout",
          "text": [
            "TF version:  2.12.0\n",
            "Keras version:  2.12.0\n",
            "Finished Loading Libraries\n",
            "Downloading data from https://storage.googleapis.com/tensorflow/tf-keras-datasets/mnist.npz\n",
            "11490434/11490434 [==============================] - 2s 0us/step\n",
            "60000 train samples\n",
            "7500 validation samples\n",
            "2500 test samples\n",
            "Train [0.09871667 0.11236667 0.0993     0.10218333 0.09736667 0.09035\n",
            " 0.09863333 0.10441667 0.09751666 0.09915   ]\n",
            "Train # of 9s 5949.0\n",
            "Train # of 4s 5842.0\n",
            "Val [0.09586667 0.1132     0.10453334 0.10066666 0.09986667 0.09013333\n",
            " 0.09413333 0.1016     0.09746667 0.10253333]\n",
            "Val # of 9s 769.0\n",
            "Val # of 4s 749.0\n",
            "Test [0.1044 0.1144 0.0992 0.102  0.0932 0.0864 0.1008 0.1064 0.0972 0.096 ]\n",
            "Test  # of 9s 240.0\n",
            "Test  # of 4s 233.0\n"
          ]
        },
        {
          "output_type": "execute_result",
          "data": {
            "text/plain": [
              "time.struct_time(tm_year=2023, tm_mon=5, tm_mday=12, tm_hour=8, tm_min=28, tm_sec=21, tm_wday=4, tm_yday=132, tm_isdst=1)"
            ]
          },
          "metadata": {},
          "execution_count": 10
        }
      ]
    },
    {
      "cell_type": "code",
      "source": [
        "# #@title\n",
        "# # #As of 4/18 I am changing this code to save weights initially after five epochs using lambdavalue=1 initially\n",
        "\n",
        "# # rms = RMSprop()  #https://keras.io/api/optimizers/rmsprop/ #default learning_rate=0.001\n",
        "# sgd = SGD(learning_rate=0.1)\n",
        "\n",
        "# patience = 0\n",
        "\n",
        "\n",
        "# # SET THE IITIAL LAMBDA VALUE! \n",
        "# cost_matrix = np.ones((10,10))\n",
        "# lambda_val = 1\n",
        "\n",
        "# Truth=9\n",
        "# Predicted=4\n",
        "# cost_matrix[Truth, Predicted] = lambda_val\n",
        "\n",
        "\n",
        "# # # Define the per-epoch callback.\n",
        "# cm_callback = tf.keras.callbacks.LambdaCallback(on_epoch_end=log_confusion_matrix, )\n",
        "# # cr_callback = tf.keras.callbacks.LambdaCallback(on_epoch_end=log_classification_report, )\n",
        "# # es_callback = tf.keras.callbacks.EarlyStopping(monitor='val_loss', patience=patience, verbose=1, restore_best_weights = True)\n",
        "\n",
        "\n",
        "\n",
        "\n",
        "\n",
        "# # ## Examples from TDS\n",
        "# # from tensorflow.keras.callbacks import LambdaCallback\n",
        "# # epoch_callback = LambdaCallback(\n",
        "# #     on_epoch_begin=lambda epoch,logs: print('Starting Epoch {}!'.format(epoch+1))\n",
        "# # )\n",
        "# # batch_loss_callback = LambdaCallback(\n",
        "# #     on_batch_end=lambda batch,logs: print('\\n After batch {}, the loss is {:7.2f}.'.format(batch, logs['loss']))\n",
        "# # )\n",
        "# # train_finish_callback = LambdaCallback(\n",
        "# #     on_train_end=lambda logs: print('Training finished!')\n",
        "# # )\n",
        "\n",
        "# # # Lambda function using if else & else if\n",
        "# # min = lambda a, b, c : f\"{a} is smaller\" if(a < b & b < c) \\\n",
        "# #      else f\"{b} is smaller\"  if (b < c) else f\"{c} is smaller\" \n",
        "# # print(min(40, 30, 10))\n",
        "\n",
        "# epoch_callback = tf.keras.callbacks.LambdaCallback(on_epoch_end = lambda epoch,logs: \n",
        "#                                                    print(' Epoch {} complete {}...'.format(epoch+1), end=\" \")  if(epoch+1)%10==0 else print(\"\", end=\" \")  )\n",
        "\n",
        "\n",
        "# # cr_callback = tf.keras.callbacks.LambdaCallback(on_epoch_end= lambda epoch, logs:\n",
        "# # #                                                log_classification_report(epoch, logs) if(epoch+1)%5==0 else print(\" \") )\n",
        "# #                                               #  return_cr if(epoch+1)%5==0 else print(\" \") )\n",
        "\n",
        "\n",
        "# f1_callback = tf.keras.callbacks.LambdaCallback(on_epoch_end=log_f1_score)\n",
        "\n",
        "\n",
        "# # model = create_model()\n",
        "\n",
        "# # # save the model weights\n",
        "# # model.save_weights('initial_0epochs.h5')\n",
        "\n",
        "# # model.compile(loss=WeightedCategoricalCrossentropy(cost_matrix), optimizer=sgd,  metrics='categorical_accuracy',)\n",
        "\n",
        "# # model_history = model.fit(X_train, Y_train,  batch_size=batch_size, epochs=10, verbose=2,\n",
        "# # #         validation_data=(X_val, Y_val), shuffle=True, use_multiprocessing=True, callbacks = [ cm_callback, f1_callback])\n",
        "\n",
        "# # model.save_weights('initial_10epochs.h5')\n",
        "\n",
        " \n",
        "# # cr = return_cr(model)\n",
        "# !date\n"
      ],
      "metadata": {
        "id": "-QcJ3LplOkww"
      },
      "execution_count": 11,
      "outputs": []
    },
    {
      "cell_type": "code",
      "source": [
        "# model.load_weights('initial_10epochs.h5') \n"
      ],
      "metadata": {
        "id": "ImMl-yPWPfT0"
      },
      "execution_count": 12,
      "outputs": []
    },
    {
      "cell_type": "markdown",
      "source": [
        "The code below to generate variations of the model training / validation results after training with a cost matrix 30 times did not produce any variability.   Therefore I want to shuffle the training/validation deck randomly between training sessions to see if that helps introduce some randomness.  "
      ],
      "metadata": {
        "id": "RLYZ6gR4WjKi"
      }
    },
    {
      "cell_type": "markdown",
      "source": [
        "#### The Training Runs - Commented out to ensure not run again when the notebook is saved with output"
      ],
      "metadata": {
        "id": "V_lUeeXP2Q5L"
      }
    },
    {
      "cell_type": "markdown",
      "source": [
        "This takes hours to run for about 40 replications so usually after running, I save the out put to GitHub for easy lookup later"
      ],
      "metadata": {
        "id": "owkJgwju2a52"
      }
    },
    {
      "cell_type": "code",
      "source": [
        "# #@title\n",
        "# from google.colab import files\n",
        "\n",
        "# ## -----------------------------------------------------------------------------------------------------\n",
        "# ## Now we need to load the weights of the model, and continue training with a different cost matrix\n",
        "# ## ------------------------------------------------------------------------------------------------------\n",
        "# # load the model weights\n",
        "# # model.load_weights('initial_5epochs.h5') \n",
        "\n",
        "# df = pd.DataFrame()\n",
        "# cost_matrix = np.ones((10,10))\n",
        "\n",
        "# model_history_all = []\n",
        "# cm_all            = []\n",
        "\n",
        "# cost_list = [10, 100, 1000] # Each one takes about 2 minutes 5*4*2=40 minutes for 5 costs/4 reps -- actually all took 40 reps took almost  1.5 hours\n",
        "# reps = 1\n",
        "\n",
        "# for k in cost_list:\n",
        "#   for r in range(reps):\n",
        "#     print(\"starting rep \", i, \" for \", k , \"-cost.\")\n",
        "\n",
        "#     cost_matrix[9,4] = k\n",
        "#     model = create_model(r)\n",
        "\n",
        "#     model.load_weights('initial_0epochs.h5')\n",
        "\n",
        "#     #I may need to re-initiate the optimizer to have a smaller learning rate\n",
        "#     model.compile(loss=WeightedCategoricalCrossentropy(cost_matrix), optimizer=sgd,  metrics='categorical_accuracy',)\n",
        "    \n",
        "#     nb_epoch = 110\n",
        "#     # patience = 20\n",
        "\n",
        "#     # es_callback = tf.keras.callbacks.EarlyStopping(monitor='val_loss', patience=patience, verbose=1, restore_best_weights = True)\n",
        "\n",
        "#     X_train_shuffled = shuffle(X_train, random_state=42 + r )\n",
        "#     Y_train_shuffled = shuffle(Y_train, random_state=42 + r)\n",
        " \n",
        "\n",
        "#     history = model.fit(X_train_shuffled, Y_train_shuffled,          batch_size=batch_size, epochs=nb_epoch, verbose=0,\n",
        "#             validation_data=(X_val, Y_val), shuffle=True, use_multiprocessing=True, callbacks = [ cm_callback, f1_callback, epoch_callback])\n",
        "\n",
        "#     cm3 = return_cm(model)\n",
        "\n",
        "#     del(history.model)\n",
        "#     model_history_all.append(history)\n",
        "#     cm_all.append(cm3)\n",
        "#     ## Now I need to plot all of the \"model_history_all\"\n",
        " \n",
        "  \n",
        "#     df = pd.concat([df, pd.DataFrame({\"cost\": k, \"rep\": r ,\n",
        "#                                       \"model_history\": [history],\n",
        "#                                       \"cm\": [cm3]\n",
        "#                                       })] , \n",
        "#                    ignore_index=True )\n",
        "\n",
        "#     import pickle\n",
        "\n",
        "#     # save the variable to a pickle file\n",
        "#     with open('diffcosts_models_lr0point1.pkl', 'wb') as f:\n",
        "#         pickle.dump(model_history_all, f)\n",
        "\n",
        "#     files.download('diffcosts_models_lr0point1.pkl')\n",
        "\n",
        "#     with open('diffcosts_cms_lr0point1.pkl', 'wb') as f:\n",
        "#         pickle.dump(cm_all, f)\n",
        "\n",
        "#     files.download('diffcosts_cms_lr0point1.pkl')\n",
        "#     !date\n",
        "#     df_string = \"df_lr0point1_K\" + str(k) + \"_R\" + str( r ) + \".pkl\" \n",
        "\n",
        "#     #Trying to Work Smarter and Save as Dataframe with Rep Cost History and CM\n",
        "#     with open(df_string, 'wb') as f:\n",
        "#         pickle.dump(df, f)\n",
        "\n",
        "#     files.download(df_string)\n",
        "\n",
        "\n",
        "\n",
        "\n",
        "#   # print(model_history_all) #18 items into _ is taking 1 hours and 3 minutes!  perhaps im not usng the right settings - i have no-accelerator on google colab\n",
        "# print(df_string, \" is final dataframe file\")"
      ],
      "metadata": {
        "id": "ZFgEx-T-fg28",
        "collapsed": true
      },
      "execution_count": 13,
      "outputs": []
    },
    {
      "cell_type": "markdown",
      "source": [
        "##### What actually downloaded \n",
        "\n",
        "df_lr0point1_K1000_R29.pkl  is final dataframe file but didn't save to Downloads.  I need to add code to have it download to my Google Drive so this doesn't happen again.  These appear to be the  last files downloaded (its hard to tell because they all download at the same time, instead of the time they are requested to be downloaded.  For example i have 30 diff files that downloaded exactly at 0330:\n",
        "\n",
        "* df_lr0point1_K1000_R9.pkl (20 reps missing? or did this turn out to be 19 reps?)\n",
        "* diffcosts_models_lr0point1 (32).pkl  (because i don't add an extension like the data frame the pickle files just keep downloading with new suffixes.\n",
        "* diffcosts_cms_lr0point1 (23).pkl   \n",
        "\n"
      ],
      "metadata": {
        "id": "es9m50uaxvP6"
      }
    },
    {
      "cell_type": "code",
      "source": [
        "    # # save the variable to a pickle file\n",
        "    # with open('baseline_models_lr0point1.pkl', 'wb') as f:\n",
        "    #     pickle.dump(model_history_all, f)\n",
        "\n",
        "    # files.download('baseline_models_lr0point1.pkl')\n",
        "\n",
        "    # with open('baseline_cms_lr0point1.pkl', 'wb') as f:\n",
        "    #     pickle.dump(cm_all, f)\n",
        "\n",
        "    # files.download('baseline_cms_lr0point1.pkl')"
      ],
      "metadata": {
        "id": "APH12P-AQ5bP"
      },
      "execution_count": 14,
      "outputs": []
    },
    {
      "cell_type": "markdown",
      "source": [
        "#### Download the multiple runs and reps of Model History from training with different lambda values\n",
        "\n",
        "\n",
        "Also commented out because once everything is ran and saved, I don't want to accidentally save additional files"
      ],
      "metadata": {
        "id": "7z0g0vdr2w05"
      }
    },
    {
      "cell_type": "markdown",
      "source": [
        "#### Load Model History Variables from Pickle Files - must have weighted-categorical-accuracy defined"
      ],
      "metadata": {
        "id": "WPmV3ALQcsjS"
      }
    },
    {
      "cell_type": "code",
      "source": [
        "# #Upload and save the history to variable \n",
        "# import pickle\n",
        "\n",
        "# # # #load the pickle file\n",
        "# # with open('baseline_models_lr0point1.pkl', 'rb') as handle:\n",
        "# #     model_history_all = pickle.load(handle)\n",
        "\n",
        "# # # import keras\n",
        "# # # keras.models.load_model('initial_10_secondphase_lambda_history.pkl')\n",
        "# # #use the loaded variable\n",
        "# # print(model_history_all)\n",
        "\n",
        "# # # #load the pickle file\n",
        "# # with open('baseline_cms_lr0point1.pkl', 'rb') as handle:\n",
        "# #     cm_all = pickle.load(handle)\n",
        "\n",
        "# # # use the loaded variable\n",
        "# # print(cm_all)\n",
        "\n",
        "# # df_string = 'df_lr0point1_K1000_R9.pkl'\n",
        "\n",
        "# # #load the pickle file\n",
        "# with open(df_string, 'rb') as handle:\n",
        "#     df = pickle.load(handle)\n",
        "\n",
        "\n",
        "\n",
        "  \n",
        "#   # save the variable to a pickle file\n",
        "#   with open('diffcosts_models_lr0point1 (31).pkl', 'rb') as handle:\n",
        "#     model_history_all  = pickle.load(handle)\n",
        "\n",
        " \n",
        "#   with open('diffcosts_cms_lr0point1.pkl',  'rb') as handle:\n",
        "#    cm_all  = pickle.load(handle)\n",
        "\n",
        " \n",
        "\n",
        "# # use the loaded variable\n",
        "# print(df)\n",
        " "
      ],
      "metadata": {
        "id": "dXFoZGvVZ1oE"
      },
      "execution_count": 15,
      "outputs": []
    },
    {
      "cell_type": "code",
      "source": [
        "# # #I want to break out the model_history and cm_history into a dataframe to be referenced by Cost and Rep\n",
        "# # import pandas as pd\n",
        "# # df = pd.DataFrame()\n",
        "# # count=1\n",
        "\n",
        "\n",
        "# # #It'd be better if i could refer to the \"cost\"/lambda2 as a variable in the model_history, \n",
        "# # # but i recreated it here\n",
        "# # # \n",
        "# # # cost_list = [10, 100, 1000, 1] # Each one takes about 2 minutes 5*4*2=40 minutes for 5 costs/4 reps -- actually all took 40 reps took almost  1.5 hours\n",
        "\n",
        "# # cost_list = [ 1]\n",
        "\n",
        "# # for k in cost_list:\n",
        "\n",
        "  \n",
        "# # #It'd be better if i could refer to the reps a variable in the model_history, \n",
        "# # # but i recreated it here as the range(10) that was originally used\n",
        "\n",
        "# #   for i in range(30):\n",
        "# #     # print(\"k: \", k, \"i: \", i)\n",
        "# #     df = pd.concat([df, pd.DataFrame({\"cost\": [k], \"rep\": [i],\n",
        "# #                                       \"model_history\": [model_history_all[count-1]],\n",
        "# #                                       # \"cm\": [cm_all[count-1]]\n",
        "# #                                       })] , \n",
        "# #                    ignore_index=True )\n",
        "# #     count+=1    \n",
        "\n",
        "\n",
        "# # I create a dataframe with CSV but  don't save/download it \n",
        "# df.to_csv('dataframe.csv',index=False)\n",
        "\n"
      ],
      "metadata": {
        "id": "JgxsbrcEPiEa"
      },
      "execution_count": 16,
      "outputs": []
    },
    {
      "cell_type": "code",
      "source": [
        "# import matplotlib.pyplot as plt\n",
        "# import numpy as np\n",
        "# import seaborn as sns\n",
        "\n",
        "# import time\n",
        "# nb_epoch = 110\n",
        "# patience = 0\n",
        "# df.groupby(\"cost\")\n",
        "\n",
        "# for x, group in df.groupby(\"cost\"):\n",
        "#   # fig = plt.figure(figsize=(20, 10)) \n",
        "#   # fig, ax = plt.subplots(1,2)\n",
        "#   print(\"Group of Lambda-Value:\",   x)\n",
        "\n",
        "#   # group\n",
        "#   for item in group.model_history:\n",
        "#     plot_model_history_all(item)    \n",
        "#   plt.show()\n",
        "  "
      ],
      "metadata": {
        "id": "S8nf629kPiEb"
      },
      "execution_count": 17,
      "outputs": []
    },
    {
      "cell_type": "code",
      "source": [
        "# df[\"model_history\"][0].history.keys()\n",
        "# # "
      ],
      "metadata": {
        "id": "ocYFlDuP9qbL"
      },
      "execution_count": 18,
      "outputs": []
    },
    {
      "cell_type": "markdown",
      "source": [
        "The plots  look very similar.  The loss values, even with shuffling, are nearly identical at least within 0.01 for the first three epochs of runs 1 and 2 (haven't checked all, but the plot makes it look like the runs are nearly identical)"
      ],
      "metadata": {
        "id": "cnKubJqKCXOW"
      }
    },
    {
      "cell_type": "code",
      "source": [
        "# df[\"model_history\"][2].history[\"val_loss\"][0] - df[\"model_history\"][1].history[\"val_loss\"][0]\n",
        "# df[\"model_history\"][2].history[\"val_loss\"][1] - df[\"model_history\"][1].history[\"val_loss\"][1]\n",
        "# df[\"model_history\"][2].history[\"val_loss\"][2] - df[\"model_history\"][1].history[\"val_loss\"][2]"
      ],
      "metadata": {
        "id": "xRS1JJpl_yOq"
      },
      "execution_count": 19,
      "outputs": []
    },
    {
      "cell_type": "code",
      "source": [
        "# import matplotlib.pyplot as plt\n",
        "# import seaborn as sns\n"
      ],
      "metadata": {
        "id": "5orz3_QVDJws"
      },
      "execution_count": 20,
      "outputs": []
    },
    {
      "cell_type": "markdown",
      "source": [
        "What is the highest misclassification?\n",
        "\n"
      ],
      "metadata": {
        "id": "HFEuhKt4DST1"
      }
    },
    {
      "cell_type": "code",
      "source": [
        "# for i in range(len(df[\"model_history\"])):\n",
        "#   print(i)\n",
        "#   cm = df[\"model_history\"][i].history[\"cm_per_epoch\"][-1].reshape((10,10))\n",
        "#   # cm = cm.reshape((10,10))\n",
        "  \n",
        "\n",
        "#   # Create figure and axes\n",
        "#   fig, ax = plt.subplots(figsize=(7, 7))\n",
        "\n",
        "\n",
        "#   cm3_wodiag = pd.DataFrame(cm*(np.ones((10,10)) - np.eye(10)))\n",
        "#   plt.xlabel('Predicted Class')\n",
        "#   plt.ylabel('True Class')\n",
        "#   plt.title('# of misclassifications of 9 as 4 is '+str(cm[9][4]) + ' reverse misclass is ' + str(cm[4][9])  ) \n",
        "#   sns.heatmap(cm3_wodiag, annot=True, annot_kws={\"size\": 7},  fmt='g', cmap=sns.cm.rocket_r, cbar=False) # font size\n",
        "#   plt.show()\n",
        "\n",
        "\n",
        "\n",
        "\n",
        "  \n",
        "  "
      ],
      "metadata": {
        "id": "KnjvWQjxDYAC"
      },
      "execution_count": 21,
      "outputs": []
    },
    {
      "cell_type": "markdown",
      "source": [
        "Average Misclassification Confusion Plot"
      ],
      "metadata": {
        "id": "fmbcFQcfhdyz"
      }
    },
    {
      "cell_type": "code",
      "source": [
        "# cm_sum = 0\n",
        "\n",
        "# for i in range(len(df[\"model_history\"])):\n",
        "#   # print(i)\n",
        "#   cm_sum += df[\"model_history\"][i].history[\"cm_per_epoch\"][-1].reshape((10,10))\n",
        "#   # print(cm_sum)\n",
        "\n",
        "# cm_average = cm_sum/(len(df[\"model_history\"]))\n",
        "# # print(cm_average)\n",
        "\n",
        "# # Create figure and axes\n",
        "# fig, ax = plt.subplots(figsize=(7, 7))\n",
        "\n",
        "\n",
        "# cm3_wodiag = pd.DataFrame(cm_average*(np.ones((10,10)) - np.eye(10)))\n",
        "# plt.xlabel('Predicted Class')\n",
        "# plt.ylabel('True Class')\n",
        "# plt.title('# of Average misclassifications of 9 as 4 is '+str(cm3_wodiag[4][9]) + ' reverse misclass is ' + str(cm3_wodiag[9][4])  ) \n",
        "# sns.heatmap(cm3_wodiag, annot=True, annot_kws={\"size\": 7},  fmt='.1f', cmap=sns.cm.rocket_r, cbar=False) # font size\n",
        "# plt.show()\n",
        "\n",
        "\n",
        "# plt.xlabel('Predicted Class')\n",
        "# plt.ylabel('True Class')\n",
        "# plt.title('# of Average misclassifications of 9 as 4 is '+str(cm_average[9][4]) + ' reverse misclass is ' + str(cm_average[4][9]) ) \n",
        "# sns.heatmap(cm_average, annot=True, annot_kws={\"size\": 7},  fmt='.1f', cmap=sns.cm.rocket_r, cbar=False) # font size\n",
        "# plt.show()\n",
        "\n",
        "\n",
        "# #The notation for digging into a dataframe versus a numpy array is reversed / its horribly confusing/ but it is  listed above correctly\n",
        "\n",
        "\n"
      ],
      "metadata": {
        "id": "fX4B3dPAhdhn"
      },
      "execution_count": 22,
      "outputs": []
    },
    {
      "cell_type": "code",
      "source": [
        "# for i in range(len(df[\"model_history\"])):\n",
        "#   plot_model_history(df[\"model_history\"][i], 110, df[\"model_history\"][i].history[\"cm_per_epoch\"][-1].reshape((10,10)))\n",
        "\n",
        "#   plt.gcf().set_size_inches(10, 5)  # this works \n",
        "#   # plt.gcf().suptitle(f\"Lambda Value {lambda_val} for {nb_epoch} Epochs and Patience {patience} \" )\n",
        "\n",
        "  \n",
        "\n",
        "\n",
        "\n"
      ],
      "metadata": {
        "id": "xkH6R_LyMOWN"
      },
      "execution_count": 23,
      "outputs": []
    },
    {
      "cell_type": "code",
      "source": [
        "# df[\"model_history\"][0].history[\"cm_per_epoch\"][-1].reshape((10,10))\n",
        "\n",
        "# # \n",
        "# #The 30th rep has 10 misclassified 9s as 4s \n",
        "# # df[\"model_history\"][29].history[\"cm_per_epoch\"][-1].reshape((10,10))[9][4]\n"
      ],
      "metadata": {
        "id": "PPlXeHqyVvNT"
      },
      "execution_count": 24,
      "outputs": []
    },
    {
      "cell_type": "markdown",
      "source": [
        "Statistics"
      ],
      "metadata": {
        "id": "75g_dXG5go_c"
      }
    },
    {
      "cell_type": "code",
      "source": [
        "# # Needs to be re-done for multiple costs!\n",
        "\n",
        "# for x, group in df.groupby(\"cost\"):\n",
        "  \n",
        "#   print(\" -------------- \")\n",
        "\n",
        "#   print(\"Group of Lambda-Value:\",   x)\n",
        "\n",
        "#   print(\"The minimum Validation Loss occurred at the following epochs for the reps\")\n",
        "\n",
        "\n",
        "#   for index in group.index:  \n",
        "#     print(\"index\", index)\n",
        "#     sum_9T_4P = 0\n",
        "#     sum_4T_9P = 0\n",
        "#     for rep in range(1,len(group)+1):\n",
        "#       print(\" -------------- \")\n",
        "\n",
        "#       # for epoch in range(len(group[\"model_history\"][index].history[\"val_loss\"])):\n",
        "#       #   print(\"Epoch:\", epoch)\n",
        "#       # print(\"The minimum Validation Loss occurred at the following epochs for the reps\")\n",
        "\n",
        "#       # for epoch_num in range(len(group[\"model_history\"][index].history[\"val_loss\"])):  #This tells you how many epochs there are\n",
        "#       print(\"Cost: \", k,  \"Rep:\", rep,  end=\"\\t\")\n",
        "#       print(\"Epoch: \", np.argmin(group[\"model_history\"][index].history[\"val_loss\"]), end=\"\\t\")\n",
        "#       print(\"CM_9T_4P at that epoch: \",  group[\"model_history\"][index].history[\"cm_per_epoch\"][np.argmin(group[\"model_history\"][index].history[\"val_loss\"])].reshape((10,10))[9][4]     , end=\"\\t\")\n",
        "#       print(\"CM_4T_9P at that epoch: \",  group[\"model_history\"][index].history[\"cm_per_epoch\"][np.argmin(group[\"model_history\"][index].history[\"val_loss\"])].reshape((10,10))[4][9]     )\n",
        "\n",
        "\n",
        "\n",
        "#       sum_9T_4P += group[\"model_history\"][index].history[\"cm_per_epoch\"][np.argmin(group[\"model_history\"][index].history[\"val_loss\"])].reshape((10,10))[9][4]  \n",
        "#       sum_4T_9P += group[\"model_history\"][index].history[\"cm_per_epoch\"][np.argmin(group[\"model_history\"][index].history[\"val_loss\"])].reshape((10,10))[4][9]  \n",
        "\n",
        "\n",
        "#     print(\"The average misclassifications of 9 as 4 if Early Stopping Took place: \", sum_9T_4P/len(group[\"model_history\"]),   \"\\t \", ((sum_9T_4P/len(group[\"model_history\"]))/np.sum(cm_all, axis=2)[0][9])*100 , \"percent\"   )\n",
        "#     print(\"The average reverse misclassifications of 4 as 9 if Early Stopping Took place: \", sum_4T_9P/len(group[\"model_history\"]),   \"\\t \", ((sum_4T_9P/len(group[\"model_history\"]))/np.sum(cm_all, axis=2)[0][4])*100 , \"percent\"   )\n",
        "\n",
        "\n",
        "#       # sum_94 = 0\n",
        "#       # sum_49 = 0\n",
        "\n",
        "#       # # for epoch_num in range(len(group[\"model_history\"][rep].history[\"val_loss\"])):  #This tells you how many epochs there are\n",
        "#       # #     # print(cm_all[j][9][4])\n",
        "#       # sum_49 += group[\"model_history\"][epoch].history[\"cm_per_epoch\"][-1].reshape((10,10))[4][9]\n",
        "#       # sum_94 += group[\"model_history\"][rep].history[\"cm_per_epoch\"][-1].reshape((10,10))[9][4]\n",
        "\n",
        "#       #     # print(sum_cm)\n",
        "\n",
        "#     print(\" -------------- \")\n",
        "#       # print(\"The average misclassifications if taken out to the last training epoch: \", sum_94/len(cm_all), \"\\t \", (sum_94/np.sum(cm_all, axis=2)[0][9])*100 , \"percent\"   )\n",
        "#       # print(\"The average reverse misclassifications if taken out to the last training epoch: \", sum_49/len(cm_all), \"\\t \", (sum_49/len(cm_all)/np.sum(cm_all, axis=2)[0][4])*100 , \"percent\"   )\n",
        "\n",
        "#       # # Val # of 9s 769.0\n",
        "#       # #Get the original total number of 9s in the Val Set\n",
        "#       # np.sum(cm_all, axis=2)[0][9]\n",
        "\n",
        "#       # # Val # of 4s 749.0\n",
        "#       # np.sum(cm_all, axis=2)[0][4]\n"
      ],
      "metadata": {
        "id": "MUOJz-RNWB3P"
      },
      "execution_count": 25,
      "outputs": []
    },
    {
      "cell_type": "markdown",
      "source": [
        "Taking the Average Confusion Matrix using the last confusion matrix per epoch, (per cost), divided by reps"
      ],
      "metadata": {
        "id": "YWFb0D2a-2Dw"
      }
    },
    {
      "cell_type": "code",
      "source": [
        "# for k, group in df.groupby(\"cost\"):  \n",
        "#   print(\" -------------- \")\n",
        "#   print(\"Group of Lambda-Value:\",   k)\n",
        "\n",
        "#   # print(group.index)\n",
        "#   # print(group) \n",
        "  \n",
        "#   total_cm_per_rep = np.zeros((10,10))\n",
        "#   for index in group.index:\n",
        "#     print(\"Index:\",   index) \n",
        "\n",
        "\n",
        "#     # for epoch in range(len(group[\"model_history\"][index].history[\"val_loss\"])):\n",
        "#     #   # print(\"index: \", index, \"cost: \", k, \"rep: \", rep)\n",
        "#     total_cm_per_rep += (group[\"model_history\"][index].history[\"cm_per_epoch\"][-1].reshape((10,10)))\n",
        "#     # print(total_cm_per_rep)\n",
        "#   print(pd.DataFrame(total_cm_per_rep/len(group.index)))"
      ],
      "metadata": {
        "id": "eynAYI4I0sMK"
      },
      "execution_count": 26,
      "outputs": []
    },
    {
      "cell_type": "code",
      "source": [
        "\n",
        "# for k, group in df.groupby(\"cost\"):\n",
        "  \n",
        "#   print(\" -------------- \")\n",
        "\n",
        "#   print(\"Group of Lambda-Value:\",   k)\n",
        "\n",
        "#   # print(group.index)\n",
        "#   # print(group)\n",
        "#   for index in group.index:\n",
        "#     print(index)\n",
        "#     for rep in range(1,len(group)+1):\n",
        "#       print(\"Rep: \", rep)\n",
        "       \n",
        "\n",
        "\n",
        "#       for epoch in range(len(group[\"model_history\"][index].history[\"cm_per_epoch\"])):\n",
        "#         # print(\"index: \", index, \"cost: \", k, \"rep: \", rep, \"epochs: \", epoch) #\"last cm:\", group[\"model_history\"][index].history[\"cm_per_epoch\"][rep].reshape((10,10)))\n",
        "#         # print(\"epoch: \", epoch)\n",
        "\n",
        "\n"
      ],
      "metadata": {
        "id": "UxyaZCMSqDvE"
      },
      "execution_count": 27,
      "outputs": []
    },
    {
      "cell_type": "markdown",
      "source": [
        "Scratch"
      ],
      "metadata": {
        "id": "-4sFk2MGQmc2"
      }
    },
    {
      "cell_type": "code",
      "source": [
        "# # list1 = [0,0,0,0,1]\n",
        "# list1 = [0,1,0,0,0]\n",
        "\n",
        "\n",
        "# count = 1\n",
        "# prev_lambda_value = list1[0]\n",
        "# print(\"Initialize model with lambda: \", prev_lambda_value)\n",
        "\n",
        "\n",
        "# for lambda_value in list1:\n",
        "\n",
        "#     print(\"Bin: \", count, \" \", end=\"\")\n",
        "\n",
        "#     if lambda_value != prev_lambda_value:\n",
        "#         print(f\"lambda_value {lambda_value} is different than previous lambda_value {prev_lambda_value} so save current weights and then compile with weight {lambda_value}\")\n",
        "\n",
        "#     else:\n",
        "#       print(f\"lambda_value {lambda_value} is equal to previous lambda_value {prev_lambda_value} so continue training {lambda_value}\")\n",
        "      \n",
        "\n",
        "#     count+=1\n",
        "#     prev_lambda_value = lambda_value"
      ],
      "metadata": {
        "id": "xE5h97BhQlOI"
      },
      "execution_count": 28,
      "outputs": []
    },
    {
      "cell_type": "markdown",
      "source": [
        "If I want to continue training with the current cost_matrix this seems to work\n",
        "\n",
        "```\n",
        "\n",
        "model = create_model(0)\n",
        "# save the model weights\n",
        "model.save_weights('initial_0epochs.h5')\n",
        "model.compile(loss=WeightedCategoricalCrossentropy(cost_matrix), optimizer=sgd,  metrics='categorical_accuracy',)\n",
        "\n",
        "model_history = model.fit(X_train, Y_train,  batch_size=batch_size, epochs=2, verbose=2,\n",
        "         validation_data=(X_val, Y_val), shuffle=True, use_multiprocessing=True, callbacks = [ cm_callback, f1_callback])\n",
        "\n",
        "model.save_weights('initial_2epochs.h5')\n",
        "\n",
        " \n",
        "#Continue Training with no change\n",
        "model_history2 = model.fit(X_train, Y_train,  batch_size=batch_size, epochs=2, verbose=2,\n",
        "         validation_data=(X_val, Y_val), shuffle=True, use_multiprocessing=True, callbacks = [ cm_callback, f1_callback])\n",
        "\n",
        "model.save_weights('initial2_lambda_next2_lambda.h5')```\n",
        "\n"
      ],
      "metadata": {
        "id": "k3HuHB9JSg3_"
      }
    },
    {
      "cell_type": "markdown",
      "source": [
        "To switch the cost-matrix and then continue training thsi seems to work\n",
        "\n",
        "```\n",
        "model = create_model(0)\n",
        "# save the model weights\n",
        "model.save_weights('initial_0epochs.h5')\n",
        "model.compile(loss=WeightedCategoricalCrossentropy(cost_matrix), optimizer=sgd,  metrics='categorical_accuracy',)\n",
        "\n",
        "model_history = model.fit(X_train, Y_train,  batch_size=batch_size, epochs=2, verbose=2,\n",
        "         validation_data=(X_val, Y_val), shuffle=True, use_multiprocessing=True, callbacks = [ cm_callback, f1_callback])\n",
        "\n",
        "model.save_weights('initial_2epochs.h5')\n",
        "\n",
        "model = create_model(0)\n",
        "cost_matrix[Truth, Predicted] = 100\n",
        "model.compile(loss=WeightedCategoricalCrossentropy(cost_matrix), optimizer=sgd,  metrics='categorical_accuracy',)\n",
        "model.load_weights('initial_2epochs.h5')\n",
        " \n",
        "#Continue Training with no change\n",
        "model_history2 = model.fit(X_train, Y_train,  batch_size=batch_size, epochs=2, verbose=2,\n",
        "         validation_data=(X_val, Y_val), shuffle=True, use_multiprocessing=True, callbacks = [ cm_callback, f1_callback])\n",
        "\n",
        "model.save_weights('initial2_1_next2_100.h5')\n",
        "```\n",
        "\n"
      ],
      "metadata": {
        "id": "BkNBqaTFTMWw"
      }
    },
    {
      "cell_type": "code",
      "source": [],
      "metadata": {
        "id": "K9pov0y1SlgQ"
      },
      "execution_count": 28,
      "outputs": []
    },
    {
      "cell_type": "markdown",
      "source": [
        "#### Scratch work"
      ],
      "metadata": {
        "id": "RfzPcxGZZVlL"
      }
    },
    {
      "cell_type": "code",
      "source": [
        "from google.colab import drive\n",
        "drive.mount('/content/drive')\n",
        "mydrive_path = \"/content/drive/MyDrive/Con3/Exp_5bins_11Runs_40D_SGD_Lr0point1_diffSeedsPerRep/\"\n",
        "\n",
        "\n",
        "from google.colab import files\n"
      ],
      "metadata": {
        "id": "eI0JDKbpoEWa",
        "outputId": "c9b35485-c461-4021-ad17-b450647b1cd0",
        "colab": {
          "base_uri": "https://localhost:8080/"
        }
      },
      "execution_count": 29,
      "outputs": [
        {
          "output_type": "stream",
          "name": "stdout",
          "text": [
            "Drive already mounted at /content/drive; to attempt to forcibly remount, call drive.mount(\"/content/drive\", force_remount=True).\n"
          ]
        }
      ]
    },
    {
      "cell_type": "code",
      "source": [
        "def save_tf_model_weights(model, file_string):\n",
        "\n",
        "    final_weights = file_string + \".h5\"\n",
        "    model.save_weights(final_weights)\n",
        "\n",
        "    weights = model.get_weights()\n",
        "\n",
        "    # df = pd.DataFrame(weights)\n",
        "\n",
        "    # csv_file_name = file_string + \".csv\"\n",
        "    pkl_file_name = file_string + \".pkl\"\n",
        "\n",
        "\n",
        "    # df.to_csv(csv_file_name, index=False)\n",
        "\n",
        "\n",
        "    # with open(pkl_file_name, 'wb') as f:\n",
        "        # pickle.dump(weights, f)\n",
        "    # print('Model weights saved to CSV and Pickle files.')\n",
        "\n",
        "    with open(str(mydrive_path) + str(pkl_file_name), 'wb') as f:\n",
        "        pickle.dump(weights, f)\n",
        "    print('Model Pickle file saved to: ', mydrive_path)\n",
        "\n",
        "\n",
        "    model.save_weights(str(mydrive_path) + str(final_weights))\n",
        "    print('Model weights saved to: ', mydrive_path)\n",
        "\n",
        "\n",
        "\n",
        "    \n",
        "    \n"
      ],
      "metadata": {
        "id": "GKZ7NHnR1ujM"
      },
      "execution_count": 30,
      "outputs": []
    },
    {
      "cell_type": "code",
      "source": [
        "# SET THE IITIAL LAMBDA VALUE! \n",
        "cost_matrix = np.ones((10,10))\n",
        "lambda_val = 1\n",
        "\n",
        "Truth=9\n",
        "Predicted=4\n",
        "cost_matrix[Truth, Predicted] = lambda_val"
      ],
      "metadata": {
        "id": "VLdJgBNiqxF8"
      },
      "execution_count": 31,
      "outputs": []
    },
    {
      "cell_type": "code",
      "source": [
        "# #Import\n",
        "# import pandas as pd \n",
        "# import pickle\n",
        "\n",
        "\n",
        "# #Define 11 Test Runs:\n",
        "# list1=[1,1,1,1,1]\n",
        "# list2=[1,1,1,1,10]\n",
        "# list3=[1,1,1,1,100]\n",
        "# list4=[1,1,1,10,1]\n",
        "# list5=[1,1,1,100,1]\n",
        "# list6=[1,1,10,1,1]\n",
        "# list7=[1,1,100,1,1]\n",
        "# list8=[1,10,1,1,1]\n",
        "# list9=[1,100,1,1,1]\n",
        "# list10=[10,1,1,1,1]\n",
        "# list11=[100,1,1,1,1]\n",
        "\n",
        "\n",
        "# #List all 11 Test Runs in Array:\n",
        "# # list_of_test_runs = [list2]\n",
        "\n",
        "# list_of_test_runs = [list1,list2,list3,list4,list5,list6,list7,list8,list9,list10,list11]          #<<<<< CHANGE BACK\n",
        "\n",
        "\n",
        "\n",
        "\n",
        "# #Create dataframe to store all the information\n",
        "# data = {'rep': [], 'bins': [], 'lambdas': [], 'model_history': [], 'final_saved_weights_string': []}\n",
        "# scratch_df = pd.DataFrame(data)\n",
        "\n",
        "\n",
        "\n",
        "# #Start For-Loop by looking at the individual lists of lambda-values inside the test run lists:\n",
        "# for test_run in list_of_test_runs:\n",
        "\n",
        "#   print(f\"Starting with test-run of Lambdas {test_run} :\")\n",
        "\n",
        "  \n",
        "#   for rep in [0,1,2]:                                                                             #<<<<< CHANGE BACK\n",
        "#   # for rep in [0]:\n",
        "#     model_history = {}\n",
        "\n",
        "#     model_weights_string = \"rep\" + str(rep) + \"_\"\n",
        "#     print(\" ------------------------------------- \")\n",
        "#     count = 1                #This is the BIN COUNT\n",
        "#     print(f\"Rep {rep} : \", end=\"\")\n",
        "    \n",
        "    \n",
        "#     prev_lambda_value = test_run[0]\n",
        "\n",
        "#     # print(\"Initialize model with lambda: \", prev_lambda_value)\n",
        "#     # print(f\"     Call function INITIALIZE MODEL with parameters REP {rep} and test_run[0] LambdaValue {test_run[0]}  \")\n",
        "\n",
        "#     #\"Initialize Model Function\" for variable MODEL\n",
        "#     model = create_model(i=rep)\n",
        "\n",
        "    \n",
        "#     #Compile the initial model with the first-lambda-value of the current-test-run\n",
        "#     cost_matrix[Truth, Predicted] = prev_lambda_value\n",
        "#     model.compile(loss=WeightedCategoricalCrossentropy(cost_matrix), optimizer=sgd,  metrics='categorical_accuracy',)\n",
        "\n",
        "#     #I dont call \"training\" yet, I've compiled with the initial weight, and then I allow my for-loop to start/continue the training everytime the lambdavalue is the same \n",
        "\n",
        "\n",
        "#     #There are currently \"5-lambda_values\" in each of the test-run-arrays, which means there are 5-equally-sized-bins.  The lambda_value is the lambda-values\n",
        "\n",
        "\n",
        "\n",
        "\n",
        "#     for lambda_value in test_run:\n",
        "#         N_EPOCHS = 110//len(test_run)                                                             #<<<<< CHANGE BACK\n",
        "#         # N_EPOCHS = 1\n",
        "#         print(\"Bin: \", count, \" \", end=\"\")\n",
        "        \n",
        "#         #If current lambda_value is different then the previous lambda value, save weights, re-compile with different lambda, and training for 110/5 epochs:\n",
        "#         #\n",
        "#         if lambda_value != prev_lambda_value:\n",
        "#             # print(f\"lambda_value {lambda_value} is different than previous lambda_value {prev_lambda_value} so save current weights as model_weights: {model_weights_string} and then compile with weight {lambda_value}\")\n",
        "#             # print(f\"   Call function CHANGE MODEL with parameters REP {rep} and NEXT LambdaValue in List {lambda_value} to train for epochs __{N_EPOCHS}___ \")\n",
        "#             weights = model.get_weights()\n",
        "#             temp_var = model_weights_string + \".h5\"\n",
        "#             model.save_weights(temp_var)\n",
        "\n",
        "#             #\"Create new model\" with same name MODEL\n",
        "#             model = create_model(i=rep)\n",
        "#             model.set_weights(weights)\n",
        "#             #Compile the \"new\" model with the next-lambda-value of the current-test-run\n",
        "#             cost_matrix[Truth, Predicted] = lambda_val\n",
        "#             model.compile(loss=WeightedCategoricalCrossentropy(cost_matrix), optimizer=sgd,  metrics='categorical_accuracy',)\n",
        "\n",
        "#             #Continue training for 110/5 epochs\n",
        "#             model_history2 = model.fit(X_train, Y_train,  batch_size=batch_size, epochs=N_EPOCHS, verbose=0, validation_data=(X_val, Y_val), shuffle=True, use_multiprocessing=True, callbacks = [ cm_callback, f1_callback])\n",
        "#             # print(\"Model History 2 Loss so far\", model_history2.history['loss'],\"\\n\\n\")\n",
        "          \n",
        "#             try:\n",
        "#               # print(\"trying\")\n",
        "#               model_history = {key: model_history[key] + model_history2.history[key] for key in model_history2.history.keys()}\n",
        "#             except KeyError:\n",
        "#               # print(\"Key Error\")  \n",
        "#               model_history = {key: model_history2.history[key] for key in model_history2.history.keys()}\n",
        "#             #finally:\n",
        "#               # print(\"Finaly\")  \n",
        "\n",
        "#             # print(\"Model History (New) Loss so far\", model_history['loss'],\"\\n\\n\")\n",
        "\n",
        "\n",
        "#         #If current lambda_value is the same as previous lambda value, continue training for 110/5 epochs:\n",
        "#         #\n",
        "#         else:\n",
        "#           # print(f\"lambda_value {lambda_value} is equal to previous lambda_value {prev_lambda_value} so continue training {lambda_value} for epochs __{110/5}\")\n",
        "#           # print(f\"     Call function CONTINUE TRAIING \")\n",
        "#           model_history1 = model.fit(X_train, Y_train,  batch_size=batch_size, epochs=N_EPOCHS, verbose=0, validation_data=(X_val, Y_val), shuffle=True, use_multiprocessing=True, callbacks = [ cm_callback, f1_callback])\n",
        "#           # print(\"Model History 1 Loss so far\", model_history1.history['loss'],\"\\n\\n\")\n",
        "\n",
        "#           try:\n",
        "#             # print(\"Trying\")\n",
        "#             model_history = {key: model_history[key] + model_history1.history[key] for key in model_history1.history.keys()}\n",
        "#           except KeyError:\n",
        "#             # print(\"Key Error\")\n",
        "#             model_history = {key: model_history1.history[key] for key in model_history1.history.keys()}\n",
        "#           #finally:\n",
        "#             # print(\"Finally\")\n",
        "#             # model_history = {key: model_history1.history[key] for key in model_history1.history.keys()}\n",
        "\n",
        "\n",
        "#           # print( model_history.history[key] for key in model_history.history.keys())\n",
        "#           # print(\"Model History (New) Loss so far\", model_history['loss'],\"\\n\\n\")\n",
        "\n",
        "#         count+=1\n",
        "#         prev_lambda_value = lambda_value         \n",
        "#         model_weights_string = model_weights_string + str(lambda_value) + \"_\"\n",
        "\n",
        "    \n",
        "#     print(f\"Save final weights as {model_weights_string}\")\n",
        "#     save_tf_model_weights(model, model_weights_string)\n",
        " \n",
        "#     now = datetime.datetime.now()\n",
        "\n",
        "#     #Saving to DataFrame\n",
        "#     scratch_df = pd.concat([scratch_df, pd.DataFrame({'rep': rep, 'bins': 5, 'lambdas': [test_run], 'model_history': [model_history], 'final_saved_weights_string': model_weights_string ,  \n",
        "#       'loss': [model_history['loss']],\n",
        "#       'categorical_accuracy': [model_history['categorical_accuracy']],\n",
        "#       'val_loss': [model_history['val_loss']],\n",
        "#       'val_categorical_accuracy': [model_history['val_categorical_accuracy']],\n",
        "#       '9T_4P': [model_history['9T_4P']],\n",
        "#       '4T_9P': [model_history['4T_9P']],\n",
        "#       '0T_Acc': [model_history['0T_Acc']],\n",
        "#       '1T_Acc': [model_history['1T_Acc']],\n",
        "#       '2T_Acc': [model_history['2T_Acc']],\n",
        "#       '3T_Acc': [model_history['3T_Acc']],\n",
        "#       '4T_Acc': [model_history['4T_Acc']],\n",
        "#       '5T_Acc': [model_history['5T_Acc']],\n",
        "#       '6T_Acc': [model_history['6T_Acc']],\n",
        "#       '7T_Acc': [model_history['7T_Acc']],\n",
        "#       '8T_Acc': [model_history['8T_Acc']],\n",
        "#       '9T_Acc': [model_history['9T_Acc']],\n",
        "#       'cm_per_epoch': [model_history['cm_per_epoch']],\n",
        "#       'f1_micro': [model_history['f1_micro']],\n",
        "#       'f1_macro': [model_history['f1_macro']],\n",
        "#       'f1_weighted': [model_history['f1_weighted']],\n",
        "#       'f1_notweighted': [model_history['f1_notweighted']],\n",
        "#                    \"datetime\": now.strftime(\"%Y-%m-%d %H:%M:%S\")\n",
        "#                                     })], ignore_index=True)\n",
        "\n",
        "\n",
        "#     print(\"Deleting previous Model_history\")\n",
        "#     del(model_history)\n",
        "#   print(\" ------------------------------------- \")\n",
        "\n",
        "#   # print(scratch_df)"
      ],
      "metadata": {
        "id": "Pwke5a9uZW6q"
      },
      "execution_count": 32,
      "outputs": []
    },
    {
      "cell_type": "code",
      "source": [
        "# If I need to load weights later and evaluate this appears to work\n",
        "# tempfilename= str('/content/drive/MyDrive/Con3/Exp_5bins_11Runs_40D_SGD_Lr0point1_diffSeedsPerRep/')+str(model_weights_string)+str(\".h5\")\n",
        "# model.load_weights(tempfilename)\n",
        "# model.evaluate(X_test, Y_test)"
      ],
      "metadata": {
        "id": "a2eRG44ktjNp"
      },
      "execution_count": 33,
      "outputs": []
    },
    {
      "cell_type": "code",
      "source": [
        "# # model_history['loss']\n",
        "# scratch_df\n",
        "\n",
        "# # scratch_df[(scratch_df[\"rep\"] == 0) & (scratch_df[\"bins\"] == 5)]"
      ],
      "metadata": {
        "id": "Y3klb0l28Fig"
      },
      "execution_count": 34,
      "outputs": []
    },
    {
      "cell_type": "code",
      "source": [
        "# for k in model_history.history.keys():\n",
        "#   print(\"'\", end=\"\")\n",
        "#   # print(\"model_history_\", end=\"\")\n",
        "#   print(k, end=\"\")\n",
        "#   print(\"'\", end=\"\")\n",
        "#   print(\": \", end=\"\")\n",
        "#   print( \"[model_history.history\", end=\"\")\n",
        "#   print(\"['\", end=\"\")\n",
        "#   # print(\"model_history_\", end=\"\")\n",
        "#   print(k, end=\"\")\n",
        "#   print(\"']],\", end=\"\")\n",
        "#   print()\n",
        "\n",
        "# model_history['loss']"
      ],
      "metadata": {
        "id": "FIObuLz100qL"
      },
      "execution_count": 35,
      "outputs": []
    },
    {
      "cell_type": "code",
      "source": [
        "# scratch_df.iloc[0][\"model_history\"]['loss']"
      ],
      "metadata": {
        "id": "SPGHR9YxcFbY"
      },
      "execution_count": 36,
      "outputs": []
    },
    {
      "cell_type": "code",
      "source": [
        "# scratch_df.to_pickle('df.pkl')\n",
        "# files.download(\"df.pkl\")\n",
        "\n"
      ],
      "metadata": {
        "id": "8AIVC-IsmJ-Z"
      },
      "execution_count": 37,
      "outputs": []
    },
    {
      "cell_type": "code",
      "source": [
        "# scratch_df.to_csv('df.csv', index=False)\n",
        "# files.download(\"df.csv\")"
      ],
      "metadata": {
        "id": "h3FYbrq9sBqh"
      },
      "execution_count": 38,
      "outputs": []
    },
    {
      "cell_type": "code",
      "source": [
        "#@title: plot_model_history_all\n",
        "def plot_model_history_all(model_history, nb_epoch=None, cm3=None, label=None): \n",
        "  # Parameters\n",
        "  # ----------\n",
        "  # tot_epochs : int\n",
        "  #     Total number of epochs for which the model was trained.\n",
        "  # model_history : keras.callbacks.History\n",
        "  #     The history object returned by the fit() method of the model.\n",
        "  # cm3 : 10x10 dataframe \n",
        "  #      10x10 dataframe of confusion matrix from predicted X_val categories\n",
        "  # restored_weights : int\n",
        "  #     The epoch at which the weights were restored.\n",
        "\n",
        "\n",
        "  tot_epochs = len(model_history['loss'])  #if the total epochs ran is 28, it'll show up as 27 in the epoch object so we must add 1\n",
        "  # print(\"Total Epochs: \", tot_epochs)\n",
        "\n",
        "  #No Early Stop so not using this\n",
        "  #if tot_epochs is the total number of epochs ran then early stop did not happen, and we need not minus patience\n",
        "  # if tot_epochs == nb_epoch:\n",
        "  #   restored_weights = tot_epochs\n",
        "  # else:\n",
        "  #   restored_weights  = tot_epochs-patience   #when using restore-best-weights and patience, it'll restore the best weights back\n",
        "  # # print(\"Restored weights at \", restored_weights, \"Patience used: \", patience)\n",
        "\n",
        "  # ax[0].plot(range(1,tot_epochs+1), model_history['categorical_accuracy'], label=label+str(\"Train\") , linestyle=\"--\"    )\n",
        "  ax[0].plot(range(1,tot_epochs+1), model_history['val_categorical_accuracy'] , label=label+str(\"Val\"), linestyle=':' )\n",
        "  # ax[0].scatter((restored_weights), model_history['val_categorical_accuracy'][restored_weights-1] , color='orange', label=\"Val\")\n",
        "  # ax[0].scatter(restored_weights, model_history['categorical_accuracy'][restored_weights-1], color='blue', label=\"Train\")\n",
        "  # ax[0].annotate(text=str(restored_weights),  xy=(restored_weights, model_history['val_categorical_accuracy'][restored_weights-1]),\n",
        "  #                 textcoords=\"offset points\", xytext=(0,10), ha='center', color='black')\n",
        "  ax[0].legend()\n",
        "  ax[0].set_title('Training (Blue) and Validation (Orange) Accuracy', fontsize='8')\n",
        "\n",
        "\n",
        "\n",
        "  # ax[1].plot(range(1,tot_epochs+1), model_history['loss'],  label=label+str(\"Train\") , linestyle=\"--\"  )\n",
        "  ax[1].plot(range(1,tot_epochs+1), model_history['val_loss'],  label=label+str(\"Val\"), linestyle=':' )\n",
        "  # ax[1].scatter(restored_weights, model_history['loss'][restored_weights-1], color='blue')\n",
        "  # ax[1].scatter((restored_weights), model_history['val_loss'][restored_weights-1] , color='orange')\n",
        "  # ax[1].annotate(text=str(restored_weights),  xy=(restored_weights, model_history['val_loss'][restored_weights-1]),\n",
        "  #                 textcoords=\"offset points\", xytext=(0,10), ha='center')\n",
        "  ax[1].legend()\n",
        "  ax[1].set_title('Training (Blue) and Validation (Orange) Loss' , fontsize='8')\n",
        "\n",
        "\n",
        "  ax[2].plot(range(1,tot_epochs+1), model_history['9T_4P'],  label=label  )\n",
        "  # ax[2].plot(range(1,tot_epochs+1), model_history['9T_4P'], color='orange',  )\n",
        "  # ax[1].scatter(restored_weights, model_history['loss'][restored_weights-1], color='blue')\n",
        "  # ax[1].scatter((restored_weights), model_history['val_loss'][restored_weights-1] , color='orange')\n",
        "  # ax[1].annotate(text=str(restored_weights),  xy=(restored_weights, model_history['val_loss'][restored_weights-1]),\n",
        "  #                 textcoords=\"offset points\", xytext=(0,10), ha='center')\n",
        "  ax[2].legend()\n",
        "  ax[2].set_title('Validation Misclassifications of 9T_4P' , fontsize='8')\n",
        "\n",
        "\n",
        "  plt.gcf().set_size_inches(10, 5)  # this works \n",
        "  # plt.gcf().suptitle(f\"Lambda Value {lambda_val} for {nb_epoch} Epochs and Patience {patience} \" )\n",
        "\n",
        "  \n",
        "\n",
        "\n",
        "\n",
        "\n"
      ],
      "metadata": {
        "id": "UGXnD-CEdeUP"
      },
      "execution_count": 39,
      "outputs": []
    },
    {
      "cell_type": "code",
      "source": [
        "# fig = plt.figure(figsize=(20, 10))\n",
        "# fig, ax = plt.subplots(1,3)\n",
        "\n",
        "# # for index, row in scratch_df.iterrows():\n",
        "\n",
        "# for index, row in scratch_df.iterrows():\n",
        "#   # print(index)\n",
        "#   plot_model_history_all(scratch_df.iloc[index][\"model_history\"], label=str(row[\"lambdas\"]))\n",
        "    "
      ],
      "metadata": {
        "id": "QDOE-VIObokY"
      },
      "execution_count": 40,
      "outputs": []
    },
    {
      "cell_type": "markdown",
      "source": [
        "\n",
        "\n",
        "```\n",
        "\n",
        "# Digging into a Dataframe by Column:\n",
        "\n",
        "#Importing pandas\n",
        "import pandas as pd\n",
        "\n",
        "#Creating a dataframe\n",
        "df = pd.DataFrame({\"A\": [1,2,3], \"B\": [4,5,6], \"C\": [7,8,9]})\n",
        "\n",
        "#Accessing column data by label\n",
        "column_a = df[\"A\"]\n",
        "\n",
        "#Printing the column data\n",
        "print(column_a)\n",
        "\n",
        "# Digging into a Dataframe by Row:\n",
        "  \n",
        "#Accessing row data by index\n",
        "row_1 = df.iloc[1]\n",
        "\n",
        "#Printing the row data\n",
        "print(row_1)\n",
        "\n",
        "# Digging into a Dataframe by Row and Column: \n",
        "\n",
        "#Accessing row and column data by index and label\n",
        "cell_1_a = df.iloc[1][\"A\"]\n",
        "\n",
        "#Printing the row and column data\n",
        "print(cell_1_a)\n",
        "```\n",
        "\n"
      ],
      "metadata": {
        "id": "hrf7MJVbjK4i"
      }
    },
    {
      "cell_type": "code",
      "source": [],
      "metadata": {
        "id": "eyBv8rlojM44"
      },
      "execution_count": 40,
      "outputs": []
    },
    {
      "cell_type": "markdown",
      "source": [
        "\n",
        "\n",
        "```\n",
        "\n",
        "df.groupby(\"cost\")\n",
        "\n",
        "for x, group in df.groupby(\"cost\"):\n",
        "  # fig = plt.figure(figsize=(20, 10)) \n",
        "  # fig, ax = plt.subplots(1,2)\n",
        "  print(\"Group of Lambda-Value:\",   x)\n",
        "\n",
        "  # group\n",
        "  for item in group.model_history:\n",
        "    plot_model_history_all(item)    \n",
        "  plt.show()\n",
        "  \n",
        "```\n",
        "\n"
      ],
      "metadata": {
        "id": "XdhEBb6Gj-za"
      }
    },
    {
      "cell_type": "markdown",
      "source": [
        "## Data Analysis as of Completing all 11 Runs and 2 Baselines with 3 reps each"
      ],
      "metadata": {
        "id": "xo2za1EMlmIK"
      }
    },
    {
      "cell_type": "code",
      "source": [
        "\n",
        "# import pandas as pd\n",
        "\n",
        "# df1 = pd.read_pickle('df (4).pkl')\n",
        "# df2 = pd.read_pickle('df (5).pkl')\n",
        "\n",
        "# df = pd.concat([df1, df2])\n",
        "# df = df.reset_index(drop=True)\n",
        " \n",
        "#I already combined the runs and saved as a pickle file into MyDrive so now I recover that file\n",
        "import pickle\n",
        "\n",
        "# Define the file path and name\n",
        "mypath = \"/content/drive/MyDrive/Con3/Exp_5bins_11Runs_40D_SGD_Lr0point1_diffSeedsPerRep/\"\n",
        "pickle_file = mypath + \"all_runs_as_dataframe.pkl\"\n",
        "\n",
        "# Load the pickle file\n",
        "with open(pickle_file, 'rb') as f:\n",
        "    df = pickle.load(f)\n",
        "\n",
        "# Now you can work with the loaded dataframe\n",
        "# For example, you can show the first five rows of the dataframe\n",
        "df.head()\n",
        "\n",
        "\n",
        "\n"
      ],
      "metadata": {
        "id": "O_qTth58Gcxk",
        "colab": {
          "base_uri": "https://localhost:8080/",
          "height": 1000
        },
        "outputId": "7b9b6794-7f7c-451d-aff9-4db658d06d55"
      },
      "execution_count": 41,
      "outputs": [
        {
          "output_type": "execute_result",
          "data": {
            "text/plain": [
              "   rep  bins           lambdas  \\\n",
              "0  0.0   5.0   [1, 1, 1, 1, 1]   \n",
              "1  1.0   5.0   [1, 1, 1, 1, 1]   \n",
              "2  2.0   5.0   [1, 1, 1, 1, 1]   \n",
              "3  0.0   5.0  [1, 1, 1, 1, 10]   \n",
              "4  1.0   5.0  [1, 1, 1, 1, 10]   \n",
              "\n",
              "                                       model_history  \\\n",
              "0  {'loss': [0.9456429481506348, 0.48608538508415...   \n",
              "1  {'loss': [0.9782470464706421, 0.51247084140777...   \n",
              "2  {'loss': [0.9994550347328186, 0.53002667427062...   \n",
              "3  {'loss': [0.9456429481506348, 0.48608544468879...   \n",
              "4  {'loss': [0.9782470464706421, 0.51247084140777...   \n",
              "\n",
              "  final_saved_weights_string  \\\n",
              "0            rep0_1_1_1_1_1_   \n",
              "1            rep1_1_1_1_1_1_   \n",
              "2            rep2_1_1_1_1_1_   \n",
              "3           rep0_1_1_1_1_10_   \n",
              "4           rep1_1_1_1_1_10_   \n",
              "\n",
              "                                                loss  \\\n",
              "0  [0.9456429481506348, 0.4860853850841522, 0.407...   \n",
              "1  [0.9782470464706421, 0.5124708414077759, 0.427...   \n",
              "2  [0.9994550347328186, 0.5300266742706299, 0.438...   \n",
              "3  [0.9456429481506348, 0.486085444688797, 0.4073...   \n",
              "4  [0.9782470464706421, 0.5124708414077759, 0.427...   \n",
              "\n",
              "                                categorical_accuracy  \\\n",
              "0  [0.6949666738510132, 0.854449987411499, 0.8777...   \n",
              "1  [0.685366690158844, 0.843833327293396, 0.87231...   \n",
              "2  [0.6777166724205017, 0.8369500041007996, 0.867...   \n",
              "3  [0.6949666738510132, 0.854449987411499, 0.8777...   \n",
              "4  [0.685366690158844, 0.843833327293396, 0.87231...   \n",
              "\n",
              "                                            val_loss  \\\n",
              "0  [0.3900302052497864, 0.31284916400909424, 0.26...   \n",
              "1  [0.4170288145542145, 0.32572802901268005, 0.28...   \n",
              "2  [0.4193570911884308, 0.33019378781318665, 0.28...   \n",
              "3  [0.3900302052497864, 0.31284916400909424, 0.26...   \n",
              "4  [0.41702884435653687, 0.32572802901268005, 0.2...   \n",
              "\n",
              "                            val_categorical_accuracy  \\\n",
              "0  [0.8893333077430725, 0.9082666635513306, 0.920...   \n",
              "1  [0.8845333456993103, 0.9050666689872742, 0.917...   \n",
              "2  [0.887066662311554, 0.9058666825294495, 0.9170...   \n",
              "3  [0.8893333077430725, 0.9082666635513306, 0.920...   \n",
              "4  [0.8845333456993103, 0.9050666689872742, 0.917...   \n",
              "\n",
              "                                               9T_4P  ...  \\\n",
              "0  [40, 32, 34, 27, 34, 14, 11, 18, 17, 12, 16, 1...  ...   \n",
              "1  [64, 66, 46, 22, 37, 15, 9, 12, 9, 22, 12, 16,...  ...   \n",
              "2  [36, 42, 41, 18, 31, 21, 10, 17, 12, 17, 25, 3...  ...   \n",
              "3  [40, 32, 34, 27, 34, 14, 11, 18, 17, 12, 16, 1...  ...   \n",
              "4  [64, 66, 46, 22, 37, 15, 9, 12, 9, 18, 13, 15,...  ...   \n",
              "\n",
              "                                              6T_Acc  \\\n",
              "0  [0.9263456090651558, 0.9348441926345609, 0.944...   \n",
              "1  [0.9305949008498584, 0.93342776203966, 0.93909...   \n",
              "2  [0.93342776203966, 0.9376770538243626, 0.92776...   \n",
              "3  [0.9263456090651558, 0.9348441926345609, 0.944...   \n",
              "4  [0.9305949008498584, 0.93342776203966, 0.93909...   \n",
              "\n",
              "                                              7T_Acc  \\\n",
              "0  [0.8569553805774278, 0.8976377952755905, 0.902...   \n",
              "1  [0.884514435695538, 0.8910761154855643, 0.9146...   \n",
              "2  [0.863517060367454, 0.910761154855643, 0.90288...   \n",
              "3  [0.8569553805774278, 0.8976377952755905, 0.902...   \n",
              "4  [0.884514435695538, 0.8910761154855643, 0.9146...   \n",
              "\n",
              "                                              8T_Acc  \\\n",
              "0  [0.8590971272229823, 0.8549931600547196, 0.868...   \n",
              "1  [0.8248974008207934, 0.8714090287277702, 0.857...   \n",
              "2  [0.8604651162790697, 0.8549931600547196, 0.859...   \n",
              "3  [0.8590971272229823, 0.8549931600547196, 0.868...   \n",
              "4  [0.8248974008207934, 0.8714090287277702, 0.857...   \n",
              "\n",
              "                                              9T_Acc  \\\n",
              "0  [0.8608582574772432, 0.8842652795838751, 0.880...   \n",
              "1  [0.7958387516254877, 0.8218465539661899, 0.850...   \n",
              "2  [0.8621586475942783, 0.8660598179453837, 0.879...   \n",
              "3  [0.8608582574772432, 0.8842652795838751, 0.880...   \n",
              "4  [0.7958387516254877, 0.8218465539661899, 0.850...   \n",
              "\n",
              "                                        cm_per_epoch  \\\n",
              "0  [[[692, 0, 2, 0, 0, 8, 12, 1, 4, 0, 0, 821, 2,...   \n",
              "1  [[[695, 0, 1, 0, 0, 7, 12, 1, 3, 0, 0, 825, 6,...   \n",
              "2  [[[696, 0, 0, 0, 1, 7, 10, 1, 4, 0, 0, 833, 2,...   \n",
              "3  [[[692, 0, 2, 0, 0, 8, 12, 1, 4, 0, 0, 821, 2,...   \n",
              "4  [[[695, 0, 1, 0, 0, 7, 12, 1, 3, 0, 0, 825, 6,...   \n",
              "\n",
              "                                            f1_micro  \\\n",
              "0  [0.8893333333333333, 0.9082666666666667, 0.920...   \n",
              "1  [0.8845333333333333, 0.9050666666666667, 0.917...   \n",
              "2  [0.8870666666666667, 0.9058666666666667, 0.917...   \n",
              "3  [0.8893333333333333, 0.9082666666666667, 0.920...   \n",
              "4  [0.8845333333333333, 0.9050666666666667, 0.917...   \n",
              "\n",
              "                                            f1_macro  \\\n",
              "0  [0.8882316895423983, 0.9072518662116483, 0.919...   \n",
              "1  [0.8823194816144022, 0.9039453346304072, 0.916...   \n",
              "2  [0.8850595642681671, 0.9044252079409356, 0.915...   \n",
              "3  [0.8882316895423983, 0.9072518662116483, 0.919...   \n",
              "4  [0.8823194816144022, 0.9039453346304072, 0.916...   \n",
              "\n",
              "                                         f1_weighted  \\\n",
              "0  [0.8891085314112255, 0.9079025892372772, 0.920...   \n",
              "1  [0.8834613877897937, 0.9047057870312513, 0.917...   \n",
              "2  [0.88651391511855, 0.9055499596598852, 0.91678...   \n",
              "3  [0.8891085314112255, 0.9079025892372772, 0.920...   \n",
              "4  [0.8834613877897937, 0.9047057870312513, 0.917...   \n",
              "\n",
              "                                      f1_notweighted             datetime  \n",
              "0  [[0.9434219495569189, 0.9469434832756631, 0.88...  2023-05-04 22:31:34  \n",
              "1  [[0.943652410047522, 0.9515570934256055, 0.878...  2023-05-04 22:34:24  \n",
              "2  [[0.9475833900612662, 0.9602305475504322, 0.88...  2023-05-04 22:37:12  \n",
              "3  [[0.9434219495569189, 0.9469434832756631, 0.88...  2023-05-04 22:40:01  \n",
              "4  [[0.943652410047522, 0.9515570934256055, 0.878...  2023-05-04 22:42:49  \n",
              "\n",
              "[5 rows x 27 columns]"
            ],
            "text/html": [
              "\n",
              "  <div id=\"df-c237868d-d5de-420f-a317-b2fe5b254e7a\">\n",
              "    <div class=\"colab-df-container\">\n",
              "      <div>\n",
              "<style scoped>\n",
              "    .dataframe tbody tr th:only-of-type {\n",
              "        vertical-align: middle;\n",
              "    }\n",
              "\n",
              "    .dataframe tbody tr th {\n",
              "        vertical-align: top;\n",
              "    }\n",
              "\n",
              "    .dataframe thead th {\n",
              "        text-align: right;\n",
              "    }\n",
              "</style>\n",
              "<table border=\"1\" class=\"dataframe\">\n",
              "  <thead>\n",
              "    <tr style=\"text-align: right;\">\n",
              "      <th></th>\n",
              "      <th>rep</th>\n",
              "      <th>bins</th>\n",
              "      <th>lambdas</th>\n",
              "      <th>model_history</th>\n",
              "      <th>final_saved_weights_string</th>\n",
              "      <th>loss</th>\n",
              "      <th>categorical_accuracy</th>\n",
              "      <th>val_loss</th>\n",
              "      <th>val_categorical_accuracy</th>\n",
              "      <th>9T_4P</th>\n",
              "      <th>...</th>\n",
              "      <th>6T_Acc</th>\n",
              "      <th>7T_Acc</th>\n",
              "      <th>8T_Acc</th>\n",
              "      <th>9T_Acc</th>\n",
              "      <th>cm_per_epoch</th>\n",
              "      <th>f1_micro</th>\n",
              "      <th>f1_macro</th>\n",
              "      <th>f1_weighted</th>\n",
              "      <th>f1_notweighted</th>\n",
              "      <th>datetime</th>\n",
              "    </tr>\n",
              "  </thead>\n",
              "  <tbody>\n",
              "    <tr>\n",
              "      <th>0</th>\n",
              "      <td>0.0</td>\n",
              "      <td>5.0</td>\n",
              "      <td>[1, 1, 1, 1, 1]</td>\n",
              "      <td>{'loss': [0.9456429481506348, 0.48608538508415...</td>\n",
              "      <td>rep0_1_1_1_1_1_</td>\n",
              "      <td>[0.9456429481506348, 0.4860853850841522, 0.407...</td>\n",
              "      <td>[0.6949666738510132, 0.854449987411499, 0.8777...</td>\n",
              "      <td>[0.3900302052497864, 0.31284916400909424, 0.26...</td>\n",
              "      <td>[0.8893333077430725, 0.9082666635513306, 0.920...</td>\n",
              "      <td>[40, 32, 34, 27, 34, 14, 11, 18, 17, 12, 16, 1...</td>\n",
              "      <td>...</td>\n",
              "      <td>[0.9263456090651558, 0.9348441926345609, 0.944...</td>\n",
              "      <td>[0.8569553805774278, 0.8976377952755905, 0.902...</td>\n",
              "      <td>[0.8590971272229823, 0.8549931600547196, 0.868...</td>\n",
              "      <td>[0.8608582574772432, 0.8842652795838751, 0.880...</td>\n",
              "      <td>[[[692, 0, 2, 0, 0, 8, 12, 1, 4, 0, 0, 821, 2,...</td>\n",
              "      <td>[0.8893333333333333, 0.9082666666666667, 0.920...</td>\n",
              "      <td>[0.8882316895423983, 0.9072518662116483, 0.919...</td>\n",
              "      <td>[0.8891085314112255, 0.9079025892372772, 0.920...</td>\n",
              "      <td>[[0.9434219495569189, 0.9469434832756631, 0.88...</td>\n",
              "      <td>2023-05-04 22:31:34</td>\n",
              "    </tr>\n",
              "    <tr>\n",
              "      <th>1</th>\n",
              "      <td>1.0</td>\n",
              "      <td>5.0</td>\n",
              "      <td>[1, 1, 1, 1, 1]</td>\n",
              "      <td>{'loss': [0.9782470464706421, 0.51247084140777...</td>\n",
              "      <td>rep1_1_1_1_1_1_</td>\n",
              "      <td>[0.9782470464706421, 0.5124708414077759, 0.427...</td>\n",
              "      <td>[0.685366690158844, 0.843833327293396, 0.87231...</td>\n",
              "      <td>[0.4170288145542145, 0.32572802901268005, 0.28...</td>\n",
              "      <td>[0.8845333456993103, 0.9050666689872742, 0.917...</td>\n",
              "      <td>[64, 66, 46, 22, 37, 15, 9, 12, 9, 22, 12, 16,...</td>\n",
              "      <td>...</td>\n",
              "      <td>[0.9305949008498584, 0.93342776203966, 0.93909...</td>\n",
              "      <td>[0.884514435695538, 0.8910761154855643, 0.9146...</td>\n",
              "      <td>[0.8248974008207934, 0.8714090287277702, 0.857...</td>\n",
              "      <td>[0.7958387516254877, 0.8218465539661899, 0.850...</td>\n",
              "      <td>[[[695, 0, 1, 0, 0, 7, 12, 1, 3, 0, 0, 825, 6,...</td>\n",
              "      <td>[0.8845333333333333, 0.9050666666666667, 0.917...</td>\n",
              "      <td>[0.8823194816144022, 0.9039453346304072, 0.916...</td>\n",
              "      <td>[0.8834613877897937, 0.9047057870312513, 0.917...</td>\n",
              "      <td>[[0.943652410047522, 0.9515570934256055, 0.878...</td>\n",
              "      <td>2023-05-04 22:34:24</td>\n",
              "    </tr>\n",
              "    <tr>\n",
              "      <th>2</th>\n",
              "      <td>2.0</td>\n",
              "      <td>5.0</td>\n",
              "      <td>[1, 1, 1, 1, 1]</td>\n",
              "      <td>{'loss': [0.9994550347328186, 0.53002667427062...</td>\n",
              "      <td>rep2_1_1_1_1_1_</td>\n",
              "      <td>[0.9994550347328186, 0.5300266742706299, 0.438...</td>\n",
              "      <td>[0.6777166724205017, 0.8369500041007996, 0.867...</td>\n",
              "      <td>[0.4193570911884308, 0.33019378781318665, 0.28...</td>\n",
              "      <td>[0.887066662311554, 0.9058666825294495, 0.9170...</td>\n",
              "      <td>[36, 42, 41, 18, 31, 21, 10, 17, 12, 17, 25, 3...</td>\n",
              "      <td>...</td>\n",
              "      <td>[0.93342776203966, 0.9376770538243626, 0.92776...</td>\n",
              "      <td>[0.863517060367454, 0.910761154855643, 0.90288...</td>\n",
              "      <td>[0.8604651162790697, 0.8549931600547196, 0.859...</td>\n",
              "      <td>[0.8621586475942783, 0.8660598179453837, 0.879...</td>\n",
              "      <td>[[[696, 0, 0, 0, 1, 7, 10, 1, 4, 0, 0, 833, 2,...</td>\n",
              "      <td>[0.8870666666666667, 0.9058666666666667, 0.917...</td>\n",
              "      <td>[0.8850595642681671, 0.9044252079409356, 0.915...</td>\n",
              "      <td>[0.88651391511855, 0.9055499596598852, 0.91678...</td>\n",
              "      <td>[[0.9475833900612662, 0.9602305475504322, 0.88...</td>\n",
              "      <td>2023-05-04 22:37:12</td>\n",
              "    </tr>\n",
              "    <tr>\n",
              "      <th>3</th>\n",
              "      <td>0.0</td>\n",
              "      <td>5.0</td>\n",
              "      <td>[1, 1, 1, 1, 10]</td>\n",
              "      <td>{'loss': [0.9456429481506348, 0.48608544468879...</td>\n",
              "      <td>rep0_1_1_1_1_10_</td>\n",
              "      <td>[0.9456429481506348, 0.486085444688797, 0.4073...</td>\n",
              "      <td>[0.6949666738510132, 0.854449987411499, 0.8777...</td>\n",
              "      <td>[0.3900302052497864, 0.31284916400909424, 0.26...</td>\n",
              "      <td>[0.8893333077430725, 0.9082666635513306, 0.920...</td>\n",
              "      <td>[40, 32, 34, 27, 34, 14, 11, 18, 17, 12, 16, 1...</td>\n",
              "      <td>...</td>\n",
              "      <td>[0.9263456090651558, 0.9348441926345609, 0.944...</td>\n",
              "      <td>[0.8569553805774278, 0.8976377952755905, 0.902...</td>\n",
              "      <td>[0.8590971272229823, 0.8549931600547196, 0.868...</td>\n",
              "      <td>[0.8608582574772432, 0.8842652795838751, 0.880...</td>\n",
              "      <td>[[[692, 0, 2, 0, 0, 8, 12, 1, 4, 0, 0, 821, 2,...</td>\n",
              "      <td>[0.8893333333333333, 0.9082666666666667, 0.920...</td>\n",
              "      <td>[0.8882316895423983, 0.9072518662116483, 0.919...</td>\n",
              "      <td>[0.8891085314112255, 0.9079025892372772, 0.920...</td>\n",
              "      <td>[[0.9434219495569189, 0.9469434832756631, 0.88...</td>\n",
              "      <td>2023-05-04 22:40:01</td>\n",
              "    </tr>\n",
              "    <tr>\n",
              "      <th>4</th>\n",
              "      <td>1.0</td>\n",
              "      <td>5.0</td>\n",
              "      <td>[1, 1, 1, 1, 10]</td>\n",
              "      <td>{'loss': [0.9782470464706421, 0.51247084140777...</td>\n",
              "      <td>rep1_1_1_1_1_10_</td>\n",
              "      <td>[0.9782470464706421, 0.5124708414077759, 0.427...</td>\n",
              "      <td>[0.685366690158844, 0.843833327293396, 0.87231...</td>\n",
              "      <td>[0.41702884435653687, 0.32572802901268005, 0.2...</td>\n",
              "      <td>[0.8845333456993103, 0.9050666689872742, 0.917...</td>\n",
              "      <td>[64, 66, 46, 22, 37, 15, 9, 12, 9, 18, 13, 15,...</td>\n",
              "      <td>...</td>\n",
              "      <td>[0.9305949008498584, 0.93342776203966, 0.93909...</td>\n",
              "      <td>[0.884514435695538, 0.8910761154855643, 0.9146...</td>\n",
              "      <td>[0.8248974008207934, 0.8714090287277702, 0.857...</td>\n",
              "      <td>[0.7958387516254877, 0.8218465539661899, 0.850...</td>\n",
              "      <td>[[[695, 0, 1, 0, 0, 7, 12, 1, 3, 0, 0, 825, 6,...</td>\n",
              "      <td>[0.8845333333333333, 0.9050666666666667, 0.917...</td>\n",
              "      <td>[0.8823194816144022, 0.9039453346304072, 0.916...</td>\n",
              "      <td>[0.8834613877897937, 0.9047057870312513, 0.917...</td>\n",
              "      <td>[[0.943652410047522, 0.9515570934256055, 0.878...</td>\n",
              "      <td>2023-05-04 22:42:49</td>\n",
              "    </tr>\n",
              "  </tbody>\n",
              "</table>\n",
              "<p>5 rows × 27 columns</p>\n",
              "</div>\n",
              "      <button class=\"colab-df-convert\" onclick=\"convertToInteractive('df-c237868d-d5de-420f-a317-b2fe5b254e7a')\"\n",
              "              title=\"Convert this dataframe to an interactive table.\"\n",
              "              style=\"display:none;\">\n",
              "        \n",
              "  <svg xmlns=\"http://www.w3.org/2000/svg\" height=\"24px\"viewBox=\"0 0 24 24\"\n",
              "       width=\"24px\">\n",
              "    <path d=\"M0 0h24v24H0V0z\" fill=\"none\"/>\n",
              "    <path d=\"M18.56 5.44l.94 2.06.94-2.06 2.06-.94-2.06-.94-.94-2.06-.94 2.06-2.06.94zm-11 1L8.5 8.5l.94-2.06 2.06-.94-2.06-.94L8.5 2.5l-.94 2.06-2.06.94zm10 10l.94 2.06.94-2.06 2.06-.94-2.06-.94-.94-2.06-.94 2.06-2.06.94z\"/><path d=\"M17.41 7.96l-1.37-1.37c-.4-.4-.92-.59-1.43-.59-.52 0-1.04.2-1.43.59L10.3 9.45l-7.72 7.72c-.78.78-.78 2.05 0 2.83L4 21.41c.39.39.9.59 1.41.59.51 0 1.02-.2 1.41-.59l7.78-7.78 2.81-2.81c.8-.78.8-2.07 0-2.86zM5.41 20L4 18.59l7.72-7.72 1.47 1.35L5.41 20z\"/>\n",
              "  </svg>\n",
              "      </button>\n",
              "      \n",
              "  <style>\n",
              "    .colab-df-container {\n",
              "      display:flex;\n",
              "      flex-wrap:wrap;\n",
              "      gap: 12px;\n",
              "    }\n",
              "\n",
              "    .colab-df-convert {\n",
              "      background-color: #E8F0FE;\n",
              "      border: none;\n",
              "      border-radius: 50%;\n",
              "      cursor: pointer;\n",
              "      display: none;\n",
              "      fill: #1967D2;\n",
              "      height: 32px;\n",
              "      padding: 0 0 0 0;\n",
              "      width: 32px;\n",
              "    }\n",
              "\n",
              "    .colab-df-convert:hover {\n",
              "      background-color: #E2EBFA;\n",
              "      box-shadow: 0px 1px 2px rgba(60, 64, 67, 0.3), 0px 1px 3px 1px rgba(60, 64, 67, 0.15);\n",
              "      fill: #174EA6;\n",
              "    }\n",
              "\n",
              "    [theme=dark] .colab-df-convert {\n",
              "      background-color: #3B4455;\n",
              "      fill: #D2E3FC;\n",
              "    }\n",
              "\n",
              "    [theme=dark] .colab-df-convert:hover {\n",
              "      background-color: #434B5C;\n",
              "      box-shadow: 0px 1px 3px 1px rgba(0, 0, 0, 0.15);\n",
              "      filter: drop-shadow(0px 1px 2px rgba(0, 0, 0, 0.3));\n",
              "      fill: #FFFFFF;\n",
              "    }\n",
              "  </style>\n",
              "\n",
              "      <script>\n",
              "        const buttonEl =\n",
              "          document.querySelector('#df-c237868d-d5de-420f-a317-b2fe5b254e7a button.colab-df-convert');\n",
              "        buttonEl.style.display =\n",
              "          google.colab.kernel.accessAllowed ? 'block' : 'none';\n",
              "\n",
              "        async function convertToInteractive(key) {\n",
              "          const element = document.querySelector('#df-c237868d-d5de-420f-a317-b2fe5b254e7a');\n",
              "          const dataTable =\n",
              "            await google.colab.kernel.invokeFunction('convertToInteractive',\n",
              "                                                     [key], {});\n",
              "          if (!dataTable) return;\n",
              "\n",
              "          const docLinkHtml = 'Like what you see? Visit the ' +\n",
              "            '<a target=\"_blank\" href=https://colab.research.google.com/notebooks/data_table.ipynb>data table notebook</a>'\n",
              "            + ' to learn more about interactive tables.';\n",
              "          element.innerHTML = '';\n",
              "          dataTable['output_type'] = 'display_data';\n",
              "          await google.colab.output.renderOutput(dataTable, element);\n",
              "          const docLink = document.createElement('div');\n",
              "          docLink.innerHTML = docLinkHtml;\n",
              "          element.appendChild(docLink);\n",
              "        }\n",
              "      </script>\n",
              "    </div>\n",
              "  </div>\n",
              "  "
            ]
          },
          "metadata": {},
          "execution_count": 41
        }
      ]
    },
    {
      "cell_type": "markdown",
      "source": [],
      "metadata": {
        "id": "10wrFh53jSWl"
      }
    },
    {
      "cell_type": "code",
      "source": [
        "# import pandas as pd\n",
        "\n",
        "# # Assuming your dataframe is called \"df\"\n",
        "\n",
        "# # Save dataframe as pickle file\n",
        "# df.to_pickle('dataframe.pkl')\n",
        "\n",
        "# # Download the pickle file in Google Colab\n",
        "# from google.colab import files\n",
        "# files.download('dataframe.pkl')\n"
      ],
      "metadata": {
        "id": "xW8I4jcyjjRj"
      },
      "execution_count": 42,
      "outputs": []
    },
    {
      "cell_type": "code",
      "source": [
        "# import pickle \n",
        "\n",
        "# with open(str(mydrive_path) + \"/\" + str('dataframe.pkl'), 'wb') as f:\n",
        "#     pickle.dump(df, f)\n",
        "# print('Dataframe Pickle file saved to: ', mydrive_path)"
      ],
      "metadata": {
        "id": "BJBlpae1klEv"
      },
      "execution_count": 43,
      "outputs": []
    },
    {
      "cell_type": "code",
      "source": [
        "df['lambdas'].value_counts()"
      ],
      "metadata": {
        "id": "x9LRH980GpSB",
        "outputId": "5ea1e9b2-16b9-4ad0-e45b-5a6ec1c77a5f",
        "colab": {
          "base_uri": "https://localhost:8080/"
        }
      },
      "execution_count": 44,
      "outputs": [
        {
          "output_type": "execute_result",
          "data": {
            "text/plain": [
              "[1, 1, 1, 1, 1]              3\n",
              "[1, 1, 1, 1, 10]             3\n",
              "[1, 1, 1, 1, 100]            3\n",
              "[1, 1, 1, 10, 1]             3\n",
              "[1, 1, 1, 100, 1]            3\n",
              "[1, 1, 10, 1, 1]             3\n",
              "[1, 1, 100, 1, 1]            3\n",
              "[1, 10, 1, 1, 1]             3\n",
              "[1, 100, 1, 1, 1]            3\n",
              "[10, 1, 1, 1, 1]             3\n",
              "[100, 1, 1, 1, 1]            3\n",
              "[10, 10, 10, 10, 10]         3\n",
              "[100, 100, 100, 100, 100]    3\n",
              "Name: lambdas, dtype: int64"
            ]
          },
          "metadata": {},
          "execution_count": 44
        }
      ]
    },
    {
      "cell_type": "markdown",
      "source": [
        "I have three replicates for each of the 11 runs, and the two other baselines with all 10s and all 100s.  We want to know, is there a differene when training the neural network with different weights at different times.  For example, is it better to give a lot of weight to the misclassification you do not want to happen while you train the neural network early on, or is it better to let the neural network train generally first and then increase the weight, and then let it to settle down?  Of course the answer \"depends\" on what you care about.  Unfortunately we're not sure what we really care about  😆   we care about Overall Accuracy, and OVerall rate of misclassifications, but we don't have a set percentage in mind.  We just know we want the overall accuracy to remain as high as possible, and the overall rate of misclassification to remain as low as possible.   It seems that you could create different multiple objective functions using these facts, but at the moment we are just exploring the art of the possible with Cost-of-Misclassifications. "
      ],
      "metadata": {
        "id": "0GUnv7PMQiQD"
      }
    },
    {
      "cell_type": "markdown",
      "source": [
        "So there's at least two schools of thought. One is to put all your emphasis on the misclassifications, so you can lower that.   In this world, we put a weight-of-misclassification of \"100\" on misclassifying 9s as 4s.  That is run '100, 100, 100, 100, 100' because all bins train with the highest weight of misclassification.  \n",
        "\n",
        "\n",
        "ChatGPT on how to search for an array inside a dataframe:\n",
        "\n",
        "```\n",
        "import pandas as pd\n",
        "import numpy as np\n",
        "\n",
        "# Create a sample dataframe\n",
        "df = pd.DataFrame({\n",
        "    'lambdas': [[1, 1, 1, 1, 1], [1, 2, 3, 4, 5], [1, 1, 1, 1, 1], [2, 2, 2, 2, 2]],\n",
        "    'values': [10, 20, 30, 40]\n",
        "})\n",
        "\n",
        "# Define the array to match\n",
        "target_array = np.array([1, 1, 1, 1, 1])\n",
        "\n",
        "# Filter rows where the \"lambdas\" column matches the target array\n",
        "filtered_df = df.loc[df['lambdas'].apply(lambda x: np.array_equal(x, target_array))]\n",
        "\n",
        "print(filtered_df)\n",
        "```\n"
      ],
      "metadata": {
        "id": "eQxDZX7WRg58"
      }
    },
    {
      "cell_type": "code",
      "source": [
        "# Define the array to match\n",
        "target_array = np.array([100, 100, 100, 100, 100])\n",
        "\n",
        "# Filter rows where the \"lambdas\" column matches the target array\n",
        "filtered_df = df.loc[df['lambdas'].apply(lambda x: np.array_equal(x, target_array))]\n",
        "\n",
        "print(filtered_df.columns)"
      ],
      "metadata": {
        "id": "ojzf8Gd-P8DU",
        "outputId": "7d78e5bc-d3bb-4332-950e-60e605fd27fd",
        "colab": {
          "base_uri": "https://localhost:8080/"
        }
      },
      "execution_count": 45,
      "outputs": [
        {
          "output_type": "stream",
          "name": "stdout",
          "text": [
            "Index(['rep', 'bins', 'lambdas', 'model_history', 'final_saved_weights_string',\n",
            "       'loss', 'categorical_accuracy', 'val_loss', 'val_categorical_accuracy',\n",
            "       '9T_4P', '4T_9P', '0T_Acc', '1T_Acc', '2T_Acc', '3T_Acc', '4T_Acc',\n",
            "       '5T_Acc', '6T_Acc', '7T_Acc', '8T_Acc', '9T_Acc', 'cm_per_epoch',\n",
            "       'f1_micro', 'f1_macro', 'f1_weighted', 'f1_notweighted', 'datetime'],\n",
            "      dtype='object')\n"
          ]
        }
      ]
    },
    {
      "cell_type": "markdown",
      "source": [
        "FilteredDataFrame now consists of just the Run with all 100s.  What do we know about these three runs?\n",
        "\n",
        "* What epoch would early stop normally stop if not Epoch 110?  It would be the epoch where early stop, given a patience level, does not detect a decrease in validation-error over a certain number of epochs.\n",
        "* What is the mean for all the replicates for the validation set for all recorded metrics?"
      ],
      "metadata": {
        "id": "sGy_i05QiF4U"
      }
    },
    {
      "cell_type": "code",
      "source": [
        "import pandas as pd\n",
        "import matplotlib.pyplot as plt\n",
        "import numpy as np\n",
        "\n",
        "# Assuming you have a dataframe called 'filtered_df' with a column named 'val_loss'\n",
        "\n",
        "# Define the column name\n",
        "column_name = 'val_loss'\n",
        "\n",
        "# Initialize lists to store minimum indexes and minimum losses\n",
        "min_indexes = []\n",
        "min_losses = []\n",
        "reps = []\n",
        "\n",
        "\n",
        "\n",
        "# Initialize an array to store the values for mean line\n",
        "mean_values = np.zeros(110)  # Assuming there are 110 epochs\n",
        "\n",
        "\n",
        "# Iterate over each row in the dataframe\n",
        "for row_index, row in filtered_df.iterrows():\n",
        "    # Get the array of values from the current row and column\n",
        "    values = row[column_name]\n",
        "    rep_value = int(row['rep'])\n",
        "    color = plt.get_cmap('tab10')(rep_value % 10)\n",
        "\n",
        "    # Create an array for the x-axis (epochs)\n",
        "    epochs = np.arange(1, len(values) + 1)\n",
        "\n",
        "    # Plot the array of values\n",
        "    plt.plot(epochs, values, label=f'Rep {rep_value}', color=color)\n",
        "\n",
        "    # Find the index of the minimum 'val_loss' value\n",
        "    min_index = np.argmin(values)\n",
        "    min_loss = round(values[min_index], 4)\n",
        "\n",
        "    # Annotate the minimum value Epoch point on the graph\n",
        "    plt.annotate(f'{epochs[min_index]}', xy=(epochs[min_index],min_loss),\n",
        "                 xytext=(epochs[min_index], 0.05), fontsize=10, color=color,\n",
        "                 #arrowprops=dict(facecolor='black', arrowstyle='->')\n",
        "                 )\n",
        "\n",
        "    # Add scatter plot markers for the minimum index and minimum loss\n",
        "    plt.scatter(epochs[min_index], values[min_index], color=color, marker='o')\n",
        "\n",
        "    \n",
        "    # Append the minimum index and minimum loss to the lists\n",
        "    min_indexes.append(epochs[min_index])\n",
        "    min_losses.append(min_loss)\n",
        "    reps.append(rep_value)\n",
        "\n",
        "    # Accumulate values for mean line\n",
        "    mean_values += values\n",
        "\n",
        "# Calculate the mean values\n",
        "mean_values /= len(filtered_df)\n",
        "\n",
        "# Plot the mean line\n",
        "plt.plot(epochs, mean_values, color='black', linestyle='--', label='Mean')\n",
        "\n",
        "\n",
        "# Find the index of the minimum value in mean_values\n",
        "mean_min_index = np.argmin(mean_values)\n",
        "mean_min_loss = round(mean_values[mean_min_index], 2)\n",
        "\n",
        "# Annotate the minimum value of the mean line on the graph\n",
        "plt.annotate(f'{epochs[mean_min_index]}', xy=(epochs[mean_min_index], mean_values[mean_min_index]),\n",
        "             xytext=(epochs[mean_min_index], 0.05),\n",
        "            #  arrowprops=dict(facecolor='black', arrowstyle='->')\n",
        "            )\n",
        "\n",
        "# Add scatter plot marker for the minimum value of the mean line\n",
        "plt.scatter(epochs[mean_min_index], mean_values[mean_min_index], color='black', marker='o',  zorder=10)\n",
        "# plt.scatter(epochs[mean_min_index], mean_values[mean_min_index], color='pink', edgecolor='black', marker='o', s=100, zorder=10)\n",
        "\n",
        "\n",
        "# Set the x-axis limits starting from 0\n",
        "plt.xlim(0)\n",
        "\n",
        "\n",
        "# Adding labels and title\n",
        "plt.xlabel('Epoch')\n",
        "plt.ylabel('Validation Loss')\n",
        "plt.title('Validation Loss for Each Row in Column {}'.format(column_name))\n",
        "\n",
        "# Add legend\n",
        "plt.legend()\n",
        "\n",
        "# Display the plot\n",
        "plt.show()\n",
        "\n",
        "# Return the lists of minimum indexes and minimum losses\n",
        "print(f'The minimum validation loss occurs at the epochs: {min_indexes} for reps {reps}')\n",
        "# min_indexes, min_losses\n",
        "print(\"mean_min_loss: \", mean_min_loss)\n",
        "print(\"epochs[mean_min_index]: \", epochs[mean_min_index])\n",
        "print(\"mean_values[mean_min_index]: \",  mean_values[mean_min_index])\n"
      ],
      "metadata": {
        "id": "YEuCb_GC9jOy",
        "outputId": "4a17d201-9242-4bdb-dd0f-4ff4d17d81a3",
        "colab": {
          "base_uri": "https://localhost:8080/",
          "height": 541
        }
      },
      "execution_count": 57,
      "outputs": [
        {
          "output_type": "display_data",
          "data": {
            "text/plain": [
              "<Figure size 640x480 with 1 Axes>"
            ],
            "image/png": "[encoded data removed]"
          },
          "metadata": {}
        },
        {
          "output_type": "stream",
          "name": "stdout",
          "text": [
            "The minimum validation loss occurs at the epochs: [105, 89, 83] for reps [0, 1, 2]\n",
            "mean_min_loss:  0.17\n",
            "epochs[mean_min_index]:  93\n",
            "mean_values[mean_min_index]:  0.17301376163959503\n"
          ]
        }
      ]
    },
    {
      "cell_type": "markdown",
      "source": [],
      "metadata": {
        "id": "en3rlFJ958V2"
      }
    },
    {
      "cell_type": "code",
      "source": [
        "epochs[min_index], values[min_index]-1"
      ],
      "metadata": {
        "id": "C3-P38v5lNRv",
        "outputId": "ec6007d3-1e86-44e2-c88a-fe84ade6f813",
        "colab": {
          "base_uri": "https://localhost:8080/"
        }
      },
      "execution_count": 47,
      "outputs": [
        {
          "output_type": "execute_result",
          "data": {
            "text/plain": [
              "(83, -0.8640581369400024)"
            ]
          },
          "metadata": {},
          "execution_count": 47
        }
      ]
    }
  ]
}