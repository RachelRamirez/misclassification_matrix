{
  "nbformat": 4,
  "nbformat_minor": 0,
  "metadata": {
    "colab": {
      "provenance": [],
      "machine_shape": "hm",
      "history_visible": true,
      "include_colab_link": true
    },
    "language_info": {
      "name": "python"
    },
    "kernelspec": {
      "name": "python3",
      "display_name": "Python 3"
    },
    "gpuClass": "standard"
  },
  "cells": [
    {
      "cell_type": "markdown",
      "metadata": {
        "id": "view-in-github",
        "colab_type": "text"
      },
      "source": [
        "<a href=\"https://colab.research.google.com/github/RachelRamirez/misclassification_matrix/blob/main/Analyzing_Exp_5Bins_11Runs_40D_with_SGD_LR_0point1_DiffInitSeedsperRep_plus_Baselines.ipynb\" target=\"_parent\"><img src=\"https://colab.research.google.com/assets/colab-badge.svg\" alt=\"Open In Colab\"/></a>"
      ]
    },
    {
      "cell_type": "markdown",
      "source": [],
      "metadata": {
        "id": "45kERInVLIQg"
      }
    },
    {
      "cell_type": "code",
      "source": [
        "from google.colab import drive\n",
        "drive.mount('/content/drive')\n",
        "mydrive_path = \"/content/drive/MyDrive/Con3/Exp_5bins_11Runs_40D_SGD_Lr0point1_diffSeedsPerRep\"\n",
        "\n"
      ],
      "metadata": {
        "id": "O2LZXfDynjLX",
        "outputId": "a1d835bc-ce00-4b09-b6d4-b065122a4a07",
        "colab": {
          "base_uri": "https://localhost:8080/"
        }
      },
      "execution_count": 66,
      "outputs": [
        {
          "output_type": "stream",
          "name": "stdout",
          "text": [
            "Drive already mounted at /content/drive; to attempt to forcibly remount, call drive.mount(\"/content/drive\", force_remount=True).\n"
          ]
        }
      ]
    },
    {
      "cell_type": "code",
      "source": [
        "#@title\n",
        "# How to change the local time in Google Colab\n",
        "!rm /etc/localtime\n",
        "!ln -s /usr/share/zoneinfo/US/Eastern /etc/localtime\n",
        "!date\n",
        "\n",
        "#If this doesn't show the local time correctly, then you need to restart.\n",
        "import time\n",
        "time.localtime(time.time())\n",
        "\n",
        "import datetime\n",
        "\n",
        "# get current date and time\n",
        "now = datetime.datetime.now()"
      ],
      "metadata": {
        "colab": {
          "base_uri": "https://localhost:8080/"
        },
        "outputId": "328c1838-e417-4134-f1c0-4b2bc0610b8e",
        "id": "bmXq1t0jROYK"
      },
      "execution_count": 67,
      "outputs": [
        {
          "output_type": "stream",
          "name": "stdout",
          "text": [
            "Thu 11 May 2023 12:12:09 PM EDT\n"
          ]
        }
      ]
    },
    {
      "metadata": {
        "id": "0-F4eTC8ROYK"
      },
      "source": [
        "We'll start by writing a `.py` file which we'll import."
      ],
      "cell_type": "markdown"
    },
    {
      "cell_type": "code",
      "source": [
        "#@title\n",
        "# import ImportLibraries_DefineFunctions\n",
        "import requests\n",
        "url = 'https://raw.githubusercontent.com/RachelRamirez/misclassification_matrix/main/ImportLibraries_DefineFunctions.py'\n",
        "r = requests.get(url)\n",
        "\n",
        "\n",
        "# make sure your filename is the same as how you want to import \n",
        "with open('ImportLibraries_DefineFunctions.py', 'w') as f:\n",
        "    f.write(r.text)\n",
        "\n",
        "# now we can import\n"
      ],
      "metadata": {
        "id": "GLOmUMNMS133"
      },
      "execution_count": 68,
      "outputs": []
    },
    {
      "metadata": {
        "colab": {
          "base_uri": "https://localhost:8080/"
        },
        "outputId": "db50696e-4d0d-4671-b8a9-0328763d4963",
        "id": "G9HBGqzDROYL"
      },
      "source": [
        "#@title\n",
        "# #@title\n",
        "# # Bring the file into the local Python environment.\n",
        "execfile('ImportLibraries_DefineFunctions.py')\n",
        "\n",
        "# Call the function defined in the file.\n",
        "# f()\n",
        "time.localtime(time.time())"
      ],
      "cell_type": "code",
      "execution_count": 69,
      "outputs": [
        {
          "output_type": "stream",
          "name": "stdout",
          "text": [
            "TF version:  2.12.0\n",
            "Keras version:  2.12.0\n",
            "Finished Loading Libraries\n",
            "60000 train samples\n",
            "7500 validation samples\n",
            "2500 test samples\n",
            "Train [0.09871667 0.11236667 0.0993     0.10218333 0.09736667 0.09035\n",
            " 0.09863333 0.10441667 0.09751666 0.09915   ]\n",
            "Train # of 9s 5949.0\n",
            "Train # of 4s 5842.0\n",
            "Val [0.09586667 0.1132     0.10453334 0.10066666 0.09986667 0.09013333\n",
            " 0.09413333 0.1016     0.09746667 0.10253333]\n",
            "Val # of 9s 769.0\n",
            "Val # of 4s 749.0\n",
            "Test [0.1044 0.1144 0.0992 0.102  0.0932 0.0864 0.1008 0.1064 0.0972 0.096 ]\n",
            "Test  # of 9s 240.0\n",
            "Test  # of 4s 233.0\n"
          ]
        },
        {
          "output_type": "execute_result",
          "data": {
            "text/plain": [
              "time.struct_time(tm_year=2023, tm_mon=5, tm_mday=11, tm_hour=12, tm_min=12, tm_sec=10, tm_wday=3, tm_yday=131, tm_isdst=1)"
            ]
          },
          "metadata": {},
          "execution_count": 69
        }
      ]
    },
    {
      "cell_type": "code",
      "source": [
        "#@title\n",
        "# #As of 4/18 I am changing this code to save weights initially after five epochs using lambdavalue=1 initially\n",
        "\n",
        "# rms = RMSprop()  #https://keras.io/api/optimizers/rmsprop/ #default learning_rate=0.001\n",
        "sgd = SGD(learning_rate=0.1)\n",
        "\n",
        "patience = 0\n",
        "\n",
        "\n",
        "# SET THE IITIAL LAMBDA VALUE! \n",
        "cost_matrix = np.ones((10,10))\n",
        "lambda_val = 1\n",
        "\n",
        "Truth=9\n",
        "Predicted=4\n",
        "cost_matrix[Truth, Predicted] = lambda_val\n",
        "\n",
        "\n",
        "# # Define the per-epoch callback.\n",
        "cm_callback = tf.keras.callbacks.LambdaCallback(on_epoch_end=log_confusion_matrix, )\n",
        "# cr_callback = tf.keras.callbacks.LambdaCallback(on_epoch_end=log_classification_report, )\n",
        "# es_callback = tf.keras.callbacks.EarlyStopping(monitor='val_loss', patience=patience, verbose=1, restore_best_weights = True)\n",
        "\n",
        "\n",
        "\n",
        "\n",
        "\n",
        "# ## Examples from TDS\n",
        "# from tensorflow.keras.callbacks import LambdaCallback\n",
        "# epoch_callback = LambdaCallback(\n",
        "#     on_epoch_begin=lambda epoch,logs: print('Starting Epoch {}!'.format(epoch+1))\n",
        "# )\n",
        "# batch_loss_callback = LambdaCallback(\n",
        "#     on_batch_end=lambda batch,logs: print('\\n After batch {}, the loss is {:7.2f}.'.format(batch, logs['loss']))\n",
        "# )\n",
        "# train_finish_callback = LambdaCallback(\n",
        "#     on_train_end=lambda logs: print('Training finished!')\n",
        "# )\n",
        "\n",
        "# # Lambda function using if else & else if\n",
        "# min = lambda a, b, c : f\"{a} is smaller\" if(a < b & b < c) \\\n",
        "#      else f\"{b} is smaller\"  if (b < c) else f\"{c} is smaller\" \n",
        "# print(min(40, 30, 10))\n",
        "\n",
        "epoch_callback = tf.keras.callbacks.LambdaCallback(on_epoch_end = lambda epoch,logs: \n",
        "                                                   print(' Epoch {} complete {}...'.format(epoch+1), end=\" \")  if(epoch+1)%10==0 else print(\"\", end=\" \")  )\n",
        "\n",
        "\n",
        "# cr_callback = tf.keras.callbacks.LambdaCallback(on_epoch_end= lambda epoch, logs:\n",
        "# #                                                log_classification_report(epoch, logs) if(epoch+1)%5==0 else print(\" \") )\n",
        "#                                               #  return_cr if(epoch+1)%5==0 else print(\" \") )\n",
        "\n",
        "\n",
        "f1_callback = tf.keras.callbacks.LambdaCallback(on_epoch_end=log_f1_score)\n",
        "\n",
        "\n",
        "# model = create_model()\n",
        "\n",
        "# # save the model weights\n",
        "# model.save_weights('initial_0epochs.h5')\n",
        "\n",
        "# model.compile(loss=WeightedCategoricalCrossentropy(cost_matrix), optimizer=sgd,  metrics='categorical_accuracy',)\n",
        "\n",
        "# model_history = model.fit(X_train, Y_train,  batch_size=batch_size, epochs=10, verbose=2,\n",
        "# #         validation_data=(X_val, Y_val), shuffle=True, use_multiprocessing=True, callbacks = [ cm_callback, f1_callback])\n",
        "\n",
        "# model.save_weights('initial_10epochs.h5')\n",
        "\n",
        " \n",
        "# cr = return_cr(model)\n",
        "!date\n"
      ],
      "metadata": {
        "id": "-QcJ3LplOkww",
        "colab": {
          "base_uri": "https://localhost:8080/"
        },
        "outputId": "f88a4142-2749-4830-fdcb-4776d269a773"
      },
      "execution_count": 47,
      "outputs": [
        {
          "output_type": "stream",
          "name": "stdout",
          "text": [
            "Thu 11 May 2023 12:11:54 PM EDT\n"
          ]
        }
      ]
    },
    {
      "cell_type": "code",
      "source": [
        "# model.load_weights('initial_10epochs.h5') \n"
      ],
      "metadata": {
        "id": "ImMl-yPWPfT0"
      },
      "execution_count": 48,
      "outputs": []
    },
    {
      "cell_type": "markdown",
      "source": [
        "The code below to generate variations of the model training / validation results after training with a cost matrix 30 times did not produce any variability.   Therefore I want to shuffle the training/validation deck randomly between training sessions to see if that helps introduce some randomness.  "
      ],
      "metadata": {
        "id": "RLYZ6gR4WjKi"
      }
    },
    {
      "cell_type": "markdown",
      "source": [
        "#### The Training Runs - Commented out to ensure not run again when the notebook is saved with output"
      ],
      "metadata": {
        "id": "V_lUeeXP2Q5L"
      }
    },
    {
      "cell_type": "markdown",
      "source": [
        "This takes hours to run for about 40 replications so usually after running, I save the out put to GitHub for easy lookup later"
      ],
      "metadata": {
        "id": "owkJgwju2a52"
      }
    },
    {
      "cell_type": "code",
      "source": [
        "# #@title\n",
        "# from google.colab import files\n",
        "\n",
        "# ## -----------------------------------------------------------------------------------------------------\n",
        "# ## Now we need to load the weights of the model, and continue training with a different cost matrix\n",
        "# ## ------------------------------------------------------------------------------------------------------\n",
        "# # load the model weights\n",
        "# # model.load_weights('initial_5epochs.h5') \n",
        "\n",
        "# df = pd.DataFrame()\n",
        "# cost_matrix = np.ones((10,10))\n",
        "\n",
        "# model_history_all = []\n",
        "# cm_all            = []\n",
        "\n",
        "# cost_list = [10, 100, 1000] # Each one takes about 2 minutes 5*4*2=40 minutes for 5 costs/4 reps -- actually all took 40 reps took almost  1.5 hours\n",
        "# reps = 1\n",
        "\n",
        "# for k in cost_list:\n",
        "#   for r in range(reps):\n",
        "#     print(\"starting rep \", i, \" for \", k , \"-cost.\")\n",
        "\n",
        "#     cost_matrix[9,4] = k\n",
        "#     model = create_model(r)\n",
        "\n",
        "#     model.load_weights('initial_0epochs.h5')\n",
        "\n",
        "#     #I may need to re-initiate the optimizer to have a smaller learning rate\n",
        "#     model.compile(loss=WeightedCategoricalCrossentropy(cost_matrix), optimizer=sgd,  metrics='categorical_accuracy',)\n",
        "    \n",
        "#     nb_epoch = 110\n",
        "#     # patience = 20\n",
        "\n",
        "#     # es_callback = tf.keras.callbacks.EarlyStopping(monitor='val_loss', patience=patience, verbose=1, restore_best_weights = True)\n",
        "\n",
        "#     X_train_shuffled = shuffle(X_train, random_state=42 + r )\n",
        "#     Y_train_shuffled = shuffle(Y_train, random_state=42 + r)\n",
        " \n",
        "\n",
        "#     history = model.fit(X_train_shuffled, Y_train_shuffled,          batch_size=batch_size, epochs=nb_epoch, verbose=0,\n",
        "#             validation_data=(X_val, Y_val), shuffle=True, use_multiprocessing=True, callbacks = [ cm_callback, f1_callback, epoch_callback])\n",
        "\n",
        "#     cm3 = return_cm(model)\n",
        "\n",
        "#     del(history.model)\n",
        "#     model_history_all.append(history)\n",
        "#     cm_all.append(cm3)\n",
        "#     ## Now I need to plot all of the \"model_history_all\"\n",
        " \n",
        "  \n",
        "#     df = pd.concat([df, pd.DataFrame({\"cost\": k, \"rep\": r ,\n",
        "#                                       \"model_history\": [history],\n",
        "#                                       \"cm\": [cm3]\n",
        "#                                       })] , \n",
        "#                    ignore_index=True )\n",
        "\n",
        "#     import pickle\n",
        "\n",
        "#     # save the variable to a pickle file\n",
        "#     with open('diffcosts_models_lr0point1.pkl', 'wb') as f:\n",
        "#         pickle.dump(model_history_all, f)\n",
        "\n",
        "#     files.download('diffcosts_models_lr0point1.pkl')\n",
        "\n",
        "#     with open('diffcosts_cms_lr0point1.pkl', 'wb') as f:\n",
        "#         pickle.dump(cm_all, f)\n",
        "\n",
        "#     files.download('diffcosts_cms_lr0point1.pkl')\n",
        "#     !date\n",
        "#     df_string = \"df_lr0point1_K\" + str(k) + \"_R\" + str( r ) + \".pkl\" \n",
        "\n",
        "#     #Trying to Work Smarter and Save as Dataframe with Rep Cost History and CM\n",
        "#     with open(df_string, 'wb') as f:\n",
        "#         pickle.dump(df, f)\n",
        "\n",
        "#     files.download(df_string)\n",
        "\n",
        "\n",
        "\n",
        "\n",
        "#   # print(model_history_all) #18 items into _ is taking 1 hours and 3 minutes!  perhaps im not usng the right settings - i have no-accelerator on google colab\n",
        "# print(df_string, \" is final dataframe file\")"
      ],
      "metadata": {
        "id": "ZFgEx-T-fg28",
        "collapsed": true
      },
      "execution_count": 49,
      "outputs": []
    },
    {
      "cell_type": "markdown",
      "source": [
        "##### What actually downloaded \n",
        "\n",
        "df_lr0point1_K1000_R29.pkl  is final dataframe file but didn't save to Downloads.  I need to add code to have it download to my Google Drive so this doesn't happen again.  These appear to be the  last files downloaded (its hard to tell because they all download at the same time, instead of the time they are requested to be downloaded.  For example i have 30 diff files that downloaded exactly at 0330:\n",
        "\n",
        "* df_lr0point1_K1000_R9.pkl (20 reps missing? or did this turn out to be 19 reps?)\n",
        "* diffcosts_models_lr0point1 (32).pkl  (because i don't add an extension like the data frame the pickle files just keep downloading with new suffixes.\n",
        "* diffcosts_cms_lr0point1 (23).pkl   \n",
        "\n"
      ],
      "metadata": {
        "id": "es9m50uaxvP6"
      }
    },
    {
      "cell_type": "code",
      "source": [
        "    # # save the variable to a pickle file\n",
        "    # with open('baseline_models_lr0point1.pkl', 'wb') as f:\n",
        "    #     pickle.dump(model_history_all, f)\n",
        "\n",
        "    # files.download('baseline_models_lr0point1.pkl')\n",
        "\n",
        "    # with open('baseline_cms_lr0point1.pkl', 'wb') as f:\n",
        "    #     pickle.dump(cm_all, f)\n",
        "\n",
        "    # files.download('baseline_cms_lr0point1.pkl')"
      ],
      "metadata": {
        "id": "APH12P-AQ5bP"
      },
      "execution_count": 50,
      "outputs": []
    },
    {
      "cell_type": "markdown",
      "source": [
        "#### Download the multiple runs and reps of Model History from training with different lambda values\n",
        "\n",
        "\n",
        "Also commented out because once everything is ran and saved, I don't want to accidentally save additional files"
      ],
      "metadata": {
        "id": "7z0g0vdr2w05"
      }
    },
    {
      "cell_type": "markdown",
      "source": [
        "#### Load Model History Variables from Pickle Files - must have weighted-categorical-accuracy defined"
      ],
      "metadata": {
        "id": "WPmV3ALQcsjS"
      }
    },
    {
      "cell_type": "code",
      "source": [
        "# #Upload and save the history to variable \n",
        "# import pickle\n",
        "\n",
        "# # # #load the pickle file\n",
        "# # with open('baseline_models_lr0point1.pkl', 'rb') as handle:\n",
        "# #     model_history_all = pickle.load(handle)\n",
        "\n",
        "# # # import keras\n",
        "# # # keras.models.load_model('initial_10_secondphase_lambda_history.pkl')\n",
        "# # #use the loaded variable\n",
        "# # print(model_history_all)\n",
        "\n",
        "# # # #load the pickle file\n",
        "# # with open('baseline_cms_lr0point1.pkl', 'rb') as handle:\n",
        "# #     cm_all = pickle.load(handle)\n",
        "\n",
        "# # # use the loaded variable\n",
        "# # print(cm_all)\n",
        "\n",
        "# # df_string = 'df_lr0point1_K1000_R9.pkl'\n",
        "\n",
        "# # #load the pickle file\n",
        "# with open(df_string, 'rb') as handle:\n",
        "#     df = pickle.load(handle)\n",
        "\n",
        "\n",
        "\n",
        "  \n",
        "#   # save the variable to a pickle file\n",
        "#   with open('diffcosts_models_lr0point1 (31).pkl', 'rb') as handle:\n",
        "#     model_history_all  = pickle.load(handle)\n",
        "\n",
        " \n",
        "#   with open('diffcosts_cms_lr0point1.pkl',  'rb') as handle:\n",
        "#    cm_all  = pickle.load(handle)\n",
        "\n",
        " \n",
        "\n",
        "# # use the loaded variable\n",
        "# print(df)\n",
        " "
      ],
      "metadata": {
        "id": "dXFoZGvVZ1oE"
      },
      "execution_count": 51,
      "outputs": []
    },
    {
      "cell_type": "code",
      "source": [
        "# # #I want to break out the model_history and cm_history into a dataframe to be referenced by Cost and Rep\n",
        "# # import pandas as pd\n",
        "# # df = pd.DataFrame()\n",
        "# # count=1\n",
        "\n",
        "\n",
        "# # #It'd be better if i could refer to the \"cost\"/lambda2 as a variable in the model_history, \n",
        "# # # but i recreated it here\n",
        "# # # \n",
        "# # # cost_list = [10, 100, 1000, 1] # Each one takes about 2 minutes 5*4*2=40 minutes for 5 costs/4 reps -- actually all took 40 reps took almost  1.5 hours\n",
        "\n",
        "# # cost_list = [ 1]\n",
        "\n",
        "# # for k in cost_list:\n",
        "\n",
        "  \n",
        "# # #It'd be better if i could refer to the reps a variable in the model_history, \n",
        "# # # but i recreated it here as the range(10) that was originally used\n",
        "\n",
        "# #   for i in range(30):\n",
        "# #     # print(\"k: \", k, \"i: \", i)\n",
        "# #     df = pd.concat([df, pd.DataFrame({\"cost\": [k], \"rep\": [i],\n",
        "# #                                       \"model_history\": [model_history_all[count-1]],\n",
        "# #                                       # \"cm\": [cm_all[count-1]]\n",
        "# #                                       })] , \n",
        "# #                    ignore_index=True )\n",
        "# #     count+=1    \n",
        "\n",
        "\n",
        "# # I create a dataframe with CSV but  don't save/download it \n",
        "# df.to_csv('dataframe.csv',index=False)\n",
        "\n"
      ],
      "metadata": {
        "id": "JgxsbrcEPiEa"
      },
      "execution_count": 52,
      "outputs": []
    },
    {
      "cell_type": "code",
      "source": [
        "# import matplotlib.pyplot as plt\n",
        "# import numpy as np\n",
        "# import seaborn as sns\n",
        "\n",
        "# import time\n",
        "# nb_epoch = 110\n",
        "# patience = 0\n",
        "# df.groupby(\"cost\")\n",
        "\n",
        "# for x, group in df.groupby(\"cost\"):\n",
        "#   # fig = plt.figure(figsize=(20, 10)) \n",
        "#   # fig, ax = plt.subplots(1,2)\n",
        "#   print(\"Group of Lambda-Value:\",   x)\n",
        "\n",
        "#   # group\n",
        "#   for item in group.model_history:\n",
        "#     plot_model_history_all(item)    \n",
        "#   plt.show()\n",
        "  "
      ],
      "metadata": {
        "id": "S8nf629kPiEb"
      },
      "execution_count": 53,
      "outputs": []
    },
    {
      "cell_type": "code",
      "source": [
        "# df[\"model_history\"][0].history.keys()\n",
        "# # "
      ],
      "metadata": {
        "id": "ocYFlDuP9qbL"
      },
      "execution_count": 54,
      "outputs": []
    },
    {
      "cell_type": "markdown",
      "source": [
        "The plots  look very similar.  The loss values, even with shuffling, are nearly identical at least within 0.01 for the first three epochs of runs 1 and 2 (haven't checked all, but the plot makes it look like the runs are nearly identical)"
      ],
      "metadata": {
        "id": "cnKubJqKCXOW"
      }
    },
    {
      "cell_type": "code",
      "source": [
        "# df[\"model_history\"][2].history[\"val_loss\"][0] - df[\"model_history\"][1].history[\"val_loss\"][0]\n",
        "# df[\"model_history\"][2].history[\"val_loss\"][1] - df[\"model_history\"][1].history[\"val_loss\"][1]\n",
        "# df[\"model_history\"][2].history[\"val_loss\"][2] - df[\"model_history\"][1].history[\"val_loss\"][2]"
      ],
      "metadata": {
        "id": "xRS1JJpl_yOq"
      },
      "execution_count": 55,
      "outputs": []
    },
    {
      "cell_type": "code",
      "source": [
        "# import matplotlib.pyplot as plt\n",
        "# import seaborn as sns\n"
      ],
      "metadata": {
        "id": "5orz3_QVDJws"
      },
      "execution_count": 56,
      "outputs": []
    },
    {
      "cell_type": "markdown",
      "source": [
        "What is the highest misclassification?\n",
        "\n"
      ],
      "metadata": {
        "id": "HFEuhKt4DST1"
      }
    },
    {
      "cell_type": "code",
      "source": [
        "# for i in range(len(df[\"model_history\"])):\n",
        "#   print(i)\n",
        "#   cm = df[\"model_history\"][i].history[\"cm_per_epoch\"][-1].reshape((10,10))\n",
        "#   # cm = cm.reshape((10,10))\n",
        "  \n",
        "\n",
        "#   # Create figure and axes\n",
        "#   fig, ax = plt.subplots(figsize=(7, 7))\n",
        "\n",
        "\n",
        "#   cm3_wodiag = pd.DataFrame(cm*(np.ones((10,10)) - np.eye(10)))\n",
        "#   plt.xlabel('Predicted Class')\n",
        "#   plt.ylabel('True Class')\n",
        "#   plt.title('# of misclassifications of 9 as 4 is '+str(cm[9][4]) + ' reverse misclass is ' + str(cm[4][9])  ) \n",
        "#   sns.heatmap(cm3_wodiag, annot=True, annot_kws={\"size\": 7},  fmt='g', cmap=sns.cm.rocket_r, cbar=False) # font size\n",
        "#   plt.show()\n",
        "\n",
        "\n",
        "\n",
        "\n",
        "  \n",
        "  "
      ],
      "metadata": {
        "id": "KnjvWQjxDYAC"
      },
      "execution_count": 57,
      "outputs": []
    },
    {
      "cell_type": "markdown",
      "source": [
        "Average Misclassification Confusion Plot"
      ],
      "metadata": {
        "id": "fmbcFQcfhdyz"
      }
    },
    {
      "cell_type": "code",
      "source": [
        "# cm_sum = 0\n",
        "\n",
        "# for i in range(len(df[\"model_history\"])):\n",
        "#   # print(i)\n",
        "#   cm_sum += df[\"model_history\"][i].history[\"cm_per_epoch\"][-1].reshape((10,10))\n",
        "#   # print(cm_sum)\n",
        "\n",
        "# cm_average = cm_sum/(len(df[\"model_history\"]))\n",
        "# # print(cm_average)\n",
        "\n",
        "# # Create figure and axes\n",
        "# fig, ax = plt.subplots(figsize=(7, 7))\n",
        "\n",
        "\n",
        "# cm3_wodiag = pd.DataFrame(cm_average*(np.ones((10,10)) - np.eye(10)))\n",
        "# plt.xlabel('Predicted Class')\n",
        "# plt.ylabel('True Class')\n",
        "# plt.title('# of Average misclassifications of 9 as 4 is '+str(cm3_wodiag[4][9]) + ' reverse misclass is ' + str(cm3_wodiag[9][4])  ) \n",
        "# sns.heatmap(cm3_wodiag, annot=True, annot_kws={\"size\": 7},  fmt='.1f', cmap=sns.cm.rocket_r, cbar=False) # font size\n",
        "# plt.show()\n",
        "\n",
        "\n",
        "# plt.xlabel('Predicted Class')\n",
        "# plt.ylabel('True Class')\n",
        "# plt.title('# of Average misclassifications of 9 as 4 is '+str(cm_average[9][4]) + ' reverse misclass is ' + str(cm_average[4][9]) ) \n",
        "# sns.heatmap(cm_average, annot=True, annot_kws={\"size\": 7},  fmt='.1f', cmap=sns.cm.rocket_r, cbar=False) # font size\n",
        "# plt.show()\n",
        "\n",
        "\n",
        "# #The notation for digging into a dataframe versus a numpy array is reversed / its horribly confusing/ but it is  listed above correctly\n",
        "\n",
        "\n"
      ],
      "metadata": {
        "id": "fX4B3dPAhdhn"
      },
      "execution_count": 58,
      "outputs": []
    },
    {
      "cell_type": "code",
      "source": [
        "# for i in range(len(df[\"model_history\"])):\n",
        "#   plot_model_history(df[\"model_history\"][i], 110, df[\"model_history\"][i].history[\"cm_per_epoch\"][-1].reshape((10,10)))\n",
        "\n",
        "#   plt.gcf().set_size_inches(10, 5)  # this works \n",
        "#   # plt.gcf().suptitle(f\"Lambda Value {lambda_val} for {nb_epoch} Epochs and Patience {patience} \" )\n",
        "\n",
        "  \n",
        "\n",
        "\n",
        "\n"
      ],
      "metadata": {
        "id": "xkH6R_LyMOWN"
      },
      "execution_count": 59,
      "outputs": []
    },
    {
      "cell_type": "code",
      "source": [
        "# df[\"model_history\"][0].history[\"cm_per_epoch\"][-1].reshape((10,10))\n",
        "\n",
        "# # \n",
        "# #The 30th rep has 10 misclassified 9s as 4s \n",
        "# # df[\"model_history\"][29].history[\"cm_per_epoch\"][-1].reshape((10,10))[9][4]\n"
      ],
      "metadata": {
        "id": "PPlXeHqyVvNT"
      },
      "execution_count": 60,
      "outputs": []
    },
    {
      "cell_type": "markdown",
      "source": [
        "Statistics"
      ],
      "metadata": {
        "id": "75g_dXG5go_c"
      }
    },
    {
      "cell_type": "code",
      "source": [
        "# # Needs to be re-done for multiple costs!\n",
        "\n",
        "# for x, group in df.groupby(\"cost\"):\n",
        "  \n",
        "#   print(\" -------------- \")\n",
        "\n",
        "#   print(\"Group of Lambda-Value:\",   x)\n",
        "\n",
        "#   print(\"The minimum Validation Loss occurred at the following epochs for the reps\")\n",
        "\n",
        "\n",
        "#   for index in group.index:  \n",
        "#     print(\"index\", index)\n",
        "#     sum_9T_4P = 0\n",
        "#     sum_4T_9P = 0\n",
        "#     for rep in range(1,len(group)+1):\n",
        "#       print(\" -------------- \")\n",
        "\n",
        "#       # for epoch in range(len(group[\"model_history\"][index].history[\"val_loss\"])):\n",
        "#       #   print(\"Epoch:\", epoch)\n",
        "#       # print(\"The minimum Validation Loss occurred at the following epochs for the reps\")\n",
        "\n",
        "#       # for epoch_num in range(len(group[\"model_history\"][index].history[\"val_loss\"])):  #This tells you how many epochs there are\n",
        "#       print(\"Cost: \", k,  \"Rep:\", rep,  end=\"\\t\")\n",
        "#       print(\"Epoch: \", np.argmin(group[\"model_history\"][index].history[\"val_loss\"]), end=\"\\t\")\n",
        "#       print(\"CM_9T_4P at that epoch: \",  group[\"model_history\"][index].history[\"cm_per_epoch\"][np.argmin(group[\"model_history\"][index].history[\"val_loss\"])].reshape((10,10))[9][4]     , end=\"\\t\")\n",
        "#       print(\"CM_4T_9P at that epoch: \",  group[\"model_history\"][index].history[\"cm_per_epoch\"][np.argmin(group[\"model_history\"][index].history[\"val_loss\"])].reshape((10,10))[4][9]     )\n",
        "\n",
        "\n",
        "\n",
        "#       sum_9T_4P += group[\"model_history\"][index].history[\"cm_per_epoch\"][np.argmin(group[\"model_history\"][index].history[\"val_loss\"])].reshape((10,10))[9][4]  \n",
        "#       sum_4T_9P += group[\"model_history\"][index].history[\"cm_per_epoch\"][np.argmin(group[\"model_history\"][index].history[\"val_loss\"])].reshape((10,10))[4][9]  \n",
        "\n",
        "\n",
        "#     print(\"The average misclassifications of 9 as 4 if Early Stopping Took place: \", sum_9T_4P/len(group[\"model_history\"]),   \"\\t \", ((sum_9T_4P/len(group[\"model_history\"]))/np.sum(cm_all, axis=2)[0][9])*100 , \"percent\"   )\n",
        "#     print(\"The average reverse misclassifications of 4 as 9 if Early Stopping Took place: \", sum_4T_9P/len(group[\"model_history\"]),   \"\\t \", ((sum_4T_9P/len(group[\"model_history\"]))/np.sum(cm_all, axis=2)[0][4])*100 , \"percent\"   )\n",
        "\n",
        "\n",
        "#       # sum_94 = 0\n",
        "#       # sum_49 = 0\n",
        "\n",
        "#       # # for epoch_num in range(len(group[\"model_history\"][rep].history[\"val_loss\"])):  #This tells you how many epochs there are\n",
        "#       # #     # print(cm_all[j][9][4])\n",
        "#       # sum_49 += group[\"model_history\"][epoch].history[\"cm_per_epoch\"][-1].reshape((10,10))[4][9]\n",
        "#       # sum_94 += group[\"model_history\"][rep].history[\"cm_per_epoch\"][-1].reshape((10,10))[9][4]\n",
        "\n",
        "#       #     # print(sum_cm)\n",
        "\n",
        "#     print(\" -------------- \")\n",
        "#       # print(\"The average misclassifications if taken out to the last training epoch: \", sum_94/len(cm_all), \"\\t \", (sum_94/np.sum(cm_all, axis=2)[0][9])*100 , \"percent\"   )\n",
        "#       # print(\"The average reverse misclassifications if taken out to the last training epoch: \", sum_49/len(cm_all), \"\\t \", (sum_49/len(cm_all)/np.sum(cm_all, axis=2)[0][4])*100 , \"percent\"   )\n",
        "\n",
        "#       # # Val # of 9s 769.0\n",
        "#       # #Get the original total number of 9s in the Val Set\n",
        "#       # np.sum(cm_all, axis=2)[0][9]\n",
        "\n",
        "#       # # Val # of 4s 749.0\n",
        "#       # np.sum(cm_all, axis=2)[0][4]\n"
      ],
      "metadata": {
        "id": "MUOJz-RNWB3P"
      },
      "execution_count": 61,
      "outputs": []
    },
    {
      "cell_type": "markdown",
      "source": [
        "Taking the Average Confusion Matrix using the last confusion matrix per epoch, (per cost), divided by reps"
      ],
      "metadata": {
        "id": "YWFb0D2a-2Dw"
      }
    },
    {
      "cell_type": "code",
      "source": [
        "# for k, group in df.groupby(\"cost\"):  \n",
        "#   print(\" -------------- \")\n",
        "#   print(\"Group of Lambda-Value:\",   k)\n",
        "\n",
        "#   # print(group.index)\n",
        "#   # print(group) \n",
        "  \n",
        "#   total_cm_per_rep = np.zeros((10,10))\n",
        "#   for index in group.index:\n",
        "#     print(\"Index:\",   index) \n",
        "\n",
        "\n",
        "#     # for epoch in range(len(group[\"model_history\"][index].history[\"val_loss\"])):\n",
        "#     #   # print(\"index: \", index, \"cost: \", k, \"rep: \", rep)\n",
        "#     total_cm_per_rep += (group[\"model_history\"][index].history[\"cm_per_epoch\"][-1].reshape((10,10)))\n",
        "#     # print(total_cm_per_rep)\n",
        "#   print(pd.DataFrame(total_cm_per_rep/len(group.index)))"
      ],
      "metadata": {
        "id": "eynAYI4I0sMK"
      },
      "execution_count": 62,
      "outputs": []
    },
    {
      "cell_type": "code",
      "source": [
        "\n",
        "# for k, group in df.groupby(\"cost\"):\n",
        "  \n",
        "#   print(\" -------------- \")\n",
        "\n",
        "#   print(\"Group of Lambda-Value:\",   k)\n",
        "\n",
        "#   # print(group.index)\n",
        "#   # print(group)\n",
        "#   for index in group.index:\n",
        "#     print(index)\n",
        "#     for rep in range(1,len(group)+1):\n",
        "#       print(\"Rep: \", rep)\n",
        "       \n",
        "\n",
        "\n",
        "#       for epoch in range(len(group[\"model_history\"][index].history[\"cm_per_epoch\"])):\n",
        "#         # print(\"index: \", index, \"cost: \", k, \"rep: \", rep, \"epochs: \", epoch) #\"last cm:\", group[\"model_history\"][index].history[\"cm_per_epoch\"][rep].reshape((10,10)))\n",
        "#         # print(\"epoch: \", epoch)\n",
        "\n",
        "\n"
      ],
      "metadata": {
        "id": "UxyaZCMSqDvE"
      },
      "execution_count": 63,
      "outputs": []
    },
    {
      "cell_type": "markdown",
      "source": [
        "Scratch"
      ],
      "metadata": {
        "id": "-4sFk2MGQmc2"
      }
    },
    {
      "cell_type": "code",
      "source": [
        "# # list1 = [0,0,0,0,1]\n",
        "# list1 = [0,1,0,0,0]\n",
        "\n",
        "\n",
        "# count = 1\n",
        "# prev_lambda_value = list1[0]\n",
        "# print(\"Initialize model with lambda: \", prev_lambda_value)\n",
        "\n",
        "\n",
        "# for lambda_value in list1:\n",
        "\n",
        "#     print(\"Bin: \", count, \" \", end=\"\")\n",
        "\n",
        "#     if lambda_value != prev_lambda_value:\n",
        "#         print(f\"lambda_value {lambda_value} is different than previous lambda_value {prev_lambda_value} so save current weights and then compile with weight {lambda_value}\")\n",
        "\n",
        "#     else:\n",
        "#       print(f\"lambda_value {lambda_value} is equal to previous lambda_value {prev_lambda_value} so continue training {lambda_value}\")\n",
        "      \n",
        "\n",
        "#     count+=1\n",
        "#     prev_lambda_value = lambda_value"
      ],
      "metadata": {
        "id": "xE5h97BhQlOI"
      },
      "execution_count": 64,
      "outputs": []
    },
    {
      "cell_type": "markdown",
      "source": [
        "If I want to continue training with the current cost_matrix this seems to work\n",
        "\n",
        "```\n",
        "\n",
        "model = create_model(0)\n",
        "# save the model weights\n",
        "model.save_weights('initial_0epochs.h5')\n",
        "model.compile(loss=WeightedCategoricalCrossentropy(cost_matrix), optimizer=sgd,  metrics='categorical_accuracy',)\n",
        "\n",
        "model_history = model.fit(X_train, Y_train,  batch_size=batch_size, epochs=2, verbose=2,\n",
        "         validation_data=(X_val, Y_val), shuffle=True, use_multiprocessing=True, callbacks = [ cm_callback, f1_callback])\n",
        "\n",
        "model.save_weights('initial_2epochs.h5')\n",
        "\n",
        " \n",
        "#Continue Training with no change\n",
        "model_history2 = model.fit(X_train, Y_train,  batch_size=batch_size, epochs=2, verbose=2,\n",
        "         validation_data=(X_val, Y_val), shuffle=True, use_multiprocessing=True, callbacks = [ cm_callback, f1_callback])\n",
        "\n",
        "model.save_weights('initial2_lambda_next2_lambda.h5')```\n",
        "\n"
      ],
      "metadata": {
        "id": "k3HuHB9JSg3_"
      }
    },
    {
      "cell_type": "markdown",
      "source": [
        "To switch the cost-matrix and then continue training thsi seems to work\n",
        "\n",
        "```\n",
        "model = create_model(0)\n",
        "# save the model weights\n",
        "model.save_weights('initial_0epochs.h5')\n",
        "model.compile(loss=WeightedCategoricalCrossentropy(cost_matrix), optimizer=sgd,  metrics='categorical_accuracy',)\n",
        "\n",
        "model_history = model.fit(X_train, Y_train,  batch_size=batch_size, epochs=2, verbose=2,\n",
        "         validation_data=(X_val, Y_val), shuffle=True, use_multiprocessing=True, callbacks = [ cm_callback, f1_callback])\n",
        "\n",
        "model.save_weights('initial_2epochs.h5')\n",
        "\n",
        "model = create_model(0)\n",
        "cost_matrix[Truth, Predicted] = 100\n",
        "model.compile(loss=WeightedCategoricalCrossentropy(cost_matrix), optimizer=sgd,  metrics='categorical_accuracy',)\n",
        "model.load_weights('initial_2epochs.h5')\n",
        " \n",
        "#Continue Training with no change\n",
        "model_history2 = model.fit(X_train, Y_train,  batch_size=batch_size, epochs=2, verbose=2,\n",
        "         validation_data=(X_val, Y_val), shuffle=True, use_multiprocessing=True, callbacks = [ cm_callback, f1_callback])\n",
        "\n",
        "model.save_weights('initial2_1_next2_100.h5')\n",
        "```\n",
        "\n"
      ],
      "metadata": {
        "id": "BkNBqaTFTMWw"
      }
    },
    {
      "cell_type": "code",
      "source": [],
      "metadata": {
        "id": "K9pov0y1SlgQ"
      },
      "execution_count": 64,
      "outputs": []
    },
    {
      "cell_type": "markdown",
      "source": [
        "#### Scratch work"
      ],
      "metadata": {
        "id": "RfzPcxGZZVlL"
      }
    },
    {
      "cell_type": "code",
      "source": [
        "from google.colab import drive\n",
        "drive.mount('/content/drive')\n",
        "mydrive_path = \"/content/drive/MyDrive/Con3/Exp_5bins_11Runs_40D_SGD_Lr0point1_diffSeedsPerRep/\"\n",
        "\n",
        "\n",
        "from google.colab import files\n"
      ],
      "metadata": {
        "id": "eI0JDKbpoEWa",
        "outputId": "9667b959-d9f8-491c-c71d-518c9c460d68",
        "colab": {
          "base_uri": "https://localhost:8080/",
          "height": 380
        }
      },
      "execution_count": 65,
      "outputs": [
        {
          "output_type": "error",
          "ename": "KeyboardInterrupt",
          "evalue": "ignored",
          "traceback": [
            "\u001b[0;31m---------------------------------------------------------------------------\u001b[0m",
            "\u001b[0;31mKeyboardInterrupt\u001b[0m                         Traceback (most recent call last)",
            "\u001b[0;32m<ipython-input-65-d410a8e20158>\u001b[0m in \u001b[0;36m<cell line: 2>\u001b[0;34m()\u001b[0m\n\u001b[1;32m      1\u001b[0m \u001b[0;32mfrom\u001b[0m \u001b[0mgoogle\u001b[0m\u001b[0;34m.\u001b[0m\u001b[0mcolab\u001b[0m \u001b[0;32mimport\u001b[0m \u001b[0mdrive\u001b[0m\u001b[0;34m\u001b[0m\u001b[0;34m\u001b[0m\u001b[0m\n\u001b[0;32m----> 2\u001b[0;31m \u001b[0mdrive\u001b[0m\u001b[0;34m.\u001b[0m\u001b[0mmount\u001b[0m\u001b[0;34m(\u001b[0m\u001b[0;34m'/content/drive'\u001b[0m\u001b[0;34m)\u001b[0m\u001b[0;34m\u001b[0m\u001b[0;34m\u001b[0m\u001b[0m\n\u001b[0m\u001b[1;32m      3\u001b[0m \u001b[0mmydrive_path\u001b[0m \u001b[0;34m=\u001b[0m \u001b[0;34m\"/content/drive/MyDrive/Con3/Exp_5bins_11Runs_40D_SGD_Lr0point1_diffSeedsPerRep/\"\u001b[0m\u001b[0;34m\u001b[0m\u001b[0;34m\u001b[0m\u001b[0m\n\u001b[1;32m      4\u001b[0m \u001b[0;34m\u001b[0m\u001b[0m\n\u001b[1;32m      5\u001b[0m \u001b[0;34m\u001b[0m\u001b[0m\n",
            "\u001b[0;32m/usr/local/lib/python3.10/dist-packages/google/colab/drive.py\u001b[0m in \u001b[0;36mmount\u001b[0;34m(mountpoint, force_remount, timeout_ms, readonly)\u001b[0m\n\u001b[1;32m    101\u001b[0m \u001b[0;32mdef\u001b[0m \u001b[0mmount\u001b[0m\u001b[0;34m(\u001b[0m\u001b[0mmountpoint\u001b[0m\u001b[0;34m,\u001b[0m \u001b[0mforce_remount\u001b[0m\u001b[0;34m=\u001b[0m\u001b[0;32mFalse\u001b[0m\u001b[0;34m,\u001b[0m \u001b[0mtimeout_ms\u001b[0m\u001b[0;34m=\u001b[0m\u001b[0;36m120000\u001b[0m\u001b[0;34m,\u001b[0m \u001b[0mreadonly\u001b[0m\u001b[0;34m=\u001b[0m\u001b[0;32mFalse\u001b[0m\u001b[0;34m)\u001b[0m\u001b[0;34m:\u001b[0m\u001b[0;34m\u001b[0m\u001b[0;34m\u001b[0m\u001b[0m\n\u001b[1;32m    102\u001b[0m   \u001b[0;34m\"\"\"Mount your Google Drive at the specified mountpoint path.\"\"\"\u001b[0m\u001b[0;34m\u001b[0m\u001b[0;34m\u001b[0m\u001b[0m\n\u001b[0;32m--> 103\u001b[0;31m   return _mount(\n\u001b[0m\u001b[1;32m    104\u001b[0m       \u001b[0mmountpoint\u001b[0m\u001b[0;34m,\u001b[0m\u001b[0;34m\u001b[0m\u001b[0;34m\u001b[0m\u001b[0m\n\u001b[1;32m    105\u001b[0m       \u001b[0mforce_remount\u001b[0m\u001b[0;34m=\u001b[0m\u001b[0mforce_remount\u001b[0m\u001b[0;34m,\u001b[0m\u001b[0;34m\u001b[0m\u001b[0;34m\u001b[0m\u001b[0m\n",
            "\u001b[0;32m/usr/local/lib/python3.10/dist-packages/google/colab/drive.py\u001b[0m in \u001b[0;36m_mount\u001b[0;34m(mountpoint, force_remount, timeout_ms, ephemeral, readonly)\u001b[0m\n\u001b[1;32m    130\u001b[0m   )\n\u001b[1;32m    131\u001b[0m   \u001b[0;32mif\u001b[0m \u001b[0mephemeral\u001b[0m\u001b[0;34m:\u001b[0m\u001b[0;34m\u001b[0m\u001b[0;34m\u001b[0m\u001b[0m\n\u001b[0;32m--> 132\u001b[0;31m     _message.blocking_request(\n\u001b[0m\u001b[1;32m    133\u001b[0m         \u001b[0;34m'request_auth'\u001b[0m\u001b[0;34m,\u001b[0m \u001b[0mrequest\u001b[0m\u001b[0;34m=\u001b[0m\u001b[0;34m{\u001b[0m\u001b[0;34m'authType'\u001b[0m\u001b[0;34m:\u001b[0m \u001b[0;34m'dfs_ephemeral'\u001b[0m\u001b[0;34m}\u001b[0m\u001b[0;34m,\u001b[0m \u001b[0mtimeout_sec\u001b[0m\u001b[0;34m=\u001b[0m\u001b[0;32mNone\u001b[0m\u001b[0;34m\u001b[0m\u001b[0;34m\u001b[0m\u001b[0m\n\u001b[1;32m    134\u001b[0m     )\n",
            "\u001b[0;32m/usr/local/lib/python3.10/dist-packages/google/colab/_message.py\u001b[0m in \u001b[0;36mblocking_request\u001b[0;34m(request_type, request, timeout_sec, parent)\u001b[0m\n\u001b[1;32m    174\u001b[0m       \u001b[0mrequest_type\u001b[0m\u001b[0;34m,\u001b[0m \u001b[0mrequest\u001b[0m\u001b[0;34m,\u001b[0m \u001b[0mparent\u001b[0m\u001b[0;34m=\u001b[0m\u001b[0mparent\u001b[0m\u001b[0;34m,\u001b[0m \u001b[0mexpect_reply\u001b[0m\u001b[0;34m=\u001b[0m\u001b[0;32mTrue\u001b[0m\u001b[0;34m\u001b[0m\u001b[0;34m\u001b[0m\u001b[0m\n\u001b[1;32m    175\u001b[0m   )\n\u001b[0;32m--> 176\u001b[0;31m   \u001b[0;32mreturn\u001b[0m \u001b[0mread_reply_from_input\u001b[0m\u001b[0;34m(\u001b[0m\u001b[0mrequest_id\u001b[0m\u001b[0;34m,\u001b[0m \u001b[0mtimeout_sec\u001b[0m\u001b[0;34m)\u001b[0m\u001b[0;34m\u001b[0m\u001b[0;34m\u001b[0m\u001b[0m\n\u001b[0m",
            "\u001b[0;32m/usr/local/lib/python3.10/dist-packages/google/colab/_message.py\u001b[0m in \u001b[0;36mread_reply_from_input\u001b[0;34m(message_id, timeout_sec)\u001b[0m\n\u001b[1;32m     94\u001b[0m     \u001b[0mreply\u001b[0m \u001b[0;34m=\u001b[0m \u001b[0m_read_next_input_message\u001b[0m\u001b[0;34m(\u001b[0m\u001b[0;34m)\u001b[0m\u001b[0;34m\u001b[0m\u001b[0;34m\u001b[0m\u001b[0m\n\u001b[1;32m     95\u001b[0m     \u001b[0;32mif\u001b[0m \u001b[0mreply\u001b[0m \u001b[0;34m==\u001b[0m \u001b[0m_NOT_READY\u001b[0m \u001b[0;32mor\u001b[0m \u001b[0;32mnot\u001b[0m \u001b[0misinstance\u001b[0m\u001b[0;34m(\u001b[0m\u001b[0mreply\u001b[0m\u001b[0;34m,\u001b[0m \u001b[0mdict\u001b[0m\u001b[0;34m)\u001b[0m\u001b[0;34m:\u001b[0m\u001b[0;34m\u001b[0m\u001b[0;34m\u001b[0m\u001b[0m\n\u001b[0;32m---> 96\u001b[0;31m       \u001b[0mtime\u001b[0m\u001b[0;34m.\u001b[0m\u001b[0msleep\u001b[0m\u001b[0;34m(\u001b[0m\u001b[0;36m0.025\u001b[0m\u001b[0;34m)\u001b[0m\u001b[0;34m\u001b[0m\u001b[0;34m\u001b[0m\u001b[0m\n\u001b[0m\u001b[1;32m     97\u001b[0m       \u001b[0;32mcontinue\u001b[0m\u001b[0;34m\u001b[0m\u001b[0;34m\u001b[0m\u001b[0m\n\u001b[1;32m     98\u001b[0m     if (\n",
            "\u001b[0;31mKeyboardInterrupt\u001b[0m: "
          ]
        }
      ]
    },
    {
      "cell_type": "code",
      "source": [
        "def save_tf_model_weights(model, file_string):\n",
        "\n",
        "    final_weights = file_string + \".h5\"\n",
        "    model.save_weights(final_weights)\n",
        "\n",
        "    weights = model.get_weights()\n",
        "\n",
        "    # df = pd.DataFrame(weights)\n",
        "\n",
        "    # csv_file_name = file_string + \".csv\"\n",
        "    pkl_file_name = file_string + \".pkl\"\n",
        "\n",
        "\n",
        "    # df.to_csv(csv_file_name, index=False)\n",
        "\n",
        "\n",
        "    # with open(pkl_file_name, 'wb') as f:\n",
        "        # pickle.dump(weights, f)\n",
        "    # print('Model weights saved to CSV and Pickle files.')\n",
        "\n",
        "    with open(str(mydrive_path) + str(pkl_file_name), 'wb') as f:\n",
        "        pickle.dump(weights, f)\n",
        "    print('Model Pickle file saved to: ', mydrive_path)\n",
        "\n",
        "\n",
        "    model.save_weights(str(mydrive_path) + str(final_weights))\n",
        "    print('Model weights saved to: ', mydrive_path)\n",
        "\n",
        "\n",
        "\n",
        "    \n",
        "    \n"
      ],
      "metadata": {
        "id": "GKZ7NHnR1ujM"
      },
      "execution_count": null,
      "outputs": []
    },
    {
      "cell_type": "code",
      "source": [
        "# SET THE IITIAL LAMBDA VALUE! \n",
        "cost_matrix = np.ones((10,10))\n",
        "lambda_val = 1\n",
        "\n",
        "Truth=9\n",
        "Predicted=4\n",
        "cost_matrix[Truth, Predicted] = lambda_val"
      ],
      "metadata": {
        "id": "VLdJgBNiqxF8"
      },
      "execution_count": null,
      "outputs": []
    },
    {
      "cell_type": "code",
      "source": [
        "#Import\n",
        "import pandas as pd \n",
        "import pickle\n",
        "\n",
        "\n",
        "#Define 11 Test Runs:\n",
        "list1=[1,1,1,1,1]\n",
        "list2=[1,1,1,1,10]\n",
        "list3=[1,1,1,1,100]\n",
        "list4=[1,1,1,10,1]\n",
        "list5=[1,1,1,100,1]\n",
        "list6=[1,1,10,1,1]\n",
        "list7=[1,1,100,1,1]\n",
        "list8=[1,10,1,1,1]\n",
        "list9=[1,100,1,1,1]\n",
        "list10=[10,1,1,1,1]\n",
        "list11=[100,1,1,1,1]\n",
        "\n",
        "\n",
        "#List all 11 Test Runs in Array:\n",
        "# list_of_test_runs = [list2]\n",
        "\n",
        "list_of_test_runs = [list1,list2,list3,list4,list5,list6,list7,list8,list9,list10,list11]          #<<<<< CHANGE BACK\n",
        "\n",
        "\n",
        "\n",
        "\n",
        "#Create dataframe to store all the information\n",
        "data = {'rep': [], 'bins': [], 'lambdas': [], 'model_history': [], 'final_saved_weights_string': []}\n",
        "scratch_df = pd.DataFrame(data)\n",
        "\n",
        "\n",
        "\n",
        "#Start For-Loop by looking at the individual lists of lambda-values inside the test run lists:\n",
        "for test_run in list_of_test_runs:\n",
        "\n",
        "  print(f\"Starting with test-run of Lambdas {test_run} :\")\n",
        "\n",
        "  \n",
        "  for rep in [0,1,2]:                                                                             #<<<<< CHANGE BACK\n",
        "  # for rep in [0]:\n",
        "    model_history = {}\n",
        "\n",
        "    model_weights_string = \"rep\" + str(rep) + \"_\"\n",
        "    print(\" ------------------------------------- \")\n",
        "    count = 1                #This is the BIN COUNT\n",
        "    print(f\"Rep {rep} : \", end=\"\")\n",
        "    \n",
        "    \n",
        "    prev_lambda_value = test_run[0]\n",
        "\n",
        "    # print(\"Initialize model with lambda: \", prev_lambda_value)\n",
        "    # print(f\"     Call function INITIALIZE MODEL with parameters REP {rep} and test_run[0] LambdaValue {test_run[0]}  \")\n",
        "\n",
        "    #\"Initialize Model Function\" for variable MODEL\n",
        "    model = create_model(i=rep)\n",
        "\n",
        "    \n",
        "    #Compile the initial model with the first-lambda-value of the current-test-run\n",
        "    cost_matrix[Truth, Predicted] = prev_lambda_value\n",
        "    model.compile(loss=WeightedCategoricalCrossentropy(cost_matrix), optimizer=sgd,  metrics='categorical_accuracy',)\n",
        "\n",
        "    #I dont call \"training\" yet, I've compiled with the initial weight, and then I allow my for-loop to start/continue the training everytime the lambdavalue is the same \n",
        "\n",
        "\n",
        "    #There are currently \"5-lambda_values\" in each of the test-run-arrays, which means there are 5-equally-sized-bins.  The lambda_value is the lambda-values\n",
        "\n",
        "\n",
        "\n",
        "\n",
        "    for lambda_value in test_run:\n",
        "        N_EPOCHS = 110//len(test_run)                                                             #<<<<< CHANGE BACK\n",
        "        # N_EPOCHS = 1\n",
        "        print(\"Bin: \", count, \" \", end=\"\")\n",
        "        \n",
        "        #If current lambda_value is different then the previous lambda value, save weights, re-compile with different lambda, and training for 110/5 epochs:\n",
        "        #\n",
        "        if lambda_value != prev_lambda_value:\n",
        "            # print(f\"lambda_value {lambda_value} is different than previous lambda_value {prev_lambda_value} so save current weights as model_weights: {model_weights_string} and then compile with weight {lambda_value}\")\n",
        "            # print(f\"   Call function CHANGE MODEL with parameters REP {rep} and NEXT LambdaValue in List {lambda_value} to train for epochs __{N_EPOCHS}___ \")\n",
        "            weights = model.get_weights()\n",
        "            temp_var = model_weights_string + \".h5\"\n",
        "            model.save_weights(temp_var)\n",
        "\n",
        "            #\"Create new model\" with same name MODEL\n",
        "            model = create_model(i=rep)\n",
        "            model.set_weights(weights)\n",
        "            #Compile the \"new\" model with the next-lambda-value of the current-test-run\n",
        "            cost_matrix[Truth, Predicted] = lambda_val\n",
        "            model.compile(loss=WeightedCategoricalCrossentropy(cost_matrix), optimizer=sgd,  metrics='categorical_accuracy',)\n",
        "\n",
        "            #Continue training for 110/5 epochs\n",
        "            model_history2 = model.fit(X_train, Y_train,  batch_size=batch_size, epochs=N_EPOCHS, verbose=0, validation_data=(X_val, Y_val), shuffle=True, use_multiprocessing=True, callbacks = [ cm_callback, f1_callback])\n",
        "            # print(\"Model History 2 Loss so far\", model_history2.history['loss'],\"\\n\\n\")\n",
        "          \n",
        "            try:\n",
        "              # print(\"trying\")\n",
        "              model_history = {key: model_history[key] + model_history2.history[key] for key in model_history2.history.keys()}\n",
        "            except KeyError:\n",
        "              # print(\"Key Error\")  \n",
        "              model_history = {key: model_history2.history[key] for key in model_history2.history.keys()}\n",
        "            #finally:\n",
        "              # print(\"Finaly\")  \n",
        "\n",
        "            # print(\"Model History (New) Loss so far\", model_history['loss'],\"\\n\\n\")\n",
        "\n",
        "\n",
        "        #If current lambda_value is the same as previous lambda value, continue training for 110/5 epochs:\n",
        "        #\n",
        "        else:\n",
        "          # print(f\"lambda_value {lambda_value} is equal to previous lambda_value {prev_lambda_value} so continue training {lambda_value} for epochs __{110/5}\")\n",
        "          # print(f\"     Call function CONTINUE TRAIING \")\n",
        "          model_history1 = model.fit(X_train, Y_train,  batch_size=batch_size, epochs=N_EPOCHS, verbose=0, validation_data=(X_val, Y_val), shuffle=True, use_multiprocessing=True, callbacks = [ cm_callback, f1_callback])\n",
        "          # print(\"Model History 1 Loss so far\", model_history1.history['loss'],\"\\n\\n\")\n",
        "\n",
        "          try:\n",
        "            # print(\"Trying\")\n",
        "            model_history = {key: model_history[key] + model_history1.history[key] for key in model_history1.history.keys()}\n",
        "          except KeyError:\n",
        "            # print(\"Key Error\")\n",
        "            model_history = {key: model_history1.history[key] for key in model_history1.history.keys()}\n",
        "          #finally:\n",
        "            # print(\"Finally\")\n",
        "            # model_history = {key: model_history1.history[key] for key in model_history1.history.keys()}\n",
        "\n",
        "\n",
        "          # print( model_history.history[key] for key in model_history.history.keys())\n",
        "          # print(\"Model History (New) Loss so far\", model_history['loss'],\"\\n\\n\")\n",
        "\n",
        "        count+=1\n",
        "        prev_lambda_value = lambda_value         \n",
        "        model_weights_string = model_weights_string + str(lambda_value) + \"_\"\n",
        "\n",
        "    \n",
        "    print(f\"Save final weights as {model_weights_string}\")\n",
        "    save_tf_model_weights(model, model_weights_string)\n",
        " \n",
        "    now = datetime.datetime.now()\n",
        "\n",
        "    #Saving to DataFrame\n",
        "    scratch_df = pd.concat([scratch_df, pd.DataFrame({'rep': rep, 'bins': 5, 'lambdas': [test_run], 'model_history': [model_history], 'final_saved_weights_string': model_weights_string ,  \n",
        "      'loss': [model_history['loss']],\n",
        "      'categorical_accuracy': [model_history['categorical_accuracy']],\n",
        "      'val_loss': [model_history['val_loss']],\n",
        "      'val_categorical_accuracy': [model_history['val_categorical_accuracy']],\n",
        "      '9T_4P': [model_history['9T_4P']],\n",
        "      '4T_9P': [model_history['4T_9P']],\n",
        "      '0T_Acc': [model_history['0T_Acc']],\n",
        "      '1T_Acc': [model_history['1T_Acc']],\n",
        "      '2T_Acc': [model_history['2T_Acc']],\n",
        "      '3T_Acc': [model_history['3T_Acc']],\n",
        "      '4T_Acc': [model_history['4T_Acc']],\n",
        "      '5T_Acc': [model_history['5T_Acc']],\n",
        "      '6T_Acc': [model_history['6T_Acc']],\n",
        "      '7T_Acc': [model_history['7T_Acc']],\n",
        "      '8T_Acc': [model_history['8T_Acc']],\n",
        "      '9T_Acc': [model_history['9T_Acc']],\n",
        "      'cm_per_epoch': [model_history['cm_per_epoch']],\n",
        "      'f1_micro': [model_history['f1_micro']],\n",
        "      'f1_macro': [model_history['f1_macro']],\n",
        "      'f1_weighted': [model_history['f1_weighted']],\n",
        "      'f1_notweighted': [model_history['f1_notweighted']],\n",
        "                   \"datetime\": now.strftime(\"%Y-%m-%d %H:%M:%S\")\n",
        "                                    })], ignore_index=True)\n",
        "\n",
        "\n",
        "    print(\"Deleting previous Model_history\")\n",
        "    del(model_history)\n",
        "  print(\" ------------------------------------- \")\n",
        "\n",
        "  # print(scratch_df)"
      ],
      "metadata": {
        "id": "Pwke5a9uZW6q"
      },
      "execution_count": null,
      "outputs": []
    },
    {
      "cell_type": "code",
      "source": [
        "# If I need to load weights later and evaluate this appears to work\n",
        "# tempfilename= str('/content/drive/MyDrive/Con3/Exp_5bins_11Runs_40D_SGD_Lr0point1_diffSeedsPerRep/')+str(model_weights_string)+str(\".h5\")\n",
        "# model.load_weights(tempfilename)\n",
        "# model.evaluate(X_test, Y_test)"
      ],
      "metadata": {
        "id": "a2eRG44ktjNp"
      },
      "execution_count": null,
      "outputs": []
    },
    {
      "cell_type": "code",
      "source": [
        "# model_history['loss']\n",
        "scratch_df\n",
        "\n",
        "# scratch_df[(scratch_df[\"rep\"] == 0) & (scratch_df[\"bins\"] == 5)]"
      ],
      "metadata": {
        "id": "Y3klb0l28Fig"
      },
      "execution_count": null,
      "outputs": []
    },
    {
      "cell_type": "code",
      "source": [
        "# for k in model_history.history.keys():\n",
        "#   print(\"'\", end=\"\")\n",
        "#   # print(\"model_history_\", end=\"\")\n",
        "#   print(k, end=\"\")\n",
        "#   print(\"'\", end=\"\")\n",
        "#   print(\": \", end=\"\")\n",
        "#   print( \"[model_history.history\", end=\"\")\n",
        "#   print(\"['\", end=\"\")\n",
        "#   # print(\"model_history_\", end=\"\")\n",
        "#   print(k, end=\"\")\n",
        "#   print(\"']],\", end=\"\")\n",
        "#   print()\n",
        "\n",
        "# model_history['loss']"
      ],
      "metadata": {
        "id": "FIObuLz100qL"
      },
      "execution_count": null,
      "outputs": []
    },
    {
      "cell_type": "code",
      "source": [
        "scratch_df.iloc[0][\"model_history\"]['loss']"
      ],
      "metadata": {
        "id": "SPGHR9YxcFbY"
      },
      "execution_count": null,
      "outputs": []
    },
    {
      "cell_type": "code",
      "source": [
        "scratch_df.to_pickle('df.pkl')\n",
        "files.download(\"df.pkl\")\n",
        "\n"
      ],
      "metadata": {
        "id": "8AIVC-IsmJ-Z"
      },
      "execution_count": null,
      "outputs": []
    },
    {
      "cell_type": "code",
      "source": [
        "scratch_df.to_csv('df.csv', index=False)\n",
        "files.download(\"df.csv\")"
      ],
      "metadata": {
        "id": "h3FYbrq9sBqh"
      },
      "execution_count": null,
      "outputs": []
    },
    {
      "cell_type": "code",
      "source": [
        "#@title: plot_model_history_all\n",
        "def plot_model_history_all(model_history, nb_epoch=None, cm3=None, label=None): \n",
        "  # Parameters\n",
        "  # ----------\n",
        "  # tot_epochs : int\n",
        "  #     Total number of epochs for which the model was trained.\n",
        "  # model_history : keras.callbacks.History\n",
        "  #     The history object returned by the fit() method of the model.\n",
        "  # cm3 : 10x10 dataframe \n",
        "  #      10x10 dataframe of confusion matrix from predicted X_val categories\n",
        "  # restored_weights : int\n",
        "  #     The epoch at which the weights were restored.\n",
        "\n",
        "\n",
        "  tot_epochs = len(model_history['loss'])  #if the total epochs ran is 28, it'll show up as 27 in the epoch object so we must add 1\n",
        "  # print(\"Total Epochs: \", tot_epochs)\n",
        "\n",
        "  #No Early Stop so not using this\n",
        "  #if tot_epochs is the total number of epochs ran then early stop did not happen, and we need not minus patience\n",
        "  # if tot_epochs == nb_epoch:\n",
        "  #   restored_weights = tot_epochs\n",
        "  # else:\n",
        "  #   restored_weights  = tot_epochs-patience   #when using restore-best-weights and patience, it'll restore the best weights back\n",
        "  # # print(\"Restored weights at \", restored_weights, \"Patience used: \", patience)\n",
        "\n",
        "  # ax[0].plot(range(1,tot_epochs+1), model_history['categorical_accuracy'], label=label+str(\"Train\") , linestyle=\"--\"    )\n",
        "  ax[0].plot(range(1,tot_epochs+1), model_history['val_categorical_accuracy'] , label=label+str(\"Val\"), linestyle=':' )\n",
        "  # ax[0].scatter((restored_weights), model_history['val_categorical_accuracy'][restored_weights-1] , color='orange', label=\"Val\")\n",
        "  # ax[0].scatter(restored_weights, model_history['categorical_accuracy'][restored_weights-1], color='blue', label=\"Train\")\n",
        "  # ax[0].annotate(text=str(restored_weights),  xy=(restored_weights, model_history['val_categorical_accuracy'][restored_weights-1]),\n",
        "  #                 textcoords=\"offset points\", xytext=(0,10), ha='center', color='black')\n",
        "  ax[0].legend()\n",
        "  ax[0].set_title('Training (Blue) and Validation (Orange) Accuracy', fontsize='8')\n",
        "\n",
        "\n",
        "\n",
        "  # ax[1].plot(range(1,tot_epochs+1), model_history['loss'],  label=label+str(\"Train\") , linestyle=\"--\"  )\n",
        "  ax[1].plot(range(1,tot_epochs+1), model_history['val_loss'],  label=label+str(\"Val\"), linestyle=':' )\n",
        "  # ax[1].scatter(restored_weights, model_history['loss'][restored_weights-1], color='blue')\n",
        "  # ax[1].scatter((restored_weights), model_history['val_loss'][restored_weights-1] , color='orange')\n",
        "  # ax[1].annotate(text=str(restored_weights),  xy=(restored_weights, model_history['val_loss'][restored_weights-1]),\n",
        "  #                 textcoords=\"offset points\", xytext=(0,10), ha='center')\n",
        "  ax[1].legend()\n",
        "  ax[1].set_title('Training (Blue) and Validation (Orange) Loss' , fontsize='8')\n",
        "\n",
        "\n",
        "  ax[2].plot(range(1,tot_epochs+1), model_history['9T_4P'],  label=label  )\n",
        "  # ax[2].plot(range(1,tot_epochs+1), model_history['9T_4P'], color='orange',  )\n",
        "  # ax[1].scatter(restored_weights, model_history['loss'][restored_weights-1], color='blue')\n",
        "  # ax[1].scatter((restored_weights), model_history['val_loss'][restored_weights-1] , color='orange')\n",
        "  # ax[1].annotate(text=str(restored_weights),  xy=(restored_weights, model_history['val_loss'][restored_weights-1]),\n",
        "  #                 textcoords=\"offset points\", xytext=(0,10), ha='center')\n",
        "  ax[2].legend()\n",
        "  ax[2].set_title('Validation Misclassifications of 9T_4P' , fontsize='8')\n",
        "\n",
        "\n",
        "  plt.gcf().set_size_inches(10, 5)  # this works \n",
        "  # plt.gcf().suptitle(f\"Lambda Value {lambda_val} for {nb_epoch} Epochs and Patience {patience} \" )\n",
        "\n",
        "  \n",
        "\n",
        "\n",
        "\n",
        "\n"
      ],
      "metadata": {
        "id": "UGXnD-CEdeUP"
      },
      "execution_count": null,
      "outputs": []
    },
    {
      "cell_type": "code",
      "source": [
        "fig = plt.figure(figsize=(20, 10))\n",
        "fig, ax = plt.subplots(1,3)\n",
        "\n",
        "# for index, row in scratch_df.iterrows():\n",
        "\n",
        "for index, row in scratch_df.iterrows():\n",
        "  # print(index)\n",
        "  plot_model_history_all(scratch_df.iloc[index][\"model_history\"], label=str(row[\"lambdas\"]))\n",
        "    "
      ],
      "metadata": {
        "id": "QDOE-VIObokY"
      },
      "execution_count": null,
      "outputs": []
    },
    {
      "cell_type": "markdown",
      "source": [
        "\n",
        "\n",
        "```\n",
        "\n",
        "# Digging into a Dataframe by Column:\n",
        "\n",
        "#Importing pandas\n",
        "import pandas as pd\n",
        "\n",
        "#Creating a dataframe\n",
        "df = pd.DataFrame({\"A\": [1,2,3], \"B\": [4,5,6], \"C\": [7,8,9]})\n",
        "\n",
        "#Accessing column data by label\n",
        "column_a = df[\"A\"]\n",
        "\n",
        "#Printing the column data\n",
        "print(column_a)\n",
        "\n",
        "# Digging into a Dataframe by Row:\n",
        "  \n",
        "#Accessing row data by index\n",
        "row_1 = df.iloc[1]\n",
        "\n",
        "#Printing the row data\n",
        "print(row_1)\n",
        "\n",
        "# Digging into a Dataframe by Row and Column: \n",
        "\n",
        "#Accessing row and column data by index and label\n",
        "cell_1_a = df.iloc[1][\"A\"]\n",
        "\n",
        "#Printing the row and column data\n",
        "print(cell_1_a)\n",
        "```\n",
        "\n"
      ],
      "metadata": {
        "id": "hrf7MJVbjK4i"
      }
    },
    {
      "cell_type": "code",
      "source": [],
      "metadata": {
        "id": "eyBv8rlojM44"
      },
      "execution_count": null,
      "outputs": []
    },
    {
      "cell_type": "markdown",
      "source": [
        "\n",
        "\n",
        "```\n",
        "\n",
        "df.groupby(\"cost\")\n",
        "\n",
        "for x, group in df.groupby(\"cost\"):\n",
        "  # fig = plt.figure(figsize=(20, 10)) \n",
        "  # fig, ax = plt.subplots(1,2)\n",
        "  print(\"Group of Lambda-Value:\",   x)\n",
        "\n",
        "  # group\n",
        "  for item in group.model_history:\n",
        "    plot_model_history_all(item)    \n",
        "  plt.show()\n",
        "  \n",
        "```\n",
        "\n"
      ],
      "metadata": {
        "id": "XdhEBb6Gj-za"
      }
    },
    {
      "cell_type": "markdown",
      "source": [
        "## Data Analysis as of Completing all 11 Runs and 2 Baselines with 3 reps each"
      ],
      "metadata": {
        "id": "xo2za1EMlmIK"
      }
    },
    {
      "cell_type": "code",
      "source": [
        "\n",
        "import pandas as pd\n",
        "\n",
        "df1 = pd.read_pickle('df (4).pkl')\n",
        "df2 = pd.read_pickle('df (5).pkl')\n",
        "\n",
        "df = pd.concat([df1, df2])\n",
        "df = df.reset_index(drop=True)"
      ],
      "metadata": {
        "id": "O_qTth58Gcxk"
      },
      "execution_count": 110,
      "outputs": []
    },
    {
      "cell_type": "markdown",
      "source": [],
      "metadata": {
        "id": "10wrFh53jSWl"
      }
    },
    {
      "cell_type": "code",
      "source": [
        "import pandas as pd\n",
        "\n",
        "# Assuming your dataframe is called \"df\"\n",
        "\n",
        "# Save dataframe as pickle file\n",
        "df.to_pickle('dataframe.pkl')\n",
        "\n",
        "# Download the pickle file in Google Colab\n",
        "from google.colab import files\n",
        "files.download('dataframe.pkl')\n"
      ],
      "metadata": {
        "id": "xW8I4jcyjjRj",
        "outputId": "1bc76925-4085-4bab-ff34-c3f0e0cbc686",
        "colab": {
          "base_uri": "https://localhost:8080/",
          "height": 17
        }
      },
      "execution_count": 111,
      "outputs": [
        {
          "output_type": "display_data",
          "data": {
            "text/plain": [
              "<IPython.core.display.Javascript object>"
            ],
            "application/javascript": [
              "\n",
              "    async function download(id, filename, size) {\n",
              "      if (!google.colab.kernel.accessAllowed) {\n",
              "        return;\n",
              "      }\n",
              "      const div = document.createElement('div');\n",
              "      const label = document.createElement('label');\n",
              "      label.textContent = `Downloading \"${filename}\": `;\n",
              "      div.appendChild(label);\n",
              "      const progress = document.createElement('progress');\n",
              "      progress.max = size;\n",
              "      div.appendChild(progress);\n",
              "      document.body.appendChild(div);\n",
              "\n",
              "      const buffers = [];\n",
              "      let downloaded = 0;\n",
              "\n",
              "      const channel = await google.colab.kernel.comms.open(id);\n",
              "      // Send a message to notify the kernel that we're ready.\n",
              "      channel.send({})\n",
              "\n",
              "      for await (const message of channel.messages) {\n",
              "        // Send a message to notify the kernel that we're ready.\n",
              "        channel.send({})\n",
              "        if (message.buffers) {\n",
              "          for (const buffer of message.buffers) {\n",
              "            buffers.push(buffer);\n",
              "            downloaded += buffer.byteLength;\n",
              "            progress.value = downloaded;\n",
              "          }\n",
              "        }\n",
              "      }\n",
              "      const blob = new Blob(buffers, {type: 'application/binary'});\n",
              "      const a = document.createElement('a');\n",
              "      a.href = window.URL.createObjectURL(blob);\n",
              "      a.download = filename;\n",
              "      div.appendChild(a);\n",
              "      a.click();\n",
              "      div.remove();\n",
              "    }\n",
              "  "
            ]
          },
          "metadata": {}
        },
        {
          "output_type": "display_data",
          "data": {
            "text/plain": [
              "<IPython.core.display.Javascript object>"
            ],
            "application/javascript": [
              "download(\"download_c786945b-5f94-4f0a-86bd-93ce73996350\", \"dataframe.pkl\", 5418135)"
            ]
          },
          "metadata": {}
        }
      ]
    },
    {
      "cell_type": "code",
      "source": [
        "import pickle \n",
        "\n",
        "with open(str(mydrive_path) + \"/\" + str('dataframe.pkl'), 'wb') as f:\n",
        "    pickle.dump(df, f)\n",
        "print('Dataframe Pickle file saved to: ', mydrive_path)"
      ],
      "metadata": {
        "id": "BJBlpae1klEv",
        "outputId": "892810dc-9251-4a56-ca53-949edaf6659b",
        "colab": {
          "base_uri": "https://localhost:8080/"
        }
      },
      "execution_count": 112,
      "outputs": [
        {
          "output_type": "stream",
          "name": "stdout",
          "text": [
            "Dataframe Pickle file saved to:  /content/drive/MyDrive/Con3/Exp_5bins_11Runs_40D_SGD_Lr0point1_diffSeedsPerRep\n"
          ]
        }
      ]
    },
    {
      "cell_type": "code",
      "source": [
        "df['lambdas'].value_counts()"
      ],
      "metadata": {
        "id": "x9LRH980GpSB",
        "outputId": "c45ae4e9-623c-4a32-d21d-8976ac864807",
        "colab": {
          "base_uri": "https://localhost:8080/"
        }
      },
      "execution_count": 113,
      "outputs": [
        {
          "output_type": "execute_result",
          "data": {
            "text/plain": [
              "[1, 1, 1, 1, 1]              3\n",
              "[1, 1, 1, 1, 10]             3\n",
              "[1, 1, 1, 1, 100]            3\n",
              "[1, 1, 1, 10, 1]             3\n",
              "[1, 1, 1, 100, 1]            3\n",
              "[1, 1, 10, 1, 1]             3\n",
              "[1, 1, 100, 1, 1]            3\n",
              "[1, 10, 1, 1, 1]             3\n",
              "[1, 100, 1, 1, 1]            3\n",
              "[10, 1, 1, 1, 1]             3\n",
              "[100, 1, 1, 1, 1]            3\n",
              "[10, 10, 10, 10, 10]         3\n",
              "[100, 100, 100, 100, 100]    3\n",
              "Name: lambdas, dtype: int64"
            ]
          },
          "metadata": {},
          "execution_count": 113
        }
      ]
    },
    {
      "cell_type": "markdown",
      "source": [
        "I have three replicates for each of the 11 runs, and the two other baselines with all 10s and all 100s.  We want to know, is there a differene when training the neural network with different weights at different times.  For example, is it better to give a lot of weight to the misclassification you do not want to happen while you train the neural network early on, or is it better to let the neural network train generally first and then increase the weight, and then let it to settle down?  Of course the answer \"depends\" on what you care about.  Unfortunately we're not sure what we really care about  😆   we care about Overall Accuracy, and OVerall rate of misclassifications, but we don't have a set percentage in mind.  We just know we want the overall accuracy to remain as high as possible, and the overall rate of misclassification to remain as low as possible.   It seems that you could create different multiple objective functions using these facts, but at the moment we are just exploring the art of the possible with Cost-of-Misclassifications. "
      ],
      "metadata": {
        "id": "0GUnv7PMQiQD"
      }
    },
    {
      "cell_type": "markdown",
      "source": [
        "So there's at least two schools of thought. One is to put all your emphasis on the misclassifications, so you can lower that.   In this world, we put a weight-of-misclassification of \"100\" on misclassifying 9s as 4s.  That is run '100, 100, 100, 100, 100' because all bins train with the highest weight of misclassification.  \n",
        "\n",
        "\n",
        "ChatGPT on how to search for an array inside a dataframe:\n",
        "\n",
        "```\n",
        "import pandas as pd\n",
        "import numpy as np\n",
        "\n",
        "# Create a sample dataframe\n",
        "df = pd.DataFrame({\n",
        "    'lambdas': [[1, 1, 1, 1, 1], [1, 2, 3, 4, 5], [1, 1, 1, 1, 1], [2, 2, 2, 2, 2]],\n",
        "    'values': [10, 20, 30, 40]\n",
        "})\n",
        "\n",
        "# Define the array to match\n",
        "target_array = np.array([1, 1, 1, 1, 1])\n",
        "\n",
        "# Filter rows where the \"lambdas\" column matches the target array\n",
        "filtered_df = df.loc[df['lambdas'].apply(lambda x: np.array_equal(x, target_array))]\n",
        "\n",
        "print(filtered_df)\n",
        "```\n"
      ],
      "metadata": {
        "id": "eQxDZX7WRg58"
      }
    },
    {
      "cell_type": "code",
      "source": [
        "# Define the array to match\n",
        "target_array = np.array([100, 100, 100, 100, 100])\n",
        "\n",
        "# Filter rows where the \"lambdas\" column matches the target array\n",
        "filtered_df = df.loc[df['lambdas'].apply(lambda x: np.array_equal(x, target_array))]\n",
        "\n",
        "print(filtered_df.columns)"
      ],
      "metadata": {
        "id": "ojzf8Gd-P8DU",
        "outputId": "37bb7f5a-6870-4f21-be63-7afd47c6678c",
        "colab": {
          "base_uri": "https://localhost:8080/"
        }
      },
      "execution_count": 114,
      "outputs": [
        {
          "output_type": "stream",
          "name": "stdout",
          "text": [
            "Index(['rep', 'bins', 'lambdas', 'model_history', 'final_saved_weights_string',\n",
            "       'loss', 'categorical_accuracy', 'val_loss', 'val_categorical_accuracy',\n",
            "       '9T_4P', '4T_9P', '0T_Acc', '1T_Acc', '2T_Acc', '3T_Acc', '4T_Acc',\n",
            "       '5T_Acc', '6T_Acc', '7T_Acc', '8T_Acc', '9T_Acc', 'cm_per_epoch',\n",
            "       'f1_micro', 'f1_macro', 'f1_weighted', 'f1_notweighted', 'datetime'],\n",
            "      dtype='object')\n"
          ]
        }
      ]
    },
    {
      "cell_type": "markdown",
      "source": [
        "FilteredDataFrame now consists of just the Run with all 100s.  What do we know about these three runs?\n",
        "\n",
        "* What epoch would early stop normally stop if not Epoch 110?  It would be the epoch where early stop, given a patience level, does not detect a decrease in validation-error over a certain number of epochs.\n",
        "* What is the mean for all the replicates for the validation set for all recorded metrics?"
      ],
      "metadata": {
        "id": "sGy_i05QiF4U"
      }
    },
    {
      "cell_type": "code",
      "source": [
        "import pandas as pd\n",
        "import matplotlib.pyplot as plt\n",
        "import numpy as np\n",
        "\n",
        "# Assuming you have a dataframe called 'filtered_df' with a column named 'val_loss'\n",
        "\n",
        "# Define the column name\n",
        "column_name = 'val_loss'\n",
        "\n",
        "# Iterate over each row in the dataframe\n",
        "for row_index, row in filtered_df.iterrows():\n",
        "    # Get the array of values from the current row and column\n",
        "    values = row[column_name]\n",
        "    rep_value = int(row['rep'])\n",
        "    color = plt.get_cmap('tab10')(rep_value % 10)\n",
        "\n",
        "    # Create an array for the x-axis (epochs)\n",
        "    epochs = np.arange(1, len(values) + 1)\n",
        "\n",
        "    # Plot the array of values\n",
        "    plt.plot(epochs, values, label=f'Rep {rep_value}', color=color)\n",
        "\n",
        "    # Find the index of the minimum 'val_loss' value\n",
        "    min_index = np.argmin(values)\n",
        "    min_loss = round(values[min_index], 2)\n",
        "\n",
        "    # Annotate the minimum value point on the graph\n",
        "    plt.annotate(f'{epochs[min_index]}', xy=(epochs[min_index], values[min_index]),\n",
        "                 xytext=(epochs[min_index], 0.05), fontsize=10, color=\"red\"\n",
        "                 #arrowprops=dict(facecolor='black', arrowstyle='->')\n",
        "                 )\n",
        "\n",
        "    # Add scatter plot markers for the minimum index and minimum loss\n",
        "    plt.scatter(epochs[min_index], values[min_index], color=color, marker='o')\n",
        "\n",
        "# Adding labels and title\n",
        "plt.xlabel('Epoch')\n",
        "plt.ylabel('Validation Loss')\n",
        "plt.title('Validation Loss for Each Row in Column {}'.format(column_name))\n",
        "\n",
        "# Add legend\n",
        "plt.legend()\n",
        "\n",
        "# Display the plot\n",
        "plt.show()\n"
      ],
      "metadata": {
        "id": "YEuCb_GC9jOy",
        "outputId": "a2afb1d2-70e2-4aad-fec1-0aae69f2506b",
        "colab": {
          "base_uri": "https://localhost:8080/",
          "height": 472
        }
      },
      "execution_count": 133,
      "outputs": [
        {
          "output_type": "display_data",
          "data": {
            "text/plain": [
              "<Figure size 640x480 with 1 Axes>"
            ],
            "image/png": "[encoded data removed]"
          },
          "metadata": {}
        }
      ]
    },
    {
      "cell_type": "code",
      "source": [
        "epochs[min_index], values[min_index]-1"
      ],
      "metadata": {
        "id": "C3-P38v5lNRv",
        "outputId": "797e112f-62bc-41dd-c0d3-d656600bb46d",
        "colab": {
          "base_uri": "https://localhost:8080/"
        }
      },
      "execution_count": 121,
      "outputs": [
        {
          "output_type": "execute_result",
          "data": {
            "text/plain": [
              "(83, -0.8640581369400024)"
            ]
          },
          "metadata": {},
          "execution_count": 121
        }
      ]
    }
  ]
}