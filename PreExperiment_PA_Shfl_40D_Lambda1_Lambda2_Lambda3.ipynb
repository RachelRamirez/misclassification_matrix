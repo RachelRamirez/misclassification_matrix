{
  "nbformat": 4,
  "nbformat_minor": 0,
  "metadata": {
    "colab": {
      "provenance": [],
      "authorship_tag": "ABX9TyPgSXpM75Dr1k9YAy24wqoo",
      "include_colab_link": true
    },
    "kernelspec": {
      "name": "python3",
      "display_name": "Python 3"
    },
    "language_info": {
      "name": "python"
    },
    "gpuClass": "standard",
    "accelerator": "GPU"
  },
  "cells": [
    {
      "cell_type": "markdown",
      "metadata": {
        "id": "view-in-github",
        "colab_type": "text"
      },
      "source": [
        "<a href=\"https://colab.research.google.com/github/RachelRamirez/misclassification_matrix/blob/main/PreExperiment_PA_Shfl_40D_Lambda1_Lambda2_Lambda3.ipynb\" target=\"_parent\"><img src=\"https://colab.research.google.com/assets/colab-badge.svg\" alt=\"Open In Colab\"/></a>"
      ]
    },
    {
      "cell_type": "markdown",
      "source": [
        "# PreExperiment PA Shfl 40D Lambda1 Lambda2 Lambda3\n",
        "\n",
        "\n"
      ],
      "metadata": {
        "id": "_t4Z4Nq-gQ26"
      }
    },
    {
      "cell_type": "markdown",
      "source": [
        "In prior notebooks, I experimented with one variable; lambda, the value the cost-matrix takes on for whatever misclassification we are interested in.  The seeded neural network we trained using a normal cost-matrix of all ones usually had a higher misclassification count on the **T**rue 9s being mislabelled by the model **P**redicting 4s, which you will sometimes see written as \"9T, 4P\" and \"w[9t,4p]\" when referring to the cost of the misclassification.\n",
        "\n",
        "We changed the lambda values and allowed as many epochs of training with  early-stopping and a patience of 10 to conclude once training was beginnnig to overfit the validation data (also the test set).   Lambda values chosen were 1, 10, 100, and 1000.   These values were chosen because it seemed that only very high values like 1000 could drive down the number of misclassifications of 9T,4P to zero.\n",
        "\n",
        "In this notebook, continuing to use a relatively balanced dataset, we're going to also experiment with a second variable, time of training.  This is a little more tricky to define because the variable lambda is thought to have an impact on the number of epochs needed.  Therefore if you have a certain lambda value in the beginning of training, you may only need 10 total epochs of training, but if you use it at the end of training, you may need more epochs of training.  In addition there is the question as to whether we should define   a static number of epochs or to allow early stopping.  \n",
        "\n",
        "As an example:\n",
        "\n",
        "\n",
        "|Lambda | Rep 1 Epochs | Rep 2 Epochs |  Rep 3 | Rep 4 |\tRep 5 |\tRep 6\t| Rep 7\t| Rep 8\t|Rep 9\t| Rep 10 |  Average of 10 Reps |\n",
        "|-- | -- | --- |  --| -- |  --| -- |  --| -- |  --| -- |  --| \n",
        "1\t|17|19|19|\t22|\t17\t|21\t|19\t|22\t|19|\t22|\t... 19*\n",
        "100 |14|14|14|\t11|\t14\t|14\t|14\t|14\t|14|\t14|\t... 13.7*\n",
        "1000:\t|18|23|22|\t35|\t7\t|25\t|21\t|19\t|23|\t24|\t... 21.7\n",
        "\n",
        "*However 1 and 100 were done with patience of 3, whereas 1000 was done with patience of 10 and more epochs.  Rerunning the 1's with the same patience appears to up the number of epochs til early stopping to mid-20s.  \n",
        "\n",
        "\n",
        "We'll test the conditions for using a static training cycle first, because it's easier to code and report on, and then test how to do a dynamic training cycle, \n"
      ],
      "metadata": {
        "id": "5u6fp0kHg4tG"
      }
    },
    {
      "cell_type": "markdown",
      "source": [
        "## Reduced  capacity neural network with two layers of 40 connections\n",
        "\n",
        "  Filename \"PA_Shfl_w[9,4]_2.0_40D_Misclassification_Cost_Matrix_Example\""
      ],
      "metadata": {
        "id": "NqL4ADhFLsqG"
      }
    },
    {
      "cell_type": "markdown",
      "source": [
        "#### Check timezone if incorrect restart"
      ],
      "metadata": {
        "id": "l4sBTo67FC9-"
      }
    },
    {
      "cell_type": "code",
      "source": [
        "# How to change the local time in Google Colab\n",
        "!rm /etc/localtime\n",
        "!ln -s /usr/share/zoneinfo/US/Eastern /etc/localtime\n",
        "!date\n",
        "\n",
        "#If this doesn't show the local time correctly, then you need to restart.\n",
        "import time\n",
        "time.localtime(time.time())"
      ],
      "metadata": {
        "colab": {
          "base_uri": "https://localhost:8080/"
        },
        "id": "g4I5Wm-6EPYR",
        "outputId": "e55e8a50-cef6-422e-b37e-ee077030d821"
      },
      "execution_count": 1,
      "outputs": [
        {
          "output_type": "stream",
          "name": "stdout",
          "text": [
            "Wed 08 Mar 2023 05:38:57 PM EST\n"
          ]
        },
        {
          "output_type": "execute_result",
          "data": {
            "text/plain": [
              "time.struct_time(tm_year=2023, tm_mon=3, tm_mday=8, tm_hour=17, tm_min=38, tm_sec=57, tm_wday=2, tm_yday=67, tm_isdst=0)"
            ]
          },
          "metadata": {},
          "execution_count": 1
        }
      ]
    },
    {
      "cell_type": "markdown",
      "source": [
        "### Reproducible Seeds"
      ],
      "metadata": {
        "id": "Wn15dbArlsIs"
      }
    },
    {
      "cell_type": "code",
      "source": [
        "#For Reproducibility\n",
        "import numpy as np\n",
        "# np.random.seed(1337)  # for reproducibility\n",
        "\n",
        "import tensorflow as tf\n",
        "# tf.random.set_seed(33)\n",
        "\n",
        "import random as python_random\n",
        "# python_random.seed(4)\n",
        "\n",
        "# https://www.tensorflow.org/api_docs/python/tf/keras/utils/set_random_seed\n",
        "tf.keras.utils.set_random_seed(342) #Possibly use next iteration if the above doesn't work\n",
        "\n",
        "\n",
        "# Running more than once causes variation.  try adding this:\n",
        "# Set seed value\n",
        "seed_value = 56\n",
        "import os\n",
        "os.environ['PYTHONHASHSEED']=str(seed_value)\n",
        "\n",
        "print(\"TF version: \" , tf.__version__ )\n",
        "print(\"Keras version: \" , tf.keras.__version__ )"
      ],
      "metadata": {
        "colab": {
          "base_uri": "https://localhost:8080/"
        },
        "id": "zcjDfFIIbmbo",
        "outputId": "63ad8a21-314b-4eb8-a5ae-32c92c0ca80d"
      },
      "execution_count": 2,
      "outputs": [
        {
          "output_type": "stream",
          "name": "stdout",
          "text": [
            "TF version:  2.11.0\n",
            "Keras version:  2.11.0\n"
          ]
        }
      ]
    },
    {
      "cell_type": "markdown",
      "source": [
        "### Import rest of Library"
      ],
      "metadata": {
        "id": "mTW-hEgnlp44"
      }
    },
    {
      "cell_type": "code",
      "source": [
        "\n",
        "# from https://github.com/keras-team/keras/issues/2115#issuecomment-204060456\n",
        "# witha correction on the weighted function in the middle \n",
        "\n",
        "'''Train a simple deep NN on the MNIST dataset.\n",
        "Get to 98.40% test accuracy after 20 epochs\n",
        "(there is *a lot* of margin for parameter tuning).\n",
        "2 seconds per epoch on a K520 GPU.\n",
        "'''\n",
        "\n",
        "from __future__ import print_function  #do i still need this?\n",
        "from keras.datasets import mnist\n",
        "from keras.models import Sequential\n",
        "from keras.layers.core import Dense, Dropout, Activation\n",
        "from keras.optimizers import SGD, Adam, RMSprop\n",
        "from keras.utils import np_utils\n",
        "import keras.backend as K\n",
        "from itertools import product\n",
        "import functools\n",
        "from functools import partial\n",
        "from time import ctime\n",
        "from time import sleep\n",
        "import matplotlib.pyplot as plt\n",
        "import seaborn as sns\n",
        "import pandas as pd \n",
        "from sklearn.metrics import confusion_matrix\n",
        "\n",
        "## MORE REPEATABILITY STUFF NEEDED - If theres a way to update this to V2 of Tensorflow great, otherwise I had to use TF 1.0 code\n",
        "# 5. Configure a new global `tensorflow` session (https://stackoverflow.com/questions/50659482/why-cant-i-get-reproducible-results-in-keras-even-though-i-set-the-random-seeds)\n",
        "# from keras import backend as K\n",
        "\n",
        "\n",
        "#I believe thecode below is to help things be repeatable each time different sections in my google colab notebook execute\n",
        "session_conf = tf.compat.v1.ConfigProto(intra_op_parallelism_threads=1, inter_op_parallelism_threads=1)\n",
        "sess = tf.compat.v1.Session(graph=tf.compat.v1.get_default_graph(), config=session_conf)\n",
        "K.set_session(sess)"
      ],
      "metadata": {
        "id": "idfYNyyAgMsO"
      },
      "execution_count": 3,
      "outputs": []
    },
    {
      "cell_type": "markdown",
      "source": [
        "### Define batch, epochs, and format data"
      ],
      "metadata": {
        "id": "otcbfKF7mY9y"
      }
    },
    {
      "cell_type": "code",
      "source": [
        "batch_size = 256 # I originally had it very  high batch size to reduce the variation in the data each batch and hope it makes the model training more nearly identical which it did, then i bring it back down to something reasonable to get better results training the NN\n",
        "nb_classes = 10\n",
        "nb_epoch = 45\n",
        "\n",
        "# the data, shuffled and split between train and test sets\n",
        "(X_train, y_train), (X_test, y_test) = mnist.load_data()\n",
        "\n",
        "\n",
        "X_train = X_train.reshape(60000, 784)\n",
        "X_test = X_test.reshape(10000, 784)\n",
        "X_train = X_train.astype('float32')\n",
        "X_test = X_test.astype('float32')\n",
        "X_train /= 255\n",
        "X_test /= 255\n",
        "# print(X_train.shape[0], 'train samples')\n",
        "# print(X_test.shape[0], 'test samples')\n",
        "\n",
        "# convert class vectors to binary class matrices\n",
        "Y_train = np_utils.to_categorical(y_train, nb_classes)\n",
        "Y_test = np_utils.to_categorical(y_test, nb_classes)\n",
        "\n",
        "#Create a Validation Set\n",
        "X_val = X_test[:7500]   #take the first 7500 for validation\n",
        "Y_val = Y_test[:7500]   #Take the first 7500 for validation\n",
        "y_val = y_test[:7500]\n",
        "\n",
        "X_test = X_test[7500:]  #Keep the last 2500 for test/holdout\n",
        "Y_test = Y_test[7500:]  #Keep the last 2500 for test/holdout\n",
        "y_test = y_test[7500:]\n",
        "\n",
        "print(X_train.shape[0], 'train samples')\n",
        "print(X_val.shape[0], 'validation samples')\n",
        "print(X_test.shape[0], 'test samples')\n",
        "\n",
        "#Are the sets relatively balanced? Yes each category is between 8% and 11% per category\n",
        "Y_train.sum(axis=0)/X_train.shape[0]\n",
        "Y_val.sum(axis=0)/X_val.shape[0]\n",
        "Y_test.sum(axis=0)/X_test.shape[0]"
      ],
      "metadata": {
        "colab": {
          "base_uri": "https://localhost:8080/"
        },
        "id": "B59UXDb8i8W5",
        "outputId": "38f1d779-da93-4ee5-fc6c-c4f627b65dcd"
      },
      "execution_count": 4,
      "outputs": [
        {
          "output_type": "stream",
          "name": "stdout",
          "text": [
            "60000 train samples\n",
            "7500 validation samples\n",
            "2500 test samples\n"
          ]
        },
        {
          "output_type": "execute_result",
          "data": {
            "text/plain": [
              "array([0.1044, 0.1144, 0.0992, 0.102 , 0.0932, 0.0864, 0.1008, 0.1064,\n",
              "       0.0972, 0.096 ], dtype=float32)"
            ]
          },
          "metadata": {},
          "execution_count": 4
        }
      ]
    },
    {
      "cell_type": "markdown",
      "source": [
        "### Weighted Categorical Cross Entropy Class"
      ],
      "metadata": {
        "id": "3fHQHrz8MwXJ"
      }
    },
    {
      "cell_type": "code",
      "source": [
        "class WeightedCategoricalCrossentropy(tf.keras.losses.CategoricalCrossentropy):\n",
        "\n",
        "  def __init__(self, cost_mat, name='weighted_categorical_crossentropy', **kwargs):\n",
        "\n",
        "    cost_mat = np.array(cost_mat)   \n",
        "    ## when loading from config, self.cost_mat returns as a list, rather than an numpy array. \n",
        "    ## Adding the above line fixes this issue, enabling .ndim to call sucessfully. \n",
        "    ## However, this is probably not the best implementation\n",
        "    assert(cost_mat.ndim == 2)\n",
        "    assert(cost_mat.shape[0] == cost_mat.shape[1])\n",
        "    super().__init__(name=name, **kwargs)\n",
        "    self.cost_mat = K.cast_to_floatx(cost_mat)\n",
        "\n",
        "  def __call__(self, y_true, y_pred, sample_weight=None):\n",
        "    assert sample_weight is None, \"should only be derived from the cost matrix\"  \n",
        "    return super().__call__(\n",
        "        y_true=y_true, \n",
        "        y_pred=y_pred, \n",
        "        sample_weight=get_sample_weights(y_true, y_pred, self.cost_mat),\n",
        "    )\n",
        "\n",
        "\n",
        "  def get_config(self):\n",
        "    config = super().get_config().copy()\n",
        "    # Calling .update on the line above, during assignment, causes an error with config becoming None-type.\n",
        "    config.update({'cost_mat': (self.cost_mat)})\n",
        "    return config\n",
        "\n",
        "  @classmethod\n",
        "  def from_config(cls, config):\n",
        "    # something goes wrong here and changes self.cost_mat to a list variable.\n",
        "    # See above for temporary fix\n",
        "    return cls(**config)\n",
        "\n",
        "def get_sample_weights(y_true, y_pred, cost_m):\n",
        "    num_classes = len(cost_m)\n",
        "\n",
        "    y_pred.shape.assert_has_rank(2)\n",
        "    assert(y_pred.shape[1] == num_classes)\n",
        "    y_pred.shape.assert_is_compatible_with(y_true.shape)\n",
        "\n",
        "    y_pred = K.one_hot(K.argmax(y_pred), num_classes)\n",
        "\n",
        "    y_true_nk1 = K.expand_dims(y_true, 2)\n",
        "    y_pred_n1k = K.expand_dims(y_pred, 1)\n",
        "    cost_m_1kk = K.expand_dims(cost_m, 0)\n",
        "\n",
        "    sample_weights_nkk = cost_m_1kk * y_true_nk1 * y_pred_n1k\n",
        "    sample_weights_n = K.sum(sample_weights_nkk, axis=[1, 2])\n",
        "\n",
        "    return sample_weights_n\n",
        "\n",
        "\n",
        "# Register the loss in the Keras namespace to enable loading of the custom object.\n",
        "tf.keras.losses.WeightedCategoricalCrossentropy = WeightedCategoricalCrossentropy\n",
        " "
      ],
      "metadata": {
        "id": "pUR1sLQ7MvVa"
      },
      "execution_count": 5,
      "outputs": []
    },
    {
      "cell_type": "markdown",
      "source": [
        "### Train Model with WeightedCategoricalCross Entropy Function "
      ],
      "metadata": {
        "id": "-uJmU0t4ANuv"
      }
    },
    {
      "cell_type": "code",
      "source": [
        "def PA_method_epoch(model3, lambda_val, nb_epoch = 5, patience = 5 , **args):\n",
        "  print(\"Parameter values specified for this training-cycle.  Number of epochs: \", nb_epoch, \"Number of epochs of Patience: \", patience)\n",
        "  cost_matrix = np.ones((10,10))\n",
        "\n",
        "  Truth=9\n",
        "  Predicted=4\n",
        "\n",
        "  cost_matrix[Truth, Predicted] = lambda_val\n",
        "  print(\"The cost of a true \", str(Truth), \"  predicted as a \", str(Predicted), \" is \", lambda_val  )\n",
        "\n",
        "\n",
        "  # ---------------------------------------------------------------------------------------------------------------------------------\n",
        "  # Is a Model already created?  \n",
        "  # ---------------------------------------------------------------------------------------------------------------------------------\n",
        "  if model3==None:  #\"No model was passed through so one will be initiated\")\n",
        "\n",
        "      print(\"No model was passed through so one will be initiated\")\n",
        "\n",
        "      model3 = Sequential()\n",
        "      model3.add(Dense(40, input_shape=(784,), kernel_initializer=tf.keras.initializers.glorot_uniform(seed=42)))\n",
        "      model3.add(Activation('relu'))\n",
        "      model3.add(Dropout(0.2))\n",
        "      model3.add(Dense(40, kernel_initializer=tf.keras.initializers.glorot_uniform(seed=42)))\n",
        "      model3.add(Activation('relu'))\n",
        "      model3.add(Dropout(0.2))\n",
        "      model3.add(Dense(10,kernel_initializer=tf.keras.initializers.glorot_uniform(seed=42)))\n",
        "      model3.add(Activation('softmax'))\n",
        "      rms = RMSprop()  #https://keras.io/api/optimizers/rmsprop/\n",
        "      model3.compile(loss=WeightedCategoricalCrossentropy(cost_matrix), optimizer=rms,  metrics='categorical_accuracy',)\n",
        "\n",
        " \n",
        "  else:  #A model was passed through, so no other model will be created\n",
        "    print(\"A model was passed through\")\n",
        "\n",
        "\n",
        "  def log_confusion_matrix(epoch, logs):\n",
        "    # Use the model to predict the values from the validation dataset.\n",
        "    y_prediction3 = model3.predict(X_val, verbose=0)     #I call it y_prediction3 because I just want to make sure this is  updated within and not interfering with the other prediction below\n",
        "    y_prediction3  = np.argmax(y_prediction3, axis=1)\n",
        "\n",
        "    #Create confusion matrix \n",
        "    cm = confusion_matrix(y_val, y_prediction3)\n",
        "    cm_array = np.asarray(cm)  #Indiv CM as array for storing\n",
        "    logs['9T_4P'] = cm[9,4]\n",
        "    logs['4T_9P'] = cm[4,9]\n",
        "    logs['cm_per_epoch'] = cm_array.reshape((1,100))\n",
        "  # Define the per-epoch callback.\n",
        "  cm_callback = tf.keras.callbacks.LambdaCallback(on_epoch_end=log_confusion_matrix, )\n",
        "\n",
        "\n",
        "  # ---------------------------------------------------------------------------------------------------------------------------------\n",
        "  # Will this be a training session with early-stopping? If so user specifies a patience level, and the appropriate callback is used\n",
        "  # ---------------------------------------------------------------------------------------------------------------------------------\n",
        "  if patience > 0:\n",
        "    es_callback = tf.keras.callbacks.EarlyStopping(monitor='val_loss', patience=patience, verbose=1, restore_best_weights = True)\n",
        "    model3_history = model3.fit(X_train, Y_train,\n",
        "          batch_size=batch_size, epochs=nb_epoch, verbose=0,\n",
        "          validation_data=(X_val, Y_val), shuffle=True, use_multiprocessing=True\n",
        "          ,callbacks = [es_callback, cm_callback]\n",
        "          )\n",
        "  #If early-stopping is not needed then the model will be trained without using the ES callback\n",
        "  else:  # no need to do early-stopping if patience = 0\n",
        "    model3_history = model3.fit(X_train, Y_train,\n",
        "          batch_size=batch_size, epochs=nb_epoch, verbose=0,\n",
        "          validation_data=(X_val, Y_val), shuffle=True, use_multiprocessing=True\n",
        "          ,callbacks = [cm_callback]    #<<< -------------- the only thing that changed is no EarlyStop Callback\n",
        "          )\n",
        "\n",
        " \n",
        "\n",
        "    \n",
        "  # ---------------------------------------------------------------------------------------------------------------------------------\n",
        "  # Training complete.  Make Predictions\n",
        "  # ---------------------------------------------------------------------------------------------------------------------------------\n",
        "  #Predict\n",
        "  y_prediction = model3.predict(X_val, verbose=0)\n",
        "  y_prediction  = np.argmax(y_prediction, axis=1)\n",
        "  # Y_prediction = np_utils.to_categorical(y_prediction, nb_classes)\n",
        "\n",
        "  #Create confusion matrix and normalizes it over predicted (columns)\n",
        "  # result = confusion_matrix(y_val, y_prediction , normalize='pred')\n",
        "\n",
        "\n",
        "\n",
        "  cm3 = confusion_matrix(y_val, y_prediction)\n",
        "  cm3 = pd.DataFrame(cm3, range(10),range(10))\n",
        "  \n",
        "  # plt.figure(figsize = (10,10))\n",
        "  # cm3\n",
        "  # sns.heatmap(cm2, annot=True, annot_kws={\"size\": 12}) # font size\n",
        "  # plt.show()\n",
        "  # cm_using_weighted_new = cm3\n",
        "\n",
        "  # print(model3_history.history)\n",
        "  tot_epochs = max(model3_history.epoch)+1  #if the total epochs ran is 28, it'll show up as 27 in the epoch object so we must add 1\n",
        "  print(\"Total Epochs: \", tot_epochs)\n",
        "\n",
        "  #if tot_epochs is the total number of epochs ran then early stop did not happen, and we need not minus patience\n",
        "  if tot_epochs == nb_epoch:\n",
        "    restored_weights = tot_epochs\n",
        "  else:\n",
        "    restored_weights  = tot_epochs-patience   #when using restore-best-weights and patience, it'll restore the best weights back\n",
        "  print(\"Restored weights at \", restored_weights, \"Patience used: \", patience)\n",
        "\n",
        "\n",
        "  return cm3, model3_history, model3, restored_weights\n"
      ],
      "metadata": {
        "id": "3UWVdmRHNBhP"
      },
      "execution_count": 6,
      "outputs": []
    },
    {
      "cell_type": "markdown",
      "source": [
        "#### Single Plot Function"
      ],
      "metadata": {
        "id": "7HLUprZ9t9YB"
      }
    },
    {
      "cell_type": "code",
      "source": [
        "def plot_fx(model3_history, restored_weights):\n",
        "\n",
        "\n",
        "  tot_epochs = max(model3_history.epoch)+1\n",
        "\n",
        "  #Label is the epoch weights are restored \n",
        "  label = f\"{restored_weights}\"\n",
        "  #Label_vale is the value at which the epoch weights are restored \n",
        "  label_value = f\"{ model3_history.history['val_categorical_accuracy'][restored_weights-1]}\"\n",
        "  print(\"Label: \", label, \"Val_Cat_Acc Value: \", label_value)\n",
        "\n",
        "\n",
        "\n",
        "  plt.plot(range(1,tot_epochs+1), model3_history.history['categorical_accuracy'],)\n",
        "  plt.plot(range(1,tot_epochs+1), model3_history.history['val_categorical_accuracy'])\n",
        "  plt.xlim(xmin=1)\n",
        "\n",
        "  plt.scatter((restored_weights), model3_history.history['val_categorical_accuracy'][restored_weights-1] , color='orange')\n",
        "\n",
        "  plt.annotate(text=label,  xy=(restored_weights, model3_history.history['val_categorical_accuracy'][restored_weights-1]),\n",
        "                 textcoords=\"offset points\", \n",
        "                 xytext=(0,10), \n",
        "                 ha='center')\n",
        "  plt.title('model accuracy')\n",
        "  plt.ylabel('accuracy')\n",
        "  plt.xlabel('epoch (starts at 1)')\n",
        "\n",
        "  \n",
        "  plt.legend(['train', 'val'], loc='upper left')\n",
        "  plt.show()\n",
        "  \n",
        "  \n",
        "\n",
        "  plt.plot(range(1,tot_epochs+1), model3_history.history['loss'])\n",
        "  plt.plot(range(1,tot_epochs+1), model3_history.history['val_loss'])\n",
        "  plt.xlim(xmin=1)\n",
        "  plt.title('model loss')\n",
        "  plt.ylabel('loss')\n",
        "  plt.xlabel('epoch (starts at 1)')\n",
        "  plt.legend(['train', 'val'], loc='upper left')\n",
        "  plt.scatter(restored_weights, model3_history.history['val_loss'][restored_weights-1], color='orange')\n",
        "  plt.annotate(text=label,  xy=(restored_weights, model3_history.history['val_loss'][restored_weights-1]),\n",
        "                 textcoords=\"offset points\", \n",
        "                 xytext=(0,10), \n",
        "                 ha='center')\n",
        "  plt.show()\n"
      ],
      "metadata": {
        "id": "lHP7RI6-nQKb"
      },
      "execution_count": 7,
      "outputs": []
    },
    {
      "cell_type": "markdown",
      "source": [
        "#### Plot all three phases together"
      ],
      "metadata": {
        "id": "N7yL66nEOkg4"
      }
    },
    {
      "cell_type": "code",
      "source": [
        "def plot_3_fx(model1_history, model2_history, model3_history, restored_weights1, restored_weights2, restored_weights3):\n",
        "  \n",
        "  tot_epochs = restored_weights1 + restored_weights2 + restored_weights3\n",
        "\n",
        "  #Label is the epoch weights are restored \n",
        "  label1 = f\"{restored_weights1}\"\n",
        "  #Label_vale is the value at which the epoch weights are restored \n",
        "  label_value1 = f\"{ model1_history.history['val_categorical_accuracy'][restored_weights1-1]}\"\n",
        "  print(\"Label1: \", label1, \"Val_Cat_Acc Value1: \", label_value1)\n",
        "\n",
        "\n",
        "  #Label is the epoch weights are restored in the second phase of training\n",
        "  # if restoredweights are 5 then it'll be after the max number of epochs of the first models training \n",
        "  label2 = f\"{restored_weights2}\"\n",
        "  #Label_vale is the value at which the epoch weights are restored \n",
        "  label_value2 = f\"{ model2_history.history['val_categorical_accuracy'][restored_weights2-1]}\"\n",
        "  print(\"Label2: \", label2, \"Val_Cat_Acc Value2: \", label_value2)\n",
        "\n",
        "  #Label is the epoch weights are restored in the second phase of training\n",
        "  # if restoredweights are 5 then it'll be after the max number of epochs of the first models training \n",
        "  label3 = f\"{restored_weights3}\"\n",
        "  #Label_vale is the value at which the epoch weights are restored \n",
        "  label_value3 = f\"{ model3_history.history['val_categorical_accuracy'][restored_weights3-1]}\"\n",
        "  print(\"Label3: \", label3, \"Val_Cat_Acc Value3: \", label_value3)\n",
        "\n",
        " \n",
        "  \n",
        "  epochs = [restored_weights1, restored_weights2, restored_weights3]\n",
        "  models = [history1, history2, history3]\n",
        "\n",
        "  grab_n_epochs_of_model_metric_fun = lambda epoch, model, metric: model.history[metric][:epoch]\n",
        "\n",
        "  model_total_cat_acc =     np.concatenate(list(map(grab_n_epochs_of_model_metric_fun, epochs, models, ['categorical_accuracy']*3)), axis=0)\n",
        "  model_total_val_cat_acc = np.concatenate(list(map(grab_n_epochs_of_model_metric_fun, epochs, models, ['val_categorical_accuracy']*3)), axis=0)\n",
        "  \n",
        "  model_total_loss =        np.concatenate(list(map(grab_n_epochs_of_model_metric_fun, epochs, models, ['loss']*3)), axis=0)\n",
        "  model_total_val_loss =    np.concatenate(list(map(grab_n_epochs_of_model_metric_fun, epochs, models, ['val_loss']*3)), axis=0)\n",
        "\n",
        "  model_total_val_9T_4P =   np.concatenate(list(map(grab_n_epochs_of_model_metric_fun, epochs, models, ['9T_4P']*3)), axis=0)\n",
        "  model_total_val_4T_9P =   np.concatenate(list(map(grab_n_epochs_of_model_metric_fun, epochs, models, ['4T_9P']*3)), axis=0)\n",
        "\n",
        "  \n",
        "  #ScatterPlotPoint and Annotate RestoredWeights1 \n",
        "  offsets = [0,restored_weights1, restored_weights1+restored_weights2]\n",
        "  labels = [label1, label2, label3]\n",
        "\n",
        "  for metric in list(('val_categorical_accuracy', 'val_loss', '9T_4P')):\n",
        "\n",
        "\n",
        "    if(metric=='val_categorical_accuracy'):\n",
        "      plt.plot(range(1,tot_epochs+1), model_total_cat_acc)\n",
        "      plt.plot(range(1,tot_epochs+1), model_total_val_cat_acc)\n",
        "    elif(metric=='val_loss'):\n",
        "      plt.plot(range(1,tot_epochs+1), model_total_loss)\n",
        "      plt.plot(range(1,tot_epochs+1), model_total_val_loss)\n",
        "    else:\n",
        "      plt.plot(range(1,tot_epochs+1), model_total_val_9T_4P, color='orange')\n",
        "      plt.plot(range(1,tot_epochs+1), model_total_val_4T_9P, color='orange', linestyle='dashed')\n",
        "\n",
        "    plt.xlim(xmin=0)\n",
        "\n",
        "\n",
        "    for epoch, model, offset, label in zip(epochs, models, offsets, labels):\n",
        "      # print(f'Epoch of Restored-Weights: {epoch}, Model: {model}, Offset: {offset}')\n",
        "      plt.scatter((epoch+offset), model.history[metric][epoch-1] , color='orange')\n",
        "      plt.annotate(text=label,  xy=((epoch+offset), model.history[metric][epoch-1]),\n",
        "                  textcoords=\"offset points\", \n",
        "                  xytext=(0,10), \n",
        "                  ha='center')\n",
        "    \n",
        "    if(metric=='val_categorical_accuracy'):\n",
        "      plt.ylabel('accuracy')\n",
        "      plt.title('model accuracy')\n",
        "      plt.legend(['train', 'val'], loc='lower right')\n",
        "    \n",
        "\n",
        "    elif(metric=='val_loss'):\n",
        "      plt.ylabel('loss')\n",
        "      plt.title('model loss')\n",
        "      plt.legend(['train', 'val'], loc='upper right')\n",
        "\n",
        "    else:\n",
        "      plt.ylabel('count')\n",
        "      plt.title('Validation misclassifications of 9T as 4P and reverse')\n",
        "      plt.legend(['9t_4p', '4t_9p'], loc='upper right')\n",
        "    \n",
        "\n",
        "    plt.xlabel('epoch (starts at 1)') \n",
        "    \n",
        "    plt.show()\n",
        "\n",
        "\n",
        "    history =   {'categorical_accuracy': model_total_cat_acc , \n",
        "               'val_categorical_accuracy': model_total_val_cat_acc  , \n",
        "              'loss': model_total_loss,\n",
        "               'val_loss': model_total_val_loss ,   \n",
        "               '9T_4P': model_total_val_9T_4P ,  \n",
        "               '4T_9P': model_total_val_4T_9P}\n",
        " \n",
        "\n",
        "\n",
        "  return history\n",
        " \n"
      ],
      "metadata": {
        "id": "07WwRSAh6qRW"
      },
      "execution_count": 8,
      "outputs": []
    },
    {
      "cell_type": "code",
      "source": [],
      "metadata": {
        "id": "-ZLsEH1ZrqZB"
      },
      "execution_count": 8,
      "outputs": []
    },
    {
      "cell_type": "markdown",
      "source": [
        "### *Keep Track of Experimental Admin Stuff - #Reps and #CostMatrix\n",
        "\n",
        "> Change the cost matrix and number of reps and check the file extension name \n"
      ],
      "metadata": {
        "id": "skXIN6S4npiV"
      }
    },
    {
      "cell_type": "markdown",
      "source": [
        "#### *Define Cost Matrix and Method"
      ],
      "metadata": {
        "id": "q9YhLRi4NU2E"
      }
    },
    {
      "cell_type": "code",
      "source": [
        "# Experimental Admin Stuff\n",
        "\n",
        "# # ### Weight of Misclassifications for three stages of training\n",
        "# lambda1, lambda2, lambda3 = 1, 1, 1\n",
        "\n",
        "\n",
        "# # ### Number of Epochs for each Stage of Training\n",
        "# train_epochs1, train_epochs2, train_epochs3 = 5, 5, 20\n",
        "\n",
        "# # ### Whether there is EarlyStopping and if so how many Epochs of Patience Patience=0 means no EarlyStopping\n",
        "# es1, es2, es3 = 5, 5, 20\n",
        "\n",
        "# # ### String of weights-of-misclassification for naming files\n",
        "# ## ~~~~~~~~~~~~~~~~~~~~~~~~~~~~~~~~~~~~~ \n",
        "# cost_str = str(lambda1) + \"_\" + str(lambda2) + \"_\"  + str(lambda3)\n",
        "# epochs_str = str(train_epochs1) + \"_\" + str(train_epochs2) + \"_\"  + str(train_epochs3)\n",
        "# patience_str = str(es1) + \"_\" + str(es2) + \"_\"  + str(es3)\n",
        "# # ## ~~~~~~~~~~~~~~~~~~~~~~~~~~~~~~~~~~~~~ \n",
        "\n",
        " \n",
        "\n",
        "# ### File Extension to reference in JMP : weights_method_costs1_2_3\n",
        "# ## ~~~~~~~~~~~~~~~~~~~~~~~~~~~~~~~~~~~~~\n",
        "# file_extension = \"w[9,4]_L_\" + cost_str + \"_E_\" + epochs_str + \"_P_\" + patience_str + \"_\"\n",
        "# ## ~~~~~~~~~~~~~~~~~~~~~~~~~~~~~~~~~~~~~\n",
        "# print(len(file_extension))\n",
        "\n",
        "\n",
        "# np.set_printoptions(suppress=True)\n",
        "# np.set_printoptions(precision=2)\n",
        "\n",
        "# print(\"Last run using \", cost_str)\n",
        "# print(\"File Extension \", file_extension)"
      ],
      "metadata": {
        "id": "3bMXTRRBnn3E",
        "colab": {
          "base_uri": "https://localhost:8080/"
        },
        "outputId": "89d3c341-4db7-4177-a4ad-b4fbc1bf7440"
      },
      "execution_count": 9,
      "outputs": [
        {
          "output_type": "stream",
          "name": "stdout",
          "text": [
            "33\n",
            "Last run using  1_1_1\n",
            "File Extension  w[9,4]_L_1_1_1_E_5_5_20_P_5_5_20_\n"
          ]
        }
      ]
    },
    {
      "cell_type": "markdown",
      "source": [
        "#### Run Experiments"
      ],
      "metadata": {
        "id": "x_EdEdJwOpvO"
      }
    },
    {
      "cell_type": "code",
      "source": [
        "#@title\n",
        "# cm = np.zeros([10,10])\n",
        "# combined_cms = np.empty((1,100))\n",
        "count = 0\n",
        "run = 0\n",
        "rep = 0\n",
        "reps = 1\n",
        "print(\"     | --- Init --- | | --- Mid --- | | --- Late --- | \")\n",
        "for i in [1, 100, 1000]: #lambda1\n",
        "  for j in [1, 100, 1000]:  #lambda2\n",
        "    for k in   [1, 100, 1000]: #lambda3\n",
        "      run+=1\n",
        "      for rep in range(1,reps+1):\n",
        "        count+=1\n",
        "        lambda1 = i\n",
        "        lambda2 =j\n",
        "        lambda3 = k\n",
        "        print(f\"{count}--{run}--{rep}    |     {i}     ,     {j}    ,    {k}     | \")\n",
        "\n",
        "\n",
        "        # ### Weight of Misclassifications for three stages of training\n",
        "        # lambda1, lambda2, lambda3 = 1, 1, 1\n",
        "\n",
        "\n",
        "        # ### Number of Epochs for each Stage of Training\n",
        "        train_epochs1, train_epochs2, train_epochs3 = 5, 5, 25\n",
        "\n",
        "        # ### Whether there is EarlyStopping and if so how many Epochs of Patience Patience=0 means no EarlyStopping\n",
        "        es1, es2, es3 = 0, 0, 25\n",
        "\n",
        "        # ### String of weights-of-misclassification for naming files\n",
        "        ## ~~~~~~~~~~~~~~~~~~~~~~~~~~~~~~~~~~~~~ \n",
        "        cost_str = str(lambda1) + \"_\" + str(lambda2) + \"_\"  + str(lambda3)\n",
        "        epochs_str = str(train_epochs1) + \"_\" + str(train_epochs2) + \"_\"  + str(train_epochs3)\n",
        "        patience_str = str(es1) + \"_\" + str(es2) + \"_\"  + str(es3)\n",
        "        # ## ~~~~~~~~~~~~~~~~~~~~~~~~~~~~~~~~~~~~~ \n",
        "\n",
        "        \n",
        "\n",
        "        ### File Extension to reference in JMP : weights_method_costs1_2_3\n",
        "        ## ~~~~~~~~~~~~~~~~~~~~~~~~~~~~~~~~~~~~~\n",
        "        file_extension = \"w[9,4]_L_\" + cost_str + \"_E_\" + epochs_str + \"_P_\" + patience_str + \"_\"\n",
        "        ## ~~~~~~~~~~~~~~~~~~~~~~~~~~~~~~~~~~~~~\n",
        "        # print(len(file_extension))\n",
        "\n",
        "\n",
        "        np.set_printoptions(suppress=True)\n",
        "        np.set_printoptions(precision=2)\n",
        "\n",
        "        print(\"Last run using \", cost_str)\n",
        "        print(\"File Extension \", file_extension)\n",
        "\n",
        "\n",
        "\n",
        "\n",
        "        combined_history_dictionary = {}  #because there will be a unknown number of epochs a dictionary is probly a better fit\n",
        "        combined_cms       = {}\n",
        "\n",
        "\n",
        "\n",
        "        def display_cm_after_training(training, cm):\n",
        "          print(\"After \", str(training), \" stage CM: \\n\", cm)\n",
        "          print(\"CM[9,4]: \", cm[4][9]) #yes this is the right format dont change! [First Value is the Column][Second Value is the Row]\n",
        "\n",
        "\n",
        "\n",
        "        #its easier for me to count my reps as \"1 and up\" instead of 0...   \n",
        "        print(f'{i}'*500)\n",
        "        print(\"Run\" , run, \"Rep \", rep, \"Starting with a  cost_matrix[9, 4] = \",  lambda1)\n",
        "        print(f'{i}'*500)\n",
        "\n",
        "        # Initial Training _________________________________________________________\n",
        "        cm1, history1, model1, restored_weights1 =  PA_method_epoch(None, lambda1, nb_epoch=train_epochs1, patience=es1 )    #Individual CM, and Training/Validation History\n",
        "        # plot_fx(history1, restored_weights1)\n",
        "        # display_cm_after_training(\"first\", cm1)\n",
        "\n",
        "        # Second Phase Training ______________________________________________________\n",
        "        print(\"Run \", run, \"Rep \", rep, \"second-phase training with a  cost_matrix[9, 4] = \",  lambda2)\n",
        "        cm2, history2, model2, restored_weights2 =  PA_method_epoch(model1, lambda2, nb_epoch=train_epochs2, patience=es2 )    #Individual CM, and Training/Validation History\n",
        "        # plot_fx(history2, restored_weights2)\n",
        "        # display_cm_after_training(\"second\", cm2)\n",
        "\n",
        "        \n",
        "        # Third Phase Training ____________________________________________________________\n",
        "        print(\"Run \", run, \"Rep \",rep, \"third-phase training with a  cost_matrix[9, 4] = \",  lambda3)\n",
        "        cm3, history3, model3, restored_weights3 =  PA_method_epoch(model2, lambda3, nb_epoch=train_epochs3, patience=es3 )    #Individual CM, and Training/Validation History\n",
        "        # plot_fx(history3, restored_weights3)\n",
        "        # display_cm_after_training(\"third\", cm3)\n",
        "        \n",
        "\n",
        "\n",
        "      # # Save the results of 1st 2nd and 3rd phase training in one combined_history_list or disctionary\n",
        "      #   combined_history_dictionary[run, i] = {\"First\": history1, \"Second\": history2, \"Third\": history3}\n",
        "      #   combined_history_list.extend((history1, history2, history3))\n",
        "        cm1_array = np.asarray(cm1)  #Indiv CM as array for storing\n",
        "        cm2_array = np.asarray(cm2)\n",
        "        cm3_array = np.asarray(cm3)\n",
        "\n",
        "        # This results in saving the three confusion matrices after the three stages of training\n",
        "        # The shape of the combined Cms will be 1x300 so that all can be saved on one-row\n",
        "      \n",
        "        cms = np.vstack((cm1_array.reshape((1,100)),\n",
        "                                  cm2_array.reshape((1,100)),\n",
        "                                  cm3_array.reshape((1,100)))\n",
        "                                )\n",
        "        \n",
        "\n",
        "        combined_history_4 = plot_3_fx(history1, history2, history3, restored_weights1, restored_weights2, restored_weights3)\n",
        "        combined_history_dictionary[run, rep] = {\"First\": history1, \"Second\": history2, \"Third\": history3, 'Combined': combined_history_4, '3ConfusionMatrices': cms}\n",
        "        combined_cms[run, rep] = cms\n",
        "\n",
        "        print(\"Run: \", run, \" Rep: \", rep, \"  complete \\n\")\n",
        "\n",
        "                    \n",
        "        # To access the dictionary values for all three stages of training:\n",
        "        for rep2 in range(1,reps+1):\n",
        "          for phase2 in [\"First\", \"Second\", \"Third\"]:\n",
        "            # print(combined_history_dictionary[run,rep][i].history.keys())\n",
        "            del combined_history_dictionary[run,rep2][phase2].model #https://github.com/keras-team/keras/issues/646 from FChollet\n",
        "\n",
        "\n",
        "        import pickle\n",
        "\n",
        "        str_reps = str(reps)\n",
        "\n",
        "\n",
        "        from datetime import date\n",
        "        from datetime import datetime\n",
        "        today = date.today()\n",
        "        file_date = today.strftime(\"%Y_%m_%d\")\n",
        "        now = datetime.now() # current date and time\n",
        "        file_time = now.strftime(\"%H%M\")\n",
        "        print(\"time:\", file_time)\n",
        "\n",
        "        str_runs = str(run)\n",
        "\n",
        "\n",
        "        file_name =  \"run\" + str_runs + \"_\" + str_reps + \"reps_\" + file_extension + \"_\" + file_date + \"_\" + file_time +  \"_.pkl\"\n",
        "        # print(file_name, \" will be saved with \", combined_cms.shape)\n",
        "\n",
        "        with open(file_name, 'wb') as handle:\n",
        "              \n",
        "            # A new file will be created\n",
        "            pickle.dump(combined_history_dictionary, handle,  protocol=pickle.HIGHEST_PROTOCOL)\n",
        "\n",
        "\n",
        "        # Open the file in binary mode\n",
        "        with open(file_name, 'rb') as handle:\n",
        "              \n",
        "            # Call load method to deserialze\n",
        "            unpickled_object = pickle.load(handle)\n",
        "          \n",
        "            print(unpickled_object == combined_history_dictionary)\n",
        "            \n",
        "        # print(file_name, \" was opened with \", var.shape)\n",
        "\n",
        "        from google.colab import files\n",
        "        files.download( file_name )  \n",
        "\n",
        "        print(file_name, \".pkl was saved to Downloads \")\n",
        "\n",
        "\n",
        "\n",
        "\n",
        "# "
      ],
      "metadata": {
        "id": "OSq7jMYUOF4t",
        "colab": {
          "base_uri": "https://localhost:8080/",
          "height": 1000
        },
        "outputId": "180a040d-ca20-409a-c10f-5613d25179d6"
      },
      "execution_count": null,
      "outputs": [
        {
          "output_type": "stream",
          "name": "stdout",
          "text": [
            "     | --- Init --- | | --- Mid --- | | --- Late --- | \n",
            "1--1--1    |     1     ,     1    ,    1     | \n",
            "33\n",
            "Last run using  1_1_1\n",
            "File Extension  w[9,4]_L_1_1_1_E_5_5_25_P_0_0_25_\n",
            "11111111111111111111111111111111111111111111111111111111111111111111111111111111111111111111111111111111111111111111111111111111111111111111111111111111111111111111111111111111111111111111111111111111111111111111111111111111111111111111111111111111111111111111111111111111111111111111111111111111111111111111111111111111111111111111111111111111111111111111111111111111111111111111111111111111111111111111111111111111111111111111111111111111111111111111111111111111111111111111111111111111111111111111\n",
            "Run 1 Rep  1 Starting with a  cost_matrix[9, 4] =  1\n",
            "11111111111111111111111111111111111111111111111111111111111111111111111111111111111111111111111111111111111111111111111111111111111111111111111111111111111111111111111111111111111111111111111111111111111111111111111111111111111111111111111111111111111111111111111111111111111111111111111111111111111111111111111111111111111111111111111111111111111111111111111111111111111111111111111111111111111111111111111111111111111111111111111111111111111111111111111111111111111111111111111111111111111111111111\n",
            "Parameter values specified for this training-cycle.  Number of epochs:  5 Number of epochs of Patience:  0\n",
            "The cost of a true  9   predicted as a  4  is  1\n",
            "No model was passed through so one will be initiated\n",
            "Epoch 1/5\n",
            "235/235 [==============================] - 4s 12ms/step - loss: 0.7557 - categorical_accuracy: 0.7664 - val_loss: 0.3149 - val_categorical_accuracy: 0.9079 - 9T_4P: 26.0000 - 4T_9P: 47.0000 - cm_per_epoch: 75.0000\n",
            "Epoch 2/5\n",
            "235/235 [==============================] - 4s 17ms/step - loss: 0.3818 - categorical_accuracy: 0.8885 - val_loss: 0.2462 - val_categorical_accuracy: 0.9255 - 9T_4P: 33.0000 - 4T_9P: 23.0000 - cm_per_epoch: 75.0000\n",
            "Epoch 3/5\n",
            "235/235 [==============================] - 2s 7ms/step - loss: 0.3149 - categorical_accuracy: 0.9077 - val_loss: 0.2057 - val_categorical_accuracy: 0.9365 - 9T_4P: 36.0000 - 4T_9P: 16.0000 - cm_per_epoch: 75.0000\n",
            "Epoch 4/5\n",
            "235/235 [==============================] - 2s 10ms/step - loss: 0.2773 - categorical_accuracy: 0.9191 - val_loss: 0.1852 - val_categorical_accuracy: 0.9439 - 9T_4P: 17.0000 - 4T_9P: 21.0000 - cm_per_epoch: 75.0000\n",
            "Epoch 5/5\n",
            "235/235 [==============================] - 2s 10ms/step - loss: 0.2459 - categorical_accuracy: 0.9277 - val_loss: 0.1740 - val_categorical_accuracy: 0.9460 - 9T_4P: 28.0000 - 4T_9P: 14.0000 - cm_per_epoch: 75.0000\n",
            "Total Epochs:  5\n",
            "Restored weights at  5 Patience used:  0\n",
            "Run  1 Rep  1 second-phase training with a  cost_matrix[9, 4] =  1\n",
            "Parameter values specified for this training-cycle.  Number of epochs:  5 Number of epochs of Patience:  0\n",
            "The cost of a true  9   predicted as a  4  is  1\n",
            "A model was passed through\n",
            "Epoch 1/5\n",
            "235/235 [==============================] - 4s 15ms/step - loss: 0.2334 - categorical_accuracy: 0.9304 - val_loss: 0.1602 - val_categorical_accuracy: 0.9513 - 9T_4P: 23.0000 - 4T_9P: 15.0000 - cm_per_epoch: 75.0000\n",
            "Epoch 2/5\n",
            "235/235 [==============================] - 4s 16ms/step - loss: 0.2193 - categorical_accuracy: 0.9355 - val_loss: 0.1520 - val_categorical_accuracy: 0.9548 - 9T_4P: 9.0000 - 4T_9P: 21.0000 - cm_per_epoch: 75.0000\n",
            "Epoch 3/5\n",
            "235/235 [==============================] - 2s 9ms/step - loss: 0.2085 - categorical_accuracy: 0.9381 - val_loss: 0.1497 - val_categorical_accuracy: 0.9557 - 9T_4P: 14.0000 - 4T_9P: 15.0000 - cm_per_epoch: 75.0000\n",
            "Epoch 4/5\n",
            "235/235 [==============================] - 3s 13ms/step - loss: 0.2014 - categorical_accuracy: 0.9409 - val_loss: 0.1413 - val_categorical_accuracy: 0.9565 - 9T_4P: 13.0000 - 4T_9P: 15.0000 - cm_per_epoch: 75.0000\n",
            "Epoch 5/5\n",
            "235/235 [==============================] - 2s 7ms/step - loss: 0.1932 - categorical_accuracy: 0.9429 - val_loss: 0.1448 - val_categorical_accuracy: 0.9552 - 9T_4P: 22.0000 - 4T_9P: 7.0000 - cm_per_epoch: 75.0000\n",
            "Total Epochs:  5\n",
            "Restored weights at  5 Patience used:  0\n",
            "Run  1 Rep  1 third-phase training with a  cost_matrix[9, 4] =  1\n",
            "Parameter values specified for this training-cycle.  Number of epochs:  25 Number of epochs of Patience:  25\n",
            "The cost of a true  9   predicted as a  4  is  1\n",
            "A model was passed through\n",
            "Epoch 1/25\n",
            "235/235 [==============================] - 6s 23ms/step - loss: 0.1882 - categorical_accuracy: 0.9441 - val_loss: 0.1351 - val_categorical_accuracy: 0.9592 - 9T_4P: 14.0000 - 4T_9P: 13.0000 - cm_per_epoch: 75.0000\n",
            "Epoch 2/25\n",
            "235/235 [==============================] - 3s 12ms/step - loss: 0.1823 - categorical_accuracy: 0.9457 - val_loss: 0.1361 - val_categorical_accuracy: 0.9603 - 9T_4P: 11.0000 - 4T_9P: 11.0000 - cm_per_epoch: 75.0000\n",
            "Epoch 3/25\n",
            "235/235 [==============================] - 3s 11ms/step - loss: 0.1786 - categorical_accuracy: 0.9467 - val_loss: 0.1332 - val_categorical_accuracy: 0.9601 - 9T_4P: 13.0000 - 4T_9P: 13.0000 - cm_per_epoch: 75.0000\n",
            "Epoch 4/25\n",
            "235/235 [==============================] - 3s 14ms/step - loss: 0.1737 - categorical_accuracy: 0.9480 - val_loss: 0.1358 - val_categorical_accuracy: 0.9596 - 9T_4P: 17.0000 - 4T_9P: 10.0000 - cm_per_epoch: 75.0000\n",
            "Epoch 5/25\n",
            "235/235 [==============================] - 4s 17ms/step - loss: 0.1691 - categorical_accuracy: 0.9496 - val_loss: 0.1336 - val_categorical_accuracy: 0.9609 - 9T_4P: 16.0000 - 4T_9P: 9.0000 - cm_per_epoch: 75.0000\n",
            "Epoch 6/25\n",
            "235/235 [==============================] - 3s 13ms/step - loss: 0.1683 - categorical_accuracy: 0.9500 - val_loss: 0.1270 - val_categorical_accuracy: 0.9633 - 9T_4P: 8.0000 - 4T_9P: 13.0000 - cm_per_epoch: 75.0000\n",
            "Epoch 7/25\n",
            "235/235 [==============================] - 3s 14ms/step - loss: 0.1654 - categorical_accuracy: 0.9512 - val_loss: 0.1304 - val_categorical_accuracy: 0.9609 - 9T_4P: 10.0000 - 4T_9P: 15.0000 - cm_per_epoch: 75.0000\n",
            "Epoch 8/25\n",
            "235/235 [==============================] - 2s 8ms/step - loss: 0.1625 - categorical_accuracy: 0.9521 - val_loss: 0.1322 - val_categorical_accuracy: 0.9613 - 9T_4P: 15.0000 - 4T_9P: 9.0000 - cm_per_epoch: 75.0000\n",
            "Epoch 9/25\n",
            "235/235 [==============================] - 3s 12ms/step - loss: 0.1548 - categorical_accuracy: 0.9539 - val_loss: 0.1337 - val_categorical_accuracy: 0.9632 - 9T_4P: 12.0000 - 4T_9P: 12.0000 - cm_per_epoch: 75.0000\n",
            "Epoch 10/25\n",
            "235/235 [==============================] - 2s 10ms/step - loss: 0.1568 - categorical_accuracy: 0.9531 - val_loss: 0.1312 - val_categorical_accuracy: 0.9629 - 9T_4P: 11.0000 - 4T_9P: 12.0000 - cm_per_epoch: 75.0000\n",
            "Epoch 11/25\n",
            "235/235 [==============================] - 1s 6ms/step - loss: 0.1509 - categorical_accuracy: 0.9546 - val_loss: 0.1314 - val_categorical_accuracy: 0.9623 - 9T_4P: 16.0000 - 4T_9P: 10.0000 - cm_per_epoch: 75.0000\n",
            "Epoch 12/25\n",
            "235/235 [==============================] - 3s 14ms/step - loss: 0.1499 - categorical_accuracy: 0.9551 - val_loss: 0.1308 - val_categorical_accuracy: 0.9623 - 9T_4P: 11.0000 - 4T_9P: 12.0000 - cm_per_epoch: 75.0000\n",
            "Epoch 13/25\n",
            "235/235 [==============================] - 3s 12ms/step - loss: 0.1458 - categorical_accuracy: 0.9558 - val_loss: 0.1276 - val_categorical_accuracy: 0.9645 - 9T_4P: 13.0000 - 4T_9P: 8.0000 - cm_per_epoch: 75.0000\n",
            "Epoch 14/25\n",
            "235/235 [==============================] - 1s 6ms/step - loss: 0.1479 - categorical_accuracy: 0.9556 - val_loss: 0.1328 - val_categorical_accuracy: 0.9631 - 9T_4P: 12.0000 - 4T_9P: 10.0000 - cm_per_epoch: 75.0000\n",
            "Epoch 15/25\n",
            "235/235 [==============================] - 2s 8ms/step - loss: 0.1440 - categorical_accuracy: 0.9571 - val_loss: 0.1288 - val_categorical_accuracy: 0.9633 - 9T_4P: 13.0000 - 4T_9P: 12.0000 - cm_per_epoch: 75.0000\n",
            "Epoch 16/25\n",
            "235/235 [==============================] - 2s 10ms/step - loss: 0.1456 - categorical_accuracy: 0.9561 - val_loss: 0.1335 - val_categorical_accuracy: 0.9624 - 9T_4P: 16.0000 - 4T_9P: 11.0000 - cm_per_epoch: 75.0000\n",
            "Epoch 17/25\n",
            "235/235 [==============================] - 3s 11ms/step - loss: 0.1403 - categorical_accuracy: 0.9586 - val_loss: 0.1365 - val_categorical_accuracy: 0.9615 - 9T_4P: 18.0000 - 4T_9P: 12.0000 - cm_per_epoch: 75.0000\n",
            "Epoch 18/25\n",
            "235/235 [==============================] - 3s 11ms/step - loss: 0.1410 - categorical_accuracy: 0.9569 - val_loss: 0.1283 - val_categorical_accuracy: 0.9645 - 9T_4P: 10.0000 - 4T_9P: 15.0000 - cm_per_epoch: 75.0000\n",
            "Epoch 19/25\n",
            "235/235 [==============================] - 3s 12ms/step - loss: 0.1410 - categorical_accuracy: 0.9573 - val_loss: 0.1307 - val_categorical_accuracy: 0.9633 - 9T_4P: 14.0000 - 4T_9P: 8.0000 - cm_per_epoch: 75.0000\n",
            "Epoch 20/25\n",
            "235/235 [==============================] - 2s 9ms/step - loss: 0.1350 - categorical_accuracy: 0.9598 - val_loss: 0.1310 - val_categorical_accuracy: 0.9641 - 9T_4P: 15.0000 - 4T_9P: 7.0000 - cm_per_epoch: 75.0000\n",
            "Epoch 21/25\n",
            "235/235 [==============================] - 2s 9ms/step - loss: 0.1338 - categorical_accuracy: 0.9602 - val_loss: 0.1313 - val_categorical_accuracy: 0.9633 - 9T_4P: 18.0000 - 4T_9P: 9.0000 - cm_per_epoch: 75.0000\n",
            "Epoch 22/25\n",
            "235/235 [==============================] - 2s 8ms/step - loss: 0.1372 - categorical_accuracy: 0.9585 - val_loss: 0.1311 - val_categorical_accuracy: 0.9639 - 9T_4P: 13.0000 - 4T_9P: 15.0000 - cm_per_epoch: 75.0000\n",
            "Epoch 23/25\n",
            "235/235 [==============================] - 3s 14ms/step - loss: 0.1302 - categorical_accuracy: 0.9604 - val_loss: 0.1367 - val_categorical_accuracy: 0.9639 - 9T_4P: 13.0000 - 4T_9P: 13.0000 - cm_per_epoch: 75.0000\n",
            "Epoch 24/25\n",
            "235/235 [==============================] - 3s 11ms/step - loss: 0.1343 - categorical_accuracy: 0.9600 - val_loss: 0.1278 - val_categorical_accuracy: 0.9653 - 9T_4P: 16.0000 - 4T_9P: 11.0000 - cm_per_epoch: 75.0000\n",
            "Epoch 25/25\n",
            "235/235 [==============================] - 4s 15ms/step - loss: 0.1303 - categorical_accuracy: 0.9612 - val_loss: 0.1324 - val_categorical_accuracy: 0.9655 - 9T_4P: 13.0000 - 4T_9P: 11.0000 - cm_per_epoch: 75.0000\n",
            "Total Epochs:  25\n",
            "Restored weights at  25 Patience used:  25\n",
            "Label1:  5 Val_Cat_Acc Value1:  0.9459999799728394\n",
            "Label2:  5 Val_Cat_Acc Value2:  0.9552000164985657\n",
            "Label3:  25 Val_Cat_Acc Value3:  0.9654666781425476\n"
          ]
        },
        {
          "output_type": "display_data",
          "data": {
            "text/plain": [
              "<Figure size 432x288 with 1 Axes>"
            ],
            "image/png": "[encoded data removed]"
          },
          "metadata": {
            "needs_background": "light"
          }
        },
        {
          "output_type": "display_data",
          "data": {
            "text/plain": [
              "<Figure size 432x288 with 1 Axes>"
            ],
            "image/png": "[encoded data removed]"
          },
          "metadata": {
            "needs_background": "light"
          }
        },
        {
          "output_type": "display_data",
          "data": {
            "text/plain": [
              "<Figure size 432x288 with 1 Axes>"
            ],
            "image/png": "[encoded data removed]"
          },
          "metadata": {
            "needs_background": "light"
          }
        },
        {
          "output_type": "stream",
          "name": "stdout",
          "text": [
            "Run:  1  Rep:  1   complete \n",
            "\n",
            "time: 2140\n",
            "False\n"
          ]
        },
        {
          "output_type": "display_data",
          "data": {
            "text/plain": [
              "<IPython.core.display.Javascript object>"
            ],
            "application/javascript": [
              "\n",
              "    async function download(id, filename, size) {\n",
              "      if (!google.colab.kernel.accessAllowed) {\n",
              "        return;\n",
              "      }\n",
              "      const div = document.createElement('div');\n",
              "      const label = document.createElement('label');\n",
              "      label.textContent = `Downloading \"${filename}\": `;\n",
              "      div.appendChild(label);\n",
              "      const progress = document.createElement('progress');\n",
              "      progress.max = size;\n",
              "      div.appendChild(progress);\n",
              "      document.body.appendChild(div);\n",
              "\n",
              "      const buffers = [];\n",
              "      let downloaded = 0;\n",
              "\n",
              "      const channel = await google.colab.kernel.comms.open(id);\n",
              "      // Send a message to notify the kernel that we're ready.\n",
              "      channel.send({})\n",
              "\n",
              "      for await (const message of channel.messages) {\n",
              "        // Send a message to notify the kernel that we're ready.\n",
              "        channel.send({})\n",
              "        if (message.buffers) {\n",
              "          for (const buffer of message.buffers) {\n",
              "            buffers.push(buffer);\n",
              "            downloaded += buffer.byteLength;\n",
              "            progress.value = downloaded;\n",
              "          }\n",
              "        }\n",
              "      }\n",
              "      const blob = new Blob(buffers, {type: 'application/binary'});\n",
              "      const a = document.createElement('a');\n",
              "      a.href = window.URL.createObjectURL(blob);\n",
              "      a.download = filename;\n",
              "      div.appendChild(a);\n",
              "      a.click();\n",
              "      div.remove();\n",
              "    }\n",
              "  "
            ]
          },
          "metadata": {}
        },
        {
          "output_type": "display_data",
          "data": {
            "text/plain": [
              "<IPython.core.display.Javascript object>"
            ],
            "application/javascript": [
              "download(\"download_2cb384f8-ede6-464c-aac6-1a1a7f98e23c\", \"run1_1reps_w[9,4]_L_1_1_1_E_5_5_25_P_0_0_25__2023_03_08_2140_.pkl\", 36708)"
            ]
          },
          "metadata": {}
        },
        {
          "output_type": "stream",
          "name": "stdout",
          "text": [
            "run1_1reps_w[9,4]_L_1_1_1_E_5_5_25_P_0_0_25__2023_03_08_2140_.pkl .pkl was saved to Downloads \n",
            "2--2--1    |     1     ,     1    ,    100     | \n",
            "35\n",
            "Last run using  1_1_100\n",
            "File Extension  w[9,4]_L_1_1_100_E_5_5_25_P_0_0_25_\n",
            "11111111111111111111111111111111111111111111111111111111111111111111111111111111111111111111111111111111111111111111111111111111111111111111111111111111111111111111111111111111111111111111111111111111111111111111111111111111111111111111111111111111111111111111111111111111111111111111111111111111111111111111111111111111111111111111111111111111111111111111111111111111111111111111111111111111111111111111111111111111111111111111111111111111111111111111111111111111111111111111111111111111111111111111\n",
            "Run 2 Rep  1 Starting with a  cost_matrix[9, 4] =  1\n",
            "11111111111111111111111111111111111111111111111111111111111111111111111111111111111111111111111111111111111111111111111111111111111111111111111111111111111111111111111111111111111111111111111111111111111111111111111111111111111111111111111111111111111111111111111111111111111111111111111111111111111111111111111111111111111111111111111111111111111111111111111111111111111111111111111111111111111111111111111111111111111111111111111111111111111111111111111111111111111111111111111111111111111111111111\n",
            "Parameter values specified for this training-cycle.  Number of epochs:  5 Number of epochs of Patience:  0\n",
            "The cost of a true  9   predicted as a  4  is  1\n",
            "No model was passed through so one will be initiated\n",
            "Epoch 1/5\n",
            "235/235 [==============================] - 4s 13ms/step - loss: 0.7557 - categorical_accuracy: 0.7664 - val_loss: 0.3149 - val_categorical_accuracy: 0.9079 - 9T_4P: 26.0000 - 4T_9P: 47.0000 - cm_per_epoch: 75.0000\n",
            "Epoch 2/5\n",
            "235/235 [==============================] - 3s 14ms/step - loss: 0.3818 - categorical_accuracy: 0.8885 - val_loss: 0.2462 - val_categorical_accuracy: 0.9255 - 9T_4P: 33.0000 - 4T_9P: 23.0000 - cm_per_epoch: 75.0000\n",
            "Epoch 3/5\n",
            "235/235 [==============================] - 3s 11ms/step - loss: 0.3149 - categorical_accuracy: 0.9077 - val_loss: 0.2057 - val_categorical_accuracy: 0.9365 - 9T_4P: 36.0000 - 4T_9P: 16.0000 - cm_per_epoch: 75.0000\n",
            "Epoch 4/5\n",
            "235/235 [==============================] - 2s 9ms/step - loss: 0.2773 - categorical_accuracy: 0.9191 - val_loss: 0.1852 - val_categorical_accuracy: 0.9439 - 9T_4P: 17.0000 - 4T_9P: 21.0000 - cm_per_epoch: 75.0000\n",
            "Epoch 5/5\n",
            "235/235 [==============================] - 3s 11ms/step - loss: 0.2460 - categorical_accuracy: 0.9276 - val_loss: 0.1747 - val_categorical_accuracy: 0.9451 - 9T_4P: 29.0000 - 4T_9P: 14.0000 - cm_per_epoch: 75.0000\n",
            "Total Epochs:  5\n",
            "Restored weights at  5 Patience used:  0\n",
            "Run  2 Rep  1 second-phase training with a  cost_matrix[9, 4] =  1\n",
            "Parameter values specified for this training-cycle.  Number of epochs:  5 Number of epochs of Patience:  0\n",
            "The cost of a true  9   predicted as a  4  is  1\n",
            "A model was passed through\n",
            "Epoch 1/5\n",
            "235/235 [==============================] - 2s 6ms/step - loss: 0.2332 - categorical_accuracy: 0.9305 - val_loss: 0.1597 - val_categorical_accuracy: 0.9511 - 9T_4P: 24.0000 - 4T_9P: 15.0000 - cm_per_epoch: 75.0000\n",
            "Epoch 2/5\n",
            "235/235 [==============================] - 3s 12ms/step - loss: 0.2192 - categorical_accuracy: 0.9354 - val_loss: 0.1530 - val_categorical_accuracy: 0.9549 - 9T_4P: 9.0000 - 4T_9P: 18.0000 - cm_per_epoch: 75.0000\n",
            "Epoch 3/5\n",
            "235/235 [==============================] - 2s 10ms/step - loss: 0.2084 - categorical_accuracy: 0.9378 - val_loss: 0.1498 - val_categorical_accuracy: 0.9545 - 9T_4P: 14.0000 - 4T_9P: 15.0000 - cm_per_epoch: 75.0000\n",
            "Epoch 4/5\n",
            "235/235 [==============================] - 3s 11ms/step - loss: 0.2013 - categorical_accuracy: 0.9409 - val_loss: 0.1413 - val_categorical_accuracy: 0.9571 - 9T_4P: 13.0000 - 4T_9P: 15.0000 - cm_per_epoch: 75.0000\n",
            "Epoch 5/5\n",
            "235/235 [==============================] - 4s 17ms/step - loss: 0.1933 - categorical_accuracy: 0.9428 - val_loss: 0.1441 - val_categorical_accuracy: 0.9556 - 9T_4P: 19.0000 - 4T_9P: 8.0000 - cm_per_epoch: 75.0000\n",
            "Total Epochs:  5\n",
            "Restored weights at  5 Patience used:  0\n",
            "Run  2 Rep  1 third-phase training with a  cost_matrix[9, 4] =  100\n",
            "Parameter values specified for this training-cycle.  Number of epochs:  25 Number of epochs of Patience:  25\n",
            "The cost of a true  9   predicted as a  4  is  100\n",
            "A model was passed through\n",
            "Epoch 1/25\n",
            "235/235 [==============================] - 4s 12ms/step - loss: 0.1883 - categorical_accuracy: 0.9444 - val_loss: 0.1358 - val_categorical_accuracy: 0.9585 - 9T_4P: 13.0000 - 4T_9P: 13.0000 - cm_per_epoch: 75.0000\n",
            "Epoch 2/25\n",
            "235/235 [==============================] - 4s 18ms/step - loss: 0.1822 - categorical_accuracy: 0.9456 - val_loss: 0.1364 - val_categorical_accuracy: 0.9609 - 9T_4P: 10.0000 - 4T_9P: 12.0000 - cm_per_epoch: 75.0000\n",
            "Epoch 3/25\n",
            "235/235 [==============================] - 4s 16ms/step - loss: 0.1786 - categorical_accuracy: 0.9470 - val_loss: 0.1323 - val_categorical_accuracy: 0.9603 - 9T_4P: 12.0000 - 4T_9P: 12.0000 - cm_per_epoch: 75.0000\n",
            "Epoch 4/25\n",
            "235/235 [==============================] - 3s 13ms/step - loss: 0.1740 - categorical_accuracy: 0.9477 - val_loss: 0.1349 - val_categorical_accuracy: 0.9597 - 9T_4P: 21.0000 - 4T_9P: 10.0000 - cm_per_epoch: 75.0000\n",
            "Epoch 5/25\n",
            "235/235 [==============================] - 3s 11ms/step - loss: 0.1691 - categorical_accuracy: 0.9494 - val_loss: 0.1340 - val_categorical_accuracy: 0.9611 - 9T_4P: 16.0000 - 4T_9P: 9.0000 - cm_per_epoch: 75.0000\n",
            "Epoch 6/25\n",
            "235/235 [==============================] - 2s 10ms/step - loss: 0.1682 - categorical_accuracy: 0.9503 - val_loss: 0.1273 - val_categorical_accuracy: 0.9623 - 9T_4P: 10.0000 - 4T_9P: 12.0000 - cm_per_epoch: 75.0000\n",
            "Epoch 7/25\n",
            "235/235 [==============================] - 3s 13ms/step - loss: 0.1655 - categorical_accuracy: 0.9508 - val_loss: 0.1309 - val_categorical_accuracy: 0.9617 - 9T_4P: 9.0000 - 4T_9P: 15.0000 - cm_per_epoch: 75.0000\n",
            "Epoch 8/25\n",
            "235/235 [==============================] - 2s 7ms/step - loss: 0.1626 - categorical_accuracy: 0.9523 - val_loss: 0.1335 - val_categorical_accuracy: 0.9620 - 9T_4P: 14.0000 - 4T_9P: 10.0000 - cm_per_epoch: 75.0000\n",
            "Epoch 9/25\n",
            "235/235 [==============================] - 2s 9ms/step - loss: 0.1548 - categorical_accuracy: 0.9541 - val_loss: 0.1347 - val_categorical_accuracy: 0.9627 - 9T_4P: 12.0000 - 4T_9P: 13.0000 - cm_per_epoch: 75.0000\n",
            "Epoch 10/25\n",
            "235/235 [==============================] - 5s 19ms/step - loss: 0.1567 - categorical_accuracy: 0.9534 - val_loss: 0.1330 - val_categorical_accuracy: 0.9621 - 9T_4P: 11.0000 - 4T_9P: 11.0000 - cm_per_epoch: 75.0000\n",
            "Epoch 11/25\n",
            "235/235 [==============================] - 3s 11ms/step - loss: 0.1511 - categorical_accuracy: 0.9546 - val_loss: 0.1308 - val_categorical_accuracy: 0.9628 - 9T_4P: 18.0000 - 4T_9P: 10.0000 - cm_per_epoch: 75.0000\n",
            "Epoch 12/25\n",
            "235/235 [==============================] - 3s 14ms/step - loss: 0.1499 - categorical_accuracy: 0.9550 - val_loss: 0.1303 - val_categorical_accuracy: 0.9623 - 9T_4P: 11.0000 - 4T_9P: 13.0000 - cm_per_epoch: 75.0000\n",
            "Epoch 13/25\n",
            "235/235 [==============================] - 3s 13ms/step - loss: 0.1466 - categorical_accuracy: 0.9560 - val_loss: 0.1287 - val_categorical_accuracy: 0.9645 - 9T_4P: 13.0000 - 4T_9P: 9.0000 - cm_per_epoch: 75.0000\n",
            "Epoch 14/25\n",
            "235/235 [==============================] - 2s 10ms/step - loss: 0.1477 - categorical_accuracy: 0.9560 - val_loss: 0.1319 - val_categorical_accuracy: 0.9633 - 9T_4P: 14.0000 - 4T_9P: 11.0000 - cm_per_epoch: 75.0000\n",
            "Epoch 15/25\n",
            "235/235 [==============================] - 1s 6ms/step - loss: 0.1443 - categorical_accuracy: 0.9564 - val_loss: 0.1290 - val_categorical_accuracy: 0.9648 - 9T_4P: 15.0000 - 4T_9P: 9.0000 - cm_per_epoch: 75.0000\n",
            "Epoch 16/25\n",
            "235/235 [==============================] - 3s 11ms/step - loss: 0.1454 - categorical_accuracy: 0.9567 - val_loss: 0.1354 - val_categorical_accuracy: 0.9637 - 9T_4P: 22.0000 - 4T_9P: 5.0000 - cm_per_epoch: 75.0000\n",
            "Epoch 17/25\n",
            "235/235 [==============================] - 3s 11ms/step - loss: 0.1405 - categorical_accuracy: 0.9586 - val_loss: 0.1355 - val_categorical_accuracy: 0.9633 - 9T_4P: 17.0000 - 4T_9P: 11.0000 - cm_per_epoch: 75.0000\n",
            "Epoch 18/25\n",
            "235/235 [==============================] - 2s 9ms/step - loss: 0.1411 - categorical_accuracy: 0.9575 - val_loss: 0.1285 - val_categorical_accuracy: 0.9652 - 9T_4P: 9.0000 - 4T_9P: 14.0000 - cm_per_epoch: 75.0000\n",
            "Epoch 19/25\n",
            "235/235 [==============================] - 3s 12ms/step - loss: 0.1406 - categorical_accuracy: 0.9577 - val_loss: 0.1308 - val_categorical_accuracy: 0.9640 - 9T_4P: 12.0000 - 4T_9P: 9.0000 - cm_per_epoch: 75.0000\n",
            "Epoch 20/25\n",
            "235/235 [==============================] - 2s 10ms/step - loss: 0.1354 - categorical_accuracy: 0.9599 - val_loss: 0.1303 - val_categorical_accuracy: 0.9653 - 9T_4P: 13.0000 - 4T_9P: 11.0000 - cm_per_epoch: 75.0000\n",
            "Epoch 21/25\n",
            "235/235 [==============================] - 3s 12ms/step - loss: 0.1339 - categorical_accuracy: 0.9599 - val_loss: 0.1310 - val_categorical_accuracy: 0.9640 - 9T_4P: 17.0000 - 4T_9P: 8.0000 - cm_per_epoch: 75.0000\n",
            "Epoch 22/25\n",
            "235/235 [==============================] - 4s 17ms/step - loss: 0.1376 - categorical_accuracy: 0.9587 - val_loss: 0.1311 - val_categorical_accuracy: 0.9643 - 9T_4P: 12.0000 - 4T_9P: 15.0000 - cm_per_epoch: 75.0000\n",
            "Epoch 23/25\n",
            "235/235 [==============================] - 2s 10ms/step - loss: 0.1305 - categorical_accuracy: 0.9603 - val_loss: 0.1352 - val_categorical_accuracy: 0.9647 - 9T_4P: 16.0000 - 4T_9P: 9.0000 - cm_per_epoch: 75.0000\n",
            "Epoch 24/25\n",
            "235/235 [==============================] - 2s 10ms/step - loss: 0.1340 - categorical_accuracy: 0.9601 - val_loss: 0.1269 - val_categorical_accuracy: 0.9667 - 9T_4P: 15.0000 - 4T_9P: 11.0000 - cm_per_epoch: 75.0000\n",
            "Epoch 25/25\n",
            "235/235 [==============================] - 3s 11ms/step - loss: 0.1307 - categorical_accuracy: 0.9615 - val_loss: 0.1317 - val_categorical_accuracy: 0.9657 - 9T_4P: 13.0000 - 4T_9P: 12.0000 - cm_per_epoch: 75.0000\n",
            "Total Epochs:  25\n",
            "Restored weights at  25 Patience used:  25\n",
            "Label1:  5 Val_Cat_Acc Value1:  0.9450666904449463\n",
            "Label2:  5 Val_Cat_Acc Value2:  0.9556000232696533\n",
            "Label3:  25 Val_Cat_Acc Value3:  0.9657333493232727\n"
          ]
        },
        {
          "output_type": "display_data",
          "data": {
            "text/plain": [
              "<Figure size 432x288 with 1 Axes>"
            ],
            "image/png": "[encoded data removed]"
          },
          "metadata": {
            "needs_background": "light"
          }
        },
        {
          "output_type": "display_data",
          "data": {
            "text/plain": [
              "<Figure size 432x288 with 1 Axes>"
            ],
            "image/png": "[encoded data removed]"
          },
          "metadata": {
            "needs_background": "light"
          }
        },
        {
          "output_type": "display_data",
          "data": {
            "text/plain": [
              "<Figure size 432x288 with 1 Axes>"
            ],
            "image/png": "[encoded data removed]"
          },
          "metadata": {
            "needs_background": "light"
          }
        },
        {
          "output_type": "stream",
          "name": "stdout",
          "text": [
            "Run:  2  Rep:  1   complete \n",
            "\n",
            "time: 2142\n",
            "False\n"
          ]
        },
        {
          "output_type": "display_data",
          "data": {
            "text/plain": [
              "<IPython.core.display.Javascript object>"
            ],
            "application/javascript": [
              "\n",
              "    async function download(id, filename, size) {\n",
              "      if (!google.colab.kernel.accessAllowed) {\n",
              "        return;\n",
              "      }\n",
              "      const div = document.createElement('div');\n",
              "      const label = document.createElement('label');\n",
              "      label.textContent = `Downloading \"${filename}\": `;\n",
              "      div.appendChild(label);\n",
              "      const progress = document.createElement('progress');\n",
              "      progress.max = size;\n",
              "      div.appendChild(progress);\n",
              "      document.body.appendChild(div);\n",
              "\n",
              "      const buffers = [];\n",
              "      let downloaded = 0;\n",
              "\n",
              "      const channel = await google.colab.kernel.comms.open(id);\n",
              "      // Send a message to notify the kernel that we're ready.\n",
              "      channel.send({})\n",
              "\n",
              "      for await (const message of channel.messages) {\n",
              "        // Send a message to notify the kernel that we're ready.\n",
              "        channel.send({})\n",
              "        if (message.buffers) {\n",
              "          for (const buffer of message.buffers) {\n",
              "            buffers.push(buffer);\n",
              "            downloaded += buffer.byteLength;\n",
              "            progress.value = downloaded;\n",
              "          }\n",
              "        }\n",
              "      }\n",
              "      const blob = new Blob(buffers, {type: 'application/binary'});\n",
              "      const a = document.createElement('a');\n",
              "      a.href = window.URL.createObjectURL(blob);\n",
              "      a.download = filename;\n",
              "      div.appendChild(a);\n",
              "      a.click();\n",
              "      div.remove();\n",
              "    }\n",
              "  "
            ]
          },
          "metadata": {}
        },
        {
          "output_type": "display_data",
          "data": {
            "text/plain": [
              "<IPython.core.display.Javascript object>"
            ],
            "application/javascript": [
              "download(\"download_41cb2af6-4a49-4ae1-af6b-e144f40ba816\", \"run2_1reps_w[9,4]_L_1_1_100_E_5_5_25_P_0_0_25__2023_03_08_2142_.pkl\", 36708)"
            ]
          },
          "metadata": {}
        },
        {
          "output_type": "stream",
          "name": "stdout",
          "text": [
            "run2_1reps_w[9,4]_L_1_1_100_E_5_5_25_P_0_0_25__2023_03_08_2142_.pkl .pkl was saved to Downloads \n",
            "3--3--1    |     1     ,     1    ,    1000     | \n",
            "36\n",
            "Last run using  1_1_1000\n",
            "File Extension  w[9,4]_L_1_1_1000_E_5_5_25_P_0_0_25_\n",
            "11111111111111111111111111111111111111111111111111111111111111111111111111111111111111111111111111111111111111111111111111111111111111111111111111111111111111111111111111111111111111111111111111111111111111111111111111111111111111111111111111111111111111111111111111111111111111111111111111111111111111111111111111111111111111111111111111111111111111111111111111111111111111111111111111111111111111111111111111111111111111111111111111111111111111111111111111111111111111111111111111111111111111111111\n",
            "Run 3 Rep  1 Starting with a  cost_matrix[9, 4] =  1\n",
            "11111111111111111111111111111111111111111111111111111111111111111111111111111111111111111111111111111111111111111111111111111111111111111111111111111111111111111111111111111111111111111111111111111111111111111111111111111111111111111111111111111111111111111111111111111111111111111111111111111111111111111111111111111111111111111111111111111111111111111111111111111111111111111111111111111111111111111111111111111111111111111111111111111111111111111111111111111111111111111111111111111111111111111111\n",
            "Parameter values specified for this training-cycle.  Number of epochs:  5 Number of epochs of Patience:  0\n",
            "The cost of a true  9   predicted as a  4  is  1\n",
            "No model was passed through so one will be initiated\n",
            "Epoch 1/5\n",
            "235/235 [==============================] - 7s 23ms/step - loss: 0.7557 - categorical_accuracy: 0.7664 - val_loss: 0.3149 - val_categorical_accuracy: 0.9079 - 9T_4P: 26.0000 - 4T_9P: 47.0000 - cm_per_epoch: 75.0000\n",
            "Epoch 2/5\n",
            "235/235 [==============================] - 2s 10ms/step - loss: 0.3818 - categorical_accuracy: 0.8885 - val_loss: 0.2462 - val_categorical_accuracy: 0.9255 - 9T_4P: 33.0000 - 4T_9P: 23.0000 - cm_per_epoch: 75.0000\n",
            "Epoch 3/5\n",
            "235/235 [==============================] - 4s 18ms/step - loss: 0.3149 - categorical_accuracy: 0.9077 - val_loss: 0.2057 - val_categorical_accuracy: 0.9365 - 9T_4P: 36.0000 - 4T_9P: 16.0000 - cm_per_epoch: 75.0000\n",
            "Epoch 4/5\n",
            "235/235 [==============================] - 3s 15ms/step - loss: 0.2773 - categorical_accuracy: 0.9191 - val_loss: 0.1852 - val_categorical_accuracy: 0.9439 - 9T_4P: 17.0000 - 4T_9P: 21.0000 - cm_per_epoch: 75.0000\n",
            "Epoch 5/5\n",
            "235/235 [==============================] - 3s 11ms/step - loss: 0.2460 - categorical_accuracy: 0.9276 - val_loss: 0.1747 - val_categorical_accuracy: 0.9451 - 9T_4P: 29.0000 - 4T_9P: 14.0000 - cm_per_epoch: 75.0000\n",
            "Total Epochs:  5\n",
            "Restored weights at  5 Patience used:  0\n",
            "Run  3 Rep  1 second-phase training with a  cost_matrix[9, 4] =  1\n",
            "Parameter values specified for this training-cycle.  Number of epochs:  5 Number of epochs of Patience:  0\n",
            "The cost of a true  9   predicted as a  4  is  1\n",
            "A model was passed through\n",
            "Epoch 1/5\n",
            "235/235 [==============================] - 4s 15ms/step - loss: 0.2332 - categorical_accuracy: 0.9305 - val_loss: 0.1597 - val_categorical_accuracy: 0.9511 - 9T_4P: 24.0000 - 4T_9P: 15.0000 - cm_per_epoch: 75.0000\n",
            "Epoch 2/5\n",
            "235/235 [==============================] - 2s 9ms/step - loss: 0.2192 - categorical_accuracy: 0.9354 - val_loss: 0.1530 - val_categorical_accuracy: 0.9549 - 9T_4P: 9.0000 - 4T_9P: 18.0000 - cm_per_epoch: 75.0000\n",
            "Epoch 3/5\n",
            "235/235 [==============================] - 3s 11ms/step - loss: 0.2084 - categorical_accuracy: 0.9378 - val_loss: 0.1498 - val_categorical_accuracy: 0.9545 - 9T_4P: 14.0000 - 4T_9P: 15.0000 - cm_per_epoch: 75.0000\n",
            "Epoch 4/5\n",
            "235/235 [==============================] - 4s 19ms/step - loss: 0.2013 - categorical_accuracy: 0.9409 - val_loss: 0.1413 - val_categorical_accuracy: 0.9571 - 9T_4P: 13.0000 - 4T_9P: 15.0000 - cm_per_epoch: 75.0000\n",
            "Epoch 5/5\n",
            "235/235 [==============================] - 3s 12ms/step - loss: 0.1932 - categorical_accuracy: 0.9429 - val_loss: 0.1446 - val_categorical_accuracy: 0.9555 - 9T_4P: 19.0000 - 4T_9P: 8.0000 - cm_per_epoch: 75.0000\n",
            "Total Epochs:  5\n",
            "Restored weights at  5 Patience used:  0\n",
            "Run  3 Rep  1 third-phase training with a  cost_matrix[9, 4] =  1000\n",
            "Parameter values specified for this training-cycle.  Number of epochs:  25 Number of epochs of Patience:  25\n",
            "The cost of a true  9   predicted as a  4  is  1000\n",
            "A model was passed through\n",
            "Epoch 1/25\n",
            "235/235 [==============================] - 4s 11ms/step - loss: 0.1881 - categorical_accuracy: 0.9443 - val_loss: 0.1365 - val_categorical_accuracy: 0.9588 - 9T_4P: 15.0000 - 4T_9P: 13.0000 - cm_per_epoch: 75.0000\n",
            "Epoch 2/25\n",
            "235/235 [==============================] - 4s 16ms/step - loss: 0.1822 - categorical_accuracy: 0.9457 - val_loss: 0.1365 - val_categorical_accuracy: 0.9600 - 9T_4P: 10.0000 - 4T_9P: 12.0000 - cm_per_epoch: 75.0000\n",
            "Epoch 3/25\n",
            "235/235 [==============================] - 1s 6ms/step - loss: 0.1787 - categorical_accuracy: 0.9471 - val_loss: 0.1340 - val_categorical_accuracy: 0.9603 - 9T_4P: 13.0000 - 4T_9P: 14.0000 - cm_per_epoch: 75.0000\n",
            "Epoch 4/25\n",
            "235/235 [==============================] - 2s 9ms/step - loss: 0.1740 - categorical_accuracy: 0.9480 - val_loss: 0.1370 - val_categorical_accuracy: 0.9591 - 9T_4P: 21.0000 - 4T_9P: 10.0000 - cm_per_epoch: 75.0000\n",
            "Epoch 5/25\n",
            "235/235 [==============================] - 3s 12ms/step - loss: 0.1693 - categorical_accuracy: 0.9494 - val_loss: 0.1335 - val_categorical_accuracy: 0.9611 - 9T_4P: 17.0000 - 4T_9P: 9.0000 - cm_per_epoch: 75.0000\n",
            "Epoch 6/25\n",
            "235/235 [==============================] - 3s 15ms/step - loss: 0.1683 - categorical_accuracy: 0.9497 - val_loss: 0.1276 - val_categorical_accuracy: 0.9627 - 9T_4P: 10.0000 - 4T_9P: 12.0000 - cm_per_epoch: 75.0000\n",
            "Epoch 7/25\n",
            "235/235 [==============================] - 3s 14ms/step - loss: 0.1655 - categorical_accuracy: 0.9511 - val_loss: 0.1307 - val_categorical_accuracy: 0.9620 - 9T_4P: 9.0000 - 4T_9P: 15.0000 - cm_per_epoch: 75.0000\n",
            "Epoch 8/25\n",
            "235/235 [==============================] - 3s 11ms/step - loss: 0.1625 - categorical_accuracy: 0.9525 - val_loss: 0.1336 - val_categorical_accuracy: 0.9624 - 9T_4P: 15.0000 - 4T_9P: 10.0000 - cm_per_epoch: 75.0000\n",
            "Epoch 9/25\n",
            "235/235 [==============================] - 3s 11ms/step - loss: 0.1550 - categorical_accuracy: 0.9540 - val_loss: 0.1346 - val_categorical_accuracy: 0.9620 - 9T_4P: 14.0000 - 4T_9P: 11.0000 - cm_per_epoch: 75.0000\n",
            "Epoch 10/25\n",
            "235/235 [==============================] - 3s 12ms/step - loss: 0.1568 - categorical_accuracy: 0.9530 - val_loss: 0.1322 - val_categorical_accuracy: 0.9632 - 9T_4P: 10.0000 - 4T_9P: 13.0000 - cm_per_epoch: 75.0000\n",
            "Epoch 11/25\n",
            "235/235 [==============================] - 2s 7ms/step - loss: 0.1511 - categorical_accuracy: 0.9546 - val_loss: 0.1320 - val_categorical_accuracy: 0.9624 - 9T_4P: 17.0000 - 4T_9P: 9.0000 - cm_per_epoch: 75.0000\n",
            "Epoch 12/25\n",
            "235/235 [==============================] - 3s 11ms/step - loss: 0.1502 - categorical_accuracy: 0.9551 - val_loss: 0.1308 - val_categorical_accuracy: 0.9625 - 9T_4P: 10.0000 - 4T_9P: 11.0000 - cm_per_epoch: 75.0000\n",
            "Epoch 13/25\n",
            "235/235 [==============================] - 3s 11ms/step - loss: 0.1465 - categorical_accuracy: 0.9560 - val_loss: 0.1270 - val_categorical_accuracy: 0.9643 - 9T_4P: 13.0000 - 4T_9P: 8.0000 - cm_per_epoch: 75.0000\n",
            "Epoch 14/25\n",
            "235/235 [==============================] - 3s 14ms/step - loss: 0.1479 - categorical_accuracy: 0.9556 - val_loss: 0.1336 - val_categorical_accuracy: 0.9625 - 9T_4P: 10.0000 - 4T_9P: 11.0000 - cm_per_epoch: 75.0000\n",
            "Epoch 15/25\n",
            "235/235 [==============================] - 1s 6ms/step - loss: 0.1442 - categorical_accuracy: 0.9567 - val_loss: 0.1292 - val_categorical_accuracy: 0.9641 - 9T_4P: 12.0000 - 4T_9P: 13.0000 - cm_per_epoch: 75.0000\n",
            "Epoch 16/25\n",
            "235/235 [==============================] - 2s 9ms/step - loss: 0.1457 - categorical_accuracy: 0.9562 - val_loss: 0.1337 - val_categorical_accuracy: 0.9639 - 9T_4P: 20.0000 - 4T_9P: 6.0000 - cm_per_epoch: 75.0000\n",
            "Epoch 17/25\n",
            "235/235 [==============================] - 3s 13ms/step - loss: 0.1404 - categorical_accuracy: 0.9583 - val_loss: 0.1347 - val_categorical_accuracy: 0.9631 - 9T_4P: 14.0000 - 4T_9P: 12.0000 - cm_per_epoch: 75.0000\n",
            "Epoch 18/25\n",
            "235/235 [==============================] - 3s 13ms/step - loss: 0.1410 - categorical_accuracy: 0.9578 - val_loss: 0.1280 - val_categorical_accuracy: 0.9647 - 9T_4P: 7.0000 - 4T_9P: 16.0000 - cm_per_epoch: 75.0000\n",
            "Epoch 19/25\n",
            "235/235 [==============================] - 3s 12ms/step - loss: 0.1407 - categorical_accuracy: 0.9577 - val_loss: 0.1296 - val_categorical_accuracy: 0.9637 - 9T_4P: 16.0000 - 4T_9P: 10.0000 - cm_per_epoch: 75.0000\n",
            "Epoch 20/25\n",
            "235/235 [==============================] - 3s 14ms/step - loss: 0.1350 - categorical_accuracy: 0.9597 - val_loss: 0.1325 - val_categorical_accuracy: 0.9640 - 9T_4P: 15.0000 - 4T_9P: 9.0000 - cm_per_epoch: 75.0000\n",
            "Epoch 21/25\n",
            "235/235 [==============================] - 3s 12ms/step - loss: 0.1343 - categorical_accuracy: 0.9604 - val_loss: 0.1305 - val_categorical_accuracy: 0.9645 - 9T_4P: 14.0000 - 4T_9P: 12.0000 - cm_per_epoch: 75.0000\n",
            "Epoch 22/25\n",
            "235/235 [==============================] - 4s 17ms/step - loss: 0.1376 - categorical_accuracy: 0.9587 - val_loss: 0.1302 - val_categorical_accuracy: 0.9645 - 9T_4P: 13.0000 - 4T_9P: 13.0000 - cm_per_epoch: 75.0000\n",
            "Epoch 23/25\n",
            "235/235 [==============================] - 3s 11ms/step - loss: 0.1306 - categorical_accuracy: 0.9601 - val_loss: 0.1350 - val_categorical_accuracy: 0.9640 - 9T_4P: 12.0000 - 4T_9P: 14.0000 - cm_per_epoch: 75.0000\n",
            "Epoch 24/25\n",
            "235/235 [==============================] - 3s 13ms/step - loss: 0.1346 - categorical_accuracy: 0.9595 - val_loss: 0.1291 - val_categorical_accuracy: 0.9667 - 9T_4P: 16.0000 - 4T_9P: 10.0000 - cm_per_epoch: 75.0000\n",
            "Epoch 25/25\n",
            "235/235 [==============================] - 4s 15ms/step - loss: 0.1305 - categorical_accuracy: 0.9614 - val_loss: 0.1313 - val_categorical_accuracy: 0.9659 - 9T_4P: 14.0000 - 4T_9P: 12.0000 - cm_per_epoch: 75.0000\n",
            "Total Epochs:  25\n",
            "Restored weights at  25 Patience used:  25\n",
            "Label1:  5 Val_Cat_Acc Value1:  0.9450666904449463\n",
            "Label2:  5 Val_Cat_Acc Value2:  0.9554666876792908\n",
            "Label3:  25 Val_Cat_Acc Value3:  0.9658666849136353\n"
          ]
        },
        {
          "output_type": "display_data",
          "data": {
            "text/plain": [
              "<Figure size 432x288 with 1 Axes>"
            ],
            "image/png": "[encoded data removed]"
          },
          "metadata": {
            "needs_background": "light"
          }
        },
        {
          "output_type": "display_data",
          "data": {
            "text/plain": [
              "<Figure size 432x288 with 1 Axes>"
            ],
            "image/png": "[encoded data removed]"
          },
          "metadata": {
            "needs_background": "light"
          }
        },
        {
          "output_type": "display_data",
          "data": {
            "text/plain": [
              "<Figure size 432x288 with 1 Axes>"
            ],
            "image/png": "[encoded data removed]"
          },
          "metadata": {
            "needs_background": "light"
          }
        },
        {
          "output_type": "stream",
          "name": "stdout",
          "text": [
            "Run:  3  Rep:  1   complete \n",
            "\n",
            "time: 2144\n",
            "False\n"
          ]
        },
        {
          "output_type": "display_data",
          "data": {
            "text/plain": [
              "<IPython.core.display.Javascript object>"
            ],
            "application/javascript": [
              "\n",
              "    async function download(id, filename, size) {\n",
              "      if (!google.colab.kernel.accessAllowed) {\n",
              "        return;\n",
              "      }\n",
              "      const div = document.createElement('div');\n",
              "      const label = document.createElement('label');\n",
              "      label.textContent = `Downloading \"${filename}\": `;\n",
              "      div.appendChild(label);\n",
              "      const progress = document.createElement('progress');\n",
              "      progress.max = size;\n",
              "      div.appendChild(progress);\n",
              "      document.body.appendChild(div);\n",
              "\n",
              "      const buffers = [];\n",
              "      let downloaded = 0;\n",
              "\n",
              "      const channel = await google.colab.kernel.comms.open(id);\n",
              "      // Send a message to notify the kernel that we're ready.\n",
              "      channel.send({})\n",
              "\n",
              "      for await (const message of channel.messages) {\n",
              "        // Send a message to notify the kernel that we're ready.\n",
              "        channel.send({})\n",
              "        if (message.buffers) {\n",
              "          for (const buffer of message.buffers) {\n",
              "            buffers.push(buffer);\n",
              "            downloaded += buffer.byteLength;\n",
              "            progress.value = downloaded;\n",
              "          }\n",
              "        }\n",
              "      }\n",
              "      const blob = new Blob(buffers, {type: 'application/binary'});\n",
              "      const a = document.createElement('a');\n",
              "      a.href = window.URL.createObjectURL(blob);\n",
              "      a.download = filename;\n",
              "      div.appendChild(a);\n",
              "      a.click();\n",
              "      div.remove();\n",
              "    }\n",
              "  "
            ]
          },
          "metadata": {}
        },
        {
          "output_type": "display_data",
          "data": {
            "text/plain": [
              "<IPython.core.display.Javascript object>"
            ],
            "application/javascript": [
              "download(\"download_a5fb5e29-6831-4809-8f57-8f123149b69c\", \"run3_1reps_w[9,4]_L_1_1_1000_E_5_5_25_P_0_0_25__2023_03_08_2144_.pkl\", 36708)"
            ]
          },
          "metadata": {}
        },
        {
          "output_type": "stream",
          "name": "stdout",
          "text": [
            "run3_1reps_w[9,4]_L_1_1_1000_E_5_5_25_P_0_0_25__2023_03_08_2144_.pkl .pkl was saved to Downloads \n",
            "4--4--1    |     1     ,     100    ,    1     | \n",
            "35\n",
            "Last run using  1_100_1\n",
            "File Extension  w[9,4]_L_1_100_1_E_5_5_25_P_0_0_25_\n",
            "11111111111111111111111111111111111111111111111111111111111111111111111111111111111111111111111111111111111111111111111111111111111111111111111111111111111111111111111111111111111111111111111111111111111111111111111111111111111111111111111111111111111111111111111111111111111111111111111111111111111111111111111111111111111111111111111111111111111111111111111111111111111111111111111111111111111111111111111111111111111111111111111111111111111111111111111111111111111111111111111111111111111111111111\n",
            "Run 4 Rep  1 Starting with a  cost_matrix[9, 4] =  1\n",
            "11111111111111111111111111111111111111111111111111111111111111111111111111111111111111111111111111111111111111111111111111111111111111111111111111111111111111111111111111111111111111111111111111111111111111111111111111111111111111111111111111111111111111111111111111111111111111111111111111111111111111111111111111111111111111111111111111111111111111111111111111111111111111111111111111111111111111111111111111111111111111111111111111111111111111111111111111111111111111111111111111111111111111111111\n",
            "Parameter values specified for this training-cycle.  Number of epochs:  5 Number of epochs of Patience:  0\n",
            "The cost of a true  9   predicted as a  4  is  1\n",
            "No model was passed through so one will be initiated\n",
            "Epoch 1/5\n",
            "235/235 [==============================] - 4s 13ms/step - loss: 0.7557 - categorical_accuracy: 0.7664 - val_loss: 0.3149 - val_categorical_accuracy: 0.9079 - 9T_4P: 26.0000 - 4T_9P: 47.0000 - cm_per_epoch: 75.0000\n",
            "Epoch 2/5\n",
            "235/235 [==============================] - 3s 13ms/step - loss: 0.3818 - categorical_accuracy: 0.8885 - val_loss: 0.2462 - val_categorical_accuracy: 0.9255 - 9T_4P: 33.0000 - 4T_9P: 23.0000 - cm_per_epoch: 75.0000\n",
            "Epoch 3/5\n",
            "235/235 [==============================] - 3s 13ms/step - loss: 0.3149 - categorical_accuracy: 0.9077 - val_loss: 0.2057 - val_categorical_accuracy: 0.9365 - 9T_4P: 36.0000 - 4T_9P: 16.0000 - cm_per_epoch: 75.0000\n",
            "Epoch 4/5\n",
            "235/235 [==============================] - 3s 11ms/step - loss: 0.2773 - categorical_accuracy: 0.9191 - val_loss: 0.1852 - val_categorical_accuracy: 0.9439 - 9T_4P: 17.0000 - 4T_9P: 21.0000 - cm_per_epoch: 75.0000\n",
            "Epoch 5/5\n",
            "235/235 [==============================] - 4s 18ms/step - loss: 0.2460 - categorical_accuracy: 0.9276 - val_loss: 0.1747 - val_categorical_accuracy: 0.9451 - 9T_4P: 29.0000 - 4T_9P: 14.0000 - cm_per_epoch: 75.0000\n",
            "Total Epochs:  5\n",
            "Restored weights at  5 Patience used:  0\n",
            "Run  4 Rep  1 second-phase training with a  cost_matrix[9, 4] =  100\n",
            "Parameter values specified for this training-cycle.  Number of epochs:  5 Number of epochs of Patience:  0\n",
            "The cost of a true  9   predicted as a  4  is  100\n",
            "A model was passed through\n",
            "Epoch 1/5\n",
            "235/235 [==============================] - 4s 14ms/step - loss: 0.2332 - categorical_accuracy: 0.9305 - val_loss: 0.1597 - val_categorical_accuracy: 0.9511 - 9T_4P: 24.0000 - 4T_9P: 15.0000 - cm_per_epoch: 75.0000\n",
            "Epoch 2/5\n",
            "235/235 [==============================] - 3s 11ms/step - loss: 0.2192 - categorical_accuracy: 0.9354 - val_loss: 0.1530 - val_categorical_accuracy: 0.9549 - 9T_4P: 9.0000 - 4T_9P: 18.0000 - cm_per_epoch: 75.0000\n",
            "Epoch 3/5\n",
            "235/235 [==============================] - 3s 12ms/step - loss: 0.2084 - categorical_accuracy: 0.9378 - val_loss: 0.1498 - val_categorical_accuracy: 0.9545 - 9T_4P: 14.0000 - 4T_9P: 15.0000 - cm_per_epoch: 75.0000\n",
            "Epoch 4/5\n",
            "235/235 [==============================] - 3s 11ms/step - loss: 0.2013 - categorical_accuracy: 0.9409 - val_loss: 0.1413 - val_categorical_accuracy: 0.9571 - 9T_4P: 13.0000 - 4T_9P: 15.0000 - cm_per_epoch: 75.0000\n",
            "Epoch 5/5\n",
            "235/235 [==============================] - 3s 13ms/step - loss: 0.1932 - categorical_accuracy: 0.9429 - val_loss: 0.1446 - val_categorical_accuracy: 0.9555 - 9T_4P: 19.0000 - 4T_9P: 8.0000 - cm_per_epoch: 75.0000\n",
            "Total Epochs:  5\n",
            "Restored weights at  5 Patience used:  0\n",
            "Run  4 Rep  1 third-phase training with a  cost_matrix[9, 4] =  1\n",
            "Parameter values specified for this training-cycle.  Number of epochs:  25 Number of epochs of Patience:  25\n",
            "The cost of a true  9   predicted as a  4  is  1\n",
            "A model was passed through\n",
            "Epoch 1/25\n",
            "235/235 [==============================] - 3s 11ms/step - loss: 0.1881 - categorical_accuracy: 0.9443 - val_loss: 0.1365 - val_categorical_accuracy: 0.9588 - 9T_4P: 15.0000 - 4T_9P: 13.0000 - cm_per_epoch: 75.0000\n",
            "Epoch 2/25\n",
            "235/235 [==============================] - 4s 17ms/step - loss: 0.1822 - categorical_accuracy: 0.9457 - val_loss: 0.1365 - val_categorical_accuracy: 0.9600 - 9T_4P: 10.0000 - 4T_9P: 12.0000 - cm_per_epoch: 75.0000\n",
            "Epoch 3/25\n",
            "235/235 [==============================] - 3s 14ms/step - loss: 0.1787 - categorical_accuracy: 0.9471 - val_loss: 0.1340 - val_categorical_accuracy: 0.9603 - 9T_4P: 13.0000 - 4T_9P: 14.0000 - cm_per_epoch: 75.0000\n",
            "Epoch 4/25\n",
            "235/235 [==============================] - 3s 12ms/step - loss: 0.1740 - categorical_accuracy: 0.9480 - val_loss: 0.1370 - val_categorical_accuracy: 0.9591 - 9T_4P: 21.0000 - 4T_9P: 10.0000 - cm_per_epoch: 75.0000\n",
            "Epoch 5/25\n",
            "235/235 [==============================] - 3s 12ms/step - loss: 0.1693 - categorical_accuracy: 0.9494 - val_loss: 0.1335 - val_categorical_accuracy: 0.9611 - 9T_4P: 17.0000 - 4T_9P: 9.0000 - cm_per_epoch: 75.0000\n",
            "Epoch 6/25\n",
            "161/235 [===================>..........] - ETA: 0s - loss: 0.1689 - categorical_accuracy: 0.9495"
          ]
        }
      ]
    },
    {
      "cell_type": "code",
      "source": [
        "  # plot_3_fx(history1, history2, history3, restored_weights1, restored_weights2, restored_weights3)\n"
      ],
      "metadata": {
        "colab": {
          "base_uri": "https://localhost:8080/",
          "height": 1000
        },
        "id": "Z66FRDMjuI22",
        "outputId": "975573d3-66fe-4828-b1c4-a77e196b61bf"
      },
      "execution_count": 11,
      "outputs": [
        {
          "output_type": "stream",
          "name": "stdout",
          "text": [
            "Label1:  5 Val_Cat_Acc Value1:  0.9450666904449463\n",
            "Label2:  5 Val_Cat_Acc Value2:  0.9556000232696533\n",
            "Label3:  20 Val_Cat_Acc Value3:  0.9641333222389221\n"
          ]
        },
        {
          "output_type": "display_data",
          "data": {
            "text/plain": [
              "<Figure size 432x288 with 1 Axes>"
            ],
            "image/png": "[encoded data removed]"
          },
          "metadata": {
            "needs_background": "light"
          }
        },
        {
          "output_type": "display_data",
          "data": {
            "text/plain": [
              "<Figure size 432x288 with 1 Axes>"
            ],
            "image/png": "[encoded data removed]"
          },
          "metadata": {
            "needs_background": "light"
          }
        },
        {
          "output_type": "display_data",
          "data": {
            "text/plain": [
              "<Figure size 432x288 with 1 Axes>"
            ],
            "image/png": "[encoded data removed]"
          },
          "metadata": {
            "needs_background": "light"
          }
        },
        {
          "output_type": "execute_result",
          "data": {
            "text/plain": [
              "{'categorical_accuracy': array([0.77, 0.89, 0.91, 0.92, 0.93, 0.93, 0.94, 0.94, 0.94, 0.94, 0.94,\n",
              "        0.95, 0.95, 0.95, 0.95, 0.95, 0.95, 0.95, 0.95, 0.95, 0.95, 0.96,\n",
              "        0.96, 0.96, 0.96, 0.96, 0.96, 0.96, 0.96, 0.96]),\n",
              " 'val_categorical_accuracy': array([0.91, 0.93, 0.94, 0.94, 0.95, 0.95, 0.95, 0.95, 0.96, 0.96, 0.96,\n",
              "        0.96, 0.96, 0.96, 0.96, 0.96, 0.96, 0.96, 0.96, 0.96, 0.96, 0.96,\n",
              "        0.96, 0.96, 0.96, 0.96, 0.96, 0.96, 0.96, 0.96]),\n",
              " 'loss': array([0.76, 0.38, 0.31, 0.28, 0.25, 0.23, 0.22, 0.21, 0.2 , 0.19, 0.19,\n",
              "        0.18, 0.18, 0.17, 0.17, 0.17, 0.17, 0.16, 0.15, 0.16, 0.15, 0.15,\n",
              "        0.15, 0.15, 0.14, 0.15, 0.14, 0.14, 0.14, 0.14]),\n",
              " 'val_loss': array([0.31, 0.25, 0.21, 0.19, 0.17, 0.16, 0.15, 0.15, 0.14, 0.14, 0.14,\n",
              "        0.14, 0.13, 0.14, 0.13, 0.13, 0.13, 0.13, 0.13, 0.13, 0.13, 0.13,\n",
              "        0.13, 0.13, 0.13, 0.13, 0.14, 0.13, 0.13, 0.13]),\n",
              " '9T_4P': array([26, 33, 36, 17, 29, 24,  9, 14, 13, 19, 13, 10, 12, 22, 17, 11, 10,\n",
              "        16, 13, 11, 16, 10, 13, 11, 12, 20, 18,  8, 16, 13]),\n",
              " '4T_9P': array([47, 23, 16, 21, 14, 15, 18, 15, 15,  8, 13, 12, 13, 10,  9, 12, 15,\n",
              "        10, 12, 13,  9, 11,  8, 11, 10,  5, 11, 15,  9, 11])}"
            ]
          },
          "metadata": {},
          "execution_count": 11
        }
      ]
    },
    {
      "cell_type": "code",
      "source": [
        "# dir(history) and # print(history.__dict__)  are useful for digging into what variables are inside a variable"
      ],
      "metadata": {
        "id": "s6HsboVWsimi"
      },
      "execution_count": 12,
      "outputs": []
    },
    {
      "cell_type": "code",
      "source": [
        " \n",
        "# # To access the dictionary values for all three stages of training:\n",
        "# for rep in range(1,reps+1):\n",
        "#   for i in [\"First\", \"Second\", \"Third\"]:\n",
        "#     print(combined_history_dictionary[run,rep][i].history.keys())\n",
        "#     del combined_history_dictionary[run,rep][i].model #https://github.com/keras-team/keras/issues/646 from FChollet\n",
        "\n",
        "# # combined_history_dictionary[run,reps]['Third'].history['cm']\n",
        "\n",
        "\n",
        "# combined_history_dictionary[run,reps]['Combined']\n",
        "\n",
        "# for rep in range(1,reps+1):\n",
        "#   print(combined_history_dictionary[run,reps]['3ConfusionMatrices'])\n",
        "\n",
        "\n",
        "# combined_history_dictionary[1,1][\"3ConfusionMatrices\"][2]"
      ],
      "metadata": {
        "colab": {
          "base_uri": "https://localhost:8080/"
        },
        "id": "JMQNfNee3vWl",
        "outputId": "72a209ad-46a5-406c-b02e-5aa59d4cae2e"
      },
      "execution_count": 175,
      "outputs": [
        {
          "output_type": "execute_result",
          "data": {
            "text/plain": [
              "array([707,   0,   1,   1,   0,   3,   4,   1,   2,   0,   0, 837,   3,\n",
              "         2,   0,   1,   3,   1,   2,   0,   3,   3, 752,   5,   3,   0,\n",
              "         4,   8,   6,   0,   1,   0,   5, 726,   0,   9,   1,   9,   3,\n",
              "         1,   0,   0,   2,   0, 726,   0,  10,   1,   2,   8,   2,   0,\n",
              "         0,   8,   0, 653,   5,   2,   4,   2,   6,   2,   2,   0,   4,\n",
              "         3, 687,   0,   2,   0,   2,   7,   8,   6,   3,   0,   0, 726,\n",
              "         2,   8,   5,   2,   4,   4,   5,   5,   4,   5, 694,   3,   6,\n",
              "         5,   0,   7,  15,   8,   0,   4,   3, 721])"
            ]
          },
          "metadata": {},
          "execution_count": 175
        }
      ]
    },
    {
      "cell_type": "code",
      "source": [
        "# combined_history_dictionary[run,rep][i].history"
      ],
      "metadata": {
        "colab": {
          "base_uri": "https://localhost:8080/"
        },
        "id": "fLo5xpsZgR_n",
        "outputId": "0cef8041-c130-436e-9ca9-207f7a7bea18"
      },
      "execution_count": 73,
      "outputs": [
        {
          "output_type": "execute_result",
          "data": {
            "text/plain": [
              "{'loss': [0.755667507648468,\n",
              "  0.3818039000034332,\n",
              "  0.314934104681015,\n",
              "  0.277336984872818,\n",
              "  0.24598626792430878],\n",
              " 'categorical_accuracy': [0.7664333581924438,\n",
              "  0.8885166645050049,\n",
              "  0.9077000021934509,\n",
              "  0.9190999865531921,\n",
              "  0.9276000261306763],\n",
              " 'val_loss': [0.31485801935195923,\n",
              "  0.24618777632713318,\n",
              "  0.20569665729999542,\n",
              "  0.18521501123905182,\n",
              "  0.17474167048931122],\n",
              " 'val_categorical_accuracy': [0.9078666567802429,\n",
              "  0.9254666566848755,\n",
              "  0.9365333318710327,\n",
              "  0.9438666701316833,\n",
              "  0.9450666904449463],\n",
              " '9T_4P': [26, 33, 36, 17, 29],\n",
              " '4T_9P': [47, 23, 16, 21, 14],\n",
              " 'cm_per_epoch': [array([[698,   0,   0,   0,   0,   4,  12,   1,   4,   0,   0, 832,   3,\n",
              "            3,   1,   0,   3,   1,   6,   0,   8,   7, 696,  10,   9,   0,\n",
              "           12,   9,  31,   2,   3,   1,  17, 658,   2,  32,   1,  12,  23,\n",
              "            6,   1,   2,   2,   2, 675,   0,  14,   1,   5,  47,  14,   1,\n",
              "            2,  21,   5, 581,   7,   6,  32,   7,  11,   3,   6,   0,   9,\n",
              "           16, 655,   0,   6,   0,   2,  19,  13,   4,   9,   0,   1, 672,\n",
              "            4,  38,   7,   4,   9,   7,  10,  13,   7,  10, 656,   8,  11,\n",
              "            5,   0,  10,  26,   8,   0,  11,  12, 686]]),\n",
              "  array([[703,   0,   0,   0,   0,   4,   8,   1,   3,   0,   0, 832,   3,\n",
              "            3,   1,   0,   3,   1,   6,   0,   8,   5, 717,   6,   6,   0,\n",
              "            9,  10,  21,   2,   3,   2,  18, 672,   0,  25,   1,  14,  15,\n",
              "            5,   1,   2,   4,   0, 702,   0,  13,   2,   2,  23,   9,   1,\n",
              "            1,  14,   7, 607,   6,   7,  17,   7,  10,   3,   4,   0,   9,\n",
              "           10, 668,   0,   2,   0,   0,  11,  14,   6,   5,   0,   0, 697,\n",
              "            1,  28,   8,   5,   8,   8,  12,  14,   4,  13, 650,   9,  12,\n",
              "            6,   1,   7,  33,   6,   0,   6,   5, 693]]),\n",
              "  array([[702,   0,   1,   0,   0,   2,  11,   1,   2,   0,   0, 832,   3,\n",
              "            3,   1,   0,   3,   1,   6,   0,   3,   2, 736,  11,   5,   0,\n",
              "            8,   7,  12,   0,   2,   1,  14, 708,   1,   8,   1,  10,   8,\n",
              "            2,   1,   1,   3,   2, 708,   0,  12,   2,   4,  16,   7,   1,\n",
              "            2,  20,   5, 618,   6,   3,  10,   4,  10,   3,   3,   0,   5,\n",
              "            9, 675,   0,   1,   0,   2,  10,  17,   9,   7,   0,   0, 701,\n",
              "            0,  16,   6,   3,   9,  11,   8,  14,   5,  10, 663,   2,  11,\n",
              "            5,   1,  13,  36,   5,   0,   9,   8, 681]]),\n",
              "  array([[702,   0,   1,   0,   0,   3,   8,   3,   2,   0,   0, 833,   3,\n",
              "            3,   0,   1,   3,   1,   5,   0,   3,   3, 746,   5,   7,   0,\n",
              "            3,   8,   9,   0,   1,   1,  15, 712,   0,   6,   1,  10,   9,\n",
              "            0,   1,   2,   5,   0, 709,   0,   8,   1,   2,  21,   6,   1,\n",
              "            1,  10,   5, 623,   7,   3,  16,   4,   9,   3,   4,   0,   8,\n",
              "           10, 667,   1,   4,   0,   1,  11,  14,   7,   5,   0,   0, 716,\n",
              "            0,   8,   5,   7,   6,  13,   8,  10,   4,  11, 664,   3,  10,\n",
              "            5,   1,  12,  17,   2,   0,   8,   7, 707]]),\n",
              "  array([[704,   0,   1,   0,   0,   3,   7,   2,   2,   0,   0, 833,   4,\n",
              "            2,   0,   1,   3,   1,   5,   0,   4,   2, 751,   6,   3,   0,\n",
              "            4,   5,   9,   0,   0,   1,  15, 713,   1,  10,   1,   8,   6,\n",
              "            0,   1,   2,   4,   0, 717,   0,   8,   1,   2,  14,   6,   1,\n",
              "            1,  15,   4, 626,   7,   2,  11,   3,   8,   3,   2,   0,   6,\n",
              "            8, 676,   0,   3,   0,   1,   7,  21,   9,   7,   1,   0, 705,\n",
              "            0,  11,   4,   3,   8,  15,   8,   7,   4,   6, 672,   4,  10,\n",
              "            5,   1,  15,  29,   4,   0,   7,   7, 691]])]}"
            ]
          },
          "metadata": {},
          "execution_count": 73
        }
      ]
    },
    {
      "cell_type": "code",
      "source": [
        "# combined_history_dictionary[1,1][\"First\"].model"
      ],
      "metadata": {
        "colab": {
          "base_uri": "https://localhost:8080/"
        },
        "id": "Iy0poQ6ifwOq",
        "outputId": "23d813e1-cb32-43dc-82b0-eb75dfe9e296"
      },
      "execution_count": 68,
      "outputs": [
        {
          "output_type": "execute_result",
          "data": {
            "text/plain": [
              "<keras.engine.sequential.Sequential at 0x7f5d19940d60>"
            ]
          },
          "metadata": {},
          "execution_count": 68
        }
      ]
    },
    {
      "cell_type": "markdown",
      "source": [
        "#### Save the 30/Rep-number of confusion matrices"
      ],
      "metadata": {
        "id": "u-MSCXKC48ss"
      }
    },
    {
      "cell_type": "code",
      "source": [
        "# #Save 30 confusion matrices\n",
        "\n",
        "# import pickle\n",
        "\n",
        "# str_reps = str(reps)\n",
        "\n",
        "\n",
        "# from datetime import date\n",
        "# from datetime import datetime\n",
        "# today = date.today()\n",
        "# file_date = today.strftime(\"%Y_%m_%d\")\n",
        "# now = datetime.now() # current date and time\n",
        "# file_time = now.strftime(\"%H%M\")\n",
        "# print(\"time:\", file_time)\n",
        "\n",
        "# str_runs = str(run)\n",
        "\n",
        "\n",
        "# file_name =  \"run\" + str_runs + \"_\" + str_reps + \"reps_\" + file_extension + \"_\" + file_date + \"_\" + file_time +  \"_.pkl\"\n",
        "# # print(file_name, \" will be saved with \", combined_cms.shape)\n",
        "\n",
        "# with open(file_name, 'wb') as handle:\n",
        "      \n",
        "#     # A new file will be created\n",
        "#     pickle.dump(combined_history_dictionary, handle,  protocol=pickle.HIGHEST_PROTOCOL)\n",
        "\n",
        "\n",
        "# # Open the file in binary mode\n",
        "# with open(file_name, 'rb') as handle:\n",
        "      \n",
        "#     # Call load method to deserialze\n",
        "#     unpickled_object = pickle.load(handle)\n",
        "  \n",
        "#     print(unpickled_object == combined_history_dictionary)\n",
        "    \n",
        "# # print(file_name, \" was opened with \", var.shape)\n",
        "\n",
        "# from google.colab import files\n",
        "# files.download( file_name )  \n",
        "\n",
        "# print(file_name, \".pkl was saved to Downloads \")\n"
      ],
      "metadata": {
        "id": "9purX_onqXGo",
        "colab": {
          "base_uri": "https://localhost:8080/",
          "height": 69
        },
        "outputId": "913dee82-e696-43e9-fd14-36a99ea6a605"
      },
      "execution_count": 74,
      "outputs": [
        {
          "output_type": "stream",
          "name": "stdout",
          "text": [
            "time: 1814\n",
            "False\n"
          ]
        },
        {
          "output_type": "display_data",
          "data": {
            "text/plain": [
              "<IPython.core.display.Javascript object>"
            ],
            "application/javascript": [
              "\n",
              "    async function download(id, filename, size) {\n",
              "      if (!google.colab.kernel.accessAllowed) {\n",
              "        return;\n",
              "      }\n",
              "      const div = document.createElement('div');\n",
              "      const label = document.createElement('label');\n",
              "      label.textContent = `Downloading \"${filename}\": `;\n",
              "      div.appendChild(label);\n",
              "      const progress = document.createElement('progress');\n",
              "      progress.max = size;\n",
              "      div.appendChild(progress);\n",
              "      document.body.appendChild(div);\n",
              "\n",
              "      const buffers = [];\n",
              "      let downloaded = 0;\n",
              "\n",
              "      const channel = await google.colab.kernel.comms.open(id);\n",
              "      // Send a message to notify the kernel that we're ready.\n",
              "      channel.send({})\n",
              "\n",
              "      for await (const message of channel.messages) {\n",
              "        // Send a message to notify the kernel that we're ready.\n",
              "        channel.send({})\n",
              "        if (message.buffers) {\n",
              "          for (const buffer of message.buffers) {\n",
              "            buffers.push(buffer);\n",
              "            downloaded += buffer.byteLength;\n",
              "            progress.value = downloaded;\n",
              "          }\n",
              "        }\n",
              "      }\n",
              "      const blob = new Blob(buffers, {type: 'application/binary'});\n",
              "      const a = document.createElement('a');\n",
              "      a.href = window.URL.createObjectURL(blob);\n",
              "      a.download = filename;\n",
              "      div.appendChild(a);\n",
              "      a.click();\n",
              "      div.remove();\n",
              "    }\n",
              "  "
            ]
          },
          "metadata": {}
        },
        {
          "output_type": "display_data",
          "data": {
            "text/plain": [
              "<IPython.core.display.Javascript object>"
            ],
            "application/javascript": [
              "download(\"download_08055509-2caa-4a88-bf90-b267d56ea9cb\", \"run1_3reps_w[9,4]_L_1_1_1_E_5_5_20_P_5_5_20__2023_03_08_1814_.pkl\", 95047)"
            ]
          },
          "metadata": {}
        },
        {
          "output_type": "stream",
          "name": "stdout",
          "text": [
            "run1_3reps_w[9,4]_L_1_1_1_E_5_5_20_P_5_5_20__2023_03_08_1814_.pkl .pkl was saved to Downloads \n"
          ]
        }
      ]
    },
    {
      "cell_type": "code",
      "source": [
        "# How many categories are there in the test set?\n",
        "\n",
        "truth_num_per_category = Y_val.sum(axis=0)\n",
        "print(truth_num_per_category)"
      ],
      "metadata": {
        "id": "id_ythTutuo3"
      },
      "execution_count": null,
      "outputs": []
    },
    {
      "cell_type": "markdown",
      "source": [
        "# Analyze \n",
        "\n",
        "I am now going to load the Average CM and try to get it in a format where I can make it a 1x100 and load all 30 CMs so that we can visualize their distributions in a a big histogram_matrix. At this point the Google Colab variables are gone and I have to reoad them "
      ],
      "metadata": {
        "id": "NP_kxNkhn6Fd"
      }
    },
    {
      "cell_type": "code",
      "source": [
        "# import numpy as np\n",
        "# import pandas as pd\n",
        "# empty_cm = np.zeros((10,10))  \n",
        "# empty_cm=pd.DataFrame(empty_cm)\n",
        "\n",
        "# empty_cm.columns = ['0p', '1p', '2p', '3p', '4p', '5p', '6p', '7p', '8p', '9p']\n",
        "# empty_cm.index = ['0t', '1t', '2t', '3t', '4t', '5t', '6t', '7t', '8t', '9t']\n",
        "\n",
        "# # print(myvar_cm_average)\n",
        "\n",
        "# empty_cm_array = np.asarray(empty_cm)\n",
        "# empty_cm_array_1_100 = np.reshape(empty_cm_array,(1,100))\n",
        "# # print(cm_average_array)\n",
        "\n",
        "# df = empty_cm\n",
        "# df_new = pd.DataFrame(empty_cm_array_1_100,  columns=pd.MultiIndex.from_product([ df.index,df.columns]))\n",
        "# df_new.columns.to_flat_index()\n",
        "# df_new.columns   = ['_'.join(col) for col in df_new.columns.values]\n",
        "\n",
        "# # Now convert combined_cms of size 30x100 to a panda dataframe\n",
        "# cms_df = pd.DataFrame(combined_cms, columns=[df_new.columns], index=[\"First\", \"Second\", \"Third\"])\n",
        "\n",
        "# cms_df\n",
        "\n",
        "# for run in runs:\n",
        "#   for rep in reps:\n",
        "#     for phase in phases:\n",
        "#       pd.DataFrame(combined_history_dictionary[run,rep][\"3ConfusionMatrices\"], columns=[df_new.columns], index=[\"First\", \"Second\", \"Third\"])"
      ],
      "metadata": {
        "id": "kLrNJE0s53pb",
        "colab": {
          "base_uri": "https://localhost:8080/",
          "height": 217
        },
        "outputId": "efd78a97-ca71-4529-dacc-fc4e7734a263"
      },
      "execution_count": 208,
      "outputs": [
        {
          "output_type": "error",
          "ename": "KeyError",
          "evalue": "ignored",
          "traceback": [
            "\u001b[0;31m---------------------------------------------------------------------------\u001b[0m",
            "\u001b[0;31mKeyError\u001b[0m                                  Traceback (most recent call last)",
            "\u001b[0;32m<ipython-input-208-b7f243592abb>\u001b[0m in \u001b[0;36m<module>\u001b[0;34m\u001b[0m\n\u001b[1;32m      2\u001b[0m   \u001b[0;32mfor\u001b[0m \u001b[0mrep\u001b[0m \u001b[0;32min\u001b[0m \u001b[0mreps\u001b[0m\u001b[0;34m:\u001b[0m\u001b[0;34m\u001b[0m\u001b[0;34m\u001b[0m\u001b[0m\n\u001b[1;32m      3\u001b[0m     \u001b[0;32mfor\u001b[0m \u001b[0mphase\u001b[0m \u001b[0;32min\u001b[0m \u001b[0mphases\u001b[0m\u001b[0;34m:\u001b[0m\u001b[0;34m\u001b[0m\u001b[0;34m\u001b[0m\u001b[0m\n\u001b[0;32m----> 4\u001b[0;31m       \u001b[0mpd\u001b[0m\u001b[0;34m.\u001b[0m\u001b[0mDataFrame\u001b[0m\u001b[0;34m(\u001b[0m\u001b[0mcombined_history_dictionary\u001b[0m\u001b[0;34m[\u001b[0m\u001b[0mrun\u001b[0m\u001b[0;34m,\u001b[0m\u001b[0mrep\u001b[0m\u001b[0;34m]\u001b[0m\u001b[0;34m[\u001b[0m\u001b[0;34m\"3ConfusionMatrices\"\u001b[0m\u001b[0;34m]\u001b[0m\u001b[0;34m,\u001b[0m \u001b[0mcolumns\u001b[0m\u001b[0;34m=\u001b[0m\u001b[0;34m[\u001b[0m\u001b[0mdf_new\u001b[0m\u001b[0;34m.\u001b[0m\u001b[0mcolumns\u001b[0m\u001b[0;34m]\u001b[0m\u001b[0;34m,\u001b[0m \u001b[0mindex\u001b[0m\u001b[0;34m=\u001b[0m\u001b[0;34m[\u001b[0m\u001b[0;34m\"First\"\u001b[0m\u001b[0;34m,\u001b[0m \u001b[0;34m\"Second\"\u001b[0m\u001b[0;34m,\u001b[0m \u001b[0;34m\"Third\"\u001b[0m\u001b[0;34m]\u001b[0m\u001b[0;34m)\u001b[0m\u001b[0;34m\u001b[0m\u001b[0;34m\u001b[0m\u001b[0m\n\u001b[0m",
            "\u001b[0;31mKeyError\u001b[0m: ('1', '1')"
          ]
        }
      ]
    },
    {
      "cell_type": "code",
      "source": [
        "# combined_cms[0,]"
      ],
      "metadata": {
        "colab": {
          "base_uri": "https://localhost:8080/"
        },
        "id": "eo_ahxwTVI0T",
        "outputId": "b50cada6-8e57-4488-b70e-2ca44cdf80a4"
      },
      "execution_count": 85,
      "outputs": [
        {
          "output_type": "execute_result",
          "data": {
            "text/plain": [
              "array([704,   0,   1,   0,   0,   3,   7,   2,   2,   0,   0, 833,   4,\n",
              "         2,   0,   1,   3,   1,   5,   0,   4,   2, 751,   6,   3,   0,\n",
              "         4,   5,   9,   0,   0,   1,  15, 713,   1,  10,   1,   8,   6,\n",
              "         0,   1,   2,   4,   0, 717,   0,   8,   1,   2,  14,   6,   1,\n",
              "         1,  15,   4, 626,   7,   2,  11,   3,   8,   3,   2,   0,   6,\n",
              "         8, 676,   0,   3,   0,   1,   7,  21,   9,   7,   1,   0, 705,\n",
              "         0,  11,   4,   3,   8,  15,   8,   7,   4,   6, 672,   4,  10,\n",
              "         5,   1,  15,  29,   4,   0,   7,   7, 691])"
            ]
          },
          "metadata": {},
          "execution_count": 85
        }
      ]
    },
    {
      "cell_type": "code",
      "source": [
        "# combined_cms_df[\"9t_4p\"]"
      ],
      "metadata": {
        "id": "HgPClcrAUdxu",
        "colab": {
          "base_uri": "https://localhost:8080/",
          "height": 143
        },
        "outputId": "ed509f78-bc45-43f8-db48-ab8c36e992f5"
      },
      "execution_count": 86,
      "outputs": [
        {
          "output_type": "execute_result",
          "data": {
            "text/plain": [
              "       9t_4p\n",
              "First     29\n",
              "Second    19\n",
              "Third     13"
            ],
            "text/html": [
              "\n",
              "  <div id=\"df-72f5bead-dc14-45f6-9716-346a470915c1\">\n",
              "    <div class=\"colab-df-container\">\n",
              "      <div>\n",
              "<style scoped>\n",
              "    .dataframe tbody tr th:only-of-type {\n",
              "        vertical-align: middle;\n",
              "    }\n",
              "\n",
              "    .dataframe tbody tr th {\n",
              "        vertical-align: top;\n",
              "    }\n",
              "\n",
              "    .dataframe thead tr th {\n",
              "        text-align: left;\n",
              "    }\n",
              "</style>\n",
              "<table border=\"1\" class=\"dataframe\">\n",
              "  <thead>\n",
              "    <tr>\n",
              "      <th></th>\n",
              "      <th>9t_4p</th>\n",
              "    </tr>\n",
              "  </thead>\n",
              "  <tbody>\n",
              "    <tr>\n",
              "      <th>First</th>\n",
              "      <td>29</td>\n",
              "    </tr>\n",
              "    <tr>\n",
              "      <th>Second</th>\n",
              "      <td>19</td>\n",
              "    </tr>\n",
              "    <tr>\n",
              "      <th>Third</th>\n",
              "      <td>13</td>\n",
              "    </tr>\n",
              "  </tbody>\n",
              "</table>\n",
              "</div>\n",
              "      <button class=\"colab-df-convert\" onclick=\"convertToInteractive('df-72f5bead-dc14-45f6-9716-346a470915c1')\"\n",
              "              title=\"Convert this dataframe to an interactive table.\"\n",
              "              style=\"display:none;\">\n",
              "        \n",
              "  <svg xmlns=\"http://www.w3.org/2000/svg\" height=\"24px\"viewBox=\"0 0 24 24\"\n",
              "       width=\"24px\">\n",
              "    <path d=\"M0 0h24v24H0V0z\" fill=\"none\"/>\n",
              "    <path d=\"M18.56 5.44l.94 2.06.94-2.06 2.06-.94-2.06-.94-.94-2.06-.94 2.06-2.06.94zm-11 1L8.5 8.5l.94-2.06 2.06-.94-2.06-.94L8.5 2.5l-.94 2.06-2.06.94zm10 10l.94 2.06.94-2.06 2.06-.94-2.06-.94-.94-2.06-.94 2.06-2.06.94z\"/><path d=\"M17.41 7.96l-1.37-1.37c-.4-.4-.92-.59-1.43-.59-.52 0-1.04.2-1.43.59L10.3 9.45l-7.72 7.72c-.78.78-.78 2.05 0 2.83L4 21.41c.39.39.9.59 1.41.59.51 0 1.02-.2 1.41-.59l7.78-7.78 2.81-2.81c.8-.78.8-2.07 0-2.86zM5.41 20L4 18.59l7.72-7.72 1.47 1.35L5.41 20z\"/>\n",
              "  </svg>\n",
              "      </button>\n",
              "      \n",
              "  <style>\n",
              "    .colab-df-container {\n",
              "      display:flex;\n",
              "      flex-wrap:wrap;\n",
              "      gap: 12px;\n",
              "    }\n",
              "\n",
              "    .colab-df-convert {\n",
              "      background-color: #E8F0FE;\n",
              "      border: none;\n",
              "      border-radius: 50%;\n",
              "      cursor: pointer;\n",
              "      display: none;\n",
              "      fill: #1967D2;\n",
              "      height: 32px;\n",
              "      padding: 0 0 0 0;\n",
              "      width: 32px;\n",
              "    }\n",
              "\n",
              "    .colab-df-convert:hover {\n",
              "      background-color: #E2EBFA;\n",
              "      box-shadow: 0px 1px 2px rgba(60, 64, 67, 0.3), 0px 1px 3px 1px rgba(60, 64, 67, 0.15);\n",
              "      fill: #174EA6;\n",
              "    }\n",
              "\n",
              "    [theme=dark] .colab-df-convert {\n",
              "      background-color: #3B4455;\n",
              "      fill: #D2E3FC;\n",
              "    }\n",
              "\n",
              "    [theme=dark] .colab-df-convert:hover {\n",
              "      background-color: #434B5C;\n",
              "      box-shadow: 0px 1px 3px 1px rgba(0, 0, 0, 0.15);\n",
              "      filter: drop-shadow(0px 1px 2px rgba(0, 0, 0, 0.3));\n",
              "      fill: #FFFFFF;\n",
              "    }\n",
              "  </style>\n",
              "\n",
              "      <script>\n",
              "        const buttonEl =\n",
              "          document.querySelector('#df-72f5bead-dc14-45f6-9716-346a470915c1 button.colab-df-convert');\n",
              "        buttonEl.style.display =\n",
              "          google.colab.kernel.accessAllowed ? 'block' : 'none';\n",
              "\n",
              "        async function convertToInteractive(key) {\n",
              "          const element = document.querySelector('#df-72f5bead-dc14-45f6-9716-346a470915c1');\n",
              "          const dataTable =\n",
              "            await google.colab.kernel.invokeFunction('convertToInteractive',\n",
              "                                                     [key], {});\n",
              "          if (!dataTable) return;\n",
              "\n",
              "          const docLinkHtml = 'Like what you see? Visit the ' +\n",
              "            '<a target=\"_blank\" href=https://colab.research.google.com/notebooks/data_table.ipynb>data table notebook</a>'\n",
              "            + ' to learn more about interactive tables.';\n",
              "          element.innerHTML = '';\n",
              "          dataTable['output_type'] = 'display_data';\n",
              "          await google.colab.output.renderOutput(dataTable, element);\n",
              "          const docLink = document.createElement('div');\n",
              "          docLink.innerHTML = docLinkHtml;\n",
              "          element.appendChild(docLink);\n",
              "        }\n",
              "      </script>\n",
              "    </div>\n",
              "  </div>\n",
              "  "
            ]
          },
          "metadata": {},
          "execution_count": 86
        }
      ]
    },
    {
      "cell_type": "code",
      "source": [
        "# np.average(combined_cms_df[\"9t_4p\"])"
      ],
      "metadata": {
        "id": "TY59hUTadVyp",
        "colab": {
          "base_uri": "https://localhost:8080/"
        },
        "outputId": "bd548053-8742-497d-d608-3dadef5db2a4"
      },
      "execution_count": 87,
      "outputs": [
        {
          "output_type": "execute_result",
          "data": {
            "text/plain": [
              "20.333333333333332"
            ]
          },
          "metadata": {},
          "execution_count": 87
        }
      ]
    },
    {
      "cell_type": "code",
      "source": [
        "# csv_filename = file_name[:-4] + \".csv\"\n",
        "\n",
        "# combined_cms_df.to_csv(csv_filename)\n",
        "# # \n",
        "\n",
        "# from google.colab import files\n",
        "# files.download(csv_filename )\n",
        "\n",
        "# print(\"Downloading \", csv_filename , \" of shape \", combined_cms_df.shape)"
      ],
      "metadata": {
        "id": "ceUFAr_z9xsk",
        "colab": {
          "base_uri": "https://localhost:8080/",
          "height": 34
        },
        "outputId": "0bfc0464-45b9-47fb-de41-f856233d1d7f"
      },
      "execution_count": 88,
      "outputs": [
        {
          "output_type": "display_data",
          "data": {
            "text/plain": [
              "<IPython.core.display.Javascript object>"
            ],
            "application/javascript": [
              "\n",
              "    async function download(id, filename, size) {\n",
              "      if (!google.colab.kernel.accessAllowed) {\n",
              "        return;\n",
              "      }\n",
              "      const div = document.createElement('div');\n",
              "      const label = document.createElement('label');\n",
              "      label.textContent = `Downloading \"${filename}\": `;\n",
              "      div.appendChild(label);\n",
              "      const progress = document.createElement('progress');\n",
              "      progress.max = size;\n",
              "      div.appendChild(progress);\n",
              "      document.body.appendChild(div);\n",
              "\n",
              "      const buffers = [];\n",
              "      let downloaded = 0;\n",
              "\n",
              "      const channel = await google.colab.kernel.comms.open(id);\n",
              "      // Send a message to notify the kernel that we're ready.\n",
              "      channel.send({})\n",
              "\n",
              "      for await (const message of channel.messages) {\n",
              "        // Send a message to notify the kernel that we're ready.\n",
              "        channel.send({})\n",
              "        if (message.buffers) {\n",
              "          for (const buffer of message.buffers) {\n",
              "            buffers.push(buffer);\n",
              "            downloaded += buffer.byteLength;\n",
              "            progress.value = downloaded;\n",
              "          }\n",
              "        }\n",
              "      }\n",
              "      const blob = new Blob(buffers, {type: 'application/binary'});\n",
              "      const a = document.createElement('a');\n",
              "      a.href = window.URL.createObjectURL(blob);\n",
              "      a.download = filename;\n",
              "      div.appendChild(a);\n",
              "      a.click();\n",
              "      div.remove();\n",
              "    }\n",
              "  "
            ]
          },
          "metadata": {}
        },
        {
          "output_type": "display_data",
          "data": {
            "text/plain": [
              "<IPython.core.display.Javascript object>"
            ],
            "application/javascript": [
              "download(\"download_cb05261f-9452-453c-864c-c1fd13a09256\", \"run1_3reps_w[9,4]_L_1_1_1_E_5_5_20_P_5_5_20__2023_03_08_1814_.csv\", 1301)"
            ]
          },
          "metadata": {}
        },
        {
          "output_type": "stream",
          "name": "stdout",
          "text": [
            "Downloading  run1_3reps_w[9,4]_L_1_1_1_E_5_5_20_P_5_5_20__2023_03_08_1814_.csv  of shape  (3, 100)\n"
          ]
        }
      ]
    },
    {
      "cell_type": "code",
      "source": [
        "# df = pd.DataFrame(sum(var)/len(var), columns=[\"Values\"]) \n",
        "# # print(df)\n",
        "\n",
        "# df.style.format({\n",
        "#   'Values': lambda val: f'{val:,.2f}',\n",
        "# })\n",
        "\n",
        "# (df.sort_values(by=\"Values\", ascending=False)[0:20])\n",
        "\n",
        "\n",
        "# df_sorted = df.sort_values(by=\"Values\", ascending=False)[10:]  #the top 10 are usually diagonal\n",
        "\n",
        "\n",
        "# df_sorted.style.format({\n",
        "#   'Values': lambda val: f'{val:,.2f}',\n",
        "# })\n",
        "\n",
        "# import math\n",
        "\n",
        "# print(\"On average...\")\n",
        "# print(\"Num 1 misclassifications are misclassifying a \", math.floor((df_sorted[\"Values\"].index[0])/10), \" as a \", df_sorted[\"Values\"].index[0]%10, \"  (\", (df_sorted[\"Values\"].values[0]), \" times)\" )\n",
        "# print(\"Num 2 misclassifications are misclassifying a \", math.floor((df_sorted[\"Values\"].index[1])/10), \" as a \", df_sorted[\"Values\"].index[1]%10, \"  (\", (df_sorted[\"Values\"].values[1]), \" times)\" )\n",
        "# print(\"Num 3 misclassifications are misclassifying a \", math.floor((df_sorted[\"Values\"].index[2])/10), \" as a \", df_sorted[\"Values\"].index[2]%10, \"  (\", (df_sorted[\"Values\"].values[2]), \" times)\" )\n",
        "\n",
        "\n"
      ],
      "metadata": {
        "id": "-pGNLuE8gNrB"
      },
      "execution_count": null,
      "outputs": []
    },
    {
      "cell_type": "code",
      "source": [
        "# df_percents = pd.DataFrame( ((sum(var)*100/len(var)).reshape((10,10))/truth_num_per_category).reshape((100)), columns = [\"Values\"])\n",
        "\n",
        "\n",
        "# df_sorted_percents = df_percents.sort_values(by=\"Values\", ascending=False)[10:]  #the top 10 are usually diagonal\n",
        "\n",
        "# df_sorted_percents.style.format({\n",
        "#   'Values': lambda val: f'{val:,.2f}',\n",
        "# })\n",
        "\n",
        "# print(\"On average .. \")\n",
        "# print(\"Num 1 percent misclassifications\", math.floor((df_sorted_percents[\"Values\"].index[0])/10), \" as \", df_sorted_percents[\"Values\"].index[0]%10, (df_sorted_percents[\"Values\"].values[0]), \" percent\" )\n",
        "# print(\"Num 2 percent misclassifications\", math.floor((df_sorted_percents[\"Values\"].index[1])/10), \" as \", df_sorted_percents[\"Values\"].index[1]%10,  (df_sorted_percents[\"Values\"].values[1]), \" percent\" )\n",
        "# print(\"Num 3 percent misclassifications\", math.floor((df_sorted_percents[\"Values\"].index[2])/10), \" as \", df_sorted_percents[\"Values\"].index[2]%10, (df_sorted_percents[\"Values\"].values[2]), \" percent\" )\n",
        "\n",
        "\n",
        "\n",
        "\n"
      ],
      "metadata": {
        "id": "AKYclir2p8wk"
      },
      "execution_count": null,
      "outputs": []
    },
    {
      "cell_type": "code",
      "source": [],
      "metadata": {
        "id": "FrT9iz3dp8rZ"
      },
      "execution_count": null,
      "outputs": []
    },
    {
      "cell_type": "markdown",
      "source": [
        "# Extraneous"
      ],
      "metadata": {
        "id": "GZfPCKu_oqrZ"
      }
    },
    {
      "cell_type": "markdown",
      "source": [
        "To reference later: \n",
        "\n",
        "https://colab.research.google.com/github/tensorflow/docs/blob/master/site/en/tutorials/structured_data/imbalanced_data.ipynb#scrollTo=UJ589fn8ST3x\n",
        "\n",
        "To train a model with class weights:\n",
        "\n",
        "```\n",
        "class_weight = {0: weight_for_0, 1: weight_for_1}\n",
        "\n",
        "weighted_model = make_model()\n",
        "weighted_model.load_weights(initial_weights)\n",
        "\n",
        "weighted_history = weighted_model.fit(\n",
        "    train_features,\n",
        "    train_labels,\n",
        "    batch_size=BATCH_SIZE,\n",
        "    epochs=EPOCHS,\n",
        "    callbacks=[early_stopping],\n",
        "    validation_data=(val_features, val_labels),\n",
        "\n",
        "    # The class weights go here\n",
        "    class_weight=class_weight)\n",
        "```\n",
        "\n"
      ],
      "metadata": {
        "id": "iLEt0OL5ziEq"
      }
    },
    {
      "cell_type": "code",
      "source": [
        "# Extraneous information I am not using at the moment\n",
        "\n",
        "# model.compile(\n",
        "#      optimizer='adam',\n",
        "#      loss=WeightedCategoricalCrossentropy(cost_matrix)\n",
        "#      )\n",
        "\n",
        "## Model Saving\n",
        "\n",
        "# model.save(save_version_dir,save_format='tf')\n",
        "\n",
        "## Model Loading\n",
        "\n",
        "# model = tf.keras.models.load_model(\n",
        "#     save_version_dir,\n",
        "#     compile=True,\n",
        "#     custom_objects={\n",
        "#         'WeightedCategoricalCrossentropy': WeightedCategoricalCrossentropy(cost_matrix)\n",
        "#         }\n",
        "#     )\n",
        " "
      ],
      "metadata": {
        "id": "WRzuOuZeKVpJ"
      },
      "execution_count": null,
      "outputs": []
    },
    {
      "cell_type": "markdown",
      "source": [
        "starting to think about how i would shape the initial, middle and late training experiments.  "
      ],
      "metadata": {
        "id": "GH-yoluLM0sw"
      }
    },
    {
      "cell_type": "code",
      "source": [
        "count = 0\n",
        "run = 0\n",
        "rep = 0\n",
        "\n",
        "print(\"     | --- Init --- | | --- Mid --- | | --- Late --- | \")\n",
        "for i in [\"   1\",\" 100\", \"1000\"]: #lambda1\n",
        "  \n",
        "  for j in  [\"   1\",\" 100\", \"1000\"]:  #lambda2\n",
        "    for k in   [\"   1\",\" 100\", \"1000\"]: #lambda3\n",
        "      run+=1\n",
        "      for rep in range(1,30+1):\n",
        "        count+=1\n",
        "        print(f\"{count}--{run}--{rep}    |     {i}     ,     {j}    ,    {k}     | \")\n",
        "        \n",
        "\n"
      ],
      "metadata": {
        "id": "EisEf8F6MzFT"
      },
      "execution_count": null,
      "outputs": []
    },
    {
      "cell_type": "markdown",
      "source": [],
      "metadata": {
        "id": "xVGDsrmmNLed"
      }
    }
  ]
}