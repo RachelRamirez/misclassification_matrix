{
  "nbformat": 4,
  "nbformat_minor": 0,
  "metadata": {
    "colab": {
      "provenance": [],
      "authorship_tag": "ABX9TyO2NsZvgShb8NkKXfzKsIrg",
      "include_colab_link": true
    },
    "kernelspec": {
      "name": "python3",
      "display_name": "Python 3"
    },
    "language_info": {
      "name": "python"
    },
    "gpuClass": "standard",
    "accelerator": "GPU"
  },
  "cells": [
    {
      "cell_type": "markdown",
      "metadata": {
        "id": "view-in-github",
        "colab_type": "text"
      },
      "source": [
        "<a href=\"https://colab.research.google.com/github/RachelRamirez/misclassification_matrix/blob/main/PreExperiment_PA_Shfl_40D_Lambda1_Lambda2_Lambda3.ipynb\" target=\"_parent\"><img src=\"https://colab.research.google.com/assets/colab-badge.svg\" alt=\"Open In Colab\"/></a>"
      ]
    },
    {
      "cell_type": "markdown",
      "source": [
        "# PreExperiment PA Shfl 40D Lambda1 Lambda2 Lambda3\n",
        "\n",
        "\n"
      ],
      "metadata": {
        "id": "_t4Z4Nq-gQ26"
      }
    },
    {
      "cell_type": "markdown",
      "source": [
        "## Reduced  capacity neural network with two layers of 40 connections\n",
        "\n",
        "  Filename \"PA_Shfl_w[9,4]_2.0_40D_Misclassification_Cost_Matrix_Example\""
      ],
      "metadata": {
        "id": "NqL4ADhFLsqG"
      }
    },
    {
      "cell_type": "markdown",
      "source": [
        "Its hard to see if the misclassification weight is making a difference so I am now making the neural network not as great by reducing the number of dense connections in each layer from 512 to X/40.  Realized after I saved that everything was taking 15 epochs so I need to increase training time - turns out it only needed 16"
      ],
      "metadata": {
        "id": "kq-OgF8xLiia"
      }
    },
    {
      "cell_type": "markdown",
      "source": [
        "I'm changing Model Shuffle=True to see if that helps with the validation loss jumping around"
      ],
      "metadata": {
        "id": "kOGlieEKlMrH"
      }
    },
    {
      "cell_type": "markdown",
      "source": [
        "The results of running the  ISantaro appeared counterintuitive, because when I increased the cost of a misclassification, more misclassifications were made. It was hard to see at first because it wasn't consistently happening, it happened 7 out of 30 times, but when it happened it was a very large number of misclassifications.   So now I'm looking to compare another code implementation,  by Phil Alton here:  https://stackoverflow.com/a/61963004 "
      ],
      "metadata": {
        "id": "xW_9TgRZB0s6"
      }
    },
    {
      "cell_type": "markdown",
      "source": [
        "Remember to change the [Admin File stuff]  below and the Weight Matrix before Running"
      ],
      "metadata": {
        "id": "HhaPibIBBS80"
      }
    },
    {
      "cell_type": "markdown",
      "source": [
        "#### Check timezone if incorrect restart"
      ],
      "metadata": {
        "id": "l4sBTo67FC9-"
      }
    },
    {
      "cell_type": "code",
      "source": [
        "# How to change the local time in Google Colab\n",
        "!rm /etc/localtime\n",
        "!ln -s /usr/share/zoneinfo/US/Eastern /etc/localtime\n",
        "!date\n",
        "\n",
        "#If this doesn't show the local time correctly, then you need to restart.\n",
        "import time\n",
        "time.localtime(time.time())"
      ],
      "metadata": {
        "colab": {
          "base_uri": "https://localhost:8080/"
        },
        "id": "g4I5Wm-6EPYR",
        "outputId": "8db4d2de-8514-42c4-eff2-8bcd1cd7e030"
      },
      "execution_count": 1,
      "outputs": [
        {
          "output_type": "stream",
          "name": "stdout",
          "text": [
            "Wed 01 Mar 2023 03:39:19 PM EST\n"
          ]
        },
        {
          "output_type": "execute_result",
          "data": {
            "text/plain": [
              "time.struct_time(tm_year=2023, tm_mon=3, tm_mday=1, tm_hour=15, tm_min=39, tm_sec=19, tm_wday=2, tm_yday=60, tm_isdst=0)"
            ]
          },
          "metadata": {},
          "execution_count": 1
        }
      ]
    },
    {
      "cell_type": "markdown",
      "source": [
        "### Reproducible Seeds"
      ],
      "metadata": {
        "id": "Wn15dbArlsIs"
      }
    },
    {
      "cell_type": "code",
      "source": [
        "#For Reproducibility\n",
        "import numpy as np\n",
        "# np.random.seed(1337)  # for reproducibility\n",
        "\n",
        "import tensorflow as tf\n",
        "# tf.random.set_seed(33)\n",
        "\n",
        "import random as python_random\n",
        "# python_random.seed(4)\n",
        "\n",
        "# https://www.tensorflow.org/api_docs/python/tf/keras/utils/set_random_seed\n",
        "tf.keras.utils.set_random_seed(342) #Possibly use next iteration if the above doesn't work\n",
        "\n",
        "\n",
        "# Running more than once causes variation.  try adding this:\n",
        "# Set seed value\n",
        "seed_value = 56\n",
        "import os\n",
        "os.environ['PYTHONHASHSEED']=str(seed_value)\n",
        "\n",
        "print(\"TF version: \" , tf.__version__ )\n",
        "print(\"Keras version: \" , tf.keras.__version__ )"
      ],
      "metadata": {
        "colab": {
          "base_uri": "https://localhost:8080/"
        },
        "id": "zcjDfFIIbmbo",
        "outputId": "84e11a0b-b7ef-4d76-c2ec-0dce7534ae67"
      },
      "execution_count": 2,
      "outputs": [
        {
          "output_type": "stream",
          "name": "stdout",
          "text": [
            "TF version:  2.11.0\n",
            "Keras version:  2.11.0\n"
          ]
        }
      ]
    },
    {
      "cell_type": "markdown",
      "source": [
        "### Import rest of Library"
      ],
      "metadata": {
        "id": "mTW-hEgnlp44"
      }
    },
    {
      "cell_type": "code",
      "source": [
        "\n",
        "# from https://github.com/keras-team/keras/issues/2115#issuecomment-204060456\n",
        "# witha correction on the weighted function in the middle \n",
        "\n",
        "'''Train a simple deep NN on the MNIST dataset.\n",
        "Get to 98.40% test accuracy after 20 epochs\n",
        "(there is *a lot* of margin for parameter tuning).\n",
        "2 seconds per epoch on a K520 GPU.\n",
        "'''\n",
        "\n",
        "from __future__ import print_function  #do i still need this?\n",
        "from keras.datasets import mnist\n",
        "from keras.models import Sequential\n",
        "from keras.layers.core import Dense, Dropout, Activation\n",
        "from keras.optimizers import SGD, Adam, RMSprop\n",
        "from keras.utils import np_utils\n",
        "import keras.backend as K\n",
        "from itertools import product\n",
        "import functools\n",
        "from functools import partial\n",
        "from time import ctime\n",
        "from time import sleep\n",
        "import matplotlib.pyplot as plt\n",
        "import seaborn as sns\n",
        "import pandas as pd \n",
        "from sklearn.metrics import confusion_matrix\n",
        "\n",
        "## MORE REPEATABILITY STUFF NEEDED - If theres a way to update this to V2 of Tensorflow great, otherwise I had to use TF 1.0 code\n",
        "# 5. Configure a new global `tensorflow` session (https://stackoverflow.com/questions/50659482/why-cant-i-get-reproducible-results-in-keras-even-though-i-set-the-random-seeds)\n",
        "# from keras import backend as K\n",
        "\n",
        "\n",
        "#I believe thecode below is to help things be repeatable each time different sections in my google colab notebook execute\n",
        "session_conf = tf.compat.v1.ConfigProto(intra_op_parallelism_threads=1, inter_op_parallelism_threads=1)\n",
        "sess = tf.compat.v1.Session(graph=tf.compat.v1.get_default_graph(), config=session_conf)\n",
        "K.set_session(sess)"
      ],
      "metadata": {
        "id": "idfYNyyAgMsO"
      },
      "execution_count": 3,
      "outputs": []
    },
    {
      "cell_type": "markdown",
      "source": [
        "### Define batch, epochs, and format data"
      ],
      "metadata": {
        "id": "otcbfKF7mY9y"
      }
    },
    {
      "cell_type": "code",
      "source": [
        "batch_size = 256 # I originally had it very  high batch size to reduce the variation in the data each batch and hope it makes the model training more nearly identical which it did, then i bring it back down to something reasonable to get better results training the NN\n",
        "nb_classes = 10\n",
        "nb_epoch = 45\n",
        "\n",
        "# the data, shuffled and split between train and test sets\n",
        "(X_train, y_train), (X_test, y_test) = mnist.load_data()\n",
        "\n",
        "\n",
        "X_train = X_train.reshape(60000, 784)\n",
        "X_test = X_test.reshape(10000, 784)\n",
        "X_train = X_train.astype('float32')\n",
        "X_test = X_test.astype('float32')\n",
        "X_train /= 255\n",
        "X_test /= 255\n",
        "print(X_train.shape[0], 'train samples')\n",
        "print(X_test.shape[0], 'test samples')\n",
        "\n",
        "# convert class vectors to binary class matrices\n",
        "Y_train = np_utils.to_categorical(y_train, nb_classes)\n",
        "Y_test = np_utils.to_categorical(y_test, nb_classes)\n"
      ],
      "metadata": {
        "colab": {
          "base_uri": "https://localhost:8080/"
        },
        "id": "B59UXDb8i8W5",
        "outputId": "80b113d5-49e8-4169-be2e-2de2cbc4bdd7"
      },
      "execution_count": 4,
      "outputs": [
        {
          "output_type": "stream",
          "name": "stdout",
          "text": [
            "60000 train samples\n",
            "10000 test samples\n"
          ]
        }
      ]
    },
    {
      "cell_type": "markdown",
      "source": [
        "### Weighted Categorical Cross Entropy Class"
      ],
      "metadata": {
        "id": "3fHQHrz8MwXJ"
      }
    },
    {
      "cell_type": "code",
      "source": [
        "class WeightedCategoricalCrossentropy(tf.keras.losses.CategoricalCrossentropy):\n",
        "\n",
        "  def __init__(self, cost_mat, name='weighted_categorical_crossentropy', **kwargs):\n",
        "\n",
        "    cost_mat = np.array(cost_mat)   \n",
        "    ## when loading from config, self.cost_mat returns as a list, rather than an numpy array. \n",
        "    ## Adding the above line fixes this issue, enabling .ndim to call sucessfully. \n",
        "    ## However, this is probably not the best implementation\n",
        "    assert(cost_mat.ndim == 2)\n",
        "    assert(cost_mat.shape[0] == cost_mat.shape[1])\n",
        "    super().__init__(name=name, **kwargs)\n",
        "    self.cost_mat = K.cast_to_floatx(cost_mat)\n",
        "\n",
        "  def __call__(self, y_true, y_pred, sample_weight=None):\n",
        "    assert sample_weight is None, \"should only be derived from the cost matrix\"  \n",
        "    return super().__call__(\n",
        "        y_true=y_true, \n",
        "        y_pred=y_pred, \n",
        "        sample_weight=get_sample_weights(y_true, y_pred, self.cost_mat),\n",
        "    )\n",
        "\n",
        "\n",
        "  def get_config(self):\n",
        "    config = super().get_config().copy()\n",
        "    # Calling .update on the line above, during assignment, causes an error with config becoming None-type.\n",
        "    config.update({'cost_mat': (self.cost_mat)})\n",
        "    return config\n",
        "\n",
        "  @classmethod\n",
        "  def from_config(cls, config):\n",
        "    # something goes wrong here and changes self.cost_mat to a list variable.\n",
        "    # See above for temporary fix\n",
        "    return cls(**config)\n",
        "\n",
        "def get_sample_weights(y_true, y_pred, cost_m):\n",
        "    num_classes = len(cost_m)\n",
        "\n",
        "    y_pred.shape.assert_has_rank(2)\n",
        "    assert(y_pred.shape[1] == num_classes)\n",
        "    y_pred.shape.assert_is_compatible_with(y_true.shape)\n",
        "\n",
        "    y_pred = K.one_hot(K.argmax(y_pred), num_classes)\n",
        "\n",
        "    y_true_nk1 = K.expand_dims(y_true, 2)\n",
        "    y_pred_n1k = K.expand_dims(y_pred, 1)\n",
        "    cost_m_1kk = K.expand_dims(cost_m, 0)\n",
        "\n",
        "    sample_weights_nkk = cost_m_1kk * y_true_nk1 * y_pred_n1k\n",
        "    sample_weights_n = K.sum(sample_weights_nkk, axis=[1, 2])\n",
        "\n",
        "    return sample_weights_n\n",
        "\n",
        "\n",
        "# Register the loss in the Keras namespace to enable loading of the custom object.\n",
        "tf.keras.losses.WeightedCategoricalCrossentropy = WeightedCategoricalCrossentropy\n",
        " "
      ],
      "metadata": {
        "id": "pUR1sLQ7MvVa"
      },
      "execution_count": 5,
      "outputs": []
    },
    {
      "cell_type": "markdown",
      "source": [
        "### WeightedCategoricalCross Entropy Function "
      ],
      "metadata": {
        "id": "-uJmU0t4ANuv"
      }
    },
    {
      "cell_type": "code",
      "source": [],
      "metadata": {
        "id": "hou6f0Sp3MuO"
      },
      "execution_count": 5,
      "outputs": []
    },
    {
      "cell_type": "code",
      "source": [
        "def PA_method_epoch(cost_matrix, nb_epoch = 45, patience = 10 , **args):\n",
        "\n",
        "  model3 = Sequential()\n",
        "  model3.add(Dense(40, input_shape=(784,), kernel_initializer=tf.keras.initializers.glorot_uniform(seed=42)))\n",
        "  model3.add(Activation('relu'))\n",
        "  model3.add(Dropout(0.2))\n",
        "  model3.add(Dense(40, kernel_initializer=tf.keras.initializers.glorot_uniform(seed=42)))\n",
        "  model3.add(Activation('relu'))\n",
        "  model3.add(Dropout(0.2))\n",
        "  model3.add(Dense(10,kernel_initializer=tf.keras.initializers.glorot_uniform(seed=42)))\n",
        "  model3.add(Activation('softmax'))\n",
        "\n",
        "  rms = RMSprop()  #https://keras.io/api/optimizers/rmsprop/\n",
        "\n",
        "  model3.compile(loss=WeightedCategoricalCrossentropy(cost_matrix), optimizer=rms,  metrics='categorical_accuracy',)\n",
        "\n",
        "  #https://www.tensorflow.org/tensorboard/image_summaries\n",
        "  #I want to display the number of misclassifications for a certain value on the confusion matrix\n",
        "  #this existing code is to display the confusion matrix as an image to tensorboard each epoch\n",
        "  #I just need to use model.predict()\n",
        "  #I convert to confusion matrix\n",
        "  # and subset the confusion matrix to the right value\n",
        "  # and print that value\n",
        "\n",
        "  def log_confusion_matrix(epoch, logs):\n",
        "    # Use the model to predict the values from the validation dataset.\n",
        "    y_prediction = model3.predict(X_test)\n",
        "    y_prediction  = np.argmax(y_prediction, axis=1)\n",
        "\n",
        "    #Create confusion matrix \n",
        "    cm = confusion_matrix(y_test, y_prediction)\n",
        "    print(cm)\n",
        "    print(cm[4,9])\n",
        "    print(cm[9,4])\n",
        "    # # Log the confusion matrix as an image summary.\n",
        "    # with file_writer_cm.as_default():\n",
        "    #   tf.summary.image(\"epoch_confusion_matrix\", cm_image, step=epoch)\n",
        "\n",
        "  # Define the per-epoch callback.\n",
        "  cm_callback = tf.keras.callbacks.LambdaCallback(on_epoch_end=log_confusion_matrix)\n",
        "\n",
        "  callback = tf.keras.callbacks.EarlyStopping(monitor='val_loss', patience=patience, verbose=1, restore_best_weights = True)\n",
        "\n",
        "  # # Print the batch number at the beginning of every batch.\n",
        "  # batch_print_callback = tf.keras.callbacks.LambdaCallback(\n",
        "  #     on_batch_begin=lambda batch,logs: print(batch))\n",
        "\n",
        "\n",
        "  model3_history = model3.fit(X_train, Y_train,\n",
        "            batch_size=batch_size, epochs=nb_epoch, verbose=2,\n",
        "            validation_data=(X_test, Y_test), shuffle=True, use_multiprocessing=True\n",
        "            ,callbacks = [callback, cm_callback]\n",
        "            )\n",
        "\n",
        " \n",
        "\n",
        "  #Predict\n",
        "  y_prediction = model3.predict(X_test)\n",
        "  y_prediction  = np.argmax(y_prediction, axis=1)\n",
        "  # Y_prediction = np_utils.to_categorical(y_prediction, nb_classes)\n",
        "\n",
        "  #Create confusion matrix and normalizes it over predicted (columns)\n",
        "  # result = confusion_matrix(y_test, y_prediction , normalize='pred')\n",
        "\n",
        "  \n",
        "\n",
        "  cm3 = confusion_matrix(y_test, y_prediction)\n",
        "  cm3 = pd.DataFrame(cm3, range(10),range(10))\n",
        "  # plt.figure(figsize = (10,10))\n",
        "  # cm3\n",
        "  # sns.heatmap(cm2, annot=True, annot_kws={\"size\": 12}) # font size\n",
        "  # plt.show()\n",
        "\n",
        "  # cm_using_weighted_new = cm3\n",
        "\n",
        "  # print(model3_history.history)\n",
        "  tot_epochs = max(model3_history.epoch)+1  #if the total epochs ran is 28, it'll show up as 27 in the epoch object so we must add 1\n",
        "  print(\"Total Epochs: \", tot_epochs)\n",
        "  restored_weights  = tot_epochs-patience   #when using restore-best-weights and patience, it'll restore the best weights back\n",
        "  print(\"Restored weights at \", restored_weights)\n",
        "  \n",
        "\n",
        "\n",
        "  #Label is the epoch weights are restored \n",
        "  label = f\"{restored_weights}\"\n",
        "  #Label_vale is the value at which the epoch weights are restored \n",
        "  label_value = f\"{ model3_history.history['val_categorical_accuracy'][restored_weights]}\"\n",
        "  print(\"Label: \", label, \"Val_Cat_Acc Value: \", label_value)\n",
        "\n",
        "\n",
        "\n",
        "  plt.plot(range(1,tot_epochs+1), model3_history.history['categorical_accuracy'],)\n",
        "  plt.plot(range(1,tot_epochs+1), model3_history.history['val_categorical_accuracy'])\n",
        "  plt.scatter((restored_weights), model3_history.history['val_categorical_accuracy'][restored_weights])\n",
        "\n",
        "  plt.annotate(text=label,  xy=(restored_weights, model3_history.history['val_categorical_accuracy'][restored_weights]),\n",
        "                 textcoords=\"offset points\", \n",
        "                 xytext=(0,10), \n",
        "                 ha='center')\n",
        "  plt.title('model accuracy')\n",
        "  plt.ylabel('accuracy')\n",
        "  plt.xlabel('epoch')\n",
        "\n",
        "  \n",
        "  plt.legend(['train', 'val'], loc='upper left')\n",
        "  plt.show()\n",
        "  \n",
        "  \n",
        "\n",
        "  plt.plot(range(1,tot_epochs+1), model3_history.history['loss'])\n",
        "  plt.plot(range(1,tot_epochs+1), model3_history.history['val_loss'])\n",
        "  plt.title('model loss')\n",
        "  plt.ylabel('loss')\n",
        "  plt.xlabel('epoch')\n",
        "  plt.legend(['train', 'val'], loc='upper left')\n",
        "  plt.scatter(restored_weights, model3_history.history['val_loss'][restored_weights])\n",
        "  plt.annotate(text=label,  xy=(restored_weights, model3_history.history['val_loss'][restored_weights]),\n",
        "                 textcoords=\"offset points\", \n",
        "                 xytext=(0,10), \n",
        "                 ha='center')\n",
        "  plt.show()\n",
        "\n",
        "\n",
        "\n",
        "\n",
        "  return cm3, model3_history, model3"
      ],
      "metadata": {
        "id": "3UWVdmRHNBhP"
      },
      "execution_count": 6,
      "outputs": []
    },
    {
      "cell_type": "markdown",
      "source": [
        "### *Keep Track of Experimental Admin Stuff - #Runs and #CostMatrix\n",
        "\n",
        "> Change the cost matrix and number of runs and check the file extension name \n"
      ],
      "metadata": {
        "id": "skXIN6S4npiV"
      }
    },
    {
      "cell_type": "markdown",
      "source": [
        "#### *Define Cost Matrix and Method"
      ],
      "metadata": {
        "id": "q9YhLRi4NU2E"
      }
    },
    {
      "cell_type": "code",
      "source": [
        "# Experimental Admin Stuff\n",
        "cost_matrix = np.ones((10,10))\n",
        "\n",
        "### Weight of Misclassification\n",
        "## ~~~~~~~~~~~~~~~~~~~~~~~~~~~~~~~~~~~~~\n",
        "cost_matrix[9, 4] = 1\n",
        "cost_str = str(cost_matrix[9, 4])\n",
        "## ~~~~~~~~~~~~~~~~~~~~~~~~~~~~~~~~~~~~~\n",
        "\n",
        "\n",
        "\n",
        "### File Extension to reference in JMP : weights_method_cost\n",
        "## ~~~~~~~~~~~~~~~~~~~~~~~~~~~~~~~~~~~~~\n",
        "file_extension = \"w[9,4]_PA_\" + cost_str + \"_Shfl_40D_\"\n",
        "## ~~~~~~~~~~~~~~~~~~~~~~~~~~~~~~~~~~~~~\n",
        "\n",
        "\n",
        "np.set_printoptions(suppress=True)\n",
        "np.set_printoptions(precision=2)\n",
        "\n",
        "print(\"Last run using \", cost_str)"
      ],
      "metadata": {
        "id": "3bMXTRRBnn3E",
        "colab": {
          "base_uri": "https://localhost:8080/"
        },
        "outputId": "9dad0e5e-4acd-4f16-ffca-7cc03bdd8711"
      },
      "execution_count": 7,
      "outputs": [
        {
          "output_type": "stream",
          "name": "stdout",
          "text": [
            "Last run using  1.0\n"
          ]
        }
      ]
    },
    {
      "cell_type": "markdown",
      "source": [
        "#### Run Experiments"
      ],
      "metadata": {
        "id": "x_EdEdJwOpvO"
      }
    },
    {
      "cell_type": "code",
      "source": [
        "#@title\n",
        "cm = np.zeros([10,10])\n",
        "combined_cms = np.empty((1,100))\n",
        "\n",
        "combined_history_dictionary = {}  #because there will be a unknown number of epochs a dictionary is probly a better fit\n",
        "combined_history_list       = []\n",
        "\n",
        "\n",
        "## Define the total number of runs\n",
        "### ~~~~~~~~~\n",
        "runs = 1\n",
        "### ~~~~~~~~~~\n",
        "\n",
        "#its easier for me to count my runs as \"1 and up\" instead of 0...   \n",
        "for i in range(1,runs+1):\n",
        "  cost_matrix[9, 4] = 1000\n",
        "  print(\"Run \", i, \"Starting with a  cost_matrix[9, 4] = \",  cost_matrix[9, 4] , \" for 45 epochs with Early Stopping and Restore Best Weights ... \")\n",
        "\n",
        "\n",
        "  cm2 , history, model =  PA_method_epoch(cost_matrix,nb_epoch=11 )    #Individual CM, and Training/Validation History\n",
        "  print(\"After first stage CM: \\n\", cm2)\n",
        "\n",
        "  print(\"After first stage CM[9,4]: \\n\", cm2[4][9])\n",
        "  \n",
        "\n",
        "\n",
        "  combined_history_dictionary[i] = history\n",
        "  combined_history_list.append(history)\n",
        "  # cm += cm2                   #Aggregating for an Average\n",
        "  cm2_array = np.asarray(cm2)  #Indiv CM as array for storing\n",
        "  combined_cms = np.vstack((combined_cms,cm2_array.reshape((1,100))))\n",
        "\n",
        "# ###############################\n",
        "# ## Code to update the fitted model with the new cost matrix\n",
        "# ###############################\n",
        "\n",
        "# cost_matrix[9, 4] = 1000\n",
        "\n",
        "# print(\"Run \", i, \" continued, with a  cost_matrix[9, 4] = \",  cost_matrix[9, 4] , \" for 45 epochs and Early Stopping on Val_Loss of patience 20 ... \")\n",
        "\n",
        "\n",
        "# rms = RMSprop()  #https://keras.io/api/optimizers/rmsprop/\n",
        "# patience  = 20\n",
        "\n",
        "# model.compile(loss=WeightedCategoricalCrossentropy(cost_matrix), optimizer=rms,  metrics='categorical_accuracy',)\n",
        "# callback = tf.keras.callbacks.EarlyStopping(monitor='val_loss', patience=patience, verbose=1, restore_best_weights = True)\n",
        "# model_history = model.fit(X_train, Y_train, batch_size=batch_size, epochs=nb_epoch, verbose=2,\n",
        "#               validation_data=(X_test, Y_test), shuffle=True, use_multiprocessing=True,callbacks = [callback])\n",
        "\n",
        "\n",
        "\n",
        "# #Predict\n",
        "# y_prediction = model.predict(X_test)\n",
        "# y_prediction  = np.argmax(y_prediction, axis=1)\n",
        "\n",
        "\n",
        "\n",
        "# cm3 = confusion_matrix(y_test, y_prediction)\n",
        "# cm3 = pd.DataFrame(cm3, range(10),range(10))\n",
        "# cm3\n",
        "\n",
        "# #Label is the epoch weights are restored \n",
        "# label = f\"{max(model_history.epoch)-patience}\"\n",
        "\n",
        " \n",
        "# plt.plot(model_history.history['categorical_accuracy'])\n",
        "# plt.plot(model_history.history['val_categorical_accuracy'])\n",
        "# plt.scatter(x=(max(model_history.epoch)-patience), y=model_history.history['val_categorical_accuracy'][max(model_history.epoch)-patience])\n",
        "\n",
        "# plt.annotate(text=label,  xy=(max(model_history.epoch)-patience, model_history.history['val_categorical_accuracy'][max(model_history.epoch)-patience]),\n",
        "#                 textcoords=\"offset points\", \n",
        "#                 xytext=(0,10), \n",
        "#                 ha='center')\n",
        "# plt.title('model accuracy')\n",
        "# plt.ylabel('accuracy')\n",
        "# plt.xlabel('epoch')\n",
        "\n",
        "\n",
        "# plt.legend(['train', 'val'], loc='upper left')\n",
        "# plt.show()\n",
        "\n",
        "\n",
        "# plt.plot(model_history.history['loss'])\n",
        "# plt.plot(model_history.history['val_loss'])\n",
        "# plt.title('model loss')\n",
        "# plt.ylabel('loss')\n",
        "# plt.xlabel('epoch')\n",
        "# plt.legend(['train', 'val'], loc='upper left')\n",
        "# plt.scatter(x=(max(model_history.epoch)-patience), y=model_history.history['val_loss'][max(model_history.epoch)-patience])\n",
        "# plt.annotate(text=label,  xy=(max(model_history.epoch)-patience, model_history.history['val_loss'][max(model_history.epoch)-patience]),\n",
        "#                 textcoords=\"offset points\", \n",
        "#                 xytext=(0,10), \n",
        "#                 ha='center')\n",
        "# plt.show()\n",
        "\n",
        "# print(\"After second stage CM: \\n\", cm3)\n",
        "\n",
        "# print(\"After second stage CM[9,4]: \\n\",cm3[4][9])  #First number is COLUMN, second number is ROW so column 4 is Prediction is 4, Row 9 is Truly a Label 9\n",
        "  \n",
        "\n",
        "#######\n",
        "\n",
        "# cm_new = cm/30"
      ],
      "metadata": {
        "id": "OSq7jMYUOF4t",
        "colab": {
          "base_uri": "https://localhost:8080/",
          "height": 1000
        },
        "outputId": "69bd9945-275d-427f-c920-53ec4a349655"
      },
      "execution_count": 8,
      "outputs": [
        {
          "output_type": "stream",
          "name": "stdout",
          "text": [
            "Run  1 Starting with a  cost_matrix[9, 4] =  1000.0  for 45 epochs with Early Stopping and Restore Best Weights ... \n",
            "Epoch 1/11\n",
            "313/313 [==============================] - 7s 21ms/step\n",
            "[[ 930    0    1    2    0    7   21    1   15    3]\n",
            " [   0 1094   17    3    0    0    4    0   15    2]\n",
            " [  13   11  872   29    0    1   23   10   52   21]\n",
            " [   3    3   31  873    0   36    1   12   27   24]\n",
            " [   5    7    5    0   60    4   19    3   13  866]\n",
            " [  12    2    7   34    1  714   16   10   68   28]\n",
            " [  25    4   13    0    2   13  888    2   10    1]\n",
            " [   0   42   11    5    2    0    1  819   10  138]\n",
            " [  14   23   16   19    4   39   11    9  781   58]\n",
            " [   9    6    2   11    0    4    1   22    6  948]]\n",
            "866\n",
            "0\n",
            "235/235 - 10s - loss: 2.3161 - categorical_accuracy: 0.6047 - val_loss: 0.5747 - val_categorical_accuracy: 0.7979 - 10s/epoch - 41ms/step\n",
            "Epoch 2/11\n",
            "313/313 [==============================] - 3s 9ms/step\n",
            "[[ 955    0    0    1    0    6   12    1    5    0]\n",
            " [   0 1106    5    4    0    0    3    2   14    1]\n",
            " [  16   11  903   13    0    1   13   14   47   14]\n",
            " [   3    4   26  879    0   47    2   15   28    6]\n",
            " [   2    3    3    0  124    0   13    1    8  828]\n",
            " [  15    1    5   27    1  760   14    6   48   15]\n",
            " [  18    4    6    0    3   14  905    1    6    1]\n",
            " [   2   18   13    3    1    0    1  939    4   47]\n",
            " [  11   10   13   13    4   32   10   15  843   23]\n",
            " [   9    4    1   10    0    9    1   27    7  941]]\n",
            "828\n",
            "0\n",
            "235/235 - 5s - loss: 1.2011 - categorical_accuracy: 0.7688 - val_loss: 0.4085 - val_categorical_accuracy: 0.8355 - 5s/epoch - 21ms/step\n",
            "Epoch 3/11\n",
            "313/313 [==============================] - 1s 3ms/step\n",
            "[[ 953    0    1    1    1    5   13    1    5    0]\n",
            " [   0 1112    4    4    0    0    3    2    9    1]\n",
            " [  12    8  930   14    3    0   12   12   30   11]\n",
            " [   2    3   24  923    1   24    0   13   16    4]\n",
            " [   1    3    2    0  276    0   15    0    5  680]\n",
            " [  10    1    2   35    3  776   16    4   31   14]\n",
            " [  11    4    2    0    2   14  918    0    6    1]\n",
            " [   2   12   20    3    5    0    0  942    2   42]\n",
            " [   7    8   13   17    4   24   13   13  865   10]\n",
            " [   7    5    0   13    0    6    1   20    5  952]]\n",
            "680\n",
            "0\n",
            "235/235 - 4s - loss: 1.0509 - categorical_accuracy: 0.8168 - val_loss: 0.3387 - val_categorical_accuracy: 0.8647 - 4s/epoch - 16ms/step\n",
            "Epoch 4/11\n",
            "313/313 [==============================] - 2s 5ms/step\n",
            "[[ 960    0    1    1    0    3    7    1    5    2]\n",
            " [   0 1111    4    5    0    0    3    1   10    1]\n",
            " [  13    3  947   11    3    0    8   12   26    9]\n",
            " [   2    3   20  934    0   18    1   15   14    3]\n",
            " [   2    4    4    0  224    0    9    1    4  734]\n",
            " [   8    1    2   35    2  787   11    3   29   14]\n",
            " [  17    4    2    0    3   14  907    0    7    4]\n",
            " [   1    9   19    6    1    0    0  959    0   33]\n",
            " [   8    4    9   13    2   21    9   16  874   18]\n",
            " [   6    3    0   15    0    4    0   15    5  961]]\n",
            "734\n",
            "0\n",
            "235/235 - 4s - loss: 0.9591 - categorical_accuracy: 0.8411 - val_loss: 0.3297 - val_categorical_accuracy: 0.8664 - 4s/epoch - 18ms/step\n",
            "Epoch 5/11\n",
            "313/313 [==============================] - 1s 4ms/step\n",
            "[[ 956    0    0    1    2    5   12    2    2    0]\n",
            " [   0 1114    4    3    0    1    3    2    7    1]\n",
            " [   8    4  960    9    5    0    7    7   22   10]\n",
            " [   1    3   26  936    2   17    0   12   10    3]\n",
            " [   1    3    6    0  249    0   14    0    4  705]\n",
            " [   6    1    2   32    2  802   11    2   21   13]\n",
            " [  10    4    2    0    4   13  919    0    3    3]\n",
            " [   3    8   22    3    3    0    0  953    0   36]\n",
            " [   6    6   11   11    7   23    9   14  872   15]\n",
            " [   9    5    0   14    0    5    0   16    4  956]]\n",
            "705\n",
            "0\n",
            "235/235 - 3s - loss: 0.8238 - categorical_accuracy: 0.8573 - val_loss: 0.3057 - val_categorical_accuracy: 0.8717 - 3s/epoch - 15ms/step\n",
            "Epoch 6/11\n",
            "313/313 [==============================] - 1s 2ms/step\n",
            "[[ 953    0    0    1    4    5   10    2    5    0]\n",
            " [   0 1103    4    4    1    0    3    1   18    1]\n",
            " [   6    4  946   15    6    1    5    9   33    7]\n",
            " [   0    1   11  955    1   12    0   12   15    3]\n",
            " [   1    1    4    0  476    0   11    1    7  481]\n",
            " [   5    1    0   23    4  814   11    0   23   11]\n",
            " [   9    4    1    0    6   22  910    0    5    1]\n",
            " [   1   10   18    7    2    1    1  960    1   27]\n",
            " [   4    5    6   12    7   17    6   10  901    6]\n",
            " [   4    4    0   16    0    8    1    9    4  963]]\n",
            "481\n",
            "0\n",
            "235/235 - 3s - loss: 0.7809 - categorical_accuracy: 0.8693 - val_loss: 0.2631 - val_categorical_accuracy: 0.8981 - 3s/epoch - 11ms/step\n",
            "Epoch 7/11\n",
            "313/313 [==============================] - 1s 2ms/step\n",
            "[[ 950    0    0    1    4    5   11    2    5    2]\n",
            " [   0 1111    4    3    0    0    3    1   12    1]\n",
            " [   5    3  959   13    1    1    5   13   24    8]\n",
            " [   0    2   18  954    1    9    0   12   10    4]\n",
            " [   1    3    3    0  247    0   10    1    4  713]\n",
            " [   5    1    2   33    3  805   12    1   19   11]\n",
            " [  10    4    2    0    4    7  924    0    4    3]\n",
            " [   1   11   15    8    2    0    0  966    1   24]\n",
            " [   4    4    9   12    4   16    9    9  893   14]\n",
            " [   5    5    0   17    0    5    0    9    4  964]]\n",
            "713\n",
            "0\n",
            "235/235 - 2s - loss: 0.8232 - categorical_accuracy: 0.8663 - val_loss: 0.2808 - val_categorical_accuracy: 0.8773 - 2s/epoch - 9ms/step\n",
            "Epoch 8/11\n",
            "313/313 [==============================] - 1s 2ms/step\n",
            "[[ 958    0    0    1    2    5    9    1    2    2]\n",
            " [   0 1117    4    4    0    0    3    1    5    1]\n",
            " [   7    3  955   12    2    1    5   13   25    9]\n",
            " [   0    2   14  953    1   11    0   12   11    6]\n",
            " [   2    2    4    0  345    0   10    1    3  615]\n",
            " [   6    1    2   23    3  817   10    2   14   14]\n",
            " [  11    4    1    0    3   11  921    0    4    3]\n",
            " [   1   11   15    6    2    0    0  970    0   23]\n",
            " [   6    7    9   11    6   12   10   11  888   14]\n",
            " [   8    5    1   12    0    7    0    8    3  965]]\n",
            "615\n",
            "0\n",
            "235/235 - 2s - loss: 0.8240 - categorical_accuracy: 0.8740 - val_loss: 0.2651 - val_categorical_accuracy: 0.8889 - 2s/epoch - 9ms/step\n",
            "Epoch 9/11\n",
            "313/313 [==============================] - 2s 6ms/step\n",
            "[[ 960    0    0    1    1    4   10    1    2    1]\n",
            " [   0 1118    3    3    0    0    4    1    5    1]\n",
            " [   8    3  961    8    2    1    5   15   21    8]\n",
            " [   0    2   17  944    1   17    0   12   15    2]\n",
            " [   1    1    3    0  363    0   15    1    3  595]\n",
            " [   6    1    1   14    3  823   14    2   16   12]\n",
            " [  10    4    0    0    4    7  930    0    2    1]\n",
            " [   3   10   15    7    0    0    0  974    0   19]\n",
            " [   9    6    5    7    5   10   14    8  899   11]\n",
            " [   9    6    0   11    0    6    0    8    3  966]]\n",
            "595\n",
            "0\n",
            "235/235 - 3s - loss: 0.6635 - categorical_accuracy: 0.8807 - val_loss: 0.2521 - val_categorical_accuracy: 0.8938 - 3s/epoch - 12ms/step\n",
            "Epoch 10/11\n",
            "313/313 [==============================] - 1s 4ms/step\n",
            "[[ 964    0    0    1    1    4    7    1    2    0]\n",
            " [   0 1115    4    4    0    1    3    1    7    0]\n",
            " [   7    2  976    9    2    1    5    8   18    4]\n",
            " [   0    1   20  947    1   19    0   10   10    2]\n",
            " [   2    1    6    0  623    0   12    0    6  332]\n",
            " [   5    0    1   16    3  838   11    2   12    4]\n",
            " [  12    3    1    0    6   11  920    0    5    0]\n",
            " [   4    8   25    3    2    0    0  972    0   14]\n",
            " [   7    4    9    9    5   12    9    8  907    4]\n",
            " [   9    4    0   14    2    7    0    9    3  961]]\n",
            "332\n",
            "2\n",
            "235/235 - 3s - loss: 0.7127 - categorical_accuracy: 0.8880 - val_loss: 0.4212 - val_categorical_accuracy: 0.9223 - 3s/epoch - 12ms/step\n",
            "Epoch 11/11\n",
            "313/313 [==============================] - 1s 3ms/step\n",
            "[[ 962    0    2    0    1    4    7    1    3    0]\n",
            " [   0 1114    3    4    0    1    3    2    8    0]\n",
            " [   7    2  974    8    1    1    5    9   19    6]\n",
            " [   0    1   16  943    1   24    0   11   12    2]\n",
            " [   1    1    5    0  675    0   18    0    3  279]\n",
            " [   4    0    1   12    1  850   12    2    5    5]\n",
            " [   9    3    0    0    4   11  928    0    3    0]\n",
            " [   4    8   17    2    0    0    0  982    1   14]\n",
            " [   5    5    8    7    5   21    9    6  901    7]\n",
            " [   8    4    0   13    3    9    0   12    3  957]]\n",
            "279\n",
            "3\n",
            "235/235 - 2s - loss: 0.7093 - categorical_accuracy: 0.8897 - val_loss: 0.5051 - val_categorical_accuracy: 0.9286 - 2s/epoch - 8ms/step\n",
            "313/313 [==============================] - 1s 2ms/step\n",
            "Total Epochs:  11\n",
            "Restored weights at  1\n",
            "Label:  1 Val_Cat_Acc Value:  0.8355000019073486\n"
          ]
        },
        {
          "output_type": "display_data",
          "data": {
            "text/plain": [
              "<Figure size 432x288 with 1 Axes>"
            ],
            "image/png": "[encoded data removed]"
          },
          "metadata": {
            "needs_background": "light"
          }
        },
        {
          "output_type": "display_data",
          "data": {
            "text/plain": [
              "<Figure size 432x288 with 1 Axes>"
            ],
            "image/png": "[encoded data removed]"
          },
          "metadata": {
            "needs_background": "light"
          }
        },
        {
          "output_type": "stream",
          "name": "stdout",
          "text": [
            "After first stage CM: \n",
            "      0     1    2    3    4    5    6    7    8    9\n",
            "0  962     0    2    0    1    4    7    1    3    0\n",
            "1    0  1114    3    4    0    1    3    2    8    0\n",
            "2    7     2  974    8    1    1    5    9   19    6\n",
            "3    0     1   16  943    1   24    0   11   12    2\n",
            "4    1     1    5    0  675    0   18    0    3  279\n",
            "5    4     0    1   12    1  850   12    2    5    5\n",
            "6    9     3    0    0    4   11  928    0    3    0\n",
            "7    4     8   17    2    0    0    0  982    1   14\n",
            "8    5     5    8    7    5   21    9    6  901    7\n",
            "9    8     4    0   13    3    9    0   12    3  957\n",
            "After first stage CM[9,4]: \n",
            " 3\n"
          ]
        }
      ]
    },
    {
      "cell_type": "code",
      "source": [
        "# dir(history) and # print(history.__dict__)  are useful for digging into what variables are inside a variable"
      ],
      "metadata": {
        "id": "s6HsboVWsimi"
      },
      "execution_count": 9,
      "outputs": []
    },
    {
      "cell_type": "code",
      "source": [
        "combined_history_dictionary[1].history['loss'] #inside each combined_history_dictionary is a list\n",
        "# combined_history_dictionary[1].history['val_loss']\n",
        "# combined_history_dictionary[1].history['categorical_accuracy']\n",
        "# combined_history_dictionary[1].history['val_categorical_accuracy']\n",
        "# combined_history_dictionary[1].epoch\n",
        "\n",
        "# len(combined_history_dictionary)  # the length is 1, but the dictionary starts at 1\n",
        "# # len(combined_history_list)      # the length is 1, but the list starts at 0\n",
        "# combined_history_list[0].history['loss'][17:19]\n",
        "# combined_history_list[0].history['val_loss'][18-1]  #epoch 18 is where my first run stopped aand restored weights.  Epoch 18 is #17 with base 0 counting.\n",
        "\n",
        "\n",
        "(combined_history_dictionary[1].history.keys())"
      ],
      "metadata": {
        "colab": {
          "base_uri": "https://localhost:8080/"
        },
        "id": "JMQNfNee3vWl",
        "outputId": "f84d8a5c-2d4e-45cc-f2a7-195c6691d13f"
      },
      "execution_count": 21,
      "outputs": [
        {
          "output_type": "execute_result",
          "data": {
            "text/plain": [
              "dict_keys(['loss', 'categorical_accuracy', 'val_loss', 'val_categorical_accuracy'])"
            ]
          },
          "metadata": {},
          "execution_count": 21
        }
      ]
    },
    {
      "cell_type": "markdown",
      "source": [],
      "metadata": {
        "id": "fxIL-2WZ6oBC"
      }
    },
    {
      "cell_type": "markdown",
      "source": [],
      "metadata": {
        "id": "fYeMRVha6oEt"
      }
    },
    {
      "cell_type": "code",
      "source": [
        "# I need to remove the first placeholder row of zeros\n",
        "combined_cms = combined_cms[1:(runs+1)]"
      ],
      "metadata": {
        "id": "Z7qMXMuN4kS1"
      },
      "execution_count": null,
      "outputs": []
    },
    {
      "cell_type": "markdown",
      "source": [
        "#### Save the 30/X confusion matrices"
      ],
      "metadata": {
        "id": "u-MSCXKC48ss"
      }
    },
    {
      "cell_type": "code",
      "source": [
        "#Save 30 confusion matrices\n",
        "\n",
        "import pickle\n",
        "\n",
        "str_runs = str(runs)\n",
        "\n",
        "\n",
        "from datetime import date\n",
        "today = date.today()\n",
        "file_date = today.strftime(\"%Y_%m_%d\")\n",
        "now = datetime.now() # current date and time\n",
        "file_time = now.strftime(\"%H%M\")\n",
        "print(\"time:\", file_time)\n",
        "\n",
        "\n",
        "\n",
        "\n",
        "file_name = str_runs + \"CM_\" + file_extension + \"_\" + file_date + \"_\" + file_time +  \"_.pkl\"\n",
        "print(file_name, \" will be saved with \", combined_cms.shape)\n",
        "\n",
        "with open(file_name, 'wb') as file_write:\n",
        "      \n",
        "    # A new file will be created\n",
        "    pickle.dump(combined_cms, file_write)\n",
        "\n",
        "\n",
        "\n",
        " \n",
        "# Open the file in binary mode\n",
        "with open(file_name, 'rb') as file:\n",
        "      \n",
        "    # Call load method to deserialze\n",
        "    var = pickle.load(file)\n",
        "  \n",
        "    print(var)\n",
        "    \n",
        "print(file_name, \" was opened with \", var.shape)\n",
        "\n",
        "from google.colab import files\n",
        "files.download( file_name )  \n",
        "\n",
        "print(file_name, \".pkl was saved to Downloads \")\n"
      ],
      "metadata": {
        "id": "9purX_onqXGo"
      },
      "execution_count": null,
      "outputs": []
    },
    {
      "cell_type": "code",
      "source": [
        "# How many categories are there in the test set?\n",
        "\n",
        "truth_num_per_category = Y_test.sum(axis=0)\n",
        "print(truth_num_per_category)"
      ],
      "metadata": {
        "id": "id_ythTutuo3"
      },
      "execution_count": null,
      "outputs": []
    },
    {
      "cell_type": "markdown",
      "source": [
        "# Analyze \n",
        "\n",
        "I am now going to load the Average CM and try to get it in a format where I can make it a 1x100 and load all 30 CMs so that we can visualize their distributions in a a big histogram_matrix. At this point the Google Colab variables are gone and I have to reoad them "
      ],
      "metadata": {
        "id": "NP_kxNkhn6Fd"
      }
    },
    {
      "cell_type": "code",
      "source": [
        "import numpy as np\n",
        "import pandas as pd\n",
        "empty_cm = np.zeros((10,10))  \n",
        "empty_cm=pd.DataFrame(empty_cm)\n",
        "\n",
        "empty_cm.columns = ['0p', '1p', '2p', '3p', '4p', '5p', '6p', '7p', '8p', '9p']\n",
        "empty_cm.index = ['0t', '1t', '2t', '3t', '4t', '5t', '6t', '7t', '8t', '9t']\n",
        "\n",
        "# print(myvar_cm_average)\n",
        "\n",
        "empty_cm_array = np.asarray(empty_cm)\n",
        "empty_cm_array_1_100 = np.reshape(empty_cm_array,(1,100))\n",
        "# print(cm_average_array)\n",
        "\n",
        "df = empty_cm\n",
        "df_new = pd.DataFrame(empty_cm_array_1_100,  columns=pd.MultiIndex.from_product([ df.index,df.columns]))\n",
        "df_new.columns.to_flat_index()\n",
        "df_new.columns   = ['_'.join(col) for col in df_new.columns.values]\n",
        "\n",
        "# Now convert combined_cms of size 30x100 to a panda dataframe\n",
        "combined_cms_df = pd.DataFrame(combined_cms, columns=[df_new.columns])\n",
        "\n",
        "combined_cms_df"
      ],
      "metadata": {
        "id": "kLrNJE0s53pb"
      },
      "execution_count": null,
      "outputs": []
    },
    {
      "cell_type": "code",
      "source": [
        "combined_cms_df[\"9t_4p\"]"
      ],
      "metadata": {
        "id": "HgPClcrAUdxu"
      },
      "execution_count": null,
      "outputs": []
    },
    {
      "cell_type": "code",
      "source": [
        "np.average(combined_cms_df[\"9t_4p\"])"
      ],
      "metadata": {
        "id": "TY59hUTadVyp"
      },
      "execution_count": null,
      "outputs": []
    },
    {
      "cell_type": "code",
      "source": [
        "csv_filename = file_name[:-4] + \".csv\"\n",
        "\n",
        "combined_cms_df.to_csv(csv_filename)\n",
        "\n",
        "\n",
        "from google.colab import files\n",
        "files.download(csv_filename )\n",
        "\n",
        "print(\"Downloading \", csv_filename , \" of shape \", combined_cms_df.shape)"
      ],
      "metadata": {
        "id": "ceUFAr_z9xsk"
      },
      "execution_count": null,
      "outputs": []
    },
    {
      "cell_type": "code",
      "source": [
        "df = pd.DataFrame(sum(var)/len(var), columns=[\"Values\"]) \n",
        "# print(df)\n",
        "\n",
        "df.style.format({\n",
        "  'Values': lambda val: f'{val:,.2f}',\n",
        "})\n",
        "\n",
        "(df.sort_values(by=\"Values\", ascending=False)[0:20])\n",
        "\n",
        "\n",
        "df_sorted = df.sort_values(by=\"Values\", ascending=False)[10:]  #the top 10 are usually diagonal\n",
        "\n",
        "\n",
        "df_sorted.style.format({\n",
        "  'Values': lambda val: f'{val:,.2f}',\n",
        "})\n",
        "\n",
        "import math\n",
        "\n",
        "print(\"On average...\")\n",
        "print(\"Num 1 misclassifications are misclassifying a \", math.floor((df_sorted[\"Values\"].index[0])/10), \" as a \", df_sorted[\"Values\"].index[0]%10, \"  (\", (df_sorted[\"Values\"].values[0]), \" times)\" )\n",
        "print(\"Num 2 misclassifications are misclassifying a \", math.floor((df_sorted[\"Values\"].index[1])/10), \" as a \", df_sorted[\"Values\"].index[1]%10, \"  (\", (df_sorted[\"Values\"].values[1]), \" times)\" )\n",
        "print(\"Num 3 misclassifications are misclassifying a \", math.floor((df_sorted[\"Values\"].index[2])/10), \" as a \", df_sorted[\"Values\"].index[2]%10, \"  (\", (df_sorted[\"Values\"].values[2]), \" times)\" )\n",
        "\n",
        "\n"
      ],
      "metadata": {
        "id": "-pGNLuE8gNrB"
      },
      "execution_count": null,
      "outputs": []
    },
    {
      "cell_type": "code",
      "source": [
        "df_percents = pd.DataFrame( ((sum(var)*100/len(var)).reshape((10,10))/truth_num_per_category).reshape((100)), columns = [\"Values\"])\n",
        "\n",
        "\n",
        "df_sorted_percents = df_percents.sort_values(by=\"Values\", ascending=False)[10:]  #the top 10 are usually diagonal\n",
        "\n",
        "df_sorted_percents.style.format({\n",
        "  'Values': lambda val: f'{val:,.2f}',\n",
        "})\n",
        "\n",
        "print(\"On average .. \")\n",
        "print(\"Num 1 percent misclassifications\", math.floor((df_sorted_percents[\"Values\"].index[0])/10), \" as \", df_sorted_percents[\"Values\"].index[0]%10, (df_sorted_percents[\"Values\"].values[0]), \" percent\" )\n",
        "print(\"Num 2 percent misclassifications\", math.floor((df_sorted_percents[\"Values\"].index[1])/10), \" as \", df_sorted_percents[\"Values\"].index[1]%10,  (df_sorted_percents[\"Values\"].values[1]), \" percent\" )\n",
        "print(\"Num 3 percent misclassifications\", math.floor((df_sorted_percents[\"Values\"].index[2])/10), \" as \", df_sorted_percents[\"Values\"].index[2]%10, (df_sorted_percents[\"Values\"].values[2]), \" percent\" )\n",
        "\n",
        "\n",
        "\n",
        "\n"
      ],
      "metadata": {
        "id": "AKYclir2p8wk"
      },
      "execution_count": null,
      "outputs": []
    },
    {
      "cell_type": "code",
      "source": [],
      "metadata": {
        "id": "FrT9iz3dp8rZ"
      },
      "execution_count": null,
      "outputs": []
    },
    {
      "cell_type": "markdown",
      "source": [
        "# Extraneous"
      ],
      "metadata": {
        "id": "GZfPCKu_oqrZ"
      }
    },
    {
      "cell_type": "markdown",
      "source": [
        "To reference later: \n",
        "\n",
        "https://colab.research.google.com/github/tensorflow/docs/blob/master/site/en/tutorials/structured_data/imbalanced_data.ipynb#scrollTo=UJ589fn8ST3x\n",
        "\n",
        "To train a model with class weights:\n",
        "\n",
        "```\n",
        "class_weight = {0: weight_for_0, 1: weight_for_1}\n",
        "\n",
        "weighted_model = make_model()\n",
        "weighted_model.load_weights(initial_weights)\n",
        "\n",
        "weighted_history = weighted_model.fit(\n",
        "    train_features,\n",
        "    train_labels,\n",
        "    batch_size=BATCH_SIZE,\n",
        "    epochs=EPOCHS,\n",
        "    callbacks=[early_stopping],\n",
        "    validation_data=(val_features, val_labels),\n",
        "\n",
        "    # The class weights go here\n",
        "    class_weight=class_weight)\n",
        "```\n",
        "\n"
      ],
      "metadata": {
        "id": "iLEt0OL5ziEq"
      }
    },
    {
      "cell_type": "code",
      "source": [
        "# Extraneous information I am not using at the moment\n",
        "\n",
        "# model.compile(\n",
        "#      optimizer='adam',\n",
        "#      loss=WeightedCategoricalCrossentropy(cost_matrix)\n",
        "#      )\n",
        "\n",
        "## Model Saving\n",
        "\n",
        "# model.save(save_version_dir,save_format='tf')\n",
        "\n",
        "## Model Loading\n",
        "\n",
        "# model = tf.keras.models.load_model(\n",
        "#     save_version_dir,\n",
        "#     compile=True,\n",
        "#     custom_objects={\n",
        "#         'WeightedCategoricalCrossentropy': WeightedCategoricalCrossentropy(cost_matrix)\n",
        "#         }\n",
        "#     )\n",
        " "
      ],
      "metadata": {
        "id": "WRzuOuZeKVpJ"
      },
      "execution_count": null,
      "outputs": []
    },
    {
      "cell_type": "markdown",
      "source": [
        "starting to think about how i would shape the initial, middle and late training experiments.  "
      ],
      "metadata": {
        "id": "GH-yoluLM0sw"
      }
    },
    {
      "cell_type": "code",
      "source": [
        "count = 0\n",
        "\n",
        "\n",
        "print(\"     | --- Init --- | | --- Mid --- | | --- Late --- | \")\n",
        "for i in [\"   1\",\" 100\", \"1000\"]:\n",
        "  for j in  [\"   1\",\" 100\", \"1000\"]:\n",
        "    for k in   [\"   1\",\" 100\", \"1000\"]:\n",
        "      count+=1\n",
        "      print(f\"{count}    |     {i}     ,     {j}    ,    {k}     | \")\n",
        "\n",
        "\n"
      ],
      "metadata": {
        "id": "EisEf8F6MzFT"
      },
      "execution_count": null,
      "outputs": []
    },
    {
      "cell_type": "markdown",
      "source": [],
      "metadata": {
        "id": "xVGDsrmmNLed"
      }
    }
  ]
}