{
  "nbformat": 4,
  "nbformat_minor": 0,
  "metadata": {
    "colab": {
      "provenance": [],
      "history_visible": true,
      "authorship_tag": "ABX9TyMtGN1lrUcwkn1HsUJEYa31",
      "include_colab_link": true
    },
    "kernelspec": {
      "name": "python3",
      "display_name": "Python 3"
    },
    "language_info": {
      "name": "python"
    },
    "gpuClass": "standard",
    "accelerator": "GPU"
  },
  "cells": [
    {
      "cell_type": "markdown",
      "metadata": {
        "id": "view-in-github",
        "colab_type": "text"
      },
      "source": [
        "<a href=\"https://colab.research.google.com/github/RachelRamirez/misclassification_matrix/blob/main/PreExperiment_PA_Shfl_40D_Lambda1_Lambda2_Lambda3.ipynb\" target=\"_parent\"><img src=\"https://colab.research.google.com/assets/colab-badge.svg\" alt=\"Open In Colab\"/></a>"
      ]
    },
    {
      "cell_type": "markdown",
      "source": [
        "# PreExperiment PA Shfl 40D Lambda1 Lambda2 Lambda3\n",
        "\n",
        "\n"
      ],
      "metadata": {
        "id": "_t4Z4Nq-gQ26"
      }
    },
    {
      "cell_type": "markdown",
      "source": [
        "In prior notebooks, I experimented with one variable; lambda, the value the cost-matrix takes on for whatever misclassification we are interested in.  The seeded neural network we trained using a normal cost-matrix of all ones usually had a higher misclassification count on the true 9s being mislabelled as 4s, which you will sometimes see written as \"9T, 4P\" or, \"w[9t,4p]\".\n",
        "\n",
        "We changed the lambda values and allowed as many epochs of training with  early-stopping and a patience of 10 to conclude once training was beginnnig to overfit the validation data (also the test set).   Lambda values chosen were 1, 10, 100, and 1000.   These values were chosen because it seemed that only very high values like 1000 could drive down the number of misclassifications of 9T,4P to zero.\n",
        "\n",
        "In this notebook, continuing to use a relatively balanced dataset, we're going to also experiment with a second variable, time of training.  This is a little more tricky to define because the variable lambda is thought to have an impact on the number of epochs needed.  Therefore if you have a certain lambda value in the beginning of training, you may only need 10 total epochs of training, but if you use it at the end of training, you may need more epochs of training.  In addition there is the question as to whether we should define   a static number of epochs or to allow early stopping.  \n",
        "\n",
        "As an example:\n",
        "\n",
        "\n",
        "|Lambda | Rep 1 Epochs | Rep 2 Epochs |  Rep 3 | Rep 4 |\tRep 5 |\tRep 6\t| Rep 7\t| Rep 8\t|Rep 9\t| Rep 10 |  Average of 10 Reps |\n",
        "|-- | -- | --- |  --| -- |  --| -- |  --| -- |  --| -- |  --| \n",
        "1\t|17|19|19|\t22|\t17\t|21\t|19\t|22\t|19|\t22|\t... 19*\n",
        "100 |14|14|14|\t11|\t14\t|14\t|14\t|14\t|14|\t14|\t... 13.7*\n",
        "1000:\t|18|23|22|\t35|\t7\t|25\t|21\t|19\t|23|\t24|\t... 21.7\n",
        "\n",
        "*However 1 and 100 were done with patience of 3, whereas 1000 was done with patience of 10 and more epochs.  Rerunning the 1's with the same patience appears to up the number of epochs til early stopping to mid-20s.  \n",
        "\n",
        "\n",
        "We'll test the conditions for using a static training cycle first, because it's easier to code and report on, and then test how to do a dynamic training cycle, \n"
      ],
      "metadata": {
        "id": "5u6fp0kHg4tG"
      }
    },
    {
      "cell_type": "markdown",
      "source": [
        "## Reduced  capacity neural network with two layers of 40 connections\n",
        "\n",
        "  Filename \"PA_Shfl_w[9,4]_2.0_40D_Misclassification_Cost_Matrix_Example\""
      ],
      "metadata": {
        "id": "NqL4ADhFLsqG"
      }
    },
    {
      "cell_type": "markdown",
      "source": [
        "#### Check timezone if incorrect restart"
      ],
      "metadata": {
        "id": "l4sBTo67FC9-"
      }
    },
    {
      "cell_type": "code",
      "source": [
        "# How to change the local time in Google Colab\n",
        "!rm /etc/localtime\n",
        "!ln -s /usr/share/zoneinfo/US/Eastern /etc/localtime\n",
        "!date\n",
        "\n",
        "#If this doesn't show the local time correctly, then you need to restart.\n",
        "import time\n",
        "time.localtime(time.time())"
      ],
      "metadata": {
        "colab": {
          "base_uri": "https://localhost:8080/"
        },
        "id": "g4I5Wm-6EPYR",
        "outputId": "fd73ce03-ecc5-42f3-ed38-8447bd614070"
      },
      "execution_count": 2,
      "outputs": [
        {
          "output_type": "stream",
          "name": "stdout",
          "text": [
            "Fri 03 Mar 2023 04:58:30 PM EST\n"
          ]
        },
        {
          "output_type": "execute_result",
          "data": {
            "text/plain": [
              "time.struct_time(tm_year=2023, tm_mon=3, tm_mday=3, tm_hour=16, tm_min=58, tm_sec=30, tm_wday=4, tm_yday=62, tm_isdst=0)"
            ]
          },
          "metadata": {},
          "execution_count": 2
        }
      ]
    },
    {
      "cell_type": "markdown",
      "source": [
        "### Reproducible Seeds"
      ],
      "metadata": {
        "id": "Wn15dbArlsIs"
      }
    },
    {
      "cell_type": "code",
      "source": [
        "#For Reproducibility\n",
        "import numpy as np\n",
        "# np.random.seed(1337)  # for reproducibility\n",
        "\n",
        "import tensorflow as tf\n",
        "# tf.random.set_seed(33)\n",
        "\n",
        "import random as python_random\n",
        "# python_random.seed(4)\n",
        "\n",
        "# https://www.tensorflow.org/api_docs/python/tf/keras/utils/set_random_seed\n",
        "tf.keras.utils.set_random_seed(342) #Possibly use next iteration if the above doesn't work\n",
        "\n",
        "\n",
        "# Running more than once causes variation.  try adding this:\n",
        "# Set seed value\n",
        "seed_value = 56\n",
        "import os\n",
        "os.environ['PYTHONHASHSEED']=str(seed_value)\n",
        "\n",
        "print(\"TF version: \" , tf.__version__ )\n",
        "print(\"Keras version: \" , tf.keras.__version__ )"
      ],
      "metadata": {
        "colab": {
          "base_uri": "https://localhost:8080/"
        },
        "id": "zcjDfFIIbmbo",
        "outputId": "3c902cef-5d41-4903-acf9-99de5f5c6c74"
      },
      "execution_count": 3,
      "outputs": [
        {
          "output_type": "stream",
          "name": "stdout",
          "text": [
            "TF version:  2.11.0\n",
            "Keras version:  2.11.0\n"
          ]
        }
      ]
    },
    {
      "cell_type": "markdown",
      "source": [
        "### Import rest of Library"
      ],
      "metadata": {
        "id": "mTW-hEgnlp44"
      }
    },
    {
      "cell_type": "code",
      "source": [
        "\n",
        "# from https://github.com/keras-team/keras/issues/2115#issuecomment-204060456\n",
        "# witha correction on the weighted function in the middle \n",
        "\n",
        "'''Train a simple deep NN on the MNIST dataset.\n",
        "Get to 98.40% test accuracy after 20 epochs\n",
        "(there is *a lot* of margin for parameter tuning).\n",
        "2 seconds per epoch on a K520 GPU.\n",
        "'''\n",
        "\n",
        "from __future__ import print_function  #do i still need this?\n",
        "from keras.datasets import mnist\n",
        "from keras.models import Sequential\n",
        "from keras.layers.core import Dense, Dropout, Activation\n",
        "from keras.optimizers import SGD, Adam, RMSprop\n",
        "from keras.utils import np_utils\n",
        "import keras.backend as K\n",
        "from itertools import product\n",
        "import functools\n",
        "from functools import partial\n",
        "from time import ctime\n",
        "from time import sleep\n",
        "import matplotlib.pyplot as plt\n",
        "import seaborn as sns\n",
        "import pandas as pd \n",
        "from sklearn.metrics import confusion_matrix\n",
        "\n",
        "## MORE REPEATABILITY STUFF NEEDED - If theres a way to update this to V2 of Tensorflow great, otherwise I had to use TF 1.0 code\n",
        "# 5. Configure a new global `tensorflow` session (https://stackoverflow.com/questions/50659482/why-cant-i-get-reproducible-results-in-keras-even-though-i-set-the-random-seeds)\n",
        "# from keras import backend as K\n",
        "\n",
        "\n",
        "#I believe thecode below is to help things be repeatable each time different sections in my google colab notebook execute\n",
        "session_conf = tf.compat.v1.ConfigProto(intra_op_parallelism_threads=1, inter_op_parallelism_threads=1)\n",
        "sess = tf.compat.v1.Session(graph=tf.compat.v1.get_default_graph(), config=session_conf)\n",
        "K.set_session(sess)"
      ],
      "metadata": {
        "id": "idfYNyyAgMsO"
      },
      "execution_count": 4,
      "outputs": []
    },
    {
      "cell_type": "markdown",
      "source": [
        "### Define batch, epochs, and format data"
      ],
      "metadata": {
        "id": "otcbfKF7mY9y"
      }
    },
    {
      "cell_type": "code",
      "source": [
        "batch_size = 256 # I originally had it very  high batch size to reduce the variation in the data each batch and hope it makes the model training more nearly identical which it did, then i bring it back down to something reasonable to get better results training the NN\n",
        "nb_classes = 10\n",
        "nb_epoch = 45\n",
        "\n",
        "# the data, shuffled and split between train and test sets\n",
        "(X_train, y_train), (X_test, y_test) = mnist.load_data()\n",
        "\n",
        "\n",
        "X_train = X_train.reshape(60000, 784)\n",
        "X_test = X_test.reshape(10000, 784)\n",
        "X_train = X_train.astype('float32')\n",
        "X_test = X_test.astype('float32')\n",
        "X_train /= 255\n",
        "X_test /= 255\n",
        "print(X_train.shape[0], 'train samples')\n",
        "print(X_test.shape[0], 'test samples')\n",
        "\n",
        "# convert class vectors to binary class matrices\n",
        "Y_train = np_utils.to_categorical(y_train, nb_classes)\n",
        "Y_test = np_utils.to_categorical(y_test, nb_classes)\n"
      ],
      "metadata": {
        "colab": {
          "base_uri": "https://localhost:8080/"
        },
        "id": "B59UXDb8i8W5",
        "outputId": "bb9e1112-639f-46cd-9dee-8c9b57138160"
      },
      "execution_count": 5,
      "outputs": [
        {
          "output_type": "stream",
          "name": "stdout",
          "text": [
            "Downloading data from https://storage.googleapis.com/tensorflow/tf-keras-datasets/mnist.npz\n",
            "11490434/11490434 [==============================] - 0s 0us/step\n",
            "60000 train samples\n",
            "10000 test samples\n"
          ]
        }
      ]
    },
    {
      "cell_type": "markdown",
      "source": [
        "### Weighted Categorical Cross Entropy Class"
      ],
      "metadata": {
        "id": "3fHQHrz8MwXJ"
      }
    },
    {
      "cell_type": "code",
      "source": [
        "class WeightedCategoricalCrossentropy(tf.keras.losses.CategoricalCrossentropy):\n",
        "\n",
        "  def __init__(self, cost_mat, name='weighted_categorical_crossentropy', **kwargs):\n",
        "\n",
        "    cost_mat = np.array(cost_mat)   \n",
        "    ## when loading from config, self.cost_mat returns as a list, rather than an numpy array. \n",
        "    ## Adding the above line fixes this issue, enabling .ndim to call sucessfully. \n",
        "    ## However, this is probably not the best implementation\n",
        "    assert(cost_mat.ndim == 2)\n",
        "    assert(cost_mat.shape[0] == cost_mat.shape[1])\n",
        "    super().__init__(name=name, **kwargs)\n",
        "    self.cost_mat = K.cast_to_floatx(cost_mat)\n",
        "\n",
        "  def __call__(self, y_true, y_pred, sample_weight=None):\n",
        "    assert sample_weight is None, \"should only be derived from the cost matrix\"  \n",
        "    return super().__call__(\n",
        "        y_true=y_true, \n",
        "        y_pred=y_pred, \n",
        "        sample_weight=get_sample_weights(y_true, y_pred, self.cost_mat),\n",
        "    )\n",
        "\n",
        "\n",
        "  def get_config(self):\n",
        "    config = super().get_config().copy()\n",
        "    # Calling .update on the line above, during assignment, causes an error with config becoming None-type.\n",
        "    config.update({'cost_mat': (self.cost_mat)})\n",
        "    return config\n",
        "\n",
        "  @classmethod\n",
        "  def from_config(cls, config):\n",
        "    # something goes wrong here and changes self.cost_mat to a list variable.\n",
        "    # See above for temporary fix\n",
        "    return cls(**config)\n",
        "\n",
        "def get_sample_weights(y_true, y_pred, cost_m):\n",
        "    num_classes = len(cost_m)\n",
        "\n",
        "    y_pred.shape.assert_has_rank(2)\n",
        "    assert(y_pred.shape[1] == num_classes)\n",
        "    y_pred.shape.assert_is_compatible_with(y_true.shape)\n",
        "\n",
        "    y_pred = K.one_hot(K.argmax(y_pred), num_classes)\n",
        "\n",
        "    y_true_nk1 = K.expand_dims(y_true, 2)\n",
        "    y_pred_n1k = K.expand_dims(y_pred, 1)\n",
        "    cost_m_1kk = K.expand_dims(cost_m, 0)\n",
        "\n",
        "    sample_weights_nkk = cost_m_1kk * y_true_nk1 * y_pred_n1k\n",
        "    sample_weights_n = K.sum(sample_weights_nkk, axis=[1, 2])\n",
        "\n",
        "    return sample_weights_n\n",
        "\n",
        "\n",
        "# Register the loss in the Keras namespace to enable loading of the custom object.\n",
        "tf.keras.losses.WeightedCategoricalCrossentropy = WeightedCategoricalCrossentropy\n",
        " "
      ],
      "metadata": {
        "id": "pUR1sLQ7MvVa"
      },
      "execution_count": 6,
      "outputs": []
    },
    {
      "cell_type": "markdown",
      "source": [
        "### Train Model with WeightedCategoricalCross Entropy Function "
      ],
      "metadata": {
        "id": "-uJmU0t4ANuv"
      }
    },
    {
      "cell_type": "code",
      "source": [
        "def PA_method_epoch(model3, lambda_val, nb_epoch = 5, patience = 10 , **args):\n",
        "  print(\"Parameter values specified for this training-cycle.  Number of epochs: \", nb_epoch, \"Number of epochs of Patience: \", patience)\n",
        "  cost_matrix = np.ones((10,10))\n",
        "\n",
        "  Truth=9\n",
        "  Predicted=4\n",
        "\n",
        "  cost_matrix[Truth, Predicted] = lambda_val\n",
        "  print(\"The cost of a true \", str(Truth), \"  predicted as a \", str(Predicted), \" is \", lambda_val  )\n",
        "\n",
        "\n",
        "# ---------------------------------------------------------------------------------------------------------------------------------\n",
        "# Is a Model already created?  \n",
        "# ---------------------------------------------------------------------------------------------------------------------------------\n",
        "  if model3==None:  #\"No model was passed through so one will be initiated\")\n",
        "\n",
        "      print(\"No model was passed through so one will be initiated\")\n",
        "\n",
        "      model3 = Sequential()\n",
        "      model3.add(Dense(40, input_shape=(784,), kernel_initializer=tf.keras.initializers.glorot_uniform(seed=42)))\n",
        "      model3.add(Activation('relu'))\n",
        "      model3.add(Dropout(0.2))\n",
        "      model3.add(Dense(40, kernel_initializer=tf.keras.initializers.glorot_uniform(seed=42)))\n",
        "      model3.add(Activation('relu'))\n",
        "      model3.add(Dropout(0.2))\n",
        "      model3.add(Dense(10,kernel_initializer=tf.keras.initializers.glorot_uniform(seed=42)))\n",
        "      model3.add(Activation('softmax'))\n",
        "      rms = RMSprop()  #https://keras.io/api/optimizers/rmsprop/\n",
        "      model3.compile(loss=WeightedCategoricalCrossentropy(cost_matrix), optimizer=rms,  metrics='categorical_accuracy',)\n",
        "\n",
        " \n",
        "  else:  #A model was passed through, so no other model will be created\n",
        "    print(\"A model was passed through\")\n",
        "\n",
        "\n",
        "  def log_confusion_matrix(epoch, logs):\n",
        "    # Use the model to predict the values from the validation dataset.\n",
        "    y_prediction = model3.predict(X_test)\n",
        "    y_prediction  = np.argmax(y_prediction, axis=1)\n",
        "\n",
        "    #Create confusion matrix \n",
        "    cm = confusion_matrix(y_test, y_prediction)\n",
        "    # print(cm)\n",
        "    # print(\"4t,9p: \", cm[4,9])\n",
        "    # print(\"9t,4p: \", cm[9,4])\n",
        "    # # # Log the confusion matrix as an image summary.\n",
        "    # with file_writer_cm.as_default():\n",
        "    #   tf.summary.image(\"epoch_confusion_matrix\", cm_image, step=epoch)\n",
        "    logs['9T_4P'] = cm[9,4]\n",
        "    logs['4T_9P'] = cm[4,9]\n",
        "  # Define the per-epoch callback.\n",
        "  cm_callback = tf.keras.callbacks.LambdaCallback(on_epoch_end=log_confusion_matrix, )\n",
        "\n",
        "\n",
        "# ---------------------------------------------------------------------------------------------------------------------------------\n",
        "# Will this be a training session with early-stopping? If so user specifies a patience level, and the appropriate callback is used\n",
        "# ---------------------------------------------------------------------------------------------------------------------------------\n",
        "  if patience > 0:\n",
        "    es_callback = tf.keras.callbacks.EarlyStopping(monitor='val_loss', patience=patience, verbose=1, restore_best_weights = True)\n",
        "    model3_history = model3.fit(X_train, Y_train,\n",
        "          batch_size=batch_size, epochs=nb_epoch, verbose=2,\n",
        "          validation_data=(X_test, Y_test), shuffle=True, use_multiprocessing=True\n",
        "          ,callbacks = [es_callback, cm_callback]\n",
        "          )\n",
        "  #If early-stopping is not needed then the model will be trained without using the ES callback\n",
        "  else:  # no need to do early-stopping if patience = 0\n",
        "    model3_history = model3.fit(X_train, Y_train,\n",
        "          batch_size=batch_size, epochs=nb_epoch, verbose=2,\n",
        "          validation_data=(X_test, Y_test), shuffle=True, use_multiprocessing=True\n",
        "          ,callbacks = [cm_callback]    #<<< -------------- the only thing that changed is no EarlyStop Callback\n",
        "          )\n",
        "\n",
        " \n",
        "\n",
        "  \n",
        "# ---------------------------------------------------------------------------------------------------------------------------------\n",
        "# Training complete.  Make Predictions\n",
        "# ---------------------------------------------------------------------------------------------------------------------------------\n",
        "  #Predict\n",
        "  y_prediction = model3.predict(X_test)\n",
        "  y_prediction  = np.argmax(y_prediction, axis=1)\n",
        "  # Y_prediction = np_utils.to_categorical(y_prediction, nb_classes)\n",
        "\n",
        "  #Create confusion matrix and normalizes it over predicted (columns)\n",
        "  # result = confusion_matrix(y_test, y_prediction , normalize='pred')\n",
        "\n",
        "\n",
        "\n",
        "  cm3 = confusion_matrix(y_test, y_prediction)\n",
        "  cm3 = pd.DataFrame(cm3, range(10),range(10))\n",
        "  # plt.figure(figsize = (10,10))\n",
        "  # cm3\n",
        "  # sns.heatmap(cm2, annot=True, annot_kws={\"size\": 12}) # font size\n",
        "  # plt.show()\n",
        "  # cm_using_weighted_new = cm3\n",
        "\n",
        "  # print(model3_history.history)\n",
        "  tot_epochs = max(model3_history.epoch)+1  #if the total epochs ran is 28, it'll show up as 27 in the epoch object so we must add 1\n",
        "  print(\"Total Epochs: \", tot_epochs)\n",
        "\n",
        "  #if tot_epochs is the total number of epochs ran then early stop did not happen, and we need not minus patience\n",
        "  if tot_epochs == nb_epoch:\n",
        "    restored_weights = tot_epochs\n",
        "  else:\n",
        "    restored_weights  = tot_epochs-patience   #when using restore-best-weights and patience, it'll restore the best weights back\n",
        "  print(\"Restored weights at \", restored_weights, \"Patience used: \", patience)\n",
        "\n",
        "\n",
        "  return cm3, model3_history, model3, restored_weights\n"
      ],
      "metadata": {
        "id": "3UWVdmRHNBhP"
      },
      "execution_count": 7,
      "outputs": []
    },
    {
      "cell_type": "markdown",
      "source": [
        "### Plot Function"
      ],
      "metadata": {
        "id": "7HLUprZ9t9YB"
      }
    },
    {
      "cell_type": "code",
      "source": [
        "def plot_fx(model3_history, restored_weights):\n",
        "\n",
        "\n",
        "  tot_epochs = max(model3_history.epoch)+1\n",
        "\n",
        "  #Label is the epoch weights are restored \n",
        "  label = f\"{restored_weights}\"\n",
        "  #Label_vale is the value at which the epoch weights are restored \n",
        "  label_value = f\"{ model3_history.history['val_categorical_accuracy'][restored_weights-1]}\"\n",
        "  print(\"Label: \", label, \"Val_Cat_Acc Value: \", label_value)\n",
        "\n",
        "\n",
        "\n",
        "  plt.plot(range(1,tot_epochs+1), model3_history.history['categorical_accuracy'],)\n",
        "  plt.plot(range(1,tot_epochs+1), model3_history.history['val_categorical_accuracy'])\n",
        "  plt.xlim(xmin=1)\n",
        "\n",
        "  plt.scatter((restored_weights), model3_history.history['val_categorical_accuracy'][restored_weights-1] , color='orange')\n",
        "\n",
        "  plt.annotate(text=label,  xy=(restored_weights, model3_history.history['val_categorical_accuracy'][restored_weights-1]),\n",
        "                 textcoords=\"offset points\", \n",
        "                 xytext=(0,10), \n",
        "                 ha='center')\n",
        "  plt.title('model accuracy')\n",
        "  plt.ylabel('accuracy')\n",
        "  plt.xlabel('epoch (starts at 1)')\n",
        "\n",
        "  \n",
        "  plt.legend(['train', 'val'], loc='upper left')\n",
        "  plt.show()\n",
        "  \n",
        "  \n",
        "\n",
        "  plt.plot(range(1,tot_epochs+1), model3_history.history['loss'])\n",
        "  plt.plot(range(1,tot_epochs+1), model3_history.history['val_loss'])\n",
        "  plt.xlim(xmin=1)\n",
        "  plt.title('model loss')\n",
        "  plt.ylabel('loss')\n",
        "  plt.xlabel('epoch (starts at 1)')\n",
        "  plt.legend(['train', 'val'], loc='upper left')\n",
        "  plt.scatter(restored_weights, model3_history.history['val_loss'][restored_weights-1], color='orange')\n",
        "  plt.annotate(text=label,  xy=(restored_weights, model3_history.history['val_loss'][restored_weights-1]),\n",
        "                 textcoords=\"offset points\", \n",
        "                 xytext=(0,10), \n",
        "                 ha='center')\n",
        "  plt.show()\n"
      ],
      "metadata": {
        "id": "lHP7RI6-nQKb"
      },
      "execution_count": 8,
      "outputs": []
    },
    {
      "cell_type": "markdown",
      "source": [
        "### *Keep Track of Experimental Admin Stuff - #Runs and #CostMatrix\n",
        "\n",
        "> Change the cost matrix and number of runs and check the file extension name \n"
      ],
      "metadata": {
        "id": "skXIN6S4npiV"
      }
    },
    {
      "cell_type": "markdown",
      "source": [
        "#### *Define Cost Matrix and Method"
      ],
      "metadata": {
        "id": "q9YhLRi4NU2E"
      }
    },
    {
      "cell_type": "code",
      "source": [
        "# Experimental Admin Stuff\n",
        "\n",
        "# ### Weight of Misclassifications for three stages of training\n",
        "lambda1, lambda2, lambda3 = 1, 1, 1\n",
        "\n",
        "\n",
        "# ### Number of Epochs for each Stage of Training\n",
        "train_epochs1, train_epochs2, train_epochs3 = 5, 5, 25\n",
        "\n",
        "# ### Whether there is EarlyStopping and if so how many Epochs of Patience Patience=0 means no EarlyStopping\n",
        "es1, es2, es3 = 0, 0, 20\n",
        "\n",
        "# ### String of weights-of-misclassification for naming files\n",
        "## ~~~~~~~~~~~~~~~~~~~~~~~~~~~~~~~~~~~~~ \n",
        "cost_str = str(lambda1) + \"_\" + str(lambda2) + \"_\"  + str(lambda3)\n",
        "epochs_str = str(train_epochs1) + \"_\" + str(train_epochs2) + \"_\"  + str(train_epochs3)\n",
        "patience_str = str(es1) + \"_\" + str(es2) + \"_\"  + str(es3)\n",
        "# ## ~~~~~~~~~~~~~~~~~~~~~~~~~~~~~~~~~~~~~ \n",
        "\n",
        " \n",
        "\n",
        "### File Extension to reference in JMP : weights_method_costs1_2_3\n",
        "## ~~~~~~~~~~~~~~~~~~~~~~~~~~~~~~~~~~~~~\n",
        "file_extension = \"w[9,4]_L_\" + cost_str + \"_E_\" + epochs_str + \"_P_\" + patience_str + \"_\"\n",
        "## ~~~~~~~~~~~~~~~~~~~~~~~~~~~~~~~~~~~~~\n",
        "print(len(file_extension))\n",
        "\n",
        "\n",
        "np.set_printoptions(suppress=True)\n",
        "np.set_printoptions(precision=2)\n",
        "\n",
        "print(\"Last run using \", cost_str)\n",
        "print(\"File Extension \", file_extension)"
      ],
      "metadata": {
        "id": "3bMXTRRBnn3E",
        "colab": {
          "base_uri": "https://localhost:8080/"
        },
        "outputId": "34fa4f16-5557-4660-f62a-25f1bb29aad2"
      },
      "execution_count": 11,
      "outputs": [
        {
          "output_type": "stream",
          "name": "stdout",
          "text": [
            "33\n",
            "Last run using  1_1_1\n",
            "File Extension  w[9,4]_L_1_1_1_E_5_5_25_P_0_0_20_\n"
          ]
        }
      ]
    },
    {
      "cell_type": "markdown",
      "source": [
        "#### Run Experiments"
      ],
      "metadata": {
        "id": "x_EdEdJwOpvO"
      }
    },
    {
      "cell_type": "code",
      "source": [
        "#@title\n",
        "# cm = np.zeros([10,10])\n",
        "# combined_cms = np.empty((1,100))\n",
        "\n",
        "combined_history_dictionary = {}  #because there will be a unknown number of epochs a dictionary is probly a better fit\n",
        "combined_history_list       = []\n",
        "\n",
        "\n",
        "## Define the total number of runs\n",
        "### ~~~~~~~~~\n",
        "runs = 1\n",
        "### ~~~~~~~~~~\n",
        "\n",
        "\n",
        "def display_cm_after_training(training, cm):\n",
        "  print(\"After \", str(training), \" stage CM: \\n\", cm)\n",
        "  print(\"CM[9,4]: \", cm[4][9]) #yes this is the right format dont change! [First Value is the Column][Second Value is the Row]\n",
        "\n",
        "\n",
        "\n",
        "#its easier for me to count my runs as \"1 and up\" instead of 0...   \n",
        "for i in range(1,runs+1):\n",
        "  print(f'{i}'*500)\n",
        "  print(\"Run \", i, \"Starting with a  cost_matrix[9, 4] = \",  lambda1)\n",
        "  print(f'{i}'*500)\n",
        "\n",
        "  # Initial Training\n",
        "  cm1, history1, model1, restored_weights1 =  PA_method_epoch(None, lambda1, nb_epoch=train_epochs1, patience=es1 )    #Individual CM, and Training/Validation History\n",
        " \n",
        "  plot_fx(history1, restored_weights1)\n",
        "  display_cm_after_training(\"first\", cm1)\n",
        "\n",
        "  # Second Training\n",
        "  cm2, history2, model2, restored_weights2 =  PA_method_epoch(model1, lambda2, nb_epoch=train_epochs2, patience=es2 )    #Individual CM, and Training/Validation History\n",
        "  plot_fx(history2, restored_weights2)\n",
        "  display_cm_after_training(\"second\", cm2)\n",
        "\n",
        "  \n",
        "\n",
        "  # Third Training\n",
        "  cm3, history3, model3, restored_weights3 =  PA_method_epoch(model2, lambda3, nb_epoch=train_epochs3, patience=es3 )    #Individual CM, and Training/Validation History\n",
        "  plot_fx(history3, restored_weights3)\n",
        "  display_cm_after_training(\"third\", cm3)\n",
        "  \n",
        "\n",
        "\n",
        "# Save the results of 1st 2nd and 3rd phase training in one combined_history_list or disctionary\n",
        "\n",
        "  combined_history_dictionary[i] = {\"First\": history1, \"Second\": history2, \"Third\": history3}\n",
        "  combined_history_list.extend((history1, history2, history3))\n",
        "  cm1_array = np.asarray(cm1)  #Indiv CM as array for storing\n",
        "  cm2_array = np.asarray(cm2)\n",
        "  cm3_array = np.asarray(cm3)\n",
        "\n",
        "  # This results in saving the three confusion matrices after the three stages of training\n",
        "  # The shape of the combined Cms will be 1x300 so that all can be saved on one-row\n",
        " \n",
        "  combined_cms = np.hstack((cm1_array.reshape((1,100)),\n",
        "                            cm2_array.reshape((1,100)),\n",
        "                            cm3_array.reshape((1,100)))\n",
        "                          )\n",
        "\n",
        " "
      ],
      "metadata": {
        "id": "OSq7jMYUOF4t",
        "colab": {
          "base_uri": "https://localhost:8080/",
          "height": 1000
        },
        "outputId": "371e57ac-e818-45e6-f942-c594ae6184b0"
      },
      "execution_count": 12,
      "outputs": [
        {
          "output_type": "stream",
          "name": "stdout",
          "text": [
            "11111111111111111111111111111111111111111111111111111111111111111111111111111111111111111111111111111111111111111111111111111111111111111111111111111111111111111111111111111111111111111111111111111111111111111111111111111111111111111111111111111111111111111111111111111111111111111111111111111111111111111111111111111111111111111111111111111111111111111111111111111111111111111111111111111111111111111111111111111111111111111111111111111111111111111111111111111111111111111111111111111111111111111111\n",
            "Run  1 Starting with a  cost_matrix[9, 4] =  1\n",
            "11111111111111111111111111111111111111111111111111111111111111111111111111111111111111111111111111111111111111111111111111111111111111111111111111111111111111111111111111111111111111111111111111111111111111111111111111111111111111111111111111111111111111111111111111111111111111111111111111111111111111111111111111111111111111111111111111111111111111111111111111111111111111111111111111111111111111111111111111111111111111111111111111111111111111111111111111111111111111111111111111111111111111111111\n",
            "Parameter values specified for this training-cycle.  Number of epochs:  5 Number of epochs of Patience:  0\n",
            "The cost of a true  9   predicted as a  4  is  1\n",
            "No model was passed through so one will be initiated\n",
            "Epoch 1/5\n",
            "313/313 [==============================] - 1s 3ms/step\n",
            "235/235 - 5s - loss: 0.7557 - categorical_accuracy: 0.7664 - val_loss: 0.2868 - val_categorical_accuracy: 0.9165 - 9T_4P: 33.0000 - 4T_9P: 51.0000 - 5s/epoch - 21ms/step\n",
            "Epoch 2/5\n",
            "313/313 [==============================] - 1s 2ms/step\n",
            "235/235 - 3s - loss: 0.3818 - categorical_accuracy: 0.8885 - val_loss: 0.2255 - val_categorical_accuracy: 0.9319 - 9T_4P: 42.0000 - 4T_9P: 24.0000 - 3s/epoch - 11ms/step\n",
            "Epoch 3/5\n",
            "313/313 [==============================] - 1s 2ms/step\n",
            "235/235 - 2s - loss: 0.3149 - categorical_accuracy: 0.9077 - val_loss: 0.1873 - val_categorical_accuracy: 0.9425 - 9T_4P: 42.0000 - 4T_9P: 18.0000 - 2s/epoch - 7ms/step\n",
            "Epoch 4/5\n",
            "313/313 [==============================] - 1s 2ms/step\n",
            "235/235 - 2s - loss: 0.2773 - categorical_accuracy: 0.9191 - val_loss: 0.1669 - val_categorical_accuracy: 0.9497 - 9T_4P: 21.0000 - 4T_9P: 23.0000 - 2s/epoch - 7ms/step\n",
            "Epoch 5/5\n",
            "313/313 [==============================] - 1s 2ms/step\n",
            "235/235 - 2s - loss: 0.2460 - categorical_accuracy: 0.9276 - val_loss: 0.1589 - val_categorical_accuracy: 0.9509 - 9T_4P: 36.0000 - 4T_9P: 15.0000 - 2s/epoch - 9ms/step\n",
            "313/313 [==============================] - 1s 2ms/step\n",
            "Total Epochs:  5\n",
            "Restored weights at  5 Patience used:  0\n",
            "Label:  5 Val_Cat_Acc Value:  0.9509000182151794\n"
          ]
        },
        {
          "output_type": "display_data",
          "data": {
            "text/plain": [
              "<Figure size 432x288 with 1 Axes>"
            ],
            "image/png": "[encoded data removed]"
          },
          "metadata": {
            "needs_background": "light"
          }
        },
        {
          "output_type": "display_data",
          "data": {
            "text/plain": [
              "<Figure size 432x288 with 1 Axes>"
            ],
            "image/png": "[encoded data removed]"
          },
          "metadata": {
            "needs_background": "light"
          }
        },
        {
          "output_type": "stream",
          "name": "stdout",
          "text": [
            "After  first  stage CM: \n",
            "      0     1    2    3    4    5    6    7    8    9\n",
            "0  961     0    1    1    0    4    9    2    2    0\n",
            "1    0  1113    5    2    0    1    3    1   10    0\n",
            "2    6     3  983    7    5    1    5    6   16    0\n",
            "3    0     1   20  957    1   13    1    9    8    0\n",
            "4    1     2    5    0  946    0    9    1    3   15\n",
            "5    7     1    1   17    4  833   11    2   13    3\n",
            "6    9     3    2    1    6    9  924    0    4    0\n",
            "7    1     7   27    9    7    1    0  965    0   11\n",
            "8    4     4    8   15    8   10    9    6  906    4\n",
            "9   10     5    1   15   36    4    0    9    8  921\n",
            "CM[9,4]:  36\n",
            "Parameter values specified for this training-cycle.  Number of epochs:  5 Number of epochs of Patience:  0\n",
            "The cost of a true  9   predicted as a  4  is  1\n",
            "A model was passed through\n",
            "Epoch 1/5\n",
            "313/313 [==============================] - 1s 2ms/step\n",
            "235/235 - 2s - loss: 0.2332 - categorical_accuracy: 0.9305 - val_loss: 0.1462 - val_categorical_accuracy: 0.9554 - 9T_4P: 29.0000 - 4T_9P: 17.0000 - 2s/epoch - 7ms/step\n",
            "Epoch 2/5\n",
            "313/313 [==============================] - 1s 2ms/step\n",
            "235/235 - 2s - loss: 0.2192 - categorical_accuracy: 0.9354 - val_loss: 0.1397 - val_categorical_accuracy: 0.9589 - 9T_4P: 11.0000 - 4T_9P: 20.0000 - 2s/epoch - 9ms/step\n",
            "Epoch 3/5\n",
            "313/313 [==============================] - 1s 2ms/step\n",
            "235/235 - 2s - loss: 0.2084 - categorical_accuracy: 0.9378 - val_loss: 0.1367 - val_categorical_accuracy: 0.9583 - 9T_4P: 16.0000 - 4T_9P: 18.0000 - 2s/epoch - 9ms/step\n",
            "Epoch 4/5\n",
            "313/313 [==============================] - 1s 2ms/step\n",
            "235/235 - 2s - loss: 0.2013 - categorical_accuracy: 0.9409 - val_loss: 0.1287 - val_categorical_accuracy: 0.9610 - 9T_4P: 15.0000 - 4T_9P: 18.0000 - 2s/epoch - 7ms/step\n",
            "Epoch 5/5\n",
            "313/313 [==============================] - 1s 3ms/step\n",
            "235/235 - 2s - loss: 0.1932 - categorical_accuracy: 0.9429 - val_loss: 0.1308 - val_categorical_accuracy: 0.9602 - 9T_4P: 22.0000 - 4T_9P: 10.0000 - 2s/epoch - 10ms/step\n",
            "313/313 [==============================] - 1s 2ms/step\n",
            "Total Epochs:  5\n",
            "Restored weights at  5 Patience used:  0\n",
            "Label:  5 Val_Cat_Acc Value:  0.9602000117301941\n"
          ]
        },
        {
          "output_type": "display_data",
          "data": {
            "text/plain": [
              "<Figure size 432x288 with 1 Axes>"
            ],
            "image/png": "[encoded data removed]"
          },
          "metadata": {
            "needs_background": "light"
          }
        },
        {
          "output_type": "display_data",
          "data": {
            "text/plain": [
              "<Figure size 432x288 with 1 Axes>"
            ],
            "image/png": "[encoded data removed]"
          },
          "metadata": {
            "needs_background": "light"
          }
        },
        {
          "output_type": "stream",
          "name": "stdout",
          "text": [
            "After  second  stage CM: \n",
            "      0     1    2    3    4    5    6    7    8    9\n",
            "0  967     0    1    2    0    3    4    1    1    1\n",
            "1    0  1119    4    3    0    1    3    1    4    0\n",
            "2    6     2  992    7    7    0    3    6    9    0\n",
            "3    2     1   16  969    0    4    0    8    8    2\n",
            "4    1     0    5    0  958    0    5    1    2   10\n",
            "5    6     1    2   16    2  842    8    3    8    4\n",
            "6   10     2    1    0    7    6  927    0    5    0\n",
            "7    2     6   28    6    7    0    0  969    1    9\n",
            "8    5     3    8   10    7    9   10    4  915    3\n",
            "9    9     5    1   13   22    3    0    6    6  944\n",
            "CM[9,4]:  22\n",
            "Parameter values specified for this training-cycle.  Number of epochs:  25 Number of epochs of Patience:  20\n",
            "The cost of a true  9   predicted as a  4  is  1\n",
            "A model was passed through\n",
            "Epoch 1/25\n",
            "313/313 [==============================] - 1s 2ms/step\n",
            "235/235 - 2s - loss: 0.1881 - categorical_accuracy: 0.9443 - val_loss: 0.1246 - val_categorical_accuracy: 0.9622 - 9T_4P: 19.0000 - 4T_9P: 16.0000 - 2s/epoch - 7ms/step\n",
            "Epoch 2/25\n",
            "313/313 [==============================] - 1s 2ms/step\n",
            "235/235 - 2s - loss: 0.1822 - categorical_accuracy: 0.9457 - val_loss: 0.1253 - val_categorical_accuracy: 0.9629 - 9T_4P: 12.0000 - 4T_9P: 15.0000 - 2s/epoch - 9ms/step\n",
            "Epoch 3/25\n",
            "313/313 [==============================] - 1s 2ms/step\n",
            "235/235 - 2s - loss: 0.1787 - categorical_accuracy: 0.9471 - val_loss: 0.1218 - val_categorical_accuracy: 0.9633 - 9T_4P: 16.0000 - 4T_9P: 17.0000 - 2s/epoch - 9ms/step\n",
            "Epoch 4/25\n",
            "313/313 [==============================] - 1s 2ms/step\n",
            "235/235 - 2s - loss: 0.1740 - categorical_accuracy: 0.9480 - val_loss: 0.1248 - val_categorical_accuracy: 0.9625 - 9T_4P: 24.0000 - 4T_9P: 12.0000 - 2s/epoch - 10ms/step\n",
            "Epoch 5/25\n",
            "313/313 [==============================] - 1s 2ms/step\n",
            "235/235 - 3s - loss: 0.1693 - categorical_accuracy: 0.9494 - val_loss: 0.1231 - val_categorical_accuracy: 0.9640 - 9T_4P: 20.0000 - 4T_9P: 11.0000 - 3s/epoch - 12ms/step\n",
            "Epoch 6/25\n",
            "313/313 [==============================] - 1s 2ms/step\n",
            "235/235 - 2s - loss: 0.1682 - categorical_accuracy: 0.9500 - val_loss: 0.1170 - val_categorical_accuracy: 0.9660 - 9T_4P: 12.0000 - 4T_9P: 14.0000 - 2s/epoch - 10ms/step\n",
            "Epoch 7/25\n",
            "313/313 [==============================] - 1s 2ms/step\n",
            "235/235 - 2s - loss: 0.1657 - categorical_accuracy: 0.9506 - val_loss: 0.1197 - val_categorical_accuracy: 0.9650 - 9T_4P: 12.0000 - 4T_9P: 18.0000 - 2s/epoch - 10ms/step\n",
            "Epoch 8/25\n",
            "313/313 [==============================] - 1s 2ms/step\n",
            "235/235 - 2s - loss: 0.1626 - categorical_accuracy: 0.9524 - val_loss: 0.1229 - val_categorical_accuracy: 0.9650 - 9T_4P: 18.0000 - 4T_9P: 12.0000 - 2s/epoch - 9ms/step\n",
            "Epoch 9/25\n",
            "313/313 [==============================] - 1s 2ms/step\n",
            "235/235 - 2s - loss: 0.1546 - categorical_accuracy: 0.9537 - val_loss: 0.1211 - val_categorical_accuracy: 0.9662 - 9T_4P: 14.0000 - 4T_9P: 15.0000 - 2s/epoch - 9ms/step\n",
            "Epoch 10/25\n",
            "313/313 [==============================] - 1s 2ms/step\n",
            "235/235 - 3s - loss: 0.1567 - categorical_accuracy: 0.9531 - val_loss: 0.1189 - val_categorical_accuracy: 0.9666 - 9T_4P: 12.0000 - 4T_9P: 13.0000 - 3s/epoch - 11ms/step\n",
            "Epoch 11/25\n",
            "313/313 [==============================] - 1s 2ms/step\n",
            "235/235 - 2s - loss: 0.1511 - categorical_accuracy: 0.9545 - val_loss: 0.1203 - val_categorical_accuracy: 0.9651 - 9T_4P: 23.0000 - 4T_9P: 11.0000 - 2s/epoch - 9ms/step\n",
            "Epoch 12/25\n",
            "313/313 [==============================] - 1s 2ms/step\n",
            "235/235 - 2s - loss: 0.1504 - categorical_accuracy: 0.9548 - val_loss: 0.1186 - val_categorical_accuracy: 0.9663 - 9T_4P: 13.0000 - 4T_9P: 17.0000 - 2s/epoch - 9ms/step\n",
            "Epoch 13/25\n",
            "313/313 [==============================] - 1s 2ms/step\n",
            "235/235 - 2s - loss: 0.1460 - categorical_accuracy: 0.9560 - val_loss: 0.1155 - val_categorical_accuracy: 0.9681 - 9T_4P: 18.0000 - 4T_9P: 12.0000 - 2s/epoch - 9ms/step\n",
            "Epoch 14/25\n",
            "313/313 [==============================] - 1s 2ms/step\n",
            "235/235 - 2s - loss: 0.1480 - categorical_accuracy: 0.9558 - val_loss: 0.1226 - val_categorical_accuracy: 0.9664 - 9T_4P: 12.0000 - 4T_9P: 11.0000 - 2s/epoch - 7ms/step\n",
            "Epoch 15/25\n",
            "313/313 [==============================] - 1s 2ms/step\n",
            "235/235 - 2s - loss: 0.1441 - categorical_accuracy: 0.9569 - val_loss: 0.1194 - val_categorical_accuracy: 0.9672 - 9T_4P: 15.0000 - 4T_9P: 15.0000 - 2s/epoch - 9ms/step\n",
            "Epoch 16/25\n",
            "313/313 [==============================] - 1s 2ms/step\n",
            "235/235 - 2s - loss: 0.1454 - categorical_accuracy: 0.9567 - val_loss: 0.1217 - val_categorical_accuracy: 0.9667 - 9T_4P: 18.0000 - 4T_9P: 13.0000 - 2s/epoch - 10ms/step\n",
            "Epoch 17/25\n",
            "313/313 [==============================] - 1s 2ms/step\n",
            "235/235 - 2s - loss: 0.1404 - categorical_accuracy: 0.9581 - val_loss: 0.1235 - val_categorical_accuracy: 0.9657 - 9T_4P: 23.0000 - 4T_9P: 13.0000 - 2s/epoch - 9ms/step\n",
            "Epoch 18/25\n",
            "313/313 [==============================] - 1s 2ms/step\n",
            "235/235 - 2s - loss: 0.1411 - categorical_accuracy: 0.9574 - val_loss: 0.1168 - val_categorical_accuracy: 0.9682 - 9T_4P: 15.0000 - 4T_9P: 14.0000 - 2s/epoch - 9ms/step\n",
            "Epoch 19/25\n",
            "313/313 [==============================] - 1s 2ms/step\n",
            "235/235 - 2s - loss: 0.1405 - categorical_accuracy: 0.9573 - val_loss: 0.1178 - val_categorical_accuracy: 0.9684 - 9T_4P: 20.0000 - 4T_9P: 11.0000 - 2s/epoch - 9ms/step\n",
            "Epoch 20/25\n",
            "313/313 [==============================] - 1s 2ms/step\n",
            "235/235 - 2s - loss: 0.1351 - categorical_accuracy: 0.9600 - val_loss: 0.1188 - val_categorical_accuracy: 0.9676 - 9T_4P: 17.0000 - 4T_9P: 14.0000 - 2s/epoch - 9ms/step\n",
            "Epoch 21/25\n",
            "313/313 [==============================] - 1s 2ms/step\n",
            "235/235 - 3s - loss: 0.1341 - categorical_accuracy: 0.9600 - val_loss: 0.1189 - val_categorical_accuracy: 0.9667 - 9T_4P: 21.0000 - 4T_9P: 13.0000 - 3s/epoch - 11ms/step\n",
            "Epoch 22/25\n",
            "313/313 [==============================] - 1s 2ms/step\n",
            "235/235 - 2s - loss: 0.1377 - categorical_accuracy: 0.9582 - val_loss: 0.1184 - val_categorical_accuracy: 0.9674 - 9T_4P: 17.0000 - 4T_9P: 16.0000 - 2s/epoch - 9ms/step\n",
            "Epoch 23/25\n",
            "313/313 [==============================] - 1s 2ms/step\n",
            "235/235 - 2s - loss: 0.1305 - categorical_accuracy: 0.9602 - val_loss: 0.1230 - val_categorical_accuracy: 0.9668 - 9T_4P: 15.0000 - 4T_9P: 15.0000 - 2s/epoch - 9ms/step\n",
            "Epoch 24/25\n",
            "313/313 [==============================] - 1s 2ms/step\n",
            "235/235 - 2s - loss: 0.1346 - categorical_accuracy: 0.9599 - val_loss: 0.1168 - val_categorical_accuracy: 0.9699 - 9T_4P: 17.0000 - 4T_9P: 14.0000 - 2s/epoch - 7ms/step\n",
            "Epoch 25/25\n",
            "313/313 [==============================] - 1s 2ms/step\n",
            "235/235 - 2s - loss: 0.1307 - categorical_accuracy: 0.9609 - val_loss: 0.1192 - val_categorical_accuracy: 0.9690 - 9T_4P: 15.0000 - 4T_9P: 13.0000 - 2s/epoch - 9ms/step\n",
            "313/313 [==============================] - 1s 2ms/step\n",
            "Total Epochs:  25\n",
            "Restored weights at  25 Patience used:  20\n",
            "Label:  25 Val_Cat_Acc Value:  0.968999981880188\n"
          ]
        },
        {
          "output_type": "display_data",
          "data": {
            "text/plain": [
              "<Figure size 432x288 with 1 Axes>"
            ],
            "image/png": "[encoded data removed]"
          },
          "metadata": {
            "needs_background": "light"
          }
        },
        {
          "output_type": "display_data",
          "data": {
            "text/plain": [
              "<Figure size 432x288 with 1 Axes>"
            ],
            "image/png": "[encoded data removed]"
          },
          "metadata": {
            "needs_background": "light"
          }
        },
        {
          "output_type": "stream",
          "name": "stdout",
          "text": [
            "After  third  stage CM: \n",
            "      0     1    2    3    4    5    6    7    8    9\n",
            "0  963     0    2    2    0    5    3    3    2    0\n",
            "1    0  1122    3    3    0    1    1    1    4    0\n",
            "2    6     5  988    7    3    0    4   10    9    0\n",
            "3    1     0    6  986    1    5    0    7    2    2\n",
            "4    0     0    3    0  953    0    9    3    1   13\n",
            "5    4     0    0   17    0  848   12    2    5    4\n",
            "6    7     3    1    0    4    3  937    0    3    0\n",
            "7    1     7   11    4    3    0    0  993    1    8\n",
            "8    7     4    4    2    5    7    2    7  933    3\n",
            "9    3     5    0    7   15    3    0    9    0  967\n",
            "CM[9,4]:  15\n"
          ]
        }
      ]
    },
    {
      "cell_type": "code",
      "source": [
        "# dir(history) and # print(history.__dict__)  are useful for digging into what variables are inside a variable"
      ],
      "metadata": {
        "id": "s6HsboVWsimi"
      },
      "execution_count": null,
      "outputs": []
    },
    {
      "cell_type": "code",
      "source": [
        "# combined_history_dictionary[1].history['loss'] #inside each combined_history_dictionary is a list\n",
        "# combined_history_dictionary[1].history['val_loss']\n",
        "# combined_history_dictionary[1].history['categorical_accuracy']\n",
        "# combined_history_dictionary[1].history['val_categorical_accuracy']\n",
        "# combined_history_dictionary[1].epoch\n",
        "\n",
        "# len(combined_history_dictionary)  # the length is 1, but the dictionary starts at 1\n",
        "# # len(combined_history_list)      # the length is 1, but the list starts at 0\n",
        "# combined_history_list[0].history['loss'][17:19]\n",
        "# combined_history_list[0].history['val_loss'][18-1]  #epoch 18 is where my first run stopped aand restored weights.  Epoch 18 is #17 with base 0 counting.\n",
        "\n",
        "# To access the dictionary values for all three stages of training:\n",
        "# for i in [\"First\", \"Second\", \"Third\"]:\n",
        "#   print(combined_history_dictionary[1][i].history['9T_4P'])\n",
        "\n"
      ],
      "metadata": {
        "colab": {
          "base_uri": "https://localhost:8080/",
          "height": 200
        },
        "id": "JMQNfNee3vWl",
        "outputId": "a524fd86-5a72-46b4-a10e-92f7299331ab"
      },
      "execution_count": 87,
      "outputs": [
        {
          "output_type": "error",
          "ename": "AttributeError",
          "evalue": "ignored",
          "traceback": [
            "\u001b[0;31m---------------------------------------------------------------------------\u001b[0m",
            "\u001b[0;31mAttributeError\u001b[0m                            Traceback (most recent call last)",
            "\u001b[0;32m<ipython-input-87-e21ece610bcf>\u001b[0m in \u001b[0;36m<module>\u001b[0;34m\u001b[0m\n\u001b[1;32m     11\u001b[0m \u001b[0;34m\u001b[0m\u001b[0m\n\u001b[1;32m     12\u001b[0m \u001b[0;34m\u001b[0m\u001b[0m\n\u001b[0;32m---> 13\u001b[0;31m \u001b[0;34m(\u001b[0m\u001b[0mcombined_history_dictionary\u001b[0m\u001b[0;34m[\u001b[0m\u001b[0;36m1\u001b[0m\u001b[0;34m]\u001b[0m\u001b[0;34m.\u001b[0m\u001b[0mhistory\u001b[0m\u001b[0;34m.\u001b[0m\u001b[0mkeys\u001b[0m\u001b[0;34m(\u001b[0m\u001b[0;34m)\u001b[0m\u001b[0;34m)\u001b[0m\u001b[0;34m\u001b[0m\u001b[0;34m\u001b[0m\u001b[0m\n\u001b[0m",
            "\u001b[0;31mAttributeError\u001b[0m: 'tuple' object has no attribute 'history'"
          ]
        }
      ]
    },
    {
      "cell_type": "code",
      "source": [
        "# I need to remove the first placeholder row of zeros\n",
        "# combined_cms = combined_cms[1:]\n",
        "# print(combined_cms.shape())\n",
        " "
      ],
      "metadata": {
        "id": "Z7qMXMuN4kS1",
        "colab": {
          "base_uri": "https://localhost:8080/",
          "height": 165
        },
        "outputId": "d7aed68c-a303-4c05-bc4d-65682d1b399d"
      },
      "execution_count": 95,
      "outputs": [
        {
          "output_type": "error",
          "ename": "TypeError",
          "evalue": "ignored",
          "traceback": [
            "\u001b[0;31m---------------------------------------------------------------------------\u001b[0m",
            "\u001b[0;31mTypeError\u001b[0m                                 Traceback (most recent call last)",
            "\u001b[0;32m<ipython-input-95-b73012123bea>\u001b[0m in \u001b[0;36m<module>\u001b[0;34m\u001b[0m\n\u001b[0;32m----> 1\u001b[0;31m \u001b[0mcombined_cms\u001b[0m\u001b[0;34m.\u001b[0m\u001b[0mshape\u001b[0m\u001b[0;34m(\u001b[0m\u001b[0;34m)\u001b[0m\u001b[0;34m\u001b[0m\u001b[0;34m\u001b[0m\u001b[0m\n\u001b[0m",
            "\u001b[0;31mTypeError\u001b[0m: 'tuple' object is not callable"
          ]
        }
      ]
    },
    {
      "cell_type": "markdown",
      "source": [
        "#### Save the 30/Run-number of confusion matrices"
      ],
      "metadata": {
        "id": "u-MSCXKC48ss"
      }
    },
    {
      "cell_type": "code",
      "source": [
        "#Save 30 confusion matrices\n",
        "\n",
        "import pickle\n",
        "\n",
        "str_runs = str(runs)\n",
        "\n",
        "\n",
        "from datetime import date\n",
        "from datetime import datetime\n",
        "today = date.today()\n",
        "file_date = today.strftime(\"%Y_%m_%d\")\n",
        "now = datetime.now() # current date and time\n",
        "file_time = now.strftime(\"%H%M\")\n",
        "print(\"time:\", file_time)\n",
        "\n",
        "\n",
        "\n",
        "\n",
        "file_name = str_runs + \"CM_\" + file_extension + \"_\" + file_date + \"_\" + file_time +  \"_.pkl\"\n",
        "print(file_name, \" will be saved with \", combined_cms.shape)\n",
        "\n",
        "with open(file_name, 'wb') as file_write:\n",
        "      \n",
        "    # A new file will be created\n",
        "    pickle.dump(combined_cms, file_write)\n",
        "\n",
        "\n",
        "\n",
        " \n",
        "# Open the file in binary mode\n",
        "with open(file_name, 'rb') as file:\n",
        "      \n",
        "    # Call load method to deserialze\n",
        "    var = pickle.load(file)\n",
        "  \n",
        "    print(var)\n",
        "    \n",
        "print(file_name, \" was opened with \", var.shape)\n",
        "\n",
        "# from google.colab import files\n",
        "# files.download( file_name )  \n",
        "\n",
        "print(file_name, \".pkl was saved to Downloads \")\n"
      ],
      "metadata": {
        "id": "9purX_onqXGo",
        "colab": {
          "base_uri": "https://localhost:8080/"
        },
        "outputId": "89f1bd8d-5887-48a3-fa08-d42c781633c3"
      },
      "execution_count": 142,
      "outputs": [
        {
          "output_type": "stream",
          "name": "stdout",
          "text": [
            "time: 1447\n",
            "1CM_w[9,4]_L_1_1_1_E_5_5_5_P_0_0_20__2023_03_03_1447_.pkl  will be saved with  (1, 300)\n",
            "[[ 961    0    1    1    0    4    9    2    2    0    0 1113    5    2\n",
            "     0    1    3    1   10    0    6    3  983    7    5    1    5    6\n",
            "    16    0    0    1   20  957    1   13    1    9    8    0    1    2\n",
            "     5    0  946    0    9    1    3   15    7    1    1   17    4  833\n",
            "    11    2   13    3    9    3    2    1    6    9  924    0    4    0\n",
            "     1    7   27    9    7    1    0  965    0   11    4    4    8   15\n",
            "     8   10    9    6  906    4   10    5    1   15   36    4    0    9\n",
            "     8  921  967    0    1    2    0    3    4    1    1    1    0 1119\n",
            "     4    3    0    1    3    1    4    0    6    2  992    7    7    0\n",
            "     3    6    9    0    2    1   16  969    0    4    0    8    8    2\n",
            "     1    0    5    0  958    0    5    1    2   10    6    1    2   16\n",
            "     2  842    8    3    8    4   10    2    1    0    7    6  927    0\n",
            "     5    0    2    6   28    6    7    0    0  969    1    9    5    3\n",
            "     8   10    7    9   10    4  915    3    9    5    1   13   22    3\n",
            "     0    6    6  944  965    0    2    2    1    4    2    2    2    0\n",
            "     0 1117    4    3    0    1    3    0    6    1    6    2  984    8\n",
            "     7    0    3    8   14    0    3    0    9  976    0    5    0    9\n",
            "     6    2    0    0    5    0  959    0    4    2    1   11    5    1\n",
            "     0   14    2  849    9    2    6    4    8    2    2    0    5    5\n",
            "   933    0    3    0    2    5   17    8    4    0    0  983    2    7\n",
            "     6    4    4    9    4    9    9    6  919    4    5    3    0    9\n",
            "    20    5    0    8    4  955]]\n",
            "1CM_w[9,4]_L_1_1_1_E_5_5_5_P_0_0_20__2023_03_03_1447_.pkl  was opened with  (1, 300)\n",
            "1CM_w[9,4]_L_1_1_1_E_5_5_5_P_0_0_20__2023_03_03_1447_.pkl .pkl was saved to Downloads \n"
          ]
        }
      ]
    },
    {
      "cell_type": "code",
      "source": [
        "# How many categories are there in the test set?\n",
        "\n",
        "truth_num_per_category = Y_test.sum(axis=0)\n",
        "print(truth_num_per_category)"
      ],
      "metadata": {
        "id": "id_ythTutuo3",
        "colab": {
          "base_uri": "https://localhost:8080/"
        },
        "outputId": "f8d8240f-bac6-4834-8d8b-9b334aa608df"
      },
      "execution_count": 143,
      "outputs": [
        {
          "output_type": "stream",
          "name": "stdout",
          "text": [
            "[ 980. 1135. 1032. 1010.  982.  892.  958. 1028.  974. 1009.]\n"
          ]
        }
      ]
    },
    {
      "cell_type": "markdown",
      "source": [
        "# Analyze \n",
        "\n",
        "I am now going to load the Average CM and try to get it in a format where I can make it a 1x100 and load all 30 CMs so that we can visualize their distributions in a a big histogram_matrix. At this point the Google Colab variables are gone and I have to reoad them "
      ],
      "metadata": {
        "id": "NP_kxNkhn6Fd"
      }
    },
    {
      "cell_type": "code",
      "source": [
        "import numpy as np\n",
        "import pandas as pd\n",
        "empty_cm = np.zeros((10,10))  \n",
        "empty_cm=pd.DataFrame(empty_cm)\n",
        "\n",
        "empty_cm.columns = ['0p', '1p', '2p', '3p', '4p', '5p', '6p', '7p', '8p', '9p']\n",
        "empty_cm.index = ['0t', '1t', '2t', '3t', '4t', '5t', '6t', '7t', '8t', '9t']\n",
        "\n",
        "# print(myvar_cm_average)\n",
        "\n",
        "empty_cm_array = np.asarray(empty_cm)\n",
        "empty_cm_array_1_100 = np.reshape(empty_cm_array,(1,100))\n",
        "# print(cm_average_array)\n",
        "\n",
        "df = empty_cm\n",
        "df_new = pd.DataFrame(empty_cm_array_1_100,  columns=pd.MultiIndex.from_product([ df.index,df.columns]))\n",
        "df_new.columns.to_flat_index()\n",
        "df_new.columns   = ['_'.join(col) for col in df_new.columns.values]\n",
        "\n",
        "# Now convert combined_cms of size 30x100 to a panda dataframe\n",
        "combined_cms_df = pd.DataFrame(combined_cms, columns=[df_new.columns])\n",
        "\n",
        "combined_cms_df"
      ],
      "metadata": {
        "id": "kLrNJE0s53pb"
      },
      "execution_count": null,
      "outputs": []
    },
    {
      "cell_type": "code",
      "source": [
        "combined_cms_df[\"9t_4p\"]"
      ],
      "metadata": {
        "id": "HgPClcrAUdxu"
      },
      "execution_count": null,
      "outputs": []
    },
    {
      "cell_type": "code",
      "source": [
        "np.average(combined_cms_df[\"9t_4p\"])"
      ],
      "metadata": {
        "id": "TY59hUTadVyp"
      },
      "execution_count": null,
      "outputs": []
    },
    {
      "cell_type": "code",
      "source": [
        "csv_filename = file_name[:-4] + \".csv\"\n",
        "\n",
        "combined_cms_df.to_csv(csv_filename)\n",
        "\n",
        "\n",
        "from google.colab import files\n",
        "files.download(csv_filename )\n",
        "\n",
        "print(\"Downloading \", csv_filename , \" of shape \", combined_cms_df.shape)"
      ],
      "metadata": {
        "id": "ceUFAr_z9xsk"
      },
      "execution_count": null,
      "outputs": []
    },
    {
      "cell_type": "code",
      "source": [
        "df = pd.DataFrame(sum(var)/len(var), columns=[\"Values\"]) \n",
        "# print(df)\n",
        "\n",
        "df.style.format({\n",
        "  'Values': lambda val: f'{val:,.2f}',\n",
        "})\n",
        "\n",
        "(df.sort_values(by=\"Values\", ascending=False)[0:20])\n",
        "\n",
        "\n",
        "df_sorted = df.sort_values(by=\"Values\", ascending=False)[10:]  #the top 10 are usually diagonal\n",
        "\n",
        "\n",
        "df_sorted.style.format({\n",
        "  'Values': lambda val: f'{val:,.2f}',\n",
        "})\n",
        "\n",
        "import math\n",
        "\n",
        "print(\"On average...\")\n",
        "print(\"Num 1 misclassifications are misclassifying a \", math.floor((df_sorted[\"Values\"].index[0])/10), \" as a \", df_sorted[\"Values\"].index[0]%10, \"  (\", (df_sorted[\"Values\"].values[0]), \" times)\" )\n",
        "print(\"Num 2 misclassifications are misclassifying a \", math.floor((df_sorted[\"Values\"].index[1])/10), \" as a \", df_sorted[\"Values\"].index[1]%10, \"  (\", (df_sorted[\"Values\"].values[1]), \" times)\" )\n",
        "print(\"Num 3 misclassifications are misclassifying a \", math.floor((df_sorted[\"Values\"].index[2])/10), \" as a \", df_sorted[\"Values\"].index[2]%10, \"  (\", (df_sorted[\"Values\"].values[2]), \" times)\" )\n",
        "\n",
        "\n"
      ],
      "metadata": {
        "id": "-pGNLuE8gNrB"
      },
      "execution_count": null,
      "outputs": []
    },
    {
      "cell_type": "code",
      "source": [
        "df_percents = pd.DataFrame( ((sum(var)*100/len(var)).reshape((10,10))/truth_num_per_category).reshape((100)), columns = [\"Values\"])\n",
        "\n",
        "\n",
        "df_sorted_percents = df_percents.sort_values(by=\"Values\", ascending=False)[10:]  #the top 10 are usually diagonal\n",
        "\n",
        "df_sorted_percents.style.format({\n",
        "  'Values': lambda val: f'{val:,.2f}',\n",
        "})\n",
        "\n",
        "print(\"On average .. \")\n",
        "print(\"Num 1 percent misclassifications\", math.floor((df_sorted_percents[\"Values\"].index[0])/10), \" as \", df_sorted_percents[\"Values\"].index[0]%10, (df_sorted_percents[\"Values\"].values[0]), \" percent\" )\n",
        "print(\"Num 2 percent misclassifications\", math.floor((df_sorted_percents[\"Values\"].index[1])/10), \" as \", df_sorted_percents[\"Values\"].index[1]%10,  (df_sorted_percents[\"Values\"].values[1]), \" percent\" )\n",
        "print(\"Num 3 percent misclassifications\", math.floor((df_sorted_percents[\"Values\"].index[2])/10), \" as \", df_sorted_percents[\"Values\"].index[2]%10, (df_sorted_percents[\"Values\"].values[2]), \" percent\" )\n",
        "\n",
        "\n",
        "\n",
        "\n"
      ],
      "metadata": {
        "id": "AKYclir2p8wk"
      },
      "execution_count": null,
      "outputs": []
    },
    {
      "cell_type": "code",
      "source": [],
      "metadata": {
        "id": "FrT9iz3dp8rZ"
      },
      "execution_count": null,
      "outputs": []
    },
    {
      "cell_type": "markdown",
      "source": [
        "# Extraneous"
      ],
      "metadata": {
        "id": "GZfPCKu_oqrZ"
      }
    },
    {
      "cell_type": "markdown",
      "source": [
        "To reference later: \n",
        "\n",
        "https://colab.research.google.com/github/tensorflow/docs/blob/master/site/en/tutorials/structured_data/imbalanced_data.ipynb#scrollTo=UJ589fn8ST3x\n",
        "\n",
        "To train a model with class weights:\n",
        "\n",
        "```\n",
        "class_weight = {0: weight_for_0, 1: weight_for_1}\n",
        "\n",
        "weighted_model = make_model()\n",
        "weighted_model.load_weights(initial_weights)\n",
        "\n",
        "weighted_history = weighted_model.fit(\n",
        "    train_features,\n",
        "    train_labels,\n",
        "    batch_size=BATCH_SIZE,\n",
        "    epochs=EPOCHS,\n",
        "    callbacks=[early_stopping],\n",
        "    validation_data=(val_features, val_labels),\n",
        "\n",
        "    # The class weights go here\n",
        "    class_weight=class_weight)\n",
        "```\n",
        "\n"
      ],
      "metadata": {
        "id": "iLEt0OL5ziEq"
      }
    },
    {
      "cell_type": "code",
      "source": [
        "# Extraneous information I am not using at the moment\n",
        "\n",
        "# model.compile(\n",
        "#      optimizer='adam',\n",
        "#      loss=WeightedCategoricalCrossentropy(cost_matrix)\n",
        "#      )\n",
        "\n",
        "## Model Saving\n",
        "\n",
        "# model.save(save_version_dir,save_format='tf')\n",
        "\n",
        "## Model Loading\n",
        "\n",
        "# model = tf.keras.models.load_model(\n",
        "#     save_version_dir,\n",
        "#     compile=True,\n",
        "#     custom_objects={\n",
        "#         'WeightedCategoricalCrossentropy': WeightedCategoricalCrossentropy(cost_matrix)\n",
        "#         }\n",
        "#     )\n",
        " "
      ],
      "metadata": {
        "id": "WRzuOuZeKVpJ"
      },
      "execution_count": null,
      "outputs": []
    },
    {
      "cell_type": "markdown",
      "source": [
        "starting to think about how i would shape the initial, middle and late training experiments.  "
      ],
      "metadata": {
        "id": "GH-yoluLM0sw"
      }
    },
    {
      "cell_type": "code",
      "source": [
        "count = 0\n",
        "\n",
        "\n",
        "print(\"     | --- Init --- | | --- Mid --- | | --- Late --- | \")\n",
        "for i in [\"   1\",\" 100\", \"1000\"]:\n",
        "  for j in  [\"   1\",\" 100\", \"1000\"]:\n",
        "    for k in   [\"   1\",\" 100\", \"1000\"]:\n",
        "      count+=1\n",
        "      print(f\"{count}    |     {i}     ,     {j}    ,    {k}     | \")\n",
        "\n",
        "\n"
      ],
      "metadata": {
        "id": "EisEf8F6MzFT",
        "colab": {
          "base_uri": "https://localhost:8080/"
        },
        "outputId": "eaa48e23-fff9-494e-d007-da491f17d86d"
      },
      "execution_count": 1,
      "outputs": [
        {
          "output_type": "stream",
          "name": "stdout",
          "text": [
            "     | --- Init --- | | --- Mid --- | | --- Late --- | \n",
            "1    |        1     ,        1    ,       1     | \n",
            "2    |        1     ,        1    ,     100     | \n",
            "3    |        1     ,        1    ,    1000     | \n",
            "4    |        1     ,      100    ,       1     | \n",
            "5    |        1     ,      100    ,     100     | \n",
            "6    |        1     ,      100    ,    1000     | \n",
            "7    |        1     ,     1000    ,       1     | \n",
            "8    |        1     ,     1000    ,     100     | \n",
            "9    |        1     ,     1000    ,    1000     | \n",
            "10    |      100     ,        1    ,       1     | \n",
            "11    |      100     ,        1    ,     100     | \n",
            "12    |      100     ,        1    ,    1000     | \n",
            "13    |      100     ,      100    ,       1     | \n",
            "14    |      100     ,      100    ,     100     | \n",
            "15    |      100     ,      100    ,    1000     | \n",
            "16    |      100     ,     1000    ,       1     | \n",
            "17    |      100     ,     1000    ,     100     | \n",
            "18    |      100     ,     1000    ,    1000     | \n",
            "19    |     1000     ,        1    ,       1     | \n",
            "20    |     1000     ,        1    ,     100     | \n",
            "21    |     1000     ,        1    ,    1000     | \n",
            "22    |     1000     ,      100    ,       1     | \n",
            "23    |     1000     ,      100    ,     100     | \n",
            "24    |     1000     ,      100    ,    1000     | \n",
            "25    |     1000     ,     1000    ,       1     | \n",
            "26    |     1000     ,     1000    ,     100     | \n",
            "27    |     1000     ,     1000    ,    1000     | \n"
          ]
        }
      ]
    },
    {
      "cell_type": "markdown",
      "source": [],
      "metadata": {
        "id": "xVGDsrmmNLed"
      }
    }
  ]
}