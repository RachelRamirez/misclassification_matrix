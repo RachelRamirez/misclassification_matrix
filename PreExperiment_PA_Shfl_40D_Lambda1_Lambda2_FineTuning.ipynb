{
  "nbformat": 4,
  "nbformat_minor": 0,
  "metadata": {
    "colab": {
      "provenance": [],
      "authorship_tag": "ABX9TyMo/rxWSLuI/rNm8uVGnWgI",
      "include_colab_link": true
    },
    "kernelspec": {
      "name": "python3",
      "display_name": "Python 3"
    },
    "language_info": {
      "name": "python"
    },
    "gpuClass": "standard"
  },
  "cells": [
    {
      "cell_type": "markdown",
      "metadata": {
        "id": "view-in-github",
        "colab_type": "text"
      },
      "source": [
        "<a href=\"https://colab.research.google.com/github/RachelRamirez/misclassification_matrix/blob/main/PreExperiment_PA_Shfl_40D_Lambda1_Lambda2_FineTuning.ipynb\" target=\"_parent\"><img src=\"https://colab.research.google.com/assets/colab-badge.svg\" alt=\"Open In Colab\"/></a>"
      ]
    },
    {
      "cell_type": "markdown",
      "source": [
        "# PreExperiment PA Shfl 40D Lambda1 Lambda2 FineTuning\n",
        "\n",
        "This notebook is called this because I believe my weights aren't properly responding to the 'new' misclassification cost matrix, after receiving it.  Therefore, I probably need to use fine-tuninign principles to initialize the weights of the neural network, similar to the weights it would have if it was trained with Lambda-1 for 5 epochs, load those with a new initialized network, then send it the updated Lambda-value at 'epoch 5' which is really epoch 1 for the 'new network' and see what happens to the loss values.\n",
        "\n",
        "\n",
        "If that doesn't work -->  Plan C is to figure out what to do next.  \n",
        "\n",
        "My plan is basically do the following but with custom model.fit code.\n",
        "\n",
        "```\n",
        "# import TensorFlow\n",
        " bla bla bla\n",
        "\n",
        "# define the number of layers and the size of each layer\n",
        "  bla bla bla\n",
        "\n",
        "# define train/val/test sets and x and y\n",
        "  bla bla bla\n",
        "\n",
        "# create the model \n",
        " bla bla bla\n",
        "\n",
        "# compile the model\n",
        "model.compile(optimizer='adam',\n",
        "              loss='mse',\n",
        "              metrics=['accuracy'])\n",
        "\n",
        "# train the model\n",
        "model.fit(X, y, epochs=5)\n",
        "\n",
        "# save the model weights\n",
        "model.save_weights('model_weights.h5')\n",
        "\n",
        "\n",
        "# load the model weights\n",
        "model.load_weights('model_weights.h5')\n",
        "\n",
        "# continue to train the model for 20-30 epochs with the new-cost-matrix\n",
        "model.fit(X, y, epochs=20)\n",
        "\n",
        "#compare the loss history of the models\n",
        "\n",
        "# SEE A DIFFERENCE that i didn't see before\n",
        "\n",
        "```\n",
        " \n",
        "\n",
        "\n",
        "\n"
      ],
      "metadata": {
        "id": "_t4Z4Nq-gQ26"
      }
    },
    {
      "cell_type": "markdown",
      "source": [
        "## Reduced  capacity neural network with two layers of 40 connections\n",
        "\n",
        "  Filename \"PA_Shfl_w[9,4]_2.0_40D_Misclassification_Cost_Matrix_Example\""
      ],
      "metadata": {
        "id": "NqL4ADhFLsqG"
      }
    },
    {
      "cell_type": "markdown",
      "source": [
        "#### Check timezone if incorrect restart"
      ],
      "metadata": {
        "id": "l4sBTo67FC9-"
      }
    },
    {
      "cell_type": "code",
      "source": [
        "# How to change the local time in Google Colab\n",
        "!rm /etc/localtime\n",
        "!ln -s /usr/share/zoneinfo/US/Eastern /etc/localtime\n",
        "!date\n",
        "\n",
        "#If this doesn't show the local time correctly, then you need to restart.\n",
        "import time\n",
        "time.localtime(time.time())"
      ],
      "metadata": {
        "colab": {
          "base_uri": "https://localhost:8080/"
        },
        "id": "g4I5Wm-6EPYR",
        "outputId": "a91bb523-59d2-43b6-a68b-25bcf2ca079e"
      },
      "execution_count": 3,
      "outputs": [
        {
          "output_type": "stream",
          "name": "stdout",
          "text": [
            "Thu 20 Apr 2023 09:18:02 AM EDT\n"
          ]
        },
        {
          "output_type": "execute_result",
          "data": {
            "text/plain": [
              "time.struct_time(tm_year=2023, tm_mon=4, tm_mday=20, tm_hour=9, tm_min=18, tm_sec=2, tm_wday=3, tm_yday=110, tm_isdst=1)"
            ]
          },
          "metadata": {},
          "execution_count": 3
        }
      ]
    },
    {
      "cell_type": "markdown",
      "source": [
        "### Reproducible Seeds"
      ],
      "metadata": {
        "id": "Wn15dbArlsIs"
      }
    },
    {
      "cell_type": "code",
      "source": [
        "#For Reproducibility\n",
        "import numpy as np\n",
        "# np.random.seed(1337)  # for reproducibility\n",
        "\n",
        "import tensorflow as tf\n",
        "# tf.random.set_seed(33)\n",
        "\n",
        "import random as python_random\n",
        "# python_random.seed(4)\n",
        "\n",
        "# https://www.tensorflow.org/api_docs/python/tf/keras/utils/set_random_seed\n",
        "seed = 342\n",
        "tf.keras.utils.set_random_seed(seed) #Possibly use next iteration if the above doesn't work\n",
        "\n",
        "\n",
        "# Running more than once causes variation.  try adding this:\n",
        "# Set seed value\n",
        "seed_value = 56\n",
        "import os\n",
        "os.environ['PYTHONHASHSEED']=str(seed_value)\n",
        "\n",
        "print(\"TF version: \" , tf.__version__ )\n",
        "print(\"Keras version: \" , tf.keras.__version__ )"
      ],
      "metadata": {
        "colab": {
          "base_uri": "https://localhost:8080/"
        },
        "id": "zcjDfFIIbmbo",
        "outputId": "bcbf5531-50fc-4385-bab1-ff013a3c8244"
      },
      "execution_count": 4,
      "outputs": [
        {
          "output_type": "stream",
          "name": "stdout",
          "text": [
            "TF version:  2.12.0\n",
            "Keras version:  2.12.0\n"
          ]
        }
      ]
    },
    {
      "cell_type": "markdown",
      "source": [
        "### Import rest of Library"
      ],
      "metadata": {
        "id": "mTW-hEgnlp44"
      }
    },
    {
      "cell_type": "code",
      "source": [
        "\n",
        "# from https://github.com/keras-team/keras/issues/2115#issuecomment-204060456\n",
        "# witha correction on the weighted function in the middle \n",
        "\n",
        "'''Train a simple deep NN on the MNIST dataset.\n",
        "Get to 98.40% test accuracy after 20 epochs\n",
        "(there is *a lot* of margin for parameter tuning).\n",
        "2 seconds per epoch on a K520 GPU.\n",
        "'''\n",
        "\n",
        "# from __future__ import print_function  #do i still need this?\n",
        "from keras.datasets import mnist\n",
        "from keras.models import Sequential\n",
        "from keras.layers.core import Dense, Dropout, Activation\n",
        "from keras.optimizers import SGD, Adam, RMSprop\n",
        "from keras.utils import np_utils\n",
        "import keras.backend as K\n",
        "from itertools import product\n",
        "import functools\n",
        "from functools import partial\n",
        "from time import ctime\n",
        "from time import sleep\n",
        "import matplotlib.pyplot as plt\n",
        "import seaborn as sns\n",
        "import pandas as pd \n",
        "from sklearn.metrics import confusion_matrix\n",
        "\n",
        "## MORE REPEATABILITY STUFF NEEDED - If theres a way to update this to V2 of Tensorflow great, otherwise I had to use TF 1.0 code\n",
        "# 5. Configure a new global `tensorflow` session (https://stackoverflow.com/questions/50659482/why-cant-i-get-reproducible-results-in-keras-even-though-i-set-the-random-seeds)\n",
        "# from keras import backend as K\n",
        "\n",
        "\n",
        "#I believe thecode below is to help things be repeatable each time different sections in my google colab notebook execute\n",
        "session_conf = tf.compat.v1.ConfigProto(intra_op_parallelism_threads=1, inter_op_parallelism_threads=1)\n",
        "sess = tf.compat.v1.Session(graph=tf.compat.v1.get_default_graph(), config=session_conf)\n",
        "K.set_session(sess)"
      ],
      "metadata": {
        "id": "idfYNyyAgMsO"
      },
      "execution_count": 5,
      "outputs": []
    },
    {
      "cell_type": "code",
      "source": [
        "from google.colab import drive\n",
        "drive.mount('/content/drive')"
      ],
      "metadata": {
        "outputId": "307a138a-1178-4626-a878-0879e79beae8",
        "colab": {
          "base_uri": "https://localhost:8080/"
        },
        "id": "gzX2Q2_EQCEY"
      },
      "execution_count": 6,
      "outputs": [
        {
          "output_type": "stream",
          "name": "stdout",
          "text": [
            "Drive already mounted at /content/drive; to attempt to forcibly remount, call drive.mount(\"/content/drive\", force_remount=True).\n"
          ]
        }
      ]
    },
    {
      "cell_type": "code",
      "source": [
        "# After executing the cell above, Drive\n",
        "# files will be present in \"/content/drive/My Drive\".\n",
        "# !ls \"/content/drive/My Drive/Con3\"\n",
        "path = \"/content/drive/MyDrive/Con3/\"\n",
        " \n",
        "\n",
        "import pickle \n",
        "variable_to_be_deleted = np.array((1,10))\n",
        "file_name = \"delete_later.pkl\"\n",
        "with open(path + file_name, 'wb') as handle:\n",
        "      \n",
        "    # A new file will be created\n",
        "    pickle.dump(variable_to_be_deleted, handle,  protocol=pickle.HIGHEST_PROTOCOL)\n",
        "\n",
        "print(file_name, \" was saved to Google MyDrive \")\n",
        "\n",
        "import os\n",
        "try:\n",
        "    os.remove(path+file_name)\n",
        "    print(file_name, \" was deleted from Google MyDrive \")\n",
        "except:\n",
        "    print(\"Error while deleting file : \", path+file_name)\n",
        "del(file_name, variable_to_be_deleted)\n"
      ],
      "metadata": {
        "colab": {
          "base_uri": "https://localhost:8080/"
        },
        "id": "mlSfcjM7QCEa",
        "outputId": "112d374c-c9e6-4726-ee3c-7a15282edc60"
      },
      "execution_count": 7,
      "outputs": [
        {
          "output_type": "stream",
          "name": "stdout",
          "text": [
            "delete_later.pkl  was saved to Google MyDrive \n",
            "delete_later.pkl  was deleted from Google MyDrive \n"
          ]
        }
      ]
    },
    {
      "cell_type": "markdown",
      "source": [
        "### Define batch, and format data"
      ],
      "metadata": {
        "id": "otcbfKF7mY9y"
      }
    },
    {
      "cell_type": "code",
      "source": [
        "batch_size = 256 \n",
        "\n",
        "# I originally had it very  high batch size to reduce the variation in the data each batch and hope \n",
        "# it makes the model training more nearly identical which it did, then i bring it back down to something reasonable to get better results training the NN\n",
        "\n",
        "nb_classes = 10\n",
        "\n",
        "# the data, shuffled and split between train and test sets\n",
        "(X_train, y_train), (X_test, y_test) = mnist.load_data()\n",
        "\n",
        "\n",
        "X_train = X_train.reshape(60000, 784)\n",
        "X_test = X_test.reshape(10000, 784)\n",
        "X_train = X_train.astype('float32')\n",
        "X_test = X_test.astype('float32')\n",
        "X_train /= 255\n",
        "X_test /= 255\n",
        "# print(X_train.shape[0], 'train samples')\n",
        "# print(X_test.shape[0], 'test samples')\n",
        "\n",
        "# convert class vectors to binary class matrices\n",
        "Y_train = np_utils.to_categorical(y_train, nb_classes)\n",
        "Y_test = np_utils.to_categorical(y_test, nb_classes)\n",
        "\n",
        "#Create a Validation Set\n",
        "X_val = X_test[:7500]   #take the first 7500 for validation\n",
        "Y_val = Y_test[:7500]   #Take the first 7500 for validation\n",
        "y_val = y_test[:7500]\n",
        "\n",
        "X_test = X_test[7500:]  #Keep the last 2500 for test/holdout\n",
        "Y_test = Y_test[7500:]  #Keep the last 2500 for test/holdout\n",
        "y_test = y_test[7500:]\n",
        "\n",
        "print(X_train.shape[0], 'train samples')\n",
        "print(X_val.shape[0], 'validation samples')\n",
        "print(X_test.shape[0], 'test samples')\n",
        "\n",
        "#Are the sets relatively balanced? Yes each category is between 8% and 11% per category\n",
        "print('Train', Y_train.sum(axis=0)/X_train.shape[0])\n",
        "print('Train # of 9s', Y_train.sum(axis=0)[9])\n",
        "print('Train # of 4s', Y_train.sum(axis=0)[4])\n",
        "\n",
        "print('Val', Y_val.sum(axis=0)/X_val.shape[0])\n",
        "print('Val # of 9s', Y_val.sum(axis=0)[9])\n",
        "print('Val # of 4s', Y_val.sum(axis=0)[4])\n",
        "\n",
        "print('Test', Y_test.sum(axis=0)/X_test.shape[0])\n",
        "print('Test  # of 9s', Y_test.sum(axis=0)[9])\n",
        "print('Test  # of 4s', Y_test.sum(axis=0)[4])\n"
      ],
      "metadata": {
        "colab": {
          "base_uri": "https://localhost:8080/"
        },
        "id": "B59UXDb8i8W5",
        "outputId": "f7e017f9-db23-478a-9fa1-dd1d6e7e26c3"
      },
      "execution_count": 8,
      "outputs": [
        {
          "output_type": "stream",
          "name": "stdout",
          "text": [
            "60000 train samples\n",
            "7500 validation samples\n",
            "2500 test samples\n",
            "Train [0.09871667 0.11236667 0.0993     0.10218333 0.09736667 0.09035\n",
            " 0.09863333 0.10441667 0.09751666 0.09915   ]\n",
            "Train # of 9s 5949.0\n",
            "Train # of 4s 5842.0\n",
            "Val [0.09586667 0.1132     0.10453334 0.10066666 0.09986667 0.09013333\n",
            " 0.09413333 0.1016     0.09746667 0.10253333]\n",
            "Val # of 9s 769.0\n",
            "Val # of 4s 749.0\n",
            "Test [0.1044 0.1144 0.0992 0.102  0.0932 0.0864 0.1008 0.1064 0.0972 0.096 ]\n",
            "Test  # of 9s 240.0\n",
            "Test  # of 4s 233.0\n"
          ]
        }
      ]
    },
    {
      "cell_type": "markdown",
      "source": [
        "\n",
        "### Weighted Categorical Cross Entropy Class"
      ],
      "metadata": {
        "id": "3fHQHrz8MwXJ"
      }
    },
    {
      "cell_type": "code",
      "source": [
        "#@title\n",
        "class WeightedCategoricalCrossentropy(tf.keras.losses.CategoricalCrossentropy):\n",
        "\n",
        "  def __init__(self, cost_mat, name='weighted_categorical_crossentropy', **kwargs):\n",
        "\n",
        "    cost_mat = np.array(cost_mat)   \n",
        "    ## when loading from config, self.cost_mat returns as a list, rather than an numpy array. \n",
        "    ## Adding the above line fixes this issue, enabling .ndim to call sucessfully. \n",
        "    ## However, this is probably not the best implementation\n",
        "    assert(cost_mat.ndim == 2)\n",
        "    assert(cost_mat.shape[0] == cost_mat.shape[1])\n",
        "    super().__init__(name=name, **kwargs)\n",
        "    self.cost_mat = K.cast_to_floatx(cost_mat)\n",
        "\n",
        "  def __call__(self, y_true, y_pred, sample_weight=None):\n",
        "    assert sample_weight is None, \"should only be derived from the cost matrix\"  \n",
        "    return super().__call__(\n",
        "        y_true=y_true, \n",
        "        y_pred=y_pred, \n",
        "        sample_weight=get_sample_weights(y_true, y_pred, self.cost_mat),\n",
        "    )\n",
        "\n",
        "\n",
        "  def get_config(self):\n",
        "    config = super().get_config().copy()\n",
        "    # Calling .update on the line above, during assignment, causes an error with config becoming None-type.\n",
        "    config.update({'cost_mat': (self.cost_mat)})\n",
        "    return config\n",
        "\n",
        "  @classmethod\n",
        "  def from_config(cls, config):\n",
        "    # something goes wrong here and changes self.cost_mat to a list variable.\n",
        "    # See above for temporary fix\n",
        "    return cls(**config)\n",
        "\n",
        "def get_sample_weights(y_true, y_pred, cost_m):\n",
        "    num_classes = len(cost_m)\n",
        "\n",
        "    y_pred.shape.assert_has_rank(2)\n",
        "    assert(y_pred.shape[1] == num_classes)\n",
        "    y_pred.shape.assert_is_compatible_with(y_true.shape)\n",
        "\n",
        "    y_pred = K.one_hot(K.argmax(y_pred), num_classes)\n",
        "\n",
        "    y_true_nk1 = K.expand_dims(y_true, 2)\n",
        "    y_pred_n1k = K.expand_dims(y_pred, 1)\n",
        "    cost_m_1kk = K.expand_dims(cost_m, 0)\n",
        "\n",
        "    sample_weights_nkk = cost_m_1kk * y_true_nk1 * y_pred_n1k\n",
        "    sample_weights_n = K.sum(sample_weights_nkk, axis=[1, 2])\n",
        "\n",
        "    return sample_weights_n\n",
        "\n",
        "\n",
        "# Register the loss in the Keras namespace to enable loading of the custom object.\n",
        "tf.keras.losses.WeightedCategoricalCrossentropy = WeightedCategoricalCrossentropy\n",
        " "
      ],
      "metadata": {
        "id": "pUR1sLQ7MvVa",
        "cellView": "form"
      },
      "execution_count": 9,
      "outputs": []
    },
    {
      "cell_type": "markdown",
      "source": [
        "### Plot Model History"
      ],
      "metadata": {
        "id": "P2ilR8HI-98b"
      }
    },
    {
      "cell_type": "code",
      "source": [
        "\n",
        "def plot_model_history(model_history, nb_epoch, cm3): \n",
        "  # Parameters\n",
        "  # ----------\n",
        "  # tot_epochs : int\n",
        "  #     Total number of epochs for which the model was trained.\n",
        "  # model_history : keras.callbacks.History\n",
        "  #     The history object returned by the fit() method of the model.\n",
        "  # cm3 : 10x10 dataframe \n",
        "  #      10x10 dataframe of confusion matrix from predicted X_val categories\n",
        "  # restored_weights : int\n",
        "  #     The epoch at which the weights were restored.\n",
        "   \n",
        "  tot_epochs = max(model_history.epoch)+1  #if the total epochs ran is 28, it'll show up as 27 in the epoch object so we must add 1\n",
        "  print(\"Total Epochs: \", tot_epochs)\n",
        "\n",
        "  #if tot_epochs is the total number of epochs ran then early stop did not happen, and we need not minus patience\n",
        "  if tot_epochs == nb_epoch:\n",
        "    restored_weights = tot_epochs\n",
        "  else:\n",
        "    restored_weights  = tot_epochs-patience   #when using restore-best-weights and patience, it'll restore the best weights back\n",
        "  print(\"Restored weights at \", restored_weights, \"Patience used: \", patience)\n",
        "\n",
        "  fig = plt.figure(figsize=(20, 10)) # I don't think this works for some reason\n",
        "  fig, ax = plt.subplots(1,3)\n",
        "  ax[0].plot(range(1,tot_epochs+1), model_history.history['categorical_accuracy'], color='blue',             label='Training')\n",
        "  ax[0].plot(range(1,tot_epochs+1), model_history.history['val_categorical_accuracy'] , color='orange',             label='Validation')\n",
        "  ax[0].scatter((restored_weights), model_history.history['val_categorical_accuracy'][restored_weights-1] , color='orange')\n",
        "  ax[0].scatter(restored_weights, model_history.history['categorical_accuracy'][restored_weights-1], color='blue')\n",
        "  ax[0].annotate(text=str(restored_weights),  xy=(restored_weights, model_history.history['val_categorical_accuracy'][restored_weights-1]),\n",
        "                  textcoords=\"offset points\", xytext=(0,10), ha='center', color='black')\n",
        "  ax[0].legend()\n",
        "\n",
        "  ax[1].plot(range(1,tot_epochs+1), model_history.history['loss'], color= 'blue', label='Training')\n",
        "  ax[1].plot(range(1,tot_epochs+1), model_history.history['val_loss'], color='orange', label='Validation')\n",
        "  ax[1].scatter(restored_weights, model_history.history['loss'][restored_weights-1], color='blue')\n",
        "  ax[1].scatter((restored_weights), model_history.history['val_loss'][restored_weights-1] , color='orange')\n",
        "  ax[1].annotate(text=str(restored_weights),  xy=(restored_weights, model_history.history['val_loss'][restored_weights-1]),\n",
        "                  textcoords=\"offset points\", xytext=(0,10), ha='center')\n",
        "  ax[1].legend()\n",
        "\n",
        "  cm3_wodiag = cm3*(np.ones((10,10)) - np.eye(10))\n",
        "\n",
        "  ax[2] = sns.heatmap(cm3_wodiag, annot=True, annot_kws={\"size\": 7},  fmt='g', cmap=sns.cm.rocket_r) # font size\n",
        "  ax[2].set_xlabel('Predicted Class')\n",
        "  ax[2].set_ylabel('True Class')\n",
        "  ax[2].set_title('# of misclassifications of 9 as 4 is '+str(cm3[4][9]))\n",
        "  cbar = ax[2].collections[0].colorbar\n",
        "  cbar.remove() # Just takes up valuable room and is worthless\n"
      ],
      "metadata": {
        "id": "4paU82e2-7we"
      },
      "execution_count": 71,
      "outputs": []
    },
    {
      "cell_type": "markdown",
      "source": [
        "### Train Model with WeightedCategoricalCross Entropy Function "
      ],
      "metadata": {
        "id": "-uJmU0t4ANuv"
      }
    },
    {
      "cell_type": "code",
      "source": [
        "#As of 4/18 I am changing this code to save weights initially after five epochs using lambdavalue=1 initially\n",
        "\n",
        "rms = RMSprop()  #https://keras.io/api/optimizers/rmsprop/\n",
        "\n",
        "patience = 20\n",
        "lambda_val = 1\n",
        "nb_epoch = 50\n",
        "\n",
        "\n",
        "cost_matrix = np.ones((10,10))\n",
        "Truth=9\n",
        "Predicted=4\n",
        "cost_matrix[Truth, Predicted] = lambda_val\n",
        "\n",
        "model = Sequential()\n",
        "model.add(Dense(40, input_shape=(784,), kernel_initializer=tf.keras.initializers.glorot_uniform(seed=42)))\n",
        "model.add(Activation('relu'))\n",
        "model.add(Dropout(0.2))\n",
        "model.add(Dense(40, kernel_initializer=tf.keras.initializers.glorot_uniform(seed=42)))\n",
        "model.add(Activation('relu'))\n",
        "model.add(Dropout(0.2))\n",
        "model.add(Dense(10,kernel_initializer=tf.keras.initializers.glorot_uniform(seed=42)))\n",
        "model.add(Activation('softmax'))\n",
        "model.compile(loss=WeightedCategoricalCrossentropy(cost_matrix), optimizer=rms,  metrics='categorical_accuracy',)\n",
        "\n",
        "\n",
        "def log_confusion_matrix( epoch, logs):\n",
        "  # Use the model to predict the values from the validation dataset.\n",
        "  y_prediction = model.predict(X_val, verbose=0)     #I call it y_prediction3 because I just want to make sure this is  updated within and not interfering with the other prediction below\n",
        "  y_prediction  = np.argmax(y_prediction, axis=1)\n",
        "\n",
        "  #Create confusion matrix \n",
        "  cm = confusion_matrix(y_val, y_prediction)\n",
        "  cm_array = np.asarray(cm)  #Indiv CM as array for storing\n",
        "  logs['9T_4P'] = cm[9,4]\n",
        "  logs['4T_9P'] = cm[4,9]\n",
        "  logs['cm_per_epoch'] = cm_array.reshape((1,100))\n",
        "\n",
        "# Define the per-epoch callback.\n",
        "cm_callback = tf.keras.callbacks.LambdaCallback(on_epoch_end=log_confusion_matrix, )\n",
        "es_callback = tf.keras.callbacks.EarlyStopping(monitor='val_loss', patience=patience, verbose=1, restore_best_weights = True)\n",
        "\n",
        "model_history = model.fit(X_train, Y_train,          batch_size=batch_size, epochs=nb_epoch, verbose=2,\n",
        "        validation_data=(X_val, Y_val), shuffle=True, use_multiprocessing=True, callbacks = [es_callback, cm_callback])\n",
        "\n",
        "\n",
        "# save the model weights\n",
        "model.save_weights('initial_5epochs.h5')\n",
        "\n",
        "\n",
        "# load the model weights\n",
        "model.load_weights('initial_5epochs.h5')\n",
        "\n",
        "# print(\"Parameter values specified for this training-cycle.  Number of epochs: \", nb_epoch, \"Number of epochs of Patience: \", patience)\n",
        "\n",
        "# print(\"The cost of a true \", str(Truth), \"  predicted as a \", str(Predicted), \" is \", lambda_val  )\n",
        "\n",
        "  \n",
        "# ---------------------------------------------------------------------------------------------------------------------------------\n",
        "# Training complete.  Make Predictions + Confusion Matrix\n",
        "# ---------------------------------------------------------------------------------------------------------------------------------\n",
        "\n",
        "#Predict\n",
        "y_prediction = model.predict(X_val, verbose=0)\n",
        "y_prediction  = np.argmax(y_prediction, axis=1)\n",
        "# Y_prediction = np_utils.to_categorical(y_prediction, nb_classes)\n",
        "\n",
        "cm3 = confusion_matrix(y_val, y_prediction)\n",
        "cm3 = pd.DataFrame(cm3, range(10),range(10))\n",
        "\n",
        "plt.figure(figsize = (4,4))\n",
        "cm3\n",
        "sns.heatmap(cm3, annot=True, annot_kws={\"size\": 7},  fmt='g') # font size\n",
        "plt.show()\n",
        "cm_using_weighted_new = cm3\n",
        " \n",
        "\n",
        " \n",
        "# ---------------------------------------------------------------------------------------------------------------------------------\n",
        "# Plot Training History with Accuracy and Loss and CM\n",
        "# ---------------------------------------------------------------------------------------------------------------------------------\n",
        "#This function takes in three parameters: tot_epochs, model_history, and restored_weights. It plots two graphs, one for categorical accuracy and one for loss. The graphs plot the training and validation values for the model, and also plot and annotate the value of restored_weights. Finally, it displays the plot.\n",
        "\n",
        " \n",
        "\n",
        "\n",
        "\n",
        "\n",
        "plot_model_history(model_history,nb_epoch, cm3)\n",
        "\n",
        "\n",
        "## -----------------------------------------------------------------------------------------------------\n",
        "## Now we need to load the weights of the model, and continue training with a different cost matrix\n",
        "## ------------------------------------------------------------------------------------------------------\n",
        "# load the model weights\n",
        "model.load_weights('initial_5epochs.h5')\n",
        "\n",
        "\n",
        "cost_matrix = np.ones((10,10))\n",
        "Truth=9\n",
        "Predicted=4\n",
        "cost_matrix[Truth, Predicted] = 1000\n",
        "\n",
        "model.compile(loss=WeightedCategoricalCrossentropy(cost_matrix), optimizer=rms,  metrics='categorical_accuracy',)\n",
        "\n",
        "nb_epoch = 10\n",
        "model_history2 = model.fit(X_train, Y_train,          batch_size=batch_size, epochs=nb_epoch, verbose=2,\n",
        "        validation_data=(X_val, Y_val), shuffle=True, use_multiprocessing=True, callbacks = [es_callback, cm_callback])\n",
        "\n",
        "\n",
        "plot_model_history(model_history2, nb_epoch)\n",
        "\n",
        "\n",
        "\n",
        "\n",
        "# return cm3, model_history, model3, restored_weights\n"
      ],
      "metadata": {
        "id": "tMY9_wjUQ3ae"
      },
      "execution_count": 58,
      "outputs": []
    },
    {
      "cell_type": "code",
      "source": [
        "plot_model_history(model_history, nb_epoch, cm3)\n",
        "# plot_model_history(model2_history, nb_epoch, cm3)\n",
        "plt.gcf().set_size_inches(15, 5)  # this works \n",
        "plt.gcf().set_title(\"SetTitle\") "
      ],
      "metadata": {
        "id": "bLDakkPgXpde",
        "outputId": "0a060816-76eb-4c86-bf59-6cee042d170c",
        "colab": {
          "base_uri": "https://localhost:8080/",
          "height": 733
        }
      },
      "execution_count": 81,
      "outputs": [
        {
          "output_type": "stream",
          "name": "stdout",
          "text": [
            "Total Epochs:  46\n",
            "Restored weights at  26 Patience used:  20\n"
          ]
        },
        {
          "output_type": "error",
          "ename": "AttributeError",
          "evalue": "ignored",
          "traceback": [
            "\u001b[0;31m---------------------------------------------------------------------------\u001b[0m",
            "\u001b[0;31mAttributeError\u001b[0m                            Traceback (most recent call last)",
            "\u001b[0;32m<ipython-input-81-d9b6de0814f9>\u001b[0m in \u001b[0;36m<cell line: 4>\u001b[0;34m()\u001b[0m\n\u001b[1;32m      2\u001b[0m \u001b[0;31m# plot_model_history(model2_history, nb_epoch, cm3)\u001b[0m\u001b[0;34m\u001b[0m\u001b[0;34m\u001b[0m\u001b[0m\n\u001b[1;32m      3\u001b[0m \u001b[0mplt\u001b[0m\u001b[0;34m.\u001b[0m\u001b[0mgcf\u001b[0m\u001b[0;34m(\u001b[0m\u001b[0;34m)\u001b[0m\u001b[0;34m.\u001b[0m\u001b[0mset_size_inches\u001b[0m\u001b[0;34m(\u001b[0m\u001b[0;36m15\u001b[0m\u001b[0;34m,\u001b[0m \u001b[0;36m5\u001b[0m\u001b[0;34m)\u001b[0m  \u001b[0;31m# this works\u001b[0m\u001b[0;34m\u001b[0m\u001b[0;34m\u001b[0m\u001b[0m\n\u001b[0;32m----> 4\u001b[0;31m \u001b[0mplt\u001b[0m\u001b[0;34m.\u001b[0m\u001b[0mgcf\u001b[0m\u001b[0;34m(\u001b[0m\u001b[0;34m)\u001b[0m\u001b[0;34m.\u001b[0m\u001b[0mset_title\u001b[0m\u001b[0;34m(\u001b[0m\u001b[0;34m\"SetTitle\"\u001b[0m\u001b[0;34m)\u001b[0m\u001b[0;34m\u001b[0m\u001b[0;34m\u001b[0m\u001b[0m\n\u001b[0m",
            "\u001b[0;31mAttributeError\u001b[0m: 'Figure' object has no attribute 'set_title'"
          ]
        },
        {
          "output_type": "display_data",
          "data": {
            "text/plain": [
              "<Figure size 2000x1000 with 0 Axes>"
            ]
          },
          "metadata": {}
        },
        {
          "output_type": "display_data",
          "data": {
            "text/plain": [
              "<Figure size 1500x500 with 3 Axes>"
            ],
            "image/png": "[encoded data removed]"
          },
          "metadata": {}
        }
      ]
    },
    {
      "cell_type": "code",
      "source": [
        "cm3_wodiag = cm3*(np.ones((10,10)) - np.eye(10))\n",
        "\n",
        "ax = sns.heatmap(cm3_wodiag, annot=True, annot_kws={\"size\": 7},  fmt='g', cmap=sns.cm.rocket_r) # font size\n",
        "ax.set_xlabel('Predicted Class')\n",
        "ax.set_ylabel('True Class')\n",
        "ax.set_title('# of misclassifications of 9 as 4 is '+str(cm3[4][9]))\n",
        "\n",
        "fig = plt.gcf()\n",
        "fig.suptitle('Misclassification Matrix for Validation Set with Lambda Value of '+str(lambda_val)+\"-After \"+str(nb_epoch)+\" epochs and patience of \"+str(patience), fontsize=16)\n",
        "\n",
        "# cm3[4][9]\n"
      ],
      "metadata": {
        "id": "2kR-Az-v1r6b",
        "outputId": "27a18aaf-ae2c-4a7e-ce65-bc496d727811",
        "colab": {
          "base_uri": "https://localhost:8080/",
          "height": 515
        }
      },
      "execution_count": 53,
      "outputs": [
        {
          "output_type": "execute_result",
          "data": {
            "text/plain": [
              "Text(0.5, 0.98, 'Misclassification Matrix for Validation Set with Lambda Value of 1-After 10 epochs and patience of 20')"
            ]
          },
          "metadata": {},
          "execution_count": 53
        },
        {
          "output_type": "display_data",
          "data": {
            "text/plain": [
              "<Figure size 640x480 with 2 Axes>"
            ],
            "image/png": "[encoded data removed]"
          },
          "metadata": {}
        }
      ]
    },
    {
      "cell_type": "markdown",
      "source": [
        "#### Plot all three phases together"
      ],
      "metadata": {
        "id": "N7yL66nEOkg4"
      }
    },
    {
      "cell_type": "code",
      "source": [
        "def plot_3_fx(model1_history, model2_history, model3_history, restored_weights1, restored_weights2, restored_weights3):\n",
        "  \n",
        "  tot_epochs = restored_weights1 + restored_weights2 + restored_weights3\n",
        "\n",
        "  #Label is the epoch weights are restored \n",
        "  label1 = f\"{restored_weights1}\"\n",
        "  #Label_vale is the value at which the epoch weights are restored \n",
        "  label_value1 = f\"{ model1_history.history['val_categorical_accuracy'][restored_weights1-1]}\"\n",
        "  # print(\"Label1: \", label1, \"Val_Cat_Acc Value1: \", label_value1)\n",
        "\n",
        "\n",
        "  #Label is the epoch weights are restored in the second phase of training\n",
        "  # if restoredweights are 5 then it'll be after the max number of epochs of the first models training \n",
        "  label2 = f\"{restored_weights2}\"\n",
        "  #Label_vale is the value at which the epoch weights are restored \n",
        "  label_value2 = f\"{ model2_history.history['val_categorical_accuracy'][restored_weights2-1]}\"\n",
        "  # print(\"Label2: \", label2, \"Val_Cat_Acc Value2: \", label_value2)\n",
        "\n",
        "  #Label is the epoch weights are restored in the second phase of training\n",
        "  # if restoredweights are 5 then it'll be after the max number of epochs of the first models training \n",
        "  label3 = f\"{restored_weights3}\"\n",
        "  #Label_vale is the value at which the epoch weights are restored \n",
        "  label_value3 = f\"{ model3_history.history['val_categorical_accuracy'][restored_weights3-1]}\"\n",
        "  # print(\"Label3: \", label3, \"Val_Cat_Acc Value3: \", label_value3)\n",
        "\n",
        " \n",
        "  \n",
        "  epochs = [restored_weights1, restored_weights2, restored_weights3]\n",
        "  models = [history1, history2, history3]\n",
        "\n",
        "  grab_n_epochs_of_model_metric_fun = lambda epoch, model, metric: model.history[metric][:epoch]\n",
        "\n",
        "  model_total_cat_acc =     np.concatenate(list(map(grab_n_epochs_of_model_metric_fun, epochs, models, ['categorical_accuracy']*3)), axis=0)\n",
        "  model_total_val_cat_acc = np.concatenate(list(map(grab_n_epochs_of_model_metric_fun, epochs, models, ['val_categorical_accuracy']*3)), axis=0)\n",
        "  \n",
        "  model_total_loss =        np.concatenate(list(map(grab_n_epochs_of_model_metric_fun, epochs, models, ['loss']*3)), axis=0)\n",
        "  model_total_val_loss =    np.concatenate(list(map(grab_n_epochs_of_model_metric_fun, epochs, models, ['val_loss']*3)), axis=0)\n",
        "\n",
        "  model_total_val_9T_4P =   np.concatenate(list(map(grab_n_epochs_of_model_metric_fun, epochs, models, ['9T_4P']*3)), axis=0)\n",
        "  model_total_val_4T_9P =   np.concatenate(list(map(grab_n_epochs_of_model_metric_fun, epochs, models, ['4T_9P']*3)), axis=0)\n",
        "\n",
        "  \n",
        "  # #ScatterPlotPoint and Annotate RestoredWeights1 \n",
        "  # offsets = [0,restored_weights1, restored_weights1+restored_weights2]\n",
        "  # labels = [label1, label2, label3]\n",
        "\n",
        "  # for metric in list(('val_categorical_accuracy', 'val_loss', '9T_4P')):\n",
        "\n",
        "\n",
        "  #   if(metric=='val_categorical_accuracy'):\n",
        "  #     plt.plot(range(1,tot_epochs+1), model_total_cat_acc)\n",
        "  #     plt.plot(range(1,tot_epochs+1), model_total_val_cat_acc)\n",
        "  #   elif(metric=='val_loss'):\n",
        "  #     plt.plot(range(1,tot_epochs+1), model_total_loss)\n",
        "  #     plt.plot(range(1,tot_epochs+1), model_total_val_loss)\n",
        "  #   else:\n",
        "  #     plt.plot(range(1,tot_epochs+1), model_total_val_9T_4P, color='orange')\n",
        "  #     plt.plot(range(1,tot_epochs+1), model_total_val_4T_9P, color='orange', linestyle='dashed')\n",
        "\n",
        "  #   plt.xlim(xmin=0)\n",
        "\n",
        "\n",
        "  #   for epoch, model, offset, label in zip(epochs, models, offsets, labels):\n",
        "  #     # print(f'Epoch of Restored-Weights: {epoch}, Model: {model}, Offset: {offset}')\n",
        "  #     plt.scatter((epoch+offset), model.history[metric][epoch-1] , color='orange')\n",
        "  #     plt.annotate(text=label,  xy=((epoch+offset), model.history[metric][epoch-1]),\n",
        "  #                 textcoords=\"offset points\", \n",
        "  #                 xytext=(0,10), \n",
        "  #                 ha='center')\n",
        "    \n",
        "  #   if(metric=='val_categorical_accuracy'):\n",
        "  #     plt.ylabel('accuracy')\n",
        "  #     plt.title('model accuracy')\n",
        "  #     plt.legend(['train', 'val'], loc='lower right')\n",
        "    \n",
        "\n",
        "  #   elif(metric=='val_loss'):\n",
        "  #     plt.ylabel('loss')\n",
        "  #     plt.title('model loss')\n",
        "  #     plt.legend(['train', 'val'], loc='upper right')\n",
        "\n",
        "  #   else:\n",
        "  #     plt.ylabel('count')\n",
        "  #     plt.title('Validation misclassifications of 9T as 4P and reverse')\n",
        "  #     plt.legend(['9t_4p', '4t_9p'], loc='upper right')\n",
        "    \n",
        "\n",
        "  #   plt.xlabel('epoch (starts at 1)') \n",
        "    \n",
        "  #   plt.show()\n",
        "\n",
        "\n",
        "  history =   {'categorical_accuracy': model_total_cat_acc , \n",
        "              'val_categorical_accuracy': model_total_val_cat_acc  , \n",
        "            'loss': model_total_loss,\n",
        "              'val_loss': model_total_val_loss ,   \n",
        "              '9T_4P': model_total_val_9T_4P ,  \n",
        "              '4T_9P': model_total_val_4T_9P}\n",
        " \n",
        "\n",
        "\n",
        "  return history\n",
        " \n"
      ],
      "metadata": {
        "id": "07WwRSAh6qRW"
      },
      "execution_count": null,
      "outputs": []
    },
    {
      "cell_type": "code",
      "source": [],
      "metadata": {
        "id": "-ZLsEH1ZrqZB"
      },
      "execution_count": null,
      "outputs": []
    },
    {
      "cell_type": "markdown",
      "source": [
        "### *Keep Track of Experimental Admin Stuff - #Reps and #CostMatrix\n",
        "\n",
        "> Change the cost matrix and number of reps and check the file extension name \n"
      ],
      "metadata": {
        "id": "skXIN6S4npiV"
      }
    },
    {
      "cell_type": "markdown",
      "source": [
        "#### *Define Cost Matrix and Method"
      ],
      "metadata": {
        "id": "q9YhLRi4NU2E"
      }
    },
    {
      "cell_type": "code",
      "source": [
        "# Experimental Admin Stuff\n",
        "\n",
        "# # ### Weight of Misclassifications for three stages of training\n",
        "# lambda1, lambda2, lambda3 = 1, 1, 1\n",
        "\n",
        "\n",
        "# # ### Number of Epochs for each Stage of Training\n",
        "# train_epochs1, train_epochs2, train_epochs3 = 5, 5, 20\n",
        "\n",
        "# # ### Whether there is EarlyStopping and if so how many Epochs of Patience Patience=0 means no EarlyStopping\n",
        "# es1, es2, es3 = 5, 5, 20\n",
        "\n",
        "# # ### String of weights-of-misclassification for naming files\n",
        "# ## ~~~~~~~~~~~~~~~~~~~~~~~~~~~~~~~~~~~~~ \n",
        "# cost_str = str(lambda1) + \"_\" + str(lambda2) + \"_\"  + str(lambda3)\n",
        "# epochs_str = str(train_epochs1) + \"_\" + str(train_epochs2) + \"_\"  + str(train_epochs3)\n",
        "# patience_str = str(es1) + \"_\" + str(es2) + \"_\"  + str(es3)\n",
        "# # ## ~~~~~~~~~~~~~~~~~~~~~~~~~~~~~~~~~~~~~ \n",
        "\n",
        " \n",
        "\n",
        "# ### File Extension to reference in JMP : weights_method_costs1_2_3\n",
        "# ## ~~~~~~~~~~~~~~~~~~~~~~~~~~~~~~~~~~~~~\n",
        "# file_extension = \"w[9,4]_L_\" + cost_str + \"_E_\" + epochs_str + \"_P_\" + patience_str + \"_\"\n",
        "# ## ~~~~~~~~~~~~~~~~~~~~~~~~~~~~~~~~~~~~~\n",
        "# print(len(file_extension))\n",
        "\n",
        "\n",
        "# np.set_printoptions(suppress=True)\n",
        "# np.set_printoptions(precision=2)\n",
        "\n",
        "# print(\"Last run using \", cost_str)\n",
        "# print(\"File Extension \", file_extension)"
      ],
      "metadata": {
        "id": "3bMXTRRBnn3E"
      },
      "execution_count": null,
      "outputs": []
    },
    {
      "cell_type": "markdown",
      "source": [
        "#### Run Experiments"
      ],
      "metadata": {
        "id": "x_EdEdJwOpvO"
      }
    },
    {
      "cell_type": "code",
      "source": [
        "#@title\n",
        "# cm = np.zeros([10,10])\n",
        "# combined_cms = np.empty((1,100))\n",
        "count = 0\n",
        "run = 0\n",
        "rep = 0\n",
        "total_reps = 2\n",
        " \n",
        "admin_dictionary = {}\n",
        "print(\"     | --- Init --- | | --- Mid --- | | --- Late --- | \")\n",
        "for i in [1, 100, 1000]: #lambda1\n",
        "  for j in [1, 100, 1000]:  #lambda2\n",
        "    for k in   [1, 100, 1000]: #lambda3\n",
        "      run+=1\n",
        "      for rep in range(1,total_reps+1):\n",
        "        count+=1\n",
        "        lambda1 = i\n",
        "        lambda2 =j\n",
        "        lambda3 = k\n",
        "        # ### Number of Epochs for each Stage of Training\n",
        "        train_epochs1, train_epochs2, train_epochs3 = 5, 5, 25\n",
        "\n",
        "        # ### Whether there is EarlyStopping and if so how many Epochs of Patience Patience=0 means no EarlyStopping\n",
        "        es1, es2, es3 = 0, 0, 0\n",
        "\n",
        "        # ### String of weights-of-misclassification for naming files\n",
        "        ## ~~~~~~~~~~~~~~~~~~~~~~~~~~~~~~~~~~~~~ \n",
        "        cost_str = str(lambda1) + \"_\" + str(lambda2) + \"_\"  + str(lambda3)\n",
        "        epochs_str = str(train_epochs1) + \"_\" + str(train_epochs2) + \"_\"  + str(train_epochs3)\n",
        "        patience_str = str(es1) + \"_\" + str(es2) + \"_\"  + str(es3)\n",
        "        # ## ~~~~~~~~~~~~~~~~~~~~~~~~~~~~~~~~~~~~~ \n",
        "        \n",
        "        # ### Admin Dictionary to Save with Each File/Run\n",
        "        admin_dictionary[run, rep] = {\"count\": count, \"run\": run, \"rep\":  rep, \n",
        "                            \"lambda1\":lambda1,\n",
        "                            \"lambda2\":lambda2,\n",
        "                            \"lambda3\":lambda3,\n",
        "                            \"epochs1\": train_epochs1,\n",
        "                            \"epochs2\": train_epochs2,\n",
        "                            \"epochs3\": train_epochs3,\n",
        "                            \"es1\":    es1,\n",
        "                            \"es2\":    es2,\n",
        "                            \"es3\":    es3,\n",
        "                            \"tf.keras.utils.set_random_seed\": seed,\n",
        "                            \"OS environment python hash seed value\": seed_value,\n",
        "\n",
        "                            }\n",
        "\n",
        "\n",
        "\n",
        "\n",
        "        \n",
        "\n",
        "        ### File Extension to reference in JMP : weights_method_costs1_2_3\n",
        "        ## ~~~~~~~~~~~~~~~~~~~~~~~~~~~~~~~~~~~~~\n",
        "        file_extension = \"w[9,4]_L_\" + cost_str + \"_E_\" + epochs_str + \"_P_\" + patience_str + \"_\"\n",
        "        ## ~~~~~~~~~~~~~~~~~~~~~~~~~~~~~~~~~~~~~\n",
        "        # print(len(file_extension))\n",
        "\n",
        "\n",
        "        np.set_printoptions(suppress=True)\n",
        "        np.set_printoptions(precision=2)\n",
        "\n",
        "        # print(\"Last run using \", cost_str, \"File Extension \", file_extension)\n",
        "        print(f'{run} '*50)\n",
        "        print(f\"Count:{count}--Run:{run}--Rep:{rep}|Lambdas {i}, {j},{k} | Epochs: {train_epochs1} with {es1} , {train_epochs2} with {es2},  {train_epochs3} with {es3} | \")\n",
        "        print(f'{run} '*50)\n",
        "\n",
        "        combined_history_dictionary = {}  #because there will be a unknown number of epochs a dictionary is probly a better fit\n",
        "        combined_cms       = {}\n",
        "\n",
        "\n",
        "\n",
        "        def display_cm_after_training(training, cm):\n",
        "          print(\"After \", str(training), \" stage CM: \\n\", cm)\n",
        "          print(\"CM[9,4]: \", cm[4][9]) #yes this is the right format dont change! [First Value is the Column][Second Value is the Row]\n",
        " \n",
        "\n",
        "        # Initial Training _________________________________________________________\n",
        "        cm1, history1, model1, restored_weights1 =  PA_method_epoch(None, lambda1, nb_epoch=train_epochs1, patience=es1 )    #Individual CM, and Training/Validation History\n",
        "        # plot_fx(history1, restored_weights1)\n",
        "        # display_cm_after_training(\"first\", cm1)\n",
        "\n",
        "        # Second Phase Training ______________________________________________________\n",
        "        print(\"Run \", run, \"Rep \", rep, \"second-phase training with a  cost_matrix[9, 4] = \",  lambda2)\n",
        "        cm2, history2, model2, restored_weights2 =  PA_method_epoch(model1, lambda2, nb_epoch=train_epochs2, patience=es2 )    #Individual CM, and Training/Validation History\n",
        "        # plot_fx(history2, restored_weights2)\n",
        "        # display_cm_after_training(\"second\", cm2)\n",
        "\n",
        "        \n",
        "        # Third Phase Training ____________________________________________________________\n",
        "        print(\"Run \", run, \"Rep \",rep, \"third-phase training with a  cost_matrix[9, 4] = \",  lambda3)\n",
        "        cm3, history3, model3, restored_weights3 =  PA_method_epoch(model2, lambda3, nb_epoch=train_epochs3, patience=es3 )    #Individual CM, and Training/Validation History\n",
        "        # plot_fx(history3, restored_weights3)\n",
        "        # display_cm_after_training(\"third\", cm3)\n",
        "        \n",
        "\n",
        "\n",
        "        # # Save the results of 1st 2nd and 3rd phase training in one combined_history_list or disctionary\n",
        "        #   combined_history_dictionary[run, i] = {\"First\": history1, \"Second\": history2, \"Third\": history3}\n",
        "        #   combined_history_list.extend((history1, history2, history3))\n",
        "        cm1_array = np.asarray(cm1)  #Indiv CM as array for storing\n",
        "        cm2_array = np.asarray(cm2)\n",
        "        cm3_array = np.asarray(cm3)\n",
        "\n",
        "        # This results in saving the three confusion matrices after the three stages of training\n",
        "        # The shape of the combined Cms will be 1x300 so that all can be saved on one-row\n",
        "      \n",
        "        cms = np.vstack((cm1_array.reshape((1,100)),\n",
        "                                  cm2_array.reshape((1,100)),\n",
        "                                  cm3_array.reshape((1,100)))\n",
        "                                )\n",
        "        \n",
        "\n",
        "        combined_history_4 = plot_3_fx(history1, history2, history3, restored_weights1, restored_weights2, restored_weights3)\n",
        "        combined_history_dictionary[run, rep] = {\"First\": history1, \"Second\": history2, \"Third\": history3, 'Combined': combined_history_4, '3ConfusionMatrices': cms, 'admin': admin_dictionary[run,rep]}\n",
        "        combined_cms[run, rep] = cms\n",
        "\n",
        "        print(\"Run: \", run, \" Rep: \", rep, \"  complete \\n\")\n",
        "\n",
        "        #Need to delete the model inside the history or else it won't pickle            \n",
        "        # To access the dictionary history values for all three stages of training:\n",
        "        for phase2 in [\"First\", \"Second\", \"Third\"]:\n",
        "            # print(combined_history_dictionary[run,rep][i].history.keys())\n",
        "            del combined_history_dictionary[run,rep][phase2].model #https://github.com/keras-team/keras/issues/646 from FChollet\n",
        "\n",
        "\n",
        "        import pickle\n",
        "\n",
        "\n",
        "\n",
        "        from datetime import date\n",
        "        from datetime import datetime\n",
        "        today = date.today()\n",
        "        file_date = today.strftime(\"%Y_%m_%d\")\n",
        "        now = datetime.now() # current date and time\n",
        "        file_time = now.strftime(\"%H%M\")\n",
        "        print(\"time:\", file_time)\n",
        "        str_reps = str(rep)\n",
        "        str_runs = str(run)\n",
        "\n",
        "\n",
        "        file_name =  \"run\" + str_runs + \"_\" + \"rep_\" + str_reps + \"_\" + file_extension + \"_\" + file_date + \"_\" + file_time +  \"_.pkl\"\n",
        "        # print(file_name, \" will be saved with \", combined_cms.shape)\n",
        "\n",
        "        with open(path + file_name, 'wb') as handle:\n",
        "              \n",
        "            # A new file will be created\n",
        "            pickle.dump(combined_history_dictionary, handle,  protocol=pickle.HIGHEST_PROTOCOL)\n",
        "            print(file_name, \" was saved to Google Drive \")\n",
        "\n",
        "        #The following code only works if its saved in colab. I'm saving to MyDrive\n",
        "        # from google.colab import files\n",
        "        # files.download( file_name )  \n",
        "\n",
        "        # print(file_name, \" was saved to Downloads \")\n",
        "\n",
        "\n",
        "\n",
        "\n",
        "# "
      ],
      "metadata": {
        "id": "OSq7jMYUOF4t"
      },
      "execution_count": null,
      "outputs": []
    },
    {
      "cell_type": "code",
      "source": [
        "# How many categories are there in the test set?\n",
        "\n",
        "truth_num_per_category = Y_val.sum(axis=0)\n",
        "print(truth_num_per_category)"
      ],
      "metadata": {
        "id": "id_ythTutuo3"
      },
      "execution_count": null,
      "outputs": []
    },
    {
      "cell_type": "markdown",
      "source": [
        "Load Results\n",
        "\n",
        "I have a lot of pickle files.  Let's see if I can load them all up and put in a csv format."
      ],
      "metadata": {
        "id": "PaeHBLgDLEbM"
      }
    },
    {
      "cell_type": "code",
      "source": [
        "from google.colab import drive\n",
        "drive.mount('/content/drive')"
      ],
      "metadata": {
        "id": "Qwl3UxhpLECp"
      },
      "execution_count": null,
      "outputs": []
    },
    {
      "cell_type": "code",
      "source": [
        "# After executing the cell above, Drive\n",
        "# files will be present in \"/content/drive/My Drive\".\n",
        "!ls \"/content/drive/My Drive/Con3\"\n",
        "\n",
        "path = \"/content/drive/MyDrive/Con3/\"\n",
        "\n",
        "file_name = \"delete_later.pkl\"\n",
        "\n",
        "import pickle \n",
        "\n",
        "import os\n",
        "\n",
        "dir = path\n",
        "\n",
        "dict_of_run_files = {}\n",
        "\n",
        "count = 0\n",
        "for file in os.listdir(path):\n",
        "  if file.endswith(\".pkl\") and file.startswith(\"run\"):\n",
        "    # myfunction(file)\n",
        "    with open(path + file, 'rb') as handle:\n",
        "    # Call load method to deserialze\n",
        "      dict_of_run_files[file] = pickle.load(handle)\n",
        "      # list_of_files.extend(value for name, value in sorted(os.listdir(path)).items(), key=lambda item: item[0]) if name.startswith('run')\n",
        "      count+=1 \n",
        "      # print(unpickled_object == variable_to_be_deleted)\n",
        "      print(count, \". \", file, \" was saved to dict_of_run_files. \")\n",
        "\n",
        "      "
      ],
      "metadata": {
        "id": "EgWoXskENjTV"
      },
      "execution_count": null,
      "outputs": []
    },
    {
      "cell_type": "markdown",
      "source": [
        "How to get into the \"dict_of_run_files\" variable and dig out each of the contents we need in each pickle file.\n",
        "\n",
        "We need at least the following information in a dataframe:"
      ],
      "metadata": {
        "id": "TMObembs7Ayj"
      }
    },
    {
      "cell_type": "markdown",
      "source": [
        "UniqueID | Date_Time |  Run | Rep | Lambda = (i,j,k) | Epochs = (E1, E2, E3) | EarlyStop Patience = (P1, P2, P3) | Train/Val Accuracy | # of Misclassifications of [9t, 4p] | # Reverse Misclassifications | Final CM | Seed1 | Seed2 \n",
        "-- | -- | --| --| --| --| --| --| -- | --| --| --| --\n",
        "int | string | int | int | tuple | tuple | tuple | float | int | int | (1,100) (1,100), (1,100) | int | int\n",
        "\n",
        "\n",
        "\n"
      ],
      "metadata": {
        "id": "VoLDrqp_6wjk"
      }
    },
    {
      "cell_type": "code",
      "source": [
        "column_name_list = [\"UniqueID\" , \"Date_Time\" ,  \"Run\" , \"Rep\" , \"Lambda = (i,j,k)\" , \"Epochs = (E1, E2, E3)\" , \"EarlyStop Patience = (P1, P2, P3)\" , \"Val Accuracy\" , \"# of Misclassifications of [9t, 4p]\" , \"# Reverse Misclassifications\" ,\"Final CM\", \"Seed1\" , \"Seed2\" ]\n"
      ],
      "metadata": {
        "id": "8-yeHkWo7TvG"
      },
      "execution_count": null,
      "outputs": []
    },
    {
      "cell_type": "markdown",
      "source": [
        "Unique ID can come later from just the order of the index or the key-name-of the file since each one has a unique last file_name.\n",
        "\n",
        "Date_Time can come from the last part of the file name string, although in hind sight would have been nice to save to the admin key\n",
        "\n",
        "Run really can't be a trusted Run Number anymore since I had some trouble with it, but can be cleaned up based off the lambda-epochs-patience values.\n",
        "\n",
        "Rep is Rep specified in the Dictionary.\n",
        "\n"
      ],
      "metadata": {
        "id": "lC5sDUf27XqE"
      }
    },
    {
      "cell_type": "code",
      "source": [
        "# dict_of_run_files.keys()\n",
        "# An example of a key is 'run1_rep_1_w[9,4]_L_1_1_1_E_5_5_25_P_0_0_25__2023_03_09_1329_.pkl'\n",
        "\n",
        "#I later had the great idea of adding an admin file so some files have it some don't.\n",
        "#This one doesn't.\n",
        "try:\n",
        "  dict_of_run_files['run1_rep_1_w[9,4]_L_1_1_1_E_5_5_25_P_0_0_25__2023_03_09_1329_.pkl'][(1,1)]['admin']\n",
        "  \n",
        "\n",
        "print(\"Run:\" , dict_of_run_files['run23_rep_1_w[9,4]_L_100_1_100_E_5_5_25_P_0_0_0__2023_03_09_1434_.pkl'][(23,1)]['admin']['run'])\n",
        "print(\"Rep:\" , dict_of_run_files['run23_rep_1_w[9,4]_L_100_1_100_E_5_5_25_P_0_0_0__2023_03_09_1434_.pkl'][(23,1)]['admin']['rep'])\n",
        "\n"
      ],
      "metadata": {
        "id": "2HeQTBi8aWPP"
      },
      "execution_count": null,
      "outputs": []
    },
    {
      "cell_type": "code",
      "source": [
        "dict(list_of_files[0]).values()"
      ],
      "metadata": {
        "id": "sh4P_lYIyEMD"
      },
      "execution_count": null,
      "outputs": []
    },
    {
      "cell_type": "code",
      "source": [
        "#Save a file to myDrive/con3"
      ],
      "metadata": {
        "id": "8My0DZuBOBG1"
      },
      "execution_count": null,
      "outputs": []
    },
    {
      "cell_type": "markdown",
      "source": [
        "# Analyze \n",
        "\n",
        "\\\\\n"
      ],
      "metadata": {
        "id": "NP_kxNkhn6Fd"
      }
    },
    {
      "cell_type": "code",
      "source": [
        "# import numpy as np\n",
        "# import pandas as pd\n",
        "# empty_cm = np.zeros((10,10))  \n",
        "# empty_cm=pd.DataFrame(empty_cm)\n",
        "\n",
        "# empty_cm.columns = ['0p', '1p', '2p', '3p', '4p', '5p', '6p', '7p', '8p', '9p']\n",
        "# empty_cm.index = ['0t', '1t', '2t', '3t', '4t', '5t', '6t', '7t', '8t', '9t']\n",
        "\n",
        "# # print(myvar_cm_average)\n",
        "\n",
        "# empty_cm_array = np.asarray(empty_cm)\n",
        "# empty_cm_array_1_100 = np.reshape(empty_cm_array,(1,100))\n",
        "# # print(cm_average_array)\n",
        "\n",
        "# df = empty_cm\n",
        "# df_new = pd.DataFrame(empty_cm_array_1_100,  columns=pd.MultiIndex.from_product([ df.index,df.columns]))\n",
        "# df_new.columns.to_flat_index()\n",
        "# df_new.columns   = ['_'.join(col) for col in df_new.columns.values]\n",
        "\n",
        "# # Now convert combined_cms of size 30x100 to a panda dataframe\n",
        "# cms_df = pd.DataFrame(combined_cms, columns=[df_new.columns], index=[\"First\", \"Second\", \"Third\"])\n",
        "\n",
        "# cms_df\n",
        "\n",
        "# for run in runs:\n",
        "#   for rep in reps:\n",
        "#     for phase in phases:\n",
        "#       pd.DataFrame(combined_history_dictionary[run,rep][\"3ConfusionMatrices\"], columns=[df_new.columns], index=[\"First\", \"Second\", \"Third\"])"
      ],
      "metadata": {
        "id": "kLrNJE0s53pb"
      },
      "execution_count": null,
      "outputs": []
    },
    {
      "cell_type": "code",
      "source": [
        "# combined_cms[0,]"
      ],
      "metadata": {
        "id": "eo_ahxwTVI0T"
      },
      "execution_count": null,
      "outputs": []
    },
    {
      "cell_type": "code",
      "source": [
        "# combined_cms_df[\"9t_4p\"]"
      ],
      "metadata": {
        "id": "HgPClcrAUdxu"
      },
      "execution_count": null,
      "outputs": []
    },
    {
      "cell_type": "code",
      "source": [
        "# np.average(combined_cms_df[\"9t_4p\"])"
      ],
      "metadata": {
        "id": "TY59hUTadVyp"
      },
      "execution_count": null,
      "outputs": []
    },
    {
      "cell_type": "code",
      "source": [
        "# csv_filename = file_name[:-4] + \".csv\"\n",
        "\n",
        "# combined_cms_df.to_csv(csv_filename)\n",
        "# # \n",
        "\n",
        "# from google.colab import files\n",
        "# files.download(csv_filename )\n",
        "\n",
        "# print(\"Downloading \", csv_filename , \" of shape \", combined_cms_df.shape)"
      ],
      "metadata": {
        "id": "ceUFAr_z9xsk"
      },
      "execution_count": null,
      "outputs": []
    },
    {
      "cell_type": "code",
      "source": [
        "# df = pd.DataFrame(sum(var)/len(var), columns=[\"Values\"]) \n",
        "# # print(df)\n",
        "\n",
        "# df.style.format({\n",
        "#   'Values': lambda val: f'{val:,.2f}',\n",
        "# })\n",
        "\n",
        "# (df.sort_values(by=\"Values\", ascending=False)[0:20])\n",
        "\n",
        "\n",
        "# df_sorted = df.sort_values(by=\"Values\", ascending=False)[10:]  #the top 10 are usually diagonal\n",
        "\n",
        "\n",
        "# df_sorted.style.format({\n",
        "#   'Values': lambda val: f'{val:,.2f}',\n",
        "# })\n",
        "\n",
        "# import math\n",
        "\n",
        "# print(\"On average...\")\n",
        "# print(\"Num 1 misclassifications are misclassifying a \", math.floor((df_sorted[\"Values\"].index[0])/10), \" as a \", df_sorted[\"Values\"].index[0]%10, \"  (\", (df_sorted[\"Values\"].values[0]), \" times)\" )\n",
        "# print(\"Num 2 misclassifications are misclassifying a \", math.floor((df_sorted[\"Values\"].index[1])/10), \" as a \", df_sorted[\"Values\"].index[1]%10, \"  (\", (df_sorted[\"Values\"].values[1]), \" times)\" )\n",
        "# print(\"Num 3 misclassifications are misclassifying a \", math.floor((df_sorted[\"Values\"].index[2])/10), \" as a \", df_sorted[\"Values\"].index[2]%10, \"  (\", (df_sorted[\"Values\"].values[2]), \" times)\" )\n",
        "\n",
        "\n"
      ],
      "metadata": {
        "id": "-pGNLuE8gNrB"
      },
      "execution_count": null,
      "outputs": []
    },
    {
      "cell_type": "code",
      "source": [
        "# df_percents = pd.DataFrame( ((sum(var)*100/len(var)).reshape((10,10))/truth_num_per_category).reshape((100)), columns = [\"Values\"])\n",
        "\n",
        "\n",
        "# df_sorted_percents = df_percents.sort_values(by=\"Values\", ascending=False)[10:]  #the top 10 are usually diagonal\n",
        "\n",
        "# df_sorted_percents.style.format({\n",
        "#   'Values': lambda val: f'{val:,.2f}',\n",
        "# })\n",
        "\n",
        "# print(\"On average .. \")\n",
        "# print(\"Num 1 percent misclassifications\", math.floor((df_sorted_percents[\"Values\"].index[0])/10), \" as \", df_sorted_percents[\"Values\"].index[0]%10, (df_sorted_percents[\"Values\"].values[0]), \" percent\" )\n",
        "# print(\"Num 2 percent misclassifications\", math.floor((df_sorted_percents[\"Values\"].index[1])/10), \" as \", df_sorted_percents[\"Values\"].index[1]%10,  (df_sorted_percents[\"Values\"].values[1]), \" percent\" )\n",
        "# print(\"Num 3 percent misclassifications\", math.floor((df_sorted_percents[\"Values\"].index[2])/10), \" as \", df_sorted_percents[\"Values\"].index[2]%10, (df_sorted_percents[\"Values\"].values[2]), \" percent\" )\n",
        "\n",
        "\n",
        "\n",
        "\n"
      ],
      "metadata": {
        "id": "AKYclir2p8wk"
      },
      "execution_count": null,
      "outputs": []
    },
    {
      "cell_type": "code",
      "source": [],
      "metadata": {
        "id": "FrT9iz3dp8rZ"
      },
      "execution_count": null,
      "outputs": []
    },
    {
      "cell_type": "markdown",
      "source": [
        "# Extraneous"
      ],
      "metadata": {
        "id": "GZfPCKu_oqrZ"
      }
    },
    {
      "cell_type": "markdown",
      "source": [
        "#### To reference later: \n",
        "\n",
        "https://colab.research.google.com/github/tensorflow/docs/blob/master/site/en/tutorials/structured_data/imbalanced_data.ipynb#scrollTo=UJ589fn8ST3x\n",
        "\n",
        "To train a model with class weights:\n",
        "\n",
        "```\n",
        "class_weight = {0: weight_for_0, 1: weight_for_1}\n",
        "\n",
        "weighted_model = make_model()\n",
        "weighted_model.load_weights(initial_weights)\n",
        "\n",
        "weighted_history = weighted_model.fit(\n",
        "    train_features,\n",
        "    train_labels,\n",
        "    batch_size=BATCH_SIZE,\n",
        "    epochs=EPOCHS,\n",
        "    callbacks=[early_stopping],\n",
        "    validation_data=(val_features, val_labels),\n",
        "\n",
        "    # The class weights go here\n",
        "    class_weight=class_weight)\n",
        "```\n",
        "\n"
      ],
      "metadata": {
        "id": "iLEt0OL5ziEq"
      }
    },
    {
      "cell_type": "markdown",
      "source": [
        "##### extra"
      ],
      "metadata": {
        "id": "fv8JtUgIWtJc"
      }
    },
    {
      "cell_type": "code",
      "source": [
        "# Extraneous information I am not using at the moment\n",
        "\n",
        "# model.compile(\n",
        "#      optimizer='adam',\n",
        "#      loss=WeightedCategoricalCrossentropy(cost_matrix)\n",
        "#      )\n",
        "\n",
        "## Model Saving\n",
        "\n",
        "# model.save(save_version_dir,save_format='tf')\n",
        "\n",
        "## Model Loading\n",
        "\n",
        "# model = tf.keras.models.load_model(\n",
        "#     save_version_dir,\n",
        "#     compile=True,\n",
        "#     custom_objects={\n",
        "#         'WeightedCategoricalCrossentropy': WeightedCategoricalCrossentropy(cost_matrix)\n",
        "#         }\n",
        "#     )\n",
        " "
      ],
      "metadata": {
        "id": "WRzuOuZeKVpJ"
      },
      "execution_count": null,
      "outputs": []
    },
    {
      "cell_type": "markdown",
      "source": [
        "#### Experimental Runs \n",
        "\n",
        "starting to think about how i would shape the initial, middle and late training experiments.  "
      ],
      "metadata": {
        "id": "GH-yoluLM0sw"
      }
    },
    {
      "cell_type": "code",
      "source": [
        "count = 0\n",
        "run = 0\n",
        "rep = 0\n",
        "\n",
        "print(\"     | --- Init --- | | --- Mid --- | | --- Late --- | \")\n",
        "for i in [\"   1\",\" 100\", \"1000\"]: #lambda1\n",
        "  \n",
        "  for j in  [\"   1\",\" 100\", \"1000\"]:  #lambda2\n",
        "    for k in   [\"   1\",\" 100\", \"1000\"]: #lambda3\n",
        "      run+=1\n",
        "      for rep in range(1,2+1):\n",
        "        count+=1\n",
        "        print(f\"{count}--{run}--{rep}    |     {i}     ,     {j}    ,    {k}     | \")\n",
        "        \n",
        "\n"
      ],
      "metadata": {
        "id": "EisEf8F6MzFT"
      },
      "execution_count": null,
      "outputs": []
    },
    {
      "cell_type": "markdown",
      "source": [],
      "metadata": {
        "id": "xVGDsrmmNLed"
      }
    },
    {
      "cell_type": "markdown",
      "source": [
        "Run:47--Rep:1|Lambdas 1000, 100,100 | Epochs: 5 with 0 , 5 with 0,  25 with 0"
      ],
      "metadata": {
        "id": "3HlPLAlRVflA"
      }
    }
  ]
}