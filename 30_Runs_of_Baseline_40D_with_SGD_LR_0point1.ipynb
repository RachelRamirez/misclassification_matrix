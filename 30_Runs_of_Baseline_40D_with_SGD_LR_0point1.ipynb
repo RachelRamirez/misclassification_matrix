{
  "nbformat": 4,
  "nbformat_minor": 0,
  "metadata": {
    "colab": {
      "provenance": [],
      "machine_shape": "hm",
      "include_colab_link": true
    },
    "language_info": {
      "name": "python"
    },
    "kernelspec": {
      "name": "python3",
      "display_name": "Python 3"
    },
    "gpuClass": "standard",
    "accelerator": "GPU"
  },
  "cells": [
    {
      "cell_type": "markdown",
      "metadata": {
        "id": "view-in-github",
        "colab_type": "text"
      },
      "source": [
        "<a href=\"https://colab.research.google.com/github/RachelRamirez/misclassification_matrix/blob/main/30_Runs_of_Baseline_40D_with_SGD_LR_0point1.ipynb\" target=\"_parent\"><img src=\"https://colab.research.google.com/assets/colab-badge.svg\" alt=\"Open In Colab\"/></a>"
      ]
    },
    {
      "metadata": {
        "id": "E_rggtG4FpXO"
      },
      "source": [
        "We'll start by writing a `.py` file which we'll import."
      ],
      "cell_type": "markdown"
    },
    {
      "metadata": {
        "id": "j2bDdei9Dxzw",
        "colab": {
          "base_uri": "https://localhost:8080/"
        },
        "outputId": "b6e679bf-4132-415a-85b7-6348fb5a7fe9"
      },
      "source": [
        "%%writefile example.py\n",
        "def f():\n",
        "  print ('This is a function defined in a Python source file.')"
      ],
      "cell_type": "code",
      "execution_count": 1,
      "outputs": [
        {
          "output_type": "stream",
          "name": "stdout",
          "text": [
            "Writing example.py\n"
          ]
        }
      ]
    },
    {
      "cell_type": "code",
      "source": [
        "%%writefile ImportLibraries_DefineFunctions.py\n",
        "import time\n",
        "time.localtime(time.time())\n",
        "#For Reproducibility\n",
        "import numpy as np\n",
        "# np.random.seed(1337)  # for reproducibility\n",
        "\n",
        "import tensorflow as tf\n",
        "# tf.random.set_seed(33)\n",
        "\n",
        "import random as python_random\n",
        "# python_random.seed(4)\n",
        "\n",
        "# https://www.tensorflow.org/api_docs/python/tf/keras/utils/set_random_seed\n",
        "seed = 342\n",
        "tf.keras.utils.set_random_seed(seed) #Possibly use next iteration if the above doesn't work   #This makes everything VERY DETERMINISTIC\n",
        "\n",
        "\n",
        "# Running more than once causes variation.  try adding this:\n",
        "# Set seed value\n",
        "seed_value = 56\n",
        "import os\n",
        "os.environ['PYTHONHASHSEED']=str(seed_value)\n",
        "\n",
        "print(\"TF version: \" , tf.__version__ )\n",
        "print(\"Keras version: \" , tf.keras.__version__ )\n",
        "\n",
        "\n",
        " \n",
        "\n",
        "# from __future__ import print_function  #do i still need this?\n",
        "from keras.datasets import mnist\n",
        "from keras.models import Sequential\n",
        "from keras.layers.core import Dense, Dropout, Activation\n",
        "from keras.optimizers import SGD, Adam, RMSprop\n",
        "from keras.utils import np_utils\n",
        "import keras.backend as K\n",
        "from itertools import product\n",
        "import functools\n",
        "from functools import partial\n",
        "from time import ctime\n",
        "from time import sleep\n",
        "import matplotlib.pyplot as plt\n",
        "import seaborn as sns\n",
        "import pandas as pd \n",
        "from sklearn.metrics import confusion_matrix, classification_report   #CLASSIFICATION REPORT IS FOR F1 SCORE AND BREAKOUT OF AL CATEGORIES ACCURACYS\n",
        "from  sklearn.utils import shuffle\n",
        "from sklearn.metrics import f1_score\n",
        " \n",
        "session_conf = tf.compat.v1.ConfigProto(intra_op_parallelism_threads=1, inter_op_parallelism_threads=1)\n",
        "sess = tf.compat.v1.Session(graph=tf.compat.v1.get_default_graph(), config=session_conf)\n",
        "K.set_session(sess)\n",
        "\n",
        "print(\"Finished Loading Libraries\")\n",
        "\n",
        "\n",
        "batch_size = 256 \n",
        "\n",
        "# I originally had it very  high batch size to reduce the variation in the data each batch and hope \n",
        "# it makes the model training more nearly identical which it did, then i bring it back down to something reasonable to get better results training the NN\n",
        "\n",
        "nb_classes = 10\n",
        "\n",
        "# the data, shuffled and split between train and test sets\n",
        "(X_train, y_train), (X_test, y_test) = mnist.load_data()\n",
        "\n",
        "\n",
        "X_train = X_train.reshape(60000, 784)\n",
        "X_test = X_test.reshape(10000, 784)\n",
        "X_train = X_train.astype('float32')\n",
        "X_test = X_test.astype('float32')\n",
        "X_train /= 255\n",
        "X_test /= 255\n",
        "# print(X_train.shape[0], 'train samples')\n",
        "# print(X_test.shape[0], 'test samples')\n",
        "\n",
        "# convert class vectors to binary class matrices\n",
        "Y_train = np_utils.to_categorical(y_train, nb_classes)\n",
        "Y_test = np_utils.to_categorical(y_test, nb_classes)\n",
        "\n",
        "#Create a Validation Set\n",
        "X_val = X_test[:7500]   #take the first 7500 for validation\n",
        "Y_val = Y_test[:7500]   #Take the first 7500 for validation\n",
        "y_val = y_test[:7500]\n",
        "\n",
        "X_test = X_test[7500:]  #Keep the last 2500 for test/holdout\n",
        "Y_test = Y_test[7500:]  #Keep the last 2500 for test/holdout\n",
        "y_test = y_test[7500:]\n",
        "\n",
        "print(X_train.shape[0], 'train samples')\n",
        "print(X_val.shape[0], 'validation samples')\n",
        "print(X_test.shape[0], 'test samples')\n",
        "\n",
        "#Are the sets relatively balanced? Yes each category is between 8% and 11% per category\n",
        "print('Train', Y_train.sum(axis=0)/X_train.shape[0])\n",
        "print('Train # of 9s', Y_train.sum(axis=0)[9])\n",
        "print('Train # of 4s', Y_train.sum(axis=0)[4])\n",
        "\n",
        "print('Val', Y_val.sum(axis=0)/X_val.shape[0])\n",
        "print('Val # of 9s', Y_val.sum(axis=0)[9])\n",
        "print('Val # of 4s', Y_val.sum(axis=0)[4])\n",
        "\n",
        "print('Test', Y_test.sum(axis=0)/X_test.shape[0])\n",
        "print('Test  # of 9s', Y_test.sum(axis=0)[9])\n",
        "print('Test  # of 4s', Y_test.sum(axis=0)[4])\n",
        "\n",
        "#@title\n",
        "class WeightedCategoricalCrossentropy(tf.keras.losses.CategoricalCrossentropy):\n",
        "\n",
        "  def __init__(self, cost_mat, name='weighted_categorical_crossentropy', **kwargs):\n",
        "\n",
        "    cost_mat = np.array(cost_mat)   \n",
        "    ## when loading from config, self.cost_mat returns as a list, rather than an numpy array. \n",
        "    ## Adding the above line fixes this issue, enabling .ndim to call sucessfully. \n",
        "    ## However, this is probably not the best implementation\n",
        "    assert(cost_mat.ndim == 2)\n",
        "    assert(cost_mat.shape[0] == cost_mat.shape[1])\n",
        "    super().__init__(name=name, **kwargs)\n",
        "    self.cost_mat = K.cast_to_floatx(cost_mat)\n",
        "\n",
        "  def __call__(self, y_true, y_pred, sample_weight=None):\n",
        "    assert sample_weight is None, \"should only be derived from the cost matrix\"  \n",
        "    return super().__call__(\n",
        "        y_true=y_true, \n",
        "        y_pred=y_pred, \n",
        "        sample_weight=get_sample_weights(y_true, y_pred, self.cost_mat),\n",
        "    )\n",
        "\n",
        "\n",
        "  def get_config(self):\n",
        "    config = super().get_config().copy()\n",
        "    # Calling .update on the line above, during assignment, causes an error with config becoming None-type.\n",
        "    config.update({'cost_mat': (self.cost_mat)})\n",
        "    return config\n",
        "\n",
        "  @classmethod\n",
        "  def from_config(cls, config):\n",
        "    # something goes wrong here and changes self.cost_mat to a list variable.\n",
        "    # See above for temporary fix\n",
        "    return cls(**config)\n",
        "\n",
        "def get_sample_weights(y_true, y_pred, cost_m):\n",
        "    num_classes = len(cost_m)\n",
        "\n",
        "    y_pred.shape.assert_has_rank(2)\n",
        "    assert(y_pred.shape[1] == num_classes)\n",
        "    y_pred.shape.assert_is_compatible_with(y_true.shape)\n",
        "\n",
        "    y_pred = K.one_hot(K.argmax(y_pred), num_classes)\n",
        "\n",
        "    y_true_nk1 = K.expand_dims(y_true, 2)\n",
        "    y_pred_n1k = K.expand_dims(y_pred, 1)\n",
        "    cost_m_1kk = K.expand_dims(cost_m, 0)\n",
        "\n",
        "    sample_weights_nkk = cost_m_1kk * y_true_nk1 * y_pred_n1k\n",
        "    sample_weights_n = K.sum(sample_weights_nkk, axis=[1, 2])\n",
        "\n",
        "    return sample_weights_n\n",
        "\n",
        "\n",
        "# Register the loss in the Keras namespace to enable loading of the custom object.\n",
        "tf.keras.losses.WeightedCategoricalCrossentropy = WeightedCategoricalCrossentropy\n",
        " \n",
        "#@title\n",
        "def plot_model_history(model_history, nb_epoch, cm3): \n",
        "  # Parameters\n",
        "  # ----------\n",
        "  # model_history : keras.callbacks.History\n",
        "  #     The history object returned by the fit() method of the model.\n",
        "  # cm3 : 10x10 dataframe \n",
        "  #      10x10 dataframe of confusion matrix from predicted X_val categories\n",
        "  # nb_epoch = restored_weights : int\n",
        "  #     The epoch at which the weights were restored.\n",
        "  # tot_epochs : int\n",
        "  #     Calculated Total number of epochs for which the model was trained.\n",
        "  \n",
        "   \n",
        "  tot_epochs = max(model_history.epoch)+1  #if the total epochs ran is 28, it'll show up as 27 in the epoch object so we must add 1\n",
        "  print(\"Total Epochs: \", tot_epochs)\n",
        "\n",
        "  #if tot_epochs is the total number of epochs ran then early stop did not happen, and we need not minus patience\n",
        "  if tot_epochs == nb_epoch:\n",
        "    restored_weights = tot_epochs\n",
        "  else:\n",
        "    restored_weights  = tot_epochs-patience   #when using restore-best-weights and patience, it'll restore the best weights back\n",
        "  print(\"Restored weights at \", restored_weights, \"Patience used: \", patience)\n",
        "\n",
        "  fig = plt.figure(figsize=(20, 10)) # I don't think this works for some reason\n",
        "  fig, ax = plt.subplots(1,3)\n",
        "  ax[0].plot(range(1,tot_epochs+1), model_history.history['categorical_accuracy'], color='blue',             label='Training')\n",
        "  ax[0].plot(range(1,tot_epochs+1), model_history.history['val_categorical_accuracy'] , color='orange',             label='Validation')\n",
        "  ax[0].scatter((restored_weights), model_history.history['val_categorical_accuracy'][restored_weights-1] , color='orange')\n",
        "  ax[0].scatter(restored_weights, model_history.history['categorical_accuracy'][restored_weights-1], color='blue')\n",
        "  ax[0].annotate(text=str(restored_weights),  xy=(restored_weights, model_history.history['val_categorical_accuracy'][restored_weights-1]),\n",
        "                  textcoords=\"offset points\", xytext=(0,10), ha='center', color='black')\n",
        "  ax[0].legend()\n",
        "  ax[0].set_title('Training and Validation Accuracy')\n",
        "\n",
        "  ax[1].plot(range(1,tot_epochs+1), model_history.history['loss'], color= 'blue', label='Training')\n",
        "  ax[1].plot(range(1,tot_epochs+1), model_history.history['val_loss'], color='orange', label='Validation')\n",
        "  ax[1].scatter(restored_weights, model_history.history['loss'][restored_weights-1], color='blue')\n",
        "  ax[1].scatter((restored_weights), model_history.history['val_loss'][restored_weights-1] , color='orange')\n",
        "  ax[1].annotate(text=str(restored_weights),  xy=(restored_weights, model_history.history['val_loss'][restored_weights-1]),\n",
        "                  textcoords=\"offset points\", xytext=(0,10), ha='center')\n",
        "  ax[1].legend()\n",
        "  ax[1].set_title('Training and Validation Loss')\n",
        "\n",
        "\n",
        "  cm3_wodiag = cm3*(np.ones((10,10)) - np.eye(10))\n",
        "\n",
        "  ax[2] = sns.heatmap(cm3_wodiag, annot=True, annot_kws={\"size\": 7},  fmt='g', cmap=sns.cm.rocket_r) # font size\n",
        "  ax[2].set_xlabel('Predicted Class')\n",
        "  ax[2].set_ylabel('True Class')\n",
        "  ax[2].set_title('# of misclassifications of 9 as 4 is '+str(cm3[4][9]))\n",
        "  cbar = ax[2].collections[0].colorbar\n",
        "  cbar.remove() # Just takes up valuable room and is worthless\n",
        "\n",
        "\n",
        "  plt.gcf().set_size_inches(15, 5)  # this works \n",
        "  # plt.gcf().suptitle(f\"Lambda Value {lambda_val} for {nb_epoch} Epochs and Patience {patience} \" )\n",
        "\n",
        "\n",
        "  #@title\n",
        "def create_model(): #Removed cost-matrix which is called up in the Compile Function and passed to the weighted-loss function\n",
        "  model = Sequential()\n",
        "  model.add(Dense(40, input_shape=(784,), kernel_initializer=tf.keras.initializers.glorot_uniform(seed=42)))\n",
        "  model.add(Activation('relu'))\n",
        "  model.add(Dropout(0.2))\n",
        "  model.add(Dense(40, kernel_initializer=tf.keras.initializers.glorot_uniform(seed=42)))\n",
        "  model.add(Activation('relu'))\n",
        "  model.add(Dropout(0.2))\n",
        "  model.add(Dense(10,kernel_initializer=tf.keras.initializers.glorot_uniform(seed=42)))\n",
        "  model.add(Activation('softmax'))\n",
        "  return model  #I removed Compile\n",
        "\n",
        "\n",
        "\n",
        "  #@title\n",
        "def log_confusion_matrix( epoch, logs):\n",
        "  # Use the model to predict the values from the validation dataset.\n",
        "  y_prediction = model.predict(X_val, verbose=0)     #I call it y_prediction3 because I just want to make sure this is  updated within and not interfering with the other prediction below\n",
        "  y_prediction  = np.argmax(y_prediction, axis=1)\n",
        "\n",
        "  #Create confusion matrix \n",
        "  cm = confusion_matrix(y_val, y_prediction)\n",
        "  cm_array = np.asarray(cm)  #Indiv CM as array for storing\n",
        "  logs['9T_4P'] = cm[9,4]\n",
        "  logs['4T_9P'] = cm[4,9]\n",
        "\n",
        "  logs['0T_Acc'] = cm[0,0]/np.sum(cm[0])\n",
        "  logs['1T_Acc'] = cm[1,1]/np.sum(cm[1])\n",
        "  logs['2T_Acc'] = cm[2,2]/np.sum(cm[2])\n",
        "  logs['3T_Acc'] = cm[3,3]/np.sum(cm[3])\n",
        "  logs['4T_Acc'] = cm[4,4]/np.sum(cm[4])\n",
        "  logs['5T_Acc'] = cm[5,5]/np.sum(cm[5])\n",
        "  logs['6T_Acc'] = cm[6,6]/np.sum(cm[6])\n",
        "  logs['7T_Acc'] = cm[7,7]/np.sum(cm[7])\n",
        "  logs['8T_Acc'] = cm[8,8]/np.sum(cm[8])\n",
        "  logs['9T_Acc'] = cm[9,9]/np.sum(cm[9])\n",
        "\n",
        "\n",
        "  logs['cm_per_epoch'] = cm_array.reshape((1,100))\n",
        "\n",
        "#@title\n",
        "def log_classification_report( epoch, logs):\n",
        "  # Use the model to predict the values from the validation dataset.\n",
        "    y_prediction = model.predict(X_val, verbose=0)     #I call it y_prediction3 because I just want to make sure this is  updated within and not interfering with the other prediction below\n",
        "    y_prediction  = np.argmax(y_prediction, axis=1)\n",
        "\n",
        "    #Create confusion matrix \n",
        "    cr = classification_report(y_val, y_prediction)\n",
        "    # print(cr)\n",
        "    logs['cr_per_epoch'] = cr \n",
        "\n",
        "\n",
        "    #@title\n",
        "def log_f1_score( epoch, logs):\n",
        "  # Use the model to predict the values from the validation dataset.\n",
        "    y_prediction = model.predict(X_val, verbose=0)     #I call it y_prediction3 because I just want to make sure this is  updated within and not interfering with the other prediction below\n",
        "    y_prediction  = np.argmax(y_prediction, axis=1)\n",
        "\n",
        "\n",
        "    logs[\"f1_micro\"] = f1_score(y_val, y_prediction, average='micro')\n",
        "    logs[\"f1_macro\"] = f1_score(y_val, y_prediction, average='macro')\n",
        "    logs[\"f1_weighted\"] = f1_score(y_val, y_prediction, average='weighted')\n",
        "    logs[\"f1_notweighted\"] = f1_score(y_val, y_prediction, average=None)\n",
        "\n",
        "\n",
        "#@title\n",
        "def return_cm(model):\n",
        "  y_prediction = model.predict(X_val, verbose=0)\n",
        "  y_prediction  = np.argmax(y_prediction, axis=1)\n",
        "  # Y_prediction = np_utils.to_categorical(y_prediction, nb_classes)\n",
        "\n",
        "  cm3 = confusion_matrix(y_val, y_prediction)\n",
        "  cm3 = pd.DataFrame(cm3, range(10),range(10))\n",
        "  return cm3\n",
        "\n",
        "  # # plt.figure(figsize = (4,4))\n",
        "  # # cm3\n",
        "  # sns.heatmap(cm3, annot=True, annot_kws={\"size\": 7},  fmt='g') # font size\n",
        "  # plt.show()\n",
        "  # # cm_using_weighted_new = cm3\n",
        " #@title\n",
        "\n",
        "def return_cr(model):\n",
        "  y_prediction = model.predict(X_val, verbose=0)\n",
        "  y_prediction  = np.argmax(y_prediction, axis=1)\n",
        "  # Y_prediction = np_utils.to_categorical(y_prediction, nb_classes)\n",
        "\n",
        "  cr = classification_report(y_val, y_prediction)\n",
        "  print(cr)\n",
        "  return cr\n",
        "\n",
        "\n",
        "def return_f1score(model):\n",
        "  # sklearn.metrics.f1_score(y_true, y_pred, *, labels=None, pos_label=1, average='binary', sample_weight=None, zero_division='warn')[source] \n",
        "  y_prediction = model.predict(X_val, verbose=0)\n",
        "  y_prediction  = np.argmax(y_prediction, axis=1)\n",
        "  # Y_prediction = np_utils.to_categorical(y_prediction, nb_classes)\n",
        "\n",
        "  f1_notweighted = f1_score(y_val, y_prediction, average=None)\n",
        "  print(f1_notweighted)\n",
        "  f1_micro = f1_score(y_val, y_prediction, average='micro')\n",
        "  f1_macro = f1_score(y_val, y_prediction, average='macro')\n",
        "  f1_weighted = f1_score(y_val, y_prediction, average='weighted')\n",
        "  # print(\"Micro: \", f1_micro, \"Macro: \", f1_macro, \"Weighted: \", f1_weighted)\n",
        "  print(\"Micro: {:.5f} Macro: {:.5f} Weighted: {:.5f}\".format(f1_micro, f1_macro, f1_weighted))\n",
        "  # return f1\n",
        "\n",
        "\n",
        "\n",
        "#@title: plot_model_history_all\n",
        "def plot_model_history_all(model_history, nb_epoch=None, cm3=None): \n",
        "  # Parameters\n",
        "  # ----------\n",
        "  # tot_epochs : int\n",
        "  #     Total number of epochs for which the model was trained.\n",
        "  # model_history : keras.callbacks.History\n",
        "  #     The history object returned by the fit() method of the model.\n",
        "  # cm3 : 10x10 dataframe \n",
        "  #      10x10 dataframe of confusion matrix from predicted X_val categories\n",
        "  # restored_weights : int\n",
        "  #     The epoch at which the weights were restored.\n",
        "\n",
        "  \n",
        "\n",
        "  tot_epochs = max(model_history.epoch)+1  #if the total epochs ran is 28, it'll show up as 27 in the epoch object so we must add 1\n",
        "  # print(\"Total Epochs: \", tot_epochs)\n",
        "\n",
        "  #if tot_epochs is the total number of epochs ran then early stop did not happen, and we need not minus patience\n",
        "  if tot_epochs == nb_epoch:\n",
        "    restored_weights = tot_epochs\n",
        "  else:\n",
        "    restored_weights  = tot_epochs-patience   #when using restore-best-weights and patience, it'll restore the best weights back\n",
        "  # print(\"Restored weights at \", restored_weights, \"Patience used: \", patience)\n",
        "\n",
        "  ax[0].plot(range(1,tot_epochs+1), model_history.history['categorical_accuracy'], color='blue',           )\n",
        "  ax[0].plot(range(1,tot_epochs+1), model_history.history['val_categorical_accuracy'] , color='orange',    )\n",
        "  ax[0].scatter((restored_weights), model_history.history['val_categorical_accuracy'][restored_weights-1] , color='orange')\n",
        "  ax[0].scatter(restored_weights, model_history.history['categorical_accuracy'][restored_weights-1], color='blue')\n",
        "  ax[0].annotate(text=str(restored_weights),  xy=(restored_weights, model_history.history['val_categorical_accuracy'][restored_weights-1]),\n",
        "                  textcoords=\"offset points\", xytext=(0,10), ha='center', color='black')\n",
        "  # ax[0].legend()\n",
        "  ax[0].set_title('Training (Blue) and Validation (Orange) Accuracy', fontsize='8')\n",
        "\n",
        "  ax[1].plot(range(1,tot_epochs+1), model_history.history['loss'], color= 'blue',  )\n",
        "  ax[1].plot(range(1,tot_epochs+1), model_history.history['val_loss'], color='orange',  )\n",
        "  ax[1].scatter(restored_weights, model_history.history['loss'][restored_weights-1], color='blue')\n",
        "  ax[1].scatter((restored_weights), model_history.history['val_loss'][restored_weights-1] , color='orange')\n",
        "  ax[1].annotate(text=str(restored_weights),  xy=(restored_weights, model_history.history['val_loss'][restored_weights-1]),\n",
        "                  textcoords=\"offset points\", xytext=(0,10), ha='center')\n",
        "  # ax[1].legend()\n",
        "  ax[1].set_title('Training (Blue) and Validation (Orange) Loss' , fontsize='8')\n",
        "\n",
        "\n",
        "  plt.gcf().set_size_inches(10, 5)  # this works \n",
        "  # plt.gcf().suptitle(f\"Lambda Value {lambda_val} for {nb_epoch} Epochs and Patience {patience} \" )\n",
        "\n",
        "  \n",
        "\n",
        "\n",
        "\n",
        "\n",
        "\n",
        "\n",
        "\n",
        "\n",
        "## ----------------------------------------------------------------------------------------------\n",
        "## Tried to create a Callback to call the Classifcatinreport ever 5 epochs, but it doesnt work \n",
        "## because it cant see the model.  ZGoing back to trying to define the function to only be called every 5th epoch\n",
        "\n",
        "\n",
        "# class cr_callback(tf.keras.callbacks.Callback):\n",
        "\n",
        "#     def on_epoch_end(self, epoch, log=None):\n",
        "\n",
        "#         if epoch % 5 == 0:  # <- add additional condition here\n",
        "#             self._do_the_stuff()\n",
        "            \n",
        "            \n",
        "#     def _do_the_stuff(self, model):\n",
        "#         print('Do the stuff')\n",
        "#         y_prediction = model.predict(X_val, verbose=0)\n",
        "#         y_prediction  = np.argmax(y_prediction, axis=1)\n",
        "#         # Y_prediction = np_utils.to_categorical(y_prediction, nb_classes)\n",
        "#         cr = classification_report(y_val, y_prediction)\n",
        "#         logs['cr'] = cr\n",
        "\n",
        "#           # return cr\n",
        "        \n",
        "#     # def on_training_end(self, logs=None):\n",
        "#     #     self._do_the_stuff()\n",
        "\n",
        "\n",
        "\n",
        "## Saw this example ono Kaggle, but couldn't get it to work, it does give me an idea(if epoch==0)\n",
        "\n",
        "# from sklearn.metrics import accuracy_score\n",
        "# class every10epochCallback(tf.keras.callbacks.Callback):\n",
        "#     def __init__(self, X_val, Y_val):\n",
        "#         super().__init__()\n",
        "#         self.X = X_val\n",
        "#         self.y = Y_val.argmax(axis=1)\n",
        "#     def on_epoch_begin(self, epoch, logs=None):\n",
        "#         if epoch == 0:\n",
        "#             return\n",
        "#         if epoch%10==0:\n",
        "#             pred = (model.predict(self.X))\n",
        "#             print('epoch: ',epoch,'  ,Accuracy:  ',accuracy_score(self.y,pred.argmax(axis=1)),' ')\n",
        "\n",
        "# model.fit(X_train, Y_train,batch_size=batch_size,epochs=10,verbose=0,  validation_data=(X_val, Y_val), shuffle=True, use_multiprocessing=True, \n",
        "#           callbacks=[every10epochCallback(X_val,Y_val)])\n"
      ],
      "metadata": {
        "cellView": "form",
        "colab": {
          "base_uri": "https://localhost:8080/"
        },
        "id": "O3NeKdNCLXk1",
        "outputId": "3249941d-ed16-4cd6-9d8c-f04c2e4c12ad"
      },
      "execution_count": 17,
      "outputs": [
        {
          "output_type": "stream",
          "name": "stdout",
          "text": [
            "Overwriting ImportLibraries_DefineFunctions.py\n"
          ]
        }
      ]
    },
    {
      "metadata": {
        "id": "oLPme2BLEDsz",
        "colab": {
          "base_uri": "https://localhost:8080/"
        },
        "outputId": "9afa53f3-f1d1-4c67-9294-e93be0195b86"
      },
      "source": [
        "#@title\n",
        "# Bring the file into the local Python environment.\n",
        "execfile('ImportLibraries_DefineFunctions.py')\n",
        "\n",
        "# Call the function defined in the file.\n",
        "# f()"
      ],
      "cell_type": "code",
      "execution_count": 18,
      "outputs": [
        {
          "output_type": "stream",
          "name": "stdout",
          "text": [
            "TF version:  2.12.0\n",
            "Keras version:  2.12.0\n",
            "Finished Loading Libraries\n",
            "60000 train samples\n",
            "7500 validation samples\n",
            "2500 test samples\n",
            "Train [0.09871667 0.11236667 0.0993     0.10218333 0.09736667 0.09035\n",
            " 0.09863333 0.10441667 0.09751666 0.09915   ]\n",
            "Train # of 9s 5949.0\n",
            "Train # of 4s 5842.0\n",
            "Val [0.09586667 0.1132     0.10453334 0.10066666 0.09986667 0.09013333\n",
            " 0.09413333 0.1016     0.09746667 0.10253333]\n",
            "Val # of 9s 769.0\n",
            "Val # of 4s 749.0\n",
            "Test [0.1044 0.1144 0.0992 0.102  0.0932 0.0864 0.1008 0.1064 0.0972 0.096 ]\n",
            "Test  # of 9s 240.0\n",
            "Test  # of 4s 233.0\n"
          ]
        }
      ]
    },
    {
      "cell_type": "code",
      "source": [
        "#@title\n",
        "# #As of 4/18 I am changing this code to save weights initially after five epochs using lambdavalue=1 initially\n",
        "\n",
        "# rms = RMSprop()  #https://keras.io/api/optimizers/rmsprop/ #default learning_rate=0.001\n",
        "sgd = SGD(learning_rate=0.1)\n",
        "\n",
        "patience = 0\n",
        "\n",
        "\n",
        "# SET THE IITIAL LAMBDA VALUE! \n",
        "cost_matrix = np.ones((10,10))\n",
        "lambda_val = 1\n",
        "\n",
        "Truth=9\n",
        "Predicted=4\n",
        "cost_matrix[Truth, Predicted] = lambda_val\n",
        "\n",
        "\n",
        "# # Define the per-epoch callback.\n",
        "cm_callback = tf.keras.callbacks.LambdaCallback(on_epoch_end=log_confusion_matrix, )\n",
        "# cr_callback = tf.keras.callbacks.LambdaCallback(on_epoch_end=log_classification_report, )\n",
        "# es_callback = tf.keras.callbacks.EarlyStopping(monitor='val_loss', patience=patience, verbose=1, restore_best_weights = True)\n",
        "\n",
        "\n",
        "\n",
        "\n",
        "\n",
        "# ## Examples from TDS\n",
        "# from tensorflow.keras.callbacks import LambdaCallback\n",
        "# epoch_callback = LambdaCallback(\n",
        "#     on_epoch_begin=lambda epoch,logs: print('Starting Epoch {}!'.format(epoch+1))\n",
        "# )\n",
        "# batch_loss_callback = LambdaCallback(\n",
        "#     on_batch_end=lambda batch,logs: print('\\n After batch {}, the loss is {:7.2f}.'.format(batch, logs['loss']))\n",
        "# )\n",
        "# train_finish_callback = LambdaCallback(\n",
        "#     on_train_end=lambda logs: print('Training finished!')\n",
        "# )\n",
        "\n",
        "# # Lambda function using if else & else if\n",
        "# min = lambda a, b, c : f\"{a} is smaller\" if(a < b & b < c) \\\n",
        "#      else f\"{b} is smaller\"  if (b < c) else f\"{c} is smaller\" \n",
        "# print(min(40, 30, 10))\n",
        "\n",
        "epoch_callback = tf.keras.callbacks.LambdaCallback(on_epoch_end = lambda epoch,logs: \n",
        "                                                   print(' Epoch {} modulus 5 is {}!'.format(epoch+1, (epoch+1)%5))  )\n",
        "\n",
        "# cr_callback = tf.keras.callbacks.LambdaCallback(on_epoch_end= lambda epoch, logs:\n",
        "# #                                                log_classification_report(epoch, logs) if(epoch+1)%5==0 else print(\" \") )\n",
        "#                                               #  return_cr if(epoch+1)%5==0 else print(\" \") )\n",
        "\n",
        "\n",
        "f1_callback = tf.keras.callbacks.LambdaCallback(on_epoch_end=log_f1_score)\n",
        "\n",
        "\n",
        "model = create_model()\n",
        "\n",
        "# save the model weights\n",
        "model.save_weights('initial_0epochs.h5')\n",
        "\n",
        "\n",
        "\n",
        "model.compile(loss=WeightedCategoricalCrossentropy(cost_matrix), optimizer=sgd,  metrics='categorical_accuracy',)\n",
        "\n",
        "# model_history = model.fit(X_train, Y_train,  batch_size=batch_size, epochs=10, verbose=2,\n",
        "#         validation_data=(X_val, Y_val), shuffle=True, use_multiprocessing=True, callbacks = [ cm_callback, f1_callback])\n",
        "\n",
        "# model.save_weights('initial_10epochs.h5')\n",
        "\n",
        "# model.save_weights('initial_10epochs.h5')\n",
        "# model.save_weights('baseline_for_100epochs.h5')\n",
        "\n",
        "# save the model weights\n",
        "# model.save_weights('initial_150epochs.h5')\n",
        "\n",
        " \n",
        "cr = return_cr(model)"
      ],
      "metadata": {
        "colab": {
          "base_uri": "https://localhost:8080/"
        },
        "id": "-QcJ3LplOkww",
        "outputId": "ea8e762a-241f-4df6-a17a-1e1e4911862a"
      },
      "execution_count": 4,
      "outputs": [
        {
          "output_type": "stream",
          "name": "stdout",
          "text": [
            "Epoch 1/10\n",
            "235/235 - 8s - loss: 0.9456 - categorical_accuracy: 0.6950 - val_loss: 0.3900 - val_categorical_accuracy: 0.8893 - 9T_4P: 40.0000 - 4T_9P: 43.0000 - 0T_Acc: 0.9624 - 1T_Acc: 0.9670 - 2T_Acc: 0.8546 - 3T_Acc: 0.8596 - 4T_Acc: 0.9092 - 5T_Acc: 0.8284 - 6T_Acc: 0.9263 - 7T_Acc: 0.8570 - 8T_Acc: 0.8591 - 9T_Acc: 0.8609 - cm_per_epoch: 75.0000 - f1_micro: 0.8893 - f1_macro: 0.8882 - f1_weighted: 0.8891 - f1_notweighted: 0.8882 - 8s/epoch - 35ms/step\n",
            "Epoch 2/10\n",
            "235/235 - 2s - loss: 0.4861 - categorical_accuracy: 0.8544 - val_loss: 0.3128 - val_categorical_accuracy: 0.9083 - 9T_4P: 32.0000 - 4T_9P: 35.0000 - 0T_Acc: 0.9750 - 1T_Acc: 0.9776 - 2T_Acc: 0.8852 - 3T_Acc: 0.8755 - 4T_Acc: 0.9199 - 5T_Acc: 0.8698 - 6T_Acc: 0.9348 - 7T_Acc: 0.8976 - 8T_Acc: 0.8550 - 9T_Acc: 0.8843 - cm_per_epoch: 75.0000 - f1_micro: 0.9083 - f1_macro: 0.9073 - f1_weighted: 0.9079 - f1_notweighted: 0.9073 - 2s/epoch - 7ms/step\n",
            "Epoch 3/10\n",
            "235/235 - 2s - loss: 0.4074 - categorical_accuracy: 0.8777 - val_loss: 0.2661 - val_categorical_accuracy: 0.9207 - 9T_4P: 34.0000 - 4T_9P: 20.0000 - 0T_Acc: 0.9750 - 1T_Acc: 0.9753 - 2T_Acc: 0.9107 - 3T_Acc: 0.9152 - 4T_Acc: 0.9399 - 5T_Acc: 0.8876 - 6T_Acc: 0.9448 - 7T_Acc: 0.9029 - 8T_Acc: 0.8687 - 9T_Acc: 0.8804 - cm_per_epoch: 75.0000 - f1_micro: 0.9207 - f1_macro: 0.9197 - f1_weighted: 0.9204 - f1_notweighted: 0.9197 - 2s/epoch - 7ms/step\n",
            "Epoch 4/10\n",
            "235/235 - 2s - loss: 0.3624 - categorical_accuracy: 0.8937 - val_loss: 0.2397 - val_categorical_accuracy: 0.9272 - 9T_4P: 27.0000 - 4T_9P: 27.0000 - 0T_Acc: 0.9764 - 1T_Acc: 0.9800 - 2T_Acc: 0.9120 - 3T_Acc: 0.9113 - 4T_Acc: 0.9319 - 5T_Acc: 0.9053 - 6T_Acc: 0.9433 - 7T_Acc: 0.9160 - 8T_Acc: 0.8974 - 9T_Acc: 0.8934 - cm_per_epoch: 75.0000 - f1_micro: 0.9272 - f1_macro: 0.9265 - f1_weighted: 0.9270 - f1_notweighted: 0.9265 - 2s/epoch - 6ms/step\n",
            "Epoch 5/10\n",
            "235/235 - 1s - loss: 0.3262 - categorical_accuracy: 0.9033 - val_loss: 0.2211 - val_categorical_accuracy: 0.9325 - 9T_4P: 34.0000 - 4T_9P: 16.0000 - 0T_Acc: 0.9791 - 1T_Acc: 0.9800 - 2T_Acc: 0.9349 - 3T_Acc: 0.9311 - 4T_Acc: 0.9439 - 5T_Acc: 0.9024 - 6T_Acc: 0.9533 - 7T_Acc: 0.8950 - 8T_Acc: 0.9124 - 9T_Acc: 0.8882 - cm_per_epoch: 75.0000 - f1_micro: 0.9325 - f1_macro: 0.9320 - f1_weighted: 0.9323 - f1_notweighted: 0.9320 - 1s/epoch - 6ms/step\n",
            "Epoch 6/10\n",
            "235/235 - 2s - loss: 0.3052 - categorical_accuracy: 0.9103 - val_loss: 0.2029 - val_categorical_accuracy: 0.9389 - 9T_4P: 14.0000 - 4T_9P: 33.0000 - 0T_Acc: 0.9819 - 1T_Acc: 0.9812 - 2T_Acc: 0.9401 - 3T_Acc: 0.9351 - 4T_Acc: 0.9266 - 5T_Acc: 0.9083 - 6T_Acc: 0.9419 - 7T_Acc: 0.9213 - 8T_Acc: 0.9248 - 9T_Acc: 0.9220 - cm_per_epoch: 75.0000 - f1_micro: 0.9389 - f1_macro: 0.9385 - f1_weighted: 0.9388 - f1_notweighted: 0.9385 - 2s/epoch - 7ms/step\n",
            "Epoch 7/10\n",
            "235/235 - 2s - loss: 0.2922 - categorical_accuracy: 0.9153 - val_loss: 0.1946 - val_categorical_accuracy: 0.9409 - 9T_4P: 10.0000 - 4T_9P: 27.0000 - 0T_Acc: 0.9847 - 1T_Acc: 0.9823 - 2T_Acc: 0.9247 - 3T_Acc: 0.9391 - 4T_Acc: 0.9413 - 5T_Acc: 0.9157 - 6T_Acc: 0.9433 - 7T_Acc: 0.9094 - 8T_Acc: 0.9261 - 9T_Acc: 0.9376 - cm_per_epoch: 75.0000 - f1_micro: 0.9409 - f1_macro: 0.9405 - f1_weighted: 0.9409 - f1_notweighted: 0.9405 - 2s/epoch - 7ms/step\n",
            "Epoch 8/10\n",
            "235/235 - 2s - loss: 0.2732 - categorical_accuracy: 0.9203 - val_loss: 0.1828 - val_categorical_accuracy: 0.9441 - 9T_4P: 19.0000 - 4T_9P: 19.0000 - 0T_Acc: 0.9833 - 1T_Acc: 0.9812 - 2T_Acc: 0.9439 - 3T_Acc: 0.9404 - 4T_Acc: 0.9493 - 5T_Acc: 0.9112 - 6T_Acc: 0.9476 - 7T_Acc: 0.9370 - 8T_Acc: 0.9275 - 9T_Acc: 0.9142 - cm_per_epoch: 75.0000 - f1_micro: 0.9441 - f1_macro: 0.9436 - f1_weighted: 0.9440 - f1_notweighted: 0.9436 - 2s/epoch - 6ms/step\n",
            "Epoch 9/10\n",
            "235/235 - 2s - loss: 0.2634 - categorical_accuracy: 0.9226 - val_loss: 0.1769 - val_categorical_accuracy: 0.9464 - 9T_4P: 17.0000 - 4T_9P: 19.0000 - 0T_Acc: 0.9833 - 1T_Acc: 0.9812 - 2T_Acc: 0.9401 - 3T_Acc: 0.9364 - 4T_Acc: 0.9493 - 5T_Acc: 0.9157 - 6T_Acc: 0.9575 - 7T_Acc: 0.9304 - 8T_Acc: 0.9439 - 9T_Acc: 0.9220 - cm_per_epoch: 75.0000 - f1_micro: 0.9464 - f1_macro: 0.9460 - f1_weighted: 0.9463 - f1_notweighted: 0.9460 - 2s/epoch - 6ms/step\n",
            "Epoch 10/10\n",
            "235/235 - 2s - loss: 0.2517 - categorical_accuracy: 0.9251 - val_loss: 0.1668 - val_categorical_accuracy: 0.9499 - 9T_4P: 13.0000 - 4T_9P: 22.0000 - 0T_Acc: 0.9847 - 1T_Acc: 0.9812 - 2T_Acc: 0.9452 - 3T_Acc: 0.9404 - 4T_Acc: 0.9453 - 5T_Acc: 0.9453 - 6T_Acc: 0.9518 - 7T_Acc: 0.9304 - 8T_Acc: 0.9412 - 9T_Acc: 0.9311 - cm_per_epoch: 75.0000 - f1_micro: 0.9499 - f1_macro: 0.9496 - f1_weighted: 0.9498 - f1_notweighted: 0.9496 - 2s/epoch - 6ms/step\n",
            "              precision    recall  f1-score   support\n",
            "\n",
            "           0       0.94      0.98      0.96       719\n",
            "           1       0.97      0.98      0.98       849\n",
            "           2       0.95      0.95      0.95       784\n",
            "           3       0.95      0.94      0.95       755\n",
            "           4       0.95      0.95      0.95       749\n",
            "           5       0.95      0.95      0.95       676\n",
            "           6       0.95      0.95      0.95       706\n",
            "           7       0.96      0.93      0.94       762\n",
            "           8       0.94      0.94      0.94       731\n",
            "           9       0.93      0.93      0.93       769\n",
            "\n",
            "    accuracy                           0.95      7500\n",
            "   macro avg       0.95      0.95      0.95      7500\n",
            "weighted avg       0.95      0.95      0.95      7500\n",
            "\n"
          ]
        }
      ]
    },
    {
      "cell_type": "code",
      "source": [],
      "metadata": {
        "id": "ImMl-yPWPfT0"
      },
      "execution_count": 4,
      "outputs": []
    },
    {
      "cell_type": "code",
      "source": [
        "# how can i dig into the Classification Report\n",
        "# model_history.history\n"
      ],
      "metadata": {
        "id": "pXNxlWdyismv",
        "colab": {
          "base_uri": "https://localhost:8080/"
        },
        "outputId": "67bb2b82-1b63-46d4-de3d-585f56022eab"
      },
      "execution_count": 5,
      "outputs": [
        {
          "output_type": "execute_result",
          "data": {
            "text/plain": [
              "{'loss': [0.9456429481506348,\n",
              "  0.4860854148864746,\n",
              "  0.40739160776138306,\n",
              "  0.3623688220977783,\n",
              "  0.3261603116989136,\n",
              "  0.30523985624313354,\n",
              "  0.2922259569168091,\n",
              "  0.27316585183143616,\n",
              "  0.2633598744869232,\n",
              "  0.251666784286499],\n",
              " 'categorical_accuracy': [0.6949666738510132,\n",
              "  0.854449987411499,\n",
              "  0.8777333498001099,\n",
              "  0.8937000036239624,\n",
              "  0.9033166766166687,\n",
              "  0.9102500081062317,\n",
              "  0.9152666926383972,\n",
              "  0.9203166961669922,\n",
              "  0.9226499795913696,\n",
              "  0.9251333475112915],\n",
              " 'val_loss': [0.3900302052497864,\n",
              "  0.31284916400909424,\n",
              "  0.2661421000957489,\n",
              "  0.2397366762161255,\n",
              "  0.221100315451622,\n",
              "  0.20287351310253143,\n",
              "  0.19456474483013153,\n",
              "  0.1828291118144989,\n",
              "  0.1769355982542038,\n",
              "  0.16680927574634552],\n",
              " 'val_categorical_accuracy': [0.8893333077430725,\n",
              "  0.9082666635513306,\n",
              "  0.9206666946411133,\n",
              "  0.9272000193595886,\n",
              "  0.932533323764801,\n",
              "  0.9389333128929138,\n",
              "  0.940933346748352,\n",
              "  0.9441333413124084,\n",
              "  0.946399986743927,\n",
              "  0.9498666524887085],\n",
              " '9T_4P': [40, 32, 34, 27, 34, 14, 10, 19, 17, 13],\n",
              " '4T_9P': [43, 35, 20, 27, 16, 33, 27, 19, 19, 22],\n",
              " '0T_Acc': [0.9624478442280946,\n",
              "  0.9749652294853964,\n",
              "  0.9749652294853964,\n",
              "  0.9763560500695411,\n",
              "  0.9791376912378303,\n",
              "  0.9819193324061196,\n",
              "  0.9847009735744089,\n",
              "  0.9833101529902643,\n",
              "  0.9833101529902643,\n",
              "  0.9847009735744089],\n",
              " '1T_Acc': [0.967020023557126,\n",
              "  0.9776207302709069,\n",
              "  0.9752650176678446,\n",
              "  0.9799764428739693,\n",
              "  0.9799764428739693,\n",
              "  0.9811542991755006,\n",
              "  0.9823321554770318,\n",
              "  0.9811542991755006,\n",
              "  0.9811542991755006,\n",
              "  0.9811542991755006],\n",
              " '2T_Acc': [0.8545918367346939,\n",
              "  0.8852040816326531,\n",
              "  0.9107142857142857,\n",
              "  0.9119897959183674,\n",
              "  0.9349489795918368,\n",
              "  0.9400510204081632,\n",
              "  0.9247448979591837,\n",
              "  0.9438775510204082,\n",
              "  0.9400510204081632,\n",
              "  0.9451530612244898],\n",
              " '3T_Acc': [0.8596026490066225,\n",
              "  0.8754966887417218,\n",
              "  0.9152317880794701,\n",
              "  0.9112582781456954,\n",
              "  0.9311258278145695,\n",
              "  0.9350993377483444,\n",
              "  0.9390728476821192,\n",
              "  0.9403973509933775,\n",
              "  0.9364238410596026,\n",
              "  0.9403973509933775],\n",
              " '4T_Acc': [0.9092122830440588,\n",
              "  0.9198931909212283,\n",
              "  0.9399198931909212,\n",
              "  0.931909212283044,\n",
              "  0.9439252336448598,\n",
              "  0.9265687583444593,\n",
              "  0.9412550066755674,\n",
              "  0.9492656875834445,\n",
              "  0.9492656875834445,\n",
              "  0.945260347129506],\n",
              " '5T_Acc': [0.8284023668639053,\n",
              "  0.8698224852071006,\n",
              "  0.8875739644970414,\n",
              "  0.9053254437869822,\n",
              "  0.9023668639053254,\n",
              "  0.908284023668639,\n",
              "  0.915680473372781,\n",
              "  0.9112426035502958,\n",
              "  0.915680473372781,\n",
              "  0.9452662721893491],\n",
              " '6T_Acc': [0.9263456090651558,\n",
              "  0.9348441926345609,\n",
              "  0.9447592067988668,\n",
              "  0.943342776203966,\n",
              "  0.953257790368272,\n",
              "  0.9419263456090652,\n",
              "  0.943342776203966,\n",
              "  0.9475920679886686,\n",
              "  0.9575070821529745,\n",
              "  0.9518413597733711],\n",
              " '7T_Acc': [0.8569553805774278,\n",
              "  0.8976377952755905,\n",
              "  0.9028871391076115,\n",
              "  0.916010498687664,\n",
              "  0.89501312335958,\n",
              "  0.9212598425196851,\n",
              "  0.9094488188976378,\n",
              "  0.937007874015748,\n",
              "  0.9304461942257218,\n",
              "  0.9304461942257218],\n",
              " '8T_Acc': [0.8590971272229823,\n",
              "  0.8549931600547196,\n",
              "  0.8686730506155951,\n",
              "  0.8974008207934336,\n",
              "  0.9124487004103967,\n",
              "  0.9247606019151847,\n",
              "  0.9261285909712722,\n",
              "  0.9274965800273598,\n",
              "  0.9439124487004104,\n",
              "  0.9411764705882353],\n",
              " '9T_Acc': [0.8608582574772432,\n",
              "  0.8842652795838751,\n",
              "  0.8803641092327699,\n",
              "  0.893368010403121,\n",
              "  0.8881664499349805,\n",
              "  0.9219765929778934,\n",
              "  0.9375812743823146,\n",
              "  0.9141742522756827,\n",
              "  0.9219765929778934,\n",
              "  0.9310793237971391],\n",
              " 'cm_per_epoch': [array([[692,   0,   2,   0,   0,   8,  12,   1,   4,   0,   0, 821,   2,\n",
              "            5,   1,   0,   4,   1,  15,   0,   5,  10, 670,  14,  12,   1,\n",
              "           17,  14,  38,   3,   3,   2,  17, 649,   2,  38,   3,  11,  25,\n",
              "            5,   1,   3,   3,   2, 681,   0,  10,   1,   5,  43,  12,   4,\n",
              "            2,  30,   9, 560,  13,   4,  33,   9,  15,   3,   4,   0,  10,\n",
              "           15, 654,   0,   5,   0,   2,  29,  14,   4,  13,   0,   0, 653,\n",
              "            5,  42,   7,   8,  11,  13,  12,  20,   8,  12, 628,  12,  11,\n",
              "            5,   1,  10,  40,  11,   2,  13,  14, 662]]),\n",
              "  array([[701,   0,   1,   0,   0,   4,   9,   1,   3,   0,   0, 830,   3,\n",
              "            3,   1,   0,   3,   1,   8,   0,   7,  12, 694,   6,  11,   1,\n",
              "           14,  15,  24,   0,   3,   3,  20, 661,   1,  29,   1,  16,  12,\n",
              "            9,   1,   4,   3,   0, 689,   0,  12,   3,   2,  35,  16,   1,\n",
              "            2,  22,   7, 588,   8,   7,  18,   7,  15,   3,   2,   0,  13,\n",
              "           10, 660,   0,   3,   0,   2,  18,  17,   2,  10,   0,   0, 684,\n",
              "            0,  29,  10,   8,  11,  10,  11,  22,   8,  15, 625,  11,  11,\n",
              "            6,   1,   7,  32,   8,   1,  18,   5, 680]]),\n",
              "  array([[701,   0,   1,   0,   0,   4,   9,   1,   3,   0,   0, 828,   3,\n",
              "            5,   1,   0,   3,   1,   8,   0,   6,   3, 714,   7,  10,   1,\n",
              "           15,  11,  17,   0,   3,   2,  15, 691,   2,  20,   1,  12,   6,\n",
              "            3,   1,   3,   2,   1, 704,   1,  12,   2,   3,  20,   8,   1,\n",
              "            2,  29,   2, 600,   9,   5,  15,   5,  11,   3,   3,   0,   9,\n",
              "           10, 667,   0,   3,   0,   3,  12,  20,   3,  11,   0,   1, 688,\n",
              "            2,  22,   7,   6,  10,  18,  11,  21,   8,  11, 635,   4,  11,\n",
              "            5,   0,  14,  34,   7,   1,  12,   8, 677]]),\n",
              "  array([[702,   0,   1,   0,   0,   3,  10,   1,   2,   0,   0, 832,   3,\n",
              "            3,   0,   0,   3,   1,   7,   0,   6,   5, 715,   8,   9,   1,\n",
              "           12,  10,  18,   0,   3,   1,  16, 688,   1,  19,   2,  14,   9,\n",
              "            2,   1,   2,   2,   0, 698,   0,  14,   2,   3,  27,   7,   1,\n",
              "            2,  13,   2, 612,   7,   5,  21,   6,  11,   3,   3,   0,  10,\n",
              "           10, 666,   0,   3,   0,   3,  15,  16,   3,   9,   0,   1, 698,\n",
              "            2,  15,   5,   6,   6,  12,  10,  18,   7,   9, 656,   2,   8,\n",
              "            6,   0,  11,  27,   6,   1,  14,   9, 687]]),\n",
              "  array([[704,   0,   1,   0,   0,   2,   9,   1,   2,   0,   0, 832,   3,\n",
              "            3,   0,   0,   3,   1,   7,   0,   6,   4, 733,   7,   5,   0,\n",
              "           11,   9,   9,   0,   2,   1,  18, 703,   1,  13,   1,   7,   6,\n",
              "            3,   1,   2,   3,   0, 707,   0,  14,   2,   4,  16,   7,   1,\n",
              "            2,  20,   2, 610,   8,   3,  17,   6,  10,   3,   4,   0,   8,\n",
              "            6, 673,   0,   2,   0,   3,  14,  26,   5,  10,   0,   1, 682,\n",
              "            1,  20,   5,   3,  10,  14,   9,   7,   6,   7, 667,   3,   8,\n",
              "            6,   0,  11,  34,   7,   2,   9,   9, 683]]),\n",
              "  array([[706,   0,   1,   0,   0,   2,   7,   1,   2,   0,   0, 833,   3,\n",
              "            3,   0,   0,   3,   1,   6,   0,   3,   4, 737,   8,   6,   0,\n",
              "            6,  10,  10,   0,   1,   1,  13, 706,   1,  11,   1,  11,   7,\n",
              "            3,   1,   2,   3,   0, 694,   0,  10,   2,   4,  33,   7,   1,\n",
              "            2,  17,   3, 614,   6,   4,  14,   8,   9,   3,   4,   0,  11,\n",
              "           10, 665,   0,   4,   0,   3,  11,  14,   3,   6,   0,   0, 702,\n",
              "            1,  22,   4,   3,   8,  11,   8,   7,   3,   9, 676,   2,   6,\n",
              "            6,   1,  11,  14,   5,   1,   9,   7, 709]]),\n",
              "  array([[708,   0,   0,   0,   0,   2,   6,   1,   2,   0,   0, 834,   2,\n",
              "            3,   0,   0,   3,   1,   6,   0,   6,   5, 725,   9,   9,   0,\n",
              "            7,  11,  11,   1,   1,   1,  12, 709,   1,  11,   1,   8,   6,\n",
              "            5,   1,   1,   2,   0, 705,   0,   9,   2,   2,  27,   7,   1,\n",
              "            0,  12,   6, 619,   7,   2,  13,   9,  11,   3,   2,   0,  15,\n",
              "            5, 666,   0,   4,   0,   2,  10,  11,   5,   7,   0,   0, 693,\n",
              "            1,  33,   5,   3,   2,  11,  10,   9,   3,   6, 677,   5,   8,\n",
              "            5,   0,   9,  10,   3,   0,   5,   8, 721]]),\n",
              "  array([[707,   0,   0,   0,   0,   2,   7,   1,   2,   0,   0, 833,   3,\n",
              "            3,   0,   1,   3,   1,   5,   0,   4,   2, 740,   6,   7,   0,\n",
              "            6,  10,   9,   0,   1,   1,  14, 710,   1,   9,   0,  11,   5,\n",
              "            3,   1,   1,   3,   0, 711,   0,  10,   2,   2,  19,   8,   1,\n",
              "            1,  16,   5, 616,   5,   4,  12,   8,  10,   3,   4,   0,   9,\n",
              "            5, 669,   1,   5,   0,   2,  11,  12,   2,   4,   0,   0, 714,\n",
              "            1,  16,   5,   4,   3,   9,   9,   9,   3,   8, 678,   3,  11,\n",
              "            5,   1,   8,  19,   3,   0,  11,   8, 703]]),\n",
              "  array([[707,   0,   0,   0,   0,   2,   7,   1,   2,   0,   0, 833,   3,\n",
              "            3,   0,   1,   3,   1,   5,   0,   8,   4, 737,   4,   5,   0,\n",
              "            7,   9,  10,   0,   3,   1,  12, 707,   0,  11,   0,   9,   8,\n",
              "            4,   1,   1,   3,   0, 711,   0,  10,   2,   2,  19,   8,   1,\n",
              "            0,  12,   4, 619,   7,   3,  16,   6,  10,   3,   1,   0,   9,\n",
              "            3, 676,   0,   4,   0,   3,  13,   9,   2,   4,   0,   0, 709,\n",
              "            1,  21,   6,   2,   3,   6,   7,   4,   3,   6, 690,   4,   9,\n",
              "            5,   1,   7,  17,   2,   1,   8,  10, 709]]),\n",
              "  array([[708,   0,   0,   0,   0,   2,   6,   1,   2,   0,   0, 833,   3,\n",
              "            3,   0,   1,   3,   1,   5,   0,   9,   2, 741,   4,   6,   0,\n",
              "            6,   7,   9,   0,   2,   1,  13, 710,   0,  11,   0,   9,   6,\n",
              "            3,   1,   1,   3,   0, 708,   0,  10,   2,   2,  22,   6,   1,\n",
              "            1,  10,   3, 639,   5,   1,   6,   4,  11,   3,   2,   0,   7,\n",
              "            6, 672,   1,   4,   0,   3,  12,  10,   4,   3,   0,   0, 709,\n",
              "            2,  19,   5,   2,   3,   9,   6,   8,   4,   3, 688,   3,   9,\n",
              "            4,   0,   6,  13,   4,   0,   7,  10, 716]])],\n",
              " 'f1_micro': [0.8893333333333333,\n",
              "  0.9082666666666667,\n",
              "  0.9206666666666665,\n",
              "  0.9271999999999999,\n",
              "  0.9325333333333332,\n",
              "  0.9389333333333333,\n",
              "  0.9409333333333333,\n",
              "  0.9441333333333334,\n",
              "  0.9464,\n",
              "  0.9498666666666666],\n",
              " 'f1_macro': [0.8882316895423983,\n",
              "  0.9072518662116483,\n",
              "  0.9197360516359291,\n",
              "  0.9264820191134351,\n",
              "  0.931972978287852,\n",
              "  0.9384673106675727,\n",
              "  0.9405359329313174,\n",
              "  0.9436488419240806,\n",
              "  0.9460104110230461,\n",
              "  0.949551013436824],\n",
              " 'f1_weighted': [0.8891085314112255,\n",
              "  0.9079025892372772,\n",
              "  0.9204106988444479,\n",
              "  0.9270294840723878,\n",
              "  0.932334440820145,\n",
              "  0.9388403449359909,\n",
              "  0.9408761285614053,\n",
              "  0.9440280897727742,\n",
              "  0.9463276804030822,\n",
              "  0.9498106108156728],\n",
              " 'f1_notweighted': [array([0.94342195, 0.94694348, 0.88741722, 0.87584345, 0.89077829,\n",
              "         0.8427389 , 0.9153254 , 0.88722826, 0.83566201, 0.85695793]),\n",
              "  array([0.94410774, 0.95732411, 0.90247074, 0.90177353, 0.90419948,\n",
              "         0.87892377, 0.92827004, 0.89881735, 0.87351502, 0.88311688]),\n",
              "  array([0.9537415 , 0.96728972, 0.91891892, 0.90741957, 0.91846053,\n",
              "         0.89552239, 0.93156425, 0.91428571, 0.88749126, 0.90266667]),\n",
              "  array([0.95836177, 0.96744186, 0.92377261, 0.92163429, 0.92145215,\n",
              "         0.91003717, 0.93212036, 0.92084433, 0.89801506, 0.91114058]),\n",
              "  array([0.96109215, 0.97026239, 0.92550505, 0.92621871, 0.92721311,\n",
              "         0.92354277, 0.93863319, 0.91975725, 0.91683849, 0.91066667]),\n",
              "  array([0.96778615, 0.97256276, 0.9388535 , 0.9326288 , 0.93029491,\n",
              "         0.92679245, 0.94460227, 0.92918597, 0.9247606 , 0.91720569]),\n",
              "  array([0.96457766, 0.97429907, 0.94155844, 0.93721084, 0.93253968,\n",
              "         0.93433962, 0.94602273, 0.92957746, 0.92676249, 0.91847134]),\n",
              "  array([0.96321526, 0.97426901, 0.9456869 , 0.94102054, 0.93923382,\n",
              "         0.9326268 , 0.94960965, 0.93639344, 0.93004115, 0.92439185]),\n",
              "  array([0.95929444, 0.97313084, 0.94913071, 0.94518717, 0.94422311,\n",
              "         0.93930197, 0.95211268, 0.93907285, 0.93306288, 0.92558747]),\n",
              "  array([0.96130346, 0.97540984, 0.95      , 0.94603598, 0.94715719,\n",
              "         0.94877506, 0.95184136, 0.94344644, 0.93924915, 0.93229167])]}"
            ]
          },
          "metadata": {},
          "execution_count": 5
        }
      ]
    },
    {
      "cell_type": "markdown",
      "source": [
        "##### Plot the first five epochs of training"
      ],
      "metadata": {
        "id": "3H64rblC2E0t"
      }
    },
    {
      "cell_type": "code",
      "source": [],
      "metadata": {
        "id": "Do6wWNMfzAuL"
      },
      "execution_count": 5,
      "outputs": []
    },
    {
      "cell_type": "markdown",
      "source": [
        "##### Function plot_model_history_all to model Train and Val Acc, Loss curves"
      ],
      "metadata": {
        "id": "C5vm6KbsiLSN"
      }
    },
    {
      "cell_type": "code",
      "source": [
        "# #@title: plot_model_history_all\n",
        "# def plot_model_history_all(model_history, nb_epoch=None, cm3=None): \n",
        "#   # Parameters\n",
        "#   # ----------\n",
        "#   # tot_epochs : int\n",
        "#   #     Total number of epochs for which the model was trained.\n",
        "#   # model_history : keras.callbacks.History\n",
        "#   #     The history object returned by the fit() method of the model.\n",
        "#   # cm3 : 10x10 dataframe \n",
        "#   #      10x10 dataframe of confusion matrix from predicted X_val categories\n",
        "#   # restored_weights : int\n",
        "#   #     The epoch at which the weights were restored.\n",
        "\n",
        "  \n",
        "\n",
        "#   tot_epochs = max(model_history.epoch)+1  #if the total epochs ran is 28, it'll show up as 27 in the epoch object so we must add 1\n",
        "#   # print(\"Total Epochs: \", tot_epochs)\n",
        "\n",
        "#   #if tot_epochs is the total number of epochs ran then early stop did not happen, and we need not minus patience\n",
        "#   if tot_epochs == nb_epoch:\n",
        "#     restored_weights = tot_epochs\n",
        "#   else:\n",
        "#     restored_weights  = tot_epochs-patience   #when using restore-best-weights and patience, it'll restore the best weights back\n",
        "#   # print(\"Restored weights at \", restored_weights, \"Patience used: \", patience)\n",
        "\n",
        "#   ax[0].plot(range(1,tot_epochs+1), model_history.history['categorical_accuracy'], color='blue',           )\n",
        "#   ax[0].plot(range(1,tot_epochs+1), model_history.history['val_categorical_accuracy'] , color='orange',    )\n",
        "#   ax[0].scatter((restored_weights), model_history.history['val_categorical_accuracy'][restored_weights-1] , color='orange')\n",
        "#   ax[0].scatter(restored_weights, model_history.history['categorical_accuracy'][restored_weights-1], color='blue')\n",
        "#   ax[0].annotate(text=str(restored_weights),  xy=(restored_weights, model_history.history['val_categorical_accuracy'][restored_weights-1]),\n",
        "#                   textcoords=\"offset points\", xytext=(0,10), ha='center', color='black')\n",
        "#   # ax[0].legend()\n",
        "#   ax[0].set_title('Training (Blue) and Validation (Orange) Accuracy', fontsize='8')\n",
        "\n",
        "#   ax[1].plot(range(1,tot_epochs+1), model_history.history['loss'], color= 'blue',  )\n",
        "#   ax[1].plot(range(1,tot_epochs+1), model_history.history['val_loss'], color='orange',  )\n",
        "#   ax[1].scatter(restored_weights, model_history.history['loss'][restored_weights-1], color='blue')\n",
        "#   ax[1].scatter((restored_weights), model_history.history['val_loss'][restored_weights-1] , color='orange')\n",
        "#   ax[1].annotate(text=str(restored_weights),  xy=(restored_weights, model_history.history['val_loss'][restored_weights-1]),\n",
        "#                   textcoords=\"offset points\", xytext=(0,10), ha='center')\n",
        "#   # ax[1].legend()\n",
        "#   ax[1].set_title('Training (Blue) and Validation (Orange) Loss' , fontsize='8')\n",
        "\n",
        "\n",
        "#   plt.gcf().set_size_inches(10, 5)  # this works \n",
        "#   # plt.gcf().suptitle(f\"Lambda Value {lambda_val} for {nb_epoch} Epochs and Patience {patience} \" )"
      ],
      "metadata": {
        "id": "AWTBEQFADItf"
      },
      "execution_count": 6,
      "outputs": []
    },
    {
      "cell_type": "code",
      "source": [
        "#Learning Rate 0.001\n",
        "# fig = plt.figure(figsize=(20, 10)) \n",
        "# fig, ax = plt.subplots(1,2)\n",
        "# plot_model_history_all(model_history, 5)\n",
        "# plt.show()"
      ],
      "metadata": {
        "id": "Z2t3Q3X2mQpn"
      },
      "execution_count": 7,
      "outputs": []
    },
    {
      "cell_type": "code",
      "source": [
        "# #Learning Rate 0.01\n",
        "# fig = plt.figure(figsize=(20, 10)) \n",
        "# fig, ax = plt.subplots(1,2)\n",
        "# plot_model_history_all(model_history, 5)\n",
        "# plt.show()"
      ],
      "metadata": {
        "id": "09FZYzHKB1vr"
      },
      "execution_count": 8,
      "outputs": []
    },
    {
      "cell_type": "code",
      "source": [
        "# #Learning Rate 0.1\n",
        "# fig = plt.figure(figsize=(20, 10)) \n",
        "# fig, ax = plt.subplots(1,2)\n",
        "# plot_model_history_all(model_history, 5)\n",
        "# plt.show()"
      ],
      "metadata": {
        "id": "TnsGkHnDC2eA",
        "outputId": "6f68510c-e5b3-40cf-d564-f28c115a9d35",
        "colab": {
          "base_uri": "https://localhost:8080/",
          "height": 479
        }
      },
      "execution_count": 19,
      "outputs": [
        {
          "output_type": "display_data",
          "data": {
            "text/plain": [
              "<Figure size 2000x1000 with 0 Axes>"
            ]
          },
          "metadata": {}
        },
        {
          "output_type": "display_data",
          "data": {
            "text/plain": [
              "<Figure size 1000x500 with 2 Axes>"
            ],
            "image/png": "[encoded data removed]"
          },
          "metadata": {}
        }
      ]
    },
    {
      "cell_type": "markdown",
      "source": [
        "The code below to generate variations of the model training / validation results after training with a cost matrix 30 times did not produce any variability.   Therefore I want to shuffle the training/validation deck randomly between training sessions to see if that helps introduce some randomness.  "
      ],
      "metadata": {
        "id": "RLYZ6gR4WjKi"
      }
    },
    {
      "cell_type": "markdown",
      "source": [
        "#### The Training Runs - Commented out to ensure not run again when the notebook is saved with output"
      ],
      "metadata": {
        "id": "V_lUeeXP2Q5L"
      }
    },
    {
      "cell_type": "markdown",
      "source": [
        "This takes hours to run for about 40 replications so usually after running, I save the out put to GitHub for easy lookup later"
      ],
      "metadata": {
        "id": "owkJgwju2a52"
      }
    },
    {
      "cell_type": "code",
      "source": [
        "#@title\n",
        "from google.colab import files\n",
        "\n",
        "## -----------------------------------------------------------------------------------------------------\n",
        "## Now we need to load the weights of the model, and continue training with a different cost matrix\n",
        "## ------------------------------------------------------------------------------------------------------\n",
        "# load the model weights\n",
        "# model.load_weights('initial_5epochs.h5') \n",
        "\n",
        "cost_matrix = np.ones((10,10))\n",
        "\n",
        "model_history_all = []\n",
        "cm_all            = []\n",
        "\n",
        "# cost_list = [10, 100, 1000, 1] # Each one takes about 2 minutes 5*4*2=40 minutes for 5 costs/4 reps -- actually all took 40 reps took almost  1.5 hours\n",
        "cost_list = [1] # Each one takes about 2 minutes 5*4*2=40 minutes for 5 costs/4 reps -- actually all took 40 reps took almost  1.5 hours\n",
        "reps = 30\n",
        "\n",
        "for k in cost_list:\n",
        "  for i in range(reps):\n",
        "    print(\"starting rep \", i, \" for \", k , \"-cost.\")\n",
        "\n",
        "    cost_matrix[9,4] = k\n",
        "    model = create_model()\n",
        "\n",
        "    # model.load_weights('initial_10epochs.h5')\n",
        "\n",
        "    #I may need to re-initiate the optimizer to have a smaller learning rate\n",
        "    model.compile(loss=WeightedCategoricalCrossentropy(cost_matrix), optimizer=sgd,  metrics='categorical_accuracy',)\n",
        "    \n",
        "    nb_epoch = 10\n",
        "    # patience = 20\n",
        "\n",
        "    # es_callback = tf.keras.callbacks.EarlyStopping(monitor='val_loss', patience=patience, verbose=1, restore_best_weights = True)\n",
        "\n",
        "    X_train_shuffled = shuffle(X_train, random_state=42+i)\n",
        "    Y_train_shuffled = shuffle(Y_train, random_state=42+i)\n",
        " \n",
        "\n",
        "    history = model.fit(X_train_shuffled, Y_train_shuffled,          batch_size=batch_size, epochs=nb_epoch, verbose=0,\n",
        "            validation_data=(X_val, Y_val), shuffle=True, use_multiprocessing=True, callbacks = [ cm_callback, f1_callback])\n",
        "\n",
        "    cm3 = return_cm(model)\n",
        "\n",
        "    del(history.model)\n",
        "    model_history_all.append(history)\n",
        "    cm_all.append(cm3)\n",
        "    ## Now I need to plot all of the \"model_history_all\"\n",
        "\n",
        "    import pickle\n",
        "\n",
        "    # save the variable to a pickle file\n",
        "    with open('initial_10_secondphase_lambda_history.pkl', 'wb') as f:\n",
        "        pickle.dump(model_history_all, f)\n",
        "\n",
        "    files.download('initial_10_secondphase_lambda_history.pkl')\n",
        "\n",
        "    with open('initial_10_secondphase_lambda_cm.pkl', 'wb') as f:\n",
        "        pickle.dump(cm_all, f)\n",
        "\n",
        "    files.download('initial_10_secondphase_lambda_cm.pkl')\n",
        "\n",
        "\n",
        "  # print(model_history_all) #18 items into _ is taking 1 hours and 3 minutes!  perhaps im not usng the right settings - i have no-accelerator on google colab"
      ],
      "metadata": {
        "id": "ZFgEx-T-fg28",
        "outputId": "b3dd6871-906c-49f3-a358-cbd8434485c1",
        "colab": {
          "base_uri": "https://localhost:8080/",
          "height": 1000
        },
        "collapsed": true
      },
      "execution_count": 10,
      "outputs": [
        {
          "output_type": "stream",
          "name": "stdout",
          "text": [
            "starting rep  0  for  10 -cost.\n",
            "Epoch 1/10\n",
            "235/235 [==============================] - 2s 8ms/step - loss: 0.2727 - categorical_accuracy: 0.9240 - val_loss: 0.1833 - val_categorical_accuracy: 0.9505 - 9T_4P: 7.0000 - 4T_9P: 28.0000 - 0T_Acc: 0.9819 - 1T_Acc: 0.9835 - 2T_Acc: 0.9605 - 3T_Acc: 0.9364 - 4T_Acc: 0.9386 - 5T_Acc: 0.9290 - 6T_Acc: 0.9561 - 7T_Acc: 0.9278 - 8T_Acc: 0.9412 - 9T_Acc: 0.9454 - cm_per_epoch: 75.0000 - f1_micro: 0.9505 - f1_macro: 0.9503 - f1_weighted: 0.9505 - f1_notweighted: 0.9503\n",
            "Epoch 2/10\n",
            "235/235 [==============================] - 2s 8ms/step - loss: 0.2580 - categorical_accuracy: 0.9273 - val_loss: 0.1967 - val_categorical_accuracy: 0.9499 - 9T_4P: 13.0000 - 4T_9P: 21.0000 - 0T_Acc: 0.9847 - 1T_Acc: 0.9823 - 2T_Acc: 0.9605 - 3T_Acc: 0.9232 - 4T_Acc: 0.9426 - 5T_Acc: 0.9379 - 6T_Acc: 0.9646 - 7T_Acc: 0.9396 - 8T_Acc: 0.9439 - 9T_Acc: 0.9168 - cm_per_epoch: 75.0000 - f1_micro: 0.9499 - f1_macro: 0.9495 - f1_weighted: 0.9498 - f1_notweighted: 0.9495\n",
            "Epoch 3/10\n",
            "235/235 [==============================] - 2s 7ms/step - loss: 0.2527 - categorical_accuracy: 0.9297 - val_loss: 0.1776 - val_categorical_accuracy: 0.9508 - 9T_4P: 8.0000 - 4T_9P: 32.0000 - 0T_Acc: 0.9833 - 1T_Acc: 0.9812 - 2T_Acc: 0.9375 - 3T_Acc: 0.9444 - 4T_Acc: 0.9359 - 5T_Acc: 0.9260 - 6T_Acc: 0.9618 - 7T_Acc: 0.9423 - 8T_Acc: 0.9508 - 9T_Acc: 0.9415 - cm_per_epoch: 75.0000 - f1_micro: 0.9508 - f1_macro: 0.9505 - f1_weighted: 0.9508 - f1_notweighted: 0.9505\n",
            "Epoch 4/10\n",
            "235/235 [==============================] - 2s 7ms/step - loss: 0.2424 - categorical_accuracy: 0.9332 - val_loss: 0.1850 - val_categorical_accuracy: 0.9508 - 9T_4P: 12.0000 - 4T_9P: 18.0000 - 0T_Acc: 0.9861 - 1T_Acc: 0.9847 - 2T_Acc: 0.9592 - 3T_Acc: 0.9523 - 4T_Acc: 0.9533 - 5T_Acc: 0.9172 - 6T_Acc: 0.9533 - 7T_Acc: 0.9462 - 8T_Acc: 0.9166 - 9T_Acc: 0.9324 - cm_per_epoch: 75.0000 - f1_micro: 0.9508 - f1_macro: 0.9504 - f1_weighted: 0.9507 - f1_notweighted: 0.9504\n",
            "Epoch 5/10\n",
            "235/235 [==============================] - 2s 7ms/step - loss: 0.2366 - categorical_accuracy: 0.9344 - val_loss: 0.1684 - val_categorical_accuracy: 0.9532 - 9T_4P: 5.0000 - 4T_9P: 38.0000 - 0T_Acc: 0.9847 - 1T_Acc: 0.9823 - 2T_Acc: 0.9630 - 3T_Acc: 0.9470 - 4T_Acc: 0.9239 - 5T_Acc: 0.9320 - 6T_Acc: 0.9632 - 7T_Acc: 0.9423 - 8T_Acc: 0.9453 - 9T_Acc: 0.9441 - cm_per_epoch: 75.0000 - f1_micro: 0.9532 - f1_macro: 0.9530 - f1_weighted: 0.9531 - f1_notweighted: 0.9530\n",
            "Epoch 6/10\n",
            "235/235 [==============================] - 2s 7ms/step - loss: 0.2307 - categorical_accuracy: 0.9357 - val_loss: 0.1719 - val_categorical_accuracy: 0.9563 - 9T_4P: 10.0000 - 4T_9P: 21.0000 - 0T_Acc: 0.9861 - 1T_Acc: 0.9835 - 2T_Acc: 0.9605 - 3T_Acc: 0.9430 - 4T_Acc: 0.9546 - 5T_Acc: 0.9541 - 6T_Acc: 0.9547 - 7T_Acc: 0.9423 - 8T_Acc: 0.9412 - 9T_Acc: 0.9402 - cm_per_epoch: 75.0000 - f1_micro: 0.9563 - f1_macro: 0.9560 - f1_weighted: 0.9562 - f1_notweighted: 0.9560\n",
            "Epoch 7/10\n",
            "235/235 [==============================] - 2s 7ms/step - loss: 0.2289 - categorical_accuracy: 0.9351 - val_loss: 0.1645 - val_categorical_accuracy: 0.9563 - 9T_4P: 7.0000 - 4T_9P: 23.0000 - 0T_Acc: 0.9861 - 1T_Acc: 0.9823 - 2T_Acc: 0.9643 - 3T_Acc: 0.9470 - 4T_Acc: 0.9493 - 5T_Acc: 0.9467 - 6T_Acc: 0.9575 - 7T_Acc: 0.9449 - 8T_Acc: 0.9384 - 9T_Acc: 0.9428 - cm_per_epoch: 75.0000 - f1_micro: 0.9563 - f1_macro: 0.9560 - f1_weighted: 0.9562 - f1_notweighted: 0.9560\n",
            "Epoch 8/10\n",
            "235/235 [==============================] - 2s 7ms/step - loss: 0.2229 - categorical_accuracy: 0.9368 - val_loss: 0.1666 - val_categorical_accuracy: 0.9583 - 9T_4P: 9.0000 - 4T_9P: 16.0000 - 0T_Acc: 0.9819 - 1T_Acc: 0.9823 - 2T_Acc: 0.9668 - 3T_Acc: 0.9510 - 4T_Acc: 0.9613 - 5T_Acc: 0.9467 - 6T_Acc: 0.9646 - 7T_Acc: 0.9436 - 8T_Acc: 0.9384 - 9T_Acc: 0.9428 - cm_per_epoch: 75.0000 - f1_micro: 0.9583 - f1_macro: 0.9580 - f1_weighted: 0.9582 - f1_notweighted: 0.9580\n",
            "Epoch 9/10\n",
            "235/235 [==============================] - 2s 7ms/step - loss: 0.2128 - categorical_accuracy: 0.9397 - val_loss: 0.1598 - val_categorical_accuracy: 0.9591 - 9T_4P: 9.0000 - 4T_9P: 22.0000 - 0T_Acc: 0.9847 - 1T_Acc: 0.9823 - 2T_Acc: 0.9668 - 3T_Acc: 0.9444 - 4T_Acc: 0.9506 - 5T_Acc: 0.9482 - 6T_Acc: 0.9674 - 7T_Acc: 0.9488 - 8T_Acc: 0.9535 - 9T_Acc: 0.9415 - cm_per_epoch: 75.0000 - f1_micro: 0.9591 - f1_macro: 0.9588 - f1_weighted: 0.9590 - f1_notweighted: 0.9588\n",
            "Epoch 10/10\n",
            "235/235 [==============================] - 2s 8ms/step - loss: 0.2122 - categorical_accuracy: 0.9402 - val_loss: 0.1554 - val_categorical_accuracy: 0.9585 - 9T_4P: 6.0000 - 4T_9P: 32.0000 - 0T_Acc: 0.9833 - 1T_Acc: 0.9859 - 2T_Acc: 0.9605 - 3T_Acc: 0.9510 - 4T_Acc: 0.9399 - 5T_Acc: 0.9467 - 6T_Acc: 0.9589 - 7T_Acc: 0.9501 - 8T_Acc: 0.9521 - 9T_Acc: 0.9532 - cm_per_epoch: 75.0000 - f1_micro: 0.9585 - f1_macro: 0.9584 - f1_weighted: 0.9585 - f1_notweighted: 0.9584\n"
          ]
        },
        {
          "output_type": "display_data",
          "data": {
            "text/plain": [
              "<IPython.core.display.Javascript object>"
            ],
            "application/javascript": [
              "\n",
              "    async function download(id, filename, size) {\n",
              "      if (!google.colab.kernel.accessAllowed) {\n",
              "        return;\n",
              "      }\n",
              "      const div = document.createElement('div');\n",
              "      const label = document.createElement('label');\n",
              "      label.textContent = `Downloading \"${filename}\": `;\n",
              "      div.appendChild(label);\n",
              "      const progress = document.createElement('progress');\n",
              "      progress.max = size;\n",
              "      div.appendChild(progress);\n",
              "      document.body.appendChild(div);\n",
              "\n",
              "      const buffers = [];\n",
              "      let downloaded = 0;\n",
              "\n",
              "      const channel = await google.colab.kernel.comms.open(id);\n",
              "      // Send a message to notify the kernel that we're ready.\n",
              "      channel.send({})\n",
              "\n",
              "      for await (const message of channel.messages) {\n",
              "        // Send a message to notify the kernel that we're ready.\n",
              "        channel.send({})\n",
              "        if (message.buffers) {\n",
              "          for (const buffer of message.buffers) {\n",
              "            buffers.push(buffer);\n",
              "            downloaded += buffer.byteLength;\n",
              "            progress.value = downloaded;\n",
              "          }\n",
              "        }\n",
              "      }\n",
              "      const blob = new Blob(buffers, {type: 'application/binary'});\n",
              "      const a = document.createElement('a');\n",
              "      a.href = window.URL.createObjectURL(blob);\n",
              "      a.download = filename;\n",
              "      div.appendChild(a);\n",
              "      a.click();\n",
              "      div.remove();\n",
              "    }\n",
              "  "
            ]
          },
          "metadata": {}
        },
        {
          "output_type": "display_data",
          "data": {
            "text/plain": [
              "<IPython.core.display.Javascript object>"
            ],
            "application/javascript": [
              "download(\"download_574c366a-6672-4ed8-bf44-c27596f59889\", \"initial_10_secondphase_lambda_history.pkl\", 13514)"
            ]
          },
          "metadata": {}
        },
        {
          "output_type": "display_data",
          "data": {
            "text/plain": [
              "<IPython.core.display.Javascript object>"
            ],
            "application/javascript": [
              "\n",
              "    async function download(id, filename, size) {\n",
              "      if (!google.colab.kernel.accessAllowed) {\n",
              "        return;\n",
              "      }\n",
              "      const div = document.createElement('div');\n",
              "      const label = document.createElement('label');\n",
              "      label.textContent = `Downloading \"${filename}\": `;\n",
              "      div.appendChild(label);\n",
              "      const progress = document.createElement('progress');\n",
              "      progress.max = size;\n",
              "      div.appendChild(progress);\n",
              "      document.body.appendChild(div);\n",
              "\n",
              "      const buffers = [];\n",
              "      let downloaded = 0;\n",
              "\n",
              "      const channel = await google.colab.kernel.comms.open(id);\n",
              "      // Send a message to notify the kernel that we're ready.\n",
              "      channel.send({})\n",
              "\n",
              "      for await (const message of channel.messages) {\n",
              "        // Send a message to notify the kernel that we're ready.\n",
              "        channel.send({})\n",
              "        if (message.buffers) {\n",
              "          for (const buffer of message.buffers) {\n",
              "            buffers.push(buffer);\n",
              "            downloaded += buffer.byteLength;\n",
              "            progress.value = downloaded;\n",
              "          }\n",
              "        }\n",
              "      }\n",
              "      const blob = new Blob(buffers, {type: 'application/binary'});\n",
              "      const a = document.createElement('a');\n",
              "      a.href = window.URL.createObjectURL(blob);\n",
              "      a.download = filename;\n",
              "      div.appendChild(a);\n",
              "      a.click();\n",
              "      div.remove();\n",
              "    }\n",
              "  "
            ]
          },
          "metadata": {}
        },
        {
          "output_type": "display_data",
          "data": {
            "text/plain": [
              "<IPython.core.display.Javascript object>"
            ],
            "application/javascript": [
              "download(\"download_568c62d9-1618-4367-9e79-ca2420d63fa9\", \"initial_10_secondphase_lambda_cm.pkl\", 1384)"
            ]
          },
          "metadata": {}
        },
        {
          "output_type": "stream",
          "name": "stdout",
          "text": [
            "starting rep  0  for  100 -cost.\n",
            "Epoch 1/10\n",
            "235/235 [==============================] - 2s 8ms/step - loss: 0.5109 - categorical_accuracy: 0.8583 - val_loss: 0.3099 - val_categorical_accuracy: 0.8904 - 9T_4P: 2.0000 - 4T_9P: 447.0000 - 0T_Acc: 0.9764 - 1T_Acc: 0.9847 - 2T_Acc: 0.9566 - 3T_Acc: 0.9219 - 4T_Acc: 0.3698 - 5T_Acc: 0.9201 - 6T_Acc: 0.9674 - 7T_Acc: 0.9278 - 8T_Acc: 0.9357 - 9T_Acc: 0.9376 - cm_per_epoch: 75.0000 - f1_micro: 0.8904 - f1_macro: 0.8840 - f1_weighted: 0.8839 - f1_notweighted: 0.8840\n",
            "Epoch 2/10\n",
            "235/235 [==============================] - 2s 7ms/step - loss: 0.3985 - categorical_accuracy: 0.8873 - val_loss: 0.3171 - val_categorical_accuracy: 0.9379 - 9T_4P: 5.0000 - 4T_9P: 98.0000 - 0T_Acc: 0.9805 - 1T_Acc: 0.9788 - 2T_Acc: 0.9490 - 3T_Acc: 0.9219 - 4T_Acc: 0.8358 - 5T_Acc: 0.9408 - 6T_Acc: 0.9703 - 7T_Acc: 0.9409 - 8T_Acc: 0.9248 - 9T_Acc: 0.9337 - cm_per_epoch: 75.0000 - f1_micro: 0.9379 - f1_macro: 0.9375 - f1_weighted: 0.9377 - f1_notweighted: 0.9375\n",
            "Epoch 3/10\n",
            "235/235 [==============================] - 2s 7ms/step - loss: 0.3803 - categorical_accuracy: 0.8946 - val_loss: 0.2314 - val_categorical_accuracy: 0.9292 - 9T_4P: 1.0000 - 4T_9P: 164.0000 - 0T_Acc: 0.9819 - 1T_Acc: 0.9812 - 2T_Acc: 0.9401 - 3T_Acc: 0.9364 - 4T_Acc: 0.7623 - 5T_Acc: 0.9260 - 6T_Acc: 0.9575 - 7T_Acc: 0.9265 - 8T_Acc: 0.9330 - 9T_Acc: 0.9428 - cm_per_epoch: 75.0000 - f1_micro: 0.9292 - f1_macro: 0.9291 - f1_weighted: 0.9292 - f1_notweighted: 0.9291\n",
            "Epoch 4/10\n",
            "235/235 [==============================] - 2s 7ms/step - loss: 0.3670 - categorical_accuracy: 0.8957 - val_loss: 0.2874 - val_categorical_accuracy: 0.9391 - 9T_4P: 5.0000 - 4T_9P: 84.0000 - 0T_Acc: 0.9833 - 1T_Acc: 0.9835 - 2T_Acc: 0.9464 - 3T_Acc: 0.9497 - 4T_Acc: 0.8638 - 5T_Acc: 0.9172 - 6T_Acc: 0.9618 - 7T_Acc: 0.9357 - 8T_Acc: 0.9111 - 9T_Acc: 0.9324 - cm_per_epoch: 75.0000 - f1_micro: 0.9391 - f1_macro: 0.9388 - f1_weighted: 0.9390 - f1_notweighted: 0.9388\n",
            "Epoch 5/10\n",
            "235/235 [==============================] - 2s 8ms/step - loss: 0.3361 - categorical_accuracy: 0.9057 - val_loss: 0.2414 - val_categorical_accuracy: 0.9291 - 9T_4P: 2.0000 - 4T_9P: 188.0000 - 0T_Acc: 0.9777 - 1T_Acc: 0.9847 - 2T_Acc: 0.9490 - 3T_Acc: 0.9338 - 4T_Acc: 0.7183 - 5T_Acc: 0.9349 - 6T_Acc: 0.9660 - 7T_Acc: 0.9252 - 8T_Acc: 0.9494 - 9T_Acc: 0.9480 - cm_per_epoch: 75.0000 - f1_micro: 0.9291 - f1_macro: 0.9287 - f1_weighted: 0.9287 - f1_notweighted: 0.9287\n",
            "Epoch 6/10\n",
            "235/235 [==============================] - 2s 7ms/step - loss: 0.3112 - categorical_accuracy: 0.9126 - val_loss: 0.2308 - val_categorical_accuracy: 0.9391 - 9T_4P: 2.0000 - 4T_9P: 118.0000 - 0T_Acc: 0.9875 - 1T_Acc: 0.9823 - 2T_Acc: 0.9452 - 3T_Acc: 0.9338 - 4T_Acc: 0.8184 - 5T_Acc: 0.9482 - 6T_Acc: 0.9575 - 7T_Acc: 0.9239 - 8T_Acc: 0.9412 - 9T_Acc: 0.9506 - cm_per_epoch: 75.0000 - f1_micro: 0.9391 - f1_macro: 0.9390 - f1_weighted: 0.9390 - f1_notweighted: 0.9390\n",
            "Epoch 7/10\n",
            "235/235 [==============================] - 2s 7ms/step - loss: 0.3222 - categorical_accuracy: 0.9095 - val_loss: 0.2116 - val_categorical_accuracy: 0.9231 - 9T_4P: 0.0000e+00 - 4T_9P: 245.0000 - 0T_Acc: 0.9833 - 1T_Acc: 0.9835 - 2T_Acc: 0.9464 - 3T_Acc: 0.9444 - 4T_Acc: 0.6515 - 5T_Acc: 0.9453 - 6T_Acc: 0.9603 - 7T_Acc: 0.9252 - 8T_Acc: 0.9343 - 9T_Acc: 0.9532 - cm_per_epoch: 75.0000 - f1_micro: 0.9231 - f1_macro: 0.9226 - f1_weighted: 0.9226 - f1_notweighted: 0.9226\n",
            "Epoch 8/10\n",
            "235/235 [==============================] - 2s 7ms/step - loss: 0.2990 - categorical_accuracy: 0.9155 - val_loss: 0.2777 - val_categorical_accuracy: 0.9455 - 9T_4P: 5.0000 - 4T_9P: 87.0000 - 0T_Acc: 0.9805 - 1T_Acc: 0.9835 - 2T_Acc: 0.9515 - 3T_Acc: 0.9404 - 4T_Acc: 0.8678 - 5T_Acc: 0.9334 - 6T_Acc: 0.9632 - 7T_Acc: 0.9383 - 8T_Acc: 0.9439 - 9T_Acc: 0.9480 - cm_per_epoch: 75.0000 - f1_micro: 0.9455 - f1_macro: 0.9453 - f1_weighted: 0.9455 - f1_notweighted: 0.9453\n",
            "Epoch 9/10\n",
            "235/235 [==============================] - 2s 7ms/step - loss: 0.2869 - categorical_accuracy: 0.9196 - val_loss: 0.2106 - val_categorical_accuracy: 0.9493 - 9T_4P: 3.0000 - 4T_9P: 68.0000 - 0T_Acc: 0.9819 - 1T_Acc: 0.9835 - 2T_Acc: 0.9503 - 3T_Acc: 0.9417 - 4T_Acc: 0.8905 - 5T_Acc: 0.9541 - 6T_Acc: 0.9603 - 7T_Acc: 0.9357 - 8T_Acc: 0.9494 - 9T_Acc: 0.9441 - cm_per_epoch: 75.0000 - f1_micro: 0.9493 - f1_macro: 0.9493 - f1_weighted: 0.9493 - f1_notweighted: 0.9493\n",
            "Epoch 10/10\n",
            "235/235 [==============================] - 2s 7ms/step - loss: 0.2683 - categorical_accuracy: 0.9247 - val_loss: 0.2781 - val_categorical_accuracy: 0.9109 - 9T_4P: 2.0000 - 4T_9P: 348.0000 - 0T_Acc: 0.9861 - 1T_Acc: 0.9812 - 2T_Acc: 0.9426 - 3T_Acc: 0.9550 - 4T_Acc: 0.5194 - 5T_Acc: 0.9334 - 6T_Acc: 0.9462 - 7T_Acc: 0.9318 - 8T_Acc: 0.9466 - 9T_Acc: 0.9623 - cm_per_epoch: 75.0000 - f1_micro: 0.9109 - f1_macro: 0.9091 - f1_weighted: 0.9089 - f1_notweighted: 0.9091\n"
          ]
        },
        {
          "output_type": "display_data",
          "data": {
            "text/plain": [
              "<IPython.core.display.Javascript object>"
            ],
            "application/javascript": [
              "\n",
              "    async function download(id, filename, size) {\n",
              "      if (!google.colab.kernel.accessAllowed) {\n",
              "        return;\n",
              "      }\n",
              "      const div = document.createElement('div');\n",
              "      const label = document.createElement('label');\n",
              "      label.textContent = `Downloading \"${filename}\": `;\n",
              "      div.appendChild(label);\n",
              "      const progress = document.createElement('progress');\n",
              "      progress.max = size;\n",
              "      div.appendChild(progress);\n",
              "      document.body.appendChild(div);\n",
              "\n",
              "      const buffers = [];\n",
              "      let downloaded = 0;\n",
              "\n",
              "      const channel = await google.colab.kernel.comms.open(id);\n",
              "      // Send a message to notify the kernel that we're ready.\n",
              "      channel.send({})\n",
              "\n",
              "      for await (const message of channel.messages) {\n",
              "        // Send a message to notify the kernel that we're ready.\n",
              "        channel.send({})\n",
              "        if (message.buffers) {\n",
              "          for (const buffer of message.buffers) {\n",
              "            buffers.push(buffer);\n",
              "            downloaded += buffer.byteLength;\n",
              "            progress.value = downloaded;\n",
              "          }\n",
              "        }\n",
              "      }\n",
              "      const blob = new Blob(buffers, {type: 'application/binary'});\n",
              "      const a = document.createElement('a');\n",
              "      a.href = window.URL.createObjectURL(blob);\n",
              "      a.download = filename;\n",
              "      div.appendChild(a);\n",
              "      a.click();\n",
              "      div.remove();\n",
              "    }\n",
              "  "
            ]
          },
          "metadata": {}
        },
        {
          "output_type": "display_data",
          "data": {
            "text/plain": [
              "<IPython.core.display.Javascript object>"
            ],
            "application/javascript": [
              "download(\"download_c9537011-e70e-4157-bd37-5bcd587f1bec\", \"initial_10_secondphase_lambda_history.pkl\", 26629)"
            ]
          },
          "metadata": {}
        },
        {
          "output_type": "display_data",
          "data": {
            "text/plain": [
              "<IPython.core.display.Javascript object>"
            ],
            "application/javascript": [
              "\n",
              "    async function download(id, filename, size) {\n",
              "      if (!google.colab.kernel.accessAllowed) {\n",
              "        return;\n",
              "      }\n",
              "      const div = document.createElement('div');\n",
              "      const label = document.createElement('label');\n",
              "      label.textContent = `Downloading \"${filename}\": `;\n",
              "      div.appendChild(label);\n",
              "      const progress = document.createElement('progress');\n",
              "      progress.max = size;\n",
              "      div.appendChild(progress);\n",
              "      document.body.appendChild(div);\n",
              "\n",
              "      const buffers = [];\n",
              "      let downloaded = 0;\n",
              "\n",
              "      const channel = await google.colab.kernel.comms.open(id);\n",
              "      // Send a message to notify the kernel that we're ready.\n",
              "      channel.send({})\n",
              "\n",
              "      for await (const message of channel.messages) {\n",
              "        // Send a message to notify the kernel that we're ready.\n",
              "        channel.send({})\n",
              "        if (message.buffers) {\n",
              "          for (const buffer of message.buffers) {\n",
              "            buffers.push(buffer);\n",
              "            downloaded += buffer.byteLength;\n",
              "            progress.value = downloaded;\n",
              "          }\n",
              "        }\n",
              "      }\n",
              "      const blob = new Blob(buffers, {type: 'application/binary'});\n",
              "      const a = document.createElement('a');\n",
              "      a.href = window.URL.createObjectURL(blob);\n",
              "      a.download = filename;\n",
              "      div.appendChild(a);\n",
              "      a.click();\n",
              "      div.remove();\n",
              "    }\n",
              "  "
            ]
          },
          "metadata": {}
        },
        {
          "output_type": "display_data",
          "data": {
            "text/plain": [
              "<IPython.core.display.Javascript object>"
            ],
            "application/javascript": [
              "download(\"download_2f529c3d-e691-4d79-af04-6f07832dcba3\", \"initial_10_secondphase_lambda_cm.pkl\", 2338)"
            ]
          },
          "metadata": {}
        },
        {
          "output_type": "stream",
          "name": "stdout",
          "text": [
            "starting rep  0  for  1000 -cost.\n",
            "Epoch 1/10\n",
            "235/235 [==============================] - 2s 8ms/step - loss: 3.8938 - categorical_accuracy: 0.2786 - val_loss: 1.2806 - val_categorical_accuracy: 0.5295 - 9T_4P: 0.0000e+00 - 4T_9P: 596.0000 - 0T_Acc: 0.9624 - 1T_Acc: 0.9812 - 2T_Acc: 0.8980 - 3T_Acc: 0.8556 - 4T_Acc: 0.0000e+00 - 5T_Acc: 0.2899 - 6T_Acc: 0.1473 - 7T_Acc: 0.0184 - 8T_Acc: 0.1874 - 9T_Acc: 0.8388 - cm_per_epoch: 75.0000 - f1_micro: 0.5295 - f1_macro: 0.4420 - f1_weighted: 0.4483 - f1_notweighted: 0.4420\n",
            "Epoch 2/10\n",
            "235/235 [==============================] - 2s 7ms/step - loss: 1.5648 - categorical_accuracy: 0.4525 - val_loss: 1.0424 - val_categorical_accuracy: 0.6387 - 9T_4P: 0.0000e+00 - 4T_9P: 575.0000 - 0T_Acc: 0.8832 - 1T_Acc: 0.9529 - 2T_Acc: 0.7589 - 3T_Acc: 0.8649 - 4T_Acc: 0.0000e+00 - 5T_Acc: 0.7663 - 6T_Acc: 0.9278 - 7T_Acc: 0.0118 - 8T_Acc: 0.4925 - 9T_Acc: 0.7230 - cm_per_epoch: 75.0000 - f1_micro: 0.6387 - f1_macro: 0.5894 - f1_weighted: 0.5901 - f1_notweighted: 0.5894\n",
            "Epoch 3/10\n",
            "235/235 [==============================] - 2s 7ms/step - loss: 3.2677 - categorical_accuracy: 0.4397 - val_loss: 2.5398 - val_categorical_accuracy: 0.1060 - 9T_4P: 0.0000e+00 - 4T_9P: 749.0000 - 0T_Acc: 0.0348 - 1T_Acc: 0.0000e+00 - 2T_Acc: 0.0013 - 3T_Acc: 0.0000e+00 - 4T_Acc: 0.0000e+00 - 5T_Acc: 0.0000e+00 - 6T_Acc: 0.0000e+00 - 7T_Acc: 0.0000e+00 - 8T_Acc: 0.0000e+00 - 9T_Acc: 1.0000 - cm_per_epoch: 75.0000 - f1_micro: 0.1060 - f1_macro: 0.0257 - f1_weighted: 0.0259 - f1_notweighted: 0.0257\n",
            "Epoch 4/10\n",
            "235/235 [==============================] - 2s 7ms/step - loss: 2.2607 - categorical_accuracy: 0.1499 - val_loss: 2.0235 - val_categorical_accuracy: 0.2091 - 9T_4P: 0.0000e+00 - 4T_9P: 4.0000 - 0T_Acc: 0.8790 - 1T_Acc: 0.0000e+00 - 2T_Acc: 0.0000e+00 - 3T_Acc: 0.0000e+00 - 4T_Acc: 0.0000e+00 - 5T_Acc: 0.0000e+00 - 6T_Acc: 0.2195 - 7T_Acc: 0.9856 - 8T_Acc: 0.0301 - 9T_Acc: 0.0104 - cm_per_epoch: 75.0000 - f1_micro: 0.2091 - f1_macro: 0.1109 - f1_weighted: 0.1076 - f1_notweighted: 0.1109\n",
            "Epoch 5/10\n",
            "235/235 [==============================] - 2s 7ms/step - loss: 2.2419 - categorical_accuracy: 0.1877 - val_loss: 2.2096 - val_categorical_accuracy: 0.1560 - 9T_4P: 0.0000e+00 - 4T_9P: 749.0000 - 0T_Acc: 0.0320 - 1T_Acc: 0.0283 - 2T_Acc: 0.4056 - 3T_Acc: 0.0000e+00 - 4T_Acc: 0.0000e+00 - 5T_Acc: 0.0000e+00 - 6T_Acc: 0.0538 - 7T_Acc: 0.0000e+00 - 8T_Acc: 0.0000e+00 - 9T_Acc: 0.9974 - cm_per_epoch: 75.0000 - f1_micro: 0.1560 - f1_macro: 0.0924 - f1_weighted: 0.0953 - f1_notweighted: 0.0924\n",
            "Epoch 6/10\n",
            "235/235 [==============================] - 2s 7ms/step - loss: 2.2036 - categorical_accuracy: 0.1621 - val_loss: 2.1186 - val_categorical_accuracy: 0.1687 - 9T_4P: 0.0000e+00 - 4T_9P: 0.0000e+00 - 0T_Acc: 0.0987 - 1T_Acc: 0.0059 - 2T_Acc: 0.5446 - 3T_Acc: 0.0000e+00 - 4T_Acc: 0.0000e+00 - 5T_Acc: 0.0000e+00 - 6T_Acc: 0.0000e+00 - 7T_Acc: 1.0000 - 8T_Acc: 0.0000e+00 - 9T_Acc: 0.0000e+00 - cm_per_epoch: 75.0000 - f1_micro: 0.1687 - f1_macro: 0.0854 - f1_weighted: 0.0871 - f1_notweighted: 0.0854\n",
            "Epoch 7/10\n",
            "235/235 [==============================] - 2s 7ms/step - loss: 2.1013 - categorical_accuracy: 0.1957 - val_loss: 1.9635 - val_categorical_accuracy: 0.2256 - 9T_4P: 0.0000e+00 - 4T_9P: 0.0000e+00 - 0T_Acc: 0.3978 - 1T_Acc: 0.0212 - 2T_Acc: 0.0000e+00 - 3T_Acc: 0.0344 - 4T_Acc: 0.0000e+00 - 5T_Acc: 0.0000e+00 - 6T_Acc: 0.8598 - 7T_Acc: 0.9908 - 8T_Acc: 0.0000e+00 - 9T_Acc: 0.0000e+00 - cm_per_epoch: 75.0000 - f1_micro: 0.2256 - f1_macro: 0.1387 - f1_weighted: 0.1345 - f1_notweighted: 0.1387\n",
            "Epoch 8/10\n",
            "235/235 [==============================] - 2s 7ms/step - loss: 2.0451 - categorical_accuracy: 0.2206 - val_loss: 1.8459 - val_categorical_accuracy: 0.2812 - 9T_4P: 0.0000e+00 - 4T_9P: 0.0000e+00 - 0T_Acc: 0.5396 - 1T_Acc: 0.3027 - 2T_Acc: 0.8788 - 3T_Acc: 0.0371 - 4T_Acc: 0.0000e+00 - 5T_Acc: 0.0000e+00 - 6T_Acc: 0.0057 - 7T_Acc: 0.9751 - 8T_Acc: 0.0000e+00 - 9T_Acc: 0.0000e+00 - cm_per_epoch: 75.0000 - f1_micro: 0.2812 - f1_macro: 0.1911 - f1_weighted: 0.1960 - f1_notweighted: 0.1911\n",
            "Epoch 9/10\n",
            "235/235 [==============================] - 2s 7ms/step - loss: 2.0610 - categorical_accuracy: 0.2218 - val_loss: 1.9190 - val_categorical_accuracy: 0.2887 - 9T_4P: 0.0000e+00 - 4T_9P: 0.0000e+00 - 0T_Acc: 0.8748 - 1T_Acc: 0.9918 - 2T_Acc: 0.0255 - 3T_Acc: 0.6662 - 4T_Acc: 0.0000e+00 - 5T_Acc: 0.0000e+00 - 6T_Acc: 0.2422 - 7T_Acc: 0.0000e+00 - 8T_Acc: 0.0000e+00 - 9T_Acc: 0.0000e+00 - cm_per_epoch: 75.0000 - f1_micro: 0.2887 - f1_macro: 0.1970 - f1_weighted: 0.1959 - f1_notweighted: 0.1970\n",
            "Epoch 10/10\n",
            "235/235 [==============================] - 2s 7ms/step - loss: 1.9081 - categorical_accuracy: 0.2821 - val_loss: 2.2178 - val_categorical_accuracy: 0.2829 - 9T_4P: 0.0000e+00 - 4T_9P: 0.0000e+00 - 0T_Acc: 0.6676 - 1T_Acc: 0.1779 - 2T_Acc: 0.0000e+00 - 3T_Acc: 0.0000e+00 - 4T_Acc: 0.0000e+00 - 5T_Acc: 0.0843 - 6T_Acc: 0.9603 - 7T_Acc: 0.9711 - 8T_Acc: 0.0219 - 9T_Acc: 0.0000e+00 - cm_per_epoch: 75.0000 - f1_micro: 0.2829 - f1_macro: 0.1962 - f1_weighted: 0.1930 - f1_notweighted: 0.1962\n"
          ]
        },
        {
          "output_type": "display_data",
          "data": {
            "text/plain": [
              "<IPython.core.display.Javascript object>"
            ],
            "application/javascript": [
              "\n",
              "    async function download(id, filename, size) {\n",
              "      if (!google.colab.kernel.accessAllowed) {\n",
              "        return;\n",
              "      }\n",
              "      const div = document.createElement('div');\n",
              "      const label = document.createElement('label');\n",
              "      label.textContent = `Downloading \"${filename}\": `;\n",
              "      div.appendChild(label);\n",
              "      const progress = document.createElement('progress');\n",
              "      progress.max = size;\n",
              "      div.appendChild(progress);\n",
              "      document.body.appendChild(div);\n",
              "\n",
              "      const buffers = [];\n",
              "      let downloaded = 0;\n",
              "\n",
              "      const channel = await google.colab.kernel.comms.open(id);\n",
              "      // Send a message to notify the kernel that we're ready.\n",
              "      channel.send({})\n",
              "\n",
              "      for await (const message of channel.messages) {\n",
              "        // Send a message to notify the kernel that we're ready.\n",
              "        channel.send({})\n",
              "        if (message.buffers) {\n",
              "          for (const buffer of message.buffers) {\n",
              "            buffers.push(buffer);\n",
              "            downloaded += buffer.byteLength;\n",
              "            progress.value = downloaded;\n",
              "          }\n",
              "        }\n",
              "      }\n",
              "      const blob = new Blob(buffers, {type: 'application/binary'});\n",
              "      const a = document.createElement('a');\n",
              "      a.href = window.URL.createObjectURL(blob);\n",
              "      a.download = filename;\n",
              "      div.appendChild(a);\n",
              "      a.click();\n",
              "      div.remove();\n",
              "    }\n",
              "  "
            ]
          },
          "metadata": {}
        },
        {
          "output_type": "display_data",
          "data": {
            "text/plain": [
              "<IPython.core.display.Javascript object>"
            ],
            "application/javascript": [
              "download(\"download_35a0b41d-bc69-4419-b278-1d6e462b3e50\", \"initial_10_secondphase_lambda_history.pkl\", 39743)"
            ]
          },
          "metadata": {}
        },
        {
          "output_type": "display_data",
          "data": {
            "text/plain": [
              "<IPython.core.display.Javascript object>"
            ],
            "application/javascript": [
              "\n",
              "    async function download(id, filename, size) {\n",
              "      if (!google.colab.kernel.accessAllowed) {\n",
              "        return;\n",
              "      }\n",
              "      const div = document.createElement('div');\n",
              "      const label = document.createElement('label');\n",
              "      label.textContent = `Downloading \"${filename}\": `;\n",
              "      div.appendChild(label);\n",
              "      const progress = document.createElement('progress');\n",
              "      progress.max = size;\n",
              "      div.appendChild(progress);\n",
              "      document.body.appendChild(div);\n",
              "\n",
              "      const buffers = [];\n",
              "      let downloaded = 0;\n",
              "\n",
              "      const channel = await google.colab.kernel.comms.open(id);\n",
              "      // Send a message to notify the kernel that we're ready.\n",
              "      channel.send({})\n",
              "\n",
              "      for await (const message of channel.messages) {\n",
              "        // Send a message to notify the kernel that we're ready.\n",
              "        channel.send({})\n",
              "        if (message.buffers) {\n",
              "          for (const buffer of message.buffers) {\n",
              "            buffers.push(buffer);\n",
              "            downloaded += buffer.byteLength;\n",
              "            progress.value = downloaded;\n",
              "          }\n",
              "        }\n",
              "      }\n",
              "      const blob = new Blob(buffers, {type: 'application/binary'});\n",
              "      const a = document.createElement('a');\n",
              "      a.href = window.URL.createObjectURL(blob);\n",
              "      a.download = filename;\n",
              "      div.appendChild(a);\n",
              "      a.click();\n",
              "      div.remove();\n",
              "    }\n",
              "  "
            ]
          },
          "metadata": {}
        },
        {
          "output_type": "display_data",
          "data": {
            "text/plain": [
              "<IPython.core.display.Javascript object>"
            ],
            "application/javascript": [
              "download(\"download_eb6449b1-4384-45ca-9b43-514b360f434c\", \"initial_10_secondphase_lambda_cm.pkl\", 3291)"
            ]
          },
          "metadata": {}
        },
        {
          "output_type": "stream",
          "name": "stdout",
          "text": [
            "starting rep  0  for  1 -cost.\n",
            "Epoch 1/10\n",
            "235/235 [==============================] - 2s 8ms/step - loss: 0.2431 - categorical_accuracy: 0.9271 - val_loss: 0.1647 - val_categorical_accuracy: 0.9512 - 9T_4P: 20.0000 - 4T_9P: 14.0000 - 0T_Acc: 0.9819 - 1T_Acc: 0.9823 - 2T_Acc: 0.9605 - 3T_Acc: 0.9377 - 4T_Acc: 0.9559 - 5T_Acc: 0.9349 - 6T_Acc: 0.9575 - 7T_Acc: 0.9357 - 8T_Acc: 0.9398 - 9T_Acc: 0.9220 - cm_per_epoch: 75.0000 - f1_micro: 0.9512 - f1_macro: 0.9510 - f1_weighted: 0.9511 - f1_notweighted: 0.9510\n",
            "Epoch 2/10\n",
            "235/235 [==============================] - 2s 7ms/step - loss: 0.2341 - categorical_accuracy: 0.9301 - val_loss: 0.1685 - val_categorical_accuracy: 0.9499 - 9T_4P: 24.0000 - 4T_9P: 14.0000 - 0T_Acc: 0.9847 - 1T_Acc: 0.9812 - 2T_Acc: 0.9605 - 3T_Acc: 0.9245 - 4T_Acc: 0.9533 - 5T_Acc: 0.9438 - 6T_Acc: 0.9646 - 7T_Acc: 0.9409 - 8T_Acc: 0.9371 - 9T_Acc: 0.9064 - cm_per_epoch: 75.0000 - f1_micro: 0.9499 - f1_macro: 0.9495 - f1_weighted: 0.9498 - f1_notweighted: 0.9495\n",
            "Epoch 3/10\n",
            "235/235 [==============================] - 2s 8ms/step - loss: 0.2286 - categorical_accuracy: 0.9324 - val_loss: 0.1585 - val_categorical_accuracy: 0.9519 - 9T_4P: 25.0000 - 4T_9P: 13.0000 - 0T_Acc: 0.9847 - 1T_Acc: 0.9812 - 2T_Acc: 0.9477 - 3T_Acc: 0.9404 - 4T_Acc: 0.9626 - 5T_Acc: 0.9275 - 6T_Acc: 0.9603 - 7T_Acc: 0.9449 - 8T_Acc: 0.9453 - 9T_Acc: 0.9207 - cm_per_epoch: 75.0000 - f1_micro: 0.9519 - f1_macro: 0.9515 - f1_weighted: 0.9518 - f1_notweighted: 0.9515\n",
            "Epoch 4/10\n",
            "235/235 [==============================] - 2s 7ms/step - loss: 0.2222 - categorical_accuracy: 0.9350 - val_loss: 0.1611 - val_categorical_accuracy: 0.9512 - 9T_4P: 17.0000 - 4T_9P: 13.0000 - 0T_Acc: 0.9861 - 1T_Acc: 0.9847 - 2T_Acc: 0.9541 - 3T_Acc: 0.9536 - 4T_Acc: 0.9599 - 5T_Acc: 0.9157 - 6T_Acc: 0.9533 - 7T_Acc: 0.9541 - 8T_Acc: 0.9152 - 9T_Acc: 0.9285 - cm_per_epoch: 75.0000 - f1_micro: 0.9512 - f1_macro: 0.9508 - f1_weighted: 0.9511 - f1_notweighted: 0.9508\n",
            "Epoch 5/10\n",
            "235/235 [==============================] - 2s 7ms/step - loss: 0.2171 - categorical_accuracy: 0.9360 - val_loss: 0.1509 - val_categorical_accuracy: 0.9556 - 9T_4P: 11.0000 - 4T_9P: 21.0000 - 0T_Acc: 0.9861 - 1T_Acc: 0.9823 - 2T_Acc: 0.9630 - 3T_Acc: 0.9510 - 4T_Acc: 0.9466 - 5T_Acc: 0.9305 - 6T_Acc: 0.9618 - 7T_Acc: 0.9449 - 8T_Acc: 0.9480 - 9T_Acc: 0.9376 - cm_per_epoch: 75.0000 - f1_micro: 0.9556 - f1_macro: 0.9553 - f1_weighted: 0.9555 - f1_notweighted: 0.9553\n",
            "Epoch 6/10\n",
            "235/235 [==============================] - 2s 7ms/step - loss: 0.2139 - categorical_accuracy: 0.9377 - val_loss: 0.1488 - val_categorical_accuracy: 0.9556 - 9T_4P: 20.0000 - 4T_9P: 12.0000 - 0T_Acc: 0.9861 - 1T_Acc: 0.9823 - 2T_Acc: 0.9605 - 3T_Acc: 0.9457 - 4T_Acc: 0.9680 - 5T_Acc: 0.9527 - 6T_Acc: 0.9533 - 7T_Acc: 0.9436 - 8T_Acc: 0.9384 - 9T_Acc: 0.9233 - cm_per_epoch: 75.0000 - f1_micro: 0.9556 - f1_macro: 0.9553 - f1_weighted: 0.9555 - f1_notweighted: 0.9553\n",
            "Epoch 7/10\n",
            "235/235 [==============================] - 2s 7ms/step - loss: 0.2090 - categorical_accuracy: 0.9377 - val_loss: 0.1476 - val_categorical_accuracy: 0.9561 - 9T_4P: 18.0000 - 4T_9P: 13.0000 - 0T_Acc: 0.9861 - 1T_Acc: 0.9823 - 2T_Acc: 0.9656 - 3T_Acc: 0.9497 - 4T_Acc: 0.9599 - 5T_Acc: 0.9453 - 6T_Acc: 0.9589 - 7T_Acc: 0.9423 - 8T_Acc: 0.9398 - 9T_Acc: 0.9285 - cm_per_epoch: 75.0000 - f1_micro: 0.9561 - f1_macro: 0.9559 - f1_weighted: 0.9561 - f1_notweighted: 0.9559\n",
            "Epoch 8/10\n",
            "235/235 [==============================] - 2s 7ms/step - loss: 0.2059 - categorical_accuracy: 0.9392 - val_loss: 0.1460 - val_categorical_accuracy: 0.9571 - 9T_4P: 19.0000 - 4T_9P: 14.0000 - 0T_Acc: 0.9819 - 1T_Acc: 0.9823 - 2T_Acc: 0.9630 - 3T_Acc: 0.9550 - 4T_Acc: 0.9666 - 5T_Acc: 0.9423 - 6T_Acc: 0.9603 - 7T_Acc: 0.9501 - 8T_Acc: 0.9343 - 9T_Acc: 0.9311 - cm_per_epoch: 75.0000 - f1_micro: 0.9571 - f1_macro: 0.9567 - f1_weighted: 0.9570 - f1_notweighted: 0.9567\n",
            "Epoch 9/10\n",
            "235/235 [==============================] - 2s 7ms/step - loss: 0.1976 - categorical_accuracy: 0.9409 - val_loss: 0.1377 - val_categorical_accuracy: 0.9595 - 9T_4P: 18.0000 - 4T_9P: 14.0000 - 0T_Acc: 0.9847 - 1T_Acc: 0.9812 - 2T_Acc: 0.9656 - 3T_Acc: 0.9497 - 4T_Acc: 0.9626 - 5T_Acc: 0.9482 - 6T_Acc: 0.9660 - 7T_Acc: 0.9488 - 8T_Acc: 0.9576 - 9T_Acc: 0.9285 - cm_per_epoch: 75.0000 - f1_micro: 0.9595 - f1_macro: 0.9592 - f1_weighted: 0.9594 - f1_notweighted: 0.9592\n",
            "Epoch 10/10\n",
            "235/235 [==============================] - 2s 8ms/step - loss: 0.1958 - categorical_accuracy: 0.9416 - val_loss: 0.1390 - val_categorical_accuracy: 0.9593 - 9T_4P: 19.0000 - 4T_9P: 14.0000 - 0T_Acc: 0.9861 - 1T_Acc: 0.9847 - 2T_Acc: 0.9617 - 3T_Acc: 0.9563 - 4T_Acc: 0.9640 - 5T_Acc: 0.9453 - 6T_Acc: 0.9603 - 7T_Acc: 0.9514 - 8T_Acc: 0.9521 - 9T_Acc: 0.9285 - cm_per_epoch: 75.0000 - f1_micro: 0.9593 - f1_macro: 0.9591 - f1_weighted: 0.9593 - f1_notweighted: 0.9591\n"
          ]
        },
        {
          "output_type": "display_data",
          "data": {
            "text/plain": [
              "<IPython.core.display.Javascript object>"
            ],
            "application/javascript": [
              "\n",
              "    async function download(id, filename, size) {\n",
              "      if (!google.colab.kernel.accessAllowed) {\n",
              "        return;\n",
              "      }\n",
              "      const div = document.createElement('div');\n",
              "      const label = document.createElement('label');\n",
              "      label.textContent = `Downloading \"${filename}\": `;\n",
              "      div.appendChild(label);\n",
              "      const progress = document.createElement('progress');\n",
              "      progress.max = size;\n",
              "      div.appendChild(progress);\n",
              "      document.body.appendChild(div);\n",
              "\n",
              "      const buffers = [];\n",
              "      let downloaded = 0;\n",
              "\n",
              "      const channel = await google.colab.kernel.comms.open(id);\n",
              "      // Send a message to notify the kernel that we're ready.\n",
              "      channel.send({})\n",
              "\n",
              "      for await (const message of channel.messages) {\n",
              "        // Send a message to notify the kernel that we're ready.\n",
              "        channel.send({})\n",
              "        if (message.buffers) {\n",
              "          for (const buffer of message.buffers) {\n",
              "            buffers.push(buffer);\n",
              "            downloaded += buffer.byteLength;\n",
              "            progress.value = downloaded;\n",
              "          }\n",
              "        }\n",
              "      }\n",
              "      const blob = new Blob(buffers, {type: 'application/binary'});\n",
              "      const a = document.createElement('a');\n",
              "      a.href = window.URL.createObjectURL(blob);\n",
              "      a.download = filename;\n",
              "      div.appendChild(a);\n",
              "      a.click();\n",
              "      div.remove();\n",
              "    }\n",
              "  "
            ]
          },
          "metadata": {}
        },
        {
          "output_type": "display_data",
          "data": {
            "text/plain": [
              "<IPython.core.display.Javascript object>"
            ],
            "application/javascript": [
              "download(\"download_cc5b1de9-2d97-417f-9a3e-cd33f31765c9\", \"initial_10_secondphase_lambda_history.pkl\", 52857)"
            ]
          },
          "metadata": {}
        },
        {
          "output_type": "display_data",
          "data": {
            "text/plain": [
              "<IPython.core.display.Javascript object>"
            ],
            "application/javascript": [
              "\n",
              "    async function download(id, filename, size) {\n",
              "      if (!google.colab.kernel.accessAllowed) {\n",
              "        return;\n",
              "      }\n",
              "      const div = document.createElement('div');\n",
              "      const label = document.createElement('label');\n",
              "      label.textContent = `Downloading \"${filename}\": `;\n",
              "      div.appendChild(label);\n",
              "      const progress = document.createElement('progress');\n",
              "      progress.max = size;\n",
              "      div.appendChild(progress);\n",
              "      document.body.appendChild(div);\n",
              "\n",
              "      const buffers = [];\n",
              "      let downloaded = 0;\n",
              "\n",
              "      const channel = await google.colab.kernel.comms.open(id);\n",
              "      // Send a message to notify the kernel that we're ready.\n",
              "      channel.send({})\n",
              "\n",
              "      for await (const message of channel.messages) {\n",
              "        // Send a message to notify the kernel that we're ready.\n",
              "        channel.send({})\n",
              "        if (message.buffers) {\n",
              "          for (const buffer of message.buffers) {\n",
              "            buffers.push(buffer);\n",
              "            downloaded += buffer.byteLength;\n",
              "            progress.value = downloaded;\n",
              "          }\n",
              "        }\n",
              "      }\n",
              "      const blob = new Blob(buffers, {type: 'application/binary'});\n",
              "      const a = document.createElement('a');\n",
              "      a.href = window.URL.createObjectURL(blob);\n",
              "      a.download = filename;\n",
              "      div.appendChild(a);\n",
              "      a.click();\n",
              "      div.remove();\n",
              "    }\n",
              "  "
            ]
          },
          "metadata": {}
        },
        {
          "output_type": "display_data",
          "data": {
            "text/plain": [
              "<IPython.core.display.Javascript object>"
            ],
            "application/javascript": [
              "download(\"download_68e91cba-0651-44b5-8950-cd40c1033644\", \"initial_10_secondphase_lambda_cm.pkl\", 4244)"
            ]
          },
          "metadata": {}
        }
      ]
    },
    {
      "cell_type": "markdown",
      "source": [
        "#### Download the multiple runs and reps of Model History from training with different lambda values\n",
        "\n",
        "\n",
        "Also commented out because once everything is ran and saved, I don't want to accidentally save additional files"
      ],
      "metadata": {
        "id": "7z0g0vdr2w05"
      }
    },
    {
      "cell_type": "code",
      "source": [
        "# # Download the history\n",
        "# from google.colab import files\n",
        "\n",
        "\n",
        "# #  SUPER IMPORTANT ~~~~~~~~~~~~~~~~~~~~~~~~~~~~~~~~~~~~~~~~~~~~~~~~~\n",
        "# for item in model_history_all:\n",
        "#   # item.history\n",
        "#   del item.model\n",
        "# # IF YOU DON'T DELETE THE MODEL YOU WON'T BE ABLE TO UNPICKLE YOUR RESULTS AND THAT WILL SUCK AND YOU WILL CRY\n",
        "# # and no ones wants to see you ugly cry over hours of wasted coding\n",
        "\n",
        "\n",
        "# import pickle\n",
        "\n",
        "# # create a variable\n",
        "# #model_history_all #50 items\n",
        "# #cm_all #50 items\n",
        "\n",
        "# # save the variable to a pickle file\n",
        "# with open('initial_10_secondphase_lambda_history.pkl', 'wb') as f:\n",
        "#     pickle.dump(model_history_all, f)\n",
        "\n",
        "# files.download('initial_10_secondphase_lambda_history.pkl')\n",
        "\n",
        "# with open('initial_10_secondphase_lambda_cm.pkl', 'wb') as f:\n",
        "#     pickle.dump(cm_all, f)\n",
        "\n",
        "# files.download('initial_10_secondphase_lambda_cm.pkl')\n"
      ],
      "metadata": {
        "id": "JLt4gsflmpun"
      },
      "execution_count": 11,
      "outputs": []
    },
    {
      "cell_type": "markdown",
      "source": [
        "#### Load Model History Variables from Pickle Files - must have weighted-categorical-accuracy defined"
      ],
      "metadata": {
        "id": "WPmV3ALQcsjS"
      }
    },
    {
      "cell_type": "code",
      "source": [
        "#Upload and save the history to variable \n",
        "import pickle\n",
        "\n",
        "# #load the pickle file\n",
        "with open('initial_10_secondphase_lambda_history.pkl', 'rb') as handle:\n",
        "    model_history_all = pickle.load(handle)\n",
        "\n",
        "# import keras\n",
        "# keras.models.load_model('initial_10_secondphase_lambda_history.pkl')\n",
        "#use the loaded variable\n",
        "print(model_history_all)\n",
        "\n",
        "# #load the pickle file\n",
        "with open('initial_10_secondphase_lambda_cm.pkl', 'rb') as handle:\n",
        "    cm_all = pickle.load(handle)\n",
        "\n",
        "# use the loaded variable\n",
        "print(cm_all)\n",
        "\n",
        " "
      ],
      "metadata": {
        "id": "dXFoZGvVZ1oE",
        "outputId": "f049e795-2491-4deb-d6d6-f3c211c94b24",
        "colab": {
          "base_uri": "https://localhost:8080/"
        }
      },
      "execution_count": 12,
      "outputs": [
        {
          "output_type": "stream",
          "name": "stdout",
          "text": [
            "[<keras.callbacks.History object at 0x7f8a8b3b52a0>, <keras.callbacks.History object at 0x7f8973241480>, <keras.callbacks.History object at 0x7f8973242740>, <keras.callbacks.History object at 0x7f8973456500>]\n",
            "[     0    1    2    3    4    5    6    7    8    9\n",
            "0  707    0    0    1    1    2    3    1    4    0\n",
            "1    0  837    3    2    0    2    2    1    2    0\n",
            "2    3    2  753    4    5    0    4    9    4    0\n",
            "3    2    1   10  718    0    6    1   10    5    2\n",
            "4    1    1    3    0  704    0    5    1    2   32\n",
            "5    5    1    0    9    4  640    5    3    7    2\n",
            "6    6    2    2    0    8    5  677    1    5    0\n",
            "7    1   11    8    3    3    0    0  724    2   10\n",
            "8    5    3    2    6    4    3    1    7  696    4\n",
            "9    4    4    1    7    6    1    0    6    7  733,      0    1    2    3    4    5    6    7    8    9\n",
            "0  709    0    0    0    0    2    0    2    5    1\n",
            "1    0  833    4    3    0    0    2    1    6    0\n",
            "2    4    3  739    9    2    0    2   12   11    2\n",
            "3    1    1    8  721    0    7    0    7    5    5\n",
            "4    1    1    1    0  389    0    6    1    2  348\n",
            "5    6    1    0   12    3  631    4    4    8    7\n",
            "6   10    3    2    0    8    7  668    1    6    1\n",
            "7    2    6    9    8    0    0    0  710    3   24\n",
            "8    4    2    4    6    1    1    1    8  692   12\n",
            "9    5    3    1    8    2    0    0    6    4  740,      0    1  2  3  4   5    6    7    8  9\n",
            "0  480    5  0  0  0  43  180    9    2  0\n",
            "1    0  151  0  0  0   0  586  112    0  0\n",
            "2    4   16  0  0  0   0  709   55    0  0\n",
            "3    3   21  0  0  0  77  117  436  101  0\n",
            "4    0    3  0  0  0   0   23  722    1  0\n",
            "5   12   34  0  1  0  57   89  382  101  0\n",
            "6    2    7  0  0  0   1  678   16    2  0\n",
            "7    0    6  0  0  0   1   14  740    1  0\n",
            "8    0   63  0  0  0  18   75  559   16  0\n",
            "9    1    5  0  0  0   2    6  755    0  0,      0    1    2    3    4    5    6    7    8    9\n",
            "0  709    0    0    1    0    2    3    1    3    0\n",
            "1    0  836    4    2    0    2    2    1    2    0\n",
            "2    4    2  754    4    5    0    4    7    4    0\n",
            "3    2    1    7  722    0    5    1   10    6    1\n",
            "4    1    1    3    0  722    0    5    1    2   14\n",
            "5    5    1    0   11    3  639    5    3    7    2\n",
            "6    7    3    0    0    8    5  678    0    5    0\n",
            "7    1   10    9    1    3    0    0  725    2   11\n",
            "8    4    2    2    6    5    4    2    7  696    3\n",
            "9    6    5    1    9   19    1    0    8    6  714]\n"
          ]
        }
      ]
    },
    {
      "cell_type": "markdown",
      "source": [
        "#### Example of how to concatenate multiple dataframes without causing an error.  Have to use pandas concatenate function."
      ],
      "metadata": {
        "id": "smchxHuJ3MsN"
      }
    },
    {
      "cell_type": "code",
      "source": [
        "#@title\n",
        "import pandas as pd\n",
        "\n",
        "# Create an empty dataframe\n",
        "df = pd.DataFrame()\n",
        "\n",
        "# Create a list of data\n",
        "data = [1, 2, 3, 4, 5]\n",
        "\n",
        "# Use a for loop to fill the dataframe\n",
        "for x in data:\n",
        "    df = pd.concat([df, pd.DataFrame({'Number':[x], 'Square':[x**2]})], ignore_index=True)\n",
        "\n",
        "# Show the dataframe\n",
        "print(df)"
      ],
      "metadata": {
        "id": "oGYSkVqqk0xw",
        "outputId": "1b867bb5-94d6-4058-dd63-443b1f10e4ef",
        "colab": {
          "base_uri": "https://localhost:8080/"
        }
      },
      "execution_count": 13,
      "outputs": [
        {
          "output_type": "stream",
          "name": "stdout",
          "text": [
            "   Number  Square\n",
            "0       1       1\n",
            "1       2       4\n",
            "2       3       9\n",
            "3       4      16\n",
            "4       5      25\n"
          ]
        }
      ]
    },
    {
      "cell_type": "markdown",
      "source": [
        "#### Loading the data into a Dataframe to be saved as a CSV file"
      ],
      "metadata": {
        "id": "IR2BLyPT3YFL"
      }
    },
    {
      "cell_type": "code",
      "source": [
        "#I want to break out the model_history and cm_history into a dataframe to be referenced by Cost and Rep\n",
        "import pandas as pd\n",
        "df = pd.DataFrame()\n",
        "count=1\n",
        "\n",
        "\n",
        "#It'd be better if i could refer to the \"cost\"/lambda2 as a variable in the model_history, \n",
        "# but i recreated it here\n",
        "\n",
        "cost_list = [10, 100, 1000, 1] # Each one takes about 2 minutes 5*4*2=40 minutes for 5 costs/4 reps -- actually all took 40 reps took almost  1.5 hours\n",
        "\n",
        "# cost_list = [ 10]\n",
        "\n",
        "for k in cost_list:\n",
        "\n",
        "  \n",
        "#It'd be better if i could refer to the reps a variable in the model_history, \n",
        "# but i recreated it here as the range(10) that was originally used\n",
        "\n",
        "  for i in range(1):\n",
        "    # print(\"k: \", k, \"i: \", i)\n",
        "    df = pd.concat([df, pd.DataFrame({\"cost\": [k], \"rep\": [i],\n",
        "                                      \"model_history\": [model_history_all[count-1]],\n",
        "                                      # \"cm\": [cm_all[count-1]]\n",
        "                                      })] , \n",
        "                   ignore_index=True )\n",
        "    count+=1    \n",
        "\n",
        "\n",
        "# I create a dataframe with CSV but  don't save/download it \n",
        "df.to_csv('dataframe.csv',index=False)\n",
        "\n"
      ],
      "metadata": {
        "id": "Vw6G6TnPiVrJ"
      },
      "execution_count": 14,
      "outputs": []
    },
    {
      "cell_type": "code",
      "source": [
        "#I want to add the 50 epochs i did of lambda1 = 1 using SGD to this list\n",
        "\n",
        "df = pd.concat([df, pd.DataFrame({\"cost\": 1, \"rep\": 1,\n",
        "                                      \"model_history\": [model_history],\n",
        "                                      # \"cm\": [cm_all[count-1]]\n",
        "                                      })] , \n",
        "                   ignore_index=True )"
      ],
      "metadata": {
        "id": "lNqjDelK9VLl"
      },
      "execution_count": 15,
      "outputs": []
    },
    {
      "cell_type": "markdown",
      "source": [
        "##### Example of using df.groupby in a for loop to plot multiple types of data - doesn't include Label\n",
        "```\n",
        "for group in df.groupby(\"cost\"): \n",
        "  fig = plt.figure(figsize=(20, 10))  \n",
        "  fig, ax = plt.subplots(1,2) \n",
        "  ax[0].scatter(group[1][\"cost\"], group[1][\"quantity\"]) \n",
        "  ax[0].set_title(\"cost vs. quantity\") \n",
        "  ax[1].scatter(group[1][\"cost\"], group[1][\"revenue\"]) \n",
        "  ax[1].set_title(\"cost vs. revenue\")\n",
        "  plt.show()\n",
        "\n",
        "```\n"
      ],
      "metadata": {
        "id": "zKCVz62dUpBC"
      }
    },
    {
      "cell_type": "code",
      "source": [
        "import matplotlib.pyplot as plt\n",
        "import numpy as np\n",
        "import seaborn as sns\n",
        "\n",
        "import time\n",
        "nb_epoch = 50\n",
        "patience = 0\n",
        "df.groupby(\"cost\")\n",
        "\n",
        "for x, group in df.groupby(\"cost\"):\n",
        "  fig = plt.figure(figsize=(20, 10)) \n",
        "  fig, ax = plt.subplots(1,2)\n",
        "  print(\"Group of Lambda-Value:\",   x)\n",
        "\n",
        "  # group\n",
        "  for item in group.model_history:\n",
        "    plot_model_history_all(item)    \n",
        "  plt.show()\n",
        "    # for item, cm3 in zip(group.model_history, group.cm):\n",
        "\n",
        "  #   # cm3_wodiag = cm3*(np.ones((10,10)) - np.eye(10))\n",
        "\n",
        "  #   # ax[2] = sns.heatmap(cm3_wodiag, annot=True, annot_kws={\"size\": 7},  fmt='g', cmap=sns.cm.rocket_r, cbar=False) # font size\n",
        "  #   # ax[2].set_xlabel('Predicted Class')\n",
        "  #   # ax[2].set_ylabel('True Class')\n",
        "  #   # ax[2].set_title('# of misclassifications of 9 as 4 is '+str(cm3[4][9]))\n",
        "  #   # cbar = ax[2].collections[0].colorbar\n",
        "  #   # cbar.remove() # Just takes up valuable room and is worthless\n",
        "  #   plot_model_history_all(item)    \n",
        "\n",
        "  #   #   ax[0].set_title(\"Lambda Value of\"+str(df[\"cost\"]))\n",
        "    \n",
        "  # #   # print(0+r,' to ', r+4+1)  #Correct"
      ],
      "metadata": {
        "id": "DSA5-95WZkj3",
        "outputId": "1a4dba10-ba26-4ed0-9c56-c4210291bfdd",
        "colab": {
          "base_uri": "https://localhost:8080/",
          "height": 1000
        }
      },
      "execution_count": 16,
      "outputs": [
        {
          "output_type": "stream",
          "name": "stdout",
          "text": [
            "Group of Lambda-Value: 1\n"
          ]
        },
        {
          "output_type": "display_data",
          "data": {
            "text/plain": [
              "<Figure size 2000x1000 with 0 Axes>"
            ]
          },
          "metadata": {}
        },
        {
          "output_type": "display_data",
          "data": {
            "text/plain": [
              "<Figure size 1000x500 with 2 Axes>"
            ],
            "image/png": "[encoded data removed]"
          },
          "metadata": {}
        },
        {
          "output_type": "stream",
          "name": "stdout",
          "text": [
            "Group of Lambda-Value: 10\n"
          ]
        },
        {
          "output_type": "display_data",
          "data": {
            "text/plain": [
              "<Figure size 2000x1000 with 0 Axes>"
            ]
          },
          "metadata": {}
        },
        {
          "output_type": "display_data",
          "data": {
            "text/plain": [
              "<Figure size 1000x500 with 2 Axes>"
            ],
            "image/png": "[encoded data removed]"
          },
          "metadata": {}
        },
        {
          "output_type": "stream",
          "name": "stdout",
          "text": [
            "Group of Lambda-Value: 100\n"
          ]
        },
        {
          "output_type": "display_data",
          "data": {
            "text/plain": [
              "<Figure size 2000x1000 with 0 Axes>"
            ]
          },
          "metadata": {}
        },
        {
          "output_type": "display_data",
          "data": {
            "text/plain": [
              "<Figure size 1000x500 with 2 Axes>"
            ],
            "image/png": "[encoded data removed]"
          },
          "metadata": {}
        },
        {
          "output_type": "stream",
          "name": "stdout",
          "text": [
            "Group of Lambda-Value: 1000\n"
          ]
        },
        {
          "output_type": "display_data",
          "data": {
            "text/plain": [
              "<Figure size 2000x1000 with 0 Axes>"
            ]
          },
          "metadata": {}
        },
        {
          "output_type": "display_data",
          "data": {
            "text/plain": [
              "<Figure size 1000x500 with 2 Axes>"
            ],
            "image/png": "[encoded data removed]"
          },
          "metadata": {}
        }
      ]
    }
  ]
}